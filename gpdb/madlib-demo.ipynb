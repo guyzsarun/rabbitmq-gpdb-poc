{
 "cells": [
  {
   "cell_type": "markdown",
   "id": "81dce510-c17f-4e05-9d70-40b049404558",
   "metadata": {},
   "source": [
    "## MADlib Greenplum Demo\n",
    "---"
   ]
  },
  {
   "cell_type": "markdown",
   "id": "222f598c-5da6-4931-bd9e-9af36d1dc84d",
   "metadata": {},
   "source": [
    "### Import neccessary Data Science libraries"
   ]
  },
  {
   "cell_type": "code",
   "execution_count": 44,
   "id": "1fff5feb-54f5-4025-9dae-0ed5925c9fbe",
   "metadata": {
    "execution": {
     "iopub.execute_input": "2021-10-07T09:43:36.822511Z",
     "iopub.status.busy": "2021-10-07T09:43:36.822270Z",
     "iopub.status.idle": "2021-10-07T09:43:37.076669Z",
     "shell.execute_reply": "2021-10-07T09:43:37.075805Z",
     "shell.execute_reply.started": "2021-10-07T09:43:36.822486Z"
    },
    "tags": []
   },
   "outputs": [
    {
     "ename": "ModuleNotFoundError",
     "evalue": "No module named 'sklearn'",
     "output_type": "error",
     "traceback": [
      "\u001b[0;31m---------------------------------------------------------------------------\u001b[0m",
      "\u001b[0;31mModuleNotFoundError\u001b[0m                       Traceback (most recent call last)",
      "\u001b[0;32m<ipython-input-44-9b0f122013fa>\u001b[0m in \u001b[0;36m<module>\u001b[0;34m\u001b[0m\n\u001b[1;32m      3\u001b[0m \u001b[0;32mimport\u001b[0m \u001b[0mseaborn\u001b[0m \u001b[0;32mas\u001b[0m \u001b[0msns\u001b[0m\u001b[0;34m\u001b[0m\u001b[0;34m\u001b[0m\u001b[0m\n\u001b[1;32m      4\u001b[0m \u001b[0;32mimport\u001b[0m \u001b[0mmatplotlib\u001b[0m\u001b[0;34m.\u001b[0m\u001b[0mpyplot\u001b[0m \u001b[0;32mas\u001b[0m \u001b[0mplt\u001b[0m\u001b[0;34m\u001b[0m\u001b[0;34m\u001b[0m\u001b[0m\n\u001b[0;32m----> 5\u001b[0;31m \u001b[0;32mfrom\u001b[0m \u001b[0msklearn\u001b[0m\u001b[0;34m.\u001b[0m\u001b[0mmetrics\u001b[0m \u001b[0;32mimport\u001b[0m \u001b[0mclassification_report\u001b[0m\u001b[0;34m\u001b[0m\u001b[0;34m\u001b[0m\u001b[0m\n\u001b[0m\u001b[1;32m      6\u001b[0m \u001b[0mpd\u001b[0m\u001b[0;34m.\u001b[0m\u001b[0mset_option\u001b[0m\u001b[0;34m(\u001b[0m\u001b[0;34m'display.max_columns'\u001b[0m\u001b[0;34m,\u001b[0m \u001b[0;36m200\u001b[0m\u001b[0;34m)\u001b[0m\u001b[0;34m\u001b[0m\u001b[0;34m\u001b[0m\u001b[0m\n",
      "\u001b[0;31mModuleNotFoundError\u001b[0m: No module named 'sklearn'"
     ]
    }
   ],
   "source": [
    "import pandas as pd\n",
    "import numpy as np\n",
    "import seaborn as sns\n",
    "import matplotlib.pyplot as plt\n",
    "from sklearn.metrics import classification_report\n",
    "pd.set_option('display.max_columns', 200)"
   ]
  },
  {
   "cell_type": "markdown",
   "id": "09157fb2-2108-4d53-9353-aa3068b76918",
   "metadata": {},
   "source": [
    "Connect to Greenplum Database"
   ]
  },
  {
   "cell_type": "code",
   "execution_count": 3,
   "id": "45035b3a-0cc9-486f-aa0c-62908680f7e2",
   "metadata": {
    "execution": {
     "iopub.execute_input": "2021-10-07T09:40:45.315137Z",
     "iopub.status.busy": "2021-10-07T09:40:45.314919Z",
     "iopub.status.idle": "2021-10-07T09:40:45.485420Z",
     "shell.execute_reply": "2021-10-07T09:40:45.484798Z",
     "shell.execute_reply.started": "2021-10-07T09:40:45.315112Z"
    },
    "tags": []
   },
   "outputs": [],
   "source": [
    "%load_ext sql"
   ]
  },
  {
   "cell_type": "code",
   "execution_count": 4,
   "id": "a57ee55c-91f9-4427-b7f7-180b2c5d4aae",
   "metadata": {
    "execution": {
     "iopub.execute_input": "2021-10-07T09:40:45.487458Z",
     "iopub.status.busy": "2021-10-07T09:40:45.487247Z",
     "iopub.status.idle": "2021-10-07T09:40:47.348848Z",
     "shell.execute_reply": "2021-10-07T09:40:47.347733Z",
     "shell.execute_reply.started": "2021-10-07T09:40:45.487433Z"
    },
    "tags": []
   },
   "outputs": [
    {
     "name": "stdout",
     "output_type": "stream",
     "text": [
      "|-------------|------------------------------------------------------|--------------|------------------------------|\n",
      "|  NAMESPACE  |                         NAME                         | TARGET PORT  |             URL              |\n",
      "|-------------|------------------------------------------------------|--------------|------------------------------|\n",
      "| default     | agent                                                | No node port |\n",
      "| default     | greenplum                                            | psql/5432    | http://192.168.133.128:32000 |\n",
      "| default     | greenplum-validating-webhook-service-9d44d9fcf-t26tq | No node port |\n",
      "| default     | kubernetes                                           | No node port |\n",
      "| default     | my-greenplum-pl                                      | No node port |\n",
      "| default     | my-greenplum-pxf                                     | No node port |\n",
      "| kube-system | kube-dns                                             | No node port |\n",
      "|-------------|------------------------------------------------------|--------------|------------------------------|\n"
     ]
    }
   ],
   "source": [
    "!minikube service list"
   ]
  },
  {
   "cell_type": "code",
   "execution_count": 5,
   "id": "f898f542-6fb9-4220-8ca2-a9ba6b452563",
   "metadata": {
    "execution": {
     "iopub.execute_input": "2021-10-07T09:40:47.351445Z",
     "iopub.status.busy": "2021-10-07T09:40:47.351171Z",
     "iopub.status.idle": "2021-10-07T09:40:47.510151Z",
     "shell.execute_reply": "2021-10-07T09:40:47.509305Z",
     "shell.execute_reply.started": "2021-10-07T09:40:47.351408Z"
    },
    "tags": []
   },
   "outputs": [
    {
     "name": "stdout",
     "output_type": "stream",
     "text": [
      " * postgresql://gpadmin@192.168.133.128:32000/db\n",
      "1 rows affected.\n"
     ]
    },
    {
     "name": "stderr",
     "output_type": "stream",
     "text": [
      "/usr/local/anaconda3/envs/madlib/lib/python3.6/site-packages/psycopg2/__init__.py:144: UserWarning: The psycopg2 wheel package will be renamed from release 2.8; in order to keep installing from binary please use \"pip install psycopg2-binary\" instead. For details see: <http://initd.org/psycopg/docs/install.html#binary-install-from-pypi>.\n",
      "  \"\"\")\n"
     ]
    },
    {
     "data": {
      "text/html": [
       "<table>\n",
       "    <tr>\n",
       "        <th>version</th>\n",
       "    </tr>\n",
       "    <tr>\n",
       "        <td>PostgreSQL 9.4.24 (Greenplum Database 6.11.2 build commit:d611e78af2c5a6561ccbbaf2b4652138410f9aeb) on x86_64-unknown-linux-gnu, compiled by gcc (Ubuntu 7.5.0-3ubuntu1~18.04) 7.5.0, 64-bit compiled on Sep 30 2020 05:25:08</td>\n",
       "    </tr>\n",
       "</table>"
      ],
      "text/plain": [
       "[('PostgreSQL 9.4.24 (Greenplum Database 6.11.2 build commit:d611e78af2c5a6561ccbbaf2b4652138410f9aeb) on x86_64-unknown-linux-gnu, compiled by gcc (Ubuntu 7.5.0-3ubuntu1~18.04) 7.5.0, 64-bit compiled on Sep 30 2020 05:25:08',)]"
      ]
     },
     "execution_count": 5,
     "metadata": {},
     "output_type": "execute_result"
    }
   ],
   "source": [
    "%sql postgresql://gpadmin@192.168.133.128:32000/db\n",
    "\n",
    "        \n",
    "%sql SELECT version();"
   ]
  },
  {
   "cell_type": "markdown",
   "id": "dbde5ef6-811b-471d-9021-416f311d50ae",
   "metadata": {},
   "source": [
    "### Check Database Data"
   ]
  },
  {
   "cell_type": "code",
   "execution_count": 6,
   "id": "6cdd0301-7bb6-47dc-a688-56ba3df9920d",
   "metadata": {
    "execution": {
     "iopub.execute_input": "2021-10-07T09:40:47.511472Z",
     "iopub.status.busy": "2021-10-07T09:40:47.511195Z",
     "iopub.status.idle": "2021-10-07T09:40:47.802128Z",
     "shell.execute_reply": "2021-10-07T09:40:47.801376Z",
     "shell.execute_reply.started": "2021-10-07T09:40:47.511447Z"
    },
    "tags": []
   },
   "outputs": [
    {
     "name": "stdout",
     "output_type": "stream",
     "text": [
      " * postgresql://gpadmin@192.168.133.128:32000/db\n",
      "1 rows affected.\n"
     ]
    },
    {
     "data": {
      "text/html": [
       "<table>\n",
       "    <tr>\n",
       "        <th>num_sample</th>\n",
       "    </tr>\n",
       "    <tr>\n",
       "        <td>200000</td>\n",
       "    </tr>\n",
       "</table>"
      ],
      "text/plain": [
       "[(200000,)]"
      ]
     },
     "execution_count": 6,
     "metadata": {},
     "output_type": "execute_result"
    }
   ],
   "source": [
    "%%sql\n",
    "\n",
    "\n",
    "SELECT COUNT(*) AS num_sample FROM sensors;"
   ]
  },
  {
   "cell_type": "code",
   "execution_count": 7,
   "id": "f4efe7c1-ee80-4e96-85be-0deb6cf1d3e0",
   "metadata": {
    "execution": {
     "iopub.execute_input": "2021-10-07T09:40:47.803448Z",
     "iopub.status.busy": "2021-10-07T09:40:47.803093Z",
     "iopub.status.idle": "2021-10-07T09:40:47.813915Z",
     "shell.execute_reply": "2021-10-07T09:40:47.813324Z",
     "shell.execute_reply.started": "2021-10-07T09:40:47.803421Z"
    },
    "tags": []
   },
   "outputs": [
    {
     "name": "stdout",
     "output_type": "stream",
     "text": [
      " * postgresql://gpadmin@192.168.133.128:32000/db\n",
      "10 rows affected.\n"
     ]
    },
    {
     "data": {
      "text/html": [
       "<table>\n",
       "    <tr>\n",
       "        <th>timestamp</th>\n",
       "        <th>temperature</th>\n",
       "        <th>temperature_2</th>\n",
       "        <th>humidity</th>\n",
       "        <th>pm25</th>\n",
       "    </tr>\n",
       "    <tr>\n",
       "        <td>1997-03-22 00:00:00</td>\n",
       "        <td>30.6668585650253</td>\n",
       "        <td>42.9052858044298</td>\n",
       "        <td>69.2785492479998</td>\n",
       "        <td>73.1767528823951</td>\n",
       "    </tr>\n",
       "    <tr>\n",
       "        <td>1997-03-22 04:00:00</td>\n",
       "        <td>32.2240553161353</td>\n",
       "        <td>48.4451885030855</td>\n",
       "        <td>61.2088571248697</td>\n",
       "        <td>103.956207334568</td>\n",
       "    </tr>\n",
       "    <tr>\n",
       "        <td>1997-03-22 12:00:00</td>\n",
       "        <td>32.4185793403592</td>\n",
       "        <td>46.2930967363855</td>\n",
       "        <td>69.3046298170464</td>\n",
       "        <td>87.3012012853493</td>\n",
       "    </tr>\n",
       "    <tr>\n",
       "        <td>1997-03-22 20:00:00</td>\n",
       "        <td>31.6889779538602</td>\n",
       "        <td>50.3771697898689</td>\n",
       "        <td>53.2251690054103</td>\n",
       "        <td>76.757504341768</td>\n",
       "    </tr>\n",
       "    <tr>\n",
       "        <td>1997-03-22 21:00:00</td>\n",
       "        <td>31.414135143836</td>\n",
       "        <td>45.8292816079858</td>\n",
       "        <td>53.655786244688</td>\n",
       "        <td>77.837155684718</td>\n",
       "    </tr>\n",
       "    <tr>\n",
       "        <td>1997-03-22 22:00:00</td>\n",
       "        <td>31.5117735558417</td>\n",
       "        <td>49.7762550293786</td>\n",
       "        <td>31.5185341489772</td>\n",
       "        <td>98.0131261241892</td>\n",
       "    </tr>\n",
       "    <tr>\n",
       "        <td>1997-03-23 04:00:00</td>\n",
       "        <td>30.9732062825728</td>\n",
       "        <td>50.7305651158765</td>\n",
       "        <td>51.6463117699311</td>\n",
       "        <td>76.6613962119159</td>\n",
       "    </tr>\n",
       "    <tr>\n",
       "        <td>1997-03-23 06:00:00</td>\n",
       "        <td>31.1456715016839</td>\n",
       "        <td>50.5883567654865</td>\n",
       "        <td>50.6392021695488</td>\n",
       "        <td>77.1011145867884</td>\n",
       "    </tr>\n",
       "    <tr>\n",
       "        <td>1997-03-23 08:00:00</td>\n",
       "        <td>32.9173479628012</td>\n",
       "        <td>48.2255788669841</td>\n",
       "        <td>62.5489084902205</td>\n",
       "        <td>87.1120555127665</td>\n",
       "    </tr>\n",
       "    <tr>\n",
       "        <td>1997-03-23 12:00:00</td>\n",
       "        <td>32.5277304291036</td>\n",
       "        <td>47.7246721062276</td>\n",
       "        <td>15.1710744913787</td>\n",
       "        <td>91.5709933365243</td>\n",
       "    </tr>\n",
       "</table>"
      ],
      "text/plain": [
       "[(datetime.datetime(1997, 3, 22, 0, 0), 30.6668585650253, 42.9052858044298, 69.2785492479998, 73.1767528823951),\n",
       " (datetime.datetime(1997, 3, 22, 4, 0), 32.2240553161353, 48.4451885030855, 61.2088571248697, 103.956207334568),\n",
       " (datetime.datetime(1997, 3, 22, 12, 0), 32.4185793403592, 46.2930967363855, 69.3046298170464, 87.3012012853493),\n",
       " (datetime.datetime(1997, 3, 22, 20, 0), 31.6889779538602, 50.3771697898689, 53.2251690054103, 76.757504341768),\n",
       " (datetime.datetime(1997, 3, 22, 21, 0), 31.414135143836, 45.8292816079858, 53.655786244688, 77.837155684718),\n",
       " (datetime.datetime(1997, 3, 22, 22, 0), 31.5117735558417, 49.7762550293786, 31.5185341489772, 98.0131261241892),\n",
       " (datetime.datetime(1997, 3, 23, 4, 0), 30.9732062825728, 50.7305651158765, 51.6463117699311, 76.6613962119159),\n",
       " (datetime.datetime(1997, 3, 23, 6, 0), 31.1456715016839, 50.5883567654865, 50.6392021695488, 77.1011145867884),\n",
       " (datetime.datetime(1997, 3, 23, 8, 0), 32.9173479628012, 48.2255788669841, 62.5489084902205, 87.1120555127665),\n",
       " (datetime.datetime(1997, 3, 23, 12, 0), 32.5277304291036, 47.7246721062276, 15.1710744913787, 91.5709933365243)]"
      ]
     },
     "execution_count": 7,
     "metadata": {},
     "output_type": "execute_result"
    }
   ],
   "source": [
    "%%sql\n",
    "\n",
    "SELECT * FROM sensors LIMIT 10;"
   ]
  },
  {
   "cell_type": "code",
   "execution_count": 8,
   "id": "9bb8da4d-fecb-42a7-a95d-d940f34ac9e6",
   "metadata": {
    "execution": {
     "iopub.execute_input": "2021-10-07T09:40:47.815244Z",
     "iopub.status.busy": "2021-10-07T09:40:47.814957Z",
     "iopub.status.idle": "2021-10-07T09:40:47.900923Z",
     "shell.execute_reply": "2021-10-07T09:40:47.900417Z",
     "shell.execute_reply.started": "2021-10-07T09:40:47.815215Z"
    },
    "tags": []
   },
   "outputs": [
    {
     "name": "stdout",
     "output_type": "stream",
     "text": [
      " * postgresql://gpadmin@192.168.133.128:32000/db\n",
      "1000 rows affected.\n"
     ]
    }
   ],
   "source": [
    "sensors = %sql SELECT * FROM sensors LIMIT 1000;\n",
    "sensors = sensors.DataFrame()"
   ]
  },
  {
   "cell_type": "code",
   "execution_count": 9,
   "id": "254f263a-64c7-4966-8896-109281f26540",
   "metadata": {
    "execution": {
     "iopub.execute_input": "2021-10-07T09:40:47.902040Z",
     "iopub.status.busy": "2021-10-07T09:40:47.901863Z",
     "iopub.status.idle": "2021-10-07T09:40:47.915906Z",
     "shell.execute_reply": "2021-10-07T09:40:47.915235Z",
     "shell.execute_reply.started": "2021-10-07T09:40:47.902020Z"
    },
    "tags": []
   },
   "outputs": [
    {
     "name": "stdout",
     "output_type": "stream",
     "text": [
      "<class 'pandas.core.frame.DataFrame'>\n",
      "RangeIndex: 1000 entries, 0 to 999\n",
      "Data columns (total 5 columns):\n",
      " #   Column         Non-Null Count  Dtype         \n",
      "---  ------         --------------  -----         \n",
      " 0   timestamp      1000 non-null   datetime64[ns]\n",
      " 1   temperature    1000 non-null   float64       \n",
      " 2   temperature_2  1000 non-null   float64       \n",
      " 3   humidity       1000 non-null   float64       \n",
      " 4   pm25           1000 non-null   float64       \n",
      "dtypes: datetime64[ns](1), float64(4)\n",
      "memory usage: 39.2 KB\n"
     ]
    }
   ],
   "source": [
    "sensors.info()"
   ]
  },
  {
   "cell_type": "code",
   "execution_count": 10,
   "id": "142926cb-b255-4e76-a28b-5d38b8b6e9c1",
   "metadata": {
    "execution": {
     "iopub.execute_input": "2021-10-07T09:40:47.919200Z",
     "iopub.status.busy": "2021-10-07T09:40:47.918939Z",
     "iopub.status.idle": "2021-10-07T09:40:47.945382Z",
     "shell.execute_reply": "2021-10-07T09:40:47.944865Z",
     "shell.execute_reply.started": "2021-10-07T09:40:47.919164Z"
    },
    "tags": []
   },
   "outputs": [
    {
     "data": {
      "text/html": [
       "<div>\n",
       "<style scoped>\n",
       "    .dataframe tbody tr th:only-of-type {\n",
       "        vertical-align: middle;\n",
       "    }\n",
       "\n",
       "    .dataframe tbody tr th {\n",
       "        vertical-align: top;\n",
       "    }\n",
       "\n",
       "    .dataframe thead th {\n",
       "        text-align: right;\n",
       "    }\n",
       "</style>\n",
       "<table border=\"1\" class=\"dataframe\">\n",
       "  <thead>\n",
       "    <tr style=\"text-align: right;\">\n",
       "      <th></th>\n",
       "      <th>temperature</th>\n",
       "      <th>temperature_2</th>\n",
       "      <th>humidity</th>\n",
       "      <th>pm25</th>\n",
       "    </tr>\n",
       "  </thead>\n",
       "  <tbody>\n",
       "    <tr>\n",
       "      <th>count</th>\n",
       "      <td>1000.000000</td>\n",
       "      <td>1000.000000</td>\n",
       "      <td>1000.000000</td>\n",
       "      <td>1000.000000</td>\n",
       "    </tr>\n",
       "    <tr>\n",
       "      <th>mean</th>\n",
       "      <td>31.546704</td>\n",
       "      <td>46.562115</td>\n",
       "      <td>49.825844</td>\n",
       "      <td>89.552287</td>\n",
       "    </tr>\n",
       "    <tr>\n",
       "      <th>std</th>\n",
       "      <td>0.872289</td>\n",
       "      <td>3.139024</td>\n",
       "      <td>14.967374</td>\n",
       "      <td>14.430473</td>\n",
       "    </tr>\n",
       "    <tr>\n",
       "      <th>min</th>\n",
       "      <td>30.002098</td>\n",
       "      <td>34.493309</td>\n",
       "      <td>1.160944</td>\n",
       "      <td>38.564782</td>\n",
       "    </tr>\n",
       "    <tr>\n",
       "      <th>25%</th>\n",
       "      <td>30.819098</td>\n",
       "      <td>44.387437</td>\n",
       "      <td>39.490404</td>\n",
       "      <td>79.670134</td>\n",
       "    </tr>\n",
       "    <tr>\n",
       "      <th>50%</th>\n",
       "      <td>31.576531</td>\n",
       "      <td>46.438833</td>\n",
       "      <td>50.040946</td>\n",
       "      <td>89.644032</td>\n",
       "    </tr>\n",
       "    <tr>\n",
       "      <th>75%</th>\n",
       "      <td>32.325675</td>\n",
       "      <td>48.665443</td>\n",
       "      <td>60.295111</td>\n",
       "      <td>99.163126</td>\n",
       "    </tr>\n",
       "    <tr>\n",
       "      <th>max</th>\n",
       "      <td>33.004882</td>\n",
       "      <td>55.152494</td>\n",
       "      <td>93.333323</td>\n",
       "      <td>132.791284</td>\n",
       "    </tr>\n",
       "  </tbody>\n",
       "</table>\n",
       "</div>"
      ],
      "text/plain": [
       "       temperature  temperature_2     humidity         pm25\n",
       "count  1000.000000    1000.000000  1000.000000  1000.000000\n",
       "mean     31.546704      46.562115    49.825844    89.552287\n",
       "std       0.872289       3.139024    14.967374    14.430473\n",
       "min      30.002098      34.493309     1.160944    38.564782\n",
       "25%      30.819098      44.387437    39.490404    79.670134\n",
       "50%      31.576531      46.438833    50.040946    89.644032\n",
       "75%      32.325675      48.665443    60.295111    99.163126\n",
       "max      33.004882      55.152494    93.333323   132.791284"
      ]
     },
     "execution_count": 10,
     "metadata": {},
     "output_type": "execute_result"
    }
   ],
   "source": [
    "sensors.describe()"
   ]
  },
  {
   "cell_type": "code",
   "execution_count": 11,
   "id": "5045f55d-2674-4817-8ae5-1693ce942455",
   "metadata": {
    "execution": {
     "iopub.execute_input": "2021-10-07T09:40:47.947600Z",
     "iopub.status.busy": "2021-10-07T09:40:47.947416Z",
     "iopub.status.idle": "2021-10-07T09:40:48.282792Z",
     "shell.execute_reply": "2021-10-07T09:40:48.282290Z",
     "shell.execute_reply.started": "2021-10-07T09:40:47.947580Z"
    },
    "tags": []
   },
   "outputs": [
    {
     "name": "stderr",
     "output_type": "stream",
     "text": [
      "/usr/local/anaconda3/envs/madlib/lib/python3.6/site-packages/seaborn/distributions.py:2619: FutureWarning: `distplot` is a deprecated function and will be removed in a future version. Please adapt your code to use either `displot` (a figure-level function with similar flexibility) or `histplot` (an axes-level function for histograms).\n",
      "  warnings.warn(msg, FutureWarning)\n"
     ]
    },
    {
     "data": {
      "image/png": "[encoded data removed]",
      "text/plain": [
       "<Figure size 720x360 with 1 Axes>"
      ]
     },
     "metadata": {
      "needs_background": "light"
     },
     "output_type": "display_data"
    }
   ],
   "source": [
    "plt.figure(figsize=(10,5))\n",
    "sns.distplot(sensors['humidity'],bins=60);\n",
    "plt.title(\"Humidity Distribution\")\n",
    "plt.axvline(x=sensors['humidity'].mean(),color='red',ls='--',lw=2)\n",
    "plt.text(sensors['humidity'].mean()+3,0.03, \"mean\", fontsize=10,c='red');"
   ]
  },
  {
   "cell_type": "markdown",
   "id": "ad732e2e-9c8a-4c57-8a14-61809dd08a66",
   "metadata": {
    "execution": {
     "iopub.execute_input": "2021-10-04T10:27:18.637092Z",
     "iopub.status.busy": "2021-10-04T10:27:18.636846Z",
     "iopub.status.idle": "2021-10-04T10:27:18.639478Z",
     "shell.execute_reply": "2021-10-04T10:27:18.638867Z",
     "shell.execute_reply.started": "2021-10-04T10:27:18.637067Z"
    }
   },
   "source": [
    "### EDA"
   ]
  },
  {
   "cell_type": "code",
   "execution_count": 12,
   "id": "931aaab8-f2ee-469e-893b-a0ab766d2993",
   "metadata": {
    "execution": {
     "iopub.execute_input": "2021-10-07T09:40:48.284102Z",
     "iopub.status.busy": "2021-10-07T09:40:48.283916Z",
     "iopub.status.idle": "2021-10-07T09:41:08.409018Z",
     "shell.execute_reply": "2021-10-07T09:41:08.408406Z",
     "shell.execute_reply.started": "2021-10-07T09:40:48.284082Z"
    },
    "tags": []
   },
   "outputs": [
    {
     "name": "stdout",
     "output_type": "stream",
     "text": [
      " * postgresql://gpadmin@192.168.133.128:32000/db\n",
      "Done.\n",
      "1 rows affected.\n",
      "5 rows affected.\n"
     ]
    },
    {
     "data": {
      "text/html": [
       "<table>\n",
       "    <tr>\n",
       "        <th>group_by</th>\n",
       "        <th>group_by_value</th>\n",
       "        <th>target_column</th>\n",
       "        <th>column_number</th>\n",
       "        <th>data_type</th>\n",
       "        <th>row_count</th>\n",
       "        <th>distinct_values</th>\n",
       "        <th>missing_values</th>\n",
       "        <th>blank_values</th>\n",
       "        <th>fraction_missing</th>\n",
       "        <th>fraction_blank</th>\n",
       "        <th>positive_values</th>\n",
       "        <th>negative_values</th>\n",
       "        <th>zero_values</th>\n",
       "        <th>mean</th>\n",
       "        <th>variance</th>\n",
       "        <th>confidence_interval</th>\n",
       "        <th>min</th>\n",
       "        <th>max</th>\n",
       "        <th>first_quartile</th>\n",
       "        <th>median</th>\n",
       "        <th>third_quartile</th>\n",
       "        <th>most_frequent_values</th>\n",
       "        <th>mfv_frequencies</th>\n",
       "    </tr>\n",
       "    <tr>\n",
       "        <td>None</td>\n",
       "        <td>None</td>\n",
       "        <td>&quot;timestamp&quot;</td>\n",
       "        <td>1</td>\n",
       "        <td>timestamp</td>\n",
       "        <td>200000</td>\n",
       "        <td>200000</td>\n",
       "        <td>0</td>\n",
       "        <td>None</td>\n",
       "        <td>0.0</td>\n",
       "        <td>None</td>\n",
       "        <td>None</td>\n",
       "        <td>None</td>\n",
       "        <td>None</td>\n",
       "        <td>None</td>\n",
       "        <td>None</td>\n",
       "        <td>None</td>\n",
       "        <td>None</td>\n",
       "        <td>None</td>\n",
       "        <td>None</td>\n",
       "        <td>None</td>\n",
       "        <td>None</td>\n",
       "        <td>[&#x27;2019-07-25 11:00:00&#x27;, &#x27;2019-12-01 19:00:00&#x27;, &#x27;2019-11-03 16:00:00&#x27;, &#x27;2019-11-23 21:00:00&#x27;, &#x27;2019-11-26 21:00:00&#x27;, &#x27;2019-12-21 14:00:00&#x27;, &#x27;2020-01-03 09:00:00&#x27;, &#x27;2019-11-30 16:00:00&#x27;, &#x27;2019-12-15 03:00:00&#x27;, &#x27;2019-11-05 15:00:00&#x27;]</td>\n",
       "        <td>[202, 201, 197, 196, 196, 196, 196, 195, 194, 193]</td>\n",
       "    </tr>\n",
       "    <tr>\n",
       "        <td>None</td>\n",
       "        <td>None</td>\n",
       "        <td>temperature</td>\n",
       "        <td>2</td>\n",
       "        <td>float8</td>\n",
       "        <td>200000</td>\n",
       "        <td>200000</td>\n",
       "        <td>0</td>\n",
       "        <td>None</td>\n",
       "        <td>0.0</td>\n",
       "        <td>None</td>\n",
       "        <td>200000</td>\n",
       "        <td>0</td>\n",
       "        <td>0</td>\n",
       "        <td>32.0007889310936</td>\n",
       "        <td>0.833918535707913</td>\n",
       "        <td>[31.9967866933153, 32.0047911688719]</td>\n",
       "        <td>30.0020976922364</td>\n",
       "        <td>33.9932399275613</td>\n",
       "        <td>31.2506718159847</td>\n",
       "        <td>32.0007082471155</td>\n",
       "        <td>32.7509473341128</td>\n",
       "        <td>[&#x27;31.3932971558727&#x27;, &#x27;31.1270586631445&#x27;, &#x27;31.5795452103724&#x27;, &#x27;31.3809975772738&#x27;, &#x27;33.8450611683449&#x27;, &#x27;31.0611840491863&#x27;, &#x27;32.9212582895504&#x27;, &#x27;33.8943804292179&#x27;, &#x27;32.1098964308206&#x27;, &#x27;31.1571707561875&#x27;]</td>\n",
       "        <td>[204, 197, 196, 196, 195, 195, 195, 195, 195, 195]</td>\n",
       "    </tr>\n",
       "    <tr>\n",
       "        <td>None</td>\n",
       "        <td>None</td>\n",
       "        <td>temperature_2</td>\n",
       "        <td>3</td>\n",
       "        <td>float8</td>\n",
       "        <td>200000</td>\n",
       "        <td>200000</td>\n",
       "        <td>0</td>\n",
       "        <td>None</td>\n",
       "        <td>0.0</td>\n",
       "        <td>None</td>\n",
       "        <td>200000</td>\n",
       "        <td>0</td>\n",
       "        <td>0</td>\n",
       "        <td>46.99570081252</td>\n",
       "        <td>9.80804681580791</td>\n",
       "        <td>[46.9819751809047, 47.0094264441353]</td>\n",
       "        <td>32.2943907804811</td>\n",
       "        <td>61.6835823795163</td>\n",
       "        <td>44.8807517740374</td>\n",
       "        <td>46.9961843733011</td>\n",
       "        <td>49.112212070946</td>\n",
       "        <td>[&#x27;45.610033372541&#x27;, &#x27;41.8933542334198&#x27;, &#x27;48.7487345239526&#x27;, &#x27;42.8628249997972&#x27;, &#x27;51.7284036547247&#x27;, &#x27;53.0636555990058&#x27;, &#x27;49.144793481834&#x27;, &#x27;42.5560303222563&#x27;, &#x27;49.2545157623079&#x27;, &#x27;53.5363445515196&#x27;]</td>\n",
       "        <td>[200, 198, 198, 198, 198, 196, 196, 196, 196, 196]</td>\n",
       "    </tr>\n",
       "    <tr>\n",
       "        <td>None</td>\n",
       "        <td>None</td>\n",
       "        <td>humidity</td>\n",
       "        <td>4</td>\n",
       "        <td>float8</td>\n",
       "        <td>200000</td>\n",
       "        <td>200000</td>\n",
       "        <td>0</td>\n",
       "        <td>None</td>\n",
       "        <td>0.0</td>\n",
       "        <td>None</td>\n",
       "        <td>199916</td>\n",
       "        <td>84</td>\n",
       "        <td>0</td>\n",
       "        <td>50.0315077284909</td>\n",
       "        <td>224.568211224632</td>\n",
       "        <td>[49.9658304401699, 50.0971850168119]</td>\n",
       "        <td>-20.3266268501857</td>\n",
       "        <td>118.488627743178</td>\n",
       "        <td>39.9160404829</td>\n",
       "        <td>50.0412446801503</td>\n",
       "        <td>60.1484803615784</td>\n",
       "        <td>[&#x27;80.0789399962446&#x27;, &#x27;58.9158137497979&#x27;, &#x27;49.5808709283595&#x27;, &#x27;40.8370079457451&#x27;, &#x27;44.2457888796278&#x27;, &#x27;81.0299847843547&#x27;, &#x27;61.0819306716374&#x27;, &#x27;71.5458767971577&#x27;, &#x27;68.9138189296112&#x27;, &#x27;57.5480243504294&#x27;]</td>\n",
       "        <td>[200, 198, 198, 198, 197, 196, 194, 193, 193, 193]</td>\n",
       "    </tr>\n",
       "    <tr>\n",
       "        <td>None</td>\n",
       "        <td>None</td>\n",
       "        <td>pm25</td>\n",
       "        <td>5</td>\n",
       "        <td>float8</td>\n",
       "        <td>200000</td>\n",
       "        <td>200000</td>\n",
       "        <td>0</td>\n",
       "        <td>None</td>\n",
       "        <td>0.0</td>\n",
       "        <td>None</td>\n",
       "        <td>200000</td>\n",
       "        <td>0</td>\n",
       "        <td>0</td>\n",
       "        <td>94.9567258520912</td>\n",
       "        <td>232.817325310956</td>\n",
       "        <td>[94.8898531731814, 95.023598531001]</td>\n",
       "        <td>24.4732311088685</td>\n",
       "        <td>161.947176404423</td>\n",
       "        <td>84.6258824447947</td>\n",
       "        <td>94.9361338249605</td>\n",
       "        <td>105.200500570932</td>\n",
       "        <td>[&#x27;81.0193782019894&#x27;, &#x27;113.419361265646&#x27;, &#x27;111.01717457287&#x27;, &#x27;86.2007469815971&#x27;, &#x27;114.26224363525&#x27;, &#x27;106.088352504439&#x27;, &#x27;75.1810545024631&#x27;, &#x27;115.516321815534&#x27;, &#x27;68.4794225328913&#x27;, &#x27;86.1884482285641&#x27;]</td>\n",
       "        <td>[199, 198, 198, 198, 197, 196, 195, 195, 194, 194]</td>\n",
       "    </tr>\n",
       "</table>"
      ],
      "text/plain": [
       "[(None, None, '\"timestamp\"', 1, 'timestamp', 200000, 200000, 0, None, 0.0, None, None, None, None, None, None, None, None, None, None, None, None, ['2019-07-25 11:00:00', '2019-12-01 19:00:00', '2019-11-03 16:00:00', '2019-11-23 21:00:00', '2019-11-26 21:00:00', '2019-12-21 14:00:00', '2020-01-03 09:00:00', '2019-11-30 16:00:00', '2019-12-15 03:00:00', '2019-11-05 15:00:00'], [202, 201, 197, 196, 196, 196, 196, 195, 194, 193]),\n",
       " (None, None, 'temperature', 2, 'float8', 200000, 200000, 0, None, 0.0, None, 200000, 0, 0, 32.0007889310936, 0.833918535707913, [31.9967866933153, 32.0047911688719], 30.0020976922364, 33.9932399275613, 31.2506718159847, 32.0007082471155, 32.7509473341128, ['31.3932971558727', '31.1270586631445', '31.5795452103724', '31.3809975772738', '33.8450611683449', '31.0611840491863', '32.9212582895504', '33.8943804292179', '32.1098964308206', '31.1571707561875'], [204, 197, 196, 196, 195, 195, 195, 195, 195, 195]),\n",
       " (None, None, 'temperature_2', 3, 'float8', 200000, 200000, 0, None, 0.0, None, 200000, 0, 0, 46.99570081252, 9.80804681580791, [46.9819751809047, 47.0094264441353], 32.2943907804811, 61.6835823795163, 44.8807517740374, 46.9961843733011, 49.112212070946, ['45.610033372541', '41.8933542334198', '48.7487345239526', '42.8628249997972', '51.7284036547247', '53.0636555990058', '49.144793481834', '42.5560303222563', '49.2545157623079', '53.5363445515196'], [200, 198, 198, 198, 198, 196, 196, 196, 196, 196]),\n",
       " (None, None, 'humidity', 4, 'float8', 200000, 200000, 0, None, 0.0, None, 199916, 84, 0, 50.0315077284909, 224.568211224632, [49.9658304401699, 50.0971850168119], -20.3266268501857, 118.488627743178, 39.9160404829, 50.0412446801503, 60.1484803615784, ['80.0789399962446', '58.9158137497979', '49.5808709283595', '40.8370079457451', '44.2457888796278', '81.0299847843547', '61.0819306716374', '71.5458767971577', '68.9138189296112', '57.5480243504294'], [200, 198, 198, 198, 197, 196, 194, 193, 193, 193]),\n",
       " (None, None, 'pm25', 5, 'float8', 200000, 200000, 0, None, 0.0, None, 200000, 0, 0, 94.9567258520912, 232.817325310956, [94.8898531731814, 95.023598531001], 24.4732311088685, 161.947176404423, 84.6258824447947, 94.9361338249605, 105.200500570932, ['81.0193782019894', '113.419361265646', '111.01717457287', '86.2007469815971', '114.26224363525', '106.088352504439', '75.1810545024631', '115.516321815534', '68.4794225328913', '86.1884482285641'], [199, 198, 198, 198, 197, 196, 195, 195, 194, 194])]"
      ]
     },
     "execution_count": 12,
     "metadata": {},
     "output_type": "execute_result"
    }
   ],
   "source": [
    "%%sql\n",
    "DROP TABLE IF EXISTS sensors_summary ;\n",
    "SELECT madlib.summary (\n",
    "    'sensors',  -- source_table\n",
    "    'sensors_summary',  -- output_table\n",
    "    NULL,  -- target_cols\n",
    "    NULL,  -- grouping_cols\n",
    "    TRUE,  -- get_distinct\n",
    "    TRUE,  -- get_quartiles\n",
    "    NULL,  -- quantile_array\n",
    "    10,    -- how_many_mfv\n",
    "    FALSE  -- get_estimate\n",
    ");\n",
    "\n",
    "SELECT * FROM sensors_summary LIMIT 5;"
   ]
  },
  {
   "cell_type": "code",
   "execution_count": 13,
   "id": "bbccdb9b-e93a-4ed8-b8b3-dbf2b037b113",
   "metadata": {
    "execution": {
     "iopub.execute_input": "2021-10-07T09:41:08.410472Z",
     "iopub.status.busy": "2021-10-07T09:41:08.410175Z",
     "iopub.status.idle": "2021-10-07T09:41:08.826703Z",
     "shell.execute_reply": "2021-10-07T09:41:08.826011Z",
     "shell.execute_reply.started": "2021-10-07T09:41:08.410443Z"
    },
    "tags": []
   },
   "outputs": [
    {
     "name": "stdout",
     "output_type": "stream",
     "text": [
      " * postgresql://gpadmin@192.168.133.128:32000/db\n",
      "Done.\n",
      "Done.\n",
      "275 rows affected.\n",
      "20 rows affected.\n"
     ]
    },
    {
     "data": {
      "text/html": [
       "<table>\n",
       "    <tr>\n",
       "        <th>year</th>\n",
       "        <th>month</th>\n",
       "        <th>average_month_temperature</th>\n",
       "        <th>average_pm25</th>\n",
       "    </tr>\n",
       "    <tr>\n",
       "        <td>1997</td>\n",
       "        <td>3</td>\n",
       "        <td>31.5857867033122</td>\n",
       "        <td>89.6407995010372</td>\n",
       "    </tr>\n",
       "    <tr>\n",
       "        <td>1997</td>\n",
       "        <td>4</td>\n",
       "        <td>31.5333406560482</td>\n",
       "        <td>89.6954069445576</td>\n",
       "    </tr>\n",
       "    <tr>\n",
       "        <td>1997</td>\n",
       "        <td>5</td>\n",
       "        <td>31.5315084500734</td>\n",
       "        <td>88.9290781034526</td>\n",
       "    </tr>\n",
       "    <tr>\n",
       "        <td>1997</td>\n",
       "        <td>6</td>\n",
       "        <td>31.5087124676383</td>\n",
       "        <td>89.8276532672497</td>\n",
       "    </tr>\n",
       "    <tr>\n",
       "        <td>1997</td>\n",
       "        <td>7</td>\n",
       "        <td>31.4963020069132</td>\n",
       "        <td>89.946082918828</td>\n",
       "    </tr>\n",
       "    <tr>\n",
       "        <td>1997</td>\n",
       "        <td>8</td>\n",
       "        <td>31.5052959282945</td>\n",
       "        <td>89.8274028619428</td>\n",
       "    </tr>\n",
       "    <tr>\n",
       "        <td>1997</td>\n",
       "        <td>9</td>\n",
       "        <td>31.515806039429</td>\n",
       "        <td>89.6975457387193</td>\n",
       "    </tr>\n",
       "    <tr>\n",
       "        <td>1997</td>\n",
       "        <td>10</td>\n",
       "        <td>31.5212258387757</td>\n",
       "        <td>90.5202452816575</td>\n",
       "    </tr>\n",
       "    <tr>\n",
       "        <td>1997</td>\n",
       "        <td>11</td>\n",
       "        <td>31.5863566049458</td>\n",
       "        <td>90.7640554348525</td>\n",
       "    </tr>\n",
       "    <tr>\n",
       "        <td>1997</td>\n",
       "        <td>12</td>\n",
       "        <td>31.5260226914037</td>\n",
       "        <td>89.2248603940916</td>\n",
       "    </tr>\n",
       "    <tr>\n",
       "        <td>1998</td>\n",
       "        <td>1</td>\n",
       "        <td>31.4920465629579</td>\n",
       "        <td>90.857399494725</td>\n",
       "    </tr>\n",
       "    <tr>\n",
       "        <td>1998</td>\n",
       "        <td>2</td>\n",
       "        <td>31.6053332927446</td>\n",
       "        <td>89.724605603242</td>\n",
       "    </tr>\n",
       "    <tr>\n",
       "        <td>1998</td>\n",
       "        <td>3</td>\n",
       "        <td>31.5397978379912</td>\n",
       "        <td>91.2564516232789</td>\n",
       "    </tr>\n",
       "    <tr>\n",
       "        <td>1998</td>\n",
       "        <td>4</td>\n",
       "        <td>31.575876100293</td>\n",
       "        <td>90.0761091021617</td>\n",
       "    </tr>\n",
       "    <tr>\n",
       "        <td>1998</td>\n",
       "        <td>5</td>\n",
       "        <td>31.5878665387248</td>\n",
       "        <td>90.6721990182</td>\n",
       "    </tr>\n",
       "    <tr>\n",
       "        <td>1998</td>\n",
       "        <td>6</td>\n",
       "        <td>31.5645715036848</td>\n",
       "        <td>91.010505809848</td>\n",
       "    </tr>\n",
       "    <tr>\n",
       "        <td>1998</td>\n",
       "        <td>7</td>\n",
       "        <td>31.5568759042957</td>\n",
       "        <td>91.0852595298936</td>\n",
       "    </tr>\n",
       "    <tr>\n",
       "        <td>1998</td>\n",
       "        <td>8</td>\n",
       "        <td>31.5673074618402</td>\n",
       "        <td>90.8930377443478</td>\n",
       "    </tr>\n",
       "    <tr>\n",
       "        <td>1998</td>\n",
       "        <td>9</td>\n",
       "        <td>31.5996512239848</td>\n",
       "        <td>90.5607314714343</td>\n",
       "    </tr>\n",
       "    <tr>\n",
       "        <td>1998</td>\n",
       "        <td>10</td>\n",
       "        <td>31.5867189089437</td>\n",
       "        <td>92.2273851777414</td>\n",
       "    </tr>\n",
       "</table>"
      ],
      "text/plain": [
       "[(1997, 3, 31.5857867033122, 89.6407995010372),\n",
       " (1997, 4, 31.5333406560482, 89.6954069445576),\n",
       " (1997, 5, 31.5315084500734, 88.9290781034526),\n",
       " (1997, 6, 31.5087124676383, 89.8276532672497),\n",
       " (1997, 7, 31.4963020069132, 89.946082918828),\n",
       " (1997, 8, 31.5052959282945, 89.8274028619428),\n",
       " (1997, 9, 31.515806039429, 89.6975457387193),\n",
       " (1997, 10, 31.5212258387757, 90.5202452816575),\n",
       " (1997, 11, 31.5863566049458, 90.7640554348525),\n",
       " (1997, 12, 31.5260226914037, 89.2248603940916),\n",
       " (1998, 1, 31.4920465629579, 90.857399494725),\n",
       " (1998, 2, 31.6053332927446, 89.724605603242),\n",
       " (1998, 3, 31.5397978379912, 91.2564516232789),\n",
       " (1998, 4, 31.575876100293, 90.0761091021617),\n",
       " (1998, 5, 31.5878665387248, 90.6721990182),\n",
       " (1998, 6, 31.5645715036848, 91.010505809848),\n",
       " (1998, 7, 31.5568759042957, 91.0852595298936),\n",
       " (1998, 8, 31.5673074618402, 90.8930377443478),\n",
       " (1998, 9, 31.5996512239848, 90.5607314714343),\n",
       " (1998, 10, 31.5867189089437, 92.2273851777414)]"
      ]
     },
     "execution_count": 13,
     "metadata": {},
     "output_type": "execute_result"
    }
   ],
   "source": [
    "%%sql\n",
    "\n",
    "DROP TABLE IF EXISTS temp_sensors_timeseries;\n",
    "\n",
    "CREATE TABLE temp_sensors_timeseries(\n",
    "    year INTEGER,\n",
    "    month INTEGER,\n",
    "    average_month_temperature FLOAT,\n",
    "    average_pm25 FLOAT\n",
    ");\n",
    "\n",
    "INSERT INTO temp_sensors_timeseries \n",
    "    SELECT  date_part('year', timestamp) AS year,\n",
    "            date_part('month', timestamp) AS month,\n",
    "            avg(temperature) AS average_month_temperature, \n",
    "            avg(pm25) AS average_pm25\n",
    "    FROM sensors\n",
    "    GROUP BY year, month;\n",
    "    \n",
    "    \n",
    "SELECT * FROM temp_sensors_timeseries ORDER BY year,month LIMIT 20;"
   ]
  },
  {
   "cell_type": "code",
   "execution_count": 14,
   "id": "ed4ab9c9-4093-4722-8bc3-f99b6657fa34",
   "metadata": {
    "execution": {
     "iopub.execute_input": "2021-10-07T09:41:08.828343Z",
     "iopub.status.busy": "2021-10-07T09:41:08.828122Z",
     "iopub.status.idle": "2021-10-07T09:41:08.839153Z",
     "shell.execute_reply": "2021-10-07T09:41:08.838559Z",
     "shell.execute_reply.started": "2021-10-07T09:41:08.828318Z"
    },
    "tags": []
   },
   "outputs": [
    {
     "name": "stdout",
     "output_type": "stream",
     "text": [
      " * postgresql://gpadmin@192.168.133.128:32000/db\n",
      "275 rows affected.\n"
     ]
    }
   ],
   "source": [
    "timeseries= %sql SELECT * FROM temp_sensors_timeseries ORDER BY year,month;\n",
    "timeseries=timeseries.DataFrame()"
   ]
  },
  {
   "cell_type": "code",
   "execution_count": 15,
   "id": "f2506009-392a-46c2-931d-e96574d810a4",
   "metadata": {
    "execution": {
     "iopub.execute_input": "2021-10-07T09:41:08.840526Z",
     "iopub.status.busy": "2021-10-07T09:41:08.840315Z",
     "iopub.status.idle": "2021-10-07T09:41:08.852781Z",
     "shell.execute_reply": "2021-10-07T09:41:08.852224Z",
     "shell.execute_reply.started": "2021-10-07T09:41:08.840500Z"
    },
    "tags": []
   },
   "outputs": [
    {
     "data": {
      "text/html": [
       "<div>\n",
       "<style scoped>\n",
       "    .dataframe tbody tr th:only-of-type {\n",
       "        vertical-align: middle;\n",
       "    }\n",
       "\n",
       "    .dataframe tbody tr th {\n",
       "        vertical-align: top;\n",
       "    }\n",
       "\n",
       "    .dataframe thead th {\n",
       "        text-align: right;\n",
       "    }\n",
       "</style>\n",
       "<table border=\"1\" class=\"dataframe\">\n",
       "  <thead>\n",
       "    <tr style=\"text-align: right;\">\n",
       "      <th></th>\n",
       "      <th>year</th>\n",
       "      <th>month</th>\n",
       "      <th>average_month_temperature</th>\n",
       "      <th>average_pm25</th>\n",
       "      <th>date</th>\n",
       "    </tr>\n",
       "  </thead>\n",
       "  <tbody>\n",
       "    <tr>\n",
       "      <th>0</th>\n",
       "      <td>1997</td>\n",
       "      <td>3</td>\n",
       "      <td>31.585787</td>\n",
       "      <td>89.640800</td>\n",
       "      <td>1997-03-01</td>\n",
       "    </tr>\n",
       "    <tr>\n",
       "      <th>1</th>\n",
       "      <td>1997</td>\n",
       "      <td>4</td>\n",
       "      <td>31.533341</td>\n",
       "      <td>89.695407</td>\n",
       "      <td>1997-04-01</td>\n",
       "    </tr>\n",
       "    <tr>\n",
       "      <th>2</th>\n",
       "      <td>1997</td>\n",
       "      <td>5</td>\n",
       "      <td>31.531508</td>\n",
       "      <td>88.929078</td>\n",
       "      <td>1997-05-01</td>\n",
       "    </tr>\n",
       "    <tr>\n",
       "      <th>3</th>\n",
       "      <td>1997</td>\n",
       "      <td>6</td>\n",
       "      <td>31.508712</td>\n",
       "      <td>89.827653</td>\n",
       "      <td>1997-06-01</td>\n",
       "    </tr>\n",
       "    <tr>\n",
       "      <th>4</th>\n",
       "      <td>1997</td>\n",
       "      <td>7</td>\n",
       "      <td>31.496302</td>\n",
       "      <td>89.946083</td>\n",
       "      <td>1997-07-01</td>\n",
       "    </tr>\n",
       "  </tbody>\n",
       "</table>\n",
       "</div>"
      ],
      "text/plain": [
       "   year  month  average_month_temperature  average_pm25       date\n",
       "0  1997      3                  31.585787     89.640800 1997-03-01\n",
       "1  1997      4                  31.533341     89.695407 1997-04-01\n",
       "2  1997      5                  31.531508     88.929078 1997-05-01\n",
       "3  1997      6                  31.508712     89.827653 1997-06-01\n",
       "4  1997      7                  31.496302     89.946083 1997-07-01"
      ]
     },
     "execution_count": 15,
     "metadata": {},
     "output_type": "execute_result"
    }
   ],
   "source": [
    "timeseries['date']=pd.DatetimeIndex(timeseries['year'].map(\"{:04}\".format)+'-'+ timeseries['month'].map(\"{:02}\".format))\n",
    "timeseries.head()"
   ]
  },
  {
   "cell_type": "code",
   "execution_count": 16,
   "id": "f0227373-127a-4bf3-81a8-2ae66c239719",
   "metadata": {
    "execution": {
     "iopub.execute_input": "2021-10-07T09:41:08.854067Z",
     "iopub.status.busy": "2021-10-07T09:41:08.853871Z",
     "iopub.status.idle": "2021-10-07T09:41:09.227808Z",
     "shell.execute_reply": "2021-10-07T09:41:09.226709Z",
     "shell.execute_reply.started": "2021-10-07T09:41:08.854045Z"
    },
    "tags": []
   },
   "outputs": [
    {
     "data": {
      "image/png": "[encoded data removed]",
      "text/plain": [
       "<Figure size 792x432 with 2 Axes>"
      ]
     },
     "metadata": {
      "needs_background": "light"
     },
     "output_type": "display_data"
    }
   ],
   "source": [
    "timeframe = 50\n",
    "\n",
    "f, (ax1, ax2) = plt.subplots(2, 1,figsize=(11,6))\n",
    "ax1.plot(timeseries['date'][:timeframe],timeseries['average_pm25'][:timeframe])\n",
    "ax2.plot(timeseries['date'][:timeframe],timeseries['average_month_temperature'][:timeframe],color='orange')\n",
    "\n",
    "ax1.yaxis.set_label_text(\"PM 2.5\")\n",
    "ax1.title.set_text('Average PM 2.5')\n",
    "\n",
    "ax2.title.set_text('Average Temperature')\n",
    "ax2.yaxis.set_label_text('Temperature')\n",
    "plt.tight_layout()"
   ]
  },
  {
   "cell_type": "markdown",
   "id": "18a4d782-75a9-4cdf-8fa2-33b7c366753d",
   "metadata": {},
   "source": [
    "### Preprocess Data"
   ]
  },
  {
   "cell_type": "markdown",
   "id": "68a945a0-370a-446e-b6cc-47aead7ab4da",
   "metadata": {},
   "source": [
    "Encode Month\n",
    "\n",
    "```sql\n",
    "CREATE FUNCTION parse_month(time_stamp timestamp)\n",
    "  RETURNS char\n",
    "AS $$\n",
    "  from datetime import datetime\n",
    "  date_obj=datetime.strptime(time_stamp,\"%Y-%m-%d %H:%M:%S\")\n",
    "  return date_obj.strftime(\"%B\")\n",
    "$$ LANGUAGE plpythonu;\n",
    "```"
   ]
  },
  {
   "cell_type": "code",
   "execution_count": 17,
   "id": "3dff644a-ffc2-40ef-acc9-62043de55fa6",
   "metadata": {
    "execution": {
     "iopub.execute_input": "2021-10-07T09:41:09.229593Z",
     "iopub.status.busy": "2021-10-07T09:41:09.229091Z",
     "iopub.status.idle": "2021-10-07T09:41:09.305750Z",
     "shell.execute_reply": "2021-10-07T09:41:09.305207Z",
     "shell.execute_reply.started": "2021-10-07T09:41:09.229559Z"
    },
    "tags": []
   },
   "outputs": [
    {
     "name": "stdout",
     "output_type": "stream",
     "text": [
      " * postgresql://gpadmin@192.168.133.128:32000/db\n",
      "2 rows affected.\n"
     ]
    },
    {
     "data": {
      "text/html": [
       "<table>\n",
       "    <tr>\n",
       "        <th>timestamp</th>\n",
       "        <th>temperature</th>\n",
       "        <th>temperature_2</th>\n",
       "        <th>humidity</th>\n",
       "        <th>pm25</th>\n",
       "        <th>parse_month</th>\n",
       "    </tr>\n",
       "    <tr>\n",
       "        <td>2015-04-16 22:00:00</td>\n",
       "        <td>33.0799518195087</td>\n",
       "        <td>50.5450234515165</td>\n",
       "        <td>40.0489227220552</td>\n",
       "        <td>161.772615888742</td>\n",
       "        <td>April</td>\n",
       "    </tr>\n",
       "    <tr>\n",
       "        <td>2014-11-23 21:00:00</td>\n",
       "        <td>30.8058720843154</td>\n",
       "        <td>42.7842327160495</td>\n",
       "        <td>44.8122950799332</td>\n",
       "        <td>161.947176404423</td>\n",
       "        <td>November</td>\n",
       "    </tr>\n",
       "</table>"
      ],
      "text/plain": [
       "[(datetime.datetime(2015, 4, 16, 22, 0), 33.0799518195087, 50.5450234515165, 40.0489227220552, 161.772615888742, 'April'),\n",
       " (datetime.datetime(2014, 11, 23, 21, 0), 30.8058720843154, 42.7842327160495, 44.8122950799332, 161.947176404423, 'November')]"
      ]
     },
     "execution_count": 17,
     "metadata": {},
     "output_type": "execute_result"
    }
   ],
   "source": [
    "%%sql\n",
    "SELECT *,parse_month(timestamp) FROM sensors WHERE pm25 > 160;"
   ]
  },
  {
   "cell_type": "markdown",
   "id": "99ef43f9-8e4d-4fa6-a2d9-1fed601d8258",
   "metadata": {},
   "source": [
    "Create Month and rain Data"
   ]
  },
  {
   "cell_type": "code",
   "execution_count": 18,
   "id": "a7ca60fc-a48e-4248-93fc-d45ca18256fb",
   "metadata": {
    "execution": {
     "iopub.execute_input": "2021-10-07T09:41:09.307114Z",
     "iopub.status.busy": "2021-10-07T09:41:09.306923Z",
     "iopub.status.idle": "2021-10-07T09:41:22.114533Z",
     "shell.execute_reply": "2021-10-07T09:41:22.113877Z",
     "shell.execute_reply.started": "2021-10-07T09:41:09.307091Z"
    },
    "tags": []
   },
   "outputs": [
    {
     "name": "stdout",
     "output_type": "stream",
     "text": [
      " * postgresql://gpadmin@192.168.133.128:32000/db\n",
      "Done.\n",
      "200000 rows affected.\n",
      "10 rows affected.\n"
     ]
    },
    {
     "data": {
      "text/html": [
       "<table>\n",
       "    <tr>\n",
       "        <th>timestamp</th>\n",
       "        <th>temperature</th>\n",
       "        <th>temperature_2</th>\n",
       "        <th>humidity</th>\n",
       "        <th>pm25</th>\n",
       "        <th>month</th>\n",
       "        <th>rain</th>\n",
       "    </tr>\n",
       "    <tr>\n",
       "        <td>1997-03-22 03:00:00</td>\n",
       "        <td>32.1011416309273</td>\n",
       "        <td>51.4144653929354</td>\n",
       "        <td>34.2725065145343</td>\n",
       "        <td>106.310825991151</td>\n",
       "        <td>March</td>\n",
       "        <td>0</td>\n",
       "    </tr>\n",
       "    <tr>\n",
       "        <td>1997-03-22 07:00:00</td>\n",
       "        <td>31.7222838010098</td>\n",
       "        <td>46.9562079315314</td>\n",
       "        <td>26.9962110043135</td>\n",
       "        <td>99.1593047202872</td>\n",
       "        <td>March</td>\n",
       "        <td>0</td>\n",
       "    </tr>\n",
       "    <tr>\n",
       "        <td>1997-03-23 02:00:00</td>\n",
       "        <td>31.3405572417669</td>\n",
       "        <td>45.8144550453893</td>\n",
       "        <td>45.2205060657009</td>\n",
       "        <td>97.1416891232006</td>\n",
       "        <td>March</td>\n",
       "        <td>0</td>\n",
       "    </tr>\n",
       "    <tr>\n",
       "        <td>1997-03-23 07:00:00</td>\n",
       "        <td>31.2215907980622</td>\n",
       "        <td>51.5581067009994</td>\n",
       "        <td>38.2136872440639</td>\n",
       "        <td>93.8665274880732</td>\n",
       "        <td>March</td>\n",
       "        <td>0</td>\n",
       "    </tr>\n",
       "    <tr>\n",
       "        <td>1997-03-23 13:00:00</td>\n",
       "        <td>32.0052114415293</td>\n",
       "        <td>44.4403435820022</td>\n",
       "        <td>36.5748920321032</td>\n",
       "        <td>114.375067434746</td>\n",
       "        <td>March</td>\n",
       "        <td>0</td>\n",
       "    </tr>\n",
       "    <tr>\n",
       "        <td>1997-03-24 01:00:00</td>\n",
       "        <td>31.2793714357319</td>\n",
       "        <td>47.2019846351074</td>\n",
       "        <td>65.0414598982477</td>\n",
       "        <td>98.5963393963257</td>\n",
       "        <td>March</td>\n",
       "        <td>1</td>\n",
       "    </tr>\n",
       "    <tr>\n",
       "        <td>1997-03-24 12:00:00</td>\n",
       "        <td>32.1177032017056</td>\n",
       "        <td>47.2922721171778</td>\n",
       "        <td>62.1540659560737</td>\n",
       "        <td>96.1068698089854</td>\n",
       "        <td>March</td>\n",
       "        <td>1</td>\n",
       "    </tr>\n",
       "    <tr>\n",
       "        <td>1997-03-24 16:00:00</td>\n",
       "        <td>32.4717679519442</td>\n",
       "        <td>45.5764088974802</td>\n",
       "        <td>89.4544707729493</td>\n",
       "        <td>91.5143249318502</td>\n",
       "        <td>March</td>\n",
       "        <td>1</td>\n",
       "    </tr>\n",
       "    <tr>\n",
       "        <td>1997-03-24 22:00:00</td>\n",
       "        <td>32.2748235034606</td>\n",
       "        <td>48.4546955302536</td>\n",
       "        <td>41.0963845240749</td>\n",
       "        <td>111.004351363702</td>\n",
       "        <td>March</td>\n",
       "        <td>0</td>\n",
       "    </tr>\n",
       "    <tr>\n",
       "        <td>1997-03-25 04:00:00</td>\n",
       "        <td>32.5561756957598</td>\n",
       "        <td>42.3400026333322</td>\n",
       "        <td>15.6706600932778</td>\n",
       "        <td>57.2378125792031</td>\n",
       "        <td>March</td>\n",
       "        <td>0</td>\n",
       "    </tr>\n",
       "</table>"
      ],
      "text/plain": [
       "[(datetime.datetime(1997, 3, 22, 3, 0), 32.1011416309273, 51.4144653929354, 34.2725065145343, 106.310825991151, 'March', 0),\n",
       " (datetime.datetime(1997, 3, 22, 7, 0), 31.7222838010098, 46.9562079315314, 26.9962110043135, 99.1593047202872, 'March', 0),\n",
       " (datetime.datetime(1997, 3, 23, 2, 0), 31.3405572417669, 45.8144550453893, 45.2205060657009, 97.1416891232006, 'March', 0),\n",
       " (datetime.datetime(1997, 3, 23, 7, 0), 31.2215907980622, 51.5581067009994, 38.2136872440639, 93.8665274880732, 'March', 0),\n",
       " (datetime.datetime(1997, 3, 23, 13, 0), 32.0052114415293, 44.4403435820022, 36.5748920321032, 114.375067434746, 'March', 0),\n",
       " (datetime.datetime(1997, 3, 24, 1, 0), 31.2793714357319, 47.2019846351074, 65.0414598982477, 98.5963393963257, 'March', 1),\n",
       " (datetime.datetime(1997, 3, 24, 12, 0), 32.1177032017056, 47.2922721171778, 62.1540659560737, 96.1068698089854, 'March', 1),\n",
       " (datetime.datetime(1997, 3, 24, 16, 0), 32.4717679519442, 45.5764088974802, 89.4544707729493, 91.5143249318502, 'March', 1),\n",
       " (datetime.datetime(1997, 3, 24, 22, 0), 32.2748235034606, 48.4546955302536, 41.0963845240749, 111.004351363702, 'March', 0),\n",
       " (datetime.datetime(1997, 3, 25, 4, 0), 32.5561756957598, 42.3400026333322, 15.6706600932778, 57.2378125792031, 'March', 0)]"
      ]
     },
     "execution_count": 18,
     "metadata": {},
     "output_type": "execute_result"
    }
   ],
   "source": [
    "%%sql\n",
    "DROP TABLE IF EXISTS sensors_pre;\n",
    "CREATE TABLE sensors_pre\n",
    "AS \n",
    "SELECT\n",
    "    timestamp,\n",
    "    temperature,\n",
    "    temperature_2,\n",
    "    humidity,\n",
    "    pm25,\n",
    "    parse_month(timestamp) AS month,           --- Month data\n",
    "    CASE WHEN\n",
    "            (humidity )>= 60\n",
    "        THEN 1\n",
    "        ELSE 0\n",
    "    END as rain\n",
    "FROM sensors;\n",
    "\n",
    "SELECT * FROM sensors_pre LIMIT 10; "
   ]
  },
  {
   "cell_type": "code",
   "execution_count": 19,
   "id": "22cf1b72-22a2-4e30-a810-882c41eec482",
   "metadata": {
    "execution": {
     "iopub.execute_input": "2021-10-07T09:41:22.116121Z",
     "iopub.status.busy": "2021-10-07T09:41:22.115760Z",
     "iopub.status.idle": "2021-10-07T09:41:31.516237Z",
     "shell.execute_reply": "2021-10-07T09:41:31.515145Z",
     "shell.execute_reply.started": "2021-10-07T09:41:22.116088Z"
    },
    "tags": []
   },
   "outputs": [
    {
     "name": "stdout",
     "output_type": "stream",
     "text": [
      " * postgresql://gpadmin@192.168.133.128:32000/db\n",
      "12 rows affected.\n"
     ]
    },
    {
     "data": {
      "text/html": [
       "<table>\n",
       "    <tr>\n",
       "        <th>month</th>\n",
       "        <th>count</th>\n",
       "    </tr>\n",
       "    <tr>\n",
       "        <td>December</td>\n",
       "        <td>17112</td>\n",
       "    </tr>\n",
       "    <tr>\n",
       "        <td>May</td>\n",
       "        <td>17112</td>\n",
       "    </tr>\n",
       "    <tr>\n",
       "        <td>August</td>\n",
       "        <td>17112</td>\n",
       "    </tr>\n",
       "    <tr>\n",
       "        <td>July</td>\n",
       "        <td>17112</td>\n",
       "    </tr>\n",
       "    <tr>\n",
       "        <td>October</td>\n",
       "        <td>17112</td>\n",
       "    </tr>\n",
       "    <tr>\n",
       "        <td>January</td>\n",
       "        <td>16688</td>\n",
       "    </tr>\n",
       "    <tr>\n",
       "        <td>March</td>\n",
       "        <td>16608</td>\n",
       "    </tr>\n",
       "    <tr>\n",
       "        <td>November</td>\n",
       "        <td>16560</td>\n",
       "    </tr>\n",
       "    <tr>\n",
       "        <td>June</td>\n",
       "        <td>16560</td>\n",
       "    </tr>\n",
       "    <tr>\n",
       "        <td>April</td>\n",
       "        <td>16560</td>\n",
       "    </tr>\n",
       "    <tr>\n",
       "        <td>September</td>\n",
       "        <td>16560</td>\n",
       "    </tr>\n",
       "    <tr>\n",
       "        <td>February</td>\n",
       "        <td>14904</td>\n",
       "    </tr>\n",
       "</table>"
      ],
      "text/plain": [
       "[('December', 17112),\n",
       " ('May', 17112),\n",
       " ('August', 17112),\n",
       " ('July', 17112),\n",
       " ('October', 17112),\n",
       " ('January', 16688),\n",
       " ('March', 16608),\n",
       " ('November', 16560),\n",
       " ('June', 16560),\n",
       " ('April', 16560),\n",
       " ('September', 16560),\n",
       " ('February', 14904)]"
      ]
     },
     "execution_count": 19,
     "metadata": {},
     "output_type": "execute_result"
    }
   ],
   "source": [
    "%%sql\n",
    "SELECT parse_month(timestamp) as month ,COUNT(*) as count  \n",
    "    FROM sensors  \n",
    "GROUP BY month ORDER BY count DESC;"
   ]
  },
  {
   "cell_type": "markdown",
   "id": "48ede8be-903e-4373-a544-ef6b8ada8adb",
   "metadata": {},
   "source": [
    "### Encode categorical values"
   ]
  },
  {
   "cell_type": "code",
   "execution_count": 20,
   "id": "58956098-2c3d-4c0a-9961-fd80c17adb58",
   "metadata": {
    "execution": {
     "iopub.execute_input": "2021-10-07T09:41:31.517982Z",
     "iopub.status.busy": "2021-10-07T09:41:31.517632Z",
     "iopub.status.idle": "2021-10-07T09:41:36.904648Z",
     "shell.execute_reply": "2021-10-07T09:41:36.904006Z",
     "shell.execute_reply.started": "2021-10-07T09:41:31.517952Z"
    },
    "tags": []
   },
   "outputs": [
    {
     "name": "stdout",
     "output_type": "stream",
     "text": [
      " * postgresql://gpadmin@192.168.133.128:32000/db\n",
      "Done.\n",
      "1 rows affected.\n",
      "5 rows affected.\n"
     ]
    },
    {
     "data": {
      "text/html": [
       "<table>\n",
       "    <tr>\n",
       "        <th>timestamp</th>\n",
       "        <th>temperature</th>\n",
       "        <th>temperature_2</th>\n",
       "        <th>humidity</th>\n",
       "        <th>pm25</th>\n",
       "        <th>rain</th>\n",
       "        <th>month_April</th>\n",
       "        <th>month_August</th>\n",
       "        <th>month_December</th>\n",
       "        <th>month_February</th>\n",
       "        <th>month_January</th>\n",
       "        <th>month_July</th>\n",
       "        <th>month_June</th>\n",
       "        <th>month_March</th>\n",
       "        <th>month_May</th>\n",
       "        <th>month_November</th>\n",
       "        <th>month_October</th>\n",
       "        <th>month_September</th>\n",
       "    </tr>\n",
       "    <tr>\n",
       "        <td>1997-03-22 03:00:00</td>\n",
       "        <td>32.1011416309273</td>\n",
       "        <td>51.4144653929354</td>\n",
       "        <td>34.2725065145343</td>\n",
       "        <td>106.310825991151</td>\n",
       "        <td>0</td>\n",
       "        <td>0</td>\n",
       "        <td>0</td>\n",
       "        <td>0</td>\n",
       "        <td>0</td>\n",
       "        <td>0</td>\n",
       "        <td>0</td>\n",
       "        <td>0</td>\n",
       "        <td>1</td>\n",
       "        <td>0</td>\n",
       "        <td>0</td>\n",
       "        <td>0</td>\n",
       "        <td>0</td>\n",
       "    </tr>\n",
       "    <tr>\n",
       "        <td>1997-03-23 02:00:00</td>\n",
       "        <td>31.3405572417669</td>\n",
       "        <td>45.8144550453893</td>\n",
       "        <td>45.2205060657009</td>\n",
       "        <td>97.1416891232006</td>\n",
       "        <td>0</td>\n",
       "        <td>0</td>\n",
       "        <td>0</td>\n",
       "        <td>0</td>\n",
       "        <td>0</td>\n",
       "        <td>0</td>\n",
       "        <td>0</td>\n",
       "        <td>0</td>\n",
       "        <td>1</td>\n",
       "        <td>0</td>\n",
       "        <td>0</td>\n",
       "        <td>0</td>\n",
       "        <td>0</td>\n",
       "    </tr>\n",
       "    <tr>\n",
       "        <td>1997-03-23 07:00:00</td>\n",
       "        <td>31.2215907980622</td>\n",
       "        <td>51.5581067009994</td>\n",
       "        <td>38.2136872440639</td>\n",
       "        <td>93.8665274880732</td>\n",
       "        <td>0</td>\n",
       "        <td>0</td>\n",
       "        <td>0</td>\n",
       "        <td>0</td>\n",
       "        <td>0</td>\n",
       "        <td>0</td>\n",
       "        <td>0</td>\n",
       "        <td>0</td>\n",
       "        <td>1</td>\n",
       "        <td>0</td>\n",
       "        <td>0</td>\n",
       "        <td>0</td>\n",
       "        <td>0</td>\n",
       "    </tr>\n",
       "    <tr>\n",
       "        <td>1997-03-24 12:00:00</td>\n",
       "        <td>32.1177032017056</td>\n",
       "        <td>47.2922721171778</td>\n",
       "        <td>62.1540659560737</td>\n",
       "        <td>96.1068698089854</td>\n",
       "        <td>1</td>\n",
       "        <td>0</td>\n",
       "        <td>0</td>\n",
       "        <td>0</td>\n",
       "        <td>0</td>\n",
       "        <td>0</td>\n",
       "        <td>0</td>\n",
       "        <td>0</td>\n",
       "        <td>1</td>\n",
       "        <td>0</td>\n",
       "        <td>0</td>\n",
       "        <td>0</td>\n",
       "        <td>0</td>\n",
       "    </tr>\n",
       "    <tr>\n",
       "        <td>1997-03-25 04:00:00</td>\n",
       "        <td>32.5561756957598</td>\n",
       "        <td>42.3400026333322</td>\n",
       "        <td>15.6706600932778</td>\n",
       "        <td>57.2378125792031</td>\n",
       "        <td>0</td>\n",
       "        <td>0</td>\n",
       "        <td>0</td>\n",
       "        <td>0</td>\n",
       "        <td>0</td>\n",
       "        <td>0</td>\n",
       "        <td>0</td>\n",
       "        <td>0</td>\n",
       "        <td>1</td>\n",
       "        <td>0</td>\n",
       "        <td>0</td>\n",
       "        <td>0</td>\n",
       "        <td>0</td>\n",
       "    </tr>\n",
       "</table>"
      ],
      "text/plain": [
       "[(datetime.datetime(1997, 3, 22, 3, 0), 32.1011416309273, 51.4144653929354, 34.2725065145343, 106.310825991151, 0, 0, 0, 0, 0, 0, 0, 0, 1, 0, 0, 0, 0),\n",
       " (datetime.datetime(1997, 3, 23, 2, 0), 31.3405572417669, 45.8144550453893, 45.2205060657009, 97.1416891232006, 0, 0, 0, 0, 0, 0, 0, 0, 1, 0, 0, 0, 0),\n",
       " (datetime.datetime(1997, 3, 23, 7, 0), 31.2215907980622, 51.5581067009994, 38.2136872440639, 93.8665274880732, 0, 0, 0, 0, 0, 0, 0, 0, 1, 0, 0, 0, 0),\n",
       " (datetime.datetime(1997, 3, 24, 12, 0), 32.1177032017056, 47.2922721171778, 62.1540659560737, 96.1068698089854, 1, 0, 0, 0, 0, 0, 0, 0, 1, 0, 0, 0, 0),\n",
       " (datetime.datetime(1997, 3, 25, 4, 0), 32.5561756957598, 42.3400026333322, 15.6706600932778, 57.2378125792031, 0, 0, 0, 0, 0, 0, 0, 0, 1, 0, 0, 0, 0)]"
      ]
     },
     "execution_count": 20,
     "metadata": {},
     "output_type": "execute_result"
    }
   ],
   "source": [
    "%%sql\n",
    "DROP TABLE IF EXISTS sensors_encoded;\n",
    "\n",
    "\n",
    "SELECT\n",
    "madlib.encode_categorical_variables (\n",
    "    'sensors_pre',\n",
    "    'sensors_encoded',\n",
    "    'month',\n",
    "    NULL,  --categorical_cols_to_exclude     -- Optional\n",
    "    NULL,  --row_id,                         -- Optional\n",
    "    NULL,  --top,                            -- Optional\n",
    "    NULL,  --value_to_drop,                  -- Optional\n",
    "    NULL,  --encode_null,                    -- Optional\n",
    "    NULL,  --output_type,                    -- Optional\n",
    "    NULL,  --output_dictionary,              -- Optional\n",
    "    NULL   --distributed_by                  -- Optional\n",
    ");\n",
    "\n",
    "\n",
    "SELECT * FROM sensors_encoded LIMIT 5;"
   ]
  },
  {
   "cell_type": "markdown",
   "id": "7bd5abdf-738a-4dbc-9b4e-9287f979d6e3",
   "metadata": {},
   "source": [
    "### Correlation"
   ]
  },
  {
   "cell_type": "code",
   "execution_count": 21,
   "id": "8c52a0c0-1f31-41f2-91eb-4ebab8590a06",
   "metadata": {
    "execution": {
     "iopub.execute_input": "2021-10-07T09:41:36.906018Z",
     "iopub.status.busy": "2021-10-07T09:41:36.905783Z",
     "iopub.status.idle": "2021-10-07T09:41:41.507720Z",
     "shell.execute_reply": "2021-10-07T09:41:41.506995Z",
     "shell.execute_reply.started": "2021-10-07T09:41:36.905990Z"
    },
    "tags": []
   },
   "outputs": [
    {
     "name": "stdout",
     "output_type": "stream",
     "text": [
      " * postgresql://gpadmin@192.168.133.128:32000/db\n",
      "Done.\n",
      "Done.\n",
      "1 rows affected.\n"
     ]
    },
    {
     "data": {
      "text/html": [
       "<table>\n",
       "    <tr>\n",
       "        <th>correlation</th>\n",
       "    </tr>\n",
       "    <tr>\n",
       "        <td>Summary for &#x27;Correlation&#x27; function<br>Output table = sensors_correlations<br>Producing correlation for columns: temperature,temperature_2,humidity,pm25,rain<br>Total run time = (&#x27;sensors_correlations&#x27;, 5, 4.2049431800842285)</td>\n",
       "    </tr>\n",
       "</table>"
      ],
      "text/plain": [
       "[(\"Summary for 'Correlation' function\\nOutput table = sensors_correlations\\nProducing correlation for columns: temperature,temperature_2,humidity,pm25,rain\\nTotal run time = ('sensors_correlations', 5, 4.2049431800842285)\",)]"
      ]
     },
     "execution_count": 21,
     "metadata": {},
     "output_type": "execute_result"
    }
   ],
   "source": [
    "%%sql\n",
    "DROP TABLE IF EXISTS sensors_correlations;\n",
    "DROP TABLE IF EXISTS sensors_correlations_summary;\n",
    "\n",
    "SELECT \n",
    "madlib.correlation(\n",
    "    'sensors_encoded', -- source_table\n",
    "    'sensors_correlations',  -- target_table\n",
    "    'temperature,temperature_2,humidity,pm25,rain',\n",
    "    TRUE -- verbose\n",
    ")"
   ]
  },
  {
   "cell_type": "code",
   "execution_count": 22,
   "id": "c8a78b79-a4e0-4e66-a3c0-51b2ae7d6f7d",
   "metadata": {
    "execution": {
     "iopub.execute_input": "2021-10-07T09:41:41.509220Z",
     "iopub.status.busy": "2021-10-07T09:41:41.508960Z",
     "iopub.status.idle": "2021-10-07T09:41:41.527543Z",
     "shell.execute_reply": "2021-10-07T09:41:41.526879Z",
     "shell.execute_reply.started": "2021-10-07T09:41:41.509191Z"
    },
    "tags": []
   },
   "outputs": [
    {
     "name": "stdout",
     "output_type": "stream",
     "text": [
      " * postgresql://gpadmin@192.168.133.128:32000/db\n",
      "5 rows affected.\n",
      "temperature,temperature_2,humidity,pm25,rain\n"
     ]
    }
   ],
   "source": [
    "Index = %sql SELECT variable FROM sensors_correlations ORDER BY column_position;\n",
    "Index = Index.DataFrame();\n",
    "\n",
    "columns =  ','.join(','.join('%s' %x for x in y) for y in Index.values)\n",
    "print(columns)"
   ]
  },
  {
   "cell_type": "code",
   "execution_count": 23,
   "id": "b32a1a33-56d2-4936-b6f8-5e102609570e",
   "metadata": {
    "execution": {
     "iopub.execute_input": "2021-10-07T09:41:41.528981Z",
     "iopub.status.busy": "2021-10-07T09:41:41.528750Z",
     "iopub.status.idle": "2021-10-07T09:41:41.538928Z",
     "shell.execute_reply": "2021-10-07T09:41:41.538293Z",
     "shell.execute_reply.started": "2021-10-07T09:41:41.528954Z"
    },
    "tags": []
   },
   "outputs": [
    {
     "name": "stdout",
     "output_type": "stream",
     "text": [
      " * postgresql://gpadmin@192.168.133.128:32000/db\n",
      "5 rows affected.\n"
     ]
    }
   ],
   "source": [
    "corr = %sql select variable,{columns} from sensors_correlations ORDER BY column_position;\n",
    "corr = corr.DataFrame()"
   ]
  },
  {
   "cell_type": "code",
   "execution_count": 24,
   "id": "f41fdac5-84c3-4334-af94-bea626fe8f9c",
   "metadata": {
    "execution": {
     "iopub.execute_input": "2021-10-07T09:41:41.540712Z",
     "iopub.status.busy": "2021-10-07T09:41:41.540427Z",
     "iopub.status.idle": "2021-10-07T09:41:41.811905Z",
     "shell.execute_reply": "2021-10-07T09:41:41.811020Z",
     "shell.execute_reply.started": "2021-10-07T09:41:41.540681Z"
    },
    "tags": []
   },
   "outputs": [
    {
     "data": {
      "image/png": "[encoded data removed]",
      "text/plain": [
       "<Figure size 432x288 with 2 Axes>"
      ]
     },
     "metadata": {
      "needs_background": "light"
     },
     "output_type": "display_data"
    }
   ],
   "source": [
    "corr_df=corr.set_index('variable')\n",
    "plt.title('Sensors Value Correlation')\n",
    "sns.heatmap(corr_df,annot=True);"
   ]
  },
  {
   "cell_type": "markdown",
   "id": "cb2758d4-4918-45cc-a964-d70482665e55",
   "metadata": {},
   "source": [
    "### Split Data for training and testing"
   ]
  },
  {
   "cell_type": "code",
   "execution_count": 25,
   "id": "cf84fb1c-0f22-43ea-899a-030d14067570",
   "metadata": {
    "execution": {
     "iopub.execute_input": "2021-10-07T09:41:41.813507Z",
     "iopub.status.busy": "2021-10-07T09:41:41.813205Z",
     "iopub.status.idle": "2021-10-07T09:41:55.610145Z",
     "shell.execute_reply": "2021-10-07T09:41:55.609609Z",
     "shell.execute_reply.started": "2021-10-07T09:41:41.813487Z"
    },
    "tags": []
   },
   "outputs": [
    {
     "name": "stdout",
     "output_type": "stream",
     "text": [
      " * postgresql://gpadmin@192.168.133.128:32000/db\n",
      "Done.\n",
      "Done.\n",
      "Done.\n",
      "1 rows affected.\n",
      "1 rows affected.\n"
     ]
    },
    {
     "data": {
      "text/html": [
       "<table>\n",
       "    <tr>\n",
       "        <th># In training set</th>\n",
       "    </tr>\n",
       "    <tr>\n",
       "        <td>140000</td>\n",
       "    </tr>\n",
       "</table>"
      ],
      "text/plain": [
       "[(140000,)]"
      ]
     },
     "execution_count": 25,
     "metadata": {},
     "output_type": "execute_result"
    }
   ],
   "source": [
    "%%sql\n",
    "DROP TABLE IF EXISTS sensors_split CASCADE;\n",
    "DROP TABLE IF EXISTS sensors_split_train CASCADE;\n",
    "DROP TABLE IF EXISTS sensors_split_test CASCADE;\n",
    "\n",
    "SELECT madlib.train_test_split(\n",
    "    'sensors_encoded', -- source_table,\n",
    "    'sensors_split', -- output_table,\n",
    "    0.7, -- train_proportion,\n",
    "    NULL, -- test_proportion,\n",
    "    NULL, -- grouping_cols,\n",
    "    'temperature,temperature_2,rain,humidity,pm25,\n",
    "    \"month_January\",\"month_February\",\"month_March\",\n",
    "    \"month_April\",\"month_May\",\"month_June\",\"month_July\",\n",
    "    \"month_August\",\"month_September\",\"month_October\",\n",
    "    \"month_November\",\"month_December\"', -- target_cols\n",
    "    FALSE, -- with_replacement,\n",
    "    TRUE -- separate_output_tables\n",
    ");\n",
    "\n",
    "SELECT COUNT(*) as \"# In training set\" FROM sensors_split_train;"
   ]
  },
  {
   "cell_type": "code",
   "execution_count": 26,
   "id": "814ef9bd-7352-4c4c-9323-5de28c4c6108",
   "metadata": {
    "execution": {
     "iopub.execute_input": "2021-10-07T09:41:55.611313Z",
     "iopub.status.busy": "2021-10-07T09:41:55.611088Z",
     "iopub.status.idle": "2021-10-07T09:41:55.621782Z",
     "shell.execute_reply": "2021-10-07T09:41:55.621031Z",
     "shell.execute_reply.started": "2021-10-07T09:41:55.611290Z"
    },
    "tags": []
   },
   "outputs": [
    {
     "name": "stdout",
     "output_type": "stream",
     "text": [
      " * postgresql://gpadmin@192.168.133.128:32000/db\n",
      "5 rows affected.\n"
     ]
    },
    {
     "data": {
      "text/html": [
       "<table>\n",
       "    <tr>\n",
       "        <th>temperature</th>\n",
       "        <th>temperature_2</th>\n",
       "        <th>rain</th>\n",
       "        <th>humidity</th>\n",
       "        <th>pm25</th>\n",
       "        <th>month_January</th>\n",
       "        <th>month_February</th>\n",
       "        <th>month_March</th>\n",
       "        <th>month_April</th>\n",
       "        <th>month_May</th>\n",
       "        <th>month_June</th>\n",
       "        <th>month_July</th>\n",
       "        <th>month_August</th>\n",
       "        <th>month_September</th>\n",
       "        <th>month_October</th>\n",
       "        <th>month_November</th>\n",
       "        <th>month_December</th>\n",
       "    </tr>\n",
       "    <tr>\n",
       "        <td>30.0210832601055</td>\n",
       "        <td>42.9064464435664</td>\n",
       "        <td>1</td>\n",
       "        <td>63.093834148217</td>\n",
       "        <td>108.936448810382</td>\n",
       "        <td>0</td>\n",
       "        <td>0</td>\n",
       "        <td>0</td>\n",
       "        <td>1</td>\n",
       "        <td>0</td>\n",
       "        <td>0</td>\n",
       "        <td>0</td>\n",
       "        <td>0</td>\n",
       "        <td>0</td>\n",
       "        <td>0</td>\n",
       "        <td>0</td>\n",
       "        <td>0</td>\n",
       "    </tr>\n",
       "    <tr>\n",
       "        <td>30.021610288808</td>\n",
       "        <td>43.7499412344377</td>\n",
       "        <td>0</td>\n",
       "        <td>40.803713862809</td>\n",
       "        <td>105.490066388239</td>\n",
       "        <td>0</td>\n",
       "        <td>0</td>\n",
       "        <td>0</td>\n",
       "        <td>0</td>\n",
       "        <td>0</td>\n",
       "        <td>0</td>\n",
       "        <td>0</td>\n",
       "        <td>0</td>\n",
       "        <td>1</td>\n",
       "        <td>0</td>\n",
       "        <td>0</td>\n",
       "        <td>0</td>\n",
       "    </tr>\n",
       "    <tr>\n",
       "        <td>30.0233328496095</td>\n",
       "        <td>46.4828477143712</td>\n",
       "        <td>1</td>\n",
       "        <td>67.7743623717212</td>\n",
       "        <td>84.0648064261981</td>\n",
       "        <td>0</td>\n",
       "        <td>0</td>\n",
       "        <td>0</td>\n",
       "        <td>0</td>\n",
       "        <td>0</td>\n",
       "        <td>0</td>\n",
       "        <td>1</td>\n",
       "        <td>0</td>\n",
       "        <td>0</td>\n",
       "        <td>0</td>\n",
       "        <td>0</td>\n",
       "        <td>0</td>\n",
       "    </tr>\n",
       "    <tr>\n",
       "        <td>30.0357202348213</td>\n",
       "        <td>41.6970643463286</td>\n",
       "        <td>1</td>\n",
       "        <td>79.5710581773714</td>\n",
       "        <td>82.9018072245539</td>\n",
       "        <td>0</td>\n",
       "        <td>0</td>\n",
       "        <td>0</td>\n",
       "        <td>0</td>\n",
       "        <td>0</td>\n",
       "        <td>1</td>\n",
       "        <td>0</td>\n",
       "        <td>0</td>\n",
       "        <td>0</td>\n",
       "        <td>0</td>\n",
       "        <td>0</td>\n",
       "        <td>0</td>\n",
       "    </tr>\n",
       "    <tr>\n",
       "        <td>30.0363189224595</td>\n",
       "        <td>47.5791821834829</td>\n",
       "        <td>1</td>\n",
       "        <td>68.9829039558788</td>\n",
       "        <td>83.3623320632097</td>\n",
       "        <td>0</td>\n",
       "        <td>0</td>\n",
       "        <td>0</td>\n",
       "        <td>0</td>\n",
       "        <td>0</td>\n",
       "        <td>1</td>\n",
       "        <td>0</td>\n",
       "        <td>0</td>\n",
       "        <td>0</td>\n",
       "        <td>0</td>\n",
       "        <td>0</td>\n",
       "        <td>0</td>\n",
       "    </tr>\n",
       "</table>"
      ],
      "text/plain": [
       "[(30.0210832601055, 42.9064464435664, 1, 63.093834148217, 108.936448810382, 0, 0, 0, 1, 0, 0, 0, 0, 0, 0, 0, 0),\n",
       " (30.021610288808, 43.7499412344377, 0, 40.803713862809, 105.490066388239, 0, 0, 0, 0, 0, 0, 0, 0, 1, 0, 0, 0),\n",
       " (30.0233328496095, 46.4828477143712, 1, 67.7743623717212, 84.0648064261981, 0, 0, 0, 0, 0, 0, 1, 0, 0, 0, 0, 0),\n",
       " (30.0357202348213, 41.6970643463286, 1, 79.5710581773714, 82.9018072245539, 0, 0, 0, 0, 0, 1, 0, 0, 0, 0, 0, 0),\n",
       " (30.0363189224595, 47.5791821834829, 1, 68.9829039558788, 83.3623320632097, 0, 0, 0, 0, 0, 1, 0, 0, 0, 0, 0, 0)]"
      ]
     },
     "execution_count": 26,
     "metadata": {},
     "output_type": "execute_result"
    }
   ],
   "source": [
    "%%sql\n",
    "SELECT * FROM sensors_split_train LIMIT 5;"
   ]
  },
  {
   "cell_type": "code",
   "execution_count": 27,
   "id": "5182b728-3fce-45d6-8b20-44e5626422be",
   "metadata": {
    "execution": {
     "iopub.execute_input": "2021-10-07T09:41:55.622872Z",
     "iopub.status.busy": "2021-10-07T09:41:55.622690Z",
     "iopub.status.idle": "2021-10-07T09:41:55.706262Z",
     "shell.execute_reply": "2021-10-07T09:41:55.705619Z",
     "shell.execute_reply.started": "2021-10-07T09:41:55.622852Z"
    },
    "tags": []
   },
   "outputs": [
    {
     "name": "stdout",
     "output_type": "stream",
     "text": [
      " * postgresql://gpadmin@192.168.133.128:32000/db\n",
      "1 rows affected.\n",
      " * postgresql://gpadmin@192.168.133.128:32000/db\n",
      "1 rows affected.\n",
      "\n",
      "Total rain in training set 35466\n",
      "Total rain in testing set 15149\n"
     ]
    }
   ],
   "source": [
    "train_rain = %sql SELECT COUNT(*) FROM sensors_split_train WHERE rain = 1;\n",
    "test_rain = %sql SELECT COUNT(*) FROM sensors_split_test WHERE rain = 1;\n",
    "\n",
    "print(\"\\nTotal rain in training set {}\".format(train_rain[0][0]))\n",
    "print(\"Total rain in testing set {}\".format(test_rain[0][0]))"
   ]
  },
  {
   "cell_type": "code",
   "execution_count": 28,
   "id": "47cef1f8-6dda-45a5-aa1e-916744a8075e",
   "metadata": {
    "execution": {
     "iopub.execute_input": "2021-10-07T09:41:55.712421Z",
     "iopub.status.busy": "2021-10-07T09:41:55.712149Z",
     "iopub.status.idle": "2021-10-07T09:41:55.912883Z",
     "shell.execute_reply": "2021-10-07T09:41:55.911961Z",
     "shell.execute_reply.started": "2021-10-07T09:41:55.712392Z"
    },
    "tags": []
   },
   "outputs": [
    {
     "data": {
      "image/png": "[encoded data removed]",
      "text/plain": [
       "<Figure size 792x432 with 2 Axes>"
      ]
     },
     "metadata": {},
     "output_type": "display_data"
    }
   ],
   "source": [
    "train_data=[train_rain[0][0],int((200000*0.7)-train_rain[0][0])]\n",
    "test_data=[test_rain[0][0],int((200000*0.3)-test_rain[0][0])]\n",
    "\n",
    "labels = ['rain','not_rain']\n",
    "\n",
    "f, (ax1, ax2) = plt.subplots(1, 2,figsize=(11,6))\n",
    "f.patch.set_facecolor('white')\n",
    "ax1.title.set_text('Training Set')\n",
    "ax2.title.set_text('Testing Set')\n",
    "f.suptitle(\"Rain Train/Test Distribution\",fontsize=15)\n",
    "ax1.pie(train_data,labels=labels,autopct=\"%.1f%%\",radius=1.2,textprops={'fontsize': 15,},explode = [0.1, 0],startangle = -30);\n",
    "ax2.pie(test_data,labels=labels,autopct=\"%.1f%%\",radius=1.2,textprops={'fontsize': 15},explode = [0.1, 0], startangle = -30);\n",
    "plt.tight_layout()"
   ]
  },
  {
   "cell_type": "markdown",
   "id": "0b672e9d-0cf5-4e27-9fb9-c1a8371f2b0a",
   "metadata": {},
   "source": [
    "### Classification Model Training ( Logistic Regresion )"
   ]
  },
  {
   "cell_type": "code",
   "execution_count": 29,
   "id": "a6312323-db88-4451-b4a4-d4554fecfd54",
   "metadata": {
    "execution": {
     "iopub.execute_input": "2021-10-07T09:41:55.915481Z",
     "iopub.status.busy": "2021-10-07T09:41:55.915213Z",
     "iopub.status.idle": "2021-10-07T09:42:13.305429Z",
     "shell.execute_reply": "2021-10-07T09:42:13.304763Z",
     "shell.execute_reply.started": "2021-10-07T09:41:55.915461Z"
    },
    "tags": []
   },
   "outputs": [
    {
     "name": "stdout",
     "output_type": "stream",
     "text": [
      " * postgresql://gpadmin@192.168.133.128:32000/db\n",
      "Done.\n",
      "Done.\n",
      "1 rows affected.\n",
      "1 rows affected.\n"
     ]
    },
    {
     "data": {
      "text/html": [
       "<table>\n",
       "    <tr>\n",
       "        <th>method</th>\n",
       "        <th>source_table</th>\n",
       "        <th>out_table</th>\n",
       "        <th>dependent_varname</th>\n",
       "        <th>independent_varname</th>\n",
       "        <th>optimizer_params</th>\n",
       "        <th>num_all_groups</th>\n",
       "        <th>num_failed_groups</th>\n",
       "        <th>num_rows_processed</th>\n",
       "        <th>num_missing_rows_skipped</th>\n",
       "        <th>grouping_col</th>\n",
       "    </tr>\n",
       "    <tr>\n",
       "        <td>logregr</td>\n",
       "        <td>sensors_split_train</td>\n",
       "        <td>sensors_logreg_model</td>\n",
       "        <td>rain</td>\n",
       "        <td>ARRAY[<br>            1,<br>            temperature,<br>            temperature_2,<br>            humidity,pm25,<br>            &quot;month_January&quot;,&quot;month_February&quot;,&quot;month_March&quot;,<br>            &quot;month_April&quot;,&quot;month_May&quot;,&quot;month_June&quot;,<br>            &quot;month_July&quot;,&quot;month_August&quot;,&quot;month_September&quot;,<br>            &quot;month_October&quot;,&quot;month_November&quot;,&quot;month_December&quot;]</td>\n",
       "        <td>optimizer=irls, max_iter=20, tolerance=0.0001</td>\n",
       "        <td>1</td>\n",
       "        <td>0</td>\n",
       "        <td>140000</td>\n",
       "        <td>0</td>\n",
       "        <td>None</td>\n",
       "    </tr>\n",
       "</table>"
      ],
      "text/plain": [
       "[('logregr', 'sensors_split_train', 'sensors_logreg_model', 'rain', 'ARRAY[\\n            1,\\n            temperature,\\n            temperature_2,\\n            humidity,pm25,\\n            \"month_January\",\"month_February ... (44 characters truncated) ... \"month_May\",\"month_June\",\\n            \"month_July\",\"month_August\",\"month_September\",\\n            \"month_October\",\"month_November\",\"month_December\"]', 'optimizer=irls, max_iter=20, tolerance=0.0001', 1, 0, 140000, 0, None)]"
      ]
     },
     "execution_count": 29,
     "metadata": {},
     "output_type": "execute_result"
    }
   ],
   "source": [
    "%%sql\n",
    "DROP TABLE IF EXISTS sensors_logreg_model;\n",
    "DROP TABLE IF EXISTS sensors_logreg_model_summary;\n",
    "\n",
    "SELECT\n",
    "    madlib.logregr_train(        -- Train the Logistic Regression Model\n",
    "        'sensors_split_train',   -- source_table,\n",
    "        'sensors_logreg_model',  -- out_table,\n",
    "        'rain',                  -- labels,\n",
    "        'ARRAY[\n",
    "            1,\n",
    "            temperature,\n",
    "            temperature_2,\n",
    "            humidity,pm25,\n",
    "            \"month_January\",\"month_February\",\"month_March\",\n",
    "            \"month_April\",\"month_May\",\"month_June\",\n",
    "            \"month_July\",\"month_August\",\"month_September\",\n",
    "            \"month_October\",\"month_November\",\"month_December\"]'       -- feature\n",
    "        --, -- grouping_cols,\n",
    "        --, -- max_iter,\n",
    "        --, -- optimizer,\n",
    "        --, -- tolerance,\n",
    "        -- verbose\n",
    "    )\n",
    ";\n",
    "SELECT * FROM sensors_logreg_model_summary ;           --- Get the summary table"
   ]
  },
  {
   "cell_type": "code",
   "execution_count": 30,
   "id": "1ec1bd8c-503a-441d-b57b-5214db53c726",
   "metadata": {
    "execution": {
     "iopub.execute_input": "2021-10-07T09:42:13.306872Z",
     "iopub.status.busy": "2021-10-07T09:42:13.306649Z",
     "iopub.status.idle": "2021-10-07T09:42:13.319412Z",
     "shell.execute_reply": "2021-10-07T09:42:13.318781Z",
     "shell.execute_reply.started": "2021-10-07T09:42:13.306847Z"
    },
    "tags": []
   },
   "outputs": [
    {
     "name": "stdout",
     "output_type": "stream",
     "text": [
      " * postgresql://gpadmin@192.168.133.128:32000/db\n",
      "1 rows affected.\n"
     ]
    }
   ],
   "source": [
    "logreg_coefs = %sql SELECT coef FROM sensors_logreg_model ;\n",
    "logreg_coefs = logreg_coefs.DataFrame();"
   ]
  },
  {
   "cell_type": "code",
   "execution_count": 31,
   "id": "06d96b9e-456a-4c1d-8b53-f734989e797d",
   "metadata": {
    "execution": {
     "iopub.execute_input": "2021-10-07T09:42:13.320724Z",
     "iopub.status.busy": "2021-10-07T09:42:13.320418Z",
     "iopub.status.idle": "2021-10-07T09:42:13.326844Z",
     "shell.execute_reply": "2021-10-07T09:42:13.326157Z",
     "shell.execute_reply.started": "2021-10-07T09:42:13.320693Z"
    },
    "tags": []
   },
   "outputs": [
    {
     "data": {
      "text/plain": [
       "(('intercept', -16036.3274172147),\n",
       " ('temperature', 0.0381577591603279),\n",
       " ('temperature_2', 0.0256436055535459),\n",
       " ('humidity', 289.539350988271),\n",
       " ('pm25', -0.0216654775896871),\n",
       " ('month_January', -1336.63798378595),\n",
       " ('month_February', -1336.77877256774),\n",
       " ('month_March', -1335.84187684721),\n",
       " ('month_April', -1336.85790718947),\n",
       " ('month_May', -1335.12198998131),\n",
       " ('month_June', -1335.51880185834),\n",
       " ('month_July', -1337.67173876969),\n",
       " ('month_August', -1336.03666938952),\n",
       " ('month_September', -1336.39739848611),\n",
       " ('month_October', -1335.61796867428),\n",
       " ('month_November', -1336.51021031199),\n",
       " ('month_December', -1337.33610394818))"
      ]
     },
     "execution_count": 31,
     "metadata": {},
     "output_type": "execute_result"
    }
   ],
   "source": [
    "logreg_coef_names = (\n",
    "    'intercept',\n",
    "    'temperature',\n",
    "    'temperature_2',\n",
    "    'humidity',\n",
    "    'pm25',\n",
    "    \"month_January\",\"month_February\",\"month_March\",\n",
    "    \"month_April\",\"month_May\",\"month_June\",\"month_July\",\n",
    "    \"month_August\",\"month_September\",\"month_October\",\n",
    "    \"month_November\",\"month_December\"\n",
    ")\n",
    "tuple(zip(logreg_coef_names, logreg_coefs.iloc[0, 0]))"
   ]
  },
  {
   "cell_type": "code",
   "execution_count": 32,
   "id": "6bbcab2d-5ba8-4240-ae5d-1658c30f30ae",
   "metadata": {
    "execution": {
     "iopub.execute_input": "2021-10-07T09:42:13.328320Z",
     "iopub.status.busy": "2021-10-07T09:42:13.328019Z",
     "iopub.status.idle": "2021-10-07T09:42:14.104860Z",
     "shell.execute_reply": "2021-10-07T09:42:14.104151Z",
     "shell.execute_reply.started": "2021-10-07T09:42:13.328294Z"
    },
    "tags": []
   },
   "outputs": [
    {
     "name": "stdout",
     "output_type": "stream",
     "text": [
      " * postgresql://gpadmin@192.168.133.128:32000/db\n",
      "Done.\n",
      "60000 rows affected.\n",
      "10 rows affected.\n"
     ]
    },
    {
     "data": {
      "text/html": [
       "<table>\n",
       "    <tr>\n",
       "        <th>pred</th>\n",
       "        <th>y_test</th>\n",
       "    </tr>\n",
       "    <tr>\n",
       "        <td>1.65424229576997e-294</td>\n",
       "        <td>0</td>\n",
       "    </tr>\n",
       "    <tr>\n",
       "        <td>0.0</td>\n",
       "        <td>0</td>\n",
       "    </tr>\n",
       "    <tr>\n",
       "        <td>0.0</td>\n",
       "        <td>0</td>\n",
       "    </tr>\n",
       "    <tr>\n",
       "        <td>0.0</td>\n",
       "        <td>0</td>\n",
       "    </tr>\n",
       "    <tr>\n",
       "        <td>0.0</td>\n",
       "        <td>0</td>\n",
       "    </tr>\n",
       "    <tr>\n",
       "        <td>0.0</td>\n",
       "        <td>0</td>\n",
       "    </tr>\n",
       "    <tr>\n",
       "        <td>0.0</td>\n",
       "        <td>0</td>\n",
       "    </tr>\n",
       "    <tr>\n",
       "        <td>0.0</td>\n",
       "        <td>0</td>\n",
       "    </tr>\n",
       "    <tr>\n",
       "        <td>0.0</td>\n",
       "        <td>0</td>\n",
       "    </tr>\n",
       "    <tr>\n",
       "        <td>0.0</td>\n",
       "        <td>0</td>\n",
       "    </tr>\n",
       "</table>"
      ],
      "text/plain": [
       "[(1.65424229576997e-294, 0),\n",
       " (0.0, 0),\n",
       " (0.0, 0),\n",
       " (0.0, 0),\n",
       " (0.0, 0),\n",
       " (0.0, 0),\n",
       " (0.0, 0),\n",
       " (0.0, 0),\n",
       " (0.0, 0),\n",
       " (0.0, 0)]"
      ]
     },
     "execution_count": 32,
     "metadata": {},
     "output_type": "execute_result"
    }
   ],
   "source": [
    "%%sql\n",
    "DROP TABLE IF EXISTS sensors_logreg_test_prob;\n",
    "CREATE TABLE sensors_logreg_test_prob\n",
    "AS\n",
    "SELECT madlib.logregr_predict_prob(   --- Use the logistic regression model to estimate probability of mature\n",
    "        coef, \n",
    "        ARRAY[\n",
    "            1,\n",
    "            temperature,\n",
    "            temperature_2,\n",
    "            humidity,\n",
    "            pm25,\n",
    "            \"month_January\",\"month_February\",\"month_March\",\n",
    "            \"month_April\",\"month_May\",\"month_June\",\"month_July\",\n",
    "            \"month_August\",\"month_September\",\"month_October\",\n",
    "            \"month_November\",\"month_December\"]                   \n",
    "    ) as pred,\n",
    "    test.rain as y_test\n",
    "FROM sensors_split_test test, sensors_logreg_model model;\n",
    "\n",
    "SELECT * FROM sensors_logreg_test_prob LIMIT 10;"
   ]
  },
  {
   "cell_type": "markdown",
   "id": "45298048-c0fb-428e-a3cc-8141472c943e",
   "metadata": {},
   "source": [
    "### Confusion Matrix"
   ]
  },
  {
   "cell_type": "code",
   "execution_count": 33,
   "id": "ee07e4d4-fefc-4127-93cf-304ad1e596f5",
   "metadata": {
    "execution": {
     "iopub.execute_input": "2021-10-07T09:42:14.106102Z",
     "iopub.status.busy": "2021-10-07T09:42:14.105896Z",
     "iopub.status.idle": "2021-10-07T09:42:14.397100Z",
     "shell.execute_reply": "2021-10-07T09:42:14.396321Z",
     "shell.execute_reply.started": "2021-10-07T09:42:14.106078Z"
    },
    "tags": []
   },
   "outputs": [
    {
     "name": "stdout",
     "output_type": "stream",
     "text": [
      " * postgresql://gpadmin@192.168.133.128:32000/db\n",
      "Done.\n",
      "60000 rows affected.\n",
      "10 rows affected.\n"
     ]
    },
    {
     "data": {
      "text/html": [
       "<table>\n",
       "    <tr>\n",
       "        <th>pred</th>\n",
       "        <th>y_test</th>\n",
       "    </tr>\n",
       "    <tr>\n",
       "        <td>0</td>\n",
       "        <td>0</td>\n",
       "    </tr>\n",
       "    <tr>\n",
       "        <td>0</td>\n",
       "        <td>0</td>\n",
       "    </tr>\n",
       "    <tr>\n",
       "        <td>0</td>\n",
       "        <td>0</td>\n",
       "    </tr>\n",
       "    <tr>\n",
       "        <td>0</td>\n",
       "        <td>0</td>\n",
       "    </tr>\n",
       "    <tr>\n",
       "        <td>0</td>\n",
       "        <td>0</td>\n",
       "    </tr>\n",
       "    <tr>\n",
       "        <td>0</td>\n",
       "        <td>0</td>\n",
       "    </tr>\n",
       "    <tr>\n",
       "        <td>1</td>\n",
       "        <td>1</td>\n",
       "    </tr>\n",
       "    <tr>\n",
       "        <td>1</td>\n",
       "        <td>1</td>\n",
       "    </tr>\n",
       "    <tr>\n",
       "        <td>0</td>\n",
       "        <td>0</td>\n",
       "    </tr>\n",
       "    <tr>\n",
       "        <td>1</td>\n",
       "        <td>1</td>\n",
       "    </tr>\n",
       "</table>"
      ],
      "text/plain": [
       "[(0, 0),\n",
       " (0, 0),\n",
       " (0, 0),\n",
       " (0, 0),\n",
       " (0, 0),\n",
       " (0, 0),\n",
       " (1, 1),\n",
       " (1, 1),\n",
       " (0, 0),\n",
       " (1, 1)]"
      ]
     },
     "execution_count": 33,
     "metadata": {},
     "output_type": "execute_result"
    }
   ],
   "source": [
    "%%sql\n",
    "DROP TABLE IF EXISTS sensors_logreg_test_predict ;\n",
    "CREATE TABLE sensors_logreg_test_predict\n",
    "AS\n",
    "SELECT\n",
    "    (pred >= 0.5)::integer as pred,\n",
    "    y_test\n",
    "FROM sensors_logreg_test_prob;\n",
    "\n",
    "\n",
    "SELECT * FROM sensors_logreg_test_predict LIMIT 10;"
   ]
  },
  {
   "cell_type": "code",
   "execution_count": 34,
   "id": "3470ce5a-ed26-4f7f-b5db-b0ac8ed83fd0",
   "metadata": {
    "execution": {
     "iopub.execute_input": "2021-10-07T09:42:14.398692Z",
     "iopub.status.busy": "2021-10-07T09:42:14.398476Z",
     "iopub.status.idle": "2021-10-07T09:42:15.303244Z",
     "shell.execute_reply": "2021-10-07T09:42:15.302610Z",
     "shell.execute_reply.started": "2021-10-07T09:42:14.398667Z"
    },
    "tags": []
   },
   "outputs": [
    {
     "name": "stdout",
     "output_type": "stream",
     "text": [
      " * postgresql://gpadmin@192.168.133.128:32000/db\n",
      "Done.\n",
      "1 rows affected.\n"
     ]
    },
    {
     "data": {
      "text/html": [
       "<table>\n",
       "    <tr>\n",
       "        <th>confusion_matrix</th>\n",
       "    </tr>\n",
       "    <tr>\n",
       "        <td></td>\n",
       "    </tr>\n",
       "</table>"
      ],
      "text/plain": [
       "[('',)]"
      ]
     },
     "execution_count": 34,
     "metadata": {},
     "output_type": "execute_result"
    }
   ],
   "source": [
    "%%sql\n",
    "DROP TABLE IF EXISTS sensors_logreg_test_conf_matrix;\n",
    "SELECT\n",
    "madlib.confusion_matrix(\n",
    "    'sensors_logreg_test_predict',\n",
    "    'sensors_logreg_test_conf_matrix',\n",
    "    'pred',  -- prediction_col\n",
    "    'y_test' -- observation_col\n",
    ");"
   ]
  },
  {
   "cell_type": "code",
   "execution_count": 35,
   "id": "9cb21152-97a5-4f38-81f8-685d4870a6c4",
   "metadata": {
    "execution": {
     "iopub.execute_input": "2021-10-07T09:42:15.304715Z",
     "iopub.status.busy": "2021-10-07T09:42:15.304501Z",
     "iopub.status.idle": "2021-10-07T09:42:15.323371Z",
     "shell.execute_reply": "2021-10-07T09:42:15.322717Z",
     "shell.execute_reply.started": "2021-10-07T09:42:15.304690Z"
    },
    "tags": []
   },
   "outputs": [
    {
     "name": "stdout",
     "output_type": "stream",
     "text": [
      " * postgresql://gpadmin@192.168.133.128:32000/db\n",
      "2 rows affected.\n"
     ]
    }
   ],
   "source": [
    "confusion = %sql SELECT \\\n",
    "                        confusion_arr[1] as \"Predicted 0\",\\\n",
    "                        confusion_arr[2] as \"Predicted 1\" \\\n",
    "                        FROM sensors_logreg_test_conf_matrix ORDER BY row_id;\n",
    "\n",
    "confusion=confusion.DataFrame()"
   ]
  },
  {
   "cell_type": "code",
   "execution_count": 36,
   "id": "ef083c54-5cdd-45f1-8398-cceac2f540e9",
   "metadata": {
    "execution": {
     "iopub.execute_input": "2021-10-07T09:42:15.324790Z",
     "iopub.status.busy": "2021-10-07T09:42:15.324580Z",
     "iopub.status.idle": "2021-10-07T09:42:15.523324Z",
     "shell.execute_reply": "2021-10-07T09:42:15.522840Z",
     "shell.execute_reply.started": "2021-10-07T09:42:15.324766Z"
    },
    "tags": []
   },
   "outputs": [
    {
     "data": {
      "image/png": "[encoded data removed]",
      "text/plain": [
       "<Figure size 432x288 with 2 Axes>"
      ]
     },
     "metadata": {
      "needs_background": "light"
     },
     "output_type": "display_data"
    }
   ],
   "source": [
    "plt.title('Confusion Matrix')\n",
    "sns.heatmap(confusion.astype(int),annot=True,cmap=\"YlGnBu\",fmt='d',yticklabels=['True 0','True 1'],annot_kws={\"fontsize\":13});\n",
    "plt.yticks(rotation=0);"
   ]
  },
  {
   "cell_type": "markdown",
   "id": "cef05c60-7e1f-4ca9-b165-133ebdc58272",
   "metadata": {},
   "source": [
    "### ROC"
   ]
  },
  {
   "cell_type": "code",
   "execution_count": 37,
   "id": "4271e0ac-5b93-461d-a4be-323143b9f9fb",
   "metadata": {
    "execution": {
     "iopub.execute_input": "2021-10-07T09:42:15.524853Z",
     "iopub.status.busy": "2021-10-07T09:42:15.524513Z",
     "iopub.status.idle": "2021-10-07T09:42:15.815802Z",
     "shell.execute_reply": "2021-10-07T09:42:15.815184Z",
     "shell.execute_reply.started": "2021-10-07T09:42:15.524819Z"
    },
    "tags": []
   },
   "outputs": [
    {
     "name": "stdout",
     "output_type": "stream",
     "text": [
      " * postgresql://gpadmin@192.168.133.128:32000/db\n",
      "Done.\n",
      "1 rows affected.\n",
      "1 rows affected.\n"
     ]
    },
    {
     "data": {
      "text/html": [
       "<table>\n",
       "    <tr>\n",
       "        <th>area_under_roc</th>\n",
       "    </tr>\n",
       "    <tr>\n",
       "        <td>0.999999995584649763505967314035200811652051580</td>\n",
       "    </tr>\n",
       "</table>"
      ],
      "text/plain": [
       "[(Decimal('0.999999995584649763505967314035200811652051580'),)]"
      ]
     },
     "execution_count": 37,
     "metadata": {},
     "output_type": "execute_result"
    }
   ],
   "source": [
    "%%sql\n",
    "DROP TABLE IF EXISTS sensors_logreg_test_auc;\n",
    "SELECT\n",
    "madlib.area_under_roc(\n",
    "    'sensors_logreg_test_prob', \n",
    "    'sensors_logreg_test_auc', \n",
    "    'pred',  -- predictions, \n",
    "    'y_test'\n",
    ");\n",
    "\n",
    "SELECT * FROM sensors_logreg_test_auc;"
   ]
  },
  {
   "cell_type": "markdown",
   "id": "1decb2ff-ec40-45a3-8b7c-39194807db41",
   "metadata": {},
   "source": [
    "### Linear Regression"
   ]
  },
  {
   "cell_type": "code",
   "execution_count": 38,
   "id": "57934b39-a57f-416b-a567-fe42e73bac15",
   "metadata": {
    "execution": {
     "iopub.execute_input": "2021-10-07T09:42:15.817170Z",
     "iopub.status.busy": "2021-10-07T09:42:15.816962Z",
     "iopub.status.idle": "2021-10-07T09:42:17.320543Z",
     "shell.execute_reply": "2021-10-07T09:42:17.319725Z",
     "shell.execute_reply.started": "2021-10-07T09:42:15.817146Z"
    },
    "tags": []
   },
   "outputs": [
    {
     "name": "stdout",
     "output_type": "stream",
     "text": [
      " * postgresql://gpadmin@192.168.133.128:32000/db\n",
      "Done.\n",
      "Done.\n",
      "1 rows affected.\n",
      "1 rows affected.\n"
     ]
    },
    {
     "data": {
      "text/html": [
       "<table>\n",
       "    <tr>\n",
       "        <th>coef</th>\n",
       "        <th>r2</th>\n",
       "        <th>std_err</th>\n",
       "        <th>t_stats</th>\n",
       "        <th>p_values</th>\n",
       "        <th>condition_no</th>\n",
       "        <th>bp_stats</th>\n",
       "        <th>bp_p_value</th>\n",
       "        <th>num_rows_processed</th>\n",
       "        <th>num_missing_rows_skipped</th>\n",
       "        <th>variance_covariance</th>\n",
       "    </tr>\n",
       "    <tr>\n",
       "        <td>[13.979089843992, 0.996377192058678, 0.00042600896385732, -0.000553530864677003, 1.16635917217237, 1.16496946281221, 1.20242891487683, 1.13423481062356, 1.17715455637042, 1.16952772652831, 1.1309915842705, 1.19004577324681, 1.13511463653315, 1.18663298465487, 1.15589942044383, 1.1657308012989]</td>\n",
       "        <td>0.0839661662759716</td>\n",
       "        <td>[0.263072733685494, 0.00880898783440294, 0.000535179003467631, 0.000527108205045474, 0.0344562268410434, 0.0355705311996003, 0.0345569615457121, 0.0343664066941671, 0.0341287929676055, 0.0343765208711318, 0.034331410931225, 0.0341786049183402, 0.034603025103017, 0.0343210981487332, 0.0345754824917438, 0.0343521585186793]</td>\n",
       "        <td>[53.1377374163912, 113.109157463857, 0.79601210267414, -1.05012758173485, 33.8504612693991, 32.7509717601658, 34.7955624885091, 33.0041723802353, 34.4915379072375, 34.0211195575186, 32.9433470280666, 34.8184420075096, 32.8039133328312, 34.5744468755779, 33.4311869897938, 33.934717687828]</td>\n",
       "        <td>[0.0, 0.0, 0.426026350777908, 0.293661272044726, 3.69517723179865e-250, 2.28030412112204e-234, 3.84974398849407e-264, 5.84852349806166e-238, 1.33205462807495e-259, 1.17709886297456e-252, 4.28711407801691e-237, 1.74686334804624e-264, 4.06828441058346e-235, 7.77261162264678e-261, 4.46144077806461e-244, 2.16999937365974e-251]</td>\n",
       "        <td>10958716156.1084</td>\n",
       "        <td>17.5845018682443</td>\n",
       "        <td>0.285138837986759</td>\n",
       "        <td>140000</td>\n",
       "        <td>0</td>\n",
       "        <td>[[0.0692072632087589, -0.00226990385313545, -1.35020275621036e-05, -1.68417698266217e-05, 0.00577173550859092, 0.00575759349360408, 0.00579519795354541, 0.00572424222288345, 0.00572865024124586, 0.00572244516936631, 0.00579120125668013, 0.00573877096244852, 0.00579493862400707, 0.00579688835582844, 0.00577811866510111, 0.00580748075465222], [-0.00226990385313545, 7.7598266666659e-05, 4.08881931248518e-09, -2.57067780356416e-07, -0.000189298198521894, -0.00018873936943445, -0.000189985508513375, -0.000187651634829503, -0.000188110534395768, -0.000187750001347635, -0.000190000188067437, -0.000188399412210972, -0.000190172675085382, -0.000189950218490408, -0.000189276124834697, -0.000190569987377515], [-1.35020275621036e-05, 4.08881931248517e-09, 2.86416565752607e-07, 1.79162074292224e-09, -1.10516706948225e-06, -1.14183243301218e-06, -1.12504570034929e-06, -1.15714262329077e-06, -1.11183241432917e-06, -1.13704834480093e-06, -1.1370863446331e-06, -1.12012730601559e-06, -1.0855200520393e-06, -1.12170092906204e-06, -1.18636328744758e-06, -1.07316105748425e-06], [-1.68417698266216e-05, -2.57067780356416e-07, 1.79162074292225e-09, 2.77843059826262e-07, -1.42088077355796e-06, -1.34391181707753e-06, -1.44326458048985e-06, -1.4047829314331e-06, -1.3421935282285e-06, -1.36066723977089e-06, -1.40203199157517e-06, -1.35411331018569e-06, -1.3946504804511e-06, -1.49363704369477e-06, -1.45084418182273e-06, -1.43079194813846e-06], [0.00577173550859092, -0.000189298198521894, -1.10516706948225e-06, -1.42088077355796e-06, 0.00118723156812144, 0.000408264739991417, 0.000419143105475524, 0.00041335319525368, 0.000415421278382763, 0.00041310284006177, 0.000420293151432643, 0.000416092606756131, 0.000418798946142581, 0.000420942549350053, 0.000417302490410314, 0.000421789037145544], [0.00575759349360408, -0.00018873936943445, -1.14183243301218e-06, -1.34391181707753e-06, 0.000408264739991417, 0.00126526268982174, 0.000409909067469769, 0.000404153340183725, 0.000406229658311457, 0.000403912163198999, 0.000411072325991722, 0.00040689630687435, 0.000409572121702479, 0.000411693987999758, 0.000408080039517758, 0.000412547052472795], [0.00579519795354541, -0.000189985508513375, -1.12504570034929e-06, -1.44326458048985e-06, 0.000419143105475524, 0.000409909067469769, 0.00119418359127182, 0.000414994017340077, 0.000417057640020668, 0.000414739273149848, 0.000421953834069631, 0.000417733236706569, 0.000420457009032939, 0.000422609832257064, 0.00041896426018093, 0.000423453086503233], [0.00572424222288345, -0.000187651634829503, -1.15714262329077e-06, -1.4047829314331e-06, 0.00041335319525368, 0.000404153340183725, 0.000414994017340077, 0.0011810499090689, 0.000411318060139195, 0.000409010506527675, 0.000416149199736378, 0.000411983750689373, 0.000414642471800225, 0.000416789630666845, 0.00041317922475044, 0.000417618916660439], [0.00572865024124586, -0.000188110534395768, -1.11183241432917e-06, -1.3421935282285e-06, 0.000415421278382763, 0.000406229658311457, 0.000417057640020668, 0.000411318060139195, 0.00116477450942568, 0.000411078758460096, 0.000418220058036538, 0.000414059469494478, 0.000416723936721887, 0.000418842540536755, 0.000415227878167986, 0.000419696453481787], [0.00572244516936631, -0.000187750001347635, -1.13704834480093e-06, -1.36066723977089e-06, 0.00041310284006177, 0.000403912163198999, 0.000414739273149848, 0.000409010506527675, 0.000411078758460096, 0.00118174518720336, 0.00041590013345063, 0.000411742212502066, 0.000414398265804318, 0.00041652715072472, 0.000412918512263945, 0.000417370165952408], [0.00579120125668013, -0.000190000188067437, -1.1370863446331e-06, -1.40203199157517e-06, 0.000420293151432643, 0.000411072325991722, 0.000421953834069631, 0.000416149199736378, 0.000418220058036538, 0.00041590013345063, 0.00117864577652864, 0.000418894147024147, 0.000421609849912076, 0.000423749550856824, 0.000420113338876142, 0.00042459989069746], [0.00573877096244852, -0.000188399412210972, -1.12012730601559e-06, -1.35411331018569e-06, 0.000416092606756131, 0.00040689630687435, 0.000417733236706569, 0.000411983750689373, 0.000414059469494478, 0.000411742212502066, 0.000418894147024147, 0.00116817703416399, 0.000417396876634621, 0.000419520237094279, 0.000415902831875571, 0.000420372252566258], [0.00579493862400707, -0.000190172675085382, -1.0855200520393e-06, -1.3946504804511e-06, 0.000418798946142581, 0.000409572121702479, 0.000420457009032939, 0.000414642471800225, 0.000416723936721887, 0.000414398265804318, 0.000421609849912076, 0.000417396876634621, 0.00119736934628003, 0.000422252072194203, 0.000418603775347167, 0.000423113952367227], [0.00579688835582844, -0.000189950218490408, -1.12170092906204e-06, -1.49363704369477e-06, 0.000420942549350053, 0.000411693987999758, 0.000422609832257064, 0.000416789630666845, 0.000418842540536755, 0.00041652715072472, 0.000423749550856824, 0.000419520237094279, 0.000422252072194203, 0.00117793777813498, 0.00042076809910367, 0.00042525492684192], [0.00577811866510111, -0.000189276124834697, -1.18636328744758e-06, -1.45084418182273e-06, 0.000417302490410314, 0.000408080039517758, 0.00041896426018093, 0.00041317922475044, 0.000415227878167986, 0.000412918512263945, 0.000420113338876142, 0.000415902831875571, 0.000418603775347167, 0.00042076809910367, 0.00119546398953688, 0.000421594225003185], [0.00580748075465222, -0.000190569987377515, -1.07316105748425e-06, -1.43079194813846e-06, 0.000421789037145543, 0.000412547052472795, 0.000423453086503233, 0.000417618916660439, 0.000419696453481787, 0.000417370165952408, 0.00042459989069746, 0.000420372252566258, 0.000423113952367227, 0.00042525492684192, 0.000421594225003185, 0.00118007079489247]]</td>\n",
       "    </tr>\n",
       "</table>"
      ],
      "text/plain": [
       "[([13.979089843992, 0.996377192058678, 0.00042600896385732, -0.000553530864677003, 1.16635917217237, 1.16496946281221, 1.20242891487683, 1.13423481062356, 1.17715455637042, 1.16952772652831, 1.1309915842705, 1.19004577324681, 1.13511463653315, 1.18663298465487, 1.15589942044383, 1.1657308012989], 0.0839661662759716, [0.263072733685494, 0.00880898783440294, 0.000535179003467631, 0.000527108205045474, 0.0344562268410434, 0.0355705311996003, 0.0345569615457121, 0.034 ... (22 characters truncated) ... 87929676055, 0.0343765208711318, 0.034331410931225, 0.0341786049183402, 0.034603025103017, 0.0343210981487332, 0.0345754824917438, 0.0343521585186793], [53.1377374163912, 113.109157463857, 0.79601210267414, -1.05012758173485, 33.8504612693991, 32.7509717601658, 34.7955624885091, 33.0041723802353, 34.4915379072375, 34.0211195575186, 32.9433470280666, 34.8184420075096, 32.8039133328312, 34.5744468755779, 33.4311869897938, 33.934717687828], [0.0, 0.0, 0.426026350777908, 0.293661272044726, 3.69517723179865e-250, 2.28030412112204e-234, 3.84974398849407e-264, 5.84852349806166e-238, 1.3320546 ... (24 characters truncated) ... 297456e-252, 4.28711407801691e-237, 1.74686334804624e-264, 4.06828441058346e-235, 7.77261162264678e-261, 4.46144077806461e-244, 2.16999937365974e-251], 10958716156.1084, 17.5845018682443, 0.285138837986759, 140000, 0, [[0.0692072632087589, -0.00226990385313545, -1.35020275621036e-05, -1.68417698266217e-05, 0.00577173550859092, 0.00575759349360408, 0.0057951979535454 ... (5370 characters truncated) ... .000417370165952408, 0.00042459989069746, 0.000420372252566258, 0.000423113952367227, 0.00042525492684192, 0.000421594225003185, 0.00118007079489247]])]"
      ]
     },
     "execution_count": 38,
     "metadata": {},
     "output_type": "execute_result"
    }
   ],
   "source": [
    "%%sql\n",
    "DROP TABLE IF EXISTS sensors_linreg_model;\n",
    "DROP TABLE IF EXISTS sensors_linreg_model_summary;\n",
    "\n",
    "SELECT madlib.linregr_train(\n",
    "    'sensors_split_train',   -- source_table\n",
    "    'sensors_linreg_model',  -- out_table\n",
    "    'temperature_2',         -- labels\n",
    "    'ARRAY[\n",
    "        1,\n",
    "        temperature,\n",
    "        humidity,pm25,\n",
    "        \"month_January\",\"month_February\",\"month_March\",\n",
    "        \"month_April\",\"month_May\",\"month_June\",\n",
    "        \"month_July\",\"month_August\",\"month_September\",\n",
    "        \"month_October\",\"month_November\",\"month_December\"]',       -- feature\n",
    "    NULL,  -- grouping_cols\n",
    "    TRUE  -- heteroskedasticity_option\n",
    ");\n",
    "\n",
    "SELECT * FROM sensors_linreg_model LIMIT 10;"
   ]
  },
  {
   "cell_type": "code",
   "execution_count": 39,
   "id": "f5c0bed4-5c3e-4928-b6b8-b5dcb38e994a",
   "metadata": {
    "execution": {
     "iopub.execute_input": "2021-10-07T09:42:17.321834Z",
     "iopub.status.busy": "2021-10-07T09:42:17.321623Z",
     "iopub.status.idle": "2021-10-07T09:42:18.226880Z",
     "shell.execute_reply": "2021-10-07T09:42:18.226287Z",
     "shell.execute_reply.started": "2021-10-07T09:42:17.321810Z"
    },
    "tags": []
   },
   "outputs": [
    {
     "name": "stdout",
     "output_type": "stream",
     "text": [
      " * postgresql://gpadmin@192.168.133.128:32000/db\n",
      "Done.\n",
      "60000 rows affected.\n",
      "5 rows affected.\n"
     ]
    },
    {
     "data": {
      "text/html": [
       "<table>\n",
       "    <tr>\n",
       "        <th>prediction</th>\n",
       "        <th>y_test</th>\n",
       "    </tr>\n",
       "    <tr>\n",
       "        <td>47.9038533480603</td>\n",
       "        <td>47.1212313301289</td>\n",
       "    </tr>\n",
       "    <tr>\n",
       "        <td>48.0498835521669</td>\n",
       "        <td>45.2208094122754</td>\n",
       "    </tr>\n",
       "    <tr>\n",
       "        <td>45.636960391493</td>\n",
       "        <td>47.0720438025179</td>\n",
       "    </tr>\n",
       "    <tr>\n",
       "        <td>46.3212394709099</td>\n",
       "        <td>51.4727771391969</td>\n",
       "    </tr>\n",
       "    <tr>\n",
       "        <td>48.1680464875907</td>\n",
       "        <td>46.0193674588016</td>\n",
       "    </tr>\n",
       "</table>"
      ],
      "text/plain": [
       "[(47.9038533480603, 47.1212313301289),\n",
       " (48.0498835521669, 45.2208094122754),\n",
       " (45.636960391493, 47.0720438025179),\n",
       " (46.3212394709099, 51.4727771391969),\n",
       " (48.1680464875907, 46.0193674588016)]"
      ]
     },
     "execution_count": 39,
     "metadata": {},
     "output_type": "execute_result"
    }
   ],
   "source": [
    "%%sql\n",
    "DROP TABLE IF EXISTS sensors_linreg_test_predict;\n",
    "\n",
    "CREATE TABLE sensors_linreg_test_predict\n",
    "AS\n",
    "SELECT \n",
    "    madlib.linregr_predict(\n",
    "        coef, \n",
    "        ARRAY[\n",
    "            1,\n",
    "            temperature,\n",
    "            humidity,pm25,\n",
    "            \"month_January\",\"month_February\",\"month_March\",\n",
    "            \"month_April\",\"month_May\",\"month_June\",\n",
    "            \"month_July\",\"month_August\",\"month_September\",\n",
    "            \"month_October\",\"month_November\",\"month_December\"\n",
    "            ] \n",
    "    ) as prediction,\n",
    "    test.temperature_2 as y_test\n",
    "FROM sensors_split_test test, sensors_linreg_model model;\n",
    "\n",
    "SELECT * FROM sensors_linreg_test_predict LIMIT 5;"
   ]
  },
  {
   "cell_type": "code",
   "execution_count": 40,
   "id": "781f0732-1068-4748-9e8b-945509786b20",
   "metadata": {
    "execution": {
     "iopub.execute_input": "2021-10-07T09:42:18.228173Z",
     "iopub.status.busy": "2021-10-07T09:42:18.227989Z",
     "iopub.status.idle": "2021-10-07T09:42:18.524258Z",
     "shell.execute_reply": "2021-10-07T09:42:18.523498Z",
     "shell.execute_reply.started": "2021-10-07T09:42:18.228151Z"
    },
    "tags": []
   },
   "outputs": [
    {
     "name": "stdout",
     "output_type": "stream",
     "text": [
      " * postgresql://gpadmin@192.168.133.128:32000/db\n",
      "Done.\n",
      "1 rows affected.\n",
      "1 rows affected.\n"
     ]
    },
    {
     "data": {
      "text/html": [
       "<table>\n",
       "    <tr>\n",
       "        <th>mean_squared_error</th>\n",
       "    </tr>\n",
       "    <tr>\n",
       "        <td>8.91759263909133</td>\n",
       "    </tr>\n",
       "</table>"
      ],
      "text/plain": [
       "[(8.91759263909133,)]"
      ]
     },
     "execution_count": 40,
     "metadata": {},
     "output_type": "execute_result"
    }
   ],
   "source": [
    "%%sql\n",
    "DROP TABLE IF EXISTS sensors_linreg_test_predict_mse;\n",
    "\n",
    "SELECT madlib.mean_squared_error(\n",
    "    'sensors_linreg_test_predict',      -- table_in\n",
    "    'sensors_linreg_test_predict_mse',  -- table_out\n",
    "    'prediction',  -- prediction\n",
    "    'y_test'  -- y_test\n",
    ");\n",
    "\n",
    "SELECT * FROM sensors_linreg_test_predict_mse;"
   ]
  },
  {
   "cell_type": "code",
   "execution_count": 41,
   "id": "840d486f-95f3-4e58-88e5-61502b2bbe5f",
   "metadata": {
    "execution": {
     "iopub.execute_input": "2021-10-07T09:42:18.525634Z",
     "iopub.status.busy": "2021-10-07T09:42:18.525429Z",
     "iopub.status.idle": "2021-10-07T09:42:18.600073Z",
     "shell.execute_reply": "2021-10-07T09:42:18.599384Z",
     "shell.execute_reply.started": "2021-10-07T09:42:18.525611Z"
    },
    "tags": []
   },
   "outputs": [
    {
     "name": "stdout",
     "output_type": "stream",
     "text": [
      " * postgresql://gpadmin@192.168.133.128:32000/db\n",
      "200 rows affected.\n"
     ]
    }
   ],
   "source": [
    "pred = %sql SELECT * FROM sensors_linreg_test_predict LIMIT 200;\n",
    "pred=pred.DataFrame()"
   ]
  },
  {
   "cell_type": "code",
   "execution_count": 42,
   "id": "5a3fcc18-5c07-4e4d-a3bd-fc65e01149b0",
   "metadata": {
    "execution": {
     "iopub.execute_input": "2021-10-07T09:42:18.601528Z",
     "iopub.status.busy": "2021-10-07T09:42:18.601129Z",
     "iopub.status.idle": "2021-10-07T09:42:18.610575Z",
     "shell.execute_reply": "2021-10-07T09:42:18.610082Z",
     "shell.execute_reply.started": "2021-10-07T09:42:18.601501Z"
    },
    "tags": []
   },
   "outputs": [
    {
     "data": {
      "text/html": [
       "<div>\n",
       "<style scoped>\n",
       "    .dataframe tbody tr th:only-of-type {\n",
       "        vertical-align: middle;\n",
       "    }\n",
       "\n",
       "    .dataframe tbody tr th {\n",
       "        vertical-align: top;\n",
       "    }\n",
       "\n",
       "    .dataframe thead th {\n",
       "        text-align: right;\n",
       "    }\n",
       "</style>\n",
       "<table border=\"1\" class=\"dataframe\">\n",
       "  <thead>\n",
       "    <tr style=\"text-align: right;\">\n",
       "      <th></th>\n",
       "      <th>prediction</th>\n",
       "      <th>y_test</th>\n",
       "    </tr>\n",
       "  </thead>\n",
       "  <tbody>\n",
       "    <tr>\n",
       "      <th>0</th>\n",
       "      <td>46.546081</td>\n",
       "      <td>44.848916</td>\n",
       "    </tr>\n",
       "    <tr>\n",
       "      <th>1</th>\n",
       "      <td>46.799292</td>\n",
       "      <td>49.151719</td>\n",
       "    </tr>\n",
       "    <tr>\n",
       "      <th>2</th>\n",
       "      <td>48.259909</td>\n",
       "      <td>44.402924</td>\n",
       "    </tr>\n",
       "    <tr>\n",
       "      <th>3</th>\n",
       "      <td>47.198964</td>\n",
       "      <td>49.217530</td>\n",
       "    </tr>\n",
       "    <tr>\n",
       "      <th>4</th>\n",
       "      <td>48.421087</td>\n",
       "      <td>47.169735</td>\n",
       "    </tr>\n",
       "    <tr>\n",
       "      <th>...</th>\n",
       "      <td>...</td>\n",
       "      <td>...</td>\n",
       "    </tr>\n",
       "    <tr>\n",
       "      <th>195</th>\n",
       "      <td>46.909311</td>\n",
       "      <td>50.734306</td>\n",
       "    </tr>\n",
       "    <tr>\n",
       "      <th>196</th>\n",
       "      <td>45.311511</td>\n",
       "      <td>42.757229</td>\n",
       "    </tr>\n",
       "    <tr>\n",
       "      <th>197</th>\n",
       "      <td>47.799929</td>\n",
       "      <td>46.968943</td>\n",
       "    </tr>\n",
       "    <tr>\n",
       "      <th>198</th>\n",
       "      <td>45.402255</td>\n",
       "      <td>43.953387</td>\n",
       "    </tr>\n",
       "    <tr>\n",
       "      <th>199</th>\n",
       "      <td>46.857761</td>\n",
       "      <td>49.459263</td>\n",
       "    </tr>\n",
       "  </tbody>\n",
       "</table>\n",
       "<p>200 rows × 2 columns</p>\n",
       "</div>"
      ],
      "text/plain": [
       "     prediction     y_test\n",
       "0     46.546081  44.848916\n",
       "1     46.799292  49.151719\n",
       "2     48.259909  44.402924\n",
       "3     47.198964  49.217530\n",
       "4     48.421087  47.169735\n",
       "..          ...        ...\n",
       "195   46.909311  50.734306\n",
       "196   45.311511  42.757229\n",
       "197   47.799929  46.968943\n",
       "198   45.402255  43.953387\n",
       "199   46.857761  49.459263\n",
       "\n",
       "[200 rows x 2 columns]"
      ]
     },
     "execution_count": 42,
     "metadata": {},
     "output_type": "execute_result"
    }
   ],
   "source": [
    "pred"
   ]
  },
  {
   "cell_type": "code",
   "execution_count": 43,
   "id": "b9679c2a-dac2-407d-a881-91b83d111a0b",
   "metadata": {
    "execution": {
     "iopub.execute_input": "2021-10-07T09:42:18.611730Z",
     "iopub.status.busy": "2021-10-07T09:42:18.611538Z",
     "iopub.status.idle": "2021-10-07T09:42:18.967718Z",
     "shell.execute_reply": "2021-10-07T09:42:18.967227Z",
     "shell.execute_reply.started": "2021-10-07T09:42:18.611709Z"
    },
    "tags": []
   },
   "outputs": [
    {
     "data": {
      "image/png": "[encoded data removed]",
      "text/plain": [
       "<Figure size 720x360 with 1 Axes>"
      ]
     },
     "metadata": {
      "needs_background": "light"
     },
     "output_type": "display_data"
    }
   ],
   "source": [
    "sns.lmplot(x='prediction',y='y_test',data=pred,height=5,aspect=2)\n",
    "plt.title(\"Prediction , y_test scatterplot\") \n",
    "plt.ylim(30,70);\n"
   ]
  }
 ],
 "metadata": {
  "kernelspec": {
   "display_name": "Python 3",
   "language": "python",
   "name": "python3"
  },
  "language_info": {
   "codemirror_mode": {
    "name": "ipython",
    "version": 3
   },
   "file_extension": ".py",
   "mimetype": "text/x-python",
   "name": "python",
   "nbconvert_exporter": "python",
   "pygments_lexer": "ipython3",
   "version": "3.6.13"
  }
 },
 "nbformat": 4,
 "nbformat_minor": 5
}
