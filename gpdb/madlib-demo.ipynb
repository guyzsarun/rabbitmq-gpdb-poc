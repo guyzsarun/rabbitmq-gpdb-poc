{
 "cells": [
  {
   "cell_type": "markdown",
   "id": "81dce510-c17f-4e05-9d70-40b049404558",
   "metadata": {},
   "source": [
    "## MADlib Greenplum Demo\n",
    "---"
   ]
  },
  {
   "cell_type": "markdown",
   "id": "222f598c-5da6-4931-bd9e-9af36d1dc84d",
   "metadata": {},
   "source": [
    "### Import neccessary Data Science libraries"
   ]
  },
  {
   "cell_type": "code",
   "execution_count": 1,
   "id": "1fff5feb-54f5-4025-9dae-0ed5925c9fbe",
   "metadata": {
    "execution": {
<<<<<<< HEAD
     "iopub.execute_input": "2021-10-12T08:57:04.687682Z",
     "iopub.status.busy": "2021-10-12T08:57:04.687406Z",
     "iopub.status.idle": "2021-10-12T08:57:05.918988Z",
     "shell.execute_reply": "2021-10-12T08:57:05.918517Z",
     "shell.execute_reply.started": "2021-10-12T08:57:04.687609Z"
=======
     "iopub.execute_input": "2021-10-08T03:39:43.611121Z",
     "iopub.status.busy": "2021-10-08T03:39:43.610937Z",
     "iopub.status.idle": "2021-10-08T03:39:45.024813Z",
     "shell.execute_reply": "2021-10-08T03:39:45.024224Z",
     "shell.execute_reply.started": "2021-10-08T03:39:43.611099Z"
>>>>>>> master
    },
    "tags": []
   },
   "outputs": [],
   "source": [
    "%matplotlib widget\n",
    "import warnings\n",
    "warnings.filterwarnings(\"ignore\")\n",
    "\n",
    "import ipywidgets as widgets\n",
    "import pandas as pd\n",
    "import numpy as np\n",
    "import seaborn as sns\n",
    "import matplotlib.pyplot as plt\n",
    "from sklearn.metrics import classification_report\n",
    "pd.set_option('display.max_columns', 200)"
   ]
  },
  {
   "cell_type": "markdown",
   "id": "09157fb2-2108-4d53-9353-aa3068b76918",
   "metadata": {},
   "source": [
    "Connect to Greenplum Database"
   ]
  },
  {
   "cell_type": "code",
   "execution_count": 2,
   "id": "45035b3a-0cc9-486f-aa0c-62908680f7e2",
   "metadata": {
    "execution": {
<<<<<<< HEAD
     "iopub.execute_input": "2021-10-12T08:57:07.368101Z",
     "iopub.status.busy": "2021-10-12T08:57:07.367868Z",
     "iopub.status.idle": "2021-10-12T08:57:07.549936Z",
     "shell.execute_reply": "2021-10-12T08:57:07.549314Z",
     "shell.execute_reply.started": "2021-10-12T08:57:07.368072Z"
=======
     "iopub.execute_input": "2021-10-08T03:39:45.026736Z",
     "iopub.status.busy": "2021-10-08T03:39:45.026552Z",
     "iopub.status.idle": "2021-10-08T03:39:45.265894Z",
     "shell.execute_reply": "2021-10-08T03:39:45.265199Z",
     "shell.execute_reply.started": "2021-10-08T03:39:45.026716Z"
>>>>>>> master
    },
    "tags": []
   },
   "outputs": [],
   "source": [
    "%load_ext sql"
   ]
  },
  {
   "cell_type": "code",
   "execution_count": 3,
   "id": "a57ee55c-91f9-4427-b7f7-180b2c5d4aae",
   "metadata": {
    "execution": {
<<<<<<< HEAD
     "iopub.execute_input": "2021-10-12T08:57:08.454045Z",
     "iopub.status.busy": "2021-10-12T08:57:08.453802Z",
     "iopub.status.idle": "2021-10-12T08:57:10.250257Z",
     "shell.execute_reply": "2021-10-12T08:57:10.249108Z",
     "shell.execute_reply.started": "2021-10-12T08:57:08.454016Z"
=======
     "iopub.execute_input": "2021-10-08T03:39:45.267860Z",
     "iopub.status.busy": "2021-10-08T03:39:45.267644Z",
     "iopub.status.idle": "2021-10-08T03:39:47.320757Z",
     "shell.execute_reply": "2021-10-08T03:39:47.320207Z",
     "shell.execute_reply.started": "2021-10-08T03:39:45.267836Z"
>>>>>>> master
    },
    "tags": []
   },
   "outputs": [
    {
     "name": "stdout",
     "output_type": "stream",
     "text": [
      "|-------------|------------------------------------------------------|--------------|------------------------------|\n",
      "|  NAMESPACE  |                         NAME                         | TARGET PORT  |             URL              |\n",
      "|-------------|------------------------------------------------------|--------------|------------------------------|\n",
      "| default     | agent                                                | No node port |\n",
      "| default     | greenplum                                            | psql/5432    | http://192.168.133.128:32000 |\n",
      "| default     | greenplum-validating-webhook-service-9d44d9fcf-t26tq | No node port |\n",
      "| default     | kubernetes                                           | No node port |\n",
      "| default     | my-greenplum-pl                                      | No node port |\n",
      "| default     | my-greenplum-pxf                                     | No node port |\n",
      "| kube-system | kube-dns                                             | No node port |\n",
      "|-------------|------------------------------------------------------|--------------|------------------------------|\n"
     ]
    }
   ],
   "source": [
    "!minikube service list"
   ]
  },
  {
   "cell_type": "code",
   "execution_count": 4,
   "id": "f898f542-6fb9-4220-8ca2-a9ba6b452563",
   "metadata": {
    "execution": {
<<<<<<< HEAD
     "iopub.execute_input": "2021-10-12T08:57:10.252295Z",
     "iopub.status.busy": "2021-10-12T08:57:10.252067Z",
     "iopub.status.idle": "2021-10-12T08:57:10.397882Z",
     "shell.execute_reply": "2021-10-12T08:57:10.397113Z",
     "shell.execute_reply.started": "2021-10-12T08:57:10.252268Z"
=======
     "iopub.execute_input": "2021-10-08T03:39:47.322123Z",
     "iopub.status.busy": "2021-10-08T03:39:47.321934Z",
     "iopub.status.idle": "2021-10-08T03:39:47.422662Z",
     "shell.execute_reply": "2021-10-08T03:39:47.422195Z",
     "shell.execute_reply.started": "2021-10-08T03:39:47.322102Z"
>>>>>>> master
    },
    "tags": []
   },
   "outputs": [
    {
     "name": "stdout",
     "output_type": "stream",
     "text": [
      " * postgresql://gpadmin@192.168.133.128:32000/db\n",
      "1 rows affected.\n"
     ]
    },
    {
     "data": {
      "text/html": [
       "<table>\n",
       "    <tr>\n",
       "        <th>version</th>\n",
       "    </tr>\n",
       "    <tr>\n",
       "        <td>PostgreSQL 9.4.24 (Greenplum Database 6.11.2 build commit:d611e78af2c5a6561ccbbaf2b4652138410f9aeb) on x86_64-unknown-linux-gnu, compiled by gcc (Ubuntu 7.5.0-3ubuntu1~18.04) 7.5.0, 64-bit compiled on Sep 30 2020 05:25:08</td>\n",
       "    </tr>\n",
       "</table>"
      ],
      "text/plain": [
       "[('PostgreSQL 9.4.24 (Greenplum Database 6.11.2 build commit:d611e78af2c5a6561ccbbaf2b4652138410f9aeb) on x86_64-unknown-linux-gnu, compiled by gcc (Ubuntu 7.5.0-3ubuntu1~18.04) 7.5.0, 64-bit compiled on Sep 30 2020 05:25:08',)]"
      ]
     },
     "execution_count": 4,
     "metadata": {},
     "output_type": "execute_result"
    }
   ],
   "source": [
    "%sql postgresql://gpadmin@192.168.133.128:32000/db\n",
    "\n",
    "        \n",
    "%sql SELECT version();"
   ]
  },
  {
   "cell_type": "markdown",
   "id": "dbde5ef6-811b-471d-9021-416f311d50ae",
   "metadata": {},
   "source": [
    "### Check Database Data"
   ]
  },
  {
   "cell_type": "code",
   "execution_count": 5,
   "id": "6cdd0301-7bb6-47dc-a688-56ba3df9920d",
   "metadata": {
    "execution": {
<<<<<<< HEAD
     "iopub.execute_input": "2021-10-12T08:57:10.715897Z",
     "iopub.status.busy": "2021-10-12T08:57:10.715696Z",
     "iopub.status.idle": "2021-10-12T08:57:10.890719Z",
     "shell.execute_reply": "2021-10-12T08:57:10.889866Z",
     "shell.execute_reply.started": "2021-10-12T08:57:10.715873Z"
=======
     "iopub.execute_input": "2021-10-08T03:39:47.423900Z",
     "iopub.status.busy": "2021-10-08T03:39:47.423743Z",
     "iopub.status.idle": "2021-10-08T03:39:47.623934Z",
     "shell.execute_reply": "2021-10-08T03:39:47.623261Z",
     "shell.execute_reply.started": "2021-10-08T03:39:47.423880Z"
>>>>>>> master
    },
    "tags": []
   },
   "outputs": [
    {
     "name": "stdout",
     "output_type": "stream",
     "text": [
      " * postgresql://gpadmin@192.168.133.128:32000/db\n",
      "1 rows affected.\n"
     ]
    },
    {
     "data": {
      "text/html": [
       "<table>\n",
       "    <tr>\n",
       "        <th>num_sample</th>\n",
       "    </tr>\n",
       "    <tr>\n",
       "        <td>200000</td>\n",
       "    </tr>\n",
       "</table>"
      ],
      "text/plain": [
       "[(200000,)]"
      ]
     },
     "execution_count": 5,
     "metadata": {},
     "output_type": "execute_result"
    }
   ],
   "source": [
    "%%sql\n",
    "\n",
    "\n",
    "SELECT COUNT(*) AS num_sample FROM sensors;"
   ]
  },
  {
   "cell_type": "code",
   "execution_count": 6,
   "id": "f4efe7c1-ee80-4e96-85be-0deb6cf1d3e0",
   "metadata": {
    "execution": {
<<<<<<< HEAD
     "iopub.execute_input": "2021-10-12T08:57:11.054174Z",
     "iopub.status.busy": "2021-10-12T08:57:11.053947Z",
     "iopub.status.idle": "2021-10-12T08:57:11.064626Z",
     "shell.execute_reply": "2021-10-12T08:57:11.063809Z",
     "shell.execute_reply.started": "2021-10-12T08:57:11.054147Z"
=======
     "iopub.execute_input": "2021-10-08T03:39:47.625103Z",
     "iopub.status.busy": "2021-10-08T03:39:47.624845Z",
     "iopub.status.idle": "2021-10-08T03:39:47.635763Z",
     "shell.execute_reply": "2021-10-08T03:39:47.635068Z",
     "shell.execute_reply.started": "2021-10-08T03:39:47.625083Z"
>>>>>>> master
    },
    "tags": []
   },
   "outputs": [
    {
     "name": "stdout",
     "output_type": "stream",
     "text": [
      " * postgresql://gpadmin@192.168.133.128:32000/db\n",
      "10 rows affected.\n"
     ]
    },
    {
     "data": {
      "text/html": [
       "<table>\n",
       "    <tr>\n",
       "        <th>timestamp</th>\n",
       "        <th>temperature</th>\n",
       "        <th>temperature_2</th>\n",
       "        <th>humidity</th>\n",
       "        <th>pm25</th>\n",
       "    </tr>\n",
       "    <tr>\n",
       "        <td>1997-03-22 00:00:00</td>\n",
       "        <td>30.6668585650253</td>\n",
       "        <td>42.9052858044298</td>\n",
       "        <td>69.2785492479998</td>\n",
       "        <td>73.1767528823951</td>\n",
       "    </tr>\n",
       "    <tr>\n",
       "        <td>1997-03-22 04:00:00</td>\n",
       "        <td>32.2240553161353</td>\n",
       "        <td>48.4451885030855</td>\n",
       "        <td>61.2088571248697</td>\n",
       "        <td>103.956207334568</td>\n",
       "    </tr>\n",
       "    <tr>\n",
       "        <td>1997-03-22 12:00:00</td>\n",
       "        <td>32.4185793403592</td>\n",
       "        <td>46.2930967363855</td>\n",
       "        <td>69.3046298170464</td>\n",
       "        <td>87.3012012853493</td>\n",
       "    </tr>\n",
       "    <tr>\n",
       "        <td>1997-03-22 20:00:00</td>\n",
       "        <td>31.6889779538602</td>\n",
       "        <td>50.3771697898689</td>\n",
       "        <td>53.2251690054103</td>\n",
       "        <td>76.757504341768</td>\n",
       "    </tr>\n",
       "    <tr>\n",
       "        <td>1997-03-22 21:00:00</td>\n",
       "        <td>31.414135143836</td>\n",
       "        <td>45.8292816079858</td>\n",
       "        <td>53.655786244688</td>\n",
       "        <td>77.837155684718</td>\n",
       "    </tr>\n",
       "    <tr>\n",
       "        <td>1997-03-22 22:00:00</td>\n",
       "        <td>31.5117735558417</td>\n",
       "        <td>49.7762550293786</td>\n",
       "        <td>31.5185341489772</td>\n",
       "        <td>98.0131261241892</td>\n",
       "    </tr>\n",
       "    <tr>\n",
       "        <td>1997-03-23 04:00:00</td>\n",
       "        <td>30.9732062825728</td>\n",
       "        <td>50.7305651158765</td>\n",
       "        <td>51.6463117699311</td>\n",
       "        <td>76.6613962119159</td>\n",
       "    </tr>\n",
       "    <tr>\n",
       "        <td>1997-03-23 06:00:00</td>\n",
       "        <td>31.1456715016839</td>\n",
       "        <td>50.5883567654865</td>\n",
       "        <td>50.6392021695488</td>\n",
       "        <td>77.1011145867884</td>\n",
       "    </tr>\n",
       "    <tr>\n",
       "        <td>1997-03-23 08:00:00</td>\n",
       "        <td>32.9173479628012</td>\n",
       "        <td>48.2255788669841</td>\n",
       "        <td>62.5489084902205</td>\n",
       "        <td>87.1120555127665</td>\n",
       "    </tr>\n",
       "    <tr>\n",
       "        <td>1997-03-23 12:00:00</td>\n",
       "        <td>32.5277304291036</td>\n",
       "        <td>47.7246721062276</td>\n",
       "        <td>15.1710744913787</td>\n",
       "        <td>91.5709933365243</td>\n",
       "    </tr>\n",
       "</table>"
      ],
      "text/plain": [
       "[(datetime.datetime(1997, 3, 22, 0, 0), 30.6668585650253, 42.9052858044298, 69.2785492479998, 73.1767528823951),\n",
       " (datetime.datetime(1997, 3, 22, 4, 0), 32.2240553161353, 48.4451885030855, 61.2088571248697, 103.956207334568),\n",
       " (datetime.datetime(1997, 3, 22, 12, 0), 32.4185793403592, 46.2930967363855, 69.3046298170464, 87.3012012853493),\n",
       " (datetime.datetime(1997, 3, 22, 20, 0), 31.6889779538602, 50.3771697898689, 53.2251690054103, 76.757504341768),\n",
       " (datetime.datetime(1997, 3, 22, 21, 0), 31.414135143836, 45.8292816079858, 53.655786244688, 77.837155684718),\n",
       " (datetime.datetime(1997, 3, 22, 22, 0), 31.5117735558417, 49.7762550293786, 31.5185341489772, 98.0131261241892),\n",
       " (datetime.datetime(1997, 3, 23, 4, 0), 30.9732062825728, 50.7305651158765, 51.6463117699311, 76.6613962119159),\n",
       " (datetime.datetime(1997, 3, 23, 6, 0), 31.1456715016839, 50.5883567654865, 50.6392021695488, 77.1011145867884),\n",
       " (datetime.datetime(1997, 3, 23, 8, 0), 32.9173479628012, 48.2255788669841, 62.5489084902205, 87.1120555127665),\n",
       " (datetime.datetime(1997, 3, 23, 12, 0), 32.5277304291036, 47.7246721062276, 15.1710744913787, 91.5709933365243)]"
      ]
     },
     "execution_count": 6,
     "metadata": {},
     "output_type": "execute_result"
    }
   ],
   "source": [
    "%%sql\n",
    "\n",
    "SELECT * FROM sensors LIMIT 10;"
   ]
  },
  {
   "cell_type": "code",
   "execution_count": 7,
   "id": "9bb8da4d-fecb-42a7-a95d-d940f34ac9e6",
   "metadata": {
    "execution": {
<<<<<<< HEAD
     "iopub.execute_input": "2021-10-12T08:57:11.558368Z",
     "iopub.status.busy": "2021-10-12T08:57:11.558120Z",
     "iopub.status.idle": "2021-10-12T08:57:11.579082Z",
     "shell.execute_reply": "2021-10-12T08:57:11.578447Z",
     "shell.execute_reply.started": "2021-10-12T08:57:11.558338Z"
=======
     "iopub.execute_input": "2021-10-08T03:39:47.637024Z",
     "iopub.status.busy": "2021-10-08T03:39:47.636834Z",
     "iopub.status.idle": "2021-10-08T03:39:47.725592Z",
     "shell.execute_reply": "2021-10-08T03:39:47.725101Z",
     "shell.execute_reply.started": "2021-10-08T03:39:47.637002Z"
>>>>>>> master
    },
    "tags": []
   },
   "outputs": [
    {
     "name": "stdout",
     "output_type": "stream",
     "text": [
      " * postgresql://gpadmin@192.168.133.128:32000/db\n",
      "1000 rows affected.\n"
     ]
    }
   ],
   "source": [
    "sensors = %sql SELECT * FROM sensors LIMIT 1000;\n",
    "sensors = sensors.DataFrame()"
   ]
  },
  {
   "cell_type": "code",
   "execution_count": 8,
   "id": "254f263a-64c7-4966-8896-109281f26540",
   "metadata": {
    "execution": {
<<<<<<< HEAD
     "iopub.execute_input": "2021-10-12T08:57:12.225771Z",
     "iopub.status.busy": "2021-10-12T08:57:12.225543Z",
     "iopub.status.idle": "2021-10-12T08:57:12.237211Z",
     "shell.execute_reply": "2021-10-12T08:57:12.236538Z",
     "shell.execute_reply.started": "2021-10-12T08:57:12.225744Z"
=======
     "iopub.execute_input": "2021-10-08T03:39:47.728669Z",
     "iopub.status.busy": "2021-10-08T03:39:47.728482Z",
     "iopub.status.idle": "2021-10-08T03:39:47.741192Z",
     "shell.execute_reply": "2021-10-08T03:39:47.740603Z",
     "shell.execute_reply.started": "2021-10-08T03:39:47.728649Z"
>>>>>>> master
    },
    "tags": []
   },
   "outputs": [
    {
     "name": "stdout",
     "output_type": "stream",
     "text": [
      "<class 'pandas.core.frame.DataFrame'>\n",
      "RangeIndex: 1000 entries, 0 to 999\n",
      "Data columns (total 5 columns):\n",
      " #   Column         Non-Null Count  Dtype         \n",
      "---  ------         --------------  -----         \n",
      " 0   timestamp      1000 non-null   datetime64[ns]\n",
      " 1   temperature    1000 non-null   float64       \n",
      " 2   temperature_2  1000 non-null   float64       \n",
      " 3   humidity       1000 non-null   float64       \n",
      " 4   pm25           1000 non-null   float64       \n",
      "dtypes: datetime64[ns](1), float64(4)\n",
      "memory usage: 39.2 KB\n"
     ]
    }
   ],
   "source": [
    "sensors.info()"
   ]
  },
  {
   "cell_type": "code",
   "execution_count": 9,
   "id": "142926cb-b255-4e76-a28b-5d38b8b6e9c1",
   "metadata": {
    "execution": {
<<<<<<< HEAD
     "iopub.execute_input": "2021-10-12T08:57:12.649371Z",
     "iopub.status.busy": "2021-10-12T08:57:12.649133Z",
     "iopub.status.idle": "2021-10-12T08:57:12.673042Z",
     "shell.execute_reply": "2021-10-12T08:57:12.672164Z",
     "shell.execute_reply.started": "2021-10-12T08:57:12.649343Z"
=======
     "iopub.execute_input": "2021-10-08T03:39:47.743398Z",
     "iopub.status.busy": "2021-10-08T03:39:47.743179Z",
     "iopub.status.idle": "2021-10-08T03:39:47.768558Z",
     "shell.execute_reply": "2021-10-08T03:39:47.768047Z",
     "shell.execute_reply.started": "2021-10-08T03:39:47.743373Z"
>>>>>>> master
    },
    "tags": []
   },
   "outputs": [
    {
     "data": {
      "text/html": [
       "<div>\n",
       "<style scoped>\n",
       "    .dataframe tbody tr th:only-of-type {\n",
       "        vertical-align: middle;\n",
       "    }\n",
       "\n",
       "    .dataframe tbody tr th {\n",
       "        vertical-align: top;\n",
       "    }\n",
       "\n",
       "    .dataframe thead th {\n",
       "        text-align: right;\n",
       "    }\n",
       "</style>\n",
       "<table border=\"1\" class=\"dataframe\">\n",
       "  <thead>\n",
       "    <tr style=\"text-align: right;\">\n",
       "      <th></th>\n",
       "      <th>temperature</th>\n",
       "      <th>temperature_2</th>\n",
       "      <th>humidity</th>\n",
       "      <th>pm25</th>\n",
       "    </tr>\n",
       "  </thead>\n",
       "  <tbody>\n",
       "    <tr>\n",
       "      <th>count</th>\n",
       "      <td>1000.000000</td>\n",
       "      <td>1000.000000</td>\n",
       "      <td>1000.000000</td>\n",
       "      <td>1000.000000</td>\n",
       "    </tr>\n",
       "    <tr>\n",
       "      <th>mean</th>\n",
       "      <td>31.544820</td>\n",
       "      <td>46.594941</td>\n",
       "      <td>49.825028</td>\n",
       "      <td>89.652520</td>\n",
       "    </tr>\n",
       "    <tr>\n",
       "      <th>std</th>\n",
       "      <td>0.873392</td>\n",
       "      <td>3.145308</td>\n",
       "      <td>15.000050</td>\n",
       "      <td>14.299866</td>\n",
       "    </tr>\n",
       "    <tr>\n",
       "      <th>min</th>\n",
       "      <td>30.002098</td>\n",
       "      <td>34.493309</td>\n",
       "      <td>1.160944</td>\n",
       "      <td>38.564782</td>\n",
       "    </tr>\n",
       "    <tr>\n",
       "      <th>25%</th>\n",
       "      <td>30.826927</td>\n",
       "      <td>44.394214</td>\n",
       "      <td>39.490404</td>\n",
       "      <td>79.777687</td>\n",
       "    </tr>\n",
       "    <tr>\n",
       "      <th>50%</th>\n",
       "      <td>31.571728</td>\n",
       "      <td>46.469999</td>\n",
       "      <td>49.839717</td>\n",
       "      <td>89.727459</td>\n",
       "    </tr>\n",
       "    <tr>\n",
       "      <th>75%</th>\n",
       "      <td>32.317502</td>\n",
       "      <td>48.718686</td>\n",
       "      <td>60.158495</td>\n",
       "      <td>99.193445</td>\n",
       "    </tr>\n",
       "    <tr>\n",
       "      <th>max</th>\n",
       "      <td>32.998612</td>\n",
       "      <td>55.152494</td>\n",
       "      <td>93.333323</td>\n",
       "      <td>132.791284</td>\n",
       "    </tr>\n",
       "  </tbody>\n",
       "</table>\n",
       "</div>"
      ],
      "text/plain": [
       "       temperature  temperature_2     humidity         pm25\n",
       "count  1000.000000    1000.000000  1000.000000  1000.000000\n",
       "mean     31.544820      46.594941    49.825028    89.652520\n",
       "std       0.873392       3.145308    15.000050    14.299866\n",
       "min      30.002098      34.493309     1.160944    38.564782\n",
       "25%      30.826927      44.394214    39.490404    79.777687\n",
       "50%      31.571728      46.469999    49.839717    89.727459\n",
       "75%      32.317502      48.718686    60.158495    99.193445\n",
       "max      32.998612      55.152494    93.333323   132.791284"
      ]
     },
     "execution_count": 9,
     "metadata": {},
     "output_type": "execute_result"
    }
   ],
   "source": [
    "sensors.describe()"
   ]
  },
  {
   "cell_type": "code",
   "execution_count": 10,
   "id": "5045f55d-2674-4817-8ae5-1693ce942455",
   "metadata": {
    "execution": {
<<<<<<< HEAD
     "iopub.execute_input": "2021-10-12T08:57:12.956493Z",
     "iopub.status.busy": "2021-10-12T08:57:12.956240Z",
     "iopub.status.idle": "2021-10-12T08:57:13.144032Z",
     "shell.execute_reply": "2021-10-12T08:57:13.143489Z",
     "shell.execute_reply.started": "2021-10-12T08:57:12.956465Z"
    },
    "presto": {
     "id": "70614908-a37d-4742-aeaa-1d42c5d2a99b"
=======
     "iopub.execute_input": "2021-10-08T03:39:47.769523Z",
     "iopub.status.busy": "2021-10-08T03:39:47.769369Z",
     "iopub.status.idle": "2021-10-08T03:39:48.056304Z",
     "shell.execute_reply": "2021-10-08T03:39:48.055723Z",
     "shell.execute_reply.started": "2021-10-08T03:39:47.769504Z"
>>>>>>> master
    },
    "tags": []
   },
   "outputs": [
    {
     "data": {
<<<<<<< HEAD
      "application/vnd.jupyter.widget-view+json": {
       "model_id": "5ea160d6719b41b09a471180a90f3f97",
       "version_major": 2,
       "version_minor": 0
      },
      "image/png": "iVBORw0KGgoAAAANSUhEUgAAArwAAAGQCAYAAABMPLOTAAAAOXRFWHRTb2Z0d2FyZQBNYXRwbG90bGliIHZlcnNpb24zLjQuMywgaHR0cHM6Ly9tYXRwbG90bGliLm9yZy/MnkTPAAAACXBIWXMAAA9hAAAPYQGoP6dpAABrb0lEQVR4nO3deXxU1f3/8ddkX8gesgEhCSCETSBRBERREAQVFFTUulZUSq0spVXUVlxalFJ+lCLgAiiV7dsKriirbBJ2kC0iawIhISRAEkjIMnN/fwRGYxIIIeFOJu/n4zEPmDvn3vOZS0g+OXPO51gMwzAQEREREXFSLmYHICIiIiJSm5TwioiIiIhTU8IrIiIiIk5NCa+IiIiIODUlvCIiIiLi1JTwioiIiIhTU8IrIiIiIk5NCa+IiIiIODUlvCIiIiLi1JTwioiIiIhTU8IrIiIiIk5NCa+IiIiIODUlvCIiIiLi1JTwioiIiIhTU8IrIiIiIk5NCa+IiIiIODUlvCIiIiLi1JTwioiIiIhTU8IrIiIiIk5NCa+IiIiIODUlvCIiIiLi1JTwioiIiIhTU8IrIiIiIk5NCa+IiIiIODUlvCIiIiLi1JTwioiIiIhTU8IrIiIiIk5NCa+IXLGPPvoIi8XCli1bKnz97rvvJiYm5toGdcGRI0ewWCx89NFHl207duxYLBZLmWMxMTE8+eST9ufHjx9n7Nix7Nixo0bjvHgPLz68vLyIiIjgtttuY9y4cWRmZlYp3svJz89n7NixrFq16orOq+ze3H333Vd0ncuZO3cukyZNqvA1i8XC2LFja7Q/Eamf3MwOQESkJkVGRpKUlESzZs2qdf6iRYvw9/e3Pz9+/Divv/46MTExdOjQoYai/NmsWbNo1aoVxcXFZGZmsm7dOt555x0mTJjAggUL6NWrl73tkCFDuPPOO6/o+vn5+bz++usA9OjRo8rnVaev6pg7dy67d+9mxIgR5V5LSkqicePGtR6DiDg/Jbwi4lQ8PT256aabqn1+x44dazCay2vbti2JiYn254MGDWLkyJHcfPPNDBw4kP379xMeHg5A48aNaz0BzM/Px8fH55r0dTlX8+8oIvJLmtIgIrXuUtMMfv2x9cWP0nfu3MkDDzxAQEAAwcHBjBo1ipKSEvbt28edd96Jn58fMTExjB8/vkp9ff3113To0AFPT09iY2OZMGFChbH+ckrDqlWruOGGGwB46qmn7NMPxo4dy3/+8x8sFgtJSUnlrvHGG2/g7u7O8ePHq36TfiE6Opp//vOf5OXl8d5775W7N7+0cuVKevToQUhICN7e3kRHRzNo0CDy8/M5cuQIDRs2BOD111+3x3/x/V283rZt27j//vsJCgqyj4xfavrEokWLaN++PV5eXsTFxTF58uQyr1+crnHkyJEyx1etWoXFYrFPr+jRowdff/01KSkpZaZ3XFTRlIbdu3czYMAAgoKC8PLyokOHDnz88ccV9jNv3jxeeeUVoqKi8Pf3p1evXuzbt6/yGy8iTksjvCJSbVarlZKSknLHDcO46ms/+OCDPProozz33HMsW7aM8ePHU1xczPLlyxk2bBijR49m7ty5vPjiizRv3pyBAwdWeq0VK1YwYMAAunTpwvz587FarYwfP54TJ05cMoZOnToxa9YsnnrqKV599VXuuusuoHSkNSwsjD//+c+8++67dOnSxX5OSUkJ7733Hvfddx9RUVHVfv/9+vXD1dWVNWvWVNrmyJEj3HXXXXTv3p2ZM2cSGBhIWloa3377LUVFRURGRvLtt99y55138vTTTzNkyBAAexJ80cCBA3nooYcYOnQo586du2RcO3bsYMSIEYwdO5aIiAjmzJnD8OHDKSoqYvTo0Vf0HqdOncqzzz7LwYMHWbRo0WXb79u3j65duxIWFsbkyZMJCQnhk08+4cknn+TEiRP8+c9/LtP+5Zdfplu3bnz44Yfk5uby4osvcs8995CcnIyrq+sVxSoidZsSXhGptkt95Ny0adOruvazzz7LqFGjAOjVqxdLly5lypQpLFy4kPvuuw8oHSH86quvmDNnziUT3ldeeYXw8HCWLVuGl5cXAH369Lnswjp/f3/atm0LQLNmzcq93+eee45x48YxceJEwsLCAFi4cCHHjx/n+eefr9b7vsjX15fQ0NBLjhJv3bqV8+fP849//IPrr7/efvyRRx6x/z0hIQEoTdIr+/d64okn7PN8L+f48eNs377d3l/fvn3JzMzkzTffZNiwYfj4+FTpOgCtW7cmMDCwytNQxo4dS1FREd999x1NmjQBSn8xOHPmDK+//jrPPfccAQEBZa7/ySef2J+7urry4IMPsnnzZk2XEKlnNKVBRKpt9uzZbN68udzj5ptvvupr/7oaQHx8PBaLhb59+9qPubm50bx5c1JSUiq9zrlz59i8eTMDBw60J7sAfn5+3HPPPVcV4+9+9zsAPvjgA/uxKVOm0K5dO2655ZarujZcfqS8Q4cOeHh48Oyzz/Lxxx9z6NChavUzaNCgKrdt06ZNmeQaShPs3Nxctm3bVq3+q2rlypX07NnTnuxe9OSTT5Kfn19uekn//v3LPG/fvj3AJb9eRMQ5KeEVkWqLj48nMTGx3OOXo2zVFRwcXOa5h4cHPj4+ZZLWi8fPnz9f6XVOnz6NzWYjIiKi3GsVHbsS4eHhDB48mPfeew+r1crOnTtZu3btVY/uQmminp2dfclpEc2aNWP58uWEhYXx+9//nmbNmtGsWTP+9a9/XVFfkZGRVW57qfuYnZ19Rf1eqezs7ApjvXiPft1/SEhImeeenp4AFBQU1FKEIuKolPCKSK27mKQWFhaWOV7bCRJAUFAQFouFjIyMcq9VdOxKDR8+nKNHj/L5558zZcoUAgMD+c1vfnPV1/3666+xWq2XLSXWvXt3vvzyS3JyctiwYQNdunRhxIgRzJ8/v8p9XUlt30vdx4sJZmX/3llZWVXupyIhISGkp6eXO35x2kdoaOhVXV9EnJcSXhGpdeHh4Xh5ebFz584yxz///PNa79vX15cbb7yRhQsXlhkJzsvL48svv7zs+ZcbFUxISKBr16688847zJkzhyeffBJfX9+rijk1NZXRo0cTEBDAc889V6VzXF1d6dy5M++++y6AfXpBTY9q7tmzhx9++KHMsblz5+Ln50enTp0A7HOjf/3v/cUXX5S7nqenZ5Vj69mzJytXriw3r3n27Nn4+PhoXq6IVEqL1kSk1lksFh599FFmzpxJs2bNuP7669m0aRNz5869Jv2/+eab3Hnnndxxxx388Y9/xGq18s477+Dr68upU6cueW6zZs3w9vZmzpw5xMfH06BBA6KiospMNRg+fDiDBw/GYrEwbNiwK4pt9+7dlJSUUFJSQmZmJmvXrmXWrFm4urqyaNGichUVfmn69OmsXLmSu+66i+joaM6fP8/MmTMB7BtW+Pn50bRpUz7//HN69uxJcHAwoaGh1d4JLyoqiv79+zN27FgiIyP55JNPWLZsGe+88459wdoNN9xAy5YtGT16NCUlJQQFBbFo0SLWrVtX7nrt2rVj4cKFTJs2jYSEBFxcXMrUJf6l1157ja+++orbbruNv/71rwQHBzNnzhy+/vprxo8fXyNTaUTEOSnhFZFr4p///CcA48eP5+zZs9x+++189dVX12QL4jvuuIPPPvuMV199lcGDBxMREcGwYcMoKCi4bHUCHx8fZs6cyeuvv07v3r0pLi7mtddeK1Mf9t5778XT05PbbruNFi1aXFFsTz31FFA6FzkwMJD4+HhefPFFhgwZcslkF0oXrS1dupTXXnuNjIwMGjRoQNu2bfniiy/o3bu3vd2MGTP405/+RP/+/SksLOSJJ56o0tbLlfX51FNP8dprr7F//36ioqKYOHEiI0eOtLdxdXXlyy+/5Pnnn2fo0KF4enry0EMPMWXKFHtpt4uGDx/Onj17ePnll8nJycEwjEoX67Vs2ZL169fz8ssv8/vf/56CggLi4+OZNWtWme2gRUR+zWLURMFMEZF67Msvv6R///58/fXX9OvXz+xwRETkV5TwiohU0969e0lJSWH48OH4+vqybdu2K1oAJiIi14YWrYmIVNOwYcPo378/QUFBzJs3T8muiIiD0giviIiIiDg1jfCKiIiIiFNTwisiIiIiTk0Jr4iIiIg4NdXhrUU2m43jx4/j5+enxSwiIiJSqwzDIC8vj6ioKFxcNKb5S0p4a9Hx48dp0qSJ2WGIiIhIPXL06FEaN25sdhgORQlvLfLz8wNKv/D8/f1NjkZEREScWW5uLk2aNLHnH/IzJby16OI0Bn9/fyW8IiIick1oGmV5SnhFROqyrVuhqAg8PCAhwexoREQckhJeEZG6bMAASEuDRo3g2DGzoxERcUhawiciIiIiTk0Jr4iIiIg4NSW8IiIiIuLUlPCKiIiIiFNTwisiIiIiTk0Jr4iIiIg4NSW8IiIiIuLUlPCKiNRXPXrAH/4AI0ZAUBCEh8P778O5c/DUU+DnB82awTff/HzO3r3Qrx80aFDa/rHHICvr59e//RZuvhkCAyEkBO6+Gw4e/Pn1I0fAYoGFC+G228DHB66/HpKSrs17FpF6SQmviEh99vHHEBoKmzaVJr+/+x088AB07QrbtkGfPqVJbX4+pKfDrbdChw6wZUtpcnviBDz44M/XO3cORo2CzZthxQpwcYH77gObrWy/r7wCo0fDjh1w3XXw8MNQUnIt37mI1CMWwzAMs4NwVrm5uQQEBJCTk4O/v7/Z4YiIM8rLA8MoHTX187uyc3v0AKsV1q4tfW61QkAADBwIs2eXHsvIgMjI0hHYxYth40ZYsuTnaxw7Bk2awL59pYnrr508CWFhsGsXtG1bOsIbGwsffghPP13aZu9eaNMGkpOhVasrvQMicoHyjsppa2ERkbqsiknu3I2p5Y71zC0kvEunnw+4upZOQ2jX7udzDINHgNVr99B8xToiNq3DtUGD8h0cPFia8B48CH/5C2zYUDrV4eLIbmpqacJ7Ufv2P/89MrL0z8xMJbwiUivqxJSGqVOnEhsbi5eXFwkJCay9OBpRidWrV5OQkICXlxdxcXFMnz69zOsLFy4kMTGRwMBAfH196dChA//5z3+uul8RkTrH3b3sc4ul7DGLpfQPw4bFZiPt5p6l0xB++di/H265pbT9PfdAdjZ88EHpaPDGjaXHi4oq7/dCH+WmPYiI1BCHT3gXLFjAiBEjeOWVV9i+fTvdu3enb9++pKaWH60AOHz4MP369aN79+5s376dl19+mRdeeIFPP/3U3iY4OJhXXnmFpKQkdu7cyVNPPcVTTz3Fkl98THel/YqIOLtTLdsScHg/xMRA8+ZlH76+pYlucjK8+ir07Anx8XD6tNlhi4g4fsI7ceJEnn76aYYMGUJ8fDyTJk2iSZMmTJs2rcL206dPJzo6mkmTJhEfH8+QIUP47W9/y4QJE+xtevTowX333Ud8fDzNmjVj+PDhtG/fnnXr1lW7XxERU0ycCGPHlv5Zy/bf/wSeuWdKF5ht2gSHDsHSpfDb35bO/w0KKp0S8f77cOAArFxZuoBNRMRkDp3wFhUVsXXrVnr37l3meO/evVm/fn2F5yQlJZVr36dPH7Zs2UJxcXG59oZhsGLFCvbt28ctFz6Sq06/AIWFheTm5pZ5iIjUqokT4fXXr0nCW9AwnGXvfVqa3PbpUzond/jw0oVuLi6lj/nzYevW0tdGjoR//KPW4xIRuRyHXrSWlZWF1WolPDy8zPHw8HAyMjIqPCcjI6PC9iUlJWRlZRF5YXFETk4OjRo1orCwEFdXV6ZOncodd9xR7X4Bxo0bx+uvv37F71NExAwrpi3gkc7RZQ8eOVKu3dwNKfa/50XHltbQrUyvXqVVF37pl8WAYmLKPofSmr0qGCQitcihR3gvslxc0HCBYRjljl2u/a+P+/n5sWPHDjZv3szf/vY3Ro0axapVq66q3zFjxpCTk2N/HD169JLvS0RERERqn0OP8IaGhuLq6lpuVDUzM7Pc6OtFERERFbZ3c3MjJCTEfszFxYXmzZsD0KFDB5KTkxk3bhw9evSoVr8Anp6eeHp6XtF7FBEREZHa5dAjvB4eHiQkJLBs2bIyx5ctW0bXrl0rPKdLly7l2i9dupTExETcf11+5xcMw6CwsLDa/YqIiIiIY3LoEV6AUaNG8dhjj5GYmEiXLl14//33SU1NZejQoUDpNIK0tDRmX9gVaOjQoUyZMoVRo0bxzDPPkJSUxIwZM5g3b579muPGjSMxMZFmzZpRVFTE4sWLmT17dpkKDJfrV0RERETqBodPeAcPHkx2djZvvPEG6enptG3blsWLF9O0aVMA0tPTy9TGjY2NZfHixYwcOZJ3332XqKgoJk+ezKBBg+xtzp07x7Bhwzh27Bje3t60atWKTz75hMGDB1e5XxERERGpGyyGoaWxtUV7WotIrWvcGNLSoFEjOHas0mYVbS0MlK/ScJXniIh5lHdUzqHn8IqIiIiIXC2Hn9IgIiKX0KkTNGkCDRuaHYmIiMNSwisiUpd98YXZEYiIODxNaRARERERp6aEV0REREScmhJeEREREXFqmsMrIlKX9e8PJ0+WLlrTfF4RkQop4RURqcu2bfu5Dq+IiFRIUxpERERExKkp4RURERERp6aEV0REREScmhJeEREREXFqSnhFRERExKkp4RURERERp6aEV0REREScmhJeEREREXFq2nhCRKQuGzUKcnPB39/sSEREHJYSXhGRumzUKLMjEBFxeJrSICIiIiJOTQmviIiIiDg1TWkQEanL8vLAMMBiAT8/s6MREXFIGuEVEanL4uMhIKD0TxERqZASXhERERFxakp4RURERMSpKeEVEREREaemRWsiIjVg7sbUSl97pHP0NYxERER+TSO8IiIiIuLUlPCKiIiIiFNTwisiIiIiTk0Jr4iIiIg4NSW8IiIiIuLUVKVBRKQu+/xzKCoCDw+zIxERcVhKeEVE6rKEBLMjEBFxeJrSICIiIiJOTQmviIiIiDg1TWkQEanLvvoKCgrA2xvuvtvsaEREHJISXhGRumzoUEhLg0aN4Ngxs6MREXFIdWJKw9SpU4mNjcXLy4uEhATWrl17yfarV68mISEBLy8v4uLimD59epnXP/jgA7p3705QUBBBQUH06tWLTZs2lWkzduxYLBZLmUdERESNvzcRERERqV0OP8K7YMECRowYwdSpU+nWrRvvvfceffv2Ze/evURHR5drf/jwYfr168czzzzDJ598wvfff8+wYcNo2LAhgwYNAmDVqlU8/PDDdO3aFS8vL8aPH0/v3r3Zs2cPjRo1sl+rTZs2LF++3P7c1dW19t+wiNQbczemVvraI53Lf3+7nMISKwVFVgpLbHi5ueLn5YaLi+VqQqxRlb3f6rxXEZEr4fAJ78SJE3n66acZMmQIAJMmTWLJkiVMmzaNcePGlWs/ffp0oqOjmTRpEgDx8fFs2bKFCRMm2BPeOXPmlDnngw8+4H//+x8rVqzg8ccftx93c3PTqK6IOBzDMDiSnc/mI6foU1BMAHAir5DOr35bpp2ri4UwP0/aRPkDFlqENaBxkDcWi+MkwSIi14JDJ7xFRUVs3bqVl156qczx3r17s379+grPSUpKonfv3mWO9enThxkzZlBcXIy7u3u5c/Lz8ykuLiY4OLjM8f379xMVFYWnpyedO3fm73//O3FxcZXGW1hYSGFhof15bm7uZd+jiEhVGIbBrrQcvt6VzpLdGRzJzgege5GVAMBmM+xtXSxgM8BqM0jPOU96znkAliefINjXg+sbB9KlWQgNPB36R4CISI1x6O92WVlZWK1WwsPDyxwPDw8nIyOjwnMyMjIqbF9SUkJWVhaRkZHlznnppZdo1KgRvXr1sh/r3Lkzs2fP5rrrruPEiRO89dZbdO3alT179hASElJh3+PGjeP111+/0rcpIlKp/KISFm1PY+7GVPYc//mXaA9XF65vElCatJ6F0Aae7PjrHfh6uuHu6kJhiZXT54o5djqfH47lsGh7Gj9l5HHqXBHf7ctk3YGT3BQXwp1tIwj21S5tIuLcHDrhvejXH78ZhnHJj+Qqal/RcYDx48czb948Vq1ahZeXl/1437597X9v164dXbp0oVmzZnz88ceMGjWqwn7HjBlT5rXc3FyaNGlyiXcmIlKxvPPF/GdDCjPWHib7XBEAHm4u3NE6nH5tI+nRsiG+nm7wVum3cXdXC4E+Pyeunm6uRAS4EhHgRWJMMN7urhSV2EhOz+X7g1kcO13A2v1Z9PznKsb2b0P/66M01UFEnJZDJ7yhoaG4urqWG83NzMwsN4p7UURERIXt3dzcyo3MTpgwgb///e8sX76c9u3bXzIWX19f2rVrx/79+ytt4+npiaen5yWvIyJyKVabweYjp5iwdB+nLiS6TYK9eaJLDIM6NSboKkZjPdxcuL5JIO0bB/DTiTyW7DlBRu55hs/fwZc/pPOP+9tf1fVFRByVQye8Hh4eJCQksGzZMu677z778WXLljFgwIAKz+nSpQtffvllmWNLly4lMTGxzPzdf/zjH7z11lssWbKExMTEy8ZSWFhIcnIy3bt3r+a7ERG5tCNZ5/hsRxqZeaVrAeJCfXn+9ub0vz4KN9fSKpK/rnRwb5EVHyD/wp9VYbFYaBnhT7OwBpzJL+bfK/ezPPkE/d9dxwePJ9Iqwr8G35WIiPkcvg7vqFGj+PDDD5k5cybJycmMHDmS1NRUhg4dCpROI/hlZYWhQ4eSkpLCqFGjSE5OZubMmcyYMYPRo0fb24wfP55XX32VmTNnEhMTQ0ZGBhkZGZw9e9beZvTo0axevZrDhw+zceNG7r//fnJzc3niiSeu3ZsXkXqhqMTGlzuP88HaQ2TmFeLt7sobA9qwdOQtDOzU2J7sVqTYx5dinwYU+/hecb9uLi680LMFXzx/M9HBPhw9VcDAqetZuqfiNRIiInWVQ4/wAgwePJjs7GzeeOMN0tPTadu2LYsXL6Zp06YApKenk5r684hHbGwsixcvZuTIkbz77rtERUUxefJke0kyKN3IoqioiPvvv79MX6+99hpjx44F4NixYzz88MNkZWXRsGFDbrrpJjZs2GDvV0SkJhw/U8C8Tan2eboJTYPo2zaCx7vEVOn8rxestP/9kWrGEB/pzxfPd+P5udtZdyCL383ZxsQHr6/m1UREHI/DJ7wAw4YNY9iwYRW+9tFHH5U7duutt7Jt27ZKr3fkyJHL9jl//vyqhicicsUMw2DT4VN8tfM4JTaDAG937uvYiOvC/UyJJ9DHg4+euoGXFu7if1uPMWLBDu7r0IjEmODLnywi4uDqRMIrIuJMiq02/vr5bj7bkQZAqwg/7k9ojI+Hud+S3VxdGD+oPV7uLnyyIZWF29NwdbHQMTrI1LhERK6WEl4RkWso93wxv5+zjbX7s7AAvdtE0L1FKC4OUhLMxcXCmwPa4u7qwqzvj/DptmP4eLjRMsKckWcRkZqghFdEpJZdrKyQd76Ymd8f5kRuIR6uLgy+oQnxkRVXRPh1NYbKdPj33/DIzaHIP4C5vFIj8VosFv5yV2u2p55hx9EzzN2UwtM3xxEdXNU6ECIijsXhqzSIiDiDM/lFvL/mECdyC/HzcuOZW+IqTXavRMzSL2j+5QJiln5RA1H+zMXFwqBOjbkuvAHFVoP/bEjhTH5RjfYhInKtKOEVEallp88V8cHaQ2SfKyLQx51nu8fRKNDb7LAuy9XFwsM3RhPh78W5whI+2ZhCUYnN7LBERK6YEl4RkVqUe76YGd8f5nR+MSG+HjzbPY6QBnVnR0ZPN1ceu6kpPh6uHD9znoXbj9m3axcRqSuU8IqI1JL8whJmrjvMqXNFBPm4M6R7HIE+dW/r3iBfDx7pHI2LBXYey+Hj9UfMDklE5Ioo4RURqQVFJTY+TjpCZl7pnN2nb44jwNv98ic6qLjQBvRrFwnA3xf/yM5jZ8wNSETkCijhFRGpYTbD4L9bj3L0dAHe7q78tlsswb51b2T317rEhdA60p8iq43n524n93yx2SGJiFSJEl4RkRq2dM8J9hzPxdVi4dGbmhLu72V2SDXCYimt3NA4yJvUU/m8smi32SGJiFSJEl4RkRq0LfU0a/afBGBgp0bEhvqaHFHN8vZwZcojnXB1sfDlD8f58ofjZockInJZSnhFRGrI8TMFfLa9dLvg21o2dNoteTs0CeT3tzUH4C+f7yYz97zJEYmIXJoSXhGRGpBfWMKcjSmU2AxahvvRMz78mvSb1u12Um/vR1q3269Jfxf94fbmtG3kz5n8Yl78dKdKlYmIQ9PWwiIiV8lmM/i/rUc5nV9MsK8HDyY2wcViuSZ9b35p3DXp59fcXV2Y+GAH7v73Or7bd5IFm4/y0I3RpsQiInI5GuEVEblKM9Yd5qcTZ3FzsfCbztF4e7iaHdI1cV24H6N7XwfAm1/t5eipfJMjEhGpmEZ4RUSuws5jZxi/5EcA7m4fRWSA428ZfLXmbky1/93Hw42YEB+OZOfz2IxNrPzjrbi4XJvRbRGRqtIIr4hINZ0tLOEP87ZTbDVoE+XPDTHOuUjtUlwsFu5PaIKHqwtHss8x8/vDZockIlKOEl4RkWr629d7ScnOp1GgNwM7NsZyjebt/lKfJ+/m3ns60+fJu6953xcF+3rYd2H759KfNLVBRByOEl4RkWr4bl8m8zYdBeCfD15v2rxd7+yT+JzMwDv7pCn9X3RDTBCxob4UFFt55bPdqtogIg5FCa+IyBXKyS/mpU93AvDbbrHcFBdickTms1gs3NehER5uLqz56SSf79CGFCLiOJTwiohcode/3MOJ3ELiQn35850tzQ7HYYT6efLC7aUbUrzx1V5OnSsyOSIRkVKq0iAi9dIvKw382iOdK68nu/qnkyzcnobFAhMevB4v9/pRgqyqnr2lGV/+kM6+E3m89dVeJg7uYHZIIiIa4RURqar8ohJeWbQLgCe7xtDJSbcOvhoebi68PagdFgss3J7Gmp/MnVssIgJKeEVEquxfy/dz7HQBUQFe/LG3pjJUpmN0EE90iQHglc92kV9UYm5AIlLvKeEVEamCPcdz+HBdaY3Zt+5rSwNPzQi7lNF9WhIV4MXRUwX8a/l+s8MRkXpOCa+IyGUYhsFfP9+D1WbQr10Et7cKNzskh9fA0403720LlG69vC8jz+SIRKQ+U8IrInIZi7ansTXlNN7urvzl7tZmh1Nn9IwPp3frcEpsBq9+tgubavOKiEn0mZyIyCXkni/m74t/BOAPPZsTGeBtckRlbX9+DG7nCyjxcqy4LnqtfxvW7s9i85HTRAf7kNA0uEauW90qGyJSPynhFRG5hH8t30/W2dKau0/fHGt2OOWk9LnX7BAuqVGgNyN6tWDcNz/yze4M4iP88dH8ZxG5xjSlQUSkEoezzvHx+iMA/PWe1ni6qeZudfz25lhahvuRX2Tl2z0ZZocjIvWQEl4RkUq8/U0yJTaDHi0b0qNlmNnh1Fnuri68dV/pArYtKadJyT5nckQiUt8o4RURqcDGQ9ks2XMCFwu83C/e7HAq5ZdykIBDP+GXctDsUC7phphgEi5s1PH5juNYbVrAJiLXjhJeEZFfsdkM/rY4GYCHb4zmunA/kyOqXM/nH+GuR+6g5/OPmB3KZd3ZNgJvd1cycs+TdDDL7HBEpB7RygERcWqXWs1fma92pbPzWA4NPN0Yecd1tRCV46jO/akuX0837mwbwaLtaSz/MZN2jQMJ8Ha/Zv2LSP2lEV4RkV+w2gwmLt0HwHO3xBHawNPkiJxLQtMgooN9KCqx8dXO42aHIyL1hBJeEZFf2JpymiPZ+YQ28OC3DliGrK5zsVgY0CEKFwvsOZ6rHdhE5JpQwisickGx1cbKH08A8PvbmuOrerG1IjLAm67NQgH44oc0zhdbTY5IRJxdnUh4p06dSmxsLF5eXiQkJLB27dpLtl+9ejUJCQl4eXkRFxfH9OnTy7z+wQcf0L17d4KCgggKCqJXr15s2rTpqvsVkbptw6Fscs+X0CjQW7t11bKercLw93LjdH4x01c7doUJEan7HD7hXbBgASNGjOCVV15h+/btdO/enb59+5KaWvFCi8OHD9OvXz+6d+/O9u3befnll3nhhRf49NNP7W1WrVrFww8/zHfffUdSUhLR0dH07t2btLS0avcrInVbYYmV1T+dBGBErxbaZKKWebq70q9dJADTVh3k6Kl8kyMSEWfm8AnvxIkTefrppxkyZAjx8fFMmjSJJk2aMG3atArbT58+nejoaCZNmkR8fDxDhgzht7/9LRMmTLC3mTNnDsOGDaNDhw60atWKDz74AJvNxooVK6rdr4jUbRsPnSK/yEqIrwf3dWxkdjj1QrtGAcQ19KWwxMbrX+41OxwRcWIOPUGtqKiIrVu38tJLL5U53rt3b9avX1/hOUlJSfTu3bvMsT59+jBjxgyKi4txdy9fAic/P5/i4mKCg4Or3S9AYWEhhYWF9ue5ubmXfoMi4hCKSmys2V86untbqzD+b8uxCttpmkPNslgs9G8fxZTvDrA8+QTf/ZjJba20o52I1DyHHuHNysrCarUSHh5e5nh4eDgZGRXvx56RkVFh+5KSErKyKi50/tJLL9GoUSN69epV7X4Bxo0bR0BAgP3RpEmTy75HETHfhkPZ9tHd6xsHmh1OvRLm72WvhjH2yz1awCYitcKhE96LLBZLmeeGYZQ7drn2FR0HGD9+PPPmzWPhwoV4eXldVb9jxowhJyfH/jh69GilbUXEMRSV2Fh7cXS3ZRiuLpX/H3dE3876gkVfbODbWV+YHUq1vdCzBeH+nqRk5/PBmkNmhyMiTsihE97Q0FBcXV3LjapmZmaWG329KCIiosL2bm5uhISElDk+YcIE/v73v7N06VLat29/Vf0CeHp64u/vX+YhIo5t85FTnCuyEuzrwfVNAs0O54qdDw2nICyS86GVf29ydA083Xi5XzwA7646wLHTWsAmIjXLoRNeDw8PEhISWLZsWZnjy5Yto2vXrhWe06VLl3Ltly5dSmJiYpn5u//4xz948803+fbbb0lMTLzqfkWk7imx2Vh3oHSq060tGta50V1n0v/6KDrHBnO+2MabX2kBm4jULIdOeAFGjRrFhx9+yMyZM0lOTmbkyJGkpqYydOhQoHQaweOPP25vP3ToUFJSUhg1ahTJycnMnDmTGTNmMHr0aHub8ePH8+qrrzJz5kxiYmLIyMggIyODs2fPVrlfEan7dqSeIaegGH8vNzpGB5odTr1msVh4Y0BbXF0sLNlzwl4iTkSkJjh0lQaAwYMHk52dzRtvvEF6ejpt27Zl8eLFNG3aFID09PQytXFjY2NZvHgxI0eO5N133yUqKorJkyczaNAge5upU6dSVFTE/fffX6av1157jbFjx1apXxGp22yGYU+qujUPxc318r//z93oeHW4m302F/f8cxT7+HLw3kfMDqdafnlfb4oN5vuD2YxasIPhPVvweNcY8wITEadhMS6u6JIal5ubS0BAADk5OZrPK2KSypLUXWk5zNuUire7K3++s2Wd3Wji3ns643Myg/yGEXz25Uazw7lk6baq/MJwvtjK/1v2E3mFJfRuHc77jydW2O5S11L5OKmvlHdUzuGnNIiI1DTDMOyVGbo0C6mzya4z8nJ3pW+7CAC+25dJ2pkCkyMSEWeghFdE6p2jpws4droANxcLN8WFXP4EuaaubxxITIgvxVaDcYuTzQ5HRJyAEl4RqXfWHyytzHB940AaeDr8UoZ6x2KxcM/1kViAr3ams/nIKbNDEpE6TgmviNQrOQXF7E7LAUqnM4hjigzwJjGmdLv3N77ci82m5SYiUn1KeEWkXtl0OBubATEhPkQFepsdjlzCHa3D8fN0Y1daDv/bdszscESkDlPCKyL1RrHVxqbDpR+Pd20WanI0cjkNPN14oWcLAMZ/u4+888UmRyQidZUSXhGpN3Yey+FckZVAb3fiI1Wypy54omsMsaG+ZJ0t5N3vDpodjojUUbWW8B4+fLi2Li0icsUMw7AvVrspLkTbCNcRHm4uvHpXPAAz1x0mJfucyRGJSF1Uawlv8+bNue222/jkk084f/58bXUjIlIlR7LzSc85j7urhcSYILPDqTG50bGciW1BbnSs2aHUmttbhdG9RShFVht/V5kyEamGWkt4f/jhBzp27Mgf//hHIiIieO6559i0aVNtdScicklJF0Z3OzQJxMfDeUqRrXx3PovnLWflu/PNDqXWWCwW/np3a1xdLCzZc8I+Ui8iUlW1lvC2bduWiRMnkpaWxqxZs8jIyODmm2+mTZs2TJw4kZMnT9ZW1yIiZZzJL2Jvei4AXbRYrU5qEe7Hoxe2DB63+EdshsqUiUjV1fqiNTc3N+677z7+7//+j3feeYeDBw8yevRoGjduzOOPP056enpthyAi9dyGQ6ewGRDX0JcIfy+zw5FqeqFnCxpcKFO260ItZRGRqqj1hHfLli0MGzaMyMhIJk6cyOjRozl48CArV64kLS2NAQMG1HYIIlKPFZXY7Dt1dY3T6G5dFtLAk+duiQNg6Z4MSqw2kyMSkbqi1iayTZw4kVmzZrFv3z769evH7Nmz6devHy4upTl2bGws7733Hq1ataqtEERE+OHoGQqKrQT5uNMq0s/scGpc17++gGfOaQoDglj/xmSzw6l1T3eP5T8bUsjMK2Tj4VN0a65fYkTk8mpthHfatGk88sgjpKam8tlnn3H33Xfbk92LoqOjmTFjRm2FICL1nGEYrD9UusCpS1wILhbnK0UWtn0jkRvXELZ9o9mhXBM+Hm6MvOM6AL7bl8n5YqvJEYlIXVBrCe+yZct48cUXiYiIKHPcMAxSU1MB8PDw4IknnqitEESknks6mM2J3EI8XF1IaBpsdjhSQx5IaEzDBp7kF1lZ/ZMWQIvI5dVawtusWTOyssqXjjl16hSxsc5bL1JEHMes9UcA6BgdiLeHq7nBSI1xc3WhT5vSwZTvD2SRU6Ath0Xk0mot4TUqKRlz9uxZvLy0SlpEaldqdj7Lk08A0KVZiMnRSE2Lj/SjabAPJTbD/u8sIlKZGl+0NmrUKOBCofC//hUfHx/7a1arlY0bN9KhQ4ea7lZEpIzZSUcwDGgR1oAwP/2S7WwsFgt920Ywfc0htqWc5ubmoYSr5JyIVKLGE97t27cDpSO8u3btwsPDw/6ah4cH119/PaNHj67pbkVE7M4VlrBgy1EAump012lFh/jSOtKfvem5rEg+wSOdm5odkog4qBpPeL/77jsAnnrqKf71r3/h7+9f012IiFzSwm3HyDtfQmyoLy3Cna8UmfysV+twktNz2X08l/ScAiIDvM0OSUQcUK3N4Z01a5aSXRG55mw2g48uLFZ7oktTpyxFJj+L8PeibaMAAFYkZ5ocjYg4qhod4R04cCAfffQR/v7+DBw48JJtFy5cWJNdi4gAsPZAFgdPnqOBpxuDEhrz5Q/avtzZ3d4qjN1pOexNz+X4mQKzwxERB1SjCW9AQACWC6MpAQEBNXlpEZEq+ej7wwA8kNgYPy93k6OpfQcGPIzH2VyKGjjGJ2pzN6Ze8z7D/b1o1ziAncdyWPFjJqP7tKy0bWXxPdI5urbCExEHUKMJ76xZsyr8u4jItXA46xzf7TuJxQJPdIkxO5xrYveQEWaH4BBubxXGrmM5JKfnsutYDu0aa9BFRH5Wa3N4CwoKyM/Ptz9PSUlh0qRJLF26tLa6FJF67uMLc3dvaxlGTKivucHINRXm58X1TQIBmLT8J3ODERGHU2sJ74ABA5g9ezYAZ86c4cYbb+Sf//wnAwYMYNq0abXVrYjUU3nni/nvhVJkT3WLMTcYMcXtLcOwACt+zOSHo2fMDkdEHEitJbzbtm2je/fuAPzvf/8jIiKClJQUZs+ezeTJk2urWxGpp/675Rjniqw0D2vAzc1DzQ5HTBDq50mHC6O8/0+jvCLyC7WW8Obn5+PnV1r/cunSpQwcOBAXFxduuukmUlJSaqtbEamHbDaDj5OOAPBk1xj74tn64N57OvPITU25957OZofiEG5vFYari4VV+06yPfW02eGIiIOotYS3efPmfPbZZxw9epQlS5bQu3dvADIzM1WfV0Rq1Ngv95CSnY+XuwslVoO5G1PtD6lfQhp4cm+HRgBMX33Q5GhExFHUWsL717/+ldGjRxMTE0Pnzp3p0qULUDra27Fjx9rqVkTqofUHswFIbBqMh1utfVuTOuJ3PeIAWLr3BAdPnjU5GhFxBLX2k+H+++8nNTWVLVu28O2339qP9+zZk//3//5fbXUrIvXM/hN5HMg8iwXoEhdidjjiAJqH+dErPhzDgPdXHzI7HBFxALU6FBIREUHHjh1xcfm5mxtvvJFWrVrVZrciUo9c3EY4PtKfIF8Pc4MRh3FxlHfR9jRO5J43ORoRMVuNbjzxS+fOnePtt99mxYoVZGZmYrPZyrx+6JB+6xaRq5OTX8zCbWkAdGmm0V35WULTYG6ICWLzkdPMXHeYMf3izQ5JRExUawnvkCFDWL16NY899hiRkZH1atW0iFwbC7akUlBsJcLfizhtNCG/MvTWZmw+soU5G1MZdltzArydf6tpEalYrSW833zzDV9//TXdunWrrS5EpB4rttr46PsjQOnorn6pdk5XU2njtpZhXBfegJ9OnGXOxhSG9Wheg5GJSF1Sa3N4g4KCCA4Orq3Li0g9t3hXOsdzzhPawMO+2YDIL7m4WHjulmYAzFx3hPPFVpMjEhGz1FrC++abb/LXv/6V/Pz8q77W1KlTiY2NxcvLi4SEBNauXXvJ9qtXryYhIQEvLy/i4uKYPn16mdf37NnDoEGDiIkpLVA/adKkctcYO3YsFoulzCMiIuKq34uIXD3DMHh/Tek6gCe6xODuqlJkUrH+HaKICvAi62yhfb63iNQ/tTal4Z///CcHDx4kPDycmJgY3N3Lzp3atm1bla6zYMECRowYwdSpU+nWrRvvvfceffv2Ze/evURHR5drf/jwYfr168czzzzDJ598wvfff8+wYcNo2LAhgwYNAkp3gYuLi+OBBx5g5MiRlfbdpk0bli9fbn/u6upapZhFpHYlHcpmz/FcvNxdePSmpnyzO8PskEyzfuwkXIuLsLqrQkVF3F1deLp7HG9+tZf31xxkSPc4XDT9RaTeqbWE9957762R60ycOJGnn36aIUOGADBp0iSWLFnCtGnTGDduXLn206dPJzo62j5qGx8fz5YtW5gwYYI94b3hhhu44YYbAHjppZcq7dvNzU2juiIO6IMLo7sPJDSp96XIMhO6mB2Cw3vohiZMXrGfI9n57D2eS9tGAWaHJCLXWK0lvK+99tpVX6OoqIitW7eWS0p79+7N+vXrKzwnKSnJvo3xRX369GHGjBkUFxeXG2m+lP379xMVFYWnpyedO3fm73//O3FxcZW2LywspLCw0P48Nze3yn2JSNXsP5HHd/tOYrHA0zfHmh2O1AG+nm48elM07353kKRD2Up4ReqhWp34dubMGT788EPGjBnDqVOngNKpDGlpVZtHlZWVhdVqJTw8vMzx8PBwMjIq/ggzIyOjwvYlJSVkZWVVOfbOnTsze/ZslixZwgcffEBGRgZdu3YlOzu70nPGjRtHQECA/dGkSZMq9yciVfPh2sMA9G4dToxKkUkVPXpTU1xdLBzOOkd6ToHZ4YjINVZrCe/OnTu57rrreOedd5gwYQJnzpwBYNGiRYwZM+aKrvXrckOGYVyyBFFF7Ss6fil9+/Zl0KBBtGvXjl69evH1118D8PHHH1d6zpgxY8jJybE/jh49WuX+ROTyMvPOs2h76S/Mz3Sv/NOW+iRsaxKRG1YTtjXJ7FAcWmSAN3e2LZ2ilnSw8oELEXFOtZbwjho1iieffJL9+/fj5eVlP963b1/WrFlTpWuEhobi6upabjQ3MzOz3CjuRRERERW2d3NzIySk+jsx+fr60q5dO/bv319pG09PT/z9/cs8RKTm/CcphSKrjY7RgSQ0DTI7HIfQdewIbhvxOF3HjjA7FIf3VNcYAHYcPUN+YYm5wYjINVVrCe/mzZt57rnnyh1v1KhRpdMRfs3Dw4OEhASWLVtW5viyZcvo2rVrhed06dKlXPulS5eSmJh4RfN3f62wsJDk5GQiIyOrfQ0Rqb6CIiv/2ZAClI7uaqMJuVIJTYOICvSixGawOeW02eGIyDVUawmvl5dXhYu29u3bR8OGDat8nVGjRvHhhx8yc+ZMkpOTGTlyJKmpqQwdOhQonUbw+OOP29sPHTqUlJQURo0aRXJyMjNnzmTGjBmMHj3a3qaoqIgdO3awY8cOioqKSEtLY8eOHRw4cMDeZvTo0axevZrDhw+zceNG7r//fnJzc3niiSeqcztE5Cr9d+tRzuQX0yTYmz5tVD1FrpzFYqFrXCgAGw5lY7UZJkckItdKrSW8AwYM4I033qC4uBgo/UaTmprKSy+9ZC8PVhWDBw9m0qRJvPHGG3To0IE1a9awePFimjZtCkB6ejqpqT9vPRkbG8vixYtZtWoVHTp04M0332Ty5Mll+jx+/DgdO3akY8eOpKenM2HCBDp27GgvfQZw7NgxHn74YVq2bMnAgQPx8PBgw4YN9n5F5NopKrHx3urSUmTPdI/D1UWju1I97RoH4OPhSk5BMcnpqqQjUl9YjIsrumpYbm4u/fr1Y8+ePeTl5REVFUVGRgZdunRh8eLF+Po6/+rq3NxcAgICyMnJ0XxekauwYHMqL366i4Z+nqz98214uZfdBGbuxtRKznR+997TGZ+TGeQ3jOCzLzeaHY5DeKRz+U2JLpq7MZWlezNYte8kMSG+PHtL3GXPEakrlHdUrtbq8Pr7+7Nu3Tq+++47tm7dis1mo1OnTvTq1au2uhQRJ1RitTF11UEAnu0eVy7ZFblSnWNDWPPTSY5kl5YoiwzwNjskEalltZLw2mw2PvroIxYuXMiRI0ewWCzExsYSERFx2ZJiIiK/9OXO46Rk5xPs68FvbtIonFy9AG932kQFsCsth6SD2Qzs1NjskESkltX4HF7DMOjfvz9DhgwhLS2Ndu3a0aZNG1JSUnjyySe57777arpLEXFSVpvBlJWli0mfvjkWH49a+1BK6pmuzUrLVO44eoZzKlEm4vRq/KfHRx99xJo1a1ixYgW33XZbmddWrlzJvffey+zZs8tUVhARqcgXP6Rx8OQ5ArzdebyLFoxKzYkO9qFRoDdpZwrYlqoSZSLOrsZHeOfNm8fLL79cLtkFuP3223nppZeYM2dOTXcrIk6m2Gpj0vLSjV6euzUOP6/q19EW+TWLxcKNscEAbDp8CptKlIk4tRpPeHfu3Mmdd95Z6et9+/blhx9+qOluRcTJ/G/rMVKy8wlt4MGTF3bIkvI++3IjczekqEJDNbRvHICnmwvZ54pIOqTthkWcWY1PaTh16lSl2/4ChIeHc/q0Pj4SqUsuVfarNso5nS+2MnlF6ejusB7N8fFwq9elx6R2eLq50qFJIBsPn2LuxlS6NQ81OyQRqSU1PsJrtVpxc6s8j3Z1daWkRAsERKRyczamkp5zngh/L9VHlVp1cVrDkj0ZZOadNzkaEaktNT7CaxgGTz75JJ6enhW+XlhYWNNdiogTySko5t8rS0d3X+jZQnV3pVZFBnjTJMibo6cL+O+WY/z+tuZmhyQitaDGE94nnnjism1UoUFEKjP1uwOcyS+mRVgDHkxUfdTLafvhJDzO5lLUwJ/dQ0aYHU6d1Dk2hKOnjzFvUyq/u7UZLtq6WsTp1HjCO2vWrJq+pIjUE8dO5zNr/REAxvRrhZtrjc+6cjrNP59n31pYCW/1tGscwNK9GRw7XcCa/Sfp0TLM7JBEpIbpp4mIOIwJS/ZRVGKjS1wItynpkGvE3dWFQQmlnybM0eJIEaekhFdEHMK21NN8tuM4AC/3i9cW5HJN/ebC4siVP2aSnlNgcjQiUtOU8IqI6Ww2g9e/2APAAwmNadc4wOSIpL5pHubHjTHBWG0GCzYfNTscEalhSnhFxHT/23aMH47l0MDTjT/d2dLscKSe+s1NpaO8CzYfpcRqMzkaEalJSnhFxFS554sZ/+2PAAzv2YIwPy+TI5L66s62EQT5uJOec55V+06aHY6I1CAlvCJiqolLfyLrbBFxDX15QlsIi4k83VwZ1Kl08dr8zVq8JuJMlPCKiGl2HD3Dx0lHAHi9fxs83PQtScz10I1NgNLFaxk52nlNxFnUeB1eEZHLmbsxFavN4N3vDmAY0LFJIEdPFTB3Y6q2EhZTzP1FObKmIT6kZOfz6me7ub1VmL4mRZyAEl4RMcX3B7LIyD2Pj4crfdtFmh1OnZXZsTOeOacpDAgyOxSncUNMMCnZ+WxNOUWPlg3NDkdEaoASXhG55k6dK2LFjycA6Ns2kgae+lZUXevfmGx2CE6nbVQAX+08zun8Yg5mnjU7HBGpAZowJyLXlGEYfL4jjWKrQVyoL52iA80OSaQMDzcXOjQpHTHffOSUydGISE1Qwisi19TnO46zP/Msbi4W7u3YSDuqiUO6IaY04U1OzyPrbKHJ0YjI1VLCKyLXzOlzRbz51V4AbmsVRmgDT5MjEqlYZIA3jYO8sRoGn249ZnY4InKVlPCKyDXz98XJZJ8rIszPk+4tQs0Oxync/vuH6PdwL27//UNmh+J0bogJBkp3XjMMw+RoRORqaKWIiFyVX5Zz+rVflnNafzCL/14YKbuvYyPcXPT7dk3wTz2Mz8kM8s/mmR2Kw7jU1+SVaN84gK93pXMo6xx/W5xMXGiDMq+rXJlI3aGfOCJS684XW3ll0W4AftM5mqYhviZHJHJ5nm6uXN84AIAtR06bHI2IXA0lvCJS66Z+d4DDWecI8/Pkz3e2MjsckSq7OK1hd1oO+UUlJkcjItWlhFdEatVPJ/KYtvogAGP7tyHA293kiESqrlGgN5EBXpTYDLannjE7HBGpJiW8IlJrbDaDMQt3UWw16BUfRt+2EWaHJHJFLBYLiRdGeTcfOaXFayJ1lBJeEak18zansjXlND4errw+oK1q7kqd1KFxIO6uFjLzCjl6Kt/scESkGlSlQURqRe75YiYt/wmA21qGsXrfSZMjEqkebw9X2jUKYFvqGTYfOU20Fl2K1Dka4RWRWvHNrnTOF9toFOhNl2YhZocjclUuLl7bmXaG88VWk6MRkSulhFdEatzBk2f54VgOFmBAhyhcNJVB6rjoYB8a+nlSbDX44dgZs8MRkSukKQ0iUqNKbDa++OE4ADfGBtM4yMfkiJzbrqeH455/jmIffcxemywWCzfEBLN4Vzqbj5yic6w+tRCpS5TwikiNWn8gm5N5hfh6uNK7taoy1LaD9z5idgj1RscmgSzZk8HxM+dJO1NgdjgicgU0pUFEasyZ/CJW/HgCgDvbRuLt4WpyRCI1x9fTjTZR/kBpiTIRqTvqRMI7depUYmNj8fLyIiEhgbVr116y/erVq0lISMDLy4u4uDimT59e5vU9e/YwaNAgYmJisFgsTJo0qUb6Fanvvt6VTrHVoGmwDx2jA80OR6TGXVy89sPRM9p5TaQOcfiEd8GCBYwYMYJXXnmF7du30717d/r27UtqamqF7Q8fPky/fv3o3r0727dv5+WXX+aFF17g008/tbfJz88nLi6Ot99+m4iIij9yvdJ+Req7n07ksed4Li4W6K+FateMV9YJvDPT8co6YXYo9UJsqC/Bvh4Ultj4ame62eGISBVZDAffNqZz58506tSJadOm2Y/Fx8dz7733Mm7cuHLtX3zxRb744guSk5Ptx4YOHcoPP/xAUlJSufYxMTGMGDGCESNGXFW/FcnNzSUgIICcnBz8/f2rdI6II5q78dK/6JVYbfxrxX6yzxXRrVkId7WPqnZfj3SOrlYM9dW993TG52QG+Q0j+OzLjWaHUy+s3pfJkr0n6BgdyKJh3cwOR8ROeUflHHqEt6ioiK1bt9K7d+8yx3v37s369esrPCcpKalc+z59+rBlyxaKi4trrV+AwsJCcnNzyzxE6oP1B7PJPleEn6cbPePDzQ5HpFZ1ahqEiwW2p55hX0ae2eGISBU4dMKblZWF1WolPLzsD9Dw8HAyMjIqPCcjI6PC9iUlJWRlZdVavwDjxo0jICDA/mjSpEmV+hOpy84VlvDdvkwAereJwMtdC9XEufl5uRMfWTp6Nm+TPnkQqQscOuG9yPKruYCGYZQ7drn2FR2v6X7HjBlDTk6O/XH06NEr6k+kLlq5L5PCEhuRAV5aqCb1xsXFa4u2p2nnNZE6wKHr8IaGhuLq6lpuVDUzM7Pc6OtFERERFbZ3c3MjJKRqhcKr0y+Ap6cnnp6eVepDxBlknS1k46FsAPq2jayRhWqaqyt1QfOwBjQK9CbtTAHf7s7g3o6NzA5JRC7BoUd4PTw8SEhIYNmyZWWOL1u2jK5du1Z4TpcuXcq1X7p0KYmJibi7u9davyL10ZI9GdgMaBnuR/OwBmaHI3LNuFgsPJhYOm1N0xpEHJ9DJ7wAo0aN4sMPP2TmzJkkJyczcuRIUlNTGTp0KFA6jeDxxx+3tx86dCgpKSmMGjWK5ORkZs6cyYwZMxg9erS9TVFRETt27GDHjh0UFRWRlpbGjh07OHDgQJX7FanvjmSdY8/xXCzAnW21o5rUPw/e0BgXC2w8fIpDJ8+aHY6IXIJDT2kAGDx4MNnZ2bzxxhukp6fTtm1bFi9eTNOmTQFIT08vUxs3NjaWxYsXM3LkSN59912ioqKYPHkygwYNsrc5fvw4HTt2tD+fMGECEyZM4NZbb2XVqlVV6lekPjMMg8W7S2uQJsYEE+7vZXJEItdeZIA3PVqGsfLHTOZtSuWVu1qbHZKIVMLh6/DWZaqHJ87i1/Nqdx47w/zNR/FwdeGPva/Dz6tq04Wk5qkOr3ke6RzNiuQTPP3xFgK83dkwpqe20xZTKe+onMNPaRARx1JitbFkT+mCzluuC1WyK/Vaj5ZhNAn2JqegmM92pJkdjohUwuGnNIiIY9l05BSn84vx93Lj5uYNzQ6n3lsxZS4uVis2V40smsHVxcITXWJ46+tkPl5/hIduaHLFJTBFpPZphFdEqqyoxMaqfScBuK1VGB5u+hZitrymzciJu468ps3MDqXeeiCxCd7urvyYkcfGw6fMDkdEKqCfViJSZRsPZ3O2sIQgH3cSmgaZHY6IQwjwdue+TqV1eD9ef8TcYESkQkp4RaRKCoutrP6pdHT39lZhuLno24fIRU90iQFKa1OnnSkwNxgRKUc/sUSkStYfyia/yEqIrwcdmmh011E0XfIZzT6fR9Mln5kdSr3WMsKPLnEh2Az4ZEOK2eGIyK8o4RWRyyoosrJ2f+nobs/4MFxdtCjHUXScMo7O416i45RxZodS7z3RNQaA+ZtSOV9sNTcYESlDCa+IXNb3B7M4X2wjzM+T9o0DzQ5HxCH1ig+jUaA3p/OL+eKH42aHIyK/oLJkInJJp88V8f2BLAB6xofjopJLIkD5DVkA2jUKIO1MAR+vP8IDCY1VokzEQWiEV0Qu6b01hygssREZ4EWbKO3cI3IpiU2DcHOxsOd4LltSTpsdjohcoIRXRCp1Mq/QXmapl0Z3RS7Lx9ONDk0CAZix9rC5wYiInRJeEanU9NUHKSi20jjIm1YRfmaHI1IndGseCsCSvRkcyTpncjQiAkp4RaQSGTnn7eWVesWHay6iSBWF+3txW8uGGAZ8uO6Q2eGICEp4RaQS7353gMISG4lNg2gR1sDscETqlGdvKd3q+b9bjpF9ttDkaERECa+IlHPsdD7zN5euQP9j75Ya3RW5QjfFBdO+cQCFJTZmJ2kjChGzKeEVkXKmrDxAsdWga7MQujQLMTscuYSCkIbkN4ygIKSh2aHIL1gsFp69JQ6A2UlHyC8qMTkikfpNdXhFpIwjWef479ZjAPyx93UmRyOXs+Sjr8wOQSpxZ5sImob4kJKdz9yNqQzpHmd2SCL1lkZ4RaSMySv2Y7UZ3HpdQxKaBpsdjkid5ebqwu9uLZ3L+/6aQ9puWMRESnhFxO5A5lk+25EGaHRXpCYM7NSYyAAvMvMK+d+FT05E5NpTwisidpOW/4TNgDtah9O+caDZ4YjUeR5uLjx3YS7vtFUHKbbaTI5IpH5SwisiACSn5/LVznQARt2h0d264oa3x3Dzy7/jhrfHmB2KVOKhG6MJbeBB2pkCPtueZnY4IvWSEl4RAeAfS/YBcFf7SOIj/U2ORqqq0fcriV65mEbfrzQ7FKmEl7srz1xYsPbvlQc0yitiAiW8IsKmw6dY+WMmri4WRvduaXY4Ik7nsS5NCW3gQeqpfM3lFTGBEl6Res4wDMZ/+yMAg29oQmyor8kRiTgfHw83ftejOVBa57qwRBUbRK4lJbwi9dyK5Ey2pJzG082F4T1bmB2OiNP6Tedowv09STtTwP9tPmp2OCL1ihJekXrMajPsc3ef6hZLuL+XyRGJOC8vd1eev610lPffKw9QUKRRXpFrRQmvSD32+Y409p3Iw9/LzV4gX0Rqz4M3NKFxkDeZeYXM/P6w2eGI1BvaWlikniossTJx2U8A/K5HcwJ83E2OSMT5ebq58qc+LRk+fwfTVh3koRuaENLAE4C5G1MrPe+RztHXKkQRp6QRXpF6at7GVI6dLiDMz5Mnu8aYHY5IvXFP+yjaNvLnbGEJ/155wOxwROoFJbwi9dAvf9AO79UCbw9XkyMSqT9cXCyM6RsPwJyNKaRknzM5IhHnp4RXpB5697sDZJ8rIjbUlwcTm5gdjlyFI737c+CewRzp3d/sUOQKdGseyi3XNaTYajBu8Y9mhyPi9DSHV6SeSc3OZ8ba0sUyL/eLx91Vv/fWZTv+8IrZIUg1vdIvnu8PZPHtngzWH8gyOxwRp6afdCL1zLhvkimy2ri5eSi94sPMDkek3moZ4cejFxajvf7lXqw2w+SIRJyXRnhFHFxNrtzecCibb3Zn4GKBv9zdGovFcrXhicgV+uX/6SbBPni7u7LvRB6bj5ziprgQEyMTcV4a4RWpJ4qtNl77fA8Av+nclJYRfiZHJCI+Hm7c0TocgGV7T3C2sMTkiESckxJekXpi5rrD7DuRR7CvB3/sfZ3Z4UgNuWvw7TxwexvuGny72aFINd0QE0xkgBcFxVa+3Z1udjgiTkkJr0g9kHamgEnL9wMwpm8rAn08TI5Iaop7/jnc88/inq/SVnWVq4uFezs0wgJsSz3DoZNnzQ5JxOnUiYR36tSpxMbG4uXlRUJCAmvXrr1k+9WrV5OQkICXlxdxcXFMnz69XJtPP/2U1q1b4+npSevWrVm0aFGZ18eOHYvFYinziIiIqNH3JXKtvP7FHgqKrdwYE8z9CY3NDkdEfqVJsA83xAYD8PmO45TYbCZHJOJcHD7hXbBgASNGjOCVV15h+/btdO/enb59+5KaWvFCnsOHD9OvXz+6d+/O9u3befnll3nhhRf49NNP7W2SkpIYPHgwjz32GD/88AOPPfYYDz74IBs3bixzrTZt2pCenm5/7Nq1q1bfq0htWLwrnaV7T+DmYuGt+9pqoZqIg+rTOgJfTzdOni1k9b6TZocj4lQcvkrDxIkTefrppxkyZAgAkyZNYsmSJUybNo1x48aVaz99+nSio6OZNGkSAPHx8WzZsoUJEyYwaNAg+zXuuOMOxowZA8CYMWNYvXo1kyZNYt68efZrubm5aVRX6qSLq8DPFpbwr+U/AdC9RShbjpzmuvDKF6tdqiKEiNQubw9X7m4fyYLNR1m17yRtogKICPAyOywRp+DQI7xFRUVs3bqV3r17lzneu3dv1q9fX+E5SUlJ5dr36dOHLVu2UFxcfMk2v77m/v37iYqKIjY2loceeohDhw5dMt7CwkJyc3PLPETM9OUPxzlXZCXc35PbWqrmroija98ogPhIf6yGwafbjqk2r0gNceiENysrC6vVSnh4eJnj4eHhZGRkVHhORkZGhe1LSkrIysq6ZJtfXrNz587Mnj2bJUuW8MEHH5CRkUHXrl3Jzs6uNN5x48YREBBgfzRpoi1bxTy70nLYlZaDiwUGdWqMm3ZUE3F4FouFAR2i8HJ3Ie1MAev2a2qDSE2oEz8Bfz3n0DCMS85DrKj9r49f7pp9+/Zl0KBBtGvXjl69evH1118D8PHHH1fa75gxY8jJybE/jh49epl3JlI7zuQX8dn2NABuadGQxkE+JkckIlXl7+XO3e2iAFj+YybpOQUmRyRS9zl0whsaGoqrq2u50dzMzMxyI7QXRUREVNjezc2NkJCQS7ap7JoAvr6+tGvXjv3791faxtPTE39//zIPkWvNajP4vy3HKCi20ijQm9u1fbBIndMxOpD4CL8L/5+Pcr7YanZIInWaQye8Hh4eJCQksGzZsjLHly1bRteuXSs8p0uXLuXaL126lMTERNzd3S/ZprJrQun83OTkZCIjI6vzVkSumXe/O8CR7HN4uLnw0A1NcHNx6P/mIlIBi8XCfZ0a4+vpxoncQiYs2Wd2SCJ1msNXaRg1ahSPPfYYiYmJdOnShffff5/U1FSGDh0KlE4jSEtLY/bs2QAMHTqUKVOmMGrUKJ555hmSkpKYMWNGmeoLw4cP55ZbbuGdd95hwIABfP755yxfvpx169bZ24wePZp77rmH6OhoMjMzeeutt8jNzeWJJ564tjdA5Aqs25/FpAtVGQZcH0VIA0+TI5LatunFv+NaeB6rp1bzO5KaqHjSwNONQZ0aMTsphQ/XHeaW6xpyy3UNayA6kfrH4RPewYMHk52dzRtvvEF6ejpt27Zl8eLFNG3aFID09PQyNXljY2NZvHgxI0eO5N133yUqKorJkyfbS5IBdO3alfnz5/Pqq6/yl7/8hWbNmrFgwQI6d+5sb3Ps2DEefvhhsrKyaNiwITfddBMbNmyw9yviaI6eyuf5eduwGZAQHUTH6CCzQ5Jr4PjNPc0OQWpRqwh/bowNZtPhU4xcsINvhncnzF+/3IhcKYtxcUWX1Ljc3FwCAgLIycnRfF6ptkuNFD3SORqAgiIrg6atZ296Lu0bBzCoU2PcK6nKcPGcK+1LRMxRbLUxb1MqP2bkcVNcMHOG3ISrizaQkfKUd1ROk/tE6jibzWD0f39gb3ouIb4eTH80odJkV0TqHndXF979TSd8PFzZcOiUfTMZEak6/VQUqePe/vZHvt6Vjrurham/6URUoLfZIck1FPTjLkJ3bSXoR2197syaNWzAuIHtAJi88gDL9p4wOSKRukUJr0gd9vH6I7y/pnQHwAkPXE/nuBCTI5Jr7dY/DaH3MwO59U9DzA5FatmADo14vEvpOpKRC3ZwIPOsyRGJ1B1KeEXqqO2ppxn75R4A/tSnJQM6NDI5IhGpbX+5uzU3xgRztrCEZ/+zhdzzxWaHJFInKOEVqYN2peXwv63HMAx47KamDOvRzOyQROQauDifNzLAi0Mnz/H7OdsottrMDkvE4SnhFalj9h7PZcHmVAzggYTGvN6/zSW32hYR59LQz5MPHk/E292Vtfuz+Ovnu1HBJZFLU8IrUof8cOwMczelYDOgfeMA3h7UHheVJxKpd9o2CuDfD3fEYoF5m44yffUhs0MScWhKeEXqiC1HTvF/m49iM6BDk0AeSGiiWpwi9Viv1uH89e7WALzz7Y8s2Kw62iKVUcIr4uAMw2Dlj5ks3J6GAdwYE8z9CY2V7IoIT3WL5blb4wAYs3AX3+5ONzkiEcekhFfEgZVYbXy2I43lyaU1N29p0ZABHaJw0ZxdEbngpTtb8dANTbAZ8MK8HXz3Y6bZIYk4HDezAxCRimWdLeT5udvYfOQ0FuCe66O4qQbq7Gr7YJG6p7L/t490jsZisfC3+9qRd76Er3el89x/tjL9sU7c3iq8xvq52JdIXaURXhEHtOPoGe759zo2HDqFh5sLj97UtEaSXRFxTq4uFiY91IG+bSMostp47j9btRubyC9ohFfEwczflMpfP99DkdVGXENf+rePIszfy+ywxEF9NX8FYACa5lLfubu6MPnhjoyYv4Ovd6Uz9JOtvD2wHQ8kNjE7NBHTaYRXxEGcL7YyZuEuXlq4iyKrjd6tw/n8992U7Mollfg2oMTXjxLfBmaHIg7A3dWFSQ91YGCnRlhtBn/6306mrz6oOr1S72mEV8QB7D2ey4gF2/npxFksFhjduyW/u7WZauyKyBVzd3Vhwv3XE9rAk/fXHOLtb34kJTuf1/u3wcNN41xSPynhFTGR1WbwwdpD/HPpPoqtBqENPPnng9dz63UNzQ5NROowFxcLL/eLJ8zPk78tTmbeplQOnTzLtEcTCPb1MDs8kWtOCa9IDavqKuejp/L5439/YNPhUwDc0Tqctwe2I6SBZ430JfVDq7kf4H7uLMW+DfjxkWfMDkeusct9vxnSPY5mDRvwh3nb2Xj4FHdNXsuURzqS0DT4GkYpYj59tiFyjdlsBv/ZkELff61l0+FT+Hq4Mn5Qe95/LOGKkl0RgFbzPqTdjEm0mveh2aGIg7qtVRiLhnUlNtSX9JzzPPjeBqavPojNpnm9Un8o4RW5hvYez2XgtPX85bPdnC0sIaFpEN8Mv4UHb2iCRZtJiEgtaRHux5d/uJn+10dhtRm8/c2PPPzBBo6eyjc7NJFrQgmvyDVQVGLjm93p3DNlHTuOnqGBpxuv92/D/z3XhegQH7PDE5F6oIGnG/96qANvD2yHj4crGw+fos+kNcxOOoJVo73i5DSHV6QWGYbB7uO5fLM7nTP5xQD0bRvBa/e0ISJA5cZE5NqyWCw8dGM0XZuFMvp/pWsI/vr5Hv639Rh/u7ed2eGJ1BolvCK15OipfBbvSiflwkeGgd7uTHjgenq1vvLtPkVEalJ0iA/zn7mJORtTGL9kHzuP5dD/3XV0aBxIr/hwglTJQZyMEl6RaqpsdfSZ/CKW7j3BjqNnAHB3tdC9RUNuadFQya6IXDOXq+Dg4mLhsS4x9Gkbwd++TubzHcfZfvQMO9NyuCk2mB4tw/D1VJogzkFfySI15GxhCWt+OsmGQ9mUXJgP1yk6kDtaRxDg7W5ydCIiFQvz8+JfD3Xk6ZtjGbFgB4dOnuP7g9lsSTlN9xYN6RIXgreHq9lhilwVJbwiVym/sIQ1+7NIOpRFsbU00Y0J8eWudpE0CvI2OToRkapp3ziQp7vFciDzLN/uySA95zzLk0+wZv9JbowJ5vZWYVp7IHWWEl6RajpbWML6g1msP5hNUYkNgMZB3vSKD6dFWAOVGROROsdisdAi3I9mYQ3YdSyH1T+dJCP3POsOZNF9/EoGdGjEs7fEcV24n9mhilwRJbwiVyg1O58P1x1i3qZU+4huZIAXveLDaRXhp0RXrqlTLduSHx7J+cAQs0MRJ+JisXB9k0DaNw7gpxNnWbP/JIezzvG/rcf439ZjdI4N5rEuTendOgIPN1U4FcenhFekinan5fDemkN8vfM4F0tWNgr05tbrGtI6yh8XJbpigjUTZpgdgjgxi8VCywg/Wkb4ER/px/trDrFkTwYbD59i4+FThDbw5KEbmvDQjU1oHKSa4uK4lPCKXEJhiZVvdmUwO+kI21LP2I/fcl1DWoQ1IC7UVyO6IlIvdIwOYtqjCaTnFDBv01Hmb0olM6+QKd8d4N1VB+gSF8KgTo3p2y4CHw+lF+JYLIZhaHuVWpKbm0tAQAA5OTn4+/ubHY5cwq/L95zJL2LT4VPsSssh+1wRAG4uFu5uH8mztzSjdZT/JUv+iIg4m0c6R5d5Xmy1sWzvCT7ZkML6g9n24z4ervRtG8nATo04nHWu0k+/fn29iy5XTk0qp7yjcvoVTOSCohIbe9Nz2ZZ6moOZZ7n4m2CEvxePdI7moRubEOanFcoiIgDuri70axdJv3aRHD2Vz6LtaXy67Rgp2fl8uu0Yn247hq+nG22j/GnXOICYEF9N/RLTKOGVes1mM9iWeppF24+x81gOhReqLQDEhfrypz4tuaN1OG6uWpQhjumW0U/jdSab84Ehms8rpmkS7MMLPVvwh9ubszXlNJ9uO8Y3uzM4k19sn+/r5+lG6yh/4iP9iQv1NTtkqWeU8Eq9Y7MZbEk5zeJd6Xy7O4OM3PP214J83OkYHUSn6CCCfT3o2y7SxEhFLi943258TmaQ3zDC7FBEsFgsJMYEkxgTzBsD2vK3r5PZdSyHPek55BWW2JNfDzcXkg5l0zM+nB4tGxLawNPs0MXJKeGVeiG/qISkg9ms2neSJXsyyMwrtL/m5+lGi/AGdIoOIiZUH7mJiNQEd1cXrgv347pwPwbYojiYeZa96Xn8mJFL3vkSvtmdwTe7MwBoFeFH12ah3NwihMJiK57u2tlNapYSXnFKNpvB/syzrN1/ktU/nWTjoVMUWX+eruDn5cYdrcPp1zaS7teF8unWNBOjFRFxbm4uLrSM8KdlhD82I4rjZwpwc3VhRfIJ9hzP5ceMPH7MyGPm94dxsUDjIB+aNWxAs4a+NA7yUa1fuWpKeMV0la3IvZLVuOeLrexOy+GDtYdJyT5HSnY+BcXWMm2CfNy5Lry0nmTzhg1wc3UhM69Qya6ISBXUVGUaF4uFxkE+PNI5mlF3XEf22UKSDmXz/YEsvj+QTeqpfPvju33gYoGIAC+ig33w9nChU3QQ0cE+KgkpV0QJr9QpNpvBibzz7D9xluT0XPam55KcnsvBk+ew2spW2HN3tdA0xPfCR2oNaNjAU98gRUQcTEgDT+5uH8Xd7aMAeHflAQ6ePMuBk2c5nHWOvPMlHD9znuNnzrPh0KnSc3w96BgdSNtGAcRH+hMf4U/jIG9cXPQ9XipWJxLeqVOn8o9//IP09HTatGnDpEmT6N69e6XtV69ezahRo9izZw9RUVH8+c9/ZujQoWXafPrpp/zlL3/h4MGDNGvWjL/97W/cd999V9WvXL3CEit550vIO1/Clz8cJzOvkPQzBRzJzif1VOnI7S8rKfxSiK8H4f5exIT6EhPiQ2SAN6765iciUqcE+XqQ6Fu68M0wDHIKikk9lc/RU/mcK7Ky53hpffTlyZksT860n+fr4UrLCD9aRfoTH1E6dzg21JeGfhrskDqQ8C5YsIARI0YwdepUunXrxnvvvUffvn3Zu3cv0dHlP/I+fPgw/fr145lnnuGTTz7h+++/Z9iwYTRs2JBBgwYBkJSUxODBg3nzzTe57777WLRoEQ8++CDr1q2jc+fO1epXfmazGeQXWzlXWEJuQTE5l3jkFhSzP/MsZ8+XkFdYQlElyewvubpYiA72oXWkP/GRfsRH+tM6yp8Ify/mbTp6Dd6hiIhcCxaLhUAfDwJ9PGjfOJBHOkdzvtjKnuO5bE89TfKFRXD7T5zlXJGVbalnyuyKCaWJcNMQX2JCfYgO9iUq0IsIfy+iAr2JCPAixNdDCXE94PA7rXXu3JlOnToxbdo0+7H4+Hjuvfdexo0bV679iy++yBdffEFycrL92NChQ/nhhx9ISkoCYPDgweTm5vLNN9/Y29x5550EBQUxb968avVbkdre8SS/qIQSm4FhA5thYDMMrIaBYVx8Xpp82v9uGBiGgfUX7Q0DrDaDIquNwmIbRVbrhT9LnxdabRQWWymy2jhfbCO/sIRzRSWcLSxNaM9deH6u0MrZwpILr1svH/wleLi64OflRrOGDWjo70mEvxcxIT5Eh5SO3EYFeuNeSV3cmt797FLziLXTmjiCe+/pbC9L9tmXG80OR6TKanKntWKrjSNZ50jOyOPHC1PdDpw8S9rpAmyXyXJcXSwEersT4ONOkI8Hgd7uF5JsdwK93fH2cMXLvfTh7e6Kl7uL/bmHqwsWS+k1XF0suFhK/3S1WHBx4Rd/v/CnxYK3h2utLcLTTmuVc+gR3qKiIrZu3cpLL71U5njv3r1Zv359heckJSXRu3fvMsf69OnDjBkzKC4uxt3dnaSkJEaOHFmuzaRJk6rdL0BhYSGFhT+Xu8rJyQFKvwBrQ89/ruJEbuHlG5rExQINPN3w93bH38udAG93/L3c8PN2v3Cs9LW9x3Px8XTF38OdBl6ueFwoR/NgYpMKrmql4NxZCirpM/9cXo2+h0v929V0XyLVkWuzUQLk22z6mpQ6pbLvr5f6Or7U9+RwbwiPbUCP2AZA6XzgwhIraWcKSM3OJyX7HMfPnCcjt4ATOYWcyD1P1rkiig04WQAnT13V26my1/u3ZlBCRT/frt7F++PgY5mmcOiENysrC6vVSnh4eJnj4eHhZGRkVHhORkZGhe1LSkrIysoiMjKy0jYXr1mdfgHGjRvH66+/Xu54kya184Xt7J4xOwAcIwaRKsnOhJ5tzY5CpMqq8/3VGb4n/3YS/LaW+8jLyyMgIKCWe6lbHDrhvejXc2sMw7jkfJuK2v/6eFWueaX9jhkzhlGjRtmf22w2Tp06RUhIiOYHUfqbZ5MmTTh69Kg+aqlBuq+1Q/e1dui+1g7d19pR1+6rYRjk5eURFRVldigOx6ET3tDQUFxdXcuNqmZmZpYbfb0oIiKiwvZubm6EhIRcss3Fa1anXwBPT088PctujxgYGFj5G6yn/P3968Q3jrpG97V26L7WDt3X2qH7Wjvq0n3VyG7FHHrrEg8PDxISEli2bFmZ48uWLaNr164VntOlS5dy7ZcuXUpiYiLu7u6XbHPxmtXpV0REREQck0OP8AKMGjWKxx57jMTERLp06cL7779Pamqqva7umDFjSEtLY/bs2UBpRYYpU6YwatQonnnmGZKSkpgxY4a9+gLA8OHDueWWW3jnnXcYMGAAn3/+OcuXL2fdunVV7ldERERE6gaHT3gHDx5MdnY2b7zxBunp6bRt25bFixfTtGlTANLT00lN/bmESWxsLIsXL2bkyJG8++67REVFMXnyZHsNXoCuXbsyf/58Xn31Vf7yl7/QrFkzFixYYK/BW5V+5cp5enry2muvlZv2IVdH97V26L7WDt3X2qH7Wjt0X52Hw9fhFRERERG5Gg49h1dERERE5Gop4RURERERp6aEV0REREScmhJeEREREXFqSnjlmpg6dSqxsbF4eXmRkJDA2rVrzQ6pThk3bhw33HADfn5+hIWFce+997Jv374ybQzDYOzYsURFReHt7U2PHj3Ys2ePSRHXPePGjcNisTBixAj7Md3T6ktLS+PRRx8lJCQEHx8fOnTowNatW+2v695euZKSEl599VViY2Px9vYmLi6ON954A5vNZm+j+3p5a9as4Z577iEqKgqLxcJnn31W5vWq3MPCwkL+8Ic/EBoaiq+vL/379+fYsWPX8F3IlVLCK7VuwYIFjBgxgldeeYXt27fTvXt3+vbtW6acnFza6tWr+f3vf8+GDRtYtmwZJSUl9O7dm3PnztnbjB8/nokTJzJlyhQ2b95MREQEd9xxB3l5eSZGXjds3ryZ999/n/bt25c5rntaPadPn6Zbt264u7vzzTffsHfvXv75z3+W2XlS9/bKvfPOO0yfPp0pU6aQnJzM+PHj+cc//sG///1vexvd18s7d+4c119/PVOmTKnw9arcwxEjRrBo0SLmz5/PunXrOHv2LHfffTdWq/VavQ25UoZILbvxxhuNoUOHljnWqlUr46WXXjIporovMzPTAIzVq1cbhmEYNpvNiIiIMN5++217m/PnzxsBAQHG9OnTzQqzTsjLyzNatGhhLFu2zLj11luN4cOHG4ahe3o1XnzxRePmm2+u9HXd2+q56667jN/+9rdljg0cONB49NFHDcPQfa0OwFi0aJH9eVXu4ZkzZwx3d3dj/vz59jZpaWmGi4uL8e23316z2OXKaIRXalVRURFbt26ld+/eZY737t2b9evXmxRV3ZeTkwNAcHAwAIcPHyYjI6PMffb09OTWW2/Vfb6M3//+99x111306tWrzHHd0+r74osvSExM5IEHHiAsLIyOHTvywQcf2F/Xva2em2++mRUrVvDTTz8B8MMPP7Bu3Tr69esH6L7WhKrcw61bt1JcXFymTVRUFG3bttV9dmAOv9Oa1G1ZWVlYrVbCw8PLHA8PDycjI8OkqOo2wzAYNWoUN998M23btgWw38uK7nNKSso1j7GumD9/Ptu2bWPz5s3lXtM9rb5Dhw4xbdo0Ro0axcsvv8ymTZt44YUX8PT05PHHH9e9raYXX3yRnJwcWrVqhaurK1arlb/97W88/PDDgL5ma0JV7mFGRgYeHh4EBQWVa6Ofa45LCa9cExaLpcxzwzDKHZOqef7559m5cyfr1q0r95ruc9UdPXqU4cOHs3TpUry8vCptp3t65Ww2G4mJifz9738HoGPHjuzZs4dp06bx+OOP29vp3l6ZBQsW8MknnzB37lzatGnDjh07GDFiBFFRUTzxxBP2drqvV68691D32bFpSoPUqtDQUFxdXcv91puZmVnuN2i5vD/84Q988cUXfPfddzRu3Nh+PCIiAkD3+Qps3bqVzMxMEhIScHNzw83NjdWrVzN58mTc3Nzs90339MpFRkbSunXrMsfi4+PtC1X19Vo9f/rTn3jppZd46KGHaNeuHY899hgjR45k3LhxgO5rTajKPYyIiKCoqIjTp09X2kYcjxJeqVUeHh4kJCSwbNmyMseXLVtG165dTYqq7jEMg+eff56FCxeycuVKYmNjy7weGxtLREREmftcVFTE6tWrdZ8r0bNnT3bt2sWOHTvsj8TERH7zm9+wY8cO4uLidE+rqVu3buXK5v300080bdoU0NdrdeXn5+PiUvbHtqurq70sme7r1avKPUxISMDd3b1Mm/T0dHbv3q377MhMWy4n9cb8+fMNd3d3Y8aMGcbevXuNESNGGL6+vsaRI0fMDq3O+N3vfmcEBAQYq1atMtLT0+2P/Px8e5u3337bCAgIMBYuXGjs2rXLePjhh43IyEgjNzfXxMjrll9WaTAM3dPq2rRpk+Hm5mb87W9/M/bv32/MmTPH8PHxMT755BN7G93bK/fEE08YjRo1Mr766ivj8OHDxsKFC43Q0FDjz3/+s72N7uvl5eXlGdu3bze2b99uAMbEiRON7du3GykpKYZhVO0eDh061GjcuLGxfPlyY9u2bcbtt99uXH/99UZJSYlZb0suQwmvXBPvvvuu0bRpU8PDw8Po1KmTvZyWVA1Q4WPWrFn2NjabzXjttdeMiIgIw9PT07jllluMXbt2mRd0HfTrhFf3tPq+/PJLo23btoanp6fRqlUr4/333y/zuu7tlcvNzTWGDx9uREdHG15eXkZcXJzxyiuvGIWFhfY2uq+X991331X4/fSJJ54wDKNq97CgoMB4/vnnjeDgYMPb29u4++67jdTUVBPejVSVxTAMw5yxZRERERGR2qc5vCIiIiLi1JTwioiIiIhTU8IrIiIiIk5NCa+IiIiIODUlvCIiIiLi1JTwioiIiIhTU8IrIiIiIk5NCa+IyCX06NGDESNGOGS/MTExTJo0yf7cYrHw2Wef1WpcIiJ1kZvZAYiISHkLFy7E3d39is5JT08nKCgIgCNHjhAbG8v27dvp0KFDLUQoIlJ3KOEVEXFAwcHBV3xORERELUQiIlL3aUqDiMhl2Gw2/vznPxMcHExERARjx44FSkdRLRYLO3bssLc9c+YMFouFVatWAbBq1SosFgtLliyhY8eOeHt7c/vtt5OZmck333xDfHw8/v7+PPzww+Tn59uv8+spDZmZmdxzzz14e3sTGxvLnDlzysX5yykNsbGxAHTs2BGLxUKPHj1Ys2YN7u7uZGRklDnvj3/8I7fccsvV3ygREQelhFdE5DI+/vhjfH192bhxI+PHj+eNN95g2bJlV3SNsWPHMmXKFNavX8/Ro0d58MEHmTRpEnPnzuXrr79m2bJl/Pvf/670/CeffJIjR46wcuVK/ve//zF16lQyMzMrbb9p0yYAli9fTnp6OgsXLuSWW24hLi6O//znP/Z2JSUlfPLJJzz11FNX9H5EROoSJbwiIpfRvn17XnvtNVq0aMHjjz9OYmIiK1asuKJrvPXWW3Tr1o2OHTvy9NNPs3r1aqZNm0bHjh3p3r07999/P999912F5/7000988803fPjhh3Tp0oWEhARmzJhBQUFBpf01bNgQgJCQECIiIuxTJJ5++mlmzZplb/f111+Tn5/Pgw8+eEXvR0SkLlHCKyJyGe3bty/zPDIy8pKjq5e7Rnh4OD4+PsTFxZU5Vtk1k5OTcXNzIzEx0X6sVatWBAYGXlEMUDpSfODAATZs2ADAzJkzefDBB/H19b3ia4mI1BVatCYichm/rpZgsViw2Wy4uJSOGRiGYX+tuLj4stewWCyVXrMiF69vsViuPPhfCQsL45577mHWrFnExcWxePFi+3xjERFnpRFeEZFqujhtID093X7slwvYakp8fDwlJSVs2bLFfmzfvn2cOXOm0nM8PDwAsFqt5V4bMmQI8+fP57333qNZs2Z069atxmMWEXEkSnhFRKrJ29ubm266ibfffpu9e/eyZs0aXn311Rrvp2XLltx5550888wzbNy4ka1btzJkyBC8vb0rPScsLAxvb2++/fZbTpw4QU5Ojv21Pn36EBAQwFtvvaXFaiJSLyjhFRG5CjNnzqS4uJjExESGDx/OW2+9VSv9zJo1iyZNmnDrrbcycOBAnn32WcLCwipt7+bmxuTJk3nvvfeIiopiwIAB9tdcXFx48sknsVqtPP7447USr4iII7EYv5x8JiIi9cIzzzzDiRMn+OKLL8wORUSk1mnRmohIPZKTk8PmzZuZM2cOn3/+udnhiIhcE0p4RUTqkQEDBrBp0yaee+457rjjDrPDERG5JjSlQURERESc2v8H/b8Qewbgw7MAAAAASUVORK5CYII=",
=======
      "image/png": "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\n",
>>>>>>> master
      "text/plain": [
       "Canvas(toolbar=Toolbar(toolitems=[('Home', 'Reset original view', 'home', 'home'), ('Back', 'Back to previous …"
      ]
     },
     "metadata": {},
     "output_type": "display_data"
    }
   ],
   "source": [
    "plt.figure(figsize=(7,4))\n",
    "sns.distplot(sensors['humidity'],bins=60);\n",
    "plt.title(\"Humidity Distribution\")\n",
    "plt.axvline(x=sensors['humidity'].mean(),color='red',ls='--',lw=2)\n",
    "plt.text(sensors['humidity'].mean()+3,0.03, \"mean\", fontsize=10,c='red');"
   ]
  },
  {
   "cell_type": "markdown",
   "id": "ad732e2e-9c8a-4c57-8a14-61809dd08a66",
   "metadata": {
    "execution": {
     "iopub.execute_input": "2021-10-04T10:27:18.637092Z",
     "iopub.status.busy": "2021-10-04T10:27:18.636846Z",
     "iopub.status.idle": "2021-10-04T10:27:18.639478Z",
     "shell.execute_reply": "2021-10-04T10:27:18.638867Z",
     "shell.execute_reply.started": "2021-10-04T10:27:18.637067Z"
    }
   },
   "source": [
    "### EDA"
   ]
  },
  {
   "cell_type": "code",
   "execution_count": 11,
   "id": "931aaab8-f2ee-469e-893b-a0ab766d2993",
   "metadata": {
    "execution": {
<<<<<<< HEAD
     "iopub.execute_input": "2021-10-12T08:57:19.058041Z",
     "iopub.status.busy": "2021-10-12T08:57:19.057811Z",
     "iopub.status.idle": "2021-10-12T08:57:38.593623Z",
     "shell.execute_reply": "2021-10-12T08:57:38.592867Z",
     "shell.execute_reply.started": "2021-10-12T08:57:19.058015Z"
=======
     "iopub.execute_input": "2021-10-08T03:39:48.057427Z",
     "iopub.status.busy": "2021-10-08T03:39:48.057255Z",
     "iopub.status.idle": "2021-10-08T03:40:04.721439Z",
     "shell.execute_reply": "2021-10-08T03:40:04.720914Z",
     "shell.execute_reply.started": "2021-10-08T03:39:48.057407Z"
>>>>>>> master
    },
    "tags": []
   },
   "outputs": [
    {
     "name": "stdout",
     "output_type": "stream",
     "text": [
      " * postgresql://gpadmin@192.168.133.128:32000/db\n",
      "Done.\n",
      "1 rows affected.\n",
      "5 rows affected.\n"
     ]
    },
    {
     "data": {
      "text/html": [
       "<table>\n",
       "    <tr>\n",
       "        <th>group_by</th>\n",
       "        <th>group_by_value</th>\n",
       "        <th>target_column</th>\n",
       "        <th>column_number</th>\n",
       "        <th>data_type</th>\n",
       "        <th>row_count</th>\n",
       "        <th>distinct_values</th>\n",
       "        <th>missing_values</th>\n",
       "        <th>blank_values</th>\n",
       "        <th>fraction_missing</th>\n",
       "        <th>fraction_blank</th>\n",
       "        <th>positive_values</th>\n",
       "        <th>negative_values</th>\n",
       "        <th>zero_values</th>\n",
       "        <th>mean</th>\n",
       "        <th>variance</th>\n",
       "        <th>confidence_interval</th>\n",
       "        <th>min</th>\n",
       "        <th>max</th>\n",
       "        <th>first_quartile</th>\n",
       "        <th>median</th>\n",
       "        <th>third_quartile</th>\n",
       "        <th>most_frequent_values</th>\n",
       "        <th>mfv_frequencies</th>\n",
       "    </tr>\n",
       "    <tr>\n",
       "        <td>None</td>\n",
       "        <td>None</td>\n",
       "        <td>&quot;timestamp&quot;</td>\n",
       "        <td>1</td>\n",
       "        <td>timestamp</td>\n",
       "        <td>200000</td>\n",
       "        <td>200000</td>\n",
       "        <td>0</td>\n",
       "        <td>None</td>\n",
       "        <td>0.0</td>\n",
       "        <td>None</td>\n",
       "        <td>None</td>\n",
       "        <td>None</td>\n",
       "        <td>None</td>\n",
       "        <td>None</td>\n",
       "        <td>None</td>\n",
       "        <td>None</td>\n",
       "        <td>None</td>\n",
       "        <td>None</td>\n",
       "        <td>None</td>\n",
       "        <td>None</td>\n",
       "        <td>None</td>\n",
       "        <td>[&#x27;2019-07-25 11:00:00&#x27;, &#x27;2019-12-01 19:00:00&#x27;, &#x27;2019-11-03 16:00:00&#x27;, &#x27;2019-11-23 21:00:00&#x27;, &#x27;2019-11-26 21:00:00&#x27;, &#x27;2019-12-21 14:00:00&#x27;, &#x27;2020-01-03 09:00:00&#x27;, &#x27;2019-11-30 16:00:00&#x27;, &#x27;2019-12-15 03:00:00&#x27;, &#x27;2019-11-05 15:00:00&#x27;]</td>\n",
       "        <td>[202, 201, 197, 196, 196, 196, 196, 195, 194, 193]</td>\n",
       "    </tr>\n",
       "    <tr>\n",
       "        <td>None</td>\n",
       "        <td>None</td>\n",
       "        <td>temperature</td>\n",
       "        <td>2</td>\n",
       "        <td>float8</td>\n",
       "        <td>200000</td>\n",
       "        <td>200000</td>\n",
       "        <td>0</td>\n",
       "        <td>None</td>\n",
       "        <td>0.0</td>\n",
       "        <td>None</td>\n",
       "        <td>200000</td>\n",
       "        <td>0</td>\n",
       "        <td>0</td>\n",
       "        <td>32.0007889310936</td>\n",
       "        <td>0.833918535707913</td>\n",
       "        <td>[31.9967866933153, 32.0047911688719]</td>\n",
       "        <td>30.0020976922364</td>\n",
       "        <td>33.9932399275613</td>\n",
       "        <td>31.2506718159847</td>\n",
       "        <td>32.0007082471155</td>\n",
       "        <td>32.7509473341128</td>\n",
       "        <td>[&#x27;31.3932971558727&#x27;, &#x27;31.1270586631445&#x27;, &#x27;31.5795452103724&#x27;, &#x27;31.3809975772738&#x27;, &#x27;33.8450611683449&#x27;, &#x27;31.0611840491863&#x27;, &#x27;32.9212582895504&#x27;, &#x27;33.8943804292179&#x27;, &#x27;32.1098964308206&#x27;, &#x27;31.1571707561875&#x27;]</td>\n",
       "        <td>[204, 197, 196, 196, 195, 195, 195, 195, 195, 195]</td>\n",
       "    </tr>\n",
       "    <tr>\n",
       "        <td>None</td>\n",
       "        <td>None</td>\n",
       "        <td>temperature_2</td>\n",
       "        <td>3</td>\n",
       "        <td>float8</td>\n",
       "        <td>200000</td>\n",
       "        <td>200000</td>\n",
       "        <td>0</td>\n",
       "        <td>None</td>\n",
       "        <td>0.0</td>\n",
       "        <td>None</td>\n",
       "        <td>200000</td>\n",
       "        <td>0</td>\n",
       "        <td>0</td>\n",
       "        <td>46.99570081252</td>\n",
       "        <td>9.80804681580791</td>\n",
       "        <td>[46.9819751809047, 47.0094264441353]</td>\n",
       "        <td>32.2943907804811</td>\n",
       "        <td>61.6835823795163</td>\n",
       "        <td>44.8807517740374</td>\n",
       "        <td>46.9961843733011</td>\n",
       "        <td>49.112212070946</td>\n",
       "        <td>[&#x27;45.610033372541&#x27;, &#x27;41.8933542334198&#x27;, &#x27;48.7487345239526&#x27;, &#x27;42.8628249997972&#x27;, &#x27;51.7284036547247&#x27;, &#x27;53.0636555990058&#x27;, &#x27;49.144793481834&#x27;, &#x27;42.5560303222563&#x27;, &#x27;49.2545157623079&#x27;, &#x27;53.5363445515196&#x27;]</td>\n",
       "        <td>[200, 198, 198, 198, 198, 196, 196, 196, 196, 196]</td>\n",
       "    </tr>\n",
       "    <tr>\n",
       "        <td>None</td>\n",
       "        <td>None</td>\n",
       "        <td>humidity</td>\n",
       "        <td>4</td>\n",
       "        <td>float8</td>\n",
       "        <td>200000</td>\n",
       "        <td>200000</td>\n",
       "        <td>0</td>\n",
       "        <td>None</td>\n",
       "        <td>0.0</td>\n",
       "        <td>None</td>\n",
       "        <td>199916</td>\n",
       "        <td>84</td>\n",
       "        <td>0</td>\n",
       "        <td>50.0315077284909</td>\n",
       "        <td>224.568211224632</td>\n",
       "        <td>[49.9658304401699, 50.0971850168119]</td>\n",
       "        <td>-20.3266268501857</td>\n",
       "        <td>118.488627743178</td>\n",
       "        <td>39.9160404829</td>\n",
       "        <td>50.0412446801503</td>\n",
       "        <td>60.1484803615784</td>\n",
       "        <td>[&#x27;80.0789399962446&#x27;, &#x27;58.9158137497979&#x27;, &#x27;49.5808709283595&#x27;, &#x27;40.8370079457451&#x27;, &#x27;44.2457888796278&#x27;, &#x27;81.0299847843547&#x27;, &#x27;61.0819306716374&#x27;, &#x27;71.5458767971577&#x27;, &#x27;68.9138189296112&#x27;, &#x27;57.5480243504294&#x27;]</td>\n",
       "        <td>[200, 198, 198, 198, 197, 196, 194, 193, 193, 193]</td>\n",
       "    </tr>\n",
       "    <tr>\n",
       "        <td>None</td>\n",
       "        <td>None</td>\n",
       "        <td>pm25</td>\n",
       "        <td>5</td>\n",
       "        <td>float8</td>\n",
       "        <td>200000</td>\n",
       "        <td>200000</td>\n",
       "        <td>0</td>\n",
       "        <td>None</td>\n",
       "        <td>0.0</td>\n",
       "        <td>None</td>\n",
       "        <td>200000</td>\n",
       "        <td>0</td>\n",
       "        <td>0</td>\n",
       "        <td>94.9567258520912</td>\n",
       "        <td>232.817325310956</td>\n",
       "        <td>[94.8898531731814, 95.023598531001]</td>\n",
       "        <td>24.4732311088685</td>\n",
       "        <td>161.947176404423</td>\n",
       "        <td>84.6258824447947</td>\n",
       "        <td>94.9361338249605</td>\n",
       "        <td>105.200500570932</td>\n",
       "        <td>[&#x27;81.0193782019894&#x27;, &#x27;113.419361265646&#x27;, &#x27;111.01717457287&#x27;, &#x27;86.2007469815971&#x27;, &#x27;114.26224363525&#x27;, &#x27;106.088352504439&#x27;, &#x27;75.1810545024631&#x27;, &#x27;115.516321815534&#x27;, &#x27;68.4794225328913&#x27;, &#x27;86.1884482285641&#x27;]</td>\n",
       "        <td>[199, 198, 198, 198, 197, 196, 195, 195, 194, 194]</td>\n",
       "    </tr>\n",
       "</table>"
      ],
      "text/plain": [
       "[(None, None, '\"timestamp\"', 1, 'timestamp', 200000, 200000, 0, None, 0.0, None, None, None, None, None, None, None, None, None, None, None, None, ['2019-07-25 11:00:00', '2019-12-01 19:00:00', '2019-11-03 16:00:00', '2019-11-23 21:00:00', '2019-11-26 21:00:00', '2019-12-21 14:00:00', '2020-01-03 09:00:00', '2019-11-30 16:00:00', '2019-12-15 03:00:00', '2019-11-05 15:00:00'], [202, 201, 197, 196, 196, 196, 196, 195, 194, 193]),\n",
       " (None, None, 'temperature', 2, 'float8', 200000, 200000, 0, None, 0.0, None, 200000, 0, 0, 32.0007889310936, 0.833918535707913, [31.9967866933153, 32.0047911688719], 30.0020976922364, 33.9932399275613, 31.2506718159847, 32.0007082471155, 32.7509473341128, ['31.3932971558727', '31.1270586631445', '31.5795452103724', '31.3809975772738', '33.8450611683449', '31.0611840491863', '32.9212582895504', '33.8943804292179', '32.1098964308206', '31.1571707561875'], [204, 197, 196, 196, 195, 195, 195, 195, 195, 195]),\n",
       " (None, None, 'temperature_2', 3, 'float8', 200000, 200000, 0, None, 0.0, None, 200000, 0, 0, 46.99570081252, 9.80804681580791, [46.9819751809047, 47.0094264441353], 32.2943907804811, 61.6835823795163, 44.8807517740374, 46.9961843733011, 49.112212070946, ['45.610033372541', '41.8933542334198', '48.7487345239526', '42.8628249997972', '51.7284036547247', '53.0636555990058', '49.144793481834', '42.5560303222563', '49.2545157623079', '53.5363445515196'], [200, 198, 198, 198, 198, 196, 196, 196, 196, 196]),\n",
       " (None, None, 'humidity', 4, 'float8', 200000, 200000, 0, None, 0.0, None, 199916, 84, 0, 50.0315077284909, 224.568211224632, [49.9658304401699, 50.0971850168119], -20.3266268501857, 118.488627743178, 39.9160404829, 50.0412446801503, 60.1484803615784, ['80.0789399962446', '58.9158137497979', '49.5808709283595', '40.8370079457451', '44.2457888796278', '81.0299847843547', '61.0819306716374', '71.5458767971577', '68.9138189296112', '57.5480243504294'], [200, 198, 198, 198, 197, 196, 194, 193, 193, 193]),\n",
       " (None, None, 'pm25', 5, 'float8', 200000, 200000, 0, None, 0.0, None, 200000, 0, 0, 94.9567258520912, 232.817325310956, [94.8898531731814, 95.023598531001], 24.4732311088685, 161.947176404423, 84.6258824447947, 94.9361338249605, 105.200500570932, ['81.0193782019894', '113.419361265646', '111.01717457287', '86.2007469815971', '114.26224363525', '106.088352504439', '75.1810545024631', '115.516321815534', '68.4794225328913', '86.1884482285641'], [199, 198, 198, 198, 197, 196, 195, 195, 194, 194])]"
      ]
     },
     "execution_count": 11,
     "metadata": {},
     "output_type": "execute_result"
    }
   ],
   "source": [
    "%%sql\n",
    "DROP TABLE IF EXISTS sensors_summary ;\n",
    "SELECT madlib.summary (\n",
    "    'sensors',  -- source_table\n",
    "    'sensors_summary',  -- output_table\n",
    "    NULL,  -- target_cols\n",
    "    NULL,  -- grouping_cols\n",
    "    TRUE,  -- get_distinct\n",
    "    TRUE,  -- get_quartiles\n",
    "    NULL,  -- quantile_array\n",
    "    10,    -- how_many_mfv\n",
    "    FALSE  -- get_estimate\n",
    ");\n",
    "\n",
    "SELECT * FROM sensors_summary LIMIT 5;"
   ]
  },
  {
   "cell_type": "code",
   "execution_count": 12,
   "id": "bbccdb9b-e93a-4ed8-b8b3-dbf2b037b113",
   "metadata": {
    "execution": {
<<<<<<< HEAD
     "iopub.execute_input": "2021-10-12T08:57:43.752619Z",
     "iopub.status.busy": "2021-10-12T08:57:43.752390Z",
     "iopub.status.idle": "2021-10-12T08:57:44.104957Z",
     "shell.execute_reply": "2021-10-12T08:57:44.104429Z",
     "shell.execute_reply.started": "2021-10-12T08:57:43.752592Z"
=======
     "iopub.execute_input": "2021-10-08T03:40:04.722748Z",
     "iopub.status.busy": "2021-10-08T03:40:04.722542Z",
     "iopub.status.idle": "2021-10-08T03:40:05.134567Z",
     "shell.execute_reply": "2021-10-08T03:40:05.133920Z",
     "shell.execute_reply.started": "2021-10-08T03:40:04.722725Z"
>>>>>>> master
    },
    "tags": []
   },
   "outputs": [
    {
     "name": "stdout",
     "output_type": "stream",
     "text": [
      " * postgresql://gpadmin@192.168.133.128:32000/db\n",
      "Done.\n",
      "Done.\n",
      "275 rows affected.\n",
      "20 rows affected.\n"
     ]
    },
    {
     "data": {
      "text/html": [
       "<table>\n",
       "    <tr>\n",
       "        <th>year</th>\n",
       "        <th>month</th>\n",
       "        <th>average_month_temperature</th>\n",
       "        <th>average_pm25</th>\n",
       "    </tr>\n",
       "    <tr>\n",
       "        <td>1997</td>\n",
       "        <td>3</td>\n",
       "        <td>31.5857867033122</td>\n",
       "        <td>89.6407995010372</td>\n",
       "    </tr>\n",
       "    <tr>\n",
       "        <td>1997</td>\n",
       "        <td>4</td>\n",
       "        <td>31.5333406560482</td>\n",
       "        <td>89.6954069445576</td>\n",
       "    </tr>\n",
       "    <tr>\n",
       "        <td>1997</td>\n",
       "        <td>5</td>\n",
       "        <td>31.5315084500734</td>\n",
       "        <td>88.9290781034526</td>\n",
       "    </tr>\n",
       "    <tr>\n",
       "        <td>1997</td>\n",
       "        <td>6</td>\n",
       "        <td>31.5087124676383</td>\n",
       "        <td>89.8276532672497</td>\n",
       "    </tr>\n",
       "    <tr>\n",
       "        <td>1997</td>\n",
       "        <td>7</td>\n",
       "        <td>31.4963020069132</td>\n",
       "        <td>89.946082918828</td>\n",
       "    </tr>\n",
       "    <tr>\n",
       "        <td>1997</td>\n",
       "        <td>8</td>\n",
       "        <td>31.5052959282945</td>\n",
       "        <td>89.8274028619428</td>\n",
       "    </tr>\n",
       "    <tr>\n",
       "        <td>1997</td>\n",
       "        <td>9</td>\n",
       "        <td>31.515806039429</td>\n",
       "        <td>89.6975457387193</td>\n",
       "    </tr>\n",
       "    <tr>\n",
       "        <td>1997</td>\n",
       "        <td>10</td>\n",
       "        <td>31.5212258387757</td>\n",
       "        <td>90.5202452816575</td>\n",
       "    </tr>\n",
       "    <tr>\n",
       "        <td>1997</td>\n",
       "        <td>11</td>\n",
       "        <td>31.5863566049458</td>\n",
       "        <td>90.7640554348525</td>\n",
       "    </tr>\n",
       "    <tr>\n",
       "        <td>1997</td>\n",
       "        <td>12</td>\n",
       "        <td>31.5260226914037</td>\n",
       "        <td>89.2248603940915</td>\n",
       "    </tr>\n",
       "    <tr>\n",
       "        <td>1998</td>\n",
       "        <td>1</td>\n",
       "        <td>31.4920465629579</td>\n",
       "        <td>90.8573994947249</td>\n",
       "    </tr>\n",
       "    <tr>\n",
       "        <td>1998</td>\n",
       "        <td>2</td>\n",
       "        <td>31.6053332927446</td>\n",
       "        <td>89.724605603242</td>\n",
       "    </tr>\n",
       "    <tr>\n",
       "        <td>1998</td>\n",
       "        <td>3</td>\n",
       "        <td>31.5397978379912</td>\n",
       "        <td>91.2564516232789</td>\n",
       "    </tr>\n",
       "    <tr>\n",
       "        <td>1998</td>\n",
       "        <td>4</td>\n",
       "        <td>31.575876100293</td>\n",
       "        <td>90.0761091021617</td>\n",
       "    </tr>\n",
       "    <tr>\n",
       "        <td>1998</td>\n",
       "        <td>5</td>\n",
       "        <td>31.5878665387248</td>\n",
       "        <td>90.6721990182</td>\n",
       "    </tr>\n",
       "    <tr>\n",
       "        <td>1998</td>\n",
       "        <td>6</td>\n",
       "        <td>31.5645715036848</td>\n",
       "        <td>91.010505809848</td>\n",
       "    </tr>\n",
       "    <tr>\n",
       "        <td>1998</td>\n",
       "        <td>7</td>\n",
       "        <td>31.5568759042957</td>\n",
       "        <td>91.0852595298936</td>\n",
       "    </tr>\n",
       "    <tr>\n",
       "        <td>1998</td>\n",
       "        <td>8</td>\n",
       "        <td>31.5673074618402</td>\n",
       "        <td>90.8930377443477</td>\n",
       "    </tr>\n",
       "    <tr>\n",
       "        <td>1998</td>\n",
       "        <td>9</td>\n",
       "        <td>31.5996512239848</td>\n",
       "        <td>90.5607314714343</td>\n",
       "    </tr>\n",
       "    <tr>\n",
       "        <td>1998</td>\n",
       "        <td>10</td>\n",
       "        <td>31.5867189089437</td>\n",
       "        <td>92.2273851777414</td>\n",
       "    </tr>\n",
       "</table>"
      ],
      "text/plain": [
       "[(1997, 3, 31.5857867033122, 89.6407995010372),\n",
       " (1997, 4, 31.5333406560482, 89.6954069445576),\n",
       " (1997, 5, 31.5315084500734, 88.9290781034526),\n",
       " (1997, 6, 31.5087124676383, 89.8276532672497),\n",
       " (1997, 7, 31.4963020069132, 89.946082918828),\n",
       " (1997, 8, 31.5052959282945, 89.8274028619428),\n",
       " (1997, 9, 31.515806039429, 89.6975457387193),\n",
       " (1997, 10, 31.5212258387757, 90.5202452816575),\n",
       " (1997, 11, 31.5863566049458, 90.7640554348525),\n",
<<<<<<< HEAD
       " (1997, 12, 31.5260226914037, 89.2248603940916),\n",
       " (1998, 1, 31.4920465629579, 90.8573994947249),\n",
=======
       " (1997, 12, 31.5260226914037, 89.2248603940915),\n",
       " (1998, 1, 31.4920465629579, 90.857399494725),\n",
>>>>>>> master
       " (1998, 2, 31.6053332927446, 89.724605603242),\n",
       " (1998, 3, 31.5397978379912, 91.2564516232789),\n",
       " (1998, 4, 31.575876100293, 90.0761091021617),\n",
       " (1998, 5, 31.5878665387248, 90.6721990182),\n",
       " (1998, 6, 31.5645715036848, 91.010505809848),\n",
       " (1998, 7, 31.5568759042957, 91.0852595298936),\n",
       " (1998, 8, 31.5673074618402, 90.8930377443477),\n",
       " (1998, 9, 31.5996512239848, 90.5607314714343),\n",
       " (1998, 10, 31.5867189089437, 92.2273851777414)]"
      ]
     },
     "execution_count": 12,
     "metadata": {},
     "output_type": "execute_result"
    }
   ],
   "source": [
    "%%sql\n",
    "\n",
    "DROP TABLE IF EXISTS temp_sensors_timeseries;\n",
    "\n",
    "CREATE TABLE temp_sensors_timeseries(\n",
    "    year INTEGER,\n",
    "    month INTEGER,\n",
    "    average_month_temperature FLOAT,\n",
    "    average_pm25 FLOAT\n",
    ");\n",
    "\n",
    "INSERT INTO temp_sensors_timeseries \n",
    "    SELECT  date_part('year', timestamp) AS year,\n",
    "            date_part('month', timestamp) AS month,\n",
    "            avg(temperature) AS average_month_temperature, \n",
    "            avg(pm25) AS average_pm25\n",
    "    FROM sensors\n",
    "    GROUP BY year, month;\n",
    "    \n",
    "    \n",
    "SELECT * FROM temp_sensors_timeseries ORDER BY year,month LIMIT 20;"
   ]
  },
  {
   "cell_type": "code",
   "execution_count": 13,
   "id": "ed4ab9c9-4093-4722-8bc3-f99b6657fa34",
   "metadata": {
    "execution": {
<<<<<<< HEAD
     "iopub.execute_input": "2021-10-12T08:57:50.368556Z",
     "iopub.status.busy": "2021-10-12T08:57:50.368318Z",
     "iopub.status.idle": "2021-10-12T08:57:50.380417Z",
     "shell.execute_reply": "2021-10-12T08:57:50.379716Z",
     "shell.execute_reply.started": "2021-10-12T08:57:50.368527Z"
=======
     "iopub.execute_input": "2021-10-08T03:40:05.135789Z",
     "iopub.status.busy": "2021-10-08T03:40:05.135604Z",
     "iopub.status.idle": "2021-10-08T03:40:05.145909Z",
     "shell.execute_reply": "2021-10-08T03:40:05.145391Z",
     "shell.execute_reply.started": "2021-10-08T03:40:05.135768Z"
>>>>>>> master
    },
    "tags": []
   },
   "outputs": [
    {
     "name": "stdout",
     "output_type": "stream",
     "text": [
      " * postgresql://gpadmin@192.168.133.128:32000/db\n",
      "275 rows affected.\n"
     ]
    }
   ],
   "source": [
    "timeseries= %sql SELECT * FROM temp_sensors_timeseries ORDER BY year,month;\n",
    "timeseries=timeseries.DataFrame()"
   ]
  },
  {
   "cell_type": "code",
   "execution_count": 14,
   "id": "f2506009-392a-46c2-931d-e96574d810a4",
   "metadata": {
    "execution": {
<<<<<<< HEAD
     "iopub.execute_input": "2021-10-12T08:57:50.900553Z",
     "iopub.status.busy": "2021-10-12T08:57:50.900325Z",
     "iopub.status.idle": "2021-10-12T08:57:50.912663Z",
     "shell.execute_reply": "2021-10-12T08:57:50.911849Z",
     "shell.execute_reply.started": "2021-10-12T08:57:50.900526Z"
=======
     "iopub.execute_input": "2021-10-08T03:40:05.147077Z",
     "iopub.status.busy": "2021-10-08T03:40:05.146897Z",
     "iopub.status.idle": "2021-10-08T03:40:05.158659Z",
     "shell.execute_reply": "2021-10-08T03:40:05.157820Z",
     "shell.execute_reply.started": "2021-10-08T03:40:05.147056Z"
>>>>>>> master
    },
    "tags": []
   },
   "outputs": [
    {
     "data": {
      "text/html": [
       "<div>\n",
       "<style scoped>\n",
       "    .dataframe tbody tr th:only-of-type {\n",
       "        vertical-align: middle;\n",
       "    }\n",
       "\n",
       "    .dataframe tbody tr th {\n",
       "        vertical-align: top;\n",
       "    }\n",
       "\n",
       "    .dataframe thead th {\n",
       "        text-align: right;\n",
       "    }\n",
       "</style>\n",
       "<table border=\"1\" class=\"dataframe\">\n",
       "  <thead>\n",
       "    <tr style=\"text-align: right;\">\n",
       "      <th></th>\n",
       "      <th>year</th>\n",
       "      <th>month</th>\n",
       "      <th>average_month_temperature</th>\n",
       "      <th>average_pm25</th>\n",
       "      <th>date</th>\n",
       "    </tr>\n",
       "  </thead>\n",
       "  <tbody>\n",
       "    <tr>\n",
       "      <th>0</th>\n",
       "      <td>1997</td>\n",
       "      <td>3</td>\n",
       "      <td>31.585787</td>\n",
       "      <td>89.640800</td>\n",
       "      <td>1997-03-01</td>\n",
       "    </tr>\n",
       "    <tr>\n",
       "      <th>1</th>\n",
       "      <td>1997</td>\n",
       "      <td>4</td>\n",
       "      <td>31.533341</td>\n",
       "      <td>89.695407</td>\n",
       "      <td>1997-04-01</td>\n",
       "    </tr>\n",
       "    <tr>\n",
       "      <th>2</th>\n",
       "      <td>1997</td>\n",
       "      <td>5</td>\n",
       "      <td>31.531508</td>\n",
       "      <td>88.929078</td>\n",
       "      <td>1997-05-01</td>\n",
       "    </tr>\n",
       "    <tr>\n",
       "      <th>3</th>\n",
       "      <td>1997</td>\n",
       "      <td>6</td>\n",
       "      <td>31.508712</td>\n",
       "      <td>89.827653</td>\n",
       "      <td>1997-06-01</td>\n",
       "    </tr>\n",
       "    <tr>\n",
       "      <th>4</th>\n",
       "      <td>1997</td>\n",
       "      <td>7</td>\n",
       "      <td>31.496302</td>\n",
       "      <td>89.946083</td>\n",
       "      <td>1997-07-01</td>\n",
       "    </tr>\n",
       "  </tbody>\n",
       "</table>\n",
       "</div>"
      ],
      "text/plain": [
       "   year  month  average_month_temperature  average_pm25       date\n",
       "0  1997      3                  31.585787     89.640800 1997-03-01\n",
       "1  1997      4                  31.533341     89.695407 1997-04-01\n",
       "2  1997      5                  31.531508     88.929078 1997-05-01\n",
       "3  1997      6                  31.508712     89.827653 1997-06-01\n",
       "4  1997      7                  31.496302     89.946083 1997-07-01"
      ]
     },
     "execution_count": 14,
     "metadata": {},
     "output_type": "execute_result"
    }
   ],
   "source": [
    "timeseries['date']=pd.DatetimeIndex(timeseries['year'].map(\"{:04}\".format)+'-'+ timeseries['month'].map(\"{:02}\".format))\n",
    "timeseries.head()"
   ]
  },
  {
   "cell_type": "code",
   "execution_count": 15,
<<<<<<< HEAD
   "id": "77c8341d-e58a-44b4-a04b-16a1f3bbb6e3",
   "metadata": {
    "execution": {
     "iopub.execute_input": "2021-10-12T08:57:51.737183Z",
     "iopub.status.busy": "2021-10-12T08:57:51.736966Z",
     "iopub.status.idle": "2021-10-12T08:57:51.907846Z",
     "shell.execute_reply": "2021-10-12T08:57:51.907272Z",
     "shell.execute_reply.started": "2021-10-12T08:57:51.737157Z"
    },
    "presto": {
     "id": "7780ae59-cdf2-4762-a68a-4b373266253f"
    },
    "tags": []
   },
   "outputs": [
    {
     "data": {
      "application/vnd.jupyter.widget-view+json": {
       "model_id": "4d083ece35614786a0d18b6b9936480b",
       "version_major": 2,
       "version_minor": 0
      },
      "text/plain": [
       "IntSlider(value=10, continuous_update=False, description='timeframe', max=200, min=10)"
      ]
     },
     "metadata": {},
     "output_type": "display_data"
    },
    {
     "data": {
      "application/vnd.jupyter.widget-view+json": {
       "model_id": "8f1e4eba2adb438cab775275bd6af7ae",
       "version_major": 2,
       "version_minor": 0
      },
      "image/png": "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",
      "text/plain": [
       "Canvas(toolbar=Toolbar(toolitems=[('Home', 'Reset original view', 'home', 'home'), ('Back', 'Back to previous …"
      ]
     },
     "metadata": {},
     "output_type": "display_data"
    }
   ],
   "source": [
    "%matplotlib widget\n",
    "f, (ax1,ax2) = plt.subplots(2,1,figsize=(8,4))\n",
    "\n",
    "ax1.grid()\n",
    "ax2.grid()\n",
    "\n",
    "def update(change):\n",
    "    ax1.plot(timeseries['date'][:change.new],timeseries['average_pm25'][:change.new],color='blue')\n",
    "    ax2.plot(timeseries['date'][:change.new],timeseries['average_month_temperature'][:change.new],color='orange')\n",
    "    f.canvas.draw()\n",
    "\n",
    "slider = widgets.IntSlider(value=1,min=10,max=200,step=1,continuous_update=False,description='timeframe')\n",
    "\n",
    "ax1.yaxis.set_label_text(\"PM 2.5\")\n",
    "ax1.title.set_text('Average PM 2.5')\n",
    "\n",
    "ax2.title.set_text('Average Temperature')\n",
    "ax2.yaxis.set_label_text('Temperature')\n",
    "plt.tight_layout()\n",
    "\n",
    "slider.observe(update,'value')\n",
    "slider"
   ]
  },
  {
   "cell_type": "code",
   "execution_count": 16,
   "id": "f0227373-127a-4bf3-81a8-2ae66c239719",
   "metadata": {
    "execution": {
     "iopub.execute_input": "2021-10-12T08:57:55.966292Z",
     "iopub.status.busy": "2021-10-12T08:57:55.966096Z",
     "iopub.status.idle": "2021-10-12T08:57:56.192883Z",
     "shell.execute_reply": "2021-10-12T08:57:56.192335Z",
     "shell.execute_reply.started": "2021-10-12T08:57:55.966269Z"
=======
   "id": "f0227373-127a-4bf3-81a8-2ae66c239719",
   "metadata": {
    "execution": {
     "iopub.execute_input": "2021-10-08T03:40:05.160135Z",
     "iopub.status.busy": "2021-10-08T03:40:05.159855Z",
     "iopub.status.idle": "2021-10-08T03:40:05.555435Z",
     "shell.execute_reply": "2021-10-08T03:40:05.554675Z",
     "shell.execute_reply.started": "2021-10-08T03:40:05.160108Z"
>>>>>>> master
    },
    "tags": []
   },
   "outputs": [
    {
     "data": {
      "application/vnd.jupyter.widget-view+json": {
       "model_id": "cc97a12d76ba4954a0328b2bdce89689",
       "version_major": 2,
       "version_minor": 0
      },
      "image/png": "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",
      "text/plain": [
       "Canvas(toolbar=Toolbar(toolitems=[('Home', 'Reset original view', 'home', 'home'), ('Back', 'Back to previous …"
      ]
     },
     "metadata": {},
     "output_type": "display_data"
    }
   ],
   "source": [
    "timeframe = 20\n",
    "\n",
    "f, (ax1, ax2) = plt.subplots(2, 1,figsize=(11,6))\n",
    "ax1.plot(timeseries['date'][:timeframe],timeseries['average_pm25'][:timeframe])\n",
    "ax2.plot(timeseries['date'][:timeframe],timeseries['average_month_temperature'][:timeframe],color='orange')\n",
    "\n",
    "ax1.yaxis.set_label_text(\"PM 2.5\")\n",
    "ax1.title.set_text('Average PM 2.5')\n",
    "\n",
    "ax2.title.set_text('Average Temperature')\n",
    "ax2.yaxis.set_label_text('Temperature')\n",
    "plt.tight_layout()"
   ]
  },
  {
   "cell_type": "markdown",
   "id": "18a4d782-75a9-4cdf-8fa2-33b7c366753d",
   "metadata": {},
   "source": [
    "### Preprocess Data"
   ]
  },
  {
   "cell_type": "markdown",
   "id": "68a945a0-370a-446e-b6cc-47aead7ab4da",
   "metadata": {},
   "source": [
    "Encode Month\n",
    "\n",
    "```sql\n",
    "CREATE FUNCTION parse_month(time_stamp timestamp)\n",
    "  RETURNS char\n",
    "AS $$\n",
    "  from datetime import datetime\n",
    "  date_obj=datetime.strptime(time_stamp,\"%Y-%m-%d %H:%M:%S\")\n",
    "  return date_obj.strftime(\"%B\")\n",
    "$$ LANGUAGE plpythonu;\n",
    "```"
   ]
  },
  {
   "cell_type": "code",
   "execution_count": 16,
   "id": "3dff644a-ffc2-40ef-acc9-62043de55fa6",
   "metadata": {
    "execution": {
<<<<<<< HEAD
     "iopub.execute_input": "2021-10-12T08:57:58.690528Z",
     "iopub.status.busy": "2021-10-12T08:57:58.690290Z",
     "iopub.status.idle": "2021-10-12T08:57:58.794363Z",
     "shell.execute_reply": "2021-10-12T08:57:58.793591Z",
     "shell.execute_reply.started": "2021-10-12T08:57:58.690500Z"
=======
     "iopub.execute_input": "2021-10-08T03:40:05.557073Z",
     "iopub.status.busy": "2021-10-08T03:40:05.556625Z",
     "iopub.status.idle": "2021-10-08T03:40:05.629255Z",
     "shell.execute_reply": "2021-10-08T03:40:05.628724Z",
     "shell.execute_reply.started": "2021-10-08T03:40:05.557009Z"
>>>>>>> master
    },
    "tags": []
   },
   "outputs": [
    {
     "name": "stdout",
     "output_type": "stream",
     "text": [
      " * postgresql://gpadmin@192.168.133.128:32000/db\n",
      "2 rows affected.\n"
     ]
    },
    {
     "data": {
      "text/html": [
       "<table>\n",
       "    <tr>\n",
       "        <th>timestamp</th>\n",
       "        <th>temperature</th>\n",
       "        <th>temperature_2</th>\n",
       "        <th>humidity</th>\n",
       "        <th>pm25</th>\n",
       "        <th>parse_month</th>\n",
       "    </tr>\n",
       "    <tr>\n",
       "        <td>2014-11-23 21:00:00</td>\n",
       "        <td>30.8058720843154</td>\n",
       "        <td>42.7842327160495</td>\n",
       "        <td>44.8122950799332</td>\n",
       "        <td>161.947176404423</td>\n",
       "        <td>November</td>\n",
       "    </tr>\n",
       "    <tr>\n",
       "        <td>2015-04-16 22:00:00</td>\n",
       "        <td>33.0799518195087</td>\n",
       "        <td>50.5450234515165</td>\n",
       "        <td>40.0489227220552</td>\n",
       "        <td>161.772615888742</td>\n",
       "        <td>April</td>\n",
       "    </tr>\n",
       "</table>"
      ],
      "text/plain": [
       "[(datetime.datetime(2014, 11, 23, 21, 0), 30.8058720843154, 42.7842327160495, 44.8122950799332, 161.947176404423, 'November'),\n",
       " (datetime.datetime(2015, 4, 16, 22, 0), 33.0799518195087, 50.5450234515165, 40.0489227220552, 161.772615888742, 'April')]"
      ]
     },
     "execution_count": 16,
     "metadata": {},
     "output_type": "execute_result"
    }
   ],
   "source": [
    "%%sql\n",
    "SELECT *,parse_month(timestamp) FROM sensors WHERE pm25 > 160;"
   ]
  },
  {
   "cell_type": "markdown",
   "id": "99ef43f9-8e4d-4fa6-a2d9-1fed601d8258",
   "metadata": {},
   "source": [
    "Create Month and rain Data"
   ]
  },
  {
   "cell_type": "code",
   "execution_count": 17,
   "id": "a7ca60fc-a48e-4248-93fc-d45ca18256fb",
   "metadata": {
    "execution": {
<<<<<<< HEAD
     "iopub.execute_input": "2021-10-12T08:58:04.253226Z",
     "iopub.status.busy": "2021-10-12T08:58:04.253028Z",
     "iopub.status.idle": "2021-10-12T08:58:15.590360Z",
     "shell.execute_reply": "2021-10-12T08:58:15.589678Z",
     "shell.execute_reply.started": "2021-10-12T08:58:04.253203Z"
=======
     "iopub.execute_input": "2021-10-08T03:40:05.630496Z",
     "iopub.status.busy": "2021-10-08T03:40:05.630314Z",
     "iopub.status.idle": "2021-10-08T03:40:17.230874Z",
     "shell.execute_reply": "2021-10-08T03:40:17.230050Z",
     "shell.execute_reply.started": "2021-10-08T03:40:05.630476Z"
>>>>>>> master
    },
    "tags": []
   },
   "outputs": [
    {
     "name": "stdout",
     "output_type": "stream",
     "text": [
      " * postgresql://gpadmin@192.168.133.128:32000/db\n",
      "Done.\n",
      "200000 rows affected.\n",
      "10 rows affected.\n"
     ]
    },
    {
     "data": {
      "text/html": [
       "<table>\n",
       "    <tr>\n",
       "        <th>timestamp</th>\n",
       "        <th>temperature</th>\n",
       "        <th>temperature_2</th>\n",
       "        <th>humidity</th>\n",
       "        <th>pm25</th>\n",
       "        <th>month</th>\n",
       "        <th>rain</th>\n",
       "    </tr>\n",
       "    <tr>\n",
       "        <td>1997-03-22 00:00:00</td>\n",
       "        <td>30.6668585650253</td>\n",
       "        <td>42.9052858044298</td>\n",
       "        <td>69.2785492479998</td>\n",
       "        <td>73.1767528823951</td>\n",
       "        <td>March</td>\n",
       "        <td>1</td>\n",
       "    </tr>\n",
       "    <tr>\n",
       "        <td>1997-03-22 12:00:00</td>\n",
       "        <td>32.4185793403592</td>\n",
       "        <td>46.2930967363855</td>\n",
       "        <td>69.3046298170464</td>\n",
       "        <td>87.3012012853493</td>\n",
       "        <td>March</td>\n",
       "        <td>1</td>\n",
       "    </tr>\n",
       "    <tr>\n",
<<<<<<< HEAD
       "        <td>1997-03-22 20:00:00</td>\n",
       "        <td>31.6889779538602</td>\n",
       "        <td>50.3771697898689</td>\n",
       "        <td>53.2251690054103</td>\n",
       "        <td>76.757504341768</td>\n",
=======
       "        <td>1997-03-22 10:00:00</td>\n",
       "        <td>32.8599615887099</td>\n",
       "        <td>50.8020723216023</td>\n",
       "        <td>42.4358444439193</td>\n",
       "        <td>79.5919848889432</td>\n",
       "        <td>March</td>\n",
       "        <td>0</td>\n",
       "    </tr>\n",
       "    <tr>\n",
       "        <td>1997-03-23 01:00:00</td>\n",
       "        <td>31.8799395928579</td>\n",
       "        <td>48.3838700326276</td>\n",
       "        <td>35.7868269112633</td>\n",
       "        <td>102.496837829397</td>\n",
>>>>>>> master
       "        <td>March</td>\n",
       "        <td>0</td>\n",
       "    </tr>\n",
       "    <tr>\n",
       "        <td>1997-03-22 22:00:00</td>\n",
       "        <td>31.5117735558417</td>\n",
       "        <td>49.7762550293786</td>\n",
       "        <td>31.5185341489772</td>\n",
       "        <td>98.0131261241892</td>\n",
       "        <td>March</td>\n",
       "        <td>0</td>\n",
       "    </tr>\n",
       "    <tr>\n",
       "        <td>1997-03-23 04:00:00</td>\n",
       "        <td>30.9732062825728</td>\n",
       "        <td>50.7305651158765</td>\n",
       "        <td>51.6463117699311</td>\n",
       "        <td>76.6613962119159</td>\n",
       "        <td>March</td>\n",
       "        <td>0</td>\n",
       "    </tr>\n",
       "    <tr>\n",
<<<<<<< HEAD
       "        <td>1997-03-23 08:00:00</td>\n",
       "        <td>32.9173479628012</td>\n",
       "        <td>48.2255788669841</td>\n",
       "        <td>62.5489084902205</td>\n",
       "        <td>87.1120555127665</td>\n",
       "        <td>March</td>\n",
       "        <td>1</td>\n",
       "    </tr>\n",
       "    <tr>\n",
       "        <td>1997-03-23 16:00:00</td>\n",
       "        <td>32.5458989883159</td>\n",
       "        <td>47.2115756975401</td>\n",
       "        <td>78.9674852429675</td>\n",
       "        <td>90.2162708662005</td>\n",
=======
       "        <td>1997-03-24 17:00:00</td>\n",
       "        <td>31.4437472872984</td>\n",
       "        <td>44.2399177438492</td>\n",
       "        <td>66.8541951826226</td>\n",
       "        <td>92.3446562474946</td>\n",
>>>>>>> master
       "        <td>March</td>\n",
       "        <td>1</td>\n",
       "    </tr>\n",
       "    <tr>\n",
<<<<<<< HEAD
       "        <td>1997-03-23 18:00:00</td>\n",
       "        <td>31.7702453254389</td>\n",
       "        <td>50.3509489460521</td>\n",
       "        <td>45.7864021802114</td>\n",
       "        <td>94.6066523350136</td>\n",
=======
       "        <td>1997-03-25 01:00:00</td>\n",
       "        <td>32.5077202354011</td>\n",
       "        <td>46.1308552930227</td>\n",
       "        <td>35.2966109814805</td>\n",
       "        <td>80.3973944810957</td>\n",
>>>>>>> master
       "        <td>March</td>\n",
       "        <td>0</td>\n",
       "    </tr>\n",
       "    <tr>\n",
<<<<<<< HEAD
       "        <td>1997-03-23 21:00:00</td>\n",
       "        <td>31.2528544100507</td>\n",
       "        <td>44.3959016652676</td>\n",
       "        <td>39.7742993440545</td>\n",
       "        <td>91.8236125586431</td>\n",
=======
       "        <td>1997-03-25 03:00:00</td>\n",
       "        <td>32.6661574862389</td>\n",
       "        <td>49.6761521556807</td>\n",
       "        <td>26.9180370504443</td>\n",
       "        <td>76.8068300174981</td>\n",
>>>>>>> master
       "        <td>March</td>\n",
       "        <td>0</td>\n",
       "    </tr>\n",
       "    <tr>\n",
       "        <td>1997-03-24 03:00:00</td>\n",
       "        <td>32.1552275846815</td>\n",
       "        <td>49.309806695675</td>\n",
       "        <td>56.0653676112082</td>\n",
       "        <td>61.0494858697081</td>\n",
       "        <td>March</td>\n",
       "        <td>0</td>\n",
       "    </tr>\n",
       "</table>"
      ],
      "text/plain": [
<<<<<<< HEAD
       "[(datetime.datetime(1997, 3, 22, 0, 0), 30.6668585650253, 42.9052858044298, 69.2785492479998, 73.1767528823951, 'March', 1),\n",
       " (datetime.datetime(1997, 3, 22, 12, 0), 32.4185793403592, 46.2930967363855, 69.3046298170464, 87.3012012853493, 'March', 1),\n",
       " (datetime.datetime(1997, 3, 22, 20, 0), 31.6889779538602, 50.3771697898689, 53.2251690054103, 76.757504341768, 'March', 0),\n",
       " (datetime.datetime(1997, 3, 22, 22, 0), 31.5117735558417, 49.7762550293786, 31.5185341489772, 98.0131261241892, 'March', 0),\n",
       " (datetime.datetime(1997, 3, 23, 4, 0), 30.9732062825728, 50.7305651158765, 51.6463117699311, 76.6613962119159, 'March', 0),\n",
       " (datetime.datetime(1997, 3, 23, 8, 0), 32.9173479628012, 48.2255788669841, 62.5489084902205, 87.1120555127665, 'March', 1),\n",
       " (datetime.datetime(1997, 3, 23, 16, 0), 32.5458989883159, 47.2115756975401, 78.9674852429675, 90.2162708662005, 'March', 1),\n",
       " (datetime.datetime(1997, 3, 23, 18, 0), 31.7702453254389, 50.3509489460521, 45.7864021802114, 94.6066523350136, 'March', 0),\n",
       " (datetime.datetime(1997, 3, 23, 21, 0), 31.2528544100507, 44.3959016652676, 39.7742993440545, 91.8236125586431, 'March', 0),\n",
       " (datetime.datetime(1997, 3, 24, 3, 0), 32.1552275846815, 49.309806695675, 56.0653676112082, 61.0494858697081, 'March', 0)]"
=======
       "[(datetime.datetime(1997, 3, 22, 3, 0), 32.1011416309273, 51.4144653929354, 34.2725065145343, 106.310825991151, 'March', 0),\n",
       " (datetime.datetime(1997, 3, 22, 7, 0), 31.7222838010098, 46.9562079315314, 26.9962110043135, 99.1593047202872, 'March', 0),\n",
       " (datetime.datetime(1997, 3, 22, 10, 0), 32.8599615887099, 50.8020723216023, 42.4358444439193, 79.5919848889432, 'March', 0),\n",
       " (datetime.datetime(1997, 3, 23, 1, 0), 31.8799395928579, 48.3838700326276, 35.7868269112633, 102.496837829397, 'March', 0),\n",
       " (datetime.datetime(1997, 3, 23, 7, 0), 31.2215907980622, 51.5581067009994, 38.2136872440639, 93.8665274880732, 'March', 0),\n",
       " (datetime.datetime(1997, 3, 23, 13, 0), 32.0052114415293, 44.4403435820022, 36.5748920321032, 114.375067434746, 'March', 0),\n",
       " (datetime.datetime(1997, 3, 24, 17, 0), 31.4437472872984, 44.2399177438492, 66.8541951826226, 92.3446562474946, 'March', 1),\n",
       " (datetime.datetime(1997, 3, 25, 1, 0), 32.5077202354011, 46.1308552930227, 35.2966109814805, 80.3973944810957, 'March', 0),\n",
       " (datetime.datetime(1997, 3, 25, 3, 0), 32.6661574862389, 49.6761521556807, 26.9180370504443, 76.8068300174981, 'March', 0),\n",
       " (datetime.datetime(1997, 3, 25, 4, 0), 32.5561756957598, 42.3400026333322, 15.6706600932778, 57.2378125792031, 'March', 0)]"
>>>>>>> master
      ]
     },
     "execution_count": 17,
     "metadata": {},
     "output_type": "execute_result"
    }
   ],
   "source": [
    "%%sql\n",
    "DROP TABLE IF EXISTS sensors_pre;\n",
    "CREATE TABLE sensors_pre\n",
    "AS \n",
    "SELECT\n",
    "    timestamp,\n",
    "    temperature,\n",
    "    temperature_2,\n",
    "    humidity,\n",
    "    pm25,\n",
    "    parse_month(timestamp) AS month,           --- Month data\n",
    "    CASE WHEN\n",
    "            (humidity )>= 60\n",
    "        THEN 1\n",
    "        ELSE 0\n",
    "    END as rain\n",
    "FROM sensors;\n",
    "\n",
    "SELECT * FROM sensors_pre LIMIT 10; "
   ]
  },
  {
   "cell_type": "code",
   "execution_count": 18,
   "id": "22cf1b72-22a2-4e30-a810-882c41eec482",
   "metadata": {
    "execution": {
<<<<<<< HEAD
     "iopub.execute_input": "2021-10-12T08:58:15.592106Z",
     "iopub.status.busy": "2021-10-12T08:58:15.591831Z",
     "iopub.status.idle": "2021-10-12T08:58:24.588314Z",
     "shell.execute_reply": "2021-10-12T08:58:24.587537Z",
     "shell.execute_reply.started": "2021-10-12T08:58:15.592074Z"
=======
     "iopub.execute_input": "2021-10-08T03:40:17.232540Z",
     "iopub.status.busy": "2021-10-08T03:40:17.232330Z",
     "iopub.status.idle": "2021-10-08T03:40:26.237492Z",
     "shell.execute_reply": "2021-10-08T03:40:26.236764Z",
     "shell.execute_reply.started": "2021-10-08T03:40:17.232516Z"
>>>>>>> master
    },
    "tags": []
   },
   "outputs": [
    {
     "name": "stdout",
     "output_type": "stream",
     "text": [
      " * postgresql://gpadmin@192.168.133.128:32000/db\n",
      "12 rows affected.\n"
     ]
    },
    {
     "data": {
      "text/html": [
       "<table>\n",
       "    <tr>\n",
       "        <th>month</th>\n",
       "        <th>count</th>\n",
       "    </tr>\n",
       "    <tr>\n",
       "        <td>December</td>\n",
       "        <td>17112</td>\n",
       "    </tr>\n",
       "    <tr>\n",
       "        <td>May</td>\n",
       "        <td>17112</td>\n",
       "    </tr>\n",
       "    <tr>\n",
       "        <td>August</td>\n",
       "        <td>17112</td>\n",
       "    </tr>\n",
       "    <tr>\n",
       "        <td>July</td>\n",
       "        <td>17112</td>\n",
       "    </tr>\n",
       "    <tr>\n",
       "        <td>October</td>\n",
       "        <td>17112</td>\n",
       "    </tr>\n",
       "    <tr>\n",
       "        <td>January</td>\n",
       "        <td>16688</td>\n",
       "    </tr>\n",
       "    <tr>\n",
       "        <td>March</td>\n",
       "        <td>16608</td>\n",
       "    </tr>\n",
       "    <tr>\n",
       "        <td>November</td>\n",
       "        <td>16560</td>\n",
       "    </tr>\n",
       "    <tr>\n",
       "        <td>June</td>\n",
       "        <td>16560</td>\n",
       "    </tr>\n",
       "    <tr>\n",
       "        <td>April</td>\n",
       "        <td>16560</td>\n",
       "    </tr>\n",
       "    <tr>\n",
       "        <td>September</td>\n",
       "        <td>16560</td>\n",
       "    </tr>\n",
       "    <tr>\n",
       "        <td>February</td>\n",
       "        <td>14904</td>\n",
       "    </tr>\n",
       "</table>"
      ],
      "text/plain": [
       "[('December', 17112),\n",
       " ('May', 17112),\n",
       " ('August', 17112),\n",
       " ('July', 17112),\n",
       " ('October', 17112),\n",
       " ('January', 16688),\n",
       " ('March', 16608),\n",
       " ('November', 16560),\n",
       " ('June', 16560),\n",
       " ('April', 16560),\n",
       " ('September', 16560),\n",
       " ('February', 14904)]"
      ]
     },
     "execution_count": 18,
     "metadata": {},
     "output_type": "execute_result"
    }
   ],
   "source": [
    "%%sql\n",
    "SELECT parse_month(timestamp) as month ,COUNT(*) as count  \n",
    "    FROM sensors  \n",
    "GROUP BY month ORDER BY count DESC;"
   ]
  },
  {
   "cell_type": "markdown",
   "id": "48ede8be-903e-4373-a544-ef6b8ada8adb",
   "metadata": {},
   "source": [
    "### Encode categorical values"
   ]
  },
  {
   "cell_type": "code",
   "execution_count": 19,
   "id": "58956098-2c3d-4c0a-9961-fd80c17adb58",
   "metadata": {
    "execution": {
<<<<<<< HEAD
     "iopub.execute_input": "2021-10-12T08:58:31.632973Z",
     "iopub.status.busy": "2021-10-12T08:58:31.632738Z",
     "iopub.status.idle": "2021-10-12T08:58:37.401934Z",
     "shell.execute_reply": "2021-10-12T08:58:37.401212Z",
     "shell.execute_reply.started": "2021-10-12T08:58:31.632945Z"
=======
     "iopub.execute_input": "2021-10-08T03:40:26.238842Z",
     "iopub.status.busy": "2021-10-08T03:40:26.238554Z",
     "iopub.status.idle": "2021-10-08T03:40:33.337191Z",
     "shell.execute_reply": "2021-10-08T03:40:33.336572Z",
     "shell.execute_reply.started": "2021-10-08T03:40:26.238821Z"
>>>>>>> master
    },
    "tags": []
   },
   "outputs": [
    {
     "name": "stdout",
     "output_type": "stream",
     "text": [
      " * postgresql://gpadmin@192.168.133.128:32000/db\n",
      "Done.\n",
      "1 rows affected.\n",
      "5 rows affected.\n"
     ]
    },
    {
     "data": {
      "text/html": [
       "<table>\n",
       "    <tr>\n",
       "        <th>timestamp</th>\n",
       "        <th>temperature</th>\n",
       "        <th>temperature_2</th>\n",
       "        <th>humidity</th>\n",
       "        <th>pm25</th>\n",
       "        <th>rain</th>\n",
       "        <th>month_April</th>\n",
       "        <th>month_August</th>\n",
       "        <th>month_December</th>\n",
       "        <th>month_February</th>\n",
       "        <th>month_January</th>\n",
       "        <th>month_July</th>\n",
       "        <th>month_June</th>\n",
       "        <th>month_March</th>\n",
       "        <th>month_May</th>\n",
       "        <th>month_November</th>\n",
       "        <th>month_October</th>\n",
       "        <th>month_September</th>\n",
       "    </tr>\n",
       "    <tr>\n",
<<<<<<< HEAD
       "        <td>1997-03-23 06:00:00</td>\n",
       "        <td>31.1456715016839</td>\n",
       "        <td>50.5883567654865</td>\n",
       "        <td>50.6392021695488</td>\n",
       "        <td>77.1011145867884</td>\n",
=======
       "        <td>1997-03-22 07:00:00</td>\n",
       "        <td>31.7222838010098</td>\n",
       "        <td>46.9562079315314</td>\n",
       "        <td>26.9962110043135</td>\n",
       "        <td>99.1593047202872</td>\n",
>>>>>>> master
       "        <td>0</td>\n",
       "        <td>0</td>\n",
       "        <td>0</td>\n",
       "        <td>0</td>\n",
       "        <td>0</td>\n",
       "        <td>0</td>\n",
       "        <td>0</td>\n",
       "        <td>0</td>\n",
       "        <td>1</td>\n",
       "        <td>0</td>\n",
       "        <td>0</td>\n",
       "        <td>0</td>\n",
       "        <td>0</td>\n",
       "    </tr>\n",
       "    <tr>\n",
<<<<<<< HEAD
       "        <td>1997-03-24 13:00:00</td>\n",
       "        <td>31.966237922547</td>\n",
       "        <td>46.6732239884033</td>\n",
       "        <td>50.083985244315</td>\n",
       "        <td>58.3241529032037</td>\n",
=======
       "        <td>1997-03-25 03:00:00</td>\n",
       "        <td>32.6661574862389</td>\n",
       "        <td>49.6761521556807</td>\n",
       "        <td>26.9180370504443</td>\n",
       "        <td>76.8068300174981</td>\n",
>>>>>>> master
       "        <td>0</td>\n",
       "        <td>0</td>\n",
       "        <td>0</td>\n",
       "        <td>0</td>\n",
       "        <td>0</td>\n",
       "        <td>0</td>\n",
       "        <td>0</td>\n",
       "        <td>0</td>\n",
       "        <td>1</td>\n",
       "        <td>0</td>\n",
       "        <td>0</td>\n",
       "        <td>0</td>\n",
       "        <td>0</td>\n",
       "    </tr>\n",
       "    <tr>\n",
<<<<<<< HEAD
       "        <td>1997-03-24 15:00:00</td>\n",
       "        <td>31.0410418662839</td>\n",
       "        <td>41.8274250547973</td>\n",
       "        <td>45.4465544021404</td>\n",
       "        <td>97.7170243490799</td>\n",
       "        <td>0</td>\n",
=======
       "        <td>1997-03-25 08:00:00</td>\n",
       "        <td>31.8015426790243</td>\n",
       "        <td>49.5700869385185</td>\n",
       "        <td>75.8331757419004</td>\n",
       "        <td>87.6318937917314</td>\n",
       "        <td>1</td>\n",
>>>>>>> master
       "        <td>0</td>\n",
       "        <td>0</td>\n",
       "        <td>0</td>\n",
       "        <td>0</td>\n",
       "        <td>0</td>\n",
       "        <td>0</td>\n",
       "        <td>0</td>\n",
       "        <td>1</td>\n",
       "        <td>0</td>\n",
       "        <td>0</td>\n",
       "        <td>0</td>\n",
       "        <td>0</td>\n",
       "    </tr>\n",
       "    <tr>\n",
<<<<<<< HEAD
       "        <td>1997-03-24 19:00:00</td>\n",
       "        <td>30.954906770923</td>\n",
       "        <td>42.2946620832769</td>\n",
       "        <td>46.7073889033827</td>\n",
       "        <td>113.05207735578</td>\n",
       "        <td>0</td>\n",
=======
       "        <td>1997-03-25 09:00:00</td>\n",
       "        <td>31.0132301560729</td>\n",
       "        <td>48.858210122924</td>\n",
       "        <td>75.8466747403206</td>\n",
       "        <td>109.851735683215</td>\n",
       "        <td>1</td>\n",
>>>>>>> master
       "        <td>0</td>\n",
       "        <td>0</td>\n",
       "        <td>0</td>\n",
       "        <td>0</td>\n",
       "        <td>0</td>\n",
       "        <td>0</td>\n",
       "        <td>0</td>\n",
       "        <td>1</td>\n",
       "        <td>0</td>\n",
       "        <td>0</td>\n",
       "        <td>0</td>\n",
       "        <td>0</td>\n",
       "    </tr>\n",
       "    <tr>\n",
<<<<<<< HEAD
       "        <td>1997-03-26 23:00:00</td>\n",
       "        <td>31.4422052089501</td>\n",
       "        <td>43.072342738529</td>\n",
       "        <td>47.4220678177214</td>\n",
       "        <td>75.0252788198134</td>\n",
=======
       "        <td>1997-03-26 21:00:00</td>\n",
       "        <td>30.911013048392</td>\n",
       "        <td>43.9817832103964</td>\n",
       "        <td>37.0895723331893</td>\n",
       "        <td>90.5486094273765</td>\n",
>>>>>>> master
       "        <td>0</td>\n",
       "        <td>0</td>\n",
       "        <td>0</td>\n",
       "        <td>0</td>\n",
       "        <td>0</td>\n",
       "        <td>0</td>\n",
       "        <td>0</td>\n",
       "        <td>0</td>\n",
       "        <td>1</td>\n",
       "        <td>0</td>\n",
       "        <td>0</td>\n",
       "        <td>0</td>\n",
       "        <td>0</td>\n",
       "    </tr>\n",
       "</table>"
      ],
      "text/plain": [
<<<<<<< HEAD
       "[(datetime.datetime(1997, 3, 23, 6, 0), 31.1456715016839, 50.5883567654865, 50.6392021695488, 77.1011145867884, 0, 0, 0, 0, 0, 0, 0, 0, 1, 0, 0, 0, 0),\n",
       " (datetime.datetime(1997, 3, 24, 13, 0), 31.966237922547, 46.6732239884033, 50.083985244315, 58.3241529032037, 0, 0, 0, 0, 0, 0, 0, 0, 1, 0, 0, 0, 0),\n",
       " (datetime.datetime(1997, 3, 24, 15, 0), 31.0410418662839, 41.8274250547973, 45.4465544021404, 97.7170243490799, 0, 0, 0, 0, 0, 0, 0, 0, 1, 0, 0, 0, 0),\n",
       " (datetime.datetime(1997, 3, 24, 19, 0), 30.954906770923, 42.2946620832769, 46.7073889033827, 113.05207735578, 0, 0, 0, 0, 0, 0, 0, 0, 1, 0, 0, 0, 0),\n",
       " (datetime.datetime(1997, 3, 26, 23, 0), 31.4422052089501, 43.072342738529, 47.4220678177214, 75.0252788198134, 0, 0, 0, 0, 0, 0, 0, 0, 1, 0, 0, 0, 0)]"
=======
       "[(datetime.datetime(1997, 3, 22, 7, 0), 31.7222838010098, 46.9562079315314, 26.9962110043135, 99.1593047202872, 0, 0, 0, 0, 0, 0, 0, 0, 1, 0, 0, 0, 0),\n",
       " (datetime.datetime(1997, 3, 25, 3, 0), 32.6661574862389, 49.6761521556807, 26.9180370504443, 76.8068300174981, 0, 0, 0, 0, 0, 0, 0, 0, 1, 0, 0, 0, 0),\n",
       " (datetime.datetime(1997, 3, 25, 8, 0), 31.8015426790243, 49.5700869385185, 75.8331757419004, 87.6318937917314, 1, 0, 0, 0, 0, 0, 0, 0, 1, 0, 0, 0, 0),\n",
       " (datetime.datetime(1997, 3, 25, 9, 0), 31.0132301560729, 48.858210122924, 75.8466747403206, 109.851735683215, 1, 0, 0, 0, 0, 0, 0, 0, 1, 0, 0, 0, 0),\n",
       " (datetime.datetime(1997, 3, 26, 21, 0), 30.911013048392, 43.9817832103964, 37.0895723331893, 90.5486094273765, 0, 0, 0, 0, 0, 0, 0, 0, 1, 0, 0, 0, 0)]"
>>>>>>> master
      ]
     },
     "execution_count": 19,
     "metadata": {},
     "output_type": "execute_result"
    }
   ],
   "source": [
    "%%sql\n",
    "DROP TABLE IF EXISTS sensors_encoded;\n",
    "\n",
    "\n",
    "SELECT\n",
    "madlib.encode_categorical_variables (\n",
    "    'sensors_pre',\n",
    "    'sensors_encoded',\n",
    "    'month',\n",
    "    NULL,  --categorical_cols_to_exclude     -- Optional\n",
    "    NULL,  --row_id,                         -- Optional\n",
    "    NULL,  --top,                            -- Optional\n",
    "    NULL,  --value_to_drop,                  -- Optional\n",
    "    NULL,  --encode_null,                    -- Optional\n",
    "    NULL,  --output_type,                    -- Optional\n",
    "    NULL,  --output_dictionary,              -- Optional\n",
    "    NULL   --distributed_by                  -- Optional\n",
    ");\n",
    "\n",
    "\n",
    "SELECT * FROM sensors_encoded LIMIT 5;"
   ]
  },
  {
   "cell_type": "markdown",
   "id": "7bd5abdf-738a-4dbc-9b4e-9287f979d6e3",
   "metadata": {},
   "source": [
    "### Correlation"
   ]
  },
  {
   "cell_type": "code",
   "execution_count": 20,
   "id": "8c52a0c0-1f31-41f2-91eb-4ebab8590a06",
   "metadata": {
    "execution": {
<<<<<<< HEAD
     "iopub.execute_input": "2021-10-12T08:58:52.100947Z",
     "iopub.status.busy": "2021-10-12T08:58:52.100714Z",
     "iopub.status.idle": "2021-10-12T08:58:56.391740Z",
     "shell.execute_reply": "2021-10-12T08:58:56.389408Z",
     "shell.execute_reply.started": "2021-10-12T08:58:52.100919Z"
=======
     "iopub.execute_input": "2021-10-08T03:40:33.338617Z",
     "iopub.status.busy": "2021-10-08T03:40:33.338343Z",
     "iopub.status.idle": "2021-10-08T03:40:37.535171Z",
     "shell.execute_reply": "2021-10-08T03:40:37.534574Z",
     "shell.execute_reply.started": "2021-10-08T03:40:33.338591Z"
>>>>>>> master
    },
    "tags": []
   },
   "outputs": [
    {
     "name": "stdout",
     "output_type": "stream",
     "text": [
      " * postgresql://gpadmin@192.168.133.128:32000/db\n",
      "Done.\n",
      "Done.\n",
      "1 rows affected.\n"
     ]
    },
    {
     "data": {
      "text/html": [
       "<table>\n",
       "    <tr>\n",
       "        <th>correlation</th>\n",
       "    </tr>\n",
       "    <tr>\n",
<<<<<<< HEAD
       "        <td>Summary for &#x27;Correlation&#x27; function<br>Output table = sensors_correlations<br>Producing correlation for columns: temperature,temperature_2,humidity,pm25,rain<br>Total run time = (&#x27;sensors_correlations&#x27;, 5, 3.992049217224121)</td>\n",
=======
       "        <td>Summary for &#x27;Correlation&#x27; function<br>Output table = sensors_correlations<br>Producing correlation for columns: temperature,temperature_2,humidity,pm25,rain<br>Total run time = (&#x27;sensors_correlations&#x27;, 5, 3.8935680389404297)</td>\n",
>>>>>>> master
       "    </tr>\n",
       "</table>"
      ],
      "text/plain": [
<<<<<<< HEAD
       "[(\"Summary for 'Correlation' function\\nOutput table = sensors_correlations\\nProducing correlation for columns: temperature,temperature_2,humidity,pm25,rain\\nTotal run time = ('sensors_correlations', 5, 3.992049217224121)\",)]"
=======
       "[(\"Summary for 'Correlation' function\\nOutput table = sensors_correlations\\nProducing correlation for columns: temperature,temperature_2,humidity,pm25,rain\\nTotal run time = ('sensors_correlations', 5, 3.8935680389404297)\",)]"
>>>>>>> master
      ]
     },
     "execution_count": 20,
     "metadata": {},
     "output_type": "execute_result"
    }
   ],
   "source": [
    "%%sql\n",
    "DROP TABLE IF EXISTS sensors_correlations;\n",
    "DROP TABLE IF EXISTS sensors_correlations_summary;\n",
    "\n",
    "SELECT \n",
    "madlib.correlation(\n",
    "    'sensors_encoded', -- source_table\n",
    "    'sensors_correlations',  -- target_table\n",
    "    'temperature,temperature_2,humidity,pm25,rain',\n",
    "    TRUE -- verbose\n",
    ")"
   ]
  },
  {
   "cell_type": "code",
   "execution_count": 21,
   "id": "c8a78b79-a4e0-4e66-a3c0-51b2ae7d6f7d",
   "metadata": {
    "execution": {
<<<<<<< HEAD
     "iopub.execute_input": "2021-10-12T08:58:58.778949Z",
     "iopub.status.busy": "2021-10-12T08:58:58.778712Z",
     "iopub.status.idle": "2021-10-12T08:58:58.798145Z",
     "shell.execute_reply": "2021-10-12T08:58:58.797492Z",
     "shell.execute_reply.started": "2021-10-12T08:58:58.778921Z"
=======
     "iopub.execute_input": "2021-10-08T03:40:37.536425Z",
     "iopub.status.busy": "2021-10-08T03:40:37.536182Z",
     "iopub.status.idle": "2021-10-08T03:40:37.552079Z",
     "shell.execute_reply": "2021-10-08T03:40:37.551547Z",
     "shell.execute_reply.started": "2021-10-08T03:40:37.536405Z"
>>>>>>> master
    },
    "tags": []
   },
   "outputs": [
    {
     "name": "stdout",
     "output_type": "stream",
     "text": [
      " * postgresql://gpadmin@192.168.133.128:32000/db\n",
      "5 rows affected.\n",
      "temperature,temperature_2,humidity,pm25,rain\n"
     ]
    }
   ],
   "source": [
    "Index = %sql SELECT variable FROM sensors_correlations ORDER BY column_position;\n",
    "Index = Index.DataFrame();\n",
    "\n",
    "columns =  ','.join(','.join('%s' %x for x in y) for y in Index.values)\n",
    "print(columns)"
   ]
  },
  {
   "cell_type": "code",
   "execution_count": 22,
   "id": "b32a1a33-56d2-4936-b6f8-5e102609570e",
   "metadata": {
    "execution": {
<<<<<<< HEAD
     "iopub.execute_input": "2021-10-12T08:59:00.239942Z",
     "iopub.status.busy": "2021-10-12T08:59:00.239715Z",
     "iopub.status.idle": "2021-10-12T08:59:00.250593Z",
     "shell.execute_reply": "2021-10-12T08:59:00.249747Z",
     "shell.execute_reply.started": "2021-10-12T08:59:00.239914Z"
=======
     "iopub.execute_input": "2021-10-08T03:40:37.553092Z",
     "iopub.status.busy": "2021-10-08T03:40:37.552937Z",
     "iopub.status.idle": "2021-10-08T03:40:37.562545Z",
     "shell.execute_reply": "2021-10-08T03:40:37.561985Z",
     "shell.execute_reply.started": "2021-10-08T03:40:37.553072Z"
>>>>>>> master
    },
    "tags": []
   },
   "outputs": [
    {
     "name": "stdout",
     "output_type": "stream",
     "text": [
      " * postgresql://gpadmin@192.168.133.128:32000/db\n",
      "5 rows affected.\n"
     ]
    }
   ],
   "source": [
    "corr = %sql select variable,{columns} from sensors_correlations ORDER BY column_position;\n",
    "corr = corr.DataFrame()"
   ]
  },
  {
   "cell_type": "code",
   "execution_count": 23,
   "id": "f41fdac5-84c3-4334-af94-bea626fe8f9c",
   "metadata": {
    "execution": {
<<<<<<< HEAD
     "iopub.execute_input": "2021-10-12T08:59:02.714273Z",
     "iopub.status.busy": "2021-10-12T08:59:02.713993Z",
     "iopub.status.idle": "2021-10-12T08:59:02.955964Z",
     "shell.execute_reply": "2021-10-12T08:59:02.955375Z",
     "shell.execute_reply.started": "2021-10-12T08:59:02.714240Z"
    },
    "presto": {
     "id": "7936d6b3-3419-4a8d-bb74-84238e516694"
=======
     "iopub.execute_input": "2021-10-08T03:40:37.563956Z",
     "iopub.status.busy": "2021-10-08T03:40:37.563746Z",
     "iopub.status.idle": "2021-10-08T03:40:37.826843Z",
     "shell.execute_reply": "2021-10-08T03:40:37.826354Z",
     "shell.execute_reply.started": "2021-10-08T03:40:37.563934Z"
>>>>>>> master
    },
    "tags": []
   },
   "outputs": [
    {
     "data": {
      "image/png": "iVBORw0KGgoAAAANSUhEUgAAAdIAAAFYCAYAAADnS32IAAAAOXRFWHRTb2Z0d2FyZQBNYXRwbG90bGliIHZlcnNpb24zLjQuMywgaHR0cHM6Ly9tYXRwbG90bGliLm9yZy/MnkTPAAAACXBIWXMAAAsTAAALEwEAmpwYAABEHElEQVR4nO3dd5xU1d3H8c93V2xRQEWlRuxdQQEbFlARC6KxxxJNFGsSzaOxJpbYEhNifKIS9DFYsMaogL0rNkBEpVhQVMoCogIWFNj9PX/cyzq7bJlld3Z2d75vX/fFzL3nnvmd2XV/c849c64iAjMzM1sxRfkOwMzMrDlzIjUzM6sHJ1IzM7N6cCI1MzOrBydSMzOzenAiNTMzqwcnUrMWQtIwSVfmO45ckPSJpH1W8NzdJb3f0DGZLeNEas2epN6SXpW0QNKXkl6R1DPfcdWVpGPShKFK+1eSNFfSQXmMrYOk/5NUIulrSe9JulzST/IVU3UkhaRNlj2PiJcjYvN8xmQtmxOpNWuSWgOjgP8F1gY6AZcDP+QzrmWUyPb/s4eAtsCelfb3BwJ4ogFDy5qktYHXgNWAXSJiTWBfklg3rmNdy70fklZqoFDN8sKJ1Jq7zQAi4p6IKI2IRRHxVES8s6yApF9KmiLpK0lPStog41hIOk3Sh+nxG5f1CCVtIunFtKc7T9J9GeftKmlsemyspF0zjr0g6SpJrwDfARtJOlHSx2lvbpqkYys3JCK+B+4HTqh06ARgeEQslfSApNnp674kaeuq3pT09UZX2lfeU5O0iqS/SvpM0hxJQyStVs17/Dvga+C4iPgkjXV6RPx22fu8Au9HSDpT0ofAh2m5gyRNkDQ/HWHYrpq29ZL0WlquRNI/Ja2cHnspLfa2pG8kHSVpL0kzMs7fMo1pvqRJkg7OODYs/R14NP1ZvSGpTh8WrABFhDdvzXYDWgNfALcD+wNrVTp+CDAV2BJYCbgEeDXjeJD0aNsCPwU+B/qnx+4BLib5wLkq0DvdvzbwFXB8Wucx6fN10uMvAJ8BW6fH2wALgc3T4x2Aratpz25p2dXS522ARUC39PkvgTWBVYDrgQkZ5w4DrkwfnwiMrlR3AJukj68HRqRtWRMYCVxTTUyvA5fX8DOo6/vRKo3l6fTc1YAdgLnATkAx8AvgE2CVtI5PgH3SxzsCO6d1dQWmAGdX1c70+V7AjPRxq/T34SJgZaAvyYeEzTPewy+BXmn9w4F78/177q1pb+6RWrMWEQuB3iR/PG8BPpc0QtL6aZFTSRLElIhYClwNdMvslQLXRsT8iPgMeB7olu5fAmwAdIyI7yNiWQ/vQODDiLgzIpZGxD3Ae8CAjDqHRcSk9DWXAmXANpJWi4iSiJhUTXteAeYAh6a7jgQ+iIgJ6fHbIuLriPgBuAzYXlKburxnaY/7FOCciPgyIr5O35ejqzllHaCkhirr9H5ExJJ03zXp6y9K4/lXRLwRycjC7STD8ztXfrGIeDMiXk/r+gT4F8sPh1dnZ2ANkp/54oh4juSD1DEZZf4bEWPSn91wfvx9MKuSE6k1e2mSPDEiOgPbAB1JelyQJMJ/pMN480l6GyK5lrrM7IzH35H8oQX4fVp2TDoE+Mt0f0fg00phfFqpzukZ8X0LHAWcBpSkw4Zb1NCkO/hxePd4kt42koolXSvpI0kLSXppAO1qqKsq6wKrA29mvC9PpPur8gVJL7o6dXo/qtm3AfA/y+JJY+qS1l2BpM0kjUqHuBeSfAjI9j3oCEyPiLIaYq3u98GsSk6k1qJExHskw3PbpLumA6dGRNuMbbWIeDWLumZHxCkR0ZGkZ3tTeo1xFskf/kw/BWZmnl6pricjYl+ShPQeSe+5OncAe0vahaQHdXe6/+fAQGAfkiHfrul+Va4A+JYkWSYFpPYZx+aRDBdvnfGetImI6hLGM8ChNUyaqvP7UcW+6cBVlX5Oq6e928puJnkPN42I1iTDtFW9B9XF2qVSWyrHalYnTqTWrEnaQtL/SOqcPu9CMkz3elpkCHDhskk5ktpIOiLLuo9YVi/JNb8ASoHHgM0k/VzJV1OOArYiGSKsqp71JR2s5KsiPwDfpPVUKSI+BUaTXKN9OiKW9ZDWTM//giRJXl1D+G8DW0vqJmlVkmHgZfWXkSTyv0taL42xk6T9qqlrMMm16NuXDYmn5QenE4Lq9H5U4xbgNEk7KfETSQdKWrOKsmuSXEf+Ju3Zn17p+Bxgo2pe5w2SDxm/l9RK0l4kQ9D31iFWswqcSK25+5pkgsobkr4lSaATgf8BiIiHgD8D96bDgBNJJiVlo2da7zckE3N+GxHTIuIL4KD0Nb4gGQI+KCLmVVNPUVp2FsnQ8p7AGbW89u0kvbw7MvbdQTIMOROYzI8fFpYTER8AV5D0Jj8kScyZzieZdPN6+r48A1T5XcuI+BLYleSa8RuSvgaeBRYAU1fg/ajqNcaRXCf9J8mHlqkkE6aqci5J7/xrkgR8X6Xjl5Ek/fmSjqz0OouBg0l+B+YBNwEnpCMZZitEEb6xt5mZ2Ypyj9TMzKwenEjNzKwgSLpNyXKbE6s5Lkk3SJoq6R1JO2RTrxOpmZkVimEkS25WZ39g03QbRDJDvFZOpGZmVhAi4iWSCX/VGQjcEYnXgbaSavoONeBEamZmtkwnKi4UMoOKi3VUyXddaKKWzPu44KZTt2pX3Vf/zKyZyXaBjFotmfth1n8LV15/s1NJhmSXGRoRQ+vwclXFXevrO5GamVnTVWE1x1qKJkmzLomzshkkS1Mu05nk+9818tCumZk1XWVl2W/1NwI4IZ29uzOwICJqumED4B6pmZk1YVGHHmltJN1Dclu9duk9ai8lubUeETGEZLnLA0hW1voOOCmbep1Izcys6WqYniYAEXFMLccDOLOu9TqRmplZ09WAPdJccSI1M7Omq6zaGyU1GU6kZmbWdLlHamZmVg8NeI00V5xIzcysyWrIWbu54kRqZmZNV+nSfEdQKydSMzNrujzZyMzMrB48tGtmZlYPnmxkZmZWD+6RmpmZ1YN7pGZmZisuwpONzMzMVpyHds3MzOrBQ7vWXFxy9WBeemUMa6/VlofvGpLvcMzMEs2gR1qU7wAAJLWVdEa+46iNpLMlrZ7vOHLhkAP2ZcjgK/MdhplZRaVLst/ypEkkUqAtkPdEqkRN78nZQJ0SqaRm0evv0W1b2rReM99hmJlVVFaW/ZYnTSWRXgtsLGmCpOsknSdprKR3JF0OIKmrpPck3SppoqThkvaR9IqkDyX1SstdJulOSc+l+09Z9iI11DtF0k3AeKCLpJsljZM0KaPcb4COwPOSnk/3fZNR9+GShqWPh0kanJb7s6SNJT0h6U1JL0vaohHeUzOz5i/Kst/ypKkk0guAjyKiG/A0sCnQC+gG7Chpj7TcJsA/gO2ALYCfA72Bc4GLMurbDjgQ2AX4o6SOkvrVUO/mwB0R0T0iPgUujogeaT17StouIm4AZgF9IqJPFm3aDNgnIv4HGAr8OiJ2TGO9qaoTJA1KE/i4W++4J4uXMDNr4ZpBj7QpDjv2S7e30udrkCTAz4BpEfEugKRJwLMREZLeBbpm1PFIRCwCFqW9wl4kCbe6ej+NiNczzj9S0iCS96cDsBXwTh3b8UBElEpaA9gVeEDSsmOrVHVCRAwlSbosmfdx1PH1zMxaHs/aXSECromIf1XYKXUFfsjYVZbxvIyKbamchKKWer/NeL4hSa+xZ0R8lQ7XrlpNrJmvU7nMsjqLgPlpb9vMzOqgOSzI0FSGdr8Gls10eRL4ZdqTQ1InSevVsb6BklaVtA6wFzC2DvW2JkmCCyStD+xfTZwAcyRtmU5QOrSqQCJiITBN0hHp60rS9nVsT86dd+m1HHvqOXzy2Qz2PuQ4Hhz5ZL5DMjPz0G62IuKLdNLQROBx4G7gtXQo9BvgOKAuH0vGAI8CPwX+FBGzgFmStqyt3oh4W9JbwCTgY+CVjMNDgccllaTXSS8ARgHTgYkkw8VVORa4WdIlQCvgXuDtOrQn5667/IJ8h2Bmtrxm8D1SRbSsS3GSLgO+iYi/5juW+ijEa6St2m2U7xDMrGGo9iLZWfTs0Kz/Fq6296AGe926aBI9UjMzsyo1gx5pi0ukEXFZvmMwM7MG4lm7ZmZm9VC6NN8R1MqJ1MzMmi73SM3MzOrB10jNzMzqwT1SMzOzenCP1MzMrB7cIzUzM6sH90jNzMzqwT1SMzOzenAiNTMzq4dmsB68E6mZmTVdS72ykZmZ2YprBpONmsqNvc3MzJbXwDf2ltRf0vuSpkpa7kbMktpIGinpbUmTJJ1UW51OpGZm1nRFZL/VQlIxcCOwP7AVcIykrSoVOxOYHBHbA3sBf5O0ck31emjXzMyaroadtdsLmBoRHwNIuhcYCEzOKBPAmpIErAF8CdR4odaJtIm6sMfF+Q6h0V0z7qp8h9CoWrXbKN8hmDV9dUikkgYBgzJ2DY2IoRnPOwHTM57PAHaqVM0/gRHALGBN4KiImi/UOpGamVnTVYfJRmnSHFpDEVV1WqXn+wETgL7AxsDTkl6OiIXVVeprpGZm1mRFWWS9ZWEG0CXjeWeSnmemk4D/RmIqMA3YoqZKnUjNzKzpathZu2OBTSVtmE4gOppkGDfTZ8DeAJLWBzYHPq6pUg/tmplZ09WA3yONiKWSzgKeBIqB2yJikqTT0uNDgD8BwyS9SzIUfH5EzKupXidSMzNrupaWNmh1EfEY8FilfUMyHs8C+tWlTidSMzNrurxovZmZWT140XozM7N6cI/UzMysHrL7WkteOZGamVnT1Qzu/uJEamZmTZd7pGZmZisufI3UzMysHtwjNTMzqwdfIzUzM6sH90jNzMzqoYGXCMwFJ1IzM2u6PLRrZmZWDx7ataZk8z23Z+AfT6CouIg37nue52+ueBu+7gN3o89pBwOw+LvvefCS/6NkymcA9D6pPzsf3Rck3rj3OV6+7fFGj7+hXXL1YF56ZQxrr9WWh+8aUvsJZtbomsPXX3xj7wKhInHoFSdx64l/5rp9z6X7wbuy/iadKpT5cvpcbj7qCgbvfz7P/O9/OeKaUwBov1lndj66L/8YeAmD9z+fLft2p13X9vloRoM65IB9GTL4ynyHYWY1KYvstzzJSSKV1FbSGbmouyFJOlvS6jl+jd9JmizpHUnPStogl69XnZ9224QvPp3Nl9PnUrqklAkjX2Prfj0qlPl0/IcsWvht+ngqbdqvDcB6m3Ti07c+ZMn3iykrLePjN6awzX49G70NDa1Ht21p03rNfIdhZjUp1EQKtAXynkiVqKmNZwN1SqSS6joc/hbQIyK2A/4D/KWO5zeINuuvxfxZX5Q/n1/yBW3WX6va8r2O2ov3XpgAwOz3p7NRry1Zve0atFp1Zbbo0422HdbJdchmZslko2y3PMlVIr0W2FjSBEnXSTpP0ti0V3Y5gKSukt6TdKukiZKGS9pH0iuSPpTUKy13maQ7JT2X7j9l2YvUUO8USTcB44Eukm6WNE7SpIxyvwE6As9Lej7d901G3YdLGpY+HiZpcFruz5I2lvSEpDclvSxpi+reiIh4PiK+S5++DnRuoPe4bqTldlV3m7+Nd9mKXkf14dFr7wFg7kezeH7ICAbddRGn3H4BJVM+o6y06U9JN7MWoBn0SHM12egCYJuI6CapH3A40AsQMELSHsBnwCbAEcAgYCzwc6A3cDBwEXBIWt92wM7AT4C3JD0KbANsWk29mwMnRcQZAJIujogvJRUDz0raLiJukPQ7oE9EzMuiTZsB+0REqaRngdMi4kNJOwE3AX2zqONXQLWzdCQNSt8L9l27B9utuUkWVWZnwewvadvxx15k2w7rsHDuV8uV67DFTzni2kHceuK1fDe//HMFY+5/gTH3vwDA/ucdxYKSLxssNjOz6kQzmLXbGJON+qXbWyQ9xC1IEiDAtIh4NyLKgEnAsxERwLtA14w6HomIRWnCe54kedZU76cR8XrG+UdKGp+W3RrYagXa8UCaRNcAdgUekDQB+BfQobaTJR0H9ACuq65MRAyNiB4R0aMhkyjA9Lc/ol3X9qzdeV2KWxXTbcAuTHr6zQpl2nZch18MOYd7zrmRedNmVzi2xjqty8ts278nb414tUHjMzOrUgH3SDMJuCYi/lVhp9QV+CFjV1nG87JKsVV+h6KWer/NeL4hcC7QMyK+SodrV60m1szXqVxmWZ1FwPyI6FZNHcuRtA9wMbBnRPxQW/lcKCst46E/DuOUOy5ExUWMvf8F5nw4g12O3QeA14Y/w76/+Rmrr7UGP7vyl8k5S8v4x8EXA3DCzefwk7XWoHRpKf/9w7/LJyU1Z+ddei1j33qH+fMXsvchx3HGr47nsAH75TssM8tUwCsbfQ0smw75JPAnScMj4htJnYAldaxvoKRrSIZ29yIZOl6UZb2tSZLgAknrA/sDL1SKc9nQ7hxJWwLvA4emxyuIiIWSpkk6IiIekCRgu4h4u6rAJXUn6bX2j4i5dWx3g3rvhQnlE4iWeW34M+WPH7jgFh644JYqz73pyMtzGVpeXHf5BfkOwcxq0wyGdnOSSCPii3TS0ESSa4J3A68lOYdvgOOAunzMGAM8CvwU+FNEzAJmpUmvxnoj4m1Jb5EMHX8MvJJxeCjwuKSSiOhDkqBHAdOBicAa1cRzLHCzpEuAVsC9QJWJlGQodw2SoWCAzyLi4Dq03cysYEV1syKbEDX1ICVdBnwTEX/NdyyN6dyuxzTtH0wOXDPuqnyH0Khatdso3yGY5cryXxNYQQtP6Zf138LWtzzVYK9bF14i0MzMmq5CHdptSBFxWb5jyIaki0m+ypPpgYgorG6WmVkDag5ff2nyibS5SBOmk6aZWUNyIjUzM6uHpn/zFydSMzNrujy0a2ZmVh9OpGZmZisuljqRmpmZrThfIzUzM1txvkZqZmZWH+6RmpmZrbhwIjUzM6sHJ1IzM7MV1xx6pEX5DsDMzKxaZXXYsiCpv6T3JU2VVOVNiSXtJWmCpEmSXqytTvdIzcysyWrIHqmkYuBGYF9gBjBW0oiImJxRpi1wE9A/Ij6TtF5t9bpHamZmTVaUZb9loRcwNSI+jojFwL3AwEplfg78NyI+A4iIubVV6kRqZmZNVl0SqaRBksZlbIMqVdcJmJ7xfEa6L9NmwFqSXpD0pqQTaovRQ7tN1D9mvZTvEBrdDZ32yHcIjerbmYX3M27VbqN8h2DNTJQq+7IRQ4GhNRSpqrLKKz6sBOwI7A2sBrwm6fWI+KC6Sp1IzcysyYqy7BNpFmYAXTKedwZmVVFmXkR8C3wr6SVge6DaROqhXTMza7Ia+BrpWGBTSRtKWhk4GhhRqcwjwO6SVpK0OrATMKWmSt0jNTOzJiui4XqkEbFU0lnAk0AxcFtETJJ0Wnp8SERMkfQE8A7Jl2pujYiJNdXrRGpmZk1WQy/IEBGPAY9V2jek0vPrgOuyrdOJ1MzMmqwGvkaaE7VeI5W0vqT/k/R4+nwrSb/KfWhmZlboIrLf8iWbyUbDSMaTO6bPPwDOzlE8ZmZm5aJMWW/5kk0ibRcR95OuZBgRS4HSnEZlZmZG80ik2Vwj/VbSOqRfWpW0M7Agp1GZmZmR3yHbbGWTSH9H8j2bjSW9AqwLHJ7TqMzMzICy0qa/3EGtiTQixkvaE9icZHml9yNiSc4jMzOzgtcc7kdabSKV9LNqDm0miYj4b45iMjMzA6CsARdkyJWaeqQDajgWgBOpmZnlVEOubJQr1SbSiDipMQMxMzOrrKUsyLCOpBskjU/vzfaPdBavmZlZTrWUBRnuBT4HDiOZrfs5cF8ugzIzM4OW8z3StSPiTxnPr5R0SI7iMTMzK9ccJhtl0yN9XtLRkorS7Ujg0VwHZmZmFqGst3ypNpFK+lrSQuBU4G5gcbrdC5zTOOHZivr74CuYMnk04998mu7dtqmyTNeuXXhl9EgmTxrN8OE306pVq1rPv2Xo35g5423eeuvZ5eo784yTmDjxJSZMeI5rrrm44RtVjX799mLiuy8yefJozjv3zCrLDB58BZMnj+bNcU/TLaM91Z17zTWX8O47L/DmuKd54P5badOmNQDHHH0oY8c8Wb59v+gztt9uq9w2sAFdcvVg9jjwaA457rR8h2KWlWZ9jTQi1oyI1um/RRGxUroVRUTrxgyyLiR1lVTjTVhXsN4rJO1Txf69JI1KHx8s6YL08SGS8vIXtn//vmyyyYZsuVVvTj/9fP75z2uqLHf11RfzjxtuYautezP/qwX88qRjaj3/9jvu56CDjl2urj333JUBA/Zjhx32oVu3vgwePGS5MrlQVFTEP/5xJQMOPp7tt+/DUUcNZMstNq1QZll7ttqqN6efcT7//N9raj332Wdfolv3vdmxx758+OHHnP/7swC4596H6NlrP3r22o+TTvotn3w6nbffmdwobW0IhxywL0MGX5nvMMyyVlpWlPWWL1m9sqS1JPWStMeyLdeBNTUR8ceIeKaWMiMi4tr06SFAXhLpwQP2467h/wHgjTHjadO2De3br7dcuT577caDDyaj9Hfe+QAHH7xfreePHv0GX341f7m6Tj31BP5y3Y0sXrwYgM8//6LB21WVnj278dFHnzBt2mcsWbKE++9/hAED+lUoM2BAP4bflbRnzJjxtG3bmvbt16vx3GeeeYnS0uTeDG+8MZ5OnTos99pHHTWQ++97JMctbFg9um1Lm9Zr5jsMs6w16x7pMpJOBl4iuZXa5em/l+U2rHorlnSLpEmSnpK0mqQXJPUAkNRO0ifp4xMlPSxppKRpks6S9DtJb0l6XdLaablhkg5PH/eX9J6k0UD5ClBpXf+UtCtwMHCdpAmSNpY0PqPcppLezFXjO3Zsz4zps8qfz5xRQqeO7SuUWWedtZg/f0F5spgxs4SOndpnfX5lm226Eb179+KV0SN59pn/0GPH7RuqOTXq1LEDM6aXlD+fOXM2HSslvY4d2zN9xo/tmTGzhI4d22d1LsCJJx7Fk08+v9z+w48YwH3NLJGaNTdloay3fMmmR/pboCfwaUT0AbqTfAWmKdsUuDEitgbmk3x1pybbAD8HegFXAd9FRHfgNeCEzIKSVgVuIVn5aXdguQwTEa+SLPR/XkR0i4iPgAWSuqVFTiK5z2sFkgZJGidpXFnZt9m1tArS8r9QUenjWlVlln2ky+b8yopXKmattm3YrfcALrjgSu6+u3GGdqtuRu1tjYiszr3g/F+zdGkpd99TcSGvnj27s+i775k0+f26B21mWWvWk40yfB8R3wNIWiUi3iNZwL4pmxYRE9LHbwJdayn/fER8HRGfk9wibmS6/90qzt0irf/DSP7q3pVlTLcCJ0kqBo4imcBVQUQMjYgeEdGjqOgnWVabOP20XzBu7FOMG/sUJSWz6dylY/mxTp07MKtkToXy8+Z9Sdu2bSguLgagc6cOzJqVlJk5s6TW8yubOaOEhx5+HICx4yZQVlZGu3Zr16kNK2LGzBI6d/mxF9mpU3tKZs2uGNvMErp0/rE9nTt1oKRkTq3nHn/c4RxwwD6c8IuzlnvdI488mPvue7gBW2JmVWkpPdIZktoCDwNPS3oEmFXjGfn3Q8bjUpLvyy7lx/auWkP5soznZVT9XdsVGY1/ENgfOAh4MyIa9CLizUNup0fPfvTo2Y9HRjzJcccmd7rbqdcOLFywkNmz5y53zgsvvsphhx0IwPHHH8HIkU8BMHLUU1mdn2nEiCfp02c3ADbddCNWXnll5s37ssHaV51x495mk002pGvXLrRq1YojjxzIqFFPVygzatRTHHtc0p5evXZgwYKvmT17bo3n9uu3F+eeewY/O+wkFi36vkJ9kjjsZwdx/wMjct4+s0IXddjyJZvbqB2aPrxM0vNAG+CJnEaVG58AOwJjqN/9VN8DNpS0cTpke0w15b4Gymd1RMT3kp4EbgZ+VY/Xr9Xjjz/L/v378t6UV1i0aBEnn/y78mMjHrmDU087j5KSOVx00VUMv+smLr/s90x4exK3/fueWs+/884b2XOPXWjXbm2mfTyOK674K/8edi//HnYvt97yN95661mWLF7CL391di6bWK60tJSzz/4Dj44aTlFxEbcPu4/JUz7glFOOA+CWW+7i8cefo3//vkyZMppF333Pyaf8rsZzAa6//kpWWXllHn8seU/eGDOes866EIDdd9+ZmTNLmDbts0ZpY0M679JrGfvWO8yfv5C9DzmOM351PIcN2C/fYZlVqzksyKDqrn1Jah0RC5dNtqksInLf3VgBkroCoyJim/T5ucAaJN9/vR/4BngOOC4iuko6EegREWel5T9Jn8/LPCZpWFrvfyT1B64H5gGjgW0i4qBK5XcjuZb6A3B4RHwkaWeSnulPI6K0pna0WrlTM7gvfMOq8rptC/btzJfyHUKja9Vuo3yHYI2jwf5nfqX94Vn/Ldxt9n/y8kekpkQ6Kk0O00h6zcr8NyL8f0QdpUm9TUT8obayTqQtnxOptWAN9j/zy3VIpLvnKZHWdBu1g5T8ZdszIprfGFYTI+khYGOgb75jMTNrLqLhcnLO1HiNNCIiTQA7NlI8LVbGtWYzM8tSWTMYm8tm1u7rknrmPBIzM7NKSinKesuXbG6j1gc4VdKnwLf8eI10u5xGZmZmBa8s3wFkIZtEun/OozAzM6tCs79GChARnwJIWo/lFzIwMzPLmebQI81m0fqDJX0ITANeJFnY4PEcx2VmZkZZHbZ8yebq7J+AnYEPImJDYG/glZxGZWZmRjK0m+2WL9kk0iXpurBFkooi4nmgW27DMjMzgzJlv+VLNpON5ktaA3gZGC5pLskC8GZmZjlV1gwmG2XTI30JaEtyX9IngI9I7sVpZmaWU83h7i/ZJFIBTwIvkCz+fl9D3wLMzMysKi1islFEXB4RWwNnAh2BFyU9k/PIzMys4JVKWW/5Upc1leYCs4EvgPVyE46ZmdmPGrpHKqm/pPclTZV0QQ3lekoqlVTr/auz+R7p6ZJeAJ4F2gGneHlAMzNrDA05a1dSMXAjyYp9WwHHSNqqmnJ/JrmsWatsZu1uAJwdEROyqdDMzKyhNPCs3V7A1Ij4GEDSvcBAYHKlcr8GHgSyumFLNksEVtv1NTMzy6UGno3bCZie8XwGsFNmAUmdgENJ7h2dVSLN331nzMzMalGXoV1JgySNy9gGVaququ5t5Vx9PXB+RJRmG2M2Q7uWB+1Wb5PvEBrd/B++zXcIjWq1jrvnO4RGt2jWy/kOodG1ardRvkNo1urytZaIGAoMraHIDKBLxvPOwKxKZXoA9yqZBdwOOEDS0oh4uLpKnUjNzKzJauCh3bHAppI2BGYCRwM/r/B6yZryAEgaBoyqKYmCE6mZmTVhDbmGbkQslXQWyWzcYuC2iJgk6bT0+JAVqdeJ1MzMmqyGXrEoIh4DHqu0r8oEGhEnZlOnE6mZmTVZpU1/zXonUjMza7ryuYZutpxIzcysyXIiNTMzq4d83h4tW06kZmbWZDXkrN1ccSI1M7Mmy0O7ZmZm9eBEamZmVg++RmpmZlYPvkZqZmZWDx7aNTMzqwcP7ZqZmdXD0maQSp1IzcysyWr6adSJ1MzMmjBfIzUzM6uH5jBrtyjfAVhu9dm7Ny+PfZRXxz/BWWefXGWZP/35Il4d/wTPvvIQ226/Zfn+Me88zXOvPMzTL/+XJ56/v3z/1ttuwain7ynf322HbXPejmztu++evP32c0yc+CLnnnt6lWX+9rfLmDjxRcaMeYJu3bYp3z9kyHV8+umbjBv31HLnnH76ibz99nO8+ebTXHXVhTmLvy7+PvgK3ps8mvFvPk33jHZk6tq1C6+OHsmUSaO5e/jNtGrVqtbz27RpzX33DmXiuy/y7jsvsPNOOwJw9/CbGTf2KcaNfYqpH7zOuLHLv09NzSVXD2aPA4/mkONOy3cotoLKiKy3fHEibSCSukl6TdIkSe9IOirj2DBJ0yRNSLdujRFTUVERV//1Eo49/FT23GkAhxx+AJttvnGFMn333YONNtqAXXfoz3m/vZRr/3ZpheOHDziRfXf/Gf37HFm+7w+X/w+D/3wT++7+M/5y9T/5wxX/0xjNqVVRURHXX/8nBg78Bd2778MRRxzMFltsWqHMfvv1YeONN2SbbfbkrLMu5IYbriw/duedDzBw4C+Wq3ePPXbhoIP2pWfP/uy4475cf/3QnLelNvv378umm2zIFlv15vTTz+fGf15TZblrrr6Y62+4hS237s1XXy3glycdU+v5fx98BU8++TzbbLsnO+y4L1Pe+xCAnx97Oj169qNHz3489NBjPPzwY1W+ZlNyyAH7MmTwlbUXtCYr6rDlixNpw/kOOCEitgb6A9dLaptx/LyI6JZuExojoO47bssnH3/GZ5/OYMmSJTzy4OPsd0DfCmX6H9CXB+59BIDx496hdZs1WW/9djXWGxGsseZPAGjdeg1ml8zNTQPqqGfPbnz00Sd88sl0lixZwgMPjOSgg/atUOagg/bl7rsfBGDMmLdo06Y17duvB8Arr4zhyy/nL1fvoEHH8de/3sTixYsB+PzzL3LbkCwMGLAfdw7/DwBvjBlPm7ZtytuRqc9eu/Hgg48C6QeFg/er8fw111yD3XvvxG3/vgeAJUuWsGDBwuXqPfzwAdx73yM5aVtD6tFtW9q0XjPfYVg9lNVhyxcn0gySukp6T9Ltaa/yP5JWl/SJpKvTHuc4STtIelLSR5JOA4iIDyLiw/TxLGAusG4+29O+w/rMnDm7/HnJrNm077BepTLrMatCmTl06LA+kCTMex+6lSdfeIDjfnFEeZk/Xngtf7ziPMZNfJY//uk8rrni+tw2JEsdO7ZnxoyS8uczZ5bQqVP7KsrMyigzm44d16+x3k022ZDdduvFSy89zFNP3ceOO27XsIGvgE4d2zNjekY7ZpTQqWPFtq6zzlrMn7+A0tJSAGbMLKFj+n5Ud/5GG23AvHlf8H+3/p2xY57kX0OuY/XVV6tQ7+69d2LO3M+ZOnVarppnVs5Du83T5sDQiNgOWAicke6fHhG7AC8Dw4DDgZ2BKypXIKkXsDLwUcbuq9Lk/HdJq1T1wpIGpYl63HeLv6p3Q6Tlr9JX/lWrskwkpQ7e71j67Xk4Pz/8VE485Rh23jW5VnbCr47m0ouvpcc2e3PpRX/mb//7p3rH2hCqaEp5W34sU317q7PSSiux1lpt2GOPQ7jooqu5666b6hVnQ8imHTWVqe7YSsXFdO++Lf/61x307LUf3377Hef//qwK5Y466hDuawa9UWsZPLTbPE2PiFfSx3cBvdPHI9J/3wXeiIivI+Jz4PvMIVxJHYA7gZMiYtlow4XAFkBPYG3g/KpeOCKGRkSPiOix+spr1bshJbNmV+iRdejYnjmVhmFLZs0p76UkZdZn9uykzJzZnwPwxbwveXzUs3TbIemJHXn0QB4d8TQAIx9+gu5NZLLRzJmz6dy5Q/nzTp06MGvWnEplSujcuWNGmfaU1DI0PXNmCQ8//AQA48a9TVlZGe3ard2AkWfn9NN+UT7ZZ1bJbDp3yWhH5w7MKqnY1nnzvqRt2zYUFxcD0LlTB0rS92PGzJIqz58xs4QZM0oYM/YtAP7730fp3u3Hn29xcTGHHrI/9z8wArPG4KHd5qnyB5tlz39I/y3LeLzs+UoAkloDjwKXRMTr5RVElETiB+DfQK9cBF7ZhPET2XDjDeiyQSdatWrFwMP258nHn69Q5snHn+OIowcCsEOP7fh64dfMnTOP1VZfjZ+ssToAq62+Gnv22ZX3pySTTubMnssuvXsC0HuPnZn28aeN0ZxajRv3NptssiEbbNCFVq1accQRA3j00acrlHn00Wf4+c8PA6BXr+4sXPh1+QeH6owc+RR77bUrkAzzrrxyK+bN+zI3jajBzUNuL5/sM2LEkxx/7OEA7NRrBxYuWFhlO1548VUOO+xAAI4//ghGjExm2o4a9VSV58+Z8zkzZsxis82SSWl9+/ZmypQPyuvbZ+/def/9qcycWYJZYyglst7yxd8jXd5PJe0SEa8BxwCjge61nSRpZeAh4I6IeKDSsQ4RUaJkPO0QYGLDh7280tJSLjrvKu558BaKi4u4966H+OC9qZxwUjKh+I5/38ezT73E3vvuwWtvPcGi777nnDMvBmDdddfhtuE3ALBS8Uo89J9Hef7Z0QCc+9tL+dO1F1K8UjE/fL+Y8357adUBNLLS0lLOOeePjBx5B8XFxdx++/1MmfIhJ598LAC33jqcJ554jv3268OkSS/x3XeLOPXUc8vPv/32G9h9911o124tpk59nT/96e/cfvt93H77/fzrX9cxbtxTLF68hJNPzv8s5ccef5b+/fvy/pRX+G7RIk4++Xflx0Y+cgeDTjuPkpI5XHjRVdx9101ccdnvmfD2pPJJRDWd/9tz/sAdt/8vK6/cimnTPuNXGceOPHJgs5hktMx5l17L2LfeYf78hex9yHGc8avjOWzAfvkOy+qgOSzIoNquDxUSSV2Bx4CXgF2BD4HjgclAj4iYJ+nE9PFZ6TmfAD1IZur+G5iUUeWJETFB0nMkE48ETABOi4hvaoqlQ9utCu4HM/+Hb/MdQqNaUro03yE0ukWzXs53CI2uVbuN8h1CPjTYMgq/6XpU1n8Lb/jkvrws3+Ae6fLKIqLyt7e7LnsQEcNIJhste77s2F3ptpyI6FvVfjMzq1lz6JE6kZqZWZOVz6+1ZMuJNENEfAJUvdaamZk1uqafRp1IzcysCXOP1MzMrB58jdTMzKwewj1SMzOzFeceqZmZWT3kc8WibDmRmplZk1XWDBYNciI1M7Mmq+mnUSdSMzNrwvz1FzMzs3rwrF0zM7N68KxdMzOzemgOQ7u+sbeZmTVZUYf/siGpv6T3JU2VdEEVx4+V9E66vSpp+9rqdI/UzMyarIYc2pVUDNwI7AvMAMZKGhERkzOKTQP2jIivJO0PDAV2qqleJ1IzM2uyomG/R9oLmBoRHwNIuhcYCJQn0oh4NaP860Dn2ir10K6ZmTVZZUTWm6RBksZlbIMqVdcJmJ7xfEa6rzq/Ah6vLUb3SJuoed8tyHcIjU5SvkNoVAsu2SvfITS61Trunu8QGt2iWS/nO4RG16rdRg1WV12WCIyIoSRDsdWp6o9MlS8gqQ9JIu1d2+s6kZqZWZPVwLN2ZwBdMp53BmZVLiRpO+BWYP+I+KK2Sj20a2ZmTVZEZL1lYSywqaQNJa0MHA2MyCwg6afAf4HjI+KDbCp1j9TMzJqshpy1GxFLJZ0FPAkUA7dFxCRJp6XHhwB/BNYBbkovNy2NiB411etEamZmTVZDLxEYEY8Bj1XaNyTj8cnAyXWp04nUzMyarOawspETqZmZNVkN/D3SnHAiNTOzJss9UjMzs3rwbdTMzMzqocxDu2ZmZiuuLisb5YsTqZmZNVm+RmpmZlYPnrVrZmZWD+6RmpmZ1YNn7ZqZmdWDh3bNzMzqwUO7ZmZm9eAeqZmZWT00hx6pb+zdAvTrtxcTJ77ElMmjOe+8M6ss8/fBVzBl8mjGv/k03bttU+u5a63Vlscfu4fJk0bz+GP30LZtGwB69ujGuLFPMW7sU7w57mkGDuxffs4zTz/AxIkvlR9fd911ctTiivr124uJ777I5MmjOe/cqts/ePAVTJ48mjfHPU23yu2v4dxzzjmVxT/MYJ111gJg77135/XXHmP8m8/w+muPsddeu+amUSuoeOPtWO2M61jtrL/RarcByx1vtcuBrDroalYddDWrnXYtq19yJ6z6kx8LSKx6ylWscvS5jRh19v4++Areq+L3OFPXrl14dfRIpkwazd3Db6ZVq1ZZnV9UVMTYMU/yyEO3l++7e/jN5b/PUz94nXFjn8pNwxrQJVcPZo8Dj+aQ407LdygNIurwX744keaIpFslbZXr1ykqKuKGf1zFgAHHsd32fTj6qEPYcstNK5Tp378vm2yyIVtu1ZvTTz+ff/7zmlrP/f3vz+S550ez1da9ee750fz+90mSmTjpPXbaeX969OzHgQcdy003/pni4uLy1/rFCWfRo2c/evTsx+eff5Hr5lNUVMQ//nElAw4+nu2378NRRw1kyy2qbv9WW/Xm9DPO55//e01W53bu3IG9996dTz+dUb7vi3lfcujPTmKHHffhV786h3/fdkPO25g1iZX3P5Hv7/4Li276PcVb74LadapQZMlrj/L90Iv4fuhFLH7uPso+nQLff1t+fKWd+hPzZjV25FnZv39fNt1kQ7ZIf49vTH+PK7vm6ou5/oZb2HLr3nz11QJ+edIxWZ3/m1+fzHvvfVhh38+PPb389/mhhx7j4Ycr3MaySTrkgH0ZMvjKfIfRYEqjLOstX5xI60GJKt/DiDg5IibnOoZePbvz0UefMG3aZyxZsoT77n+EAQP2q1Dm4AH7cdfw/wDwxpjxtGnbhvbt16vx3AED9uPOOx8A4M47H+Dgg5Oe56JF31NaWgrAqquukvfrFz17dqvQhvvvf4QBA/pVKDNgQD+G35W0f8yY8bRt25r27der9dy/XncZF114VYU2Tnh7EiUlcwCYNPl9Vl11FVZeeeVGaGntijptTNlXc4j5n0NZKaWTXmelzXestvxKW+/K0omvlT/Xmmuz0qbdWPLW840Rbp0NGLAfd1bxe1xZn71248EHHwWS392BB+9X6/mdOnXggP335rbb7qn29Q8/fAD33vdIg7YpF3p025Y2rdfMdxgNpiwi6y1fnEjrSFJXSVMk3QSMB/5P0jhJkyRdnlHuBUk90sffSLpK0tuSXpe0fkPF07FTe2bM+LEHMXNmCZ06tq9YpmN7ZkzPKDMjKVPTueuv147Zs+cCMHv2XNbLGKbt1bM7EyY8x1vjn+XMsy4oT6wAt946mHFjn+Kii85uqCbWqFPHDsyYXpLRhtl07NShQpmOHdszPaOdM2aW0LFj+xrPPeigfZk5azbvvDul2tf+2aEHMuHtiSxevLihmlMvWnNtYsGPowCx8Eu05lpVF15pZYo32Y6lU8aU71p5v+NZ/Mw90EQnd3Sq5vc40zrrrMX8+QvKfydnzCyhY6f2tZ4/+G+Xc8GFV1JWVnWvZvfeOzFn7udMnTqtQdtktfPQbsu1OXBHRHQH/iciegDbAXtK2q6K8j8BXo+I7YGXgFMaKhBJy+2r3Eusrkw251ZlzNi36NatL7vsegDn//4sVlllFQBO+MWv6b7DPuzV51B679aL4447PNtmrLAqmlCH9ld97mqrrcoF5/+Gyy//a7Wvu9WWm3HV1Rdy5pkX1DnmxlX1z7N4sx0onf5B+bBu8abdiW8XUFbySSPGVjf1+V2v6diBB+zD3LnzGP/Wu9W+9lFHHcJ9zaA32hK5R9pyfRoRr6ePj5Q0HngL2Bqo6rroYmBU+vhNoGtVlUoalPZux5WVfVtVkeXMnFFC584dy5936tSBWenQY3mZmSV07pJRpnNSpqZz58ydVz7s1b79esyt4nrne+9N5dtvF7HN1psDMGvWbAC++eZb7r33YXr26JZVG+pjxswSOnf5sQfaqVN7StI4lpk5s4QuGe3s3KkDJSVzqj1344260rVrF8aNfYoP3n+Nzp078MbrT7D++uum5TrwwAO38stfns3HH3+a4xZmL77+ErX5ceRArdcmvp5fZdmVttm5wrBuUZfNKN58R1b7zfWscthZFG+4FasccnquQ67V6af9onyyz6yS2VX+HmeaN+9L2rZtU37dvnOnDpTMSsrMqOb/g1137cGAg/ox9YPXGX7XTfTpsxu3D/vx2ndxcTGHHrI/9z8wIpdNtWq4R9pyfQsgaUPgXGDviNgOeBRYtYryS+LHj86lVPO1o4gYGhE9IqJHUdFPqiqynLHjJrDJJhvStWsXWrVqxVFHDmTUqIozC0eOeorjjk16hzv12oGFCxYye/bcGs8dNfIpjj/+CACOP/4IRo58EkhmRC77I/XTn3Zis8024pNPp1NcXFw+s3WllVbigAP3YdKk97NqQ32MG/d2hTYceeRARo16ukKZUaOe4ti0d9yr1w4sWPA1s2fPrfbciZPeo3OXbmy2+S5stvkuzJhRwk4792fOnM9p06Y1jzx8O5dcci2vvTYu5+2ri7KZH1O0dnvUdl0oKqZ4651Z+sGbyxdcZTWKN9iS0vd/PLbkuftYdP2vWXTD2fzw4D8pnTaZHx6+uRGjr9rNQ24vn+wzYsSTHF/F73FlL7z4KocddiCQ/O6OGJn+To96qsrzL77kWrpu1INNNtuZY487g+eff4VfnPib8vr22Xt33n9/KjNnliz3WpZ7zaFH6u+R1k9rkqS6IL3uuT/wQmMGUFpaym/PvoRHH72b4qIiht1+H5Mnf8CgU44HYOgtd/L448+yf/++vDflFRYtWsTJJ/+uxnMB/nLdjdxz9xBOOvEYpk+fydHHnArAbrv14rzzzmTpkqWUlZXx699cxBdffMXqq6/GY4/eTatWK1FUXMxzz77Mrf83vFHaf/bZf+DRUcMpKi7i9mH3MXnKB5xyynEA3HLLXTz++HP079+XKVNGs+i77zn5lN/VeG5Nzjj9RDbeuCsXXfRbLrrotwAccODPG2WGcq2ijMWPD2PVY88HFbF0wovE5zNZace9AVj65rMArLRFT0o/eheW/JDPaOvsscefpX//vrw/5RW+y/g9Bhj5yB0MOu08SkrmcOFFV3H3XTdxxWW/Z8Lbk7jt3/fUen5NjjxyYLOYZLTMeZdey9i33mH+/IXsfchxnPGr4zms0gTE5qQ5rLWrfM+6bG4kdQVGRcQ26fNhwE7Ax8APwIiIGCbpBeDciBgn6ZuIWCMtfzhwUEScWNPrtFq5U8H9YKq6htWSfXXxnvkOodG1ufKFfIfQ6BbNejnfITS6Vu02arD/mTdcZ/us/xZO++LtvPwRcY+0jiLiE2CbjOcnVlNur4zHa2Q8/g/wn5wFaGbWgjSHlY2cSM3MrMlqDqOmTqRmZtZkuUdqZmZWD6XVLJLRlDiRmplZk9UcZu06kZqZWZPla6RmZmb14GukZmZm9eAeqZmZWT3kc+m/bDmRmplZk+UeqZmZWT34GqmZmVk9uEdqZmZWD75GamZmVg+l0fRXNvKNvc3MrMmKiKy3bEjqL+l9SVMlXVDFcUm6IT3+jqQdaqvTidTMzJqsqMN/tZFUDNwI7A9sBRwjaatKxfYHNk23QcDNtdXrRGpmZk1WA/dIewFTI+LjiFgM3AsMrFRmIHBHJF4H2krqUFOlTqRmZtZk1SWRShokaVzGNqhSdZ2A6RnPZ6T76lqmAk82MjOzJqsuc3YjYigwtIYiyuIlsilTgRNpE7Vk8cyqfpg5J2lQ+stYMNzmxrP0j439ij8qtJ9zS2nv0ob9WzgD6JLxvDMwawXKVOChXaus8lBIIXCbC0OhtbnQ2puNscCmkjaUtDJwNDCiUpkRwAnp7N2dgQURUVJTpe6RmplZQYiIpZLOAp4EioHbImKSpNPS40OAx4ADgKnAd8BJtdXrRGpmZgUjIh4jSZaZ+4ZkPA7gzLrU6aFdq6zZX1NZAW5zYSi0Nhdae/NGzWFBYDMzs6bKPVIzM7N6cCI1MzOrBydSMzOzenAiNTMzqwcnUkPSZpKelTQxfb6dpEvyHVcuSOoi6V5JL0u6SFKrjGMP5zG0nEvXHj1T0lr5jiWXJG2X8biVpEskjZB0taTV8xlbrklaN/29HirptmVbvuNq6ZxIDeAW4EJgCUBEvEOy4kdLdBvwAvBroAPwoqR10mMb5CuoRnI00BEYm36Y2E9SXpaizLFhGY+vBTYB/gasBgyp6oQW5BGgDfAM8GjGZjnkBRkMYPWIGFPpb+rSfAWTY+tmfPn615KOA16SdDB1Wx+72YmIqcDFkv4AHETyoaIs7bH8IyK+zGuADSfzF3lvoGdELJH0EvB2nmJqLKtHxPn5DqLQOJEawDxJG5MmEkmHAzWuLdmMtZK0akR8DxARd0maTbJk2E/yG1rupcOeJ5EsgfYgMBzoDTwHdMtfZA2qjaRDSUbcVomIZSMtIalFf1gCRkk6IF29xxqJF2QwJG1EsgrKrsBXwDTg2Ij4NK+B5YCkc4DxEfFipf3dgb9ExL75iSz3JL0JzAf+D3gwIn7IOPbfiPhZvmJrSJL+XWnXBRExR1J7YHhE7J2PuBqDpK9JPhD+QHKpRiSfIVrnNbAWzom0wEkqBq6NiPMk/QQoioiv8x1Xvkm6MCKuyXccDUnSRhHxcaV9G0bEtHzFZNYSeLJRgYuIUmDH9PG3TqLljsh3ADnwnyz3NXuSWqeXKyrv366q8s2dpC3Sf3eoast3fC2dr5EawFuSRgAPAN8u2xkR/81fSHnXYmazpn9ktya5dpg5fNsaWDU/UeWOpCOB64G56debToyIsenhYUBLTCy/I7n/6N+qOBZA38YNp7A4kRrA2sAXVPyfLYBCTqQt6ZrH5iSzdNsCAzL2fw2cko+AcuwiYMeIKJHUC7hT0kXpB8MW8wEpU0QMSv/tk+9YCpETqRERtd64tgC1mD+4EfEI8IikXSLitXzH0wiKI6IEIP1aVx+S2aydaVkfkKokaRtgKzJGGyLijvxF1PI5kdqyWY7L/YGJiF/mIZym4oF8B9BQJP0+Iv4C/FzSMZWPR8Rv8hBWLn0taeOI+Agg7ZnuBTxMMsTdYkm6FNiLJJE+BuwPjAacSHPIidQARmU8XhU4FJiVp1gahaTNgJuB9SNim3QSysERcSVARFyd1wAb1pT033F5jaLxnE6lEYWI+FpSf+DI/ITUaA4HtgfeioiTJK0P3JrnmFo8f/3FliOpCHgmIlrsBAVJLwLnAf+KiO7pvokRsU1+I7OGJqk1GZ2GFrSC03IkjY2Inul3hvuQXAefGBEtuieeb+6RWlU2BX6a7yByrGCWRZQ0khquDUbEwY0YTqORdCpwBbCIH9sfwEZ5CyqH0nWT35HUlmT97DeBb4Ax+YyrEDiR2rLVUDL/0M4GWvp6nYW0LOJf039/BrQH7kqfHwN8ko+AGsm5wNYRMS/fgTSGdAnEbhExHxgi6QmgdXoTCsshD+1aQSqkZRGXkfRSROxR276WIk0kP4uI7/IdS2ORdCMwLON7s9YI3CM1JD1bef3Rqva1FOmyiKdHxD4FtiziupnLBEraEFg3zzHl0oXAq5LeIFl7FmiRs5Qz9QFOlfQpyeIqy9babZErOjUVTqQFTNKqwOpAu/Rmz8suGLYmuW9lixQRpZLKl0XMdzyN6BzgBUnL1tvtCpyav3By7l8kd7V5FyjLcyyNZf98B1CIPLRbwCT9FjibJGnO5MdEuhC4JSL+mafQck7S30gmVRXUsoiSVgG2SJ++l3kHmJZG0qsRsWu+47CWz4nUkPTriPjffMfRmKq41RYkQ2AtbhEKSX0j4rlK6+yWa6kfHiRdBXwKjKTi0G6L/fqL5YcTqQFeVqwlk3R5RFxaSB8eACRNo+oVu1rk118sf5xIrdplxSLi8HzGlUteFrHlk7QacAbQm+Rn/TIwJCIW5TUwa3E82cigMJcVK8RlEdsCJ5BMMspc6aelzmK9neR6/w3p82PSfS19mUBrZE6kBrAoIsokLU2XU5tLC139ZZmIeDDzuaR7gGfyFE5jeQx4ncKZxbp5RGyf8fx5SW/nLRprsZxIDWCclxUriGURV42I3+U7iEb0lqSdI+J1AEk7Aa/kOSZrgXyNtMCl63N2jojp6fOuFMCyYtUsi3hh5Z5qSyLpHJIPSaMogFmskqaQ3NT8s3TXT0nuhFOGFymwBuREakh6MyJ2zHcclluSzgSuAuaTsYh7S53FKmmDmo635OUgrXF5aNcAXpfUs5DW5yy0ZRFTvwM2KaBF3J0orVE4kRok63OeJukTWvj6nIW6LGJqElAwC7ibNRYnUoPCWp/zVH5cFvFNKi6LeGOeYmospcAESc9TOIu4m+Wcr5EaAJJ6A5tGxL8lrQusERHT8h1XrhTosoi/qGp/RNze2LGYtSROpLZsZaMeJN+720xSR+CBiNgtz6HllJdFNLOG4KFdg2RVn+7AeICImCVpzfyGlFvVLYsItNhE6rVnzXLDidQAFkdESAqA9GbXLV0hLovYI+PxqsARwNp5isWsxSjKdwDWJNwv6V9AW0mnkCyVd0ueY8q1RRFRBhTSsohfZGwzI+J6oG++4zJr7twjNSLir5L2JZm5uhnwx4h4Os9h5VrBLYsoaYeMp0UkPdQWPYRv1hg82cgAkNQe6EVyDW1sRMzOc0g5U8DLIj7Pj9dIlwKfAH+NiA/yFpRZC+BEakg6Gfgj8BzJ9yr3BK6IiNvyGlgOFeKyiOliFIdR8TZqERFX5C0osxbAQ7sGcB7QPSK+AJC0DvAq0GITKQW4LCLwMMk6u+OB7/MaiVkL4kRqADOArzOefw1Mz1MsjaVglkXM0Dki+uc7CLOWxonUAGYCb0h6hOQa2kBgjKTfAUTE4HwGlyOFtCziMq9K2jYi3s13IGYtiROpAXyUbss8kv7bYmd0RsSnVS2LmO+4ckHSuyQfkFYCTpL0Mclau4XQCzfLOU82soJUSMsi+r6cZrnlHqkhqQdwMbABGb8TLbynUjDLIjpRmuWWE6kBDCeZufsuUJbnWBpLIS6LaGY54ERqAJ9HxIh8B9HIKi+L+Eta/rKIZpYDvkZqSNobOAZ4loo3fP5v3oJqBOmyiP3Sp08VwLKIZpYD7pEawEnAFkArfhzaDaBFJ1KSoezVSNrqr4SY2Qpxj9SQ9G5EbJvvOBpTIS6LaGa54URqSLoF+HtETM53LI1F0vvArpWXRYyIzfMbmZk1Nx7aNYDewC8kTaNwvqhfiMsimlkOuEdq1X5hvyV//1DSHcC2JKs4lS+LCHwALXZZRDPLgaJ8B2D5lybMLkDf9PF3tPzfjY9I7oay7JPkI0AJybKILXJhBjPLDfdIraCWyzMza2i+RmpQQMvlLVOgyyKaWQ44kRoU5nJ5hbgsopnlgBOpQWEul1eIyyKaWQ44kRrAusB/gIXA5iQLFeyT14hy71JJt1JgyyKaWcPzZCND0viI2KHSvnda8vVCSXeRLIs4iYxlESPil/mLysyaI/dIC5ik04EzgI0kvZNxaE3glfxE1Wi2L7RlEc0sN9wjLWCS2gBrAdcAF2Qc+joivsxPVI2jEJdFNLPccCK1giRpCrAxUEjLIppZDjiRWkEqxGURzSw3WvoycGZVKtBlEc0sB9wjtYLkZRHNrKH4E7gVqkOBg4FvIVkWES9Wb2YrwInUCtXiSIZjCmlZRDPLASdSK1SVl0V8hpa/LKKZ5YAXZLBCVYjLIppZDniykRWkQlwW0cxywz1SKygFviyimeWAe6RWUAp5WUQzyw0nUjMzs3rwrF0zM7N6cCI1MzOrBydSMzOzenAiNTMzqwcnUjMzs3r4f/JoQ+Jigz8aAAAAAElFTkSuQmCC\n",
      "text/plain": [
       "<Figure size 432x288 with 2 Axes>"
      ]
     },
     "metadata": {
      "needs_background": "light"
     },
     "output_type": "display_data"
    }
   ],
   "source": [
    "%matplotlib inline\n",
    "corr_df=corr.set_index('variable')\n",
    "plt.title('Sensors Value Correlation')\n",
    "plt.tight_layout()\n",
    "sns.heatmap(corr_df,annot=True);"
   ]
  },
  {
   "cell_type": "markdown",
   "id": "cb2758d4-4918-45cc-a964-d70482665e55",
   "metadata": {},
   "source": [
    "### Split Data for training and testing"
   ]
  },
  {
   "cell_type": "code",
   "execution_count": 24,
   "id": "cf84fb1c-0f22-43ea-899a-030d14067570",
   "metadata": {
    "execution": {
<<<<<<< HEAD
     "iopub.execute_input": "2021-10-12T08:59:07.749077Z",
     "iopub.status.busy": "2021-10-12T08:59:07.748841Z",
     "iopub.status.idle": "2021-10-12T08:59:20.509377Z",
     "shell.execute_reply": "2021-10-12T08:59:20.508782Z",
     "shell.execute_reply.started": "2021-10-12T08:59:07.749049Z"
=======
     "iopub.execute_input": "2021-10-08T03:40:37.827949Z",
     "iopub.status.busy": "2021-10-08T03:40:37.827776Z",
     "iopub.status.idle": "2021-10-08T03:40:54.030959Z",
     "shell.execute_reply": "2021-10-08T03:40:54.030396Z",
     "shell.execute_reply.started": "2021-10-08T03:40:37.827930Z"
>>>>>>> master
    },
    "tags": []
   },
   "outputs": [
    {
     "name": "stdout",
     "output_type": "stream",
     "text": [
      " * postgresql://gpadmin@192.168.133.128:32000/db\n",
      "Done.\n",
      "Done.\n",
      "Done.\n",
      "1 rows affected.\n",
      "1 rows affected.\n"
     ]
    },
    {
     "data": {
      "text/html": [
       "<table>\n",
       "    <tr>\n",
       "        <th># In training set</th>\n",
       "    </tr>\n",
       "    <tr>\n",
       "        <td>140000</td>\n",
       "    </tr>\n",
       "</table>"
      ],
      "text/plain": [
       "[(140000,)]"
      ]
     },
     "execution_count": 24,
     "metadata": {},
     "output_type": "execute_result"
    }
   ],
   "source": [
    "%%sql\n",
    "DROP TABLE IF EXISTS sensors_split CASCADE;\n",
    "DROP TABLE IF EXISTS sensors_split_train CASCADE;\n",
    "DROP TABLE IF EXISTS sensors_split_test CASCADE;\n",
    "\n",
    "SELECT madlib.train_test_split(\n",
    "    'sensors_encoded', -- source_table,\n",
    "    'sensors_split', -- output_table,\n",
    "    0.7, -- train_proportion,\n",
    "    NULL, -- test_proportion,\n",
    "    NULL, -- grouping_cols,\n",
    "    'temperature,temperature_2,rain,humidity,pm25,\n",
    "    \"month_January\",\"month_February\",\"month_March\",\n",
    "    \"month_April\",\"month_May\",\"month_June\",\"month_July\",\n",
    "    \"month_August\",\"month_September\",\"month_October\",\n",
    "    \"month_November\",\"month_December\"', -- target_cols\n",
    "    FALSE, -- with_replacement,\n",
    "    TRUE -- separate_output_tables\n",
    ");\n",
    "\n",
    "SELECT COUNT(*) as \"# In training set\" FROM sensors_split_train;"
   ]
  },
  {
   "cell_type": "code",
   "execution_count": 25,
   "id": "814ef9bd-7352-4c4c-9323-5de28c4c6108",
   "metadata": {
    "execution": {
<<<<<<< HEAD
     "iopub.execute_input": "2021-10-12T08:59:22.397742Z",
     "iopub.status.busy": "2021-10-12T08:59:22.397487Z",
     "iopub.status.idle": "2021-10-12T08:59:22.409514Z",
     "shell.execute_reply": "2021-10-12T08:59:22.408873Z",
     "shell.execute_reply.started": "2021-10-12T08:59:22.397711Z"
=======
     "iopub.execute_input": "2021-10-08T03:40:54.032123Z",
     "iopub.status.busy": "2021-10-08T03:40:54.031863Z",
     "iopub.status.idle": "2021-10-08T03:40:54.042471Z",
     "shell.execute_reply": "2021-10-08T03:40:54.041858Z",
     "shell.execute_reply.started": "2021-10-08T03:40:54.032097Z"
>>>>>>> master
    },
    "tags": []
   },
   "outputs": [
    {
     "name": "stdout",
     "output_type": "stream",
     "text": [
      " * postgresql://gpadmin@192.168.133.128:32000/db\n",
      "5 rows affected.\n"
     ]
    },
    {
     "data": {
      "text/html": [
       "<table>\n",
       "    <tr>\n",
       "        <th>temperature</th>\n",
       "        <th>temperature_2</th>\n",
       "        <th>rain</th>\n",
       "        <th>humidity</th>\n",
       "        <th>pm25</th>\n",
       "        <th>month_January</th>\n",
       "        <th>month_February</th>\n",
       "        <th>month_March</th>\n",
       "        <th>month_April</th>\n",
       "        <th>month_May</th>\n",
       "        <th>month_June</th>\n",
       "        <th>month_July</th>\n",
       "        <th>month_August</th>\n",
       "        <th>month_September</th>\n",
       "        <th>month_October</th>\n",
       "        <th>month_November</th>\n",
       "        <th>month_December</th>\n",
       "    </tr>\n",
       "    <tr>\n",
<<<<<<< HEAD
       "        <td>30.0097374593461</td>\n",
       "        <td>42.451921338351</td>\n",
=======
       "        <td>30.033164552194</td>\n",
       "        <td>45.6160350393891</td>\n",
       "        <td>1</td>\n",
       "        <td>62.7237592031563</td>\n",
       "        <td>76.4056063056542</td>\n",
>>>>>>> master
       "        <td>0</td>\n",
       "        <td>53.6918220454951</td>\n",
       "        <td>110.461932371327</td>\n",
       "        <td>0</td>\n",
       "        <td>0</td>\n",
       "        <td>0</td>\n",
       "        <td>0</td>\n",
       "        <td>1</td>\n",
       "        <td>0</td>\n",
       "        <td>0</td>\n",
       "        <td>0</td>\n",
       "        <td>0</td>\n",
       "        <td>1</td>\n",
       "        <td>0</td>\n",
       "        <td>0</td>\n",
       "        <td>0</td>\n",
       "    </tr>\n",
       "    <tr>\n",
<<<<<<< HEAD
       "        <td>30.0149708684811</td>\n",
       "        <td>45.5521488110871</td>\n",
       "        <td>0</td>\n",
       "        <td>39.4600148125864</td>\n",
       "        <td>86.5897941429402</td>\n",
=======
       "        <td>30.0333834802469</td>\n",
       "        <td>45.1599830306848</td>\n",
       "        <td>0</td>\n",
       "        <td>55.236497558661</td>\n",
       "        <td>69.5186903575826</td>\n",
>>>>>>> master
       "        <td>0</td>\n",
       "        <td>0</td>\n",
       "        <td>1</td>\n",
       "        <td>0</td>\n",
       "        <td>1</td>\n",
       "        <td>0</td>\n",
       "        <td>0</td>\n",
       "        <td>0</td>\n",
       "        <td>0</td>\n",
       "        <td>0</td>\n",
       "        <td>0</td>\n",
       "        <td>0</td>\n",
       "        <td>0</td>\n",
       "    </tr>\n",
       "    <tr>\n",
<<<<<<< HEAD
       "        <td>30.017818165039</td>\n",
       "        <td>39.7309471163906</td>\n",
       "        <td>0</td>\n",
       "        <td>53.9647456523651</td>\n",
       "        <td>86.8401703878251</td>\n",
=======
       "        <td>30.0388041633031</td>\n",
       "        <td>48.5560429158007</td>\n",
>>>>>>> master
       "        <td>0</td>\n",
       "        <td>52.5095497492418</td>\n",
       "        <td>110.652823406246</td>\n",
       "        <td>0</td>\n",
       "        <td>1</td>\n",
       "        <td>0</td>\n",
       "        <td>0</td>\n",
       "        <td>0</td>\n",
       "        <td>0</td>\n",
       "        <td>0</td>\n",
       "        <td>0</td>\n",
       "        <td>0</td>\n",
       "        <td>0</td>\n",
       "        <td>0</td>\n",
       "        <td>0</td>\n",
       "    </tr>\n",
       "    <tr>\n",
<<<<<<< HEAD
       "        <td>30.0317482500632</td>\n",
       "        <td>46.2786251489257</td>\n",
       "        <td>1</td>\n",
       "        <td>72.8085310835028</td>\n",
       "        <td>110.479275855095</td>\n",
=======
       "        <td>30.0459403418386</td>\n",
       "        <td>44.3392456449925</td>\n",
       "        <td>1</td>\n",
       "        <td>72.7624441802775</td>\n",
       "        <td>79.6867103164111</td>\n",
>>>>>>> master
       "        <td>0</td>\n",
       "        <td>0</td>\n",
       "        <td>0</td>\n",
       "        <td>1</td>\n",
       "        <td>0</td>\n",
       "        <td>0</td>\n",
       "        <td>0</td>\n",
       "        <td>0</td>\n",
       "        <td>0</td>\n",
       "        <td>0</td>\n",
       "        <td>1</td>\n",
       "        <td>0</td>\n",
       "        <td>0</td>\n",
       "    </tr>\n",
       "    <tr>\n",
<<<<<<< HEAD
       "        <td>30.0349013506358</td>\n",
       "        <td>42.3426351706451</td>\n",
       "        <td>1</td>\n",
       "        <td>60.7964213381682</td>\n",
       "        <td>81.2298876556468</td>\n",
=======
       "        <td>30.0530231305945</td>\n",
       "        <td>46.6456913297319</td>\n",
>>>>>>> master
       "        <td>0</td>\n",
       "        <td>59.4902580008936</td>\n",
       "        <td>137.475802029637</td>\n",
       "        <td>0</td>\n",
       "        <td>0</td>\n",
       "        <td>1</td>\n",
<<<<<<< HEAD
=======
       "        <td>0</td>\n",
>>>>>>> master
       "        <td>0</td>\n",
       "        <td>0</td>\n",
       "        <td>0</td>\n",
       "        <td>0</td>\n",
       "        <td>0</td>\n",
       "        <td>0</td>\n",
       "        <td>0</td>\n",
       "        <td>0</td>\n",
       "    </tr>\n",
       "</table>"
      ],
      "text/plain": [
<<<<<<< HEAD
       "[(30.0097374593461, 42.451921338351, 0, 53.6918220454951, 110.461932371327, 0, 0, 0, 0, 1, 0, 0, 0, 0, 0, 0, 0),\n",
       " (30.0149708684811, 45.5521488110871, 0, 39.4600148125864, 86.5897941429402, 0, 0, 0, 1, 0, 0, 0, 0, 0, 0, 0, 0),\n",
       " (30.017818165039, 39.7309471163906, 0, 53.9647456523651, 86.8401703878251, 0, 0, 1, 0, 0, 0, 0, 0, 0, 0, 0, 0),\n",
       " (30.0317482500632, 46.2786251489257, 1, 72.8085310835028, 110.479275855095, 0, 0, 0, 0, 0, 0, 0, 0, 0, 1, 0, 0),\n",
       " (30.0349013506358, 42.3426351706451, 1, 60.7964213381682, 81.2298876556468, 0, 0, 0, 1, 0, 0, 0, 0, 0, 0, 0, 0)]"
=======
       "[(30.033164552194, 45.6160350393891, 1, 62.7237592031563, 76.4056063056542, 0, 0, 0, 0, 0, 0, 0, 0, 1, 0, 0, 0),\n",
       " (30.0333834802469, 45.1599830306848, 0, 55.236497558661, 69.5186903575826, 0, 0, 1, 0, 0, 0, 0, 0, 0, 0, 0, 0),\n",
       " (30.0388041633031, 48.5560429158007, 0, 52.5095497492418, 110.652823406246, 0, 0, 0, 0, 0, 1, 0, 0, 0, 0, 0, 0),\n",
       " (30.0459403418386, 44.3392456449925, 1, 72.7624441802775, 79.6867103164111, 0, 0, 0, 1, 0, 0, 0, 0, 0, 0, 0, 0),\n",
       " (30.0530231305945, 46.6456913297319, 0, 59.4902580008936, 137.475802029637, 0, 0, 1, 0, 0, 0, 0, 0, 0, 0, 0, 0)]"
>>>>>>> master
      ]
     },
     "execution_count": 25,
     "metadata": {},
     "output_type": "execute_result"
    }
   ],
   "source": [
    "%%sql\n",
    "SELECT * FROM sensors_split_train LIMIT 5;"
   ]
  },
  {
   "cell_type": "code",
   "execution_count": 26,
   "id": "5182b728-3fce-45d6-8b20-44e5626422be",
   "metadata": {
    "execution": {
<<<<<<< HEAD
     "iopub.execute_input": "2021-10-12T08:59:23.975014Z",
     "iopub.status.busy": "2021-10-12T08:59:23.974697Z",
     "iopub.status.idle": "2021-10-12T08:59:23.998416Z",
     "shell.execute_reply": "2021-10-12T08:59:23.997750Z",
     "shell.execute_reply.started": "2021-10-12T08:59:23.974983Z"
=======
     "iopub.execute_input": "2021-10-08T03:40:54.048862Z",
     "iopub.status.busy": "2021-10-08T03:40:54.048619Z",
     "iopub.status.idle": "2021-10-08T03:40:54.123209Z",
     "shell.execute_reply": "2021-10-08T03:40:54.122467Z",
     "shell.execute_reply.started": "2021-10-08T03:40:54.048839Z"
>>>>>>> master
    },
    "tags": []
   },
   "outputs": [
    {
     "name": "stdout",
     "output_type": "stream",
     "text": [
      " * postgresql://gpadmin@192.168.133.128:32000/db\n",
      "1 rows affected.\n",
      " * postgresql://gpadmin@192.168.133.128:32000/db\n",
      "1 rows affected.\n",
      "\n",
<<<<<<< HEAD
      "Total rain in training set 35410\n",
      "Total rain in testing set 15205\n"
=======
      "Total rain in training set 35427\n",
      "Total rain in testing set 15188\n"
>>>>>>> master
     ]
    }
   ],
   "source": [
    "train_rain = %sql SELECT COUNT(*) FROM sensors_split_train WHERE rain = 1;\n",
    "test_rain = %sql SELECT COUNT(*) FROM sensors_split_test WHERE rain = 1;\n",
    "\n",
    "print(\"\\nTotal rain in training set {}\".format(train_rain[0][0]))\n",
    "print(\"Total rain in testing set {}\".format(test_rain[0][0]))"
   ]
  },
  {
   "cell_type": "code",
   "execution_count": 27,
   "id": "47cef1f8-6dda-45a5-aa1e-916744a8075e",
   "metadata": {
    "execution": {
<<<<<<< HEAD
     "iopub.execute_input": "2021-10-12T08:59:26.020972Z",
     "iopub.status.busy": "2021-10-12T08:59:26.020783Z",
     "iopub.status.idle": "2021-10-12T08:59:26.183552Z",
     "shell.execute_reply": "2021-10-12T08:59:26.182775Z",
     "shell.execute_reply.started": "2021-10-12T08:59:26.020949Z"
=======
     "iopub.execute_input": "2021-10-08T03:40:54.126502Z",
     "iopub.status.busy": "2021-10-08T03:40:54.126218Z",
     "iopub.status.idle": "2021-10-08T03:40:54.322899Z",
     "shell.execute_reply": "2021-10-08T03:40:54.322382Z",
     "shell.execute_reply.started": "2021-10-08T03:40:54.126477Z"
>>>>>>> master
    },
    "tags": []
   },
   "outputs": [
    {
     "data": {
<<<<<<< HEAD
      "image/png": "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\n",
=======
      "image/png": "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\n",
>>>>>>> master
      "text/plain": [
       "<Figure size 792x432 with 2 Axes>"
      ]
     },
     "metadata": {},
     "output_type": "display_data"
    }
   ],
   "source": [
    "train_data=[train_rain[0][0],int((200000*0.7)-train_rain[0][0])]\n",
    "test_data=[test_rain[0][0],int((200000*0.3)-test_rain[0][0])]\n",
    "\n",
    "labels = ['rain','not_rain']\n",
    "\n",
    "f, (ax1, ax2) = plt.subplots(1, 2,figsize=(11,6))\n",
    "f.patch.set_facecolor('white')\n",
    "ax1.title.set_text('Training Set')\n",
    "ax2.title.set_text('Testing Set')\n",
    "f.suptitle(\"Rain Train/Test Distribution\",fontsize=15)\n",
    "ax1.pie(train_data,labels=labels,autopct=\"%.1f%%\",radius=1.2,textprops={'fontsize': 15,},explode = [0.1, 0],startangle = -30);\n",
    "ax2.pie(test_data,labels=labels,autopct=\"%.1f%%\",radius=1.2,textprops={'fontsize': 15},explode = [0.1, 0], startangle = -30);\n",
    "plt.tight_layout()"
   ]
  },
  {
   "cell_type": "markdown",
   "id": "0b672e9d-0cf5-4e27-9fb9-c1a8371f2b0a",
   "metadata": {},
   "source": [
    "## Logistic Regresion ( Classification model )"
   ]
  },
  {
   "cell_type": "code",
   "execution_count": 28,
   "id": "a6312323-db88-4451-b4a4-d4554fecfd54",
   "metadata": {
    "execution": {
<<<<<<< HEAD
     "iopub.execute_input": "2021-10-12T08:59:28.133113Z",
     "iopub.status.busy": "2021-10-12T08:59:28.132874Z",
     "iopub.status.idle": "2021-10-12T08:59:44.591601Z",
     "shell.execute_reply": "2021-10-12T08:59:44.590871Z",
     "shell.execute_reply.started": "2021-10-12T08:59:28.133084Z"
=======
     "iopub.execute_input": "2021-10-08T03:40:54.324405Z",
     "iopub.status.busy": "2021-10-08T03:40:54.324117Z",
     "iopub.status.idle": "2021-10-08T03:41:10.831417Z",
     "shell.execute_reply": "2021-10-08T03:41:10.830787Z",
     "shell.execute_reply.started": "2021-10-08T03:40:54.324385Z"
>>>>>>> master
    },
    "tags": []
   },
   "outputs": [
    {
     "name": "stdout",
     "output_type": "stream",
     "text": [
      " * postgresql://gpadmin@192.168.133.128:32000/db\n",
      "Done.\n",
      "Done.\n",
      "1 rows affected.\n",
      "1 rows affected.\n"
     ]
    },
    {
     "data": {
      "text/html": [
       "<table>\n",
       "    <tr>\n",
       "        <th>method</th>\n",
       "        <th>source_table</th>\n",
       "        <th>out_table</th>\n",
       "        <th>dependent_varname</th>\n",
       "        <th>independent_varname</th>\n",
       "        <th>optimizer_params</th>\n",
       "        <th>num_all_groups</th>\n",
       "        <th>num_failed_groups</th>\n",
       "        <th>num_rows_processed</th>\n",
       "        <th>num_missing_rows_skipped</th>\n",
       "        <th>grouping_col</th>\n",
       "    </tr>\n",
       "    <tr>\n",
       "        <td>logregr</td>\n",
       "        <td>sensors_split_train</td>\n",
       "        <td>sensors_logreg_model</td>\n",
       "        <td>rain</td>\n",
       "        <td>ARRAY[<br>            1,<br>            temperature,<br>            temperature_2,<br>            humidity,pm25,<br>            &quot;month_January&quot;,&quot;month_February&quot;,&quot;month_March&quot;,<br>            &quot;month_April&quot;,&quot;month_May&quot;,&quot;month_June&quot;,<br>            &quot;month_July&quot;,&quot;month_August&quot;,&quot;month_September&quot;,<br>            &quot;month_October&quot;,&quot;month_November&quot;,&quot;month_December&quot;]</td>\n",
       "        <td>optimizer=irls, max_iter=20, tolerance=0.0001</td>\n",
       "        <td>1</td>\n",
       "        <td>0</td>\n",
       "        <td>140000</td>\n",
       "        <td>0</td>\n",
       "        <td>None</td>\n",
       "    </tr>\n",
       "</table>"
      ],
      "text/plain": [
       "[('logregr', 'sensors_split_train', 'sensors_logreg_model', 'rain', 'ARRAY[\\n            1,\\n            temperature,\\n            temperature_2,\\n            humidity,pm25,\\n            \"month_January\",\"month_February ... (44 characters truncated) ... \"month_May\",\"month_June\",\\n            \"month_July\",\"month_August\",\"month_September\",\\n            \"month_October\",\"month_November\",\"month_December\"]', 'optimizer=irls, max_iter=20, tolerance=0.0001', 1, 0, 140000, 0, None)]"
      ]
     },
     "execution_count": 28,
     "metadata": {},
     "output_type": "execute_result"
    }
   ],
   "source": [
    "%%sql\n",
    "DROP TABLE IF EXISTS sensors_logreg_model;\n",
    "DROP TABLE IF EXISTS sensors_logreg_model_summary;\n",
    "\n",
    "SELECT\n",
    "    madlib.logregr_train(        -- Train the Logistic Regression Model\n",
    "        'sensors_split_train',   -- source_table,\n",
    "        'sensors_logreg_model',  -- out_table,\n",
    "        'rain',                  -- labels,\n",
    "        'ARRAY[\n",
    "            1,\n",
    "            temperature,\n",
    "            temperature_2,\n",
    "            humidity,pm25,\n",
    "            \"month_January\",\"month_February\",\"month_March\",\n",
    "            \"month_April\",\"month_May\",\"month_June\",\n",
    "            \"month_July\",\"month_August\",\"month_September\",\n",
    "            \"month_October\",\"month_November\",\"month_December\"]'       -- feature\n",
    "        --, -- grouping_cols,\n",
    "        --, -- max_iter,\n",
    "        --, -- optimizer,\n",
    "        --, -- tolerance,\n",
    "        -- verbose\n",
    "    )\n",
    ";\n",
    "SELECT * FROM sensors_logreg_model_summary ;           --- Get the summary table"
   ]
  },
  {
   "cell_type": "code",
   "execution_count": 29,
   "id": "1ec1bd8c-503a-441d-b57b-5214db53c726",
   "metadata": {
    "execution": {
<<<<<<< HEAD
     "iopub.execute_input": "2021-10-12T08:59:47.396764Z",
     "iopub.status.busy": "2021-10-12T08:59:47.396550Z",
     "iopub.status.idle": "2021-10-12T08:59:47.407649Z",
     "shell.execute_reply": "2021-10-12T08:59:47.406977Z",
     "shell.execute_reply.started": "2021-10-12T08:59:47.396739Z"
=======
     "iopub.execute_input": "2021-10-08T03:41:10.832661Z",
     "iopub.status.busy": "2021-10-08T03:41:10.832475Z",
     "iopub.status.idle": "2021-10-08T03:41:10.846057Z",
     "shell.execute_reply": "2021-10-08T03:41:10.845365Z",
     "shell.execute_reply.started": "2021-10-08T03:41:10.832640Z"
>>>>>>> master
    },
    "tags": []
   },
   "outputs": [
    {
     "name": "stdout",
     "output_type": "stream",
     "text": [
      " * postgresql://gpadmin@192.168.133.128:32000/db\n",
      "1 rows affected.\n"
     ]
    }
   ],
   "source": [
    "logreg_coefs = %sql SELECT coef FROM sensors_logreg_model ;\n",
    "logreg_coefs = logreg_coefs.DataFrame();"
   ]
  },
  {
   "cell_type": "code",
   "execution_count": 30,
   "id": "06d96b9e-456a-4c1d-8b53-f734989e797d",
   "metadata": {
    "execution": {
<<<<<<< HEAD
     "iopub.execute_input": "2021-10-12T08:59:50.336305Z",
     "iopub.status.busy": "2021-10-12T08:59:50.336062Z",
     "iopub.status.idle": "2021-10-12T08:59:50.343590Z",
     "shell.execute_reply": "2021-10-12T08:59:50.342812Z",
     "shell.execute_reply.started": "2021-10-12T08:59:50.336275Z"
=======
     "iopub.execute_input": "2021-10-08T03:41:10.847308Z",
     "iopub.status.busy": "2021-10-08T03:41:10.847117Z",
     "iopub.status.idle": "2021-10-08T03:41:10.853007Z",
     "shell.execute_reply": "2021-10-08T03:41:10.852468Z",
     "shell.execute_reply.started": "2021-10-08T03:41:10.847287Z"
>>>>>>> master
    },
    "tags": []
   },
   "outputs": [
    {
     "data": {
      "text/plain": [
<<<<<<< HEAD
       "(('intercept', -16075.0591206592),\n",
       " ('temperature', -0.344729577895151),\n",
       " ('temperature_2', -0.00474881245262014),\n",
       " ('humidity', 290.445741260205),\n",
       " ('pm25', -0.00888897901078063),\n",
       " ('month_January', -1340.126727924),\n",
       " ('month_February', -1339.68178401617),\n",
       " ('month_March', -1339.33654816598),\n",
       " ('month_April', -1340.0340708373),\n",
       " ('month_May', -1337.93096105308),\n",
       " ('month_June', -1338.23235153329),\n",
       " ('month_July', -1340.64500890924),\n",
       " ('month_August', -1339.09241403238),\n",
       " ('month_September', -1340.09713719195),\n",
       " ('month_October', -1339.36135706769),\n",
       " ('month_November', -1339.51507907262),\n",
       " ('month_December', -1341.00567159217))"
=======
       "(('intercept', -16075.9105295986),\n",
       " ('temperature', -0.10930465179934),\n",
       " ('temperature_2', 0.00127919201710817),\n",
       " ('humidity', 290.32275563977),\n",
       " ('pm25', -0.00590936236879369),\n",
       " ('month_January', -1340.35839222718),\n",
       " ('month_February', -1340.63163154938),\n",
       " ('month_March', -1339.57082807307),\n",
       " ('month_April', -1339.60439462239),\n",
       " ('month_May', -1338.9969751553),\n",
       " ('month_June', -1337.38636296079),\n",
       " ('month_July', -1340.9269373098),\n",
       " ('month_August', -1338.75435578225),\n",
       " ('month_September', -1340.19312739337),\n",
       " ('month_October', -1339.47423881602),\n",
       " ('month_November', -1338.95108869648),\n",
       " ('month_December', -1341.0621218705))"
>>>>>>> master
      ]
     },
     "execution_count": 30,
     "metadata": {},
     "output_type": "execute_result"
    }
   ],
   "source": [
    "logreg_coef_names = (\n",
    "    'intercept',\n",
    "    'temperature',\n",
    "    'temperature_2',\n",
    "    'humidity',\n",
    "    'pm25',\n",
    "    \"month_January\",\"month_February\",\"month_March\",\n",
    "    \"month_April\",\"month_May\",\"month_June\",\"month_July\",\n",
    "    \"month_August\",\"month_September\",\"month_October\",\n",
    "    \"month_November\",\"month_December\"\n",
    ")\n",
    "tuple(zip(logreg_coef_names, logreg_coefs.iloc[0, 0]))"
   ]
  },
  {
   "cell_type": "code",
   "execution_count": 31,
   "id": "6bbcab2d-5ba8-4240-ae5d-1658c30f30ae",
   "metadata": {
    "execution": {
<<<<<<< HEAD
     "iopub.execute_input": "2021-10-12T08:59:54.354058Z",
     "iopub.status.busy": "2021-10-12T08:59:54.353830Z",
     "iopub.status.idle": "2021-10-12T08:59:54.985572Z",
     "shell.execute_reply": "2021-10-12T08:59:54.985005Z",
     "shell.execute_reply.started": "2021-10-12T08:59:54.354031Z"
=======
     "iopub.execute_input": "2021-10-08T03:41:10.854242Z",
     "iopub.status.busy": "2021-10-08T03:41:10.854059Z",
     "iopub.status.idle": "2021-10-08T03:41:11.529958Z",
     "shell.execute_reply": "2021-10-08T03:41:11.529325Z",
     "shell.execute_reply.started": "2021-10-08T03:41:10.854221Z"
>>>>>>> master
    },
    "tags": []
   },
   "outputs": [
    {
     "name": "stdout",
     "output_type": "stream",
     "text": [
      " * postgresql://gpadmin@192.168.133.128:32000/db\n",
      "Done.\n",
      "60000 rows affected.\n",
      "10 rows affected.\n"
     ]
    },
    {
     "data": {
      "text/html": [
       "<table>\n",
       "    <tr>\n",
       "        <th>pred</th>\n",
       "        <th>y_test</th>\n",
       "    </tr>\n",
       "    <tr>\n",
       "        <td>0.0</td>\n",
       "        <td>0</td>\n",
       "    </tr>\n",
       "    <tr>\n",
       "        <td>1.0</td>\n",
       "        <td>1</td>\n",
       "    </tr>\n",
       "    <tr>\n",
       "        <td>1.0</td>\n",
       "        <td>1</td>\n",
       "    </tr>\n",
       "    <tr>\n",
       "        <td>1.0</td>\n",
       "        <td>1</td>\n",
       "    </tr>\n",
       "    <tr>\n",
       "        <td>0.0</td>\n",
       "        <td>0</td>\n",
       "    </tr>\n",
       "    <tr>\n",
       "        <td>6.53264157694901e-278</td>\n",
       "        <td>0</td>\n",
       "    </tr>\n",
       "    <tr>\n",
       "        <td>6.32688001041926e-142</td>\n",
       "        <td>0</td>\n",
       "    </tr>\n",
       "    <tr>\n",
       "        <td>0.921474248867159</td>\n",
       "        <td>1</td>\n",
       "    </tr>\n",
       "    <tr>\n",
       "        <td>0.0</td>\n",
       "        <td>0</td>\n",
       "    </tr>\n",
       "    <tr>\n",
       "        <td>0.0</td>\n",
       "        <td>0</td>\n",
       "    </tr>\n",
       "</table>"
      ],
      "text/plain": [
       "[(0.0, 0),\n",
       " (1.0, 1),\n",
<<<<<<< HEAD
       " (0.0, 0),\n",
       " (0.0, 0),\n",
       " (0.0, 0),\n",
       " (6.53264157694901e-278, 0),\n",
=======
       " (1.0, 1),\n",
       " (1.0, 1),\n",
>>>>>>> master
       " (0.0, 0),\n",
       " (0.0, 0),\n",
       " (6.32688001041926e-142, 0),\n",
       " (0.921474248867159, 1),\n",
       " (0.0, 0),\n",
       " (0.0, 0)]"
      ]
     },
     "execution_count": 31,
     "metadata": {},
     "output_type": "execute_result"
    }
   ],
   "source": [
    "%%sql\n",
    "DROP TABLE IF EXISTS sensors_logreg_test_prob;\n",
    "CREATE TABLE sensors_logreg_test_prob\n",
    "AS\n",
    "SELECT madlib.logregr_predict_prob(   --- Use the logistic regression model to estimate probability of mature\n",
    "        coef, \n",
    "        ARRAY[\n",
    "            1,\n",
    "            temperature,\n",
    "            temperature_2,\n",
    "            humidity,\n",
    "            pm25,\n",
    "            \"month_January\",\"month_February\",\"month_March\",\n",
    "            \"month_April\",\"month_May\",\"month_June\",\"month_July\",\n",
    "            \"month_August\",\"month_September\",\"month_October\",\n",
    "            \"month_November\",\"month_December\"]                   \n",
    "    ) as pred,\n",
    "    test.rain as y_test\n",
    "FROM sensors_split_test test, sensors_logreg_model model;\n",
    "\n",
    "SELECT * FROM sensors_logreg_test_prob LIMIT 10;"
   ]
  },
  {
   "cell_type": "markdown",
   "id": "45298048-c0fb-428e-a3cc-8141472c943e",
   "metadata": {},
   "source": [
    "### Confusion Matrix"
   ]
  },
  {
   "cell_type": "code",
   "execution_count": 32,
   "id": "ee07e4d4-fefc-4127-93cf-304ad1e596f5",
   "metadata": {
    "execution": {
<<<<<<< HEAD
     "iopub.execute_input": "2021-10-12T09:00:05.750382Z",
     "iopub.status.busy": "2021-10-12T09:00:05.750143Z",
     "iopub.status.idle": "2021-10-12T09:00:06.004746Z",
     "shell.execute_reply": "2021-10-12T09:00:06.004079Z",
     "shell.execute_reply.started": "2021-10-12T09:00:05.750351Z"
=======
     "iopub.execute_input": "2021-10-08T03:41:11.531330Z",
     "iopub.status.busy": "2021-10-08T03:41:11.531114Z",
     "iopub.status.idle": "2021-10-08T03:41:11.820832Z",
     "shell.execute_reply": "2021-10-08T03:41:11.820123Z",
     "shell.execute_reply.started": "2021-10-08T03:41:11.531306Z"
>>>>>>> master
    },
    "tags": []
   },
   "outputs": [
    {
     "name": "stdout",
     "output_type": "stream",
     "text": [
      " * postgresql://gpadmin@192.168.133.128:32000/db\n",
      "Done.\n",
      "60000 rows affected.\n",
      "10 rows affected.\n"
     ]
    },
    {
     "data": {
      "text/html": [
       "<table>\n",
       "    <tr>\n",
       "        <th>pred</th>\n",
       "        <th>y_test</th>\n",
       "    </tr>\n",
       "    <tr>\n",
       "        <td>0</td>\n",
       "        <td>0</td>\n",
       "    </tr>\n",
       "    <tr>\n",
       "        <td>1</td>\n",
       "        <td>1</td>\n",
       "    </tr>\n",
       "    <tr>\n",
       "        <td>0</td>\n",
       "        <td>0</td>\n",
       "    </tr>\n",
       "    <tr>\n",
       "        <td>0</td>\n",
       "        <td>0</td>\n",
       "    </tr>\n",
       "    <tr>\n",
       "        <td>1</td>\n",
       "        <td>1</td>\n",
       "    </tr>\n",
       "    <tr>\n",
       "        <td>0</td>\n",
       "        <td>0</td>\n",
       "    </tr>\n",
       "    <tr>\n",
       "        <td>0</td>\n",
       "        <td>0</td>\n",
       "    </tr>\n",
       "    <tr>\n",
       "        <td>0</td>\n",
       "        <td>0</td>\n",
       "    </tr>\n",
       "    <tr>\n",
       "        <td>0</td>\n",
       "        <td>0</td>\n",
       "    </tr>\n",
       "</table>"
      ],
      "text/plain": [
       "[(0, 0),\n",
       " (1, 1),\n",
       " (0, 0),\n",
       " (0, 0),\n",
       " (0, 0),\n",
       " (1, 1),\n",
       " (0, 0),\n",
<<<<<<< HEAD
       " (0, 0),\n",
       " (0, 0),\n",
=======
       " (1, 1),\n",
       " (0, 0),\n",
       " (0, 0),\n",
       " (0, 0),\n",
>>>>>>> master
       " (0, 0)]"
      ]
     },
     "execution_count": 32,
     "metadata": {},
     "output_type": "execute_result"
    }
   ],
   "source": [
    "%%sql\n",
    "DROP TABLE IF EXISTS sensors_logreg_test_predict ;\n",
    "CREATE TABLE sensors_logreg_test_predict\n",
    "AS\n",
    "SELECT\n",
    "    (pred >= 0.5)::integer as pred,\n",
    "    y_test\n",
    "FROM sensors_logreg_test_prob;\n",
    "\n",
    "\n",
    "SELECT * FROM sensors_logreg_test_predict LIMIT 10;"
   ]
  },
  {
   "cell_type": "code",
   "execution_count": 33,
   "id": "3470ce5a-ed26-4f7f-b5db-b0ac8ed83fd0",
   "metadata": {
    "execution": {
<<<<<<< HEAD
     "iopub.execute_input": "2021-10-12T09:00:08.252812Z",
     "iopub.status.busy": "2021-10-12T09:00:08.252574Z",
     "iopub.status.idle": "2021-10-12T09:00:08.787863Z",
     "shell.execute_reply": "2021-10-12T09:00:08.787067Z",
     "shell.execute_reply.started": "2021-10-12T09:00:08.252785Z"
=======
     "iopub.execute_input": "2021-10-08T03:41:11.822170Z",
     "iopub.status.busy": "2021-10-08T03:41:11.821787Z",
     "iopub.status.idle": "2021-10-08T03:41:12.730182Z",
     "shell.execute_reply": "2021-10-08T03:41:12.729402Z",
     "shell.execute_reply.started": "2021-10-08T03:41:11.822140Z"
>>>>>>> master
    },
    "tags": []
   },
   "outputs": [
    {
     "name": "stdout",
     "output_type": "stream",
     "text": [
      " * postgresql://gpadmin@192.168.133.128:32000/db\n",
      "Done.\n",
      "1 rows affected.\n"
     ]
    },
    {
     "data": {
      "text/html": [
       "<table>\n",
       "    <tr>\n",
       "        <th>confusion_matrix</th>\n",
       "    </tr>\n",
       "    <tr>\n",
       "        <td></td>\n",
       "    </tr>\n",
       "</table>"
      ],
      "text/plain": [
       "[('',)]"
      ]
     },
     "execution_count": 33,
     "metadata": {},
     "output_type": "execute_result"
    }
   ],
   "source": [
    "%%sql\n",
    "DROP TABLE IF EXISTS sensors_logreg_test_conf_matrix;\n",
    "SELECT\n",
    "madlib.confusion_matrix(\n",
    "    'sensors_logreg_test_predict',\n",
    "    'sensors_logreg_test_conf_matrix',\n",
    "    'pred',  -- prediction_col\n",
    "    'y_test' -- observation_col\n",
    ");"
   ]
  },
  {
   "cell_type": "code",
   "execution_count": 34,
   "id": "9cb21152-97a5-4f38-81f8-685d4870a6c4",
   "metadata": {
    "execution": {
<<<<<<< HEAD
     "iopub.execute_input": "2021-10-12T09:00:10.648912Z",
     "iopub.status.busy": "2021-10-12T09:00:10.648674Z",
     "iopub.status.idle": "2021-10-12T09:00:10.667684Z",
     "shell.execute_reply": "2021-10-12T09:00:10.666889Z",
     "shell.execute_reply.started": "2021-10-12T09:00:10.648884Z"
=======
     "iopub.execute_input": "2021-10-08T03:41:12.731730Z",
     "iopub.status.busy": "2021-10-08T03:41:12.731441Z",
     "iopub.status.idle": "2021-10-08T03:41:12.750562Z",
     "shell.execute_reply": "2021-10-08T03:41:12.749900Z",
     "shell.execute_reply.started": "2021-10-08T03:41:12.731701Z"
>>>>>>> master
    },
    "tags": []
   },
   "outputs": [
    {
     "name": "stdout",
     "output_type": "stream",
     "text": [
      " * postgresql://gpadmin@192.168.133.128:32000/db\n",
      "2 rows affected.\n"
     ]
    }
   ],
   "source": [
    "confusion = %sql SELECT \\\n",
    "                        confusion_arr[1] as \"Predicted 0\",\\\n",
    "                        confusion_arr[2] as \"Predicted 1\" \\\n",
    "                        FROM sensors_logreg_test_conf_matrix ORDER BY row_id;\n",
    "\n",
    "confusion=confusion.DataFrame()"
   ]
  },
  {
   "cell_type": "code",
   "execution_count": 35,
   "id": "ef083c54-5cdd-45f1-8398-cceac2f540e9",
   "metadata": {
    "execution": {
<<<<<<< HEAD
     "iopub.execute_input": "2021-10-12T09:00:13.693251Z",
     "iopub.status.busy": "2021-10-12T09:00:13.693018Z",
     "iopub.status.idle": "2021-10-12T09:00:13.872212Z",
     "shell.execute_reply": "2021-10-12T09:00:13.871665Z",
     "shell.execute_reply.started": "2021-10-12T09:00:13.693223Z"
=======
     "iopub.execute_input": "2021-10-08T03:41:12.751857Z",
     "iopub.status.busy": "2021-10-08T03:41:12.751640Z",
     "iopub.status.idle": "2021-10-08T03:41:12.939530Z",
     "shell.execute_reply": "2021-10-08T03:41:12.939059Z",
     "shell.execute_reply.started": "2021-10-08T03:41:12.751833Z"
>>>>>>> master
    },
    "tags": []
   },
   "outputs": [
    {
     "data": {
<<<<<<< HEAD
      "image/png": "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\n",
=======
      "image/png": "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\n",
>>>>>>> master
      "text/plain": [
       "<Figure size 432x288 with 2 Axes>"
      ]
     },
     "metadata": {
      "needs_background": "light"
     },
     "output_type": "display_data"
    }
   ],
   "source": [
    "plt.title('Confusion Matrix')\n",
    "sns.heatmap(confusion.astype(int),annot=True,cmap=\"YlGnBu\",fmt='d',yticklabels=['True 0','True 1'],annot_kws={\"fontsize\":13});\n",
    "plt.yticks(rotation=0);"
   ]
  },
  {
   "cell_type": "code",
<<<<<<< HEAD
   "execution_count": 37,
   "id": "72ace31e-792c-417f-8f8c-35082cba5138",
   "metadata": {
    "execution": {
     "iopub.execute_input": "2021-10-12T09:00:15.068130Z",
     "iopub.status.busy": "2021-10-12T09:00:15.067934Z",
     "iopub.status.idle": "2021-10-12T09:00:15.456604Z",
     "shell.execute_reply": "2021-10-12T09:00:15.456096Z",
     "shell.execute_reply.started": "2021-10-12T09:00:15.068107Z"
=======
   "execution_count": 36,
   "id": "72ace31e-792c-417f-8f8c-35082cba5138",
   "metadata": {
    "execution": {
     "iopub.execute_input": "2021-10-08T03:41:12.940997Z",
     "iopub.status.busy": "2021-10-08T03:41:12.940840Z",
     "iopub.status.idle": "2021-10-08T03:41:20.273484Z",
     "shell.execute_reply": "2021-10-08T03:41:20.272546Z",
     "shell.execute_reply.started": "2021-10-08T03:41:12.940980Z"
>>>>>>> master
    },
    "tags": []
   },
   "outputs": [
    {
     "name": "stdout",
     "output_type": "stream",
     "text": [
      " * postgresql://gpadmin@192.168.133.128:32000/db\n",
      "60000 rows affected.\n",
<<<<<<< HEAD
      "              precision    recall  f1-score   support\n",
      "\n",
      "           0       1.00      1.00      1.00     44795\n",
      "           1       1.00      1.00      1.00     15205\n",
      "\n",
      "    accuracy                           1.00     60000\n",
      "   macro avg       1.00      1.00      1.00     60000\n",
      "weighted avg       1.00      1.00      1.00     60000\n",
=======
      " * postgresql://gpadmin@192.168.133.128:32000/db\n",
      "60000 rows affected.\n",
      "              precision    recall  f1-score   support\n",
      "\n",
      "           0       0.75      0.75      0.75     44812\n",
      "           1       0.25      0.25      0.25     15188\n",
      "\n",
      "    accuracy                           0.62     60000\n",
      "   macro avg       0.50      0.50      0.50     60000\n",
      "weighted avg       0.62      0.62      0.62     60000\n",
>>>>>>> master
      "\n"
     ]
    }
   ],
   "source": [
<<<<<<< HEAD
    "classification= %sql SELECT y_test,pred FROM sensors_logreg_test_predict;\n",
    "classification=classification.DataFrame()\n",
    "\n",
    "print(classification_report(classification['y_test'],classification['pred']))"
=======
    "y_test= %sql SELECT y_test FROM sensors_logreg_test_predict;\n",
    "pred = %sql SELECT pred FROM sensors_logreg_test_predict;\n",
    "\n",
    "\n",
    "print(classification_report(y_test,pred))"
>>>>>>> master
   ]
  },
  {
   "cell_type": "markdown",
   "id": "cef05c60-7e1f-4ca9-b165-133ebdc58272",
   "metadata": {},
   "source": [
    "### ROC"
   ]
  },
  {
   "cell_type": "code",
   "execution_count": 38,
   "id": "4271e0ac-5b93-461d-a4be-323143b9f9fb",
   "metadata": {
    "execution": {
<<<<<<< HEAD
     "iopub.execute_input": "2021-10-12T09:00:17.435713Z",
     "iopub.status.busy": "2021-10-12T09:00:17.435515Z",
     "iopub.status.idle": "2021-10-12T09:00:17.696593Z",
     "shell.execute_reply": "2021-10-12T09:00:17.695966Z",
     "shell.execute_reply.started": "2021-10-12T09:00:17.435690Z"
=======
     "iopub.execute_input": "2021-10-08T03:41:20.275205Z",
     "iopub.status.busy": "2021-10-08T03:41:20.274818Z",
     "iopub.status.idle": "2021-10-08T03:41:20.532716Z",
     "shell.execute_reply": "2021-10-08T03:41:20.532200Z",
     "shell.execute_reply.started": "2021-10-08T03:41:20.275184Z"
>>>>>>> master
    },
    "tags": []
   },
   "outputs": [
    {
     "name": "stdout",
     "output_type": "stream",
     "text": [
      " * postgresql://gpadmin@192.168.133.128:32000/db\n",
      "Done.\n",
      "1 rows affected.\n",
      "1 rows affected.\n"
     ]
    },
    {
     "data": {
      "text/html": [
       "<table>\n",
       "    <tr>\n",
       "        <th>area_under_roc</th>\n",
       "    </tr>\n",
       "    <tr>\n",
<<<<<<< HEAD
       "        <td>0.999999992659020032763527625955671712697241580</td>\n",
=======
       "        <td>0.999999992653591250189742875987612990999000000</td>\n",
>>>>>>> master
       "    </tr>\n",
       "</table>"
      ],
      "text/plain": [
<<<<<<< HEAD
       "[(Decimal('0.999999992659020032763527625955671712697241580'),)]"
=======
       "[(Decimal('0.999999992653591250189742875987612990999000000'),)]"
>>>>>>> master
      ]
     },
     "execution_count": 38,
     "metadata": {},
     "output_type": "execute_result"
    }
   ],
   "source": [
    "%%sql\n",
    "DROP TABLE IF EXISTS sensors_logreg_test_auc;\n",
    "SELECT\n",
    "madlib.area_under_roc(\n",
    "    'sensors_logreg_test_prob', \n",
    "    'sensors_logreg_test_auc', \n",
    "    'pred',  -- predictions, \n",
    "    'y_test'\n",
    ");\n",
    "\n",
    "SELECT * FROM sensors_logreg_test_auc;"
   ]
  },
  {
   "cell_type": "markdown",
   "id": "1decb2ff-ec40-45a3-8b7c-39194807db41",
   "metadata": {},
   "source": [
    "## Linear Regression  ( Regression Model )"
   ]
  },
  {
   "cell_type": "code",
   "execution_count": 39,
   "id": "57934b39-a57f-416b-a567-fe42e73bac15",
   "metadata": {
    "execution": {
<<<<<<< HEAD
     "iopub.execute_input": "2021-10-12T09:00:20.508227Z",
     "iopub.status.busy": "2021-10-12T09:00:20.507982Z",
     "iopub.status.idle": "2021-10-12T09:00:22.007606Z",
     "shell.execute_reply": "2021-10-12T09:00:22.006977Z",
     "shell.execute_reply.started": "2021-10-12T09:00:20.508197Z"
=======
     "iopub.execute_input": "2021-10-08T03:41:20.533989Z",
     "iopub.status.busy": "2021-10-08T03:41:20.533809Z",
     "iopub.status.idle": "2021-10-08T03:41:22.045718Z",
     "shell.execute_reply": "2021-10-08T03:41:22.045007Z",
     "shell.execute_reply.started": "2021-10-08T03:41:20.533968Z"
>>>>>>> master
    },
    "tags": []
   },
   "outputs": [
    {
     "name": "stdout",
     "output_type": "stream",
     "text": [
      " * postgresql://gpadmin@192.168.133.128:32000/db\n",
      "Done.\n",
      "Done.\n",
      "1 rows affected.\n",
      "1 rows affected.\n"
     ]
    },
    {
     "data": {
      "text/html": [
       "<table>\n",
       "    <tr>\n",
       "        <th>coef</th>\n",
       "        <th>r2</th>\n",
       "        <th>std_err</th>\n",
       "        <th>t_stats</th>\n",
       "        <th>p_values</th>\n",
       "        <th>condition_no</th>\n",
       "        <th>bp_stats</th>\n",
       "        <th>bp_p_value</th>\n",
       "        <th>num_rows_processed</th>\n",
       "        <th>num_missing_rows_skipped</th>\n",
       "        <th>variance_covariance</th>\n",
       "    </tr>\n",
       "    <tr>\n",
<<<<<<< HEAD
       "        <td>[13.765028078304, 1.00233692039577, 0.00039501365214969, -0.000141333647047773, 1.14038089132545, 1.13626791100129, 1.17139987801166, 1.13297742642468, 1.15317015381151, 1.1735323050953, 1.14967201081386, 1.1580925397434, 1.08741465576282, 1.16207740542468, 1.130734059639, 1.16930884117682]</td>\n",
       "        <td>0.085408607628925</td>\n",
       "        <td>[0.262246349098233, 0.00878244650028437, 0.000532744542546394, 0.000525118503315164, 0.0343525351615175, 0.0353957290032827, 0.0344935875119083, 0.0343396134442352, 0.0340188925467493, 0.0344240600556482, 0.0341325411889716, 0.0341435183085069, 0.0345206519789181, 0.0341402999333184, 0.0344991557045094, 0.0342451435747003]</td>\n",
       "        <td>[52.4889216785547, 114.129578855199, 0.74146916693246, -0.269146194916974, 33.1964114428134, 32.1018366621552, 33.9599317585407, 32.9933075182848, 33.8979333976498, 34.0904676321802, 33.6825788753557, 33.9183715421284, 31.5004089849436, 34.0382892855192, 32.7757023772963, 34.1452456937774]</td>\n",
       "        <td>[0.0, 0.0, 0.458410263944453, 0.78781757980278, 1.05322325709217e-240, 2.75398178808232e-225, 9.27771628326022e-252, 8.35010982287924e-238, 7.48738939248443e-251, 1.12899129793879e-253, 1.02757378956229e-247, 3.76312393610233e-251, 4.95295981563431e-217, 6.59064634043287e-253, 1.01966036443165e-234, 1.76618651276934e-254]</td>\n",
       "        <td>20008140049.3264</td>\n",
       "        <td>18.3085354062772</td>\n",
       "        <td>0.246792502778857</td>\n",
       "        <td>140000</td>\n",
       "        <td>0</td>\n",
       "        <td>[[0.0687731476153521, -0.00225594642802879, -1.34178724424143e-05, -1.66411610157675e-05, 0.00572720984499929, 0.00571622606520072, 0.00575898176980268, 0.00569605959472048, 0.00569736509871027, 0.00568814188753226, 0.00573928873836925, 0.00571993305948616, 0.00576387462338226, 0.00574949723221888, 0.00575494632609763, 0.00576162337445865], [-0.00225594642802879, 7.71313665303572e-05, 3.94295218090784e-09, -2.5863292158218e-07, -0.000187878340909938, -0.000187274262097536, -0.000188786505717179, -0.000186838009453205, -0.000187074575012519, -0.000186593251002577, -0.00018836536371228, -0.000187871405629346, -0.000189124539741097, -0.000188492486170633, -0.000188569560231486, -0.000189078128338738], [-1.34178724424143e-05, 3.94295218090783e-09, 2.83816747612967e-07, 2.26903461854604e-09, -1.08060863018105e-06, -1.10775787625231e-06, -1.16691520188911e-06, -1.10569699291662e-06, -1.11122984911247e-06, -1.13107395888999e-06, -1.13275685792973e-06, -1.12160448884054e-06, -1.11478179707204e-06, -1.11231312038717e-06, -1.14774317548094e-06, -1.08539049338938e-06], [-1.66411610157675e-05, -2.5863292158218e-07, 2.26903461854604e-09, 2.75749442523958e-07, -1.4039959316632e-06, -1.38941828621837e-06, -1.41031693781642e-06, -1.38148625485966e-06, -1.33707359974779e-06, -1.35279239096365e-06, -1.36819627318063e-06, -1.31555888962639e-06, -1.37857267356973e-06, -1.45381736053014e-06, -1.44636821916593e-06, -1.40356419833513e-06], [0.00572720984499929, -0.000187878340909938, -1.08060863018105e-06, -1.4039959316632e-06, 0.00118009667202329, 0.00040488731724148, 0.000415460547887613, 0.000410236984650444, 0.000412556428928075, 0.000408861022971487, 0.000415969896550809, 0.000413959752096411, 0.000415767325433569, 0.000416947352946832, 0.00041502387559329, 0.00041744266864497], [0.00571622606520072, -0.000187274262097536, -1.10775787625231e-06, -1.38941828621837e-06, 0.00040488731724148, 0.00125285763167383, 0.00040708305606986, 0.000401871034212513, 0.000404191826698823, 0.000400501239698534, 0.000407595081301297, 0.000405591057150614, 0.000407384039631336, 0.000408564307453613, 0.000406644076614373, 0.000409055397422366], [0.00575898176980268, -0.000188786505717179, -1.16691520188911e-06, -1.41031693781642e-06, 0.000415460547887613, 0.00040708305606986, 0.00118980757944168, 0.000412426671429959, 0.0004147492013223, 0.000411054606813221, 0.000418185502770017, 0.000416164450202764, 0.000417986807737195, 0.000419160960690494, 0.000417248921988161, 0.000419653463418235], [0.00569605959472048, -0.000186838009453205, -1.10569699291662e-06, -1.38148625485966e-06, 0.000410236984650444, 0.000401871034212513, 0.000412426671429959, 0.0011792090514995, 0.000409548203730498, 0.00040585972056092, 0.000412942799813638, 0.000410943498866482, 0.000412727147809243, 0.000413908512275294, 0.000411987846119894, 0.000414398123721264], [0.00569736509871027, -0.000187074575012519, -1.11122984911247e-06, -1.33707359974779e-06, 0.000412556428928075, 0.000404191826698823, 0.0004147492013223, 0.000409548203730498, 0.00115728505010727, 0.000408185089402236, 0.0004152702458667, 0.000413277824156622, 0.000415054496132963, 0.000416222255151122, 0.000414303702030523, 0.00041672077515227], [0.00568814188753226, -0.000186593251002577, -1.13107395888999e-06, -1.35279239096365e-06, 0.000408861022971487, 0.000400501239698534, 0.000411054606813221, 0.00040585972056092, 0.000408185089402236, 0.00118501591071487, 0.000411573694964798, 0.000409580826727285, 0.000411352609605294, 0.000412527853245401, 0.000410610919911562, 0.000413018392885871], [0.00573928873836925, -0.00018836536371228, -1.13275685792973e-06, -1.36819627318063e-06, 0.000415969896550809, 0.000407595081301297, 0.000418185502770017, 0.000412942799813638, 0.0004152702458667, 0.000411573694964798, 0.00116503036801684, 0.000416682879641309, 0.000418488636124205, 0.00041965502156055, 0.000417739477567657, 0.000420155134160329], [0.00571993305948616, -0.000187871405629346, -1.12160448884054e-06, -1.31555888962639e-06, 0.000413959752096411, 0.000405591057150614, 0.000416164450202764, 0.000410943498866482, 0.000413277824156622, 0.000409580826727285, 0.000416682879641309, 0.00116577984248334, 0.000416473417199392, 0.000417629521436782, 0.000415713569172817, 0.000418136420321347], [0.00576387462338226, -0.000189124539741097, -1.11478179707204e-06, -1.37857267356973e-06, 0.000415767325433569, 0.000407384039631336, 0.000417986807737194, 0.000412727147809243, 0.000415054496132963, 0.000411352609605294, 0.000418488636124205, 0.000416473417199392, 0.00119167541304959, 0.00041945893923287, 0.000417541549967466, 0.000419964241427939], [0.00574949723221888, -0.000188492486170633, -1.11231312038717e-06, -1.45381736053014e-06, 0.000416947352946832, 0.000408564307453613, 0.000419160960690494, 0.000413908512275294, 0.000416222255151122, 0.000412527853245401, 0.00041965502156055, 0.000417629521436782, 0.00041945893923287, 0.00116556007953694, 0.000418727086306791, 0.000421135342351039], [0.00575494632609763, -0.000188569560231486, -1.14774317548094e-06, -1.44636821916593e-06, 0.000415023875593289, 0.000406644076614373, 0.000417248921988161, 0.000411987846119894, 0.000414303702030523, 0.000410610919911562, 0.000417739477567657, 0.000415713569172817, 0.000417541549967466, 0.000418727086306791, 0.00119019174432398, 0.000419213556469957], [0.00576162337445864, -0.000189078128338738, -1.08539049338938e-06, -1.40356419833513e-06, 0.00041744266864497, 0.000409055397422365, 0.000419653463418235, 0.000414398123721264, 0.00041672077515227, 0.000413018392885871, 0.000420155134160329, 0.000418136420321347, 0.000419964241427939, 0.000421135342351039, 0.000419213556469957, 0.00117272985845184]]</td>\n",
=======
       "        <td>[13.6878108464033, 1.00609041565059, 0.000355459125349474, -0.000485271485671133, 1.13384152632123, 1.11460867982328, 1.16951727018666, 1.11277904472915, 1.14138357852357, 1.17291278678044, 1.11172487019051, 1.1901651993578, 1.100209326472, 1.16777717720876, 1.12959289211904, 1.14329849459223]</td>\n",
       "        <td>0.0865106722021287</td>\n",
       "        <td>[0.261223504465541, 0.00875521868386623, 0.000533002782119966, 0.00052620202559627, 0.0343117533855779, 0.0352646992257675, 0.034437474976706, 0.0342449548842115, 0.0339555494852056, 0.0343109561072517, 0.0340252455208672, 0.0339424384544088, 0.0344181880892064, 0.0342259260195594, 0.0345190254306795, 0.0341466549807793]</td>\n",
       "        <td>[52.3988485431596, 114.913225126469, 0.666899193163065, -0.922215160842918, 33.0452808278172, 31.6069243264338, 33.9605987656684, 32.4946856695144, 33.61405118833, 34.1847887629265, 32.67352970337, 35.0642220639635, 31.9659281197614, 34.1196663763429, 32.7237770483257, 33.4820056382032]</td>\n",
       "        <td>[0.0, 0.0, 0.504837625564324, 0.356417945973233, 1.51870278800314e-238, 1.75419788642891e-218, 9.07142478219922e-252, 9.22601729429901e-231, 1.01407098486764e-246, 4.62022912119568e-255, 2.82399922665221e-233, 3.48187855894624e-268, 2.08355662371858e-223, 4.20150694170277e-254, 5.52150672328901e-234, 8.24676628783893e-245]</td>\n",
       "        <td>inf</td>\n",
       "        <td>14.3157047658714</td>\n",
       "        <td>0.501732674313559</td>\n",
       "        <td>140000</td>\n",
       "        <td>0</td>\n",
       "        <td>[[0.0682377192852586, -0.0022398192062228, -1.319230724241e-05, -1.61385547897892e-05, 0.00569439111852515, 0.00565669652860902, 0.00571873970660628, 0.00564366884215525, 0.00564702327533291, 0.00565660193432321, 0.00568608848751147, 0.00566800244506226, 0.00571184167684268, 0.00572375592173263, 0.00571893887750436, 0.00571197047052635], [-0.0022398192062228, 7.66538542023203e-05, -2.16499795736223e-09, -2.77313000906139e-07, -0.000186791338217502, -0.000185383833577644, -0.000187518836485601, -0.000185212352049222, -0.000185534903555489, -0.000185751707126706, -0.000186868307906885, -0.000186290741794061, -0.000187604987473062, -0.000187861273080609, -0.00018748527963882, -0.000187515645299902], [-1.319230724241e-05, -2.16499795736221e-09, 2.84091965747624e-07, 1.56745585381982e-09, -1.10120732960814e-06, -1.14442564471833e-06, -1.14796446221232e-06, -1.13765692349524e-06, -1.07417465183015e-06, -1.10547128251824e-06, -1.05955203142597e-06, -1.07438767994354e-06, -1.07580540317263e-06, -1.10969255973712e-06, -1.12144128670461e-06, -1.04052798694177e-06], [-1.61385547897892e-05, -2.77313000906139e-07, 1.56745585381983e-09, 2.76888571741618e-07, -1.38899763620451e-06, -1.33405457972145e-06, -1.39218268379862e-06, -1.31913900408326e-06, -1.30351255770594e-06, -1.29936450988257e-06, -1.30940676134382e-06, -1.29263575166159e-06, -1.32260821473943e-06, -1.3703373547849e-06, -1.4138630950506e-06, -1.39245264068782e-06], [0.00569439111852515, -0.000186791338217502, -1.10120732960814e-06, -1.38899763620451e-06, 0.00117729642039272, 0.000401156274593537, 0.000413140913544733, 0.000406939520453005, 0.000409245639379964, 0.00040777663546472, 0.000412680899428957, 0.000411431470284244, 0.000412571242680585, 0.000415091720629371, 0.000412601988451652, 0.000414458393177762], [0.00565669652860902, -0.000185383833577644, -1.14442564471833e-06, -1.33405457972145e-06, 0.000401156274593537, 0.00124359901148385, 0.000402723852183886, 0.000396581002586193, 0.0003988746346332, 0.000397407179881915, 0.00040228083507962, 0.000401048401777839, 0.000402156678108463, 0.000404667012210346, 0.000402176769997292, 0.000404024876028314], [0.00571873970660628, -0.000187518836485601, -1.14796446221232e-06, -1.39218268379862e-06, 0.000413140913544734, 0.000402723852183886, 0.00118593968277125, 0.00040850404288213, 0.000410802487354681, 0.0004093406240117, 0.000414248218453516, 0.000412995366148862, 0.000414148550941257, 0.000416678019052617, 0.000414187499718711, 0.000416030449498856], [0.00564366884215525, -0.000185212352049222, -1.13765692349524e-06, -1.31913900408326e-06, 0.000406939520453005, 0.000396581002586193, 0.00040850404288213, 0.00117271693502168, 0.000404666386200706, 0.000403197898720719, 0.000408069344808231, 0.000406838914389878, 0.00040794226543102, 0.00041044849500054, 0.000407956448809852, 0.000409807587807797], [0.00564702327533291, -0.000185534903555489, -1.07417465183015e-06, -1.30351255770594e-06, 0.000409245639379964, 0.0003988746346332, 0.000410802487354681, 0.000404666386200706, 0.00115297934084225, 0.000405503475174811, 0.000410389139084404, 0.000409153936195592, 0.000410260716520626, 0.000412757972416617, 0.000410259568033616, 0.000412129979452901], [0.00565660193432321, -0.000185751707126706, -1.10547128251824e-06, -1.29936450988257e-06, 0.00040777663546472, 0.000397407179881915, 0.0004093406240117, 0.000403197898720719, 0.000405503475174811, 0.00117724170899376, 0.000408916776818641, 0.000407681815999762, 0.000408792028818054, 0.000411293123061786, 0.000408794409051255, 0.000410656258282497], [0.00568608848751147, -0.000186868307906885, -1.05955203142597e-06, -1.30940676134382e-06, 0.000412680899428957, 0.00040228083507962, 0.000414248218453516, 0.000408069344808231, 0.000410389139084405, 0.000408916776818641, 0.00115771733275529, 0.00041257802906987, 0.000413708955138226, 0.000416210826244711, 0.000413706926672139, 0.000415581203914011], [0.00566800244506226, -0.000186290741794061, -1.07438767994354e-06, -1.29263575166159e-06, 0.000411431470284244, 0.00040104840177784, 0.000412995366148862, 0.000406838914389878, 0.000409153936195592, 0.000407681815999762, 0.00041257802906987, 0.00115208912823133, 0.000412456418161406, 0.000414954798296079, 0.000412451453357068, 0.000414322713106622], [0.00571184167684268, -0.000187604987473062, -1.07580540317263e-06, -1.32260821473943e-06, 0.000412571242680585, 0.000402156678108463, 0.000414148550941257, 0.00040794226543102, 0.000410260716520626, 0.000408792028818054, 0.000413708955138226, 0.000412456418161406, 0.00118461167134399, 0.000416111091401644, 0.000413606658504735, 0.000415475399748645], [0.00572375592173263, -0.000187861273080609, -1.10969255973712e-06, -1.3703373547849e-06, 0.000415091720629371, 0.000404667012210346, 0.000416678019052617, 0.00041044849500054, 0.000412757972416617, 0.000411293123061786, 0.000416210826244711, 0.000414954798296079, 0.000416111091401644, 0.00117141401189635, 0.000416136663284988, 0.000417992188193438], [0.00571893887750436, -0.00018748527963882, -1.12144128670461e-06, -1.4138630950506e-06, 0.000412601988451652, 0.000402176769997292, 0.000414187499718711, 0.000407956448809852, 0.000410259568033616, 0.000408794409051255, 0.000413706926672139, 0.000412451453357068, 0.000413606658504735, 0.000416136663284988, 0.0011915631166839, 0.000415497374895078], [0.00571197047052635, -0.000187515645299902, -1.04052798694177e-06, -1.39245264068782e-06, 0.000414458393177762, 0.000404024876028314, 0.000416030449498856, 0.000409807587807797, 0.000412129979452901, 0.000410656258282497, 0.000415581203914011, 0.000414322713106622, 0.000415475399748645, 0.000417992188193438, 0.000415497374895078, 0.00116599404637638]]</td>\n",
>>>>>>> master
       "    </tr>\n",
       "</table>"
      ],
      "text/plain": [
<<<<<<< HEAD
       "[([13.765028078304, 1.00233692039577, 0.00039501365214969, -0.000141333647047773, 1.14038089132545, 1.13626791100129, 1.17139987801166, 1.13297742642468, 1.15317015381151, 1.1735323050953, 1.14967201081386, 1.1580925397434, 1.08741465576282, 1.16207740542468, 1.130734059639, 1.16930884117682], 0.085408607628925, [0.262246349098233, 0.00878244650028437, 0.000532744542546394, 0.000525118503315164, 0.0343525351615175, 0.0353957290032827, 0.0344935875119083, 0.034 ... (24 characters truncated) ... 925467493, 0.0344240600556482, 0.0341325411889716, 0.0341435183085069, 0.0345206519789181, 0.0341402999333184, 0.0344991557045094, 0.0342451435747003], [52.4889216785547, 114.129578855199, 0.74146916693246, -0.269146194916974, 33.1964114428134, 32.1018366621552, 33.9599317585407, 32.9933075182848, 33.8979333976498, 34.0904676321802, 33.6825788753557, 33.9183715421284, 31.5004089849436, 34.0382892855192, 32.7757023772963, 34.1452456937774], [0.0, 0.0, 0.458410263944453, 0.78781757980278, 1.05322325709217e-240, 2.75398178808232e-225, 9.27771628326022e-252, 8.35010982287924e-238, 7.48738939 ... (23 characters truncated) ... 793879e-253, 1.02757378956229e-247, 3.76312393610233e-251, 4.95295981563431e-217, 6.59064634043287e-253, 1.01966036443165e-234, 1.76618651276934e-254], 20008140049.3264, 18.3085354062772, 0.246792502778857, 140000, 0, [[0.0687731476153521, -0.00225594642802879, -1.34178724424143e-05, -1.66411610157675e-05, 0.00572720984499929, 0.00571622606520072, 0.0057589817698026 ... (5374 characters truncated) ... 00413018392885871, 0.000420155134160329, 0.000418136420321347, 0.000419964241427939, 0.000421135342351039, 0.000419213556469957, 0.00117272985845184]])]"
=======
       "[([13.6878108464033, 1.00609041565059, 0.000355459125349474, -0.000485271485671133, 1.13384152632123, 1.11460867982328, 1.16951727018666, 1.11277904472915, 1.14138357852357, 1.17291278678044, 1.11172487019051, 1.1901651993578, 1.100209326472, 1.16777717720876, 1.12959289211904, 1.14329849459223], 0.0865106722021287, [0.261223504465541, 0.00875521868386623, 0.000533002782119966, 0.00052620202559627, 0.0343117533855779, 0.0352646992257675, 0.034437474976706, 0.03424 ... (22 characters truncated) ... 494852056, 0.0343109561072517, 0.0340252455208672, 0.0339424384544088, 0.0344181880892064, 0.0342259260195594, 0.0345190254306795, 0.0341466549807793], [52.3988485431596, 114.913225126469, 0.666899193163065, -0.922215160842918, 33.0452808278172, 31.6069243264338, 33.9605987656684, 32.4946856695144, 33.61405118833, 34.1847887629265, 32.67352970337, 35.0642220639635, 31.9659281197614, 34.1196663763429, 32.7237770483257, 33.4820056382032], [0.0, 0.0, 0.504837625564324, 0.356417945973233, 1.51870278800314e-238, 1.75419788642891e-218, 9.07142478219922e-252, 9.22601729429901e-231, 1.0140709 ... (24 characters truncated) ... 119568e-255, 2.82399922665221e-233, 3.48187855894624e-268, 2.08355662371858e-223, 4.20150694170277e-254, 5.52150672328901e-234, 8.24676628783893e-245], inf, 14.3157047658714, 0.501732674313559, 140000, 0, [[0.0682377192852586, -0.0022398192062228, -1.319230724241e-05, -1.61385547897892e-05, 0.00569439111852515, 0.00565669652860902, 0.00571873970660628,  ... (5372 characters truncated) ... 00410656258282497, 0.000415581203914011, 0.000414322713106622, 0.000415475399748645, 0.000417992188193438, 0.000415497374895078, 0.00116599404637638]])]"
>>>>>>> master
      ]
     },
     "execution_count": 39,
     "metadata": {},
     "output_type": "execute_result"
    }
   ],
   "source": [
    "%%sql\n",
    "DROP TABLE IF EXISTS sensors_linreg_model;\n",
    "DROP TABLE IF EXISTS sensors_linreg_model_summary;\n",
    "\n",
    "SELECT madlib.linregr_train(\n",
    "    'sensors_split_train',   -- source_table\n",
    "    'sensors_linreg_model',  -- out_table\n",
    "    'temperature_2',         -- labels\n",
    "    'ARRAY[\n",
    "        1,\n",
    "        temperature,\n",
    "        humidity,pm25,\n",
    "        \"month_January\",\"month_February\",\"month_March\",\n",
    "        \"month_April\",\"month_May\",\"month_June\",\n",
    "        \"month_July\",\"month_August\",\"month_September\",\n",
    "        \"month_October\",\"month_November\",\"month_December\"]',       -- feature\n",
    "    NULL,  -- grouping_cols\n",
    "    TRUE  -- heteroskedasticity_option\n",
    ");\n",
    "\n",
    "SELECT * FROM sensors_linreg_model LIMIT 10;"
   ]
  },
  {
   "cell_type": "code",
   "execution_count": 40,
   "id": "f5c0bed4-5c3e-4928-b6b8-b5dcb38e994a",
   "metadata": {
    "execution": {
<<<<<<< HEAD
     "iopub.execute_input": "2021-10-12T09:00:23.439677Z",
     "iopub.status.busy": "2021-10-12T09:00:23.439449Z",
     "iopub.status.idle": "2021-10-12T09:00:24.192809Z",
     "shell.execute_reply": "2021-10-12T09:00:24.192167Z",
     "shell.execute_reply.started": "2021-10-12T09:00:23.439649Z"
=======
     "iopub.execute_input": "2021-10-08T03:41:22.046976Z",
     "iopub.status.busy": "2021-10-08T03:41:22.046776Z",
     "iopub.status.idle": "2021-10-08T03:41:23.033570Z",
     "shell.execute_reply": "2021-10-08T03:41:23.033031Z",
     "shell.execute_reply.started": "2021-10-08T03:41:22.046952Z"
>>>>>>> master
    },
    "tags": []
   },
   "outputs": [
    {
     "name": "stdout",
     "output_type": "stream",
     "text": [
      " * postgresql://gpadmin@192.168.133.128:32000/db\n",
      "Done.\n",
      "60000 rows affected.\n",
      "5 rows affected.\n"
     ]
    },
    {
     "data": {
      "text/html": [
       "<table>\n",
       "    <tr>\n",
       "        <th>prediction</th>\n",
       "        <th>y_test</th>\n",
       "    </tr>\n",
       "    <tr>\n",
<<<<<<< HEAD
       "        <td>45.1718799055664</td>\n",
       "        <td>43.4668542019691</td>\n",
       "    </tr>\n",
       "    <tr>\n",
       "        <td>47.9212774800143</td>\n",
       "        <td>45.9592993152955</td>\n",
       "    </tr>\n",
       "    <tr>\n",
       "        <td>46.1229290310867</td>\n",
       "        <td>48.9533287548216</td>\n",
       "    </tr>\n",
       "    <tr>\n",
       "        <td>46.086250693034</td>\n",
       "        <td>45.4495434231582</td>\n",
       "    </tr>\n",
       "    <tr>\n",
       "        <td>47.8498393286904</td>\n",
       "        <td>41.8911846842612</td>\n",
=======
       "        <td>47.6262341142532</td>\n",
       "        <td>43.3934340393275</td>\n",
       "    </tr>\n",
       "    <tr>\n",
       "        <td>48.0876077674665</td>\n",
       "        <td>49.5107341068455</td>\n",
       "    </tr>\n",
       "    <tr>\n",
       "        <td>48.3278060151517</td>\n",
       "        <td>48.1359369043842</td>\n",
       "    </tr>\n",
       "    <tr>\n",
       "        <td>45.958583796959</td>\n",
       "        <td>48.3124962572101</td>\n",
       "    </tr>\n",
       "    <tr>\n",
       "        <td>46.3920105135889</td>\n",
       "        <td>50.5813168067215</td>\n",
>>>>>>> master
       "    </tr>\n",
       "</table>"
      ],
      "text/plain": [
<<<<<<< HEAD
       "[(45.1718799055664, 43.4668542019691),\n",
       " (47.9212774800143, 45.9592993152955),\n",
       " (46.1229290310867, 48.9533287548216),\n",
       " (46.086250693034, 45.4495434231582),\n",
       " (47.8498393286904, 41.8911846842612)]"
=======
       "[(47.6262341142532, 43.3934340393275),\n",
       " (48.0876077674665, 49.5107341068455),\n",
       " (48.3278060151517, 48.1359369043842),\n",
       " (45.958583796959, 48.3124962572101),\n",
       " (46.3920105135889, 50.5813168067215)]"
>>>>>>> master
      ]
     },
     "execution_count": 40,
     "metadata": {},
     "output_type": "execute_result"
    }
   ],
   "source": [
    "%%sql\n",
    "DROP TABLE IF EXISTS sensors_linreg_test_predict;\n",
    "\n",
    "CREATE TABLE sensors_linreg_test_predict\n",
    "AS\n",
    "SELECT \n",
    "    madlib.linregr_predict(\n",
    "        coef, \n",
    "        ARRAY[\n",
    "            1,\n",
    "            temperature,\n",
    "            humidity,pm25,\n",
    "            \"month_January\",\"month_February\",\"month_March\",\n",
    "            \"month_April\",\"month_May\",\"month_June\",\n",
    "            \"month_July\",\"month_August\",\"month_September\",\n",
    "            \"month_October\",\"month_November\",\"month_December\"\n",
    "            ] \n",
    "    ) as prediction,\n",
    "    test.temperature_2 as y_test\n",
    "FROM sensors_split_test test, sensors_linreg_model model;\n",
    "\n",
    "SELECT * FROM sensors_linreg_test_predict LIMIT 5;"
   ]
  },
  {
   "cell_type": "code",
   "execution_count": 41,
   "id": "781f0732-1068-4748-9e8b-945509786b20",
   "metadata": {
    "execution": {
<<<<<<< HEAD
     "iopub.execute_input": "2021-10-12T09:00:27.285367Z",
     "iopub.status.busy": "2021-10-12T09:00:27.285147Z",
     "iopub.status.idle": "2021-10-12T09:00:27.511645Z",
     "shell.execute_reply": "2021-10-12T09:00:27.510913Z",
     "shell.execute_reply.started": "2021-10-12T09:00:27.285342Z"
=======
     "iopub.execute_input": "2021-10-08T03:41:23.034709Z",
     "iopub.status.busy": "2021-10-08T03:41:23.034532Z",
     "iopub.status.idle": "2021-10-08T03:41:23.329220Z",
     "shell.execute_reply": "2021-10-08T03:41:23.328521Z",
     "shell.execute_reply.started": "2021-10-08T03:41:23.034688Z"
>>>>>>> master
    },
    "tags": []
   },
   "outputs": [
    {
     "name": "stdout",
     "output_type": "stream",
     "text": [
      " * postgresql://gpadmin@192.168.133.128:32000/db\n",
      "Done.\n",
      "1 rows affected.\n",
      "1 rows affected.\n"
     ]
    },
    {
     "data": {
      "text/html": [
       "<table>\n",
       "    <tr>\n",
       "        <th>mean_squared_error</th>\n",
       "    </tr>\n",
       "    <tr>\n",
<<<<<<< HEAD
       "        <td>9.0167275044608</td>\n",
=======
       "        <td>9.05912372048728</td>\n",
>>>>>>> master
       "    </tr>\n",
       "</table>"
      ],
      "text/plain": [
<<<<<<< HEAD
       "[(9.0167275044608,)]"
=======
       "[(9.05912372048728,)]"
>>>>>>> master
      ]
     },
     "execution_count": 41,
     "metadata": {},
     "output_type": "execute_result"
    }
   ],
   "source": [
    "%%sql\n",
    "DROP TABLE IF EXISTS sensors_linreg_test_predict_mse;\n",
    "\n",
    "SELECT madlib.mean_squared_error(\n",
    "    'sensors_linreg_test_predict',      -- table_in\n",
    "    'sensors_linreg_test_predict_mse',  -- table_out\n",
    "    'prediction',  -- prediction\n",
    "    'y_test'  -- y_test\n",
    ");\n",
    "\n",
    "SELECT * FROM sensors_linreg_test_predict_mse;"
   ]
  },
  {
   "cell_type": "code",
   "execution_count": 42,
   "id": "840d486f-95f3-4e58-88e5-61502b2bbe5f",
   "metadata": {
    "execution": {
<<<<<<< HEAD
     "iopub.execute_input": "2021-10-12T09:00:29.235295Z",
     "iopub.status.busy": "2021-10-12T09:00:29.235059Z",
     "iopub.status.idle": "2021-10-12T09:00:29.247671Z",
     "shell.execute_reply": "2021-10-12T09:00:29.246997Z",
     "shell.execute_reply.started": "2021-10-12T09:00:29.235267Z"
=======
     "iopub.execute_input": "2021-10-08T03:41:23.330634Z",
     "iopub.status.busy": "2021-10-08T03:41:23.330385Z",
     "iopub.status.idle": "2021-10-08T03:41:23.344673Z",
     "shell.execute_reply": "2021-10-08T03:41:23.343900Z",
     "shell.execute_reply.started": "2021-10-08T03:41:23.330574Z"
>>>>>>> master
    },
    "tags": []
   },
   "outputs": [
    {
     "name": "stdout",
     "output_type": "stream",
     "text": [
      " * postgresql://gpadmin@192.168.133.128:32000/db\n",
      "200 rows affected.\n"
     ]
    }
   ],
   "source": [
    "pred = %sql SELECT * FROM sensors_linreg_test_predict LIMIT 200;\n",
    "pred=pred.DataFrame()"
   ]
  },
  {
   "cell_type": "code",
   "execution_count": 43,
   "id": "5a3fcc18-5c07-4e4d-a3bd-fc65e01149b0",
   "metadata": {
    "execution": {
<<<<<<< HEAD
     "iopub.execute_input": "2021-10-12T09:00:30.193815Z",
     "iopub.status.busy": "2021-10-12T09:00:30.193590Z",
     "iopub.status.idle": "2021-10-12T09:00:30.203785Z",
     "shell.execute_reply": "2021-10-12T09:00:30.203042Z",
     "shell.execute_reply.started": "2021-10-12T09:00:30.193787Z"
=======
     "iopub.execute_input": "2021-10-08T03:41:23.346226Z",
     "iopub.status.busy": "2021-10-08T03:41:23.345996Z",
     "iopub.status.idle": "2021-10-08T03:41:23.356226Z",
     "shell.execute_reply": "2021-10-08T03:41:23.355637Z",
     "shell.execute_reply.started": "2021-10-08T03:41:23.346199Z"
>>>>>>> master
    },
    "tags": []
   },
   "outputs": [
    {
     "data": {
      "text/html": [
       "<div>\n",
       "<style scoped>\n",
       "    .dataframe tbody tr th:only-of-type {\n",
       "        vertical-align: middle;\n",
       "    }\n",
       "\n",
       "    .dataframe tbody tr th {\n",
       "        vertical-align: top;\n",
       "    }\n",
       "\n",
       "    .dataframe thead th {\n",
       "        text-align: right;\n",
       "    }\n",
       "</style>\n",
       "<table border=\"1\" class=\"dataframe\">\n",
       "  <thead>\n",
       "    <tr style=\"text-align: right;\">\n",
       "      <th></th>\n",
       "      <th>prediction</th>\n",
       "      <th>y_test</th>\n",
       "    </tr>\n",
       "  </thead>\n",
       "  <tbody>\n",
       "    <tr>\n",
       "      <th>0</th>\n",
<<<<<<< HEAD
       "      <td>47.945477</td>\n",
       "      <td>45.449331</td>\n",
       "    </tr>\n",
       "    <tr>\n",
       "      <th>1</th>\n",
       "      <td>47.765618</td>\n",
       "      <td>51.133353</td>\n",
       "    </tr>\n",
       "    <tr>\n",
       "      <th>2</th>\n",
       "      <td>46.312276</td>\n",
       "      <td>51.156994</td>\n",
       "    </tr>\n",
       "    <tr>\n",
       "      <th>3</th>\n",
       "      <td>47.266757</td>\n",
       "      <td>45.128210</td>\n",
       "    </tr>\n",
       "    <tr>\n",
       "      <th>4</th>\n",
       "      <td>46.572190</td>\n",
       "      <td>43.869878</td>\n",
=======
       "      <td>47.626234</td>\n",
       "      <td>43.393434</td>\n",
       "    </tr>\n",
       "    <tr>\n",
       "      <th>1</th>\n",
       "      <td>48.087608</td>\n",
       "      <td>49.510734</td>\n",
       "    </tr>\n",
       "    <tr>\n",
       "      <th>2</th>\n",
       "      <td>48.327806</td>\n",
       "      <td>48.135937</td>\n",
       "    </tr>\n",
       "    <tr>\n",
       "      <th>3</th>\n",
       "      <td>45.958584</td>\n",
       "      <td>48.312496</td>\n",
       "    </tr>\n",
       "    <tr>\n",
       "      <th>4</th>\n",
       "      <td>46.392011</td>\n",
       "      <td>50.581317</td>\n",
>>>>>>> master
       "    </tr>\n",
       "    <tr>\n",
       "      <th>...</th>\n",
       "      <td>...</td>\n",
       "      <td>...</td>\n",
       "    </tr>\n",
       "    <tr>\n",
       "      <th>195</th>\n",
<<<<<<< HEAD
       "      <td>47.935715</td>\n",
       "      <td>52.392294</td>\n",
       "    </tr>\n",
       "    <tr>\n",
       "      <th>196</th>\n",
       "      <td>46.942790</td>\n",
       "      <td>48.666143</td>\n",
       "    </tr>\n",
       "    <tr>\n",
       "      <th>197</th>\n",
       "      <td>47.520676</td>\n",
       "      <td>48.358811</td>\n",
       "    </tr>\n",
       "    <tr>\n",
       "      <th>198</th>\n",
       "      <td>47.716019</td>\n",
       "      <td>47.313493</td>\n",
       "    </tr>\n",
       "    <tr>\n",
       "      <th>199</th>\n",
       "      <td>47.285215</td>\n",
       "      <td>46.437882</td>\n",
=======
       "      <td>47.627120</td>\n",
       "      <td>49.858419</td>\n",
       "    </tr>\n",
       "    <tr>\n",
       "      <th>196</th>\n",
       "      <td>46.869470</td>\n",
       "      <td>46.130127</td>\n",
       "    </tr>\n",
       "    <tr>\n",
       "      <th>197</th>\n",
       "      <td>46.356902</td>\n",
       "      <td>50.773642</td>\n",
       "    </tr>\n",
       "    <tr>\n",
       "      <th>198</th>\n",
       "      <td>48.589192</td>\n",
       "      <td>49.078152</td>\n",
       "    </tr>\n",
       "    <tr>\n",
       "      <th>199</th>\n",
       "      <td>47.872698</td>\n",
       "      <td>46.279245</td>\n",
>>>>>>> master
       "    </tr>\n",
       "  </tbody>\n",
       "</table>\n",
       "<p>200 rows × 2 columns</p>\n",
       "</div>"
      ],
      "text/plain": [
       "     prediction     y_test\n",
<<<<<<< HEAD
       "0     47.945477  45.449331\n",
       "1     47.765618  51.133353\n",
       "2     46.312276  51.156994\n",
       "3     47.266757  45.128210\n",
       "4     46.572190  43.869878\n",
       "..          ...        ...\n",
       "195   47.935715  52.392294\n",
       "196   46.942790  48.666143\n",
       "197   47.520676  48.358811\n",
       "198   47.716019  47.313493\n",
       "199   47.285215  46.437882\n",
=======
       "0     47.626234  43.393434\n",
       "1     48.087608  49.510734\n",
       "2     48.327806  48.135937\n",
       "3     45.958584  48.312496\n",
       "4     46.392011  50.581317\n",
       "..          ...        ...\n",
       "195   47.627120  49.858419\n",
       "196   46.869470  46.130127\n",
       "197   46.356902  50.773642\n",
       "198   48.589192  49.078152\n",
       "199   47.872698  46.279245\n",
>>>>>>> master
       "\n",
       "[200 rows x 2 columns]"
      ]
     },
     "execution_count": 43,
     "metadata": {},
     "output_type": "execute_result"
    }
   ],
   "source": [
    "pred"
   ]
  },
  {
   "cell_type": "code",
   "execution_count": 44,
   "id": "b9679c2a-dac2-407d-a881-91b83d111a0b",
   "metadata": {
    "execution": {
<<<<<<< HEAD
     "iopub.execute_input": "2021-10-12T09:00:30.769290Z",
     "iopub.status.busy": "2021-10-12T09:00:30.769051Z",
     "iopub.status.idle": "2021-10-12T09:00:31.113244Z",
     "shell.execute_reply": "2021-10-12T09:00:31.112555Z",
     "shell.execute_reply.started": "2021-10-12T09:00:30.769261Z"
    },
    "presto": {
     "id": "59300cfb-ba19-46a1-a9bc-0c2d019e8b78"
=======
     "iopub.execute_input": "2021-10-08T03:41:23.357574Z",
     "iopub.status.busy": "2021-10-08T03:41:23.357360Z",
     "iopub.status.idle": "2021-10-08T03:41:23.705323Z",
     "shell.execute_reply": "2021-10-08T03:41:23.704813Z",
     "shell.execute_reply.started": "2021-10-08T03:41:23.357551Z"
    },
    "tags": []
   },
   "outputs": [
    {
     "data": {
      "image/png": "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\n",
      "text/plain": [
       "<Figure size 720x360 with 1 Axes>"
      ]
     },
     "metadata": {
      "needs_background": "light"
     },
     "output_type": "display_data"
    }
   ],
   "source": [
    "sns.lmplot(x='prediction',y='y_test',data=pred,height=5,aspect=2)\n",
    "plt.title(\"LR prediction , y_test scatterplot\") \n",
    "plt.ylim(30,70);"
   ]
  },
  {
   "cell_type": "markdown",
   "id": "df828697-81f5-453f-8405-986b2216642e",
   "metadata": {},
   "source": [
    "## Multilayer Perceptron ( ANN )"
   ]
  },
  {
   "cell_type": "code",
   "execution_count": 44,
   "id": "f7fd2dbc-eb22-4f1c-8bc9-13d50fa54b4c",
   "metadata": {
    "execution": {
     "iopub.execute_input": "2021-10-08T03:41:23.706588Z",
     "iopub.status.busy": "2021-10-08T03:41:23.706430Z",
     "iopub.status.idle": "2021-10-08T03:43:35.947959Z",
     "shell.execute_reply": "2021-10-08T03:43:35.947272Z",
     "shell.execute_reply.started": "2021-10-08T03:41:23.706570Z"
    },
    "tags": []
   },
   "outputs": [
    {
     "name": "stdout",
     "output_type": "stream",
     "text": [
      " * postgresql://gpadmin@192.168.133.128:32000/db\n",
      "Done.\n",
      "Done.\n",
      "1 rows affected.\n",
      "1 rows affected.\n"
     ]
    },
    {
     "data": {
      "text/html": [
       "<table>\n",
       "    <tr>\n",
       "        <th>coeff</th>\n",
       "        <th>loss</th>\n",
       "        <th>num_iterations</th>\n",
       "    </tr>\n",
       "    <tr>\n",
       "        <td>[5.25670584140862, 0.0018554548633512, 0.555347086831187, -0.106807655206207, -0.0424818047371426, -0.00841389621115055, -0.0284668640402652, -0.0173400368253576, -0.0205505040664786, -0.0456685145736653, 0.00659473675409469, 0.0138846319908715, 0.041172991873062, -0.0810832441498937, 0.0485989667263108, 0.00857614675629368, 0.0575251885142829, -4.08625118088112, 0.00583776371143724, 0.849060162597831, 0.363783621456659, -0.163378734809073, -0.0590957352479027, -0.0899418313800322, 0.163559478495432, -0.233390589776409, 0.0143136656236015, 0.119996010424356, -0.0644108230319712, 0.118987467974524, -0.159900291783802, -0.000147690721396246, -0.0245887175397426, 0.0270757238862405, -2.9306385192232, -0.0469147036331727, 0.437054384310109, 0.154576448877015, 0.0984932811768907, 0.113071281137765, -0.120845731245448, -0.154348408945457, -0.21385223874987, 0.187563972585618, -0.149029033990829, -0.187393128239038, 0.00293591830026232, 0.0511774699730144, 0.0767383080631419, 0.0892353943686344, 0.189165179495315, -5.54703925165866, 0.0616203386122864, 2.54957775707541, 0.242029966375427, 0.408460709265059, -0.100545351604146, -0.467641161951248, -0.166764307545682, 0.296938497056965, 0.237215204420498, -0.243283027749784, 0.141687504534141, -0.114634063686923, 0.188406845548277, 0.0445810342259304, 0.165228010922533, -0.17585057579428, 5.3389554935505, -0.153133026098753, 0.544895285673065, -0.13373771262981, 0.177909489857114, -0.113340704276614, 0.00284639374791657, 0.0685446943233156, 0.00127137141329655, -0.106023016640917, 0.0557555178433985, -0.0179072341105107, -0.00232552293760285, -0.0784893952624211, 0.13016164773188, -0.0840114050464857, -0.00826984906825268, 5.68116748713059, -0.10620390960544, 0.541881956666655, -0.08623861358931, 0.174041064020625, -0.0995168765498124, 0.0038014433600686, 0.0974603393060724, 0.0302913943881772, -0.111334740034634, 0.0420325413789321, -0.0540407091074351, -0.0141483513378679, -0.0660522281214039, 0.12261221002967, -0.0793977490372578, -0.0174754533731286, 5.79106491930024, -0.00516167035342254, 0.558020874889769, -0.137613111938722, 0.117674054998515, -0.0876556562104989, 0.00420116861486583, 0.0687683521619926, 0.0288246052670619, -0.0777518924025109, 0.0637424751491854, 0.00638417064091578, 0.0418051877971506, -0.0601964775762482, 0.13080721658121, -0.043964894698242, 0.0216610366266831, 6.23389279891197, 0.0565134419033825, 0.300481401834401, 0.408455864013349, -0.0508870008582935, 0.221859763991623, 0.111505339482115, -0.00538529366558486, -0.0573918533348857, -0.048144530079581, 0.120898424079498, -0.229684095178684, 0.125293349590412, -0.0623698539507015, -0.137321087216645, -0.145252621552562, -0.156468827585264, -3.92376845833686, -0.00132850493663976, 0.657270474620499, 0.151843474166171, -0.0894320092754303, 0.0412084326439945, 0.0304116011833345, 0.0290719754839368, -0.147371892034785, 0.0444807116066247, 0.190792674022075, -0.0326946813306596, 0.156931148038986, -0.0486050864981354, 0.0524571130721361, -0.0858511072098753, 0.14809141389101, -5.08219040207816, 0.0628218801024756, 1.52596136590445, 0.45996145325279, -0.512721479668772, -0.323911297059265, -0.0894778706707834, 0.581223258513876, -0.0266642263624298, 0.177509819757704, 0.156552675590723, -0.151399089487505, 0.141017244366611, -0.122770668157201, -0.142087622669499, 0.236535794797364, -0.166141963871846, -4.36559796532336, 0.0487969851025288, 1.15272813136375, -0.264930432976857, -0.124725981057195, -0.0800248900359162, 0.0345987066512636, -0.181804804037113, -0.191306176651629, 0.0841121190792332, 0.0452935506018942, -0.0822141744633745, 0.0953656332707194, 0.140959307474664, 0.0475437718714824, -0.0967659942027831, -0.0311238015840659, -4.88937252315098, -0.0213835346613118, 1.33199104276949, -0.577190606683592, 0.0586544499832331, -0.113088074826844, 0.171909594868169, -0.418998656619814, -0.279101763393202, -0.071516850169519, 0.00447267466079775, -0.00213270387314304, 0.161443234922097, 0.310596290253535, 0.174816057026392, -0.139484837788237, -0.0585891530387411, 4.78487001276975, 0.13225895515329, 0.520021139360844, 0.0833568873009291, -0.188310139794967, 0.245752501502707, 0.0168968720819952, -0.0744160114264094, -0.0352390644091898, 0.0436110864963823, 0.0358028350529464, -0.0100067500093976, 0.0491810506736191, -0.0674316769337136, -0.0290862813288152, 0.0700885478631649, 0.0382288431594646, 5.83316428220572, 0.122027284680666, 0.52816721159643, 0.00731603307283631, 0.0688368554541466, -0.000308488197666658, 0.0165784993872728, 0.0796365067795541, 0.0420108680791564, -0.0727364879892027, 0.0350400413907189, -0.0700162662504707, 0.00216357573482337, -0.063859275209752, 0.0569619512822255, -0.0412685918230713, -0.00428024657422955, 5.04787583988915, 0.0201578643432359, 0.537455539146042, -0.320856187797488, -0.24068334200711, 0.108142322070792, -0.123705148933454, -0.0715342355409094, -0.14092845240792, -0.00774322075264698, -0.107642713804089, 0.0615542684901669, 0.12584802464257, -0.0840699064619171, 0.0389467676297073, 0.158086874204694, 0.228897512615799, 6.15829482722915, -0.0115143510184211, 0.456837111185199, 0.163429648078222, 0.00246537304116541, 0.090458162729722, 0.0168079541245308, 0.0308969420134972, -0.0134093450465856, -0.082943380274922, 0.0226319295069158, -0.156385359369055, -0.00622542639911311, -0.106892831868964, -0.0612966285482818, -0.0906876368674912, -0.0768641186156236, 10.568823419999, 3.42670994443729, 0.399936993790564, 0.116276078633171, 0.465023754703205, 3.26110109479872, 4.11952273358476, 4.46653657091114, 6.25028701514501, 0.371823607782054, 0.46760664465364, 0.433511080183296, 0.519758595384752, 2.5485000366175, 4.8150875020772, 2.88419774050372, 6.00816085472489]</td>\n",
       "        <td>5.56679360449262</td>\n",
       "        <td>66</td>\n",
       "    </tr>\n",
       "</table>"
      ],
      "text/plain": [
       "[([5.25670584140862, 0.0018554548633512, 0.555347086831187, -0.106807655206207, -0.0424818047371426, -0.00841389621115055, -0.0284668640402652, -0.01734 ... (5427 characters truncated) ... 4501, 0.371823607782054, 0.46760664465364, 0.433511080183296, 0.519758595384752, 2.5485000366175, 4.8150875020772, 2.88419774050372, 6.00816085472489], 5.56679360449262, 66)]"
      ]
     },
     "execution_count": 44,
     "metadata": {},
     "output_type": "execute_result"
    }
   ],
   "source": [
    "%%sql\n",
    "DROP TABLE IF EXISTS sensors_mlp_model;\n",
    "DROP TABLE IF EXISTS sensors_mlp_model_standardization;\n",
    "\n",
    "SELECT madlib.mlp_regression(\n",
    "    'sensors_split_train',           -- source_table\n",
    "    'sensors_mlp_model',             -- out_table\n",
    "    'ARRAY[\n",
    "        1,\n",
    "        temperature,\n",
    "        humidity,pm25,\n",
    "        \"month_January\",\"month_February\",\"month_March\",\n",
    "        \"month_April\",\"month_May\",\"month_June\",\n",
    "        \"month_July\",\"month_August\",\"month_September\",\n",
    "        \"month_October\",\"month_November\",\"month_December\"]',       -- feature\n",
    "    'temperature_2',                 -- labels\n",
    "    ARRAY[16],                       -- hidden_layer_sizes\n",
    "    NULL,                            -- optimizer_params,\n",
    "    NULL,                            -- activation,\n",
    "    NULL,                            -- weights,\n",
    "    NULL,                            -- warm_start,\n",
    "    NULL,                            -- verbose,\n",
    "    NULL                             -- grouping_col\n",
    ");\n",
    "\n",
    "SELECT * FROM sensors_mlp_model;"
   ]
  },
  {
   "cell_type": "markdown",
   "id": "9b5699a8-6ed4-4e97-92d3-c3b4c9eb1706",
   "metadata": {},
   "source": [
    "Mean and Standard Deviation for normalizing inputs"
   ]
  },
  {
   "cell_type": "code",
   "execution_count": 45,
   "id": "abc0fcf0-0906-4ec8-9641-4d470c37e3ce",
   "metadata": {
    "execution": {
     "iopub.execute_input": "2021-10-08T03:43:35.949068Z",
     "iopub.status.busy": "2021-10-08T03:43:35.948891Z",
     "iopub.status.idle": "2021-10-08T03:43:35.957773Z",
     "shell.execute_reply": "2021-10-08T03:43:35.957230Z",
     "shell.execute_reply.started": "2021-10-08T03:43:35.949048Z"
    }
   },
   "outputs": [
    {
     "name": "stdout",
     "output_type": "stream",
     "text": [
      " * postgresql://gpadmin@192.168.133.128:32000/db\n",
      "1 rows affected.\n"
     ]
    },
    {
     "data": {
      "text/html": [
       "<table>\n",
       "    <tr>\n",
       "        <th>mean</th>\n",
       "        <th>std</th>\n",
       "    </tr>\n",
       "    <tr>\n",
       "        <td>[1.0, 31.9998097553222, 50.0239741963145, 94.9075849979093, 0.0834571428571429, 0.0749357142857143, 0.0828642857142857, 0.0829571428571429, 0.0856642857142857, 0.08265, 0.0859071428571429, 0.0862714285714286, 0.0828857142857143, 0.0848928571428571, 0.08215, 0.0853642857142857]</td>\n",
       "        <td>[1.0, 0.914811902321368, 14.998929047432, 15.2207529108662, 0.276571958382019, 0.26328758613008, 0.27567697739809, 0.275817431113631, 0.27986767563859, 0.275352460493819, 0.280226882477869, 0.280764437177634, 0.275709398920424, 0.278722191346472, 0.274593112623023, 0.279423020595611]</td>\n",
       "    </tr>\n",
       "</table>"
      ],
      "text/plain": [
       "[([1.0, 31.9998097553222, 50.0239741963145, 94.9075849979093, 0.0834571428571429, 0.0749357142857143, 0.0828642857142857, 0.0829571428571429, 0.0856642857142857, 0.08265, 0.0859071428571429, 0.0862714285714286, 0.0828857142857143, 0.0848928571428571, 0.08215, 0.0853642857142857], [1.0, 0.914811902321368, 14.998929047432, 15.2207529108662, 0.276571958382019, 0.26328758613008, 0.27567697739809, 0.275817431113631, 0.27986767563859, 0.275352460493819, 0.280226882477869, 0.280764437177634, 0.275709398920424, 0.278722191346472, 0.274593112623023, 0.279423020595611])]"
      ]
     },
     "execution_count": 45,
     "metadata": {},
     "output_type": "execute_result"
    }
   ],
   "source": [
    "%%sql\n",
    "\n",
    "SELECT * FROM sensors_mlp_model_standardization;"
   ]
  },
  {
   "cell_type": "code",
   "execution_count": 46,
   "id": "520a33ed-97fb-4448-8d64-6b841696a264",
   "metadata": {
    "execution": {
     "iopub.execute_input": "2021-10-08T03:43:35.958927Z",
     "iopub.status.busy": "2021-10-08T03:43:35.958644Z",
     "iopub.status.idle": "2021-10-08T03:43:39.928750Z",
     "shell.execute_reply": "2021-10-08T03:43:39.928107Z",
     "shell.execute_reply.started": "2021-10-08T03:43:35.958904Z"
    },
    "tags": []
   },
   "outputs": [
    {
     "name": "stdout",
     "output_type": "stream",
     "text": [
      " * postgresql://gpadmin@192.168.133.128:32000/db\n",
      "1 rows affected.\n"
     ]
    },
    {
     "data": {
      "text/html": [
       "<table>\n",
       "    <tr>\n",
       "        <th>mlp_predict</th>\n",
       "    </tr>\n",
       "    <tr>\n",
       "        <td></td>\n",
       "    </tr>\n",
       "</table>"
      ],
      "text/plain": [
       "[('',)]"
      ]
     },
     "execution_count": 46,
     "metadata": {},
     "output_type": "execute_result"
    }
   ],
   "source": [
    "%%sql\n",
    "SELECT \n",
    "    madlib.mlp_predict(\n",
    "        'sensors_mlp_model',\n",
    "        'sensors_split_test',\n",
    "        'ARRAY[\n",
    "            1,\n",
    "            temperature,\n",
    "            humidity,pm25,\n",
    "            \"month_January\",\"month_February\",\"month_March\",\n",
    "            \"month_April\",\"month_May\",\"month_June\",\n",
    "            \"month_July\",\"month_August\",\"month_September\",\n",
    "            \"month_October\",\"month_November\",\"month_December\"]',\n",
    "        'sensors_mlp_test_predict',\n",
    "        'response'\n",
    "    );"
   ]
  },
  {
   "cell_type": "code",
   "execution_count": 47,
   "id": "23af25da-7ce4-4082-9086-61fe05af56f8",
   "metadata": {
    "execution": {
     "iopub.execute_input": "2021-10-08T03:43:39.930282Z",
     "iopub.status.busy": "2021-10-08T03:43:39.930004Z",
     "iopub.status.idle": "2021-10-08T03:43:42.033821Z",
     "shell.execute_reply": "2021-10-08T03:43:42.033338Z",
     "shell.execute_reply.started": "2021-10-08T03:43:39.930253Z"
    },
    "tags": []
   },
   "outputs": [
    {
     "name": "stdout",
     "output_type": "stream",
     "text": [
      " * postgresql://gpadmin@192.168.133.128:32000/db\n",
      "Done.\n",
      "1 rows affected.\n",
      "5 rows affected.\n"
     ]
    },
    {
     "data": {
      "text/html": [
       "<table>\n",
       "    <tr>\n",
       "        <th>temperature_2</th>\n",
       "        <th>estimated_temperature_2</th>\n",
       "    </tr>\n",
       "    <tr>\n",
       "        <td>43.3934340393275</td>\n",
       "        <td>48.3204241580749</td>\n",
       "    </tr>\n",
       "    <tr>\n",
       "        <td>49.7321663797957</td>\n",
       "        <td>48.4934621436375</td>\n",
       "    </tr>\n",
       "    <tr>\n",
       "        <td>50.5813168067215</td>\n",
       "        <td>48.143796833076</td>\n",
       "    </tr>\n",
       "    <tr>\n",
       "        <td>41.163094159682</td>\n",
       "        <td>48.1279781773618</td>\n",
       "    </tr>\n",
       "    <tr>\n",
       "        <td>48.7028745951505</td>\n",
       "        <td>48.0704278050094</td>\n",
       "    </tr>\n",
       "</table>"
      ],
      "text/plain": [
       "[(43.3934340393275, 48.3204241580749),\n",
       " (49.7321663797957, 48.4934621436375),\n",
       " (50.5813168067215, 48.143796833076),\n",
       " (41.163094159682, 48.1279781773618),\n",
       " (48.7028745951505, 48.0704278050094)]"
      ]
     },
     "execution_count": 47,
     "metadata": {},
     "output_type": "execute_result"
    }
   ],
   "source": [
    "%%sql\n",
    "DROP TABLE IF EXISTS sensors_mlp_test_predict;\n",
    "\n",
    "SELECT \n",
    "    madlib.mlp_predict(\n",
    "        'sensors_mlp_model',\n",
    "        'sensors_split_test',\n",
    "        'temperature_2',\n",
    "        'sensors_mlp_test_predict',\n",
    "        'response'\n",
    "    );\n",
    "    \n",
    "SELECT * FROM sensors_mlp_test_predict LIMIT 5;"
   ]
  },
  {
   "cell_type": "code",
   "execution_count": 48,
   "id": "93e8f351-8201-4d56-b13e-0366f6990df5",
   "metadata": {
    "execution": {
     "iopub.execute_input": "2021-10-08T03:43:42.035042Z",
     "iopub.status.busy": "2021-10-08T03:43:42.034863Z",
     "iopub.status.idle": "2021-10-08T03:43:42.337024Z",
     "shell.execute_reply": "2021-10-08T03:43:42.336537Z",
     "shell.execute_reply.started": "2021-10-08T03:43:42.035021Z"
    },
    "tags": []
   },
   "outputs": [
    {
     "name": "stdout",
     "output_type": "stream",
     "text": [
      " * postgresql://gpadmin@192.168.133.128:32000/db\n",
      "Done.\n",
      "1 rows affected.\n",
      "1 rows affected.\n"
     ]
    },
    {
     "data": {
      "text/html": [
       "<table>\n",
       "    <tr>\n",
       "        <th>mean_squared_error</th>\n",
       "    </tr>\n",
       "    <tr>\n",
       "        <td>11.183961249727</td>\n",
       "    </tr>\n",
       "</table>"
      ],
      "text/plain": [
       "[(11.183961249727,)]"
      ]
     },
     "execution_count": 48,
     "metadata": {},
     "output_type": "execute_result"
    }
   ],
   "source": [
    "%%sql \n",
    "DROP TABLE IF EXISTS sensors_mlp_test_predict_mse;\n",
    "\n",
    "SELECT madlib.mean_squared_error(\n",
    "    'sensors_mlp_test_predict',      -- table_in\n",
    "    'sensors_mlp_test_predict_mse',  -- table_out\n",
    "    'estimated_temperature_2',  -- prediction\n",
    "    'temperature_2'  -- y_test\n",
    ");\n",
    "\n",
    "SELECT * FROM sensors_mlp_test_predict_mse;"
   ]
  },
  {
   "cell_type": "code",
   "execution_count": 49,
   "id": "44debf37-f0b1-43ef-b4a5-94e771ddcc8a",
   "metadata": {
    "execution": {
     "iopub.execute_input": "2021-10-08T03:43:42.338201Z",
     "iopub.status.busy": "2021-10-08T03:43:42.337952Z",
     "iopub.status.idle": "2021-10-08T03:43:42.349412Z",
     "shell.execute_reply": "2021-10-08T03:43:42.348846Z",
     "shell.execute_reply.started": "2021-10-08T03:43:42.338180Z"
    },
    "tags": []
   },
   "outputs": [
    {
     "name": "stdout",
     "output_type": "stream",
     "text": [
      " * postgresql://gpadmin@192.168.133.128:32000/db\n",
      "200 rows affected.\n"
     ]
    }
   ],
   "source": [
    "pred = %sql SELECT temperature_2 as y_test, estimated_temperature_2 as prediction FROM sensors_mlp_test_predict LIMIT 200;\n",
    "pred=pred.DataFrame()"
   ]
  },
  {
   "cell_type": "code",
   "execution_count": 50,
   "id": "58f2fc8b-240d-41d6-97f3-df15459a4c63",
   "metadata": {
    "execution": {
     "iopub.execute_input": "2021-10-08T03:43:42.350635Z",
     "iopub.status.busy": "2021-10-08T03:43:42.350395Z",
     "iopub.status.idle": "2021-10-08T03:43:42.703375Z",
     "shell.execute_reply": "2021-10-08T03:43:42.702551Z",
     "shell.execute_reply.started": "2021-10-08T03:43:42.350614Z"
>>>>>>> master
    },
    "tags": []
   },
   "outputs": [
    {
     "data": {
<<<<<<< HEAD
      "image/png": "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\n",
=======
      "image/png": "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\n",
>>>>>>> master
      "text/plain": [
       "<Figure size 720x360 with 1 Axes>"
      ]
     },
     "metadata": {
      "needs_background": "light"
     },
     "output_type": "display_data"
    }
   ],
   "source": [
    "%matplotlib inline\n",
    "sns.lmplot(x='prediction',y='y_test',data=pred,height=5,aspect=2)\n",
<<<<<<< HEAD
    "plt.title(\"LR prediction , y_test scatterplot\") \n",
=======
    "plt.title(\"MLP prediction , y_test scatterplot \") \n",
>>>>>>> master
    "plt.ylim(30,70);"
   ]
  },
  {
   "cell_type": "markdown",
   "id": "df828697-81f5-453f-8405-986b2216642e",
   "metadata": {},
   "source": [
    "## Multilayer Perceptron ( ANN )"
   ]
  },
  {
   "cell_type": "code",
   "execution_count": 44,
   "id": "f7fd2dbc-eb22-4f1c-8bc9-13d50fa54b4c",
   "metadata": {
    "execution": {
     "iopub.execute_input": "2021-10-08T03:41:23.706588Z",
     "iopub.status.busy": "2021-10-08T03:41:23.706430Z",
     "iopub.status.idle": "2021-10-08T03:43:35.947959Z",
     "shell.execute_reply": "2021-10-08T03:43:35.947272Z",
     "shell.execute_reply.started": "2021-10-08T03:41:23.706570Z"
    },
    "tags": []
   },
   "outputs": [
    {
     "name": "stdout",
     "output_type": "stream",
     "text": [
      " * postgresql://gpadmin@192.168.133.128:32000/db\n",
      "Done.\n",
      "Done.\n",
      "1 rows affected.\n",
      "1 rows affected.\n"
     ]
    },
    {
     "data": {
      "text/html": [
       "<table>\n",
       "    <tr>\n",
       "        <th>coeff</th>\n",
       "        <th>loss</th>\n",
       "        <th>num_iterations</th>\n",
       "    </tr>\n",
       "    <tr>\n",
       "        <td>[5.25670584140862, 0.0018554548633512, 0.555347086831187, -0.106807655206207, -0.0424818047371426, -0.00841389621115055, -0.0284668640402652, -0.0173400368253576, -0.0205505040664786, -0.0456685145736653, 0.00659473675409469, 0.0138846319908715, 0.041172991873062, -0.0810832441498937, 0.0485989667263108, 0.00857614675629368, 0.0575251885142829, -4.08625118088112, 0.00583776371143724, 0.849060162597831, 0.363783621456659, -0.163378734809073, -0.0590957352479027, -0.0899418313800322, 0.163559478495432, -0.233390589776409, 0.0143136656236015, 0.119996010424356, -0.0644108230319712, 0.118987467974524, -0.159900291783802, -0.000147690721396246, -0.0245887175397426, 0.0270757238862405, -2.9306385192232, -0.0469147036331727, 0.437054384310109, 0.154576448877015, 0.0984932811768907, 0.113071281137765, -0.120845731245448, -0.154348408945457, -0.21385223874987, 0.187563972585618, -0.149029033990829, -0.187393128239038, 0.00293591830026232, 0.0511774699730144, 0.0767383080631419, 0.0892353943686344, 0.189165179495315, -5.54703925165866, 0.0616203386122864, 2.54957775707541, 0.242029966375427, 0.408460709265059, -0.100545351604146, -0.467641161951248, -0.166764307545682, 0.296938497056965, 0.237215204420498, -0.243283027749784, 0.141687504534141, -0.114634063686923, 0.188406845548277, 0.0445810342259304, 0.165228010922533, -0.17585057579428, 5.3389554935505, -0.153133026098753, 0.544895285673065, -0.13373771262981, 0.177909489857114, -0.113340704276614, 0.00284639374791657, 0.0685446943233156, 0.00127137141329655, -0.106023016640917, 0.0557555178433985, -0.0179072341105107, -0.00232552293760285, -0.0784893952624211, 0.13016164773188, -0.0840114050464857, -0.00826984906825268, 5.68116748713059, -0.10620390960544, 0.541881956666655, -0.08623861358931, 0.174041064020625, -0.0995168765498124, 0.0038014433600686, 0.0974603393060724, 0.0302913943881772, -0.111334740034634, 0.0420325413789321, -0.0540407091074351, -0.0141483513378679, -0.0660522281214039, 0.12261221002967, -0.0793977490372578, -0.0174754533731286, 5.79106491930024, -0.00516167035342254, 0.558020874889769, -0.137613111938722, 0.117674054998515, -0.0876556562104989, 0.00420116861486583, 0.0687683521619926, 0.0288246052670619, -0.0777518924025109, 0.0637424751491854, 0.00638417064091578, 0.0418051877971506, -0.0601964775762482, 0.13080721658121, -0.043964894698242, 0.0216610366266831, 6.23389279891197, 0.0565134419033825, 0.300481401834401, 0.408455864013349, -0.0508870008582935, 0.221859763991623, 0.111505339482115, -0.00538529366558486, -0.0573918533348857, -0.048144530079581, 0.120898424079498, -0.229684095178684, 0.125293349590412, -0.0623698539507015, -0.137321087216645, -0.145252621552562, -0.156468827585264, -3.92376845833686, -0.00132850493663976, 0.657270474620499, 0.151843474166171, -0.0894320092754303, 0.0412084326439945, 0.0304116011833345, 0.0290719754839368, -0.147371892034785, 0.0444807116066247, 0.190792674022075, -0.0326946813306596, 0.156931148038986, -0.0486050864981354, 0.0524571130721361, -0.0858511072098753, 0.14809141389101, -5.08219040207816, 0.0628218801024756, 1.52596136590445, 0.45996145325279, -0.512721479668772, -0.323911297059265, -0.0894778706707834, 0.581223258513876, -0.0266642263624298, 0.177509819757704, 0.156552675590723, -0.151399089487505, 0.141017244366611, -0.122770668157201, -0.142087622669499, 0.236535794797364, -0.166141963871846, -4.36559796532336, 0.0487969851025288, 1.15272813136375, -0.264930432976857, -0.124725981057195, -0.0800248900359162, 0.0345987066512636, -0.181804804037113, -0.191306176651629, 0.0841121190792332, 0.0452935506018942, -0.0822141744633745, 0.0953656332707194, 0.140959307474664, 0.0475437718714824, -0.0967659942027831, -0.0311238015840659, -4.88937252315098, -0.0213835346613118, 1.33199104276949, -0.577190606683592, 0.0586544499832331, -0.113088074826844, 0.171909594868169, -0.418998656619814, -0.279101763393202, -0.071516850169519, 0.00447267466079775, -0.00213270387314304, 0.161443234922097, 0.310596290253535, 0.174816057026392, -0.139484837788237, -0.0585891530387411, 4.78487001276975, 0.13225895515329, 0.520021139360844, 0.0833568873009291, -0.188310139794967, 0.245752501502707, 0.0168968720819952, -0.0744160114264094, -0.0352390644091898, 0.0436110864963823, 0.0358028350529464, -0.0100067500093976, 0.0491810506736191, -0.0674316769337136, -0.0290862813288152, 0.0700885478631649, 0.0382288431594646, 5.83316428220572, 0.122027284680666, 0.52816721159643, 0.00731603307283631, 0.0688368554541466, -0.000308488197666658, 0.0165784993872728, 0.0796365067795541, 0.0420108680791564, -0.0727364879892027, 0.0350400413907189, -0.0700162662504707, 0.00216357573482337, -0.063859275209752, 0.0569619512822255, -0.0412685918230713, -0.00428024657422955, 5.04787583988915, 0.0201578643432359, 0.537455539146042, -0.320856187797488, -0.24068334200711, 0.108142322070792, -0.123705148933454, -0.0715342355409094, -0.14092845240792, -0.00774322075264698, -0.107642713804089, 0.0615542684901669, 0.12584802464257, -0.0840699064619171, 0.0389467676297073, 0.158086874204694, 0.228897512615799, 6.15829482722915, -0.0115143510184211, 0.456837111185199, 0.163429648078222, 0.00246537304116541, 0.090458162729722, 0.0168079541245308, 0.0308969420134972, -0.0134093450465856, -0.082943380274922, 0.0226319295069158, -0.156385359369055, -0.00622542639911311, -0.106892831868964, -0.0612966285482818, -0.0906876368674912, -0.0768641186156236, 10.568823419999, 3.42670994443729, 0.399936993790564, 0.116276078633171, 0.465023754703205, 3.26110109479872, 4.11952273358476, 4.46653657091114, 6.25028701514501, 0.371823607782054, 0.46760664465364, 0.433511080183296, 0.519758595384752, 2.5485000366175, 4.8150875020772, 2.88419774050372, 6.00816085472489]</td>\n",
       "        <td>5.56679360449262</td>\n",
       "        <td>66</td>\n",
       "    </tr>\n",
       "</table>"
      ],
      "text/plain": [
       "[([5.25670584140862, 0.0018554548633512, 0.555347086831187, -0.106807655206207, -0.0424818047371426, -0.00841389621115055, -0.0284668640402652, -0.01734 ... (5427 characters truncated) ... 4501, 0.371823607782054, 0.46760664465364, 0.433511080183296, 0.519758595384752, 2.5485000366175, 4.8150875020772, 2.88419774050372, 6.00816085472489], 5.56679360449262, 66)]"
      ]
     },
     "execution_count": 44,
     "metadata": {},
     "output_type": "execute_result"
    }
   ],
   "source": [
    "%%sql\n",
    "DROP TABLE IF EXISTS sensors_mlp_model;\n",
    "DROP TABLE IF EXISTS sensors_mlp_model_standardization;\n",
    "\n",
    "SELECT madlib.mlp_regression(\n",
    "    'sensors_split_train',           -- source_table\n",
    "    'sensors_mlp_model',             -- out_table\n",
    "    'ARRAY[\n",
    "        1,\n",
    "        temperature,\n",
    "        humidity,pm25,\n",
    "        \"month_January\",\"month_February\",\"month_March\",\n",
    "        \"month_April\",\"month_May\",\"month_June\",\n",
    "        \"month_July\",\"month_August\",\"month_September\",\n",
    "        \"month_October\",\"month_November\",\"month_December\"]',       -- feature\n",
    "    'temperature_2',                 -- labels\n",
    "    ARRAY[16],                       -- hidden_layer_sizes\n",
    "    NULL,                            -- optimizer_params,\n",
    "    NULL,                            -- activation,\n",
    "    NULL,                            -- weights,\n",
    "    NULL,                            -- warm_start,\n",
    "    NULL,                            -- verbose,\n",
    "    NULL                             -- grouping_col\n",
    ");\n",
    "\n",
    "SELECT * FROM sensors_mlp_model;"
   ]
  },
  {
   "cell_type": "markdown",
   "id": "9b5699a8-6ed4-4e97-92d3-c3b4c9eb1706",
   "metadata": {},
   "source": [
    "Mean and Standard Deviation for normalizing inputs"
   ]
  },
  {
   "cell_type": "code",
   "execution_count": 45,
   "id": "abc0fcf0-0906-4ec8-9641-4d470c37e3ce",
   "metadata": {
    "execution": {
     "iopub.execute_input": "2021-10-08T03:43:35.949068Z",
     "iopub.status.busy": "2021-10-08T03:43:35.948891Z",
     "iopub.status.idle": "2021-10-08T03:43:35.957773Z",
     "shell.execute_reply": "2021-10-08T03:43:35.957230Z",
     "shell.execute_reply.started": "2021-10-08T03:43:35.949048Z"
    }
   },
   "outputs": [
    {
     "name": "stdout",
     "output_type": "stream",
     "text": [
      " * postgresql://gpadmin@192.168.133.128:32000/db\n",
      "1 rows affected.\n"
     ]
    },
    {
     "data": {
      "text/html": [
       "<table>\n",
       "    <tr>\n",
       "        <th>mean</th>\n",
       "        <th>std</th>\n",
       "    </tr>\n",
       "    <tr>\n",
       "        <td>[1.0, 31.9998097553222, 50.0239741963145, 94.9075849979093, 0.0834571428571429, 0.0749357142857143, 0.0828642857142857, 0.0829571428571429, 0.0856642857142857, 0.08265, 0.0859071428571429, 0.0862714285714286, 0.0828857142857143, 0.0848928571428571, 0.08215, 0.0853642857142857]</td>\n",
       "        <td>[1.0, 0.914811902321368, 14.998929047432, 15.2207529108662, 0.276571958382019, 0.26328758613008, 0.27567697739809, 0.275817431113631, 0.27986767563859, 0.275352460493819, 0.280226882477869, 0.280764437177634, 0.275709398920424, 0.278722191346472, 0.274593112623023, 0.279423020595611]</td>\n",
       "    </tr>\n",
       "</table>"
      ],
      "text/plain": [
       "[([1.0, 31.9998097553222, 50.0239741963145, 94.9075849979093, 0.0834571428571429, 0.0749357142857143, 0.0828642857142857, 0.0829571428571429, 0.0856642857142857, 0.08265, 0.0859071428571429, 0.0862714285714286, 0.0828857142857143, 0.0848928571428571, 0.08215, 0.0853642857142857], [1.0, 0.914811902321368, 14.998929047432, 15.2207529108662, 0.276571958382019, 0.26328758613008, 0.27567697739809, 0.275817431113631, 0.27986767563859, 0.275352460493819, 0.280226882477869, 0.280764437177634, 0.275709398920424, 0.278722191346472, 0.274593112623023, 0.279423020595611])]"
      ]
     },
     "execution_count": 45,
     "metadata": {},
     "output_type": "execute_result"
    }
   ],
   "source": [
    "%%sql\n",
    "\n",
    "SELECT * FROM sensors_mlp_model_standardization;"
   ]
  },
  {
   "cell_type": "code",
   "execution_count": 46,
   "id": "520a33ed-97fb-4448-8d64-6b841696a264",
   "metadata": {
    "execution": {
     "iopub.execute_input": "2021-10-08T03:43:35.958927Z",
     "iopub.status.busy": "2021-10-08T03:43:35.958644Z",
     "iopub.status.idle": "2021-10-08T03:43:39.928750Z",
     "shell.execute_reply": "2021-10-08T03:43:39.928107Z",
     "shell.execute_reply.started": "2021-10-08T03:43:35.958904Z"
    },
    "tags": []
   },
   "outputs": [
    {
     "name": "stdout",
     "output_type": "stream",
     "text": [
      " * postgresql://gpadmin@192.168.133.128:32000/db\n",
      "1 rows affected.\n"
     ]
    },
    {
     "data": {
      "text/html": [
       "<table>\n",
       "    <tr>\n",
       "        <th>mlp_predict</th>\n",
       "    </tr>\n",
       "    <tr>\n",
       "        <td></td>\n",
       "    </tr>\n",
       "</table>"
      ],
      "text/plain": [
       "[('',)]"
      ]
     },
     "execution_count": 46,
     "metadata": {},
     "output_type": "execute_result"
    }
   ],
   "source": [
    "%%sql\n",
    "SELECT \n",
    "    madlib.mlp_predict(\n",
    "        'sensors_mlp_model',\n",
    "        'sensors_split_test',\n",
    "        'ARRAY[\n",
    "            1,\n",
    "            temperature,\n",
    "            humidity,pm25,\n",
    "            \"month_January\",\"month_February\",\"month_March\",\n",
    "            \"month_April\",\"month_May\",\"month_June\",\n",
    "            \"month_July\",\"month_August\",\"month_September\",\n",
    "            \"month_October\",\"month_November\",\"month_December\"]',\n",
    "        'sensors_mlp_test_predict',\n",
    "        'response'\n",
    "    );"
   ]
  },
  {
   "cell_type": "code",
   "execution_count": 47,
   "id": "23af25da-7ce4-4082-9086-61fe05af56f8",
   "metadata": {
    "execution": {
     "iopub.execute_input": "2021-10-08T03:43:39.930282Z",
     "iopub.status.busy": "2021-10-08T03:43:39.930004Z",
     "iopub.status.idle": "2021-10-08T03:43:42.033821Z",
     "shell.execute_reply": "2021-10-08T03:43:42.033338Z",
     "shell.execute_reply.started": "2021-10-08T03:43:39.930253Z"
    },
    "tags": []
   },
   "outputs": [
    {
     "name": "stdout",
     "output_type": "stream",
     "text": [
      " * postgresql://gpadmin@192.168.133.128:32000/db\n",
      "Done.\n",
      "1 rows affected.\n",
      "5 rows affected.\n"
     ]
    },
    {
     "data": {
      "text/html": [
       "<table>\n",
       "    <tr>\n",
       "        <th>temperature_2</th>\n",
       "        <th>estimated_temperature_2</th>\n",
       "    </tr>\n",
       "    <tr>\n",
       "        <td>43.3934340393275</td>\n",
       "        <td>48.3204241580749</td>\n",
       "    </tr>\n",
       "    <tr>\n",
       "        <td>49.7321663797957</td>\n",
       "        <td>48.4934621436375</td>\n",
       "    </tr>\n",
       "    <tr>\n",
       "        <td>50.5813168067215</td>\n",
       "        <td>48.143796833076</td>\n",
       "    </tr>\n",
       "    <tr>\n",
       "        <td>41.163094159682</td>\n",
       "        <td>48.1279781773618</td>\n",
       "    </tr>\n",
       "    <tr>\n",
       "        <td>48.7028745951505</td>\n",
       "        <td>48.0704278050094</td>\n",
       "    </tr>\n",
       "</table>"
      ],
      "text/plain": [
       "[(43.3934340393275, 48.3204241580749),\n",
       " (49.7321663797957, 48.4934621436375),\n",
       " (50.5813168067215, 48.143796833076),\n",
       " (41.163094159682, 48.1279781773618),\n",
       " (48.7028745951505, 48.0704278050094)]"
      ]
     },
     "execution_count": 47,
     "metadata": {},
     "output_type": "execute_result"
    }
   ],
   "source": [
    "%%sql\n",
    "DROP TABLE IF EXISTS sensors_mlp_test_predict;\n",
    "\n",
    "SELECT \n",
    "    madlib.mlp_predict(\n",
    "        'sensors_mlp_model',\n",
    "        'sensors_split_test',\n",
    "        'temperature_2',\n",
    "        'sensors_mlp_test_predict',\n",
    "        'response'\n",
    "    );\n",
    "    \n",
    "SELECT * FROM sensors_mlp_test_predict LIMIT 5;"
   ]
  },
  {
   "cell_type": "code",
   "execution_count": 48,
   "id": "93e8f351-8201-4d56-b13e-0366f6990df5",
   "metadata": {
    "execution": {
     "iopub.execute_input": "2021-10-08T03:43:42.035042Z",
     "iopub.status.busy": "2021-10-08T03:43:42.034863Z",
     "iopub.status.idle": "2021-10-08T03:43:42.337024Z",
     "shell.execute_reply": "2021-10-08T03:43:42.336537Z",
     "shell.execute_reply.started": "2021-10-08T03:43:42.035021Z"
    },
    "tags": []
   },
   "outputs": [
    {
     "name": "stdout",
     "output_type": "stream",
     "text": [
      " * postgresql://gpadmin@192.168.133.128:32000/db\n",
      "Done.\n",
      "1 rows affected.\n",
      "1 rows affected.\n"
     ]
    },
    {
     "data": {
      "text/html": [
       "<table>\n",
       "    <tr>\n",
       "        <th>mean_squared_error</th>\n",
       "    </tr>\n",
       "    <tr>\n",
       "        <td>11.183961249727</td>\n",
       "    </tr>\n",
       "</table>"
      ],
      "text/plain": [
       "[(11.183961249727,)]"
      ]
     },
     "execution_count": 48,
     "metadata": {},
     "output_type": "execute_result"
    }
   ],
   "source": [
    "%%sql \n",
    "DROP TABLE IF EXISTS sensors_mlp_test_predict_mse;\n",
    "\n",
    "SELECT madlib.mean_squared_error(\n",
    "    'sensors_mlp_test_predict',      -- table_in\n",
    "    'sensors_mlp_test_predict_mse',  -- table_out\n",
    "    'estimated_temperature_2',  -- prediction\n",
    "    'temperature_2'  -- y_test\n",
    ");\n",
    "\n",
    "SELECT * FROM sensors_mlp_test_predict_mse;"
   ]
  },
  {
   "cell_type": "code",
   "execution_count": 49,
   "id": "44debf37-f0b1-43ef-b4a5-94e771ddcc8a",
   "metadata": {
    "execution": {
     "iopub.execute_input": "2021-10-08T03:43:42.338201Z",
     "iopub.status.busy": "2021-10-08T03:43:42.337952Z",
     "iopub.status.idle": "2021-10-08T03:43:42.349412Z",
     "shell.execute_reply": "2021-10-08T03:43:42.348846Z",
     "shell.execute_reply.started": "2021-10-08T03:43:42.338180Z"
    },
    "tags": []
   },
   "outputs": [
    {
     "name": "stdout",
     "output_type": "stream",
     "text": [
      " * postgresql://gpadmin@192.168.133.128:32000/db\n",
      "200 rows affected.\n"
     ]
    }
   ],
   "source": [
    "pred = %sql SELECT temperature_2 as y_test, estimated_temperature_2 as prediction FROM sensors_mlp_test_predict LIMIT 200;\n",
    "pred=pred.DataFrame()"
   ]
  },
  {
   "cell_type": "code",
   "execution_count": 50,
   "id": "58f2fc8b-240d-41d6-97f3-df15459a4c63",
   "metadata": {
    "execution": {
     "iopub.execute_input": "2021-10-08T03:43:42.350635Z",
     "iopub.status.busy": "2021-10-08T03:43:42.350395Z",
     "iopub.status.idle": "2021-10-08T03:43:42.703375Z",
     "shell.execute_reply": "2021-10-08T03:43:42.702551Z",
     "shell.execute_reply.started": "2021-10-08T03:43:42.350614Z"
    },
    "tags": []
   },
   "outputs": [
    {
     "data": {
      "image/png": "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\n",
      "text/plain": [
       "<Figure size 720x360 with 1 Axes>"
      ]
     },
     "metadata": {
      "needs_background": "light"
     },
     "output_type": "display_data"
    }
   ],
   "source": [
    "sns.lmplot(x='prediction',y='y_test',data=pred,height=5,aspect=2)\n",
    "plt.title(\"MLP prediction , y_test scatterplot \") \n",
    "plt.ylim(30,70);"
   ]
  }
 ],
 "metadata": {
  "kernelspec": {
   "display_name": "Python 3",
   "language": "python",
   "name": "python3"
  },
  "language_info": {
   "codemirror_mode": {
    "name": "ipython",
    "version": 3
   },
   "file_extension": ".py",
   "mimetype": "text/x-python",
   "name": "python",
   "nbconvert_exporter": "python",
   "pygments_lexer": "ipython3",
   "version": "3.7.11"
  },
  "presto": {
   "id": "fae15e3e-a2ca-498d-a658-60e154fe1d65"
  }
 },
 "nbformat": 4,
 "nbformat_minor": 5
}
