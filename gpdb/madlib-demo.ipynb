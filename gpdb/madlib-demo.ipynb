{
 "cells": [
  {
   "cell_type": "markdown",
   "id": "81dce510-c17f-4e05-9d70-40b049404558",
   "metadata": {},
   "source": [
    "## MADlib Greenplum Demo\n",
    "---"
   ]
  },
  {
   "cell_type": "markdown",
   "id": "222f598c-5da6-4931-bd9e-9af36d1dc84d",
   "metadata": {},
   "source": [
    "### Import neccessary Data Science libraries"
   ]
  },
  {
   "cell_type": "code",
   "execution_count": 1,
   "id": "1fff5feb-54f5-4025-9dae-0ed5925c9fbe",
   "metadata": {
    "execution": {
     "iopub.execute_input": "2021-10-04T12:51:13.541713Z",
     "iopub.status.busy": "2021-10-04T12:51:13.541501Z",
     "iopub.status.idle": "2021-10-04T12:51:14.408191Z",
     "shell.execute_reply": "2021-10-04T12:51:14.407719Z",
     "shell.execute_reply.started": "2021-10-04T12:51:13.541690Z"
    },
    "tags": []
   },
   "outputs": [],
   "source": [
    "import pandas as pd\n",
    "import numpy as np\n",
    "import seaborn as sns\n",
    "import matplotlib.pyplot as plt\n",
    "pd.set_option('display.max_columns', 200)"
   ]
  },
  {
   "cell_type": "markdown",
   "id": "09157fb2-2108-4d53-9353-aa3068b76918",
   "metadata": {},
   "source": [
    "Connect to Greenplum Database"
   ]
  },
  {
   "cell_type": "code",
   "execution_count": 2,
   "id": "45035b3a-0cc9-486f-aa0c-62908680f7e2",
   "metadata": {
    "execution": {
     "iopub.execute_input": "2021-10-04T12:51:14.409438Z",
     "iopub.status.busy": "2021-10-04T12:51:14.409267Z",
     "iopub.status.idle": "2021-10-04T12:51:14.559968Z",
     "shell.execute_reply": "2021-10-04T12:51:14.559412Z",
     "shell.execute_reply.started": "2021-10-04T12:51:14.409419Z"
    },
    "tags": []
   },
   "outputs": [],
   "source": [
    "%load_ext sql"
   ]
  },
  {
   "cell_type": "code",
   "execution_count": 3,
   "id": "a57ee55c-91f9-4427-b7f7-180b2c5d4aae",
   "metadata": {
    "execution": {
     "iopub.execute_input": "2021-10-04T12:51:14.561777Z",
     "iopub.status.busy": "2021-10-04T12:51:14.561591Z",
     "iopub.status.idle": "2021-10-04T12:51:16.402830Z",
     "shell.execute_reply": "2021-10-04T12:51:16.402265Z",
     "shell.execute_reply.started": "2021-10-04T12:51:14.561756Z"
    },
    "tags": []
   },
   "outputs": [
    {
     "name": "stdout",
     "output_type": "stream",
     "text": [
      "|-------------|------------------------------------------------------|--------------|------------------------------|\n",
      "|  NAMESPACE  |                         NAME                         | TARGET PORT  |             URL              |\n",
      "|-------------|------------------------------------------------------|--------------|------------------------------|\n",
      "| default     | agent                                                | No node port |\n",
      "| default     | greenplum                                            | psql/5432    | http://192.168.133.128:32000 |\n",
      "| default     | greenplum-validating-webhook-service-9d44d9fcf-t26tq | No node port |\n",
      "| default     | kubernetes                                           | No node port |\n",
      "| default     | my-greenplum-pl                                      | No node port |\n",
      "| default     | my-greenplum-pxf                                     | No node port |\n",
      "| kube-system | kube-dns                                             | No node port |\n",
      "|-------------|------------------------------------------------------|--------------|------------------------------|\n"
     ]
    }
   ],
   "source": [
    "!minikube service list"
   ]
  },
  {
   "cell_type": "code",
   "execution_count": 4,
   "id": "f898f542-6fb9-4220-8ca2-a9ba6b452563",
   "metadata": {
    "execution": {
     "iopub.execute_input": "2021-10-04T12:51:16.404318Z",
     "iopub.status.busy": "2021-10-04T12:51:16.404102Z",
     "iopub.status.idle": "2021-10-04T12:51:16.474717Z",
     "shell.execute_reply": "2021-10-04T12:51:16.474104Z",
     "shell.execute_reply.started": "2021-10-04T12:51:16.404294Z"
    },
    "tags": []
   },
   "outputs": [
    {
     "name": "stderr",
     "output_type": "stream",
     "text": [
      "/usr/local/anaconda3/envs/madlib/lib/python3.6/site-packages/psycopg2/__init__.py:144: UserWarning: The psycopg2 wheel package will be renamed from release 2.8; in order to keep installing from binary please use \"pip install psycopg2-binary\" instead. For details see: <http://initd.org/psycopg/docs/install.html#binary-install-from-pypi>.\n",
      "  \"\"\")\n"
     ]
    }
   ],
   "source": [
    "%sql postgresql://gpadmin@192.168.133.128:32000/db"
   ]
  },
  {
   "cell_type": "markdown",
   "id": "dbde5ef6-811b-471d-9021-416f311d50ae",
   "metadata": {},
   "source": [
    "### Check Database Data"
   ]
  },
  {
   "cell_type": "code",
   "execution_count": 5,
   "id": "6cdd0301-7bb6-47dc-a688-56ba3df9920d",
   "metadata": {
    "execution": {
     "iopub.execute_input": "2021-10-04T10:18:55.305397Z",
     "iopub.status.busy": "2021-10-04T10:18:55.305215Z",
     "iopub.status.idle": "2021-10-04T10:18:55.553838Z",
     "shell.execute_reply": "2021-10-04T10:18:55.553118Z",
     "shell.execute_reply.started": "2021-10-04T10:18:55.305377Z"
    },
    "tags": []
   },
   "outputs": [
    {
     "name": "stdout",
     "output_type": "stream",
     "text": [
      " * postgresql://gpadmin@192.168.133.128:32000/db\n",
      "1 rows affected.\n"
     ]
    },
    {
     "data": {
      "text/html": [
       "<table>\n",
       "    <tr>\n",
       "        <th>num_sample</th>\n",
       "    </tr>\n",
       "    <tr>\n",
       "        <td>200000</td>\n",
       "    </tr>\n",
       "</table>"
      ],
      "text/plain": [
       "[(200000,)]"
      ]
     },
     "execution_count": 5,
     "metadata": {},
     "output_type": "execute_result"
    }
   ],
   "source": [
    "%%sql\n",
    "\n",
    "\n",
    "SELECT COUNT(*) AS num_sample FROM sensors;"
   ]
  },
  {
   "cell_type": "code",
   "execution_count": 6,
   "id": "f4efe7c1-ee80-4e96-85be-0deb6cf1d3e0",
   "metadata": {
    "execution": {
     "iopub.execute_input": "2021-10-04T10:18:55.555662Z",
     "iopub.status.busy": "2021-10-04T10:18:55.555465Z",
     "iopub.status.idle": "2021-10-04T10:18:55.566021Z",
     "shell.execute_reply": "2021-10-04T10:18:55.565489Z",
     "shell.execute_reply.started": "2021-10-04T10:18:55.555639Z"
    },
    "tags": []
   },
   "outputs": [
    {
     "name": "stdout",
     "output_type": "stream",
     "text": [
      " * postgresql://gpadmin@192.168.133.128:32000/db\n",
      "10 rows affected.\n"
     ]
    },
    {
     "data": {
      "text/html": [
       "<table>\n",
       "    <tr>\n",
       "        <th>timestamp</th>\n",
       "        <th>temperature</th>\n",
       "        <th>humidity</th>\n",
       "        <th>pm25</th>\n",
       "    </tr>\n",
       "    <tr>\n",
       "        <td>1997-03-22 01:00:00</td>\n",
       "        <td>31.9156782671713</td>\n",
       "        <td>24.782009742474</td>\n",
       "        <td>97.5437132403095</td>\n",
       "    </tr>\n",
       "    <tr>\n",
       "        <td>1997-03-22 02:00:00</td>\n",
       "        <td>32.402048558739</td>\n",
       "        <td>34.1787819992172</td>\n",
       "        <td>84.3057449676734</td>\n",
       "    </tr>\n",
       "    <tr>\n",
       "        <td>1997-03-22 06:00:00</td>\n",
       "        <td>32.3448655378085</td>\n",
       "        <td>52.2063174021255</td>\n",
       "        <td>82.978271280186</td>\n",
       "    </tr>\n",
       "    <tr>\n",
       "        <td>1997-03-22 09:00:00</td>\n",
       "        <td>32.7567370123648</td>\n",
       "        <td>53.7069179335359</td>\n",
       "        <td>89.6222118646893</td>\n",
       "    </tr>\n",
       "    <tr>\n",
       "        <td>1997-03-22 11:00:00</td>\n",
       "        <td>30.7539767961126</td>\n",
       "        <td>47.1209740779875</td>\n",
       "        <td>75.7699431517518</td>\n",
       "    </tr>\n",
       "    <tr>\n",
       "        <td>1997-03-22 13:00:00</td>\n",
       "        <td>31.4872111517742</td>\n",
       "        <td>57.4849682913888</td>\n",
       "        <td>105.958693995633</td>\n",
       "    </tr>\n",
       "    <tr>\n",
       "        <td>1997-03-22 14:00:00</td>\n",
       "        <td>30.0627184404573</td>\n",
       "        <td>41.2363584988118</td>\n",
       "        <td>98.6599475653585</td>\n",
       "    </tr>\n",
       "    <tr>\n",
       "        <td>1997-03-22 15:00:00</td>\n",
       "        <td>32.5480766874707</td>\n",
       "        <td>43.2676695433859</td>\n",
       "        <td>69.6005951747951</td>\n",
       "    </tr>\n",
       "    <tr>\n",
       "        <td>1997-03-22 16:00:00</td>\n",
       "        <td>30.9466366403095</td>\n",
       "        <td>75.2501377422038</td>\n",
       "        <td>75.5936601995675</td>\n",
       "    </tr>\n",
       "    <tr>\n",
       "        <td>1997-03-22 17:00:00</td>\n",
       "        <td>32.740980874494</td>\n",
       "        <td>19.2678892981098</td>\n",
       "        <td>60.5962722602373</td>\n",
       "    </tr>\n",
       "</table>"
      ],
      "text/plain": [
       "[(datetime.datetime(1997, 3, 22, 1, 0), 31.9156782671713, 24.782009742474, 97.5437132403095),\n",
       " (datetime.datetime(1997, 3, 22, 2, 0), 32.402048558739, 34.1787819992172, 84.3057449676734),\n",
       " (datetime.datetime(1997, 3, 22, 6, 0), 32.3448655378085, 52.2063174021255, 82.978271280186),\n",
       " (datetime.datetime(1997, 3, 22, 9, 0), 32.7567370123648, 53.7069179335359, 89.6222118646893),\n",
       " (datetime.datetime(1997, 3, 22, 11, 0), 30.7539767961126, 47.1209740779875, 75.7699431517518),\n",
       " (datetime.datetime(1997, 3, 22, 13, 0), 31.4872111517742, 57.4849682913888, 105.958693995633),\n",
       " (datetime.datetime(1997, 3, 22, 14, 0), 30.0627184404573, 41.2363584988118, 98.6599475653585),\n",
       " (datetime.datetime(1997, 3, 22, 15, 0), 32.5480766874707, 43.2676695433859, 69.6005951747951),\n",
       " (datetime.datetime(1997, 3, 22, 16, 0), 30.9466366403095, 75.2501377422038, 75.5936601995675),\n",
       " (datetime.datetime(1997, 3, 22, 17, 0), 32.740980874494, 19.2678892981098, 60.5962722602373)]"
      ]
     },
     "execution_count": 6,
     "metadata": {},
     "output_type": "execute_result"
    }
   ],
   "source": [
    "%%sql\n",
    "\n",
    "SELECT * FROM sensors LIMIT 10;"
   ]
  },
  {
   "cell_type": "code",
   "execution_count": 7,
   "id": "9bb8da4d-fecb-42a7-a95d-d940f34ac9e6",
   "metadata": {
    "execution": {
     "iopub.execute_input": "2021-10-04T10:18:55.567248Z",
     "iopub.status.busy": "2021-10-04T10:18:55.566969Z",
     "iopub.status.idle": "2021-10-04T10:18:55.650732Z",
     "shell.execute_reply": "2021-10-04T10:18:55.650202Z",
     "shell.execute_reply.started": "2021-10-04T10:18:55.567221Z"
    },
    "tags": []
   },
   "outputs": [
    {
     "name": "stdout",
     "output_type": "stream",
     "text": [
      " * postgresql://gpadmin@192.168.133.128:32000/db\n",
      "1000 rows affected.\n"
     ]
    }
   ],
   "source": [
    "sensors = %sql SELECT * FROM sensors LIMIT 1000;\n",
    "sensors = sensors.DataFrame()"
   ]
  },
  {
   "cell_type": "code",
   "execution_count": 8,
   "id": "254f263a-64c7-4966-8896-109281f26540",
   "metadata": {
    "execution": {
     "iopub.execute_input": "2021-10-04T10:18:55.651817Z",
     "iopub.status.busy": "2021-10-04T10:18:55.651596Z",
     "iopub.status.idle": "2021-10-04T10:18:55.666121Z",
     "shell.execute_reply": "2021-10-04T10:18:55.665265Z",
     "shell.execute_reply.started": "2021-10-04T10:18:55.651796Z"
    },
    "tags": []
   },
   "outputs": [
    {
     "name": "stdout",
     "output_type": "stream",
     "text": [
      "<class 'pandas.core.frame.DataFrame'>\n",
      "RangeIndex: 1000 entries, 0 to 999\n",
      "Data columns (total 4 columns):\n",
      " #   Column       Non-Null Count  Dtype         \n",
      "---  ------       --------------  -----         \n",
      " 0   timestamp    1000 non-null   datetime64[ns]\n",
      " 1   temperature  1000 non-null   float64       \n",
      " 2   humidity     1000 non-null   float64       \n",
      " 3   pm25         1000 non-null   float64       \n",
      "dtypes: datetime64[ns](1), float64(3)\n",
      "memory usage: 31.4 KB\n"
     ]
    }
   ],
   "source": [
    "sensors.info()"
   ]
  },
  {
   "cell_type": "code",
   "execution_count": 9,
   "id": "142926cb-b255-4e76-a28b-5d38b8b6e9c1",
   "metadata": {
    "execution": {
     "iopub.execute_input": "2021-10-04T10:18:55.667428Z",
     "iopub.status.busy": "2021-10-04T10:18:55.667131Z",
     "iopub.status.idle": "2021-10-04T10:18:55.690448Z",
     "shell.execute_reply": "2021-10-04T10:18:55.689806Z",
     "shell.execute_reply.started": "2021-10-04T10:18:55.667402Z"
    },
    "tags": []
   },
   "outputs": [
    {
     "data": {
      "text/html": [
       "<div>\n",
       "<style scoped>\n",
       "    .dataframe tbody tr th:only-of-type {\n",
       "        vertical-align: middle;\n",
       "    }\n",
       "\n",
       "    .dataframe tbody tr th {\n",
       "        vertical-align: top;\n",
       "    }\n",
       "\n",
       "    .dataframe thead th {\n",
       "        text-align: right;\n",
       "    }\n",
       "</style>\n",
       "<table border=\"1\" class=\"dataframe\">\n",
       "  <thead>\n",
       "    <tr style=\"text-align: right;\">\n",
       "      <th></th>\n",
       "      <th>temperature</th>\n",
       "      <th>humidity</th>\n",
       "      <th>pm25</th>\n",
       "    </tr>\n",
       "  </thead>\n",
       "  <tbody>\n",
       "    <tr>\n",
       "      <th>count</th>\n",
       "      <td>1000.000000</td>\n",
       "      <td>1000.000000</td>\n",
       "      <td>1000.000000</td>\n",
       "    </tr>\n",
       "    <tr>\n",
       "      <th>mean</th>\n",
       "      <td>31.489820</td>\n",
       "      <td>50.124677</td>\n",
       "      <td>89.921600</td>\n",
       "    </tr>\n",
       "    <tr>\n",
       "      <th>std</th>\n",
       "      <td>0.865844</td>\n",
       "      <td>15.221467</td>\n",
       "      <td>14.985130</td>\n",
       "    </tr>\n",
       "    <tr>\n",
       "      <th>min</th>\n",
       "      <td>30.008730</td>\n",
       "      <td>-3.352847</td>\n",
       "      <td>38.065512</td>\n",
       "    </tr>\n",
       "    <tr>\n",
       "      <th>25%</th>\n",
       "      <td>30.758784</td>\n",
       "      <td>40.024476</td>\n",
       "      <td>80.168557</td>\n",
       "    </tr>\n",
       "    <tr>\n",
       "      <th>50%</th>\n",
       "      <td>31.487492</td>\n",
       "      <td>50.105209</td>\n",
       "      <td>90.444702</td>\n",
       "    </tr>\n",
       "    <tr>\n",
       "      <th>75%</th>\n",
       "      <td>32.217150</td>\n",
       "      <td>59.655244</td>\n",
       "      <td>100.254221</td>\n",
       "    </tr>\n",
       "    <tr>\n",
       "      <th>max</th>\n",
       "      <td>32.999716</td>\n",
       "      <td>102.371562</td>\n",
       "      <td>138.014441</td>\n",
       "    </tr>\n",
       "  </tbody>\n",
       "</table>\n",
       "</div>"
      ],
      "text/plain": [
       "       temperature     humidity         pm25\n",
       "count  1000.000000  1000.000000  1000.000000\n",
       "mean     31.489820    50.124677    89.921600\n",
       "std       0.865844    15.221467    14.985130\n",
       "min      30.008730    -3.352847    38.065512\n",
       "25%      30.758784    40.024476    80.168557\n",
       "50%      31.487492    50.105209    90.444702\n",
       "75%      32.217150    59.655244   100.254221\n",
       "max      32.999716   102.371562   138.014441"
      ]
     },
     "execution_count": 9,
     "metadata": {},
     "output_type": "execute_result"
    }
   ],
   "source": [
    "sensors.describe()"
   ]
  },
  {
   "cell_type": "code",
   "execution_count": 10,
   "id": "5045f55d-2674-4817-8ae5-1693ce942455",
   "metadata": {
    "execution": {
     "iopub.execute_input": "2021-10-04T10:18:55.693042Z",
     "iopub.status.busy": "2021-10-04T10:18:55.692806Z",
     "iopub.status.idle": "2021-10-04T10:18:56.031830Z",
     "shell.execute_reply": "2021-10-04T10:18:56.031223Z",
     "shell.execute_reply.started": "2021-10-04T10:18:55.693015Z"
    },
    "tags": []
   },
   "outputs": [
    {
     "name": "stderr",
     "output_type": "stream",
     "text": [
      "/usr/local/anaconda3/envs/madlib/lib/python3.6/site-packages/seaborn/distributions.py:2619: FutureWarning: `distplot` is a deprecated function and will be removed in a future version. Please adapt your code to use either `displot` (a figure-level function with similar flexibility) or `histplot` (an axes-level function for histograms).\n",
      "  warnings.warn(msg, FutureWarning)\n"
     ]
    },
    {
     "data": {
      "image/png": "[encoded data removed]",
      "text/plain": [
       "<Figure size 720x360 with 1 Axes>"
      ]
     },
     "metadata": {
      "needs_background": "light"
     },
     "output_type": "display_data"
    }
   ],
   "source": [
    "plt.figure(figsize=(10,5))\n",
    "sns.distplot(sensors['humidity'],bins=60);\n",
    "plt.title(\"Humidity Distribution\")\n",
    "plt.axvline(x=sensors['humidity'].mean(),color='red',ls='--',lw=2)\n",
    "plt.text(sensors['humidity'].mean()+3,0.033, \"mean\", fontsize=10,c='red');"
   ]
  },
  {
   "cell_type": "markdown",
   "id": "18a4d782-75a9-4cdf-8fa2-33b7c366753d",
   "metadata": {},
   "source": [
    "### Preprocess Data"
   ]
  },
  {
   "cell_type": "markdown",
   "id": "68a945a0-370a-446e-b6cc-47aead7ab4da",
   "metadata": {},
   "source": [
    "Encode Month\n",
    "\n",
    "```sql\n",
    "CREATE FUNCTION parse_month(time_stamp timestamp)\n",
    "  RETURNS char\n",
    "AS $$\n",
    "  from datetime import datetime\n",
    "  date_obj=datetime.strptime(time_stamp,\"%Y-%m-%d %H:%M:%S\")\n",
    "  return date_obj.strftime(\"%B\")\n",
    "$$ LANGUAGE plpythonu;\n",
    "```"
   ]
  },
  {
   "cell_type": "code",
   "execution_count": 11,
   "id": "3dff644a-ffc2-40ef-acc9-62043de55fa6",
   "metadata": {
    "execution": {
     "iopub.execute_input": "2021-10-04T10:18:56.033309Z",
     "iopub.status.busy": "2021-10-04T10:18:56.033098Z",
     "iopub.status.idle": "2021-10-04T10:18:56.155432Z",
     "shell.execute_reply": "2021-10-04T10:18:56.154792Z",
     "shell.execute_reply.started": "2021-10-04T10:18:56.033287Z"
    },
    "tags": []
   },
   "outputs": [
    {
     "name": "stdout",
     "output_type": "stream",
     "text": [
      " * postgresql://gpadmin@192.168.133.128:32000/db\n",
      "3 rows affected.\n"
     ]
    },
    {
     "data": {
      "text/html": [
       "<table>\n",
       "    <tr>\n",
       "        <th>timestamp</th>\n",
       "        <th>temperature</th>\n",
       "        <th>humidity</th>\n",
       "        <th>pm25</th>\n",
       "        <th>parse_month</th>\n",
       "    </tr>\n",
       "    <tr>\n",
       "        <td>1999-05-21 05:00:00</td>\n",
       "        <td>32.5355865309857</td>\n",
       "        <td>88.4879964462528</td>\n",
       "        <td>168.967536334876</td>\n",
       "        <td>May</td>\n",
       "    </tr>\n",
       "    <tr>\n",
       "        <td>2013-07-17 01:00:00</td>\n",
       "        <td>31.1730905372319</td>\n",
       "        <td>71.9060682541406</td>\n",
       "        <td>163.339759121527</td>\n",
       "        <td>July</td>\n",
       "    </tr>\n",
       "    <tr>\n",
       "        <td>2017-01-08 01:00:00</td>\n",
       "        <td>31.4313348104384</td>\n",
       "        <td>42.9120495893807</td>\n",
       "        <td>160.503965867301</td>\n",
       "        <td>January</td>\n",
       "    </tr>\n",
       "</table>"
      ],
      "text/plain": [
       "[(datetime.datetime(1999, 5, 21, 5, 0), 32.5355865309857, 88.4879964462528, 168.967536334876, 'May'),\n",
       " (datetime.datetime(2013, 7, 17, 1, 0), 31.1730905372319, 71.9060682541406, 163.339759121527, 'July'),\n",
       " (datetime.datetime(2017, 1, 8, 1, 0), 31.4313348104384, 42.9120495893807, 160.503965867301, 'January')]"
      ]
     },
     "execution_count": 11,
     "metadata": {},
     "output_type": "execute_result"
    }
   ],
   "source": [
    "%%sql\n",
    "SELECT *,parse_month(timestamp) FROM sensors WHERE pm25 > 160;"
   ]
  },
  {
   "cell_type": "markdown",
   "id": "99ef43f9-8e4d-4fa6-a2d9-1fed601d8258",
   "metadata": {},
   "source": [
    "Create Month Data"
   ]
  },
  {
   "cell_type": "code",
   "execution_count": 12,
   "id": "a7ca60fc-a48e-4248-93fc-d45ca18256fb",
   "metadata": {
    "execution": {
     "iopub.execute_input": "2021-10-04T10:18:56.451481Z",
     "iopub.status.busy": "2021-10-04T10:18:56.451187Z",
     "iopub.status.idle": "2021-10-04T10:19:07.851459Z",
     "shell.execute_reply": "2021-10-04T10:19:07.850877Z",
     "shell.execute_reply.started": "2021-10-04T10:18:56.451451Z"
    },
    "tags": []
   },
   "outputs": [
    {
     "name": "stdout",
     "output_type": "stream",
     "text": [
      " * postgresql://gpadmin@192.168.133.128:32000/db\n",
      "Done.\n",
      "200000 rows affected.\n",
      "10 rows affected.\n"
     ]
    },
    {
     "data": {
      "text/html": [
       "<table>\n",
       "    <tr>\n",
       "        <th>timestamp</th>\n",
       "        <th>temperature</th>\n",
       "        <th>humidity</th>\n",
       "        <th>pm25</th>\n",
       "        <th>month</th>\n",
       "    </tr>\n",
       "    <tr>\n",
       "        <td>1997-03-22 03:00:00</td>\n",
       "        <td>32.7490893859373</td>\n",
       "        <td>51.0368156042125</td>\n",
       "        <td>80.0859621571751</td>\n",
       "        <td>March</td>\n",
       "    </tr>\n",
       "    <tr>\n",
       "        <td>1997-03-22 08:00:00</td>\n",
       "        <td>32.7034745598259</td>\n",
       "        <td>54.435957921011</td>\n",
       "        <td>89.4230162813853</td>\n",
       "        <td>March</td>\n",
       "    </tr>\n",
       "    <tr>\n",
       "        <td>1997-03-22 10:00:00</td>\n",
       "        <td>31.2822157427365</td>\n",
       "        <td>43.258900909642</td>\n",
       "        <td>71.1791381057675</td>\n",
       "        <td>March</td>\n",
       "    </tr>\n",
       "    <tr>\n",
       "        <td>1997-03-22 23:00:00</td>\n",
       "        <td>30.3241848727147</td>\n",
       "        <td>54.7620749466587</td>\n",
       "        <td>106.203438251864</td>\n",
       "        <td>March</td>\n",
       "    </tr>\n",
       "    <tr>\n",
       "        <td>1997-03-23 02:00:00</td>\n",
       "        <td>30.349168442053</td>\n",
       "        <td>65.6500358536886</td>\n",
       "        <td>60.1286857288342</td>\n",
       "        <td>March</td>\n",
       "    </tr>\n",
       "    <tr>\n",
       "        <td>1997-03-25 19:00:00</td>\n",
       "        <td>30.6869189105232</td>\n",
       "        <td>84.769085231703</td>\n",
       "        <td>82.2315957027661</td>\n",
       "        <td>March</td>\n",
       "    </tr>\n",
       "    <tr>\n",
       "        <td>1997-03-26 03:00:00</td>\n",
       "        <td>30.6804192872696</td>\n",
       "        <td>44.0469280718854</td>\n",
       "        <td>86.597953294768</td>\n",
       "        <td>March</td>\n",
       "    </tr>\n",
       "    <tr>\n",
       "        <td>1997-03-26 08:00:00</td>\n",
       "        <td>31.336364293787</td>\n",
       "        <td>59.776236503862</td>\n",
       "        <td>75.7496274287744</td>\n",
       "        <td>March</td>\n",
       "    </tr>\n",
       "    <tr>\n",
       "        <td>1997-03-26 14:00:00</td>\n",
       "        <td>31.171969039765</td>\n",
       "        <td>60.6399419313433</td>\n",
       "        <td>117.966100069938</td>\n",
       "        <td>March</td>\n",
       "    </tr>\n",
       "    <tr>\n",
       "        <td>1997-03-26 19:00:00</td>\n",
       "        <td>32.219410318666</td>\n",
       "        <td>33.5853746184289</td>\n",
       "        <td>72.6441343323016</td>\n",
       "        <td>March</td>\n",
       "    </tr>\n",
       "</table>"
      ],
      "text/plain": [
       "[(datetime.datetime(1997, 3, 22, 3, 0), 32.7490893859373, 51.0368156042125, 80.0859621571751, 'March'),\n",
       " (datetime.datetime(1997, 3, 22, 8, 0), 32.7034745598259, 54.435957921011, 89.4230162813853, 'March'),\n",
       " (datetime.datetime(1997, 3, 22, 10, 0), 31.2822157427365, 43.258900909642, 71.1791381057675, 'March'),\n",
       " (datetime.datetime(1997, 3, 22, 23, 0), 30.3241848727147, 54.7620749466587, 106.203438251864, 'March'),\n",
       " (datetime.datetime(1997, 3, 23, 2, 0), 30.349168442053, 65.6500358536886, 60.1286857288342, 'March'),\n",
       " (datetime.datetime(1997, 3, 25, 19, 0), 30.6869189105232, 84.769085231703, 82.2315957027661, 'March'),\n",
       " (datetime.datetime(1997, 3, 26, 3, 0), 30.6804192872696, 44.0469280718854, 86.597953294768, 'March'),\n",
       " (datetime.datetime(1997, 3, 26, 8, 0), 31.336364293787, 59.776236503862, 75.7496274287744, 'March'),\n",
       " (datetime.datetime(1997, 3, 26, 14, 0), 31.171969039765, 60.6399419313433, 117.966100069938, 'March'),\n",
       " (datetime.datetime(1997, 3, 26, 19, 0), 32.219410318666, 33.5853746184289, 72.6441343323016, 'March')]"
      ]
     },
     "execution_count": 12,
     "metadata": {},
     "output_type": "execute_result"
    }
   ],
   "source": [
    "%%sql\n",
    "DROP TABLE IF EXISTS sensors_pre;\n",
    "CREATE TABLE sensors_pre\n",
    "AS \n",
    "SELECT\n",
    "    timestamp,\n",
    "    temperature,\n",
    "    humidity,\n",
    "    pm25,\n",
    "    parse_month(timestamp) AS month           --- Month data\n",
    "FROM sensors;\n",
    "\n",
    "SELECT * FROM sensors_pre LIMIT 10; "
   ]
  },
  {
   "cell_type": "code",
   "execution_count": 13,
   "id": "22cf1b72-22a2-4e30-a810-882c41eec482",
   "metadata": {
    "execution": {
     "iopub.execute_input": "2021-10-04T10:19:07.852701Z",
     "iopub.status.busy": "2021-10-04T10:19:07.852461Z",
     "iopub.status.idle": "2021-10-04T10:19:16.753298Z",
     "shell.execute_reply": "2021-10-04T10:19:16.752637Z",
     "shell.execute_reply.started": "2021-10-04T10:19:07.852678Z"
    },
    "tags": []
   },
   "outputs": [
    {
     "name": "stdout",
     "output_type": "stream",
     "text": [
      " * postgresql://gpadmin@192.168.133.128:32000/db\n",
      "12 rows affected.\n"
     ]
    },
    {
     "data": {
      "text/html": [
       "<table>\n",
       "    <tr>\n",
       "        <th>month</th>\n",
       "        <th>count</th>\n",
       "    </tr>\n",
       "    <tr>\n",
       "        <td>December</td>\n",
       "        <td>17112</td>\n",
       "    </tr>\n",
       "    <tr>\n",
       "        <td>May</td>\n",
       "        <td>17112</td>\n",
       "    </tr>\n",
       "    <tr>\n",
       "        <td>August</td>\n",
       "        <td>17112</td>\n",
       "    </tr>\n",
       "    <tr>\n",
       "        <td>July</td>\n",
       "        <td>17112</td>\n",
       "    </tr>\n",
       "    <tr>\n",
       "        <td>October</td>\n",
       "        <td>17112</td>\n",
       "    </tr>\n",
       "    <tr>\n",
       "        <td>January</td>\n",
       "        <td>16688</td>\n",
       "    </tr>\n",
       "    <tr>\n",
       "        <td>March</td>\n",
       "        <td>16608</td>\n",
       "    </tr>\n",
       "    <tr>\n",
       "        <td>November</td>\n",
       "        <td>16560</td>\n",
       "    </tr>\n",
       "    <tr>\n",
       "        <td>June</td>\n",
       "        <td>16560</td>\n",
       "    </tr>\n",
       "    <tr>\n",
       "        <td>April</td>\n",
       "        <td>16560</td>\n",
       "    </tr>\n",
       "    <tr>\n",
       "        <td>September</td>\n",
       "        <td>16560</td>\n",
       "    </tr>\n",
       "    <tr>\n",
       "        <td>February</td>\n",
       "        <td>14904</td>\n",
       "    </tr>\n",
       "</table>"
      ],
      "text/plain": [
       "[('December', 17112),\n",
       " ('May', 17112),\n",
       " ('August', 17112),\n",
       " ('July', 17112),\n",
       " ('October', 17112),\n",
       " ('January', 16688),\n",
       " ('March', 16608),\n",
       " ('November', 16560),\n",
       " ('June', 16560),\n",
       " ('April', 16560),\n",
       " ('September', 16560),\n",
       " ('February', 14904)]"
      ]
     },
     "execution_count": 13,
     "metadata": {},
     "output_type": "execute_result"
    }
   ],
   "source": [
    "%%sql\n",
    "SELECT parse_month(timestamp) as month ,COUNT(*) as count  \n",
    "    FROM sensors  \n",
    "GROUP BY month ORDER BY count DESC;"
   ]
  },
  {
   "cell_type": "markdown",
   "id": "48ede8be-903e-4373-a544-ef6b8ada8adb",
   "metadata": {},
   "source": [
    "### Encode categorical values"
   ]
  },
  {
   "cell_type": "code",
   "execution_count": 18,
   "id": "58956098-2c3d-4c0a-9961-fd80c17adb58",
   "metadata": {
    "execution": {
     "iopub.execute_input": "2021-10-04T12:19:45.865449Z",
     "iopub.status.busy": "2021-10-04T12:19:45.865219Z",
     "iopub.status.idle": "2021-10-04T12:19:51.011084Z",
     "shell.execute_reply": "2021-10-04T12:19:51.010143Z",
     "shell.execute_reply.started": "2021-10-04T12:19:45.865425Z"
    },
    "tags": []
   },
   "outputs": [
    {
     "name": "stdout",
     "output_type": "stream",
     "text": [
      " * postgresql://gpadmin@192.168.133.128:32000/db\n",
      "Done.\n",
      "1 rows affected.\n",
      "5 rows affected.\n"
     ]
    },
    {
     "data": {
      "text/html": [
       "<table>\n",
       "    <tr>\n",
       "        <th>timestamp</th>\n",
       "        <th>temperature</th>\n",
       "        <th>humidity</th>\n",
       "        <th>pm25</th>\n",
       "        <th>month_April</th>\n",
       "        <th>month_August</th>\n",
       "        <th>month_December</th>\n",
       "        <th>month_February</th>\n",
       "        <th>month_January</th>\n",
       "        <th>month_July</th>\n",
       "        <th>month_June</th>\n",
       "        <th>month_March</th>\n",
       "        <th>month_May</th>\n",
       "        <th>month_November</th>\n",
       "        <th>month_October</th>\n",
       "        <th>month_September</th>\n",
       "    </tr>\n",
       "    <tr>\n",
       "        <td>1997-03-23 23:00:00</td>\n",
       "        <td>32.0490805882528</td>\n",
       "        <td>48.4857987448638</td>\n",
       "        <td>87.7070175357443</td>\n",
       "        <td>0</td>\n",
       "        <td>0</td>\n",
       "        <td>0</td>\n",
       "        <td>0</td>\n",
       "        <td>0</td>\n",
       "        <td>0</td>\n",
       "        <td>0</td>\n",
       "        <td>1</td>\n",
       "        <td>0</td>\n",
       "        <td>0</td>\n",
       "        <td>0</td>\n",
       "        <td>0</td>\n",
       "    </tr>\n",
       "    <tr>\n",
       "        <td>1997-03-25 09:00:00</td>\n",
       "        <td>31.4291653616611</td>\n",
       "        <td>26.3422929359378</td>\n",
       "        <td>90.6952876831347</td>\n",
       "        <td>0</td>\n",
       "        <td>0</td>\n",
       "        <td>0</td>\n",
       "        <td>0</td>\n",
       "        <td>0</td>\n",
       "        <td>0</td>\n",
       "        <td>0</td>\n",
       "        <td>1</td>\n",
       "        <td>0</td>\n",
       "        <td>0</td>\n",
       "        <td>0</td>\n",
       "        <td>0</td>\n",
       "    </tr>\n",
       "    <tr>\n",
       "        <td>1997-03-25 13:00:00</td>\n",
       "        <td>31.0494893815383</td>\n",
       "        <td>27.4131557171208</td>\n",
       "        <td>96.6949954481173</td>\n",
       "        <td>0</td>\n",
       "        <td>0</td>\n",
       "        <td>0</td>\n",
       "        <td>0</td>\n",
       "        <td>0</td>\n",
       "        <td>0</td>\n",
       "        <td>0</td>\n",
       "        <td>1</td>\n",
       "        <td>0</td>\n",
       "        <td>0</td>\n",
       "        <td>0</td>\n",
       "        <td>0</td>\n",
       "    </tr>\n",
       "    <tr>\n",
       "        <td>1997-03-26 12:00:00</td>\n",
       "        <td>31.9004691105391</td>\n",
       "        <td>26.7281171205512</td>\n",
       "        <td>74.5060333410696</td>\n",
       "        <td>0</td>\n",
       "        <td>0</td>\n",
       "        <td>0</td>\n",
       "        <td>0</td>\n",
       "        <td>0</td>\n",
       "        <td>0</td>\n",
       "        <td>0</td>\n",
       "        <td>1</td>\n",
       "        <td>0</td>\n",
       "        <td>0</td>\n",
       "        <td>0</td>\n",
       "        <td>0</td>\n",
       "    </tr>\n",
       "    <tr>\n",
       "        <td>1997-03-26 16:00:00</td>\n",
       "        <td>31.9071138139401</td>\n",
       "        <td>49.4345679826272</td>\n",
       "        <td>116.634221175262</td>\n",
       "        <td>0</td>\n",
       "        <td>0</td>\n",
       "        <td>0</td>\n",
       "        <td>0</td>\n",
       "        <td>0</td>\n",
       "        <td>0</td>\n",
       "        <td>0</td>\n",
       "        <td>1</td>\n",
       "        <td>0</td>\n",
       "        <td>0</td>\n",
       "        <td>0</td>\n",
       "        <td>0</td>\n",
       "    </tr>\n",
       "</table>"
      ],
      "text/plain": [
       "[(datetime.datetime(1997, 3, 23, 23, 0), 32.0490805882528, 48.4857987448638, 87.7070175357443, 0, 0, 0, 0, 0, 0, 0, 1, 0, 0, 0, 0),\n",
       " (datetime.datetime(1997, 3, 25, 9, 0), 31.4291653616611, 26.3422929359378, 90.6952876831347, 0, 0, 0, 0, 0, 0, 0, 1, 0, 0, 0, 0),\n",
       " (datetime.datetime(1997, 3, 25, 13, 0), 31.0494893815383, 27.4131557171208, 96.6949954481173, 0, 0, 0, 0, 0, 0, 0, 1, 0, 0, 0, 0),\n",
       " (datetime.datetime(1997, 3, 26, 12, 0), 31.9004691105391, 26.7281171205512, 74.5060333410696, 0, 0, 0, 0, 0, 0, 0, 1, 0, 0, 0, 0),\n",
       " (datetime.datetime(1997, 3, 26, 16, 0), 31.9071138139401, 49.4345679826272, 116.634221175262, 0, 0, 0, 0, 0, 0, 0, 1, 0, 0, 0, 0)]"
      ]
     },
     "execution_count": 18,
     "metadata": {},
     "output_type": "execute_result"
    }
   ],
   "source": [
    "%%sql\n",
    "DROP TABLE IF EXISTS sensors_encoded;\n",
    "\n",
    "\n",
    "SELECT\n",
    "madlib.encode_categorical_variables (\n",
    "    'sensors_pre',\n",
    "    'sensors_encoded',\n",
    "    'month',\n",
    "    NULL,  --categorical_cols_to_exclude    -- Optional\n",
    "    NULL,  --row_id,                         -- Optional\n",
    "    NULL,  --top,                            -- Optional\n",
    "    NULL,  --value_to_drop,                  -- Optional\n",
    "    NULL,  --encode_null,                    -- Optional\n",
    "    NULL,  --output_type,                    -- Optional\n",
    "    NULL,  --output_dictionary,              -- Optional\n",
    "    NULL   --distributed_by                  -- Optional\n",
    ");\n",
    "\n",
    "\n",
    "SELECT * FROM sensors_encoded LIMIT 5;"
   ]
  },
  {
   "cell_type": "markdown",
   "id": "ad732e2e-9c8a-4c57-8a14-61809dd08a66",
   "metadata": {
    "execution": {
     "iopub.execute_input": "2021-10-04T10:27:18.637092Z",
     "iopub.status.busy": "2021-10-04T10:27:18.636846Z",
     "iopub.status.idle": "2021-10-04T10:27:18.639478Z",
     "shell.execute_reply": "2021-10-04T10:27:18.638867Z",
     "shell.execute_reply.started": "2021-10-04T10:27:18.637067Z"
    }
   },
   "source": [
    "### EDA"
   ]
  },
  {
   "cell_type": "code",
   "execution_count": 43,
   "id": "931aaab8-f2ee-469e-893b-a0ab766d2993",
   "metadata": {
    "execution": {
     "iopub.execute_input": "2021-10-04T10:50:38.891924Z",
     "iopub.status.busy": "2021-10-04T10:50:38.891688Z",
     "iopub.status.idle": "2021-10-04T10:51:28.968661Z",
     "shell.execute_reply": "2021-10-04T10:51:28.967987Z",
     "shell.execute_reply.started": "2021-10-04T10:50:38.891899Z"
    },
    "tags": []
   },
   "outputs": [
    {
     "name": "stdout",
     "output_type": "stream",
     "text": [
      " * postgresql://gpadmin@192.168.133.128:32000/db\n",
      "Done.\n",
      "1 rows affected.\n",
      "5 rows affected.\n"
     ]
    },
    {
     "data": {
      "text/html": [
       "<table>\n",
       "    <tr>\n",
       "        <th>group_by</th>\n",
       "        <th>group_by_value</th>\n",
       "        <th>target_column</th>\n",
       "        <th>column_number</th>\n",
       "        <th>data_type</th>\n",
       "        <th>row_count</th>\n",
       "        <th>distinct_values</th>\n",
       "        <th>missing_values</th>\n",
       "        <th>blank_values</th>\n",
       "        <th>fraction_missing</th>\n",
       "        <th>fraction_blank</th>\n",
       "        <th>positive_values</th>\n",
       "        <th>negative_values</th>\n",
       "        <th>zero_values</th>\n",
       "        <th>mean</th>\n",
       "        <th>variance</th>\n",
       "        <th>confidence_interval</th>\n",
       "        <th>min</th>\n",
       "        <th>max</th>\n",
       "        <th>first_quartile</th>\n",
       "        <th>median</th>\n",
       "        <th>third_quartile</th>\n",
       "        <th>most_frequent_values</th>\n",
       "        <th>mfv_frequencies</th>\n",
       "    </tr>\n",
       "    <tr>\n",
       "        <td>None</td>\n",
       "        <td>None</td>\n",
       "        <td>&quot;timestamp&quot;</td>\n",
       "        <td>1</td>\n",
       "        <td>timestamp</td>\n",
       "        <td>200000</td>\n",
       "        <td>200000</td>\n",
       "        <td>0</td>\n",
       "        <td>None</td>\n",
       "        <td>0.0</td>\n",
       "        <td>None</td>\n",
       "        <td>None</td>\n",
       "        <td>None</td>\n",
       "        <td>None</td>\n",
       "        <td>None</td>\n",
       "        <td>None</td>\n",
       "        <td>None</td>\n",
       "        <td>None</td>\n",
       "        <td>None</td>\n",
       "        <td>None</td>\n",
       "        <td>None</td>\n",
       "        <td>None</td>\n",
       "        <td>[&#x27;2019-07-25 11:00:00&#x27;, &#x27;2019-11-03 16:00:00&#x27;, &#x27;2019-03-06 17:00:00&#x27;, &#x27;2019-01-25 21:00:00&#x27;, &#x27;2019-03-16 11:00:00&#x27;, &#x27;2019-05-19 00:00:00&#x27;, &#x27;2019-11-29 00:00:00&#x27;, &#x27;2020-01-03 09:00:00&#x27;, &#x27;2019-11-30 16:00:00&#x27;, &#x27;2019-10-16 20:00:00&#x27;]</td>\n",
       "        <td>[201, 198, 197, 197, 197, 196, 195, 195, 195, 194]</td>\n",
       "    </tr>\n",
       "    <tr>\n",
       "        <td>None</td>\n",
       "        <td>None</td>\n",
       "        <td>temperature</td>\n",
       "        <td>2</td>\n",
       "        <td>float8</td>\n",
       "        <td>200000</td>\n",
       "        <td>200000</td>\n",
       "        <td>0</td>\n",
       "        <td>None</td>\n",
       "        <td>0.0</td>\n",
       "        <td>None</td>\n",
       "        <td>200000</td>\n",
       "        <td>0</td>\n",
       "        <td>0</td>\n",
       "        <td>32.000453033628</td>\n",
       "        <td>0.831157383268362</td>\n",
       "        <td>[31.9964574271637, 32.0044486400923]</td>\n",
       "        <td>30.0087298079923</td>\n",
       "        <td>33.9961928500453</td>\n",
       "        <td>31.2517206487026</td>\n",
       "        <td>32.0021098528758</td>\n",
       "        <td>32.7494999153099</td>\n",
       "        <td>[&#x27;33.1461636555649&#x27;, &#x27;31.865150292487&#x27;, &#x27;31.1721536077699&#x27;, &#x27;32.5851814378496&#x27;, &#x27;33.3058162669061&#x27;, &#x27;32.0454112936913&#x27;, &#x27;33.8449270732997&#x27;, &#x27;31.5729206121158&#x27;, &#x27;31.1262156027079&#x27;, &#x27;33.7836460827616&#x27;]</td>\n",
       "        <td>[205, 199, 197, 197, 197, 196, 194, 193, 193, 193]</td>\n",
       "    </tr>\n",
       "    <tr>\n",
       "        <td>None</td>\n",
       "        <td>None</td>\n",
       "        <td>humidity</td>\n",
       "        <td>3</td>\n",
       "        <td>float8</td>\n",
       "        <td>200000</td>\n",
       "        <td>200000</td>\n",
       "        <td>0</td>\n",
       "        <td>None</td>\n",
       "        <td>0.0</td>\n",
       "        <td>None</td>\n",
       "        <td>199912</td>\n",
       "        <td>88</td>\n",
       "        <td>0</td>\n",
       "        <td>49.9738552733267</td>\n",
       "        <td>225.487435610969</td>\n",
       "        <td>[49.9080437039546, 50.0396668426987]</td>\n",
       "        <td>-17.8837665003152</td>\n",
       "        <td>117.73753974351</td>\n",
       "        <td>39.8194624583702</td>\n",
       "        <td>49.9930169092084</td>\n",
       "        <td>60.1088796662953</td>\n",
       "        <td>[&#x27;40.7345502178186&#x27;, &#x27;58.4079913885737&#x27;, &#x27;58.260773838973&#x27;, &#x27;82.1523338384195&#x27;, &#x27;49.3482258550915&#x27;, &#x27;62.5528355417665&#x27;, &#x27;56.9462840559174&#x27;, &#x27;57.1599383222525&#x27;, &#x27;23.3900957817855&#x27;, &#x27;62.1840602115122&#x27;]</td>\n",
       "        <td>[203, 199, 198, 196, 196, 196, 196, 196, 196, 195]</td>\n",
       "    </tr>\n",
       "    <tr>\n",
       "        <td>None</td>\n",
       "        <td>None</td>\n",
       "        <td>pm25</td>\n",
       "        <td>4</td>\n",
       "        <td>float8</td>\n",
       "        <td>200000</td>\n",
       "        <td>200000</td>\n",
       "        <td>0</td>\n",
       "        <td>None</td>\n",
       "        <td>0.0</td>\n",
       "        <td>None</td>\n",
       "        <td>200000</td>\n",
       "        <td>0</td>\n",
       "        <td>0</td>\n",
       "        <td>94.9918835226586</td>\n",
       "        <td>233.682261133518</td>\n",
       "        <td>[94.92488674011, 95.0588803052071]</td>\n",
       "        <td>30.3268689708454</td>\n",
       "        <td>168.967536334876</td>\n",
       "        <td>84.7204070035316</td>\n",
       "        <td>95.0517192454379</td>\n",
       "        <td>105.296417856079</td>\n",
       "        <td>[&#x27;126.921741983321&#x27;, &#x27;97.7999835218195&#x27;, &#x27;106.758793211523&#x27;, &#x27;106.287416909122&#x27;, &#x27;91.8541447897074&#x27;, &#x27;106.908255032401&#x27;, &#x27;64.5990923152777&#x27;, &#x27;103.274370840996&#x27;, &#x27;103.055030189882&#x27;, &#x27;101.122630124362&#x27;]</td>\n",
       "        <td>[204, 202, 200, 197, 197, 195, 195, 195, 195, 195]</td>\n",
       "    </tr>\n",
       "    <tr>\n",
       "        <td>None</td>\n",
       "        <td>None</td>\n",
       "        <td>&quot;month_April&quot;</td>\n",
       "        <td>5</td>\n",
       "        <td>int4</td>\n",
       "        <td>200000</td>\n",
       "        <td>2</td>\n",
       "        <td>0</td>\n",
       "        <td>None</td>\n",
       "        <td>0.0</td>\n",
       "        <td>None</td>\n",
       "        <td>16560</td>\n",
       "        <td>0</td>\n",
       "        <td>183440</td>\n",
       "        <td>0.0828</td>\n",
       "        <td>0.0759445397226986</td>\n",
       "        <td>[0.0815922157812781, 0.0840077842187219]</td>\n",
       "        <td>0.0</td>\n",
       "        <td>1.0</td>\n",
       "        <td>0.0</td>\n",
       "        <td>0.0</td>\n",
       "        <td>0.0</td>\n",
       "        <td>[&#x27;0&#x27;, &#x27;1&#x27;]</td>\n",
       "        <td>[183440, 16560]</td>\n",
       "    </tr>\n",
       "</table>"
      ],
      "text/plain": [
       "[(None, None, '\"timestamp\"', 1, 'timestamp', 200000, 200000, 0, None, 0.0, None, None, None, None, None, None, None, None, None, None, None, None, ['2019-07-25 11:00:00', '2019-11-03 16:00:00', '2019-03-06 17:00:00', '2019-01-25 21:00:00', '2019-03-16 11:00:00', '2019-05-19 00:00:00', '2019-11-29 00:00:00', '2020-01-03 09:00:00', '2019-11-30 16:00:00', '2019-10-16 20:00:00'], [201, 198, 197, 197, 197, 196, 195, 195, 195, 194]),\n",
       " (None, None, 'temperature', 2, 'float8', 200000, 200000, 0, None, 0.0, None, 200000, 0, 0, 32.000453033628, 0.831157383268362, [31.9964574271637, 32.0044486400923], 30.0087298079923, 33.9961928500453, 31.2517206487026, 32.0021098528758, 32.7494999153099, ['33.1461636555649', '31.865150292487', '31.1721536077699', '32.5851814378496', '33.3058162669061', '32.0454112936913', '33.8449270732997', '31.5729206121158', '31.1262156027079', '33.7836460827616'], [205, 199, 197, 197, 197, 196, 194, 193, 193, 193]),\n",
       " (None, None, 'humidity', 3, 'float8', 200000, 200000, 0, None, 0.0, None, 199912, 88, 0, 49.9738552733267, 225.487435610969, [49.9080437039546, 50.0396668426987], -17.8837665003152, 117.73753974351, 39.8194624583702, 49.9930169092084, 60.1088796662953, ['40.7345502178186', '58.4079913885737', '58.260773838973', '82.1523338384195', '49.3482258550915', '62.5528355417665', '56.9462840559174', '57.1599383222525', '23.3900957817855', '62.1840602115122'], [203, 199, 198, 196, 196, 196, 196, 196, 196, 195]),\n",
       " (None, None, 'pm25', 4, 'float8', 200000, 200000, 0, None, 0.0, None, 200000, 0, 0, 94.9918835226586, 233.682261133518, [94.92488674011, 95.0588803052071], 30.3268689708454, 168.967536334876, 84.7204070035316, 95.0517192454379, 105.296417856079, ['126.921741983321', '97.7999835218195', '106.758793211523', '106.287416909122', '91.8541447897074', '106.908255032401', '64.5990923152777', '103.274370840996', '103.055030189882', '101.122630124362'], [204, 202, 200, 197, 197, 195, 195, 195, 195, 195]),\n",
       " (None, None, '\"month_April\"', 5, 'int4', 200000, 2, 0, None, 0.0, None, 16560, 0, 183440, 0.0828, 0.0759445397226986, [0.0815922157812781, 0.0840077842187219], 0.0, 1.0, 0.0, 0.0, 0.0, ['0', '1'], [183440, 16560])]"
      ]
     },
     "execution_count": 43,
     "metadata": {},
     "output_type": "execute_result"
    }
   ],
   "source": [
    "%%sql\n",
    "DROP TABLE IF EXISTS sensors_summary ;\n",
    "SELECT madlib.summary (\n",
    "    'sensors_encoded',  -- source_table\n",
    "    'sensors_summary',  -- output_table\n",
    "    NULL,  -- target_cols\n",
    "    NULL,  -- grouping_cols\n",
    "    TRUE,  -- get_distinct\n",
    "    TRUE,  -- get_quartiles\n",
    "    NULL,  -- quantile_array\n",
    "    10,    -- how_many_mfv\n",
    "    FALSE  -- get_estimate\n",
    ");\n",
    "\n",
    "SELECT * FROM sensors_summary LIMIT 5;"
   ]
  },
  {
   "cell_type": "markdown",
   "id": "7bd5abdf-738a-4dbc-9b4e-9287f979d6e3",
   "metadata": {},
   "source": [
    "### Correlation"
   ]
  },
  {
   "cell_type": "code",
   "execution_count": 5,
   "id": "8c52a0c0-1f31-41f2-91eb-4ebab8590a06",
   "metadata": {
    "execution": {
     "iopub.execute_input": "2021-10-04T12:51:19.712633Z",
     "iopub.status.busy": "2021-10-04T12:51:19.712422Z",
     "iopub.status.idle": "2021-10-04T12:51:22.995270Z",
     "shell.execute_reply": "2021-10-04T12:51:22.994650Z",
     "shell.execute_reply.started": "2021-10-04T12:51:19.712612Z"
    },
    "tags": []
   },
   "outputs": [
    {
     "name": "stdout",
     "output_type": "stream",
     "text": [
      " * postgresql://gpadmin@192.168.133.128:32000/db\n",
      "Done.\n",
      "Done.\n",
      "1 rows affected.\n"
     ]
    },
    {
     "data": {
      "text/html": [
       "<table>\n",
       "    <tr>\n",
       "        <th>correlation</th>\n",
       "    </tr>\n",
       "    <tr>\n",
       "        <td>Summary for &#x27;Correlation&#x27; function<br>Output table = sensors_correlations<br>Producing correlation for columns: temperature,humidity,pm25<br>Total run time = (&#x27;sensors_correlations&#x27;, 3, 2.707087993621826)</td>\n",
       "    </tr>\n",
       "</table>"
      ],
      "text/plain": [
       "[(\"Summary for 'Correlation' function\\nOutput table = sensors_correlations\\nProducing correlation for columns: temperature,humidity,pm25\\nTotal run time = ('sensors_correlations', 3, 2.707087993621826)\",)]"
      ]
     },
     "execution_count": 5,
     "metadata": {},
     "output_type": "execute_result"
    }
   ],
   "source": [
    "%%sql\n",
    "DROP TABLE IF EXISTS sensors_correlations;\n",
    "DROP TABLE IF EXISTS sensors_correlations_summary;\n",
    "\n",
    "SELECT \n",
    "madlib.correlation(\n",
    "    'sensors_encoded', -- source_table\n",
    "    'sensors_correlations',  -- target_table\n",
    "    'temperature,humidity,pm25',\n",
    "    TRUE -- verbose\n",
    ")"
   ]
  },
  {
   "cell_type": "code",
   "execution_count": 8,
   "id": "c8a78b79-a4e0-4e66-a3c0-51b2ae7d6f7d",
   "metadata": {
    "execution": {
     "iopub.execute_input": "2021-10-04T12:53:33.453279Z",
     "iopub.status.busy": "2021-10-04T12:53:33.453039Z",
     "iopub.status.idle": "2021-10-04T12:53:33.464216Z",
     "shell.execute_reply": "2021-10-04T12:53:33.463614Z",
     "shell.execute_reply.started": "2021-10-04T12:53:33.453254Z"
    },
    "tags": []
   },
   "outputs": [
    {
     "name": "stdout",
     "output_type": "stream",
     "text": [
      " * postgresql://gpadmin@192.168.133.128:32000/db\n",
      "3 rows affected.\n",
      "humidity,pm25,temperature\n"
     ]
    }
   ],
   "source": [
    "Index = %sql SELECT variable FROM sensors_correlations;\n",
    "Index = Index.DataFrame();\n",
    "\n",
    "columns =  ','.join(','.join('%s' %x for x in y) for y in Index.values)\n",
    "print(columns)"
   ]
  },
  {
   "cell_type": "code",
   "execution_count": 19,
   "id": "b32a1a33-56d2-4936-b6f8-5e102609570e",
   "metadata": {
    "execution": {
     "iopub.execute_input": "2021-10-04T12:55:24.465776Z",
     "iopub.status.busy": "2021-10-04T12:55:24.465538Z",
     "iopub.status.idle": "2021-10-04T12:55:24.475770Z",
     "shell.execute_reply": "2021-10-04T12:55:24.475121Z",
     "shell.execute_reply.started": "2021-10-04T12:55:24.465750Z"
    },
    "tags": []
   },
   "outputs": [
    {
     "name": "stdout",
     "output_type": "stream",
     "text": [
      " * postgresql://gpadmin@192.168.133.128:32000/db\n",
      "3 rows affected.\n"
     ]
    }
   ],
   "source": [
    "corr = %sql select variable,{columns} from sensors_correlations;\n",
    "corr = corr.DataFrame()"
   ]
  },
  {
   "cell_type": "code",
   "execution_count": 22,
   "id": "f41fdac5-84c3-4334-af94-bea626fe8f9c",
   "metadata": {
    "execution": {
     "iopub.execute_input": "2021-10-04T12:56:30.778910Z",
     "iopub.status.busy": "2021-10-04T12:56:30.778697Z",
     "iopub.status.idle": "2021-10-04T12:56:30.969302Z",
     "shell.execute_reply": "2021-10-04T12:56:30.968292Z",
     "shell.execute_reply.started": "2021-10-04T12:56:30.778888Z"
    },
    "tags": []
   },
   "outputs": [
    {
     "data": {
      "image/png": "[encoded data removed]",
      "text/plain": [
       "<Figure size 432x288 with 2 Axes>"
      ]
     },
     "metadata": {
      "needs_background": "light"
     },
     "output_type": "display_data"
    }
   ],
   "source": [
    "corr_df=corr.set_index('variable')\n",
    "plt.title('Sensors Value Correlation')\n",
    "sns.heatmap(corr_df,annot=True);"
   ]
  }
 ],
 "metadata": {
  "kernelspec": {
   "display_name": "Python 3",
   "language": "python",
   "name": "python3"
  },
  "language_info": {
   "codemirror_mode": {
    "name": "ipython",
    "version": 3
   },
   "file_extension": ".py",
   "mimetype": "text/x-python",
   "name": "python",
   "nbconvert_exporter": "python",
   "pygments_lexer": "ipython3",
   "version": "3.6.13"
  }
 },
 "nbformat": 4,
 "nbformat_minor": 5
}
