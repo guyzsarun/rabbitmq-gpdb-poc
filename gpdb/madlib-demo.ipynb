{
 "cells": [
  {
   "cell_type": "markdown",
   "id": "81dce510-c17f-4e05-9d70-40b049404558",
   "metadata": {},
   "source": [
    "## MADlib Greenplum Demo\n",
    "---"
   ]
  },
  {
   "cell_type": "markdown",
   "id": "222f598c-5da6-4931-bd9e-9af36d1dc84d",
   "metadata": {},
   "source": [
    "### Import neccessary Data Science libraries"
   ]
  },
  {
   "cell_type": "code",
   "execution_count": 1,
   "id": "1fff5feb-54f5-4025-9dae-0ed5925c9fbe",
   "metadata": {
    "execution": {
     "iopub.execute_input": "2021-10-12T08:44:21.780034Z",
     "iopub.status.busy": "2021-10-12T08:44:21.779810Z",
     "iopub.status.idle": "2021-10-12T08:44:22.965402Z",
     "shell.execute_reply": "2021-10-12T08:44:22.964925Z",
     "shell.execute_reply.started": "2021-10-12T08:44:21.779972Z"
    },
    "tags": []
   },
   "outputs": [],
   "source": [
    "%matplotlib widget\n",
    "import warnings\n",
    "warnings.filterwarnings(\"ignore\")\n",
    "\n",
    "import ipywidgets as widgets\n",
    "import pandas as pd\n",
    "import numpy as np\n",
    "import seaborn as sns\n",
    "import matplotlib.pyplot as plt\n",
    "from sklearn.metrics import classification_report\n",
    "pd.set_option('display.max_columns', 200)"
   ]
  },
  {
   "cell_type": "markdown",
   "id": "09157fb2-2108-4d53-9353-aa3068b76918",
   "metadata": {},
   "source": [
    "Connect to Greenplum Database"
   ]
  },
  {
   "cell_type": "code",
   "execution_count": 2,
   "id": "45035b3a-0cc9-486f-aa0c-62908680f7e2",
   "metadata": {
    "execution": {
     "iopub.execute_input": "2021-10-12T08:44:22.966507Z",
     "iopub.status.busy": "2021-10-12T08:44:22.966382Z",
     "iopub.status.idle": "2021-10-12T08:44:23.138000Z",
     "shell.execute_reply": "2021-10-12T08:44:23.137397Z",
     "shell.execute_reply.started": "2021-10-12T08:44:22.966489Z"
    },
    "tags": []
   },
   "outputs": [],
   "source": [
    "%load_ext sql"
   ]
  },
  {
   "cell_type": "code",
   "execution_count": 3,
   "id": "a57ee55c-91f9-4427-b7f7-180b2c5d4aae",
   "metadata": {
    "execution": {
     "iopub.execute_input": "2021-10-12T08:44:23.139768Z",
     "iopub.status.busy": "2021-10-12T08:44:23.139561Z",
     "iopub.status.idle": "2021-10-12T08:44:24.926106Z",
     "shell.execute_reply": "2021-10-12T08:44:24.925452Z",
     "shell.execute_reply.started": "2021-10-12T08:44:23.139745Z"
    },
    "tags": []
   },
   "outputs": [
    {
     "name": "stdout",
     "output_type": "stream",
     "text": [
      "|-------------|------------------------------------------------------|--------------|------------------------------|\n",
      "|  NAMESPACE  |                         NAME                         | TARGET PORT  |             URL              |\n",
      "|-------------|------------------------------------------------------|--------------|------------------------------|\n",
      "| default     | agent                                                | No node port |\n",
      "| default     | greenplum                                            | psql/5432    | http://192.168.133.128:32000 |\n",
      "| default     | greenplum-validating-webhook-service-9d44d9fcf-t26tq | No node port |\n",
      "| default     | kubernetes                                           | No node port |\n",
      "| default     | my-greenplum-pl                                      | No node port |\n",
      "| default     | my-greenplum-pxf                                     | No node port |\n",
      "| kube-system | kube-dns                                             | No node port |\n",
      "|-------------|------------------------------------------------------|--------------|------------------------------|\n"
     ]
    }
   ],
   "source": [
    "!minikube service list"
   ]
  },
  {
   "cell_type": "code",
   "execution_count": 4,
   "id": "f898f542-6fb9-4220-8ca2-a9ba6b452563",
   "metadata": {
    "execution": {
     "iopub.execute_input": "2021-10-12T08:44:24.927705Z",
     "iopub.status.busy": "2021-10-12T08:44:24.927494Z",
     "iopub.status.idle": "2021-10-12T08:44:25.006105Z",
     "shell.execute_reply": "2021-10-12T08:44:25.004833Z",
     "shell.execute_reply.started": "2021-10-12T08:44:24.927679Z"
    },
    "tags": []
   },
   "outputs": [
    {
     "name": "stdout",
     "output_type": "stream",
     "text": [
      " * postgresql://gpadmin@192.168.133.128:32000/db\n",
      "1 rows affected.\n"
     ]
    },
    {
     "data": {
      "text/html": [
       "<table>\n",
       "    <tr>\n",
       "        <th>version</th>\n",
       "    </tr>\n",
       "    <tr>\n",
       "        <td>PostgreSQL 9.4.24 (Greenplum Database 6.11.2 build commit:d611e78af2c5a6561ccbbaf2b4652138410f9aeb) on x86_64-unknown-linux-gnu, compiled by gcc (Ubuntu 7.5.0-3ubuntu1~18.04) 7.5.0, 64-bit compiled on Sep 30 2020 05:25:08</td>\n",
       "    </tr>\n",
       "</table>"
      ],
      "text/plain": [
       "[('PostgreSQL 9.4.24 (Greenplum Database 6.11.2 build commit:d611e78af2c5a6561ccbbaf2b4652138410f9aeb) on x86_64-unknown-linux-gnu, compiled by gcc (Ubuntu 7.5.0-3ubuntu1~18.04) 7.5.0, 64-bit compiled on Sep 30 2020 05:25:08',)]"
      ]
     },
     "execution_count": 4,
     "metadata": {},
     "output_type": "execute_result"
    }
   ],
   "source": [
    "%sql postgresql://gpadmin@192.168.133.128:32000/db\n",
    "\n",
    "        \n",
    "%sql SELECT version();"
   ]
  },
  {
   "cell_type": "markdown",
   "id": "dbde5ef6-811b-471d-9021-416f311d50ae",
   "metadata": {},
   "source": [
    "### Check Database Data"
   ]
  },
  {
   "cell_type": "code",
   "execution_count": 5,
   "id": "6cdd0301-7bb6-47dc-a688-56ba3df9920d",
   "metadata": {
    "execution": {
     "iopub.execute_input": "2021-10-12T08:38:17.438110Z",
     "iopub.status.busy": "2021-10-12T08:38:17.437841Z",
     "iopub.status.idle": "2021-10-12T08:38:17.820965Z",
     "shell.execute_reply": "2021-10-12T08:38:17.819975Z",
     "shell.execute_reply.started": "2021-10-12T08:38:17.438074Z"
    },
    "tags": []
   },
   "outputs": [
    {
     "name": "stdout",
     "output_type": "stream",
     "text": [
      " * postgresql://gpadmin@192.168.133.128:32000/db\n",
      "1 rows affected.\n"
     ]
    },
    {
     "data": {
      "text/html": [
       "<table>\n",
       "    <tr>\n",
       "        <th>num_sample</th>\n",
       "    </tr>\n",
       "    <tr>\n",
       "        <td>200000</td>\n",
       "    </tr>\n",
       "</table>"
      ],
      "text/plain": [
       "[(200000,)]"
      ]
     },
     "execution_count": 5,
     "metadata": {},
     "output_type": "execute_result"
    }
   ],
   "source": [
    "%%sql\n",
    "\n",
    "\n",
    "SELECT COUNT(*) AS num_sample FROM sensors;"
   ]
  },
  {
   "cell_type": "code",
   "execution_count": 6,
   "id": "f4efe7c1-ee80-4e96-85be-0deb6cf1d3e0",
   "metadata": {
    "execution": {
     "iopub.execute_input": "2021-10-12T08:38:17.822768Z",
     "iopub.status.busy": "2021-10-12T08:38:17.822419Z",
     "iopub.status.idle": "2021-10-12T08:38:17.836108Z",
     "shell.execute_reply": "2021-10-12T08:38:17.835296Z",
     "shell.execute_reply.started": "2021-10-12T08:38:17.822729Z"
    },
    "tags": []
   },
   "outputs": [
    {
     "name": "stdout",
     "output_type": "stream",
     "text": [
      " * postgresql://gpadmin@192.168.133.128:32000/db\n",
      "10 rows affected.\n"
     ]
    },
    {
     "data": {
      "text/html": [
       "<table>\n",
       "    <tr>\n",
       "        <th>timestamp</th>\n",
       "        <th>temperature</th>\n",
       "        <th>temperature_2</th>\n",
       "        <th>humidity</th>\n",
       "        <th>pm25</th>\n",
       "    </tr>\n",
       "    <tr>\n",
       "        <td>1997-03-22 00:00:00</td>\n",
       "        <td>30.6668585650253</td>\n",
       "        <td>42.9052858044298</td>\n",
       "        <td>69.2785492479998</td>\n",
       "        <td>73.1767528823951</td>\n",
       "    </tr>\n",
       "    <tr>\n",
       "        <td>1997-03-22 04:00:00</td>\n",
       "        <td>32.2240553161353</td>\n",
       "        <td>48.4451885030855</td>\n",
       "        <td>61.2088571248697</td>\n",
       "        <td>103.956207334568</td>\n",
       "    </tr>\n",
       "    <tr>\n",
       "        <td>1997-03-22 12:00:00</td>\n",
       "        <td>32.4185793403592</td>\n",
       "        <td>46.2930967363855</td>\n",
       "        <td>69.3046298170464</td>\n",
       "        <td>87.3012012853493</td>\n",
       "    </tr>\n",
       "    <tr>\n",
       "        <td>1997-03-22 20:00:00</td>\n",
       "        <td>31.6889779538602</td>\n",
       "        <td>50.3771697898689</td>\n",
       "        <td>53.2251690054103</td>\n",
       "        <td>76.757504341768</td>\n",
       "    </tr>\n",
       "    <tr>\n",
       "        <td>1997-03-22 21:00:00</td>\n",
       "        <td>31.414135143836</td>\n",
       "        <td>45.8292816079858</td>\n",
       "        <td>53.655786244688</td>\n",
       "        <td>77.837155684718</td>\n",
       "    </tr>\n",
       "    <tr>\n",
       "        <td>1997-03-22 22:00:00</td>\n",
       "        <td>31.5117735558417</td>\n",
       "        <td>49.7762550293786</td>\n",
       "        <td>31.5185341489772</td>\n",
       "        <td>98.0131261241892</td>\n",
       "    </tr>\n",
       "    <tr>\n",
       "        <td>1997-03-23 04:00:00</td>\n",
       "        <td>30.9732062825728</td>\n",
       "        <td>50.7305651158765</td>\n",
       "        <td>51.6463117699311</td>\n",
       "        <td>76.6613962119159</td>\n",
       "    </tr>\n",
       "    <tr>\n",
       "        <td>1997-03-23 06:00:00</td>\n",
       "        <td>31.1456715016839</td>\n",
       "        <td>50.5883567654865</td>\n",
       "        <td>50.6392021695488</td>\n",
       "        <td>77.1011145867884</td>\n",
       "    </tr>\n",
       "    <tr>\n",
       "        <td>1997-03-23 08:00:00</td>\n",
       "        <td>32.9173479628012</td>\n",
       "        <td>48.2255788669841</td>\n",
       "        <td>62.5489084902205</td>\n",
       "        <td>87.1120555127665</td>\n",
       "    </tr>\n",
       "    <tr>\n",
       "        <td>1997-03-23 12:00:00</td>\n",
       "        <td>32.5277304291036</td>\n",
       "        <td>47.7246721062276</td>\n",
       "        <td>15.1710744913787</td>\n",
       "        <td>91.5709933365243</td>\n",
       "    </tr>\n",
       "</table>"
      ],
      "text/plain": [
       "[(datetime.datetime(1997, 3, 22, 0, 0), 30.6668585650253, 42.9052858044298, 69.2785492479998, 73.1767528823951),\n",
       " (datetime.datetime(1997, 3, 22, 4, 0), 32.2240553161353, 48.4451885030855, 61.2088571248697, 103.956207334568),\n",
       " (datetime.datetime(1997, 3, 22, 12, 0), 32.4185793403592, 46.2930967363855, 69.3046298170464, 87.3012012853493),\n",
       " (datetime.datetime(1997, 3, 22, 20, 0), 31.6889779538602, 50.3771697898689, 53.2251690054103, 76.757504341768),\n",
       " (datetime.datetime(1997, 3, 22, 21, 0), 31.414135143836, 45.8292816079858, 53.655786244688, 77.837155684718),\n",
       " (datetime.datetime(1997, 3, 22, 22, 0), 31.5117735558417, 49.7762550293786, 31.5185341489772, 98.0131261241892),\n",
       " (datetime.datetime(1997, 3, 23, 4, 0), 30.9732062825728, 50.7305651158765, 51.6463117699311, 76.6613962119159),\n",
       " (datetime.datetime(1997, 3, 23, 6, 0), 31.1456715016839, 50.5883567654865, 50.6392021695488, 77.1011145867884),\n",
       " (datetime.datetime(1997, 3, 23, 8, 0), 32.9173479628012, 48.2255788669841, 62.5489084902205, 87.1120555127665),\n",
       " (datetime.datetime(1997, 3, 23, 12, 0), 32.5277304291036, 47.7246721062276, 15.1710744913787, 91.5709933365243)]"
      ]
     },
     "execution_count": 6,
     "metadata": {},
     "output_type": "execute_result"
    }
   ],
   "source": [
    "%%sql\n",
    "\n",
    "SELECT * FROM sensors LIMIT 10;"
   ]
  },
  {
   "cell_type": "code",
   "execution_count": 7,
   "id": "9bb8da4d-fecb-42a7-a95d-d940f34ac9e6",
   "metadata": {
    "execution": {
     "iopub.execute_input": "2021-10-12T08:38:17.837736Z",
     "iopub.status.busy": "2021-10-12T08:38:17.837382Z",
     "iopub.status.idle": "2021-10-12T08:38:17.925673Z",
     "shell.execute_reply": "2021-10-12T08:38:17.924820Z",
     "shell.execute_reply.started": "2021-10-12T08:38:17.837695Z"
    },
    "tags": []
   },
   "outputs": [
    {
     "name": "stdout",
     "output_type": "stream",
     "text": [
      " * postgresql://gpadmin@192.168.133.128:32000/db\n",
      "1000 rows affected.\n"
     ]
    }
   ],
   "source": [
    "sensors = %sql SELECT * FROM sensors LIMIT 1000;\n",
    "sensors = sensors.DataFrame()"
   ]
  },
  {
   "cell_type": "code",
   "execution_count": 8,
   "id": "254f263a-64c7-4966-8896-109281f26540",
   "metadata": {
    "execution": {
     "iopub.execute_input": "2021-10-12T08:38:17.929677Z",
     "iopub.status.busy": "2021-10-12T08:38:17.929377Z",
     "iopub.status.idle": "2021-10-12T08:38:17.946243Z",
     "shell.execute_reply": "2021-10-12T08:38:17.944903Z",
     "shell.execute_reply.started": "2021-10-12T08:38:17.929641Z"
    },
    "tags": []
   },
   "outputs": [
    {
     "name": "stdout",
     "output_type": "stream",
     "text": [
      "<class 'pandas.core.frame.DataFrame'>\n",
      "RangeIndex: 1000 entries, 0 to 999\n",
      "Data columns (total 5 columns):\n",
      " #   Column         Non-Null Count  Dtype         \n",
      "---  ------         --------------  -----         \n",
      " 0   timestamp      1000 non-null   datetime64[ns]\n",
      " 1   temperature    1000 non-null   float64       \n",
      " 2   temperature_2  1000 non-null   float64       \n",
      " 3   humidity       1000 non-null   float64       \n",
      " 4   pm25           1000 non-null   float64       \n",
      "dtypes: datetime64[ns](1), float64(4)\n",
      "memory usage: 39.2 KB\n"
     ]
    }
   ],
   "source": [
    "sensors.info()"
   ]
  },
  {
   "cell_type": "code",
   "execution_count": 9,
   "id": "142926cb-b255-4e76-a28b-5d38b8b6e9c1",
   "metadata": {
    "execution": {
     "iopub.execute_input": "2021-10-12T08:38:17.948473Z",
     "iopub.status.busy": "2021-10-12T08:38:17.948195Z",
     "iopub.status.idle": "2021-10-12T08:38:17.987585Z",
     "shell.execute_reply": "2021-10-12T08:38:17.986386Z",
     "shell.execute_reply.started": "2021-10-12T08:38:17.948436Z"
    },
    "tags": []
   },
   "outputs": [
    {
     "data": {
      "text/html": [
       "<div>\n",
       "<style scoped>\n",
       "    .dataframe tbody tr th:only-of-type {\n",
       "        vertical-align: middle;\n",
       "    }\n",
       "\n",
       "    .dataframe tbody tr th {\n",
       "        vertical-align: top;\n",
       "    }\n",
       "\n",
       "    .dataframe thead th {\n",
       "        text-align: right;\n",
       "    }\n",
       "</style>\n",
       "<table border=\"1\" class=\"dataframe\">\n",
       "  <thead>\n",
       "    <tr style=\"text-align: right;\">\n",
       "      <th></th>\n",
       "      <th>temperature</th>\n",
       "      <th>temperature_2</th>\n",
       "      <th>humidity</th>\n",
       "      <th>pm25</th>\n",
       "    </tr>\n",
       "  </thead>\n",
       "  <tbody>\n",
       "    <tr>\n",
       "      <th>count</th>\n",
       "      <td>1000.000000</td>\n",
       "      <td>1000.000000</td>\n",
       "      <td>1000.000000</td>\n",
       "      <td>1000.000000</td>\n",
       "    </tr>\n",
       "    <tr>\n",
       "      <th>mean</th>\n",
       "      <td>31.546704</td>\n",
       "      <td>46.562115</td>\n",
       "      <td>49.825844</td>\n",
       "      <td>89.552287</td>\n",
       "    </tr>\n",
       "    <tr>\n",
       "      <th>std</th>\n",
       "      <td>0.872289</td>\n",
       "      <td>3.139024</td>\n",
       "      <td>14.967374</td>\n",
       "      <td>14.430473</td>\n",
       "    </tr>\n",
       "    <tr>\n",
       "      <th>min</th>\n",
       "      <td>30.002098</td>\n",
       "      <td>34.493309</td>\n",
       "      <td>1.160944</td>\n",
       "      <td>38.564782</td>\n",
       "    </tr>\n",
       "    <tr>\n",
       "      <th>25%</th>\n",
       "      <td>30.819098</td>\n",
       "      <td>44.387437</td>\n",
       "      <td>39.490404</td>\n",
       "      <td>79.670134</td>\n",
       "    </tr>\n",
       "    <tr>\n",
       "      <th>50%</th>\n",
       "      <td>31.576531</td>\n",
       "      <td>46.438833</td>\n",
       "      <td>50.040946</td>\n",
       "      <td>89.644032</td>\n",
       "    </tr>\n",
       "    <tr>\n",
       "      <th>75%</th>\n",
       "      <td>32.325675</td>\n",
       "      <td>48.665443</td>\n",
       "      <td>60.295111</td>\n",
       "      <td>99.163126</td>\n",
       "    </tr>\n",
       "    <tr>\n",
       "      <th>max</th>\n",
       "      <td>33.004882</td>\n",
       "      <td>55.152494</td>\n",
       "      <td>93.333323</td>\n",
       "      <td>132.791284</td>\n",
       "    </tr>\n",
       "  </tbody>\n",
       "</table>\n",
       "</div>"
      ],
      "text/plain": [
       "       temperature  temperature_2     humidity         pm25\n",
       "count  1000.000000    1000.000000  1000.000000  1000.000000\n",
       "mean     31.546704      46.562115    49.825844    89.552287\n",
       "std       0.872289       3.139024    14.967374    14.430473\n",
       "min      30.002098      34.493309     1.160944    38.564782\n",
       "25%      30.819098      44.387437    39.490404    79.670134\n",
       "50%      31.576531      46.438833    50.040946    89.644032\n",
       "75%      32.325675      48.665443    60.295111    99.163126\n",
       "max      33.004882      55.152494    93.333323   132.791284"
      ]
     },
     "execution_count": 9,
     "metadata": {},
     "output_type": "execute_result"
    }
   ],
   "source": [
    "sensors.describe()"
   ]
  },
  {
   "cell_type": "code",
   "execution_count": 10,
   "id": "5045f55d-2674-4817-8ae5-1693ce942455",
   "metadata": {
    "execution": {
     "iopub.execute_input": "2021-10-12T08:38:17.989940Z",
     "iopub.status.busy": "2021-10-12T08:38:17.989612Z",
     "iopub.status.idle": "2021-10-12T08:38:18.260858Z",
     "shell.execute_reply": "2021-10-12T08:38:18.259980Z",
     "shell.execute_reply.started": "2021-10-12T08:38:17.989896Z"
    },
    "presto": {
     "id": "70614908-a37d-4742-aeaa-1d42c5d2a99b"
    },
    "tags": []
   },
   "outputs": [
    {
     "data": {
      "application/vnd.jupyter.widget-view+json": {
       "model_id": "73a41a117c994cfc869c336dbdd0adf8",
       "version_major": 2,
       "version_minor": 0
      },
      "image/png": "[encoded data removed]",
      "text/plain": [
       "Canvas(toolbar=Toolbar(toolitems=[('Home', 'Reset original view', 'home', 'home'), ('Back', 'Back to previous …"
      ]
     },
     "metadata": {},
     "output_type": "display_data"
    }
   ],
   "source": [
    "plt.figure(figsize=(7,4))\n",
    "sns.distplot(sensors['humidity'],bins=60);\n",
    "plt.title(\"Humidity Distribution\")\n",
    "plt.axvline(x=sensors['humidity'].mean(),color='red',ls='--',lw=2)\n",
    "plt.text(sensors['humidity'].mean()+3,0.03, \"mean\", fontsize=10,c='red');"
   ]
  },
  {
   "cell_type": "markdown",
   "id": "ad732e2e-9c8a-4c57-8a14-61809dd08a66",
   "metadata": {
    "execution": {
     "iopub.execute_input": "2021-10-04T10:27:18.637092Z",
     "iopub.status.busy": "2021-10-04T10:27:18.636846Z",
     "iopub.status.idle": "2021-10-04T10:27:18.639478Z",
     "shell.execute_reply": "2021-10-04T10:27:18.638867Z",
     "shell.execute_reply.started": "2021-10-04T10:27:18.637067Z"
    }
   },
   "source": [
    "### EDA"
   ]
  },
  {
   "cell_type": "code",
   "execution_count": 11,
   "id": "931aaab8-f2ee-469e-893b-a0ab766d2993",
   "metadata": {
    "execution": {
     "iopub.execute_input": "2021-10-12T08:38:33.245314Z",
     "iopub.status.busy": "2021-10-12T08:38:33.244970Z",
     "iopub.status.idle": "2021-10-12T08:38:59.931535Z",
     "shell.execute_reply": "2021-10-12T08:38:59.930796Z",
     "shell.execute_reply.started": "2021-10-12T08:38:33.245269Z"
    },
    "tags": []
   },
   "outputs": [
    {
     "name": "stdout",
     "output_type": "stream",
     "text": [
      " * postgresql://gpadmin@192.168.133.128:32000/db\n",
      "Done.\n",
      "1 rows affected.\n",
      "5 rows affected.\n"
     ]
    },
    {
     "data": {
      "text/html": [
       "<table>\n",
       "    <tr>\n",
       "        <th>group_by</th>\n",
       "        <th>group_by_value</th>\n",
       "        <th>target_column</th>\n",
       "        <th>column_number</th>\n",
       "        <th>data_type</th>\n",
       "        <th>row_count</th>\n",
       "        <th>distinct_values</th>\n",
       "        <th>missing_values</th>\n",
       "        <th>blank_values</th>\n",
       "        <th>fraction_missing</th>\n",
       "        <th>fraction_blank</th>\n",
       "        <th>positive_values</th>\n",
       "        <th>negative_values</th>\n",
       "        <th>zero_values</th>\n",
       "        <th>mean</th>\n",
       "        <th>variance</th>\n",
       "        <th>confidence_interval</th>\n",
       "        <th>min</th>\n",
       "        <th>max</th>\n",
       "        <th>first_quartile</th>\n",
       "        <th>median</th>\n",
       "        <th>third_quartile</th>\n",
       "        <th>most_frequent_values</th>\n",
       "        <th>mfv_frequencies</th>\n",
       "    </tr>\n",
       "    <tr>\n",
       "        <td>None</td>\n",
       "        <td>None</td>\n",
       "        <td>&quot;timestamp&quot;</td>\n",
       "        <td>1</td>\n",
       "        <td>timestamp</td>\n",
       "        <td>200000</td>\n",
       "        <td>200000</td>\n",
       "        <td>0</td>\n",
       "        <td>None</td>\n",
       "        <td>0.0</td>\n",
       "        <td>None</td>\n",
       "        <td>None</td>\n",
       "        <td>None</td>\n",
       "        <td>None</td>\n",
       "        <td>None</td>\n",
       "        <td>None</td>\n",
       "        <td>None</td>\n",
       "        <td>None</td>\n",
       "        <td>None</td>\n",
       "        <td>None</td>\n",
       "        <td>None</td>\n",
       "        <td>None</td>\n",
       "        <td>[&#x27;2019-07-25 11:00:00&#x27;, &#x27;2019-12-01 19:00:00&#x27;, &#x27;2019-11-03 16:00:00&#x27;, &#x27;2019-11-23 21:00:00&#x27;, &#x27;2019-11-26 21:00:00&#x27;, &#x27;2019-12-21 14:00:00&#x27;, &#x27;2020-01-03 09:00:00&#x27;, &#x27;2019-11-30 16:00:00&#x27;, &#x27;2019-12-15 03:00:00&#x27;, &#x27;2019-11-05 15:00:00&#x27;]</td>\n",
       "        <td>[202, 201, 197, 196, 196, 196, 196, 195, 194, 193]</td>\n",
       "    </tr>\n",
       "    <tr>\n",
       "        <td>None</td>\n",
       "        <td>None</td>\n",
       "        <td>temperature</td>\n",
       "        <td>2</td>\n",
       "        <td>float8</td>\n",
       "        <td>200000</td>\n",
       "        <td>200000</td>\n",
       "        <td>0</td>\n",
       "        <td>None</td>\n",
       "        <td>0.0</td>\n",
       "        <td>None</td>\n",
       "        <td>200000</td>\n",
       "        <td>0</td>\n",
       "        <td>0</td>\n",
       "        <td>32.0007889310936</td>\n",
       "        <td>0.833918535707913</td>\n",
       "        <td>[31.9967866933153, 32.0047911688719]</td>\n",
       "        <td>30.0020976922364</td>\n",
       "        <td>33.9932399275613</td>\n",
       "        <td>31.2506718159847</td>\n",
       "        <td>32.0007082471155</td>\n",
       "        <td>32.7509473341128</td>\n",
       "        <td>[&#x27;31.3932971558727&#x27;, &#x27;31.1270586631445&#x27;, &#x27;31.5795452103724&#x27;, &#x27;31.3809975772738&#x27;, &#x27;33.8450611683449&#x27;, &#x27;31.0611840491863&#x27;, &#x27;32.9212582895504&#x27;, &#x27;33.8943804292179&#x27;, &#x27;32.1098964308206&#x27;, &#x27;31.1571707561875&#x27;]</td>\n",
       "        <td>[204, 197, 196, 196, 195, 195, 195, 195, 195, 195]</td>\n",
       "    </tr>\n",
       "    <tr>\n",
       "        <td>None</td>\n",
       "        <td>None</td>\n",
       "        <td>temperature_2</td>\n",
       "        <td>3</td>\n",
       "        <td>float8</td>\n",
       "        <td>200000</td>\n",
       "        <td>200000</td>\n",
       "        <td>0</td>\n",
       "        <td>None</td>\n",
       "        <td>0.0</td>\n",
       "        <td>None</td>\n",
       "        <td>200000</td>\n",
       "        <td>0</td>\n",
       "        <td>0</td>\n",
       "        <td>46.99570081252</td>\n",
       "        <td>9.80804681580791</td>\n",
       "        <td>[46.9819751809047, 47.0094264441353]</td>\n",
       "        <td>32.2943907804811</td>\n",
       "        <td>61.6835823795163</td>\n",
       "        <td>44.8807517740374</td>\n",
       "        <td>46.9961843733011</td>\n",
       "        <td>49.112212070946</td>\n",
       "        <td>[&#x27;45.610033372541&#x27;, &#x27;41.8933542334198&#x27;, &#x27;48.7487345239526&#x27;, &#x27;42.8628249997972&#x27;, &#x27;51.7284036547247&#x27;, &#x27;53.0636555990058&#x27;, &#x27;49.144793481834&#x27;, &#x27;42.5560303222563&#x27;, &#x27;49.2545157623079&#x27;, &#x27;53.5363445515196&#x27;]</td>\n",
       "        <td>[200, 198, 198, 198, 198, 196, 196, 196, 196, 196]</td>\n",
       "    </tr>\n",
       "    <tr>\n",
       "        <td>None</td>\n",
       "        <td>None</td>\n",
       "        <td>humidity</td>\n",
       "        <td>4</td>\n",
       "        <td>float8</td>\n",
       "        <td>200000</td>\n",
       "        <td>200000</td>\n",
       "        <td>0</td>\n",
       "        <td>None</td>\n",
       "        <td>0.0</td>\n",
       "        <td>None</td>\n",
       "        <td>199916</td>\n",
       "        <td>84</td>\n",
       "        <td>0</td>\n",
       "        <td>50.0315077284909</td>\n",
       "        <td>224.568211224632</td>\n",
       "        <td>[49.9658304401699, 50.0971850168119]</td>\n",
       "        <td>-20.3266268501857</td>\n",
       "        <td>118.488627743178</td>\n",
       "        <td>39.9160404829</td>\n",
       "        <td>50.0412446801503</td>\n",
       "        <td>60.1484803615784</td>\n",
       "        <td>[&#x27;80.0789399962446&#x27;, &#x27;58.9158137497979&#x27;, &#x27;49.5808709283595&#x27;, &#x27;40.8370079457451&#x27;, &#x27;44.2457888796278&#x27;, &#x27;81.0299847843547&#x27;, &#x27;61.0819306716374&#x27;, &#x27;71.5458767971577&#x27;, &#x27;68.9138189296112&#x27;, &#x27;57.5480243504294&#x27;]</td>\n",
       "        <td>[200, 198, 198, 198, 197, 196, 194, 193, 193, 193]</td>\n",
       "    </tr>\n",
       "    <tr>\n",
       "        <td>None</td>\n",
       "        <td>None</td>\n",
       "        <td>pm25</td>\n",
       "        <td>5</td>\n",
       "        <td>float8</td>\n",
       "        <td>200000</td>\n",
       "        <td>200000</td>\n",
       "        <td>0</td>\n",
       "        <td>None</td>\n",
       "        <td>0.0</td>\n",
       "        <td>None</td>\n",
       "        <td>200000</td>\n",
       "        <td>0</td>\n",
       "        <td>0</td>\n",
       "        <td>94.9567258520912</td>\n",
       "        <td>232.817325310956</td>\n",
       "        <td>[94.8898531731814, 95.023598531001]</td>\n",
       "        <td>24.4732311088685</td>\n",
       "        <td>161.947176404423</td>\n",
       "        <td>84.6258824447947</td>\n",
       "        <td>94.9361338249605</td>\n",
       "        <td>105.200500570932</td>\n",
       "        <td>[&#x27;81.0193782019894&#x27;, &#x27;113.419361265646&#x27;, &#x27;111.01717457287&#x27;, &#x27;86.2007469815971&#x27;, &#x27;114.26224363525&#x27;, &#x27;106.088352504439&#x27;, &#x27;75.1810545024631&#x27;, &#x27;115.516321815534&#x27;, &#x27;68.4794225328913&#x27;, &#x27;86.1884482285641&#x27;]</td>\n",
       "        <td>[199, 198, 198, 198, 197, 196, 195, 195, 194, 194]</td>\n",
       "    </tr>\n",
       "</table>"
      ],
      "text/plain": [
       "[(None, None, '\"timestamp\"', 1, 'timestamp', 200000, 200000, 0, None, 0.0, None, None, None, None, None, None, None, None, None, None, None, None, ['2019-07-25 11:00:00', '2019-12-01 19:00:00', '2019-11-03 16:00:00', '2019-11-23 21:00:00', '2019-11-26 21:00:00', '2019-12-21 14:00:00', '2020-01-03 09:00:00', '2019-11-30 16:00:00', '2019-12-15 03:00:00', '2019-11-05 15:00:00'], [202, 201, 197, 196, 196, 196, 196, 195, 194, 193]),\n",
       " (None, None, 'temperature', 2, 'float8', 200000, 200000, 0, None, 0.0, None, 200000, 0, 0, 32.0007889310936, 0.833918535707913, [31.9967866933153, 32.0047911688719], 30.0020976922364, 33.9932399275613, 31.2506718159847, 32.0007082471155, 32.7509473341128, ['31.3932971558727', '31.1270586631445', '31.5795452103724', '31.3809975772738', '33.8450611683449', '31.0611840491863', '32.9212582895504', '33.8943804292179', '32.1098964308206', '31.1571707561875'], [204, 197, 196, 196, 195, 195, 195, 195, 195, 195]),\n",
       " (None, None, 'temperature_2', 3, 'float8', 200000, 200000, 0, None, 0.0, None, 200000, 0, 0, 46.99570081252, 9.80804681580791, [46.9819751809047, 47.0094264441353], 32.2943907804811, 61.6835823795163, 44.8807517740374, 46.9961843733011, 49.112212070946, ['45.610033372541', '41.8933542334198', '48.7487345239526', '42.8628249997972', '51.7284036547247', '53.0636555990058', '49.144793481834', '42.5560303222563', '49.2545157623079', '53.5363445515196'], [200, 198, 198, 198, 198, 196, 196, 196, 196, 196]),\n",
       " (None, None, 'humidity', 4, 'float8', 200000, 200000, 0, None, 0.0, None, 199916, 84, 0, 50.0315077284909, 224.568211224632, [49.9658304401699, 50.0971850168119], -20.3266268501857, 118.488627743178, 39.9160404829, 50.0412446801503, 60.1484803615784, ['80.0789399962446', '58.9158137497979', '49.5808709283595', '40.8370079457451', '44.2457888796278', '81.0299847843547', '61.0819306716374', '71.5458767971577', '68.9138189296112', '57.5480243504294'], [200, 198, 198, 198, 197, 196, 194, 193, 193, 193]),\n",
       " (None, None, 'pm25', 5, 'float8', 200000, 200000, 0, None, 0.0, None, 200000, 0, 0, 94.9567258520912, 232.817325310956, [94.8898531731814, 95.023598531001], 24.4732311088685, 161.947176404423, 84.6258824447947, 94.9361338249605, 105.200500570932, ['81.0193782019894', '113.419361265646', '111.01717457287', '86.2007469815971', '114.26224363525', '106.088352504439', '75.1810545024631', '115.516321815534', '68.4794225328913', '86.1884482285641'], [199, 198, 198, 198, 197, 196, 195, 195, 194, 194])]"
      ]
     },
     "execution_count": 11,
     "metadata": {},
     "output_type": "execute_result"
    }
   ],
   "source": [
    "%%sql\n",
    "DROP TABLE IF EXISTS sensors_summary ;\n",
    "SELECT madlib.summary (\n",
    "    'sensors',  -- source_table\n",
    "    'sensors_summary',  -- output_table\n",
    "    NULL,  -- target_cols\n",
    "    NULL,  -- grouping_cols\n",
    "    TRUE,  -- get_distinct\n",
    "    TRUE,  -- get_quartiles\n",
    "    NULL,  -- quantile_array\n",
    "    10,    -- how_many_mfv\n",
    "    FALSE  -- get_estimate\n",
    ");\n",
    "\n",
    "SELECT * FROM sensors_summary LIMIT 5;"
   ]
  },
  {
   "cell_type": "code",
   "execution_count": 12,
   "id": "bbccdb9b-e93a-4ed8-b8b3-dbf2b037b113",
   "metadata": {
    "execution": {
     "iopub.execute_input": "2021-10-12T08:38:59.933295Z",
     "iopub.status.busy": "2021-10-12T08:38:59.933015Z",
     "iopub.status.idle": "2021-10-12T08:39:00.526949Z",
     "shell.execute_reply": "2021-10-12T08:39:00.526215Z",
     "shell.execute_reply.started": "2021-10-12T08:38:59.933264Z"
    },
    "tags": []
   },
   "outputs": [
    {
     "name": "stdout",
     "output_type": "stream",
     "text": [
      " * postgresql://gpadmin@192.168.133.128:32000/db\n",
      "Done.\n",
      "Done.\n",
      "275 rows affected.\n",
      "20 rows affected.\n"
     ]
    },
    {
     "data": {
      "text/html": [
       "<table>\n",
       "    <tr>\n",
       "        <th>year</th>\n",
       "        <th>month</th>\n",
       "        <th>average_month_temperature</th>\n",
       "        <th>average_pm25</th>\n",
       "    </tr>\n",
       "    <tr>\n",
       "        <td>1997</td>\n",
       "        <td>3</td>\n",
       "        <td>31.5857867033122</td>\n",
       "        <td>89.6407995010372</td>\n",
       "    </tr>\n",
       "    <tr>\n",
       "        <td>1997</td>\n",
       "        <td>4</td>\n",
       "        <td>31.5333406560482</td>\n",
       "        <td>89.6954069445576</td>\n",
       "    </tr>\n",
       "    <tr>\n",
       "        <td>1997</td>\n",
       "        <td>5</td>\n",
       "        <td>31.5315084500734</td>\n",
       "        <td>88.9290781034526</td>\n",
       "    </tr>\n",
       "    <tr>\n",
       "        <td>1997</td>\n",
       "        <td>6</td>\n",
       "        <td>31.5087124676383</td>\n",
       "        <td>89.8276532672497</td>\n",
       "    </tr>\n",
       "    <tr>\n",
       "        <td>1997</td>\n",
       "        <td>7</td>\n",
       "        <td>31.4963020069132</td>\n",
       "        <td>89.946082918828</td>\n",
       "    </tr>\n",
       "    <tr>\n",
       "        <td>1997</td>\n",
       "        <td>8</td>\n",
       "        <td>31.5052959282945</td>\n",
       "        <td>89.8274028619428</td>\n",
       "    </tr>\n",
       "    <tr>\n",
       "        <td>1997</td>\n",
       "        <td>9</td>\n",
       "        <td>31.515806039429</td>\n",
       "        <td>89.6975457387193</td>\n",
       "    </tr>\n",
       "    <tr>\n",
       "        <td>1997</td>\n",
       "        <td>10</td>\n",
       "        <td>31.5212258387757</td>\n",
       "        <td>90.5202452816575</td>\n",
       "    </tr>\n",
       "    <tr>\n",
       "        <td>1997</td>\n",
       "        <td>11</td>\n",
       "        <td>31.5863566049458</td>\n",
       "        <td>90.7640554348525</td>\n",
       "    </tr>\n",
       "    <tr>\n",
       "        <td>1997</td>\n",
       "        <td>12</td>\n",
       "        <td>31.5260226914037</td>\n",
       "        <td>89.2248603940916</td>\n",
       "    </tr>\n",
       "    <tr>\n",
       "        <td>1998</td>\n",
       "        <td>1</td>\n",
       "        <td>31.4920465629579</td>\n",
       "        <td>90.8573994947249</td>\n",
       "    </tr>\n",
       "    <tr>\n",
       "        <td>1998</td>\n",
       "        <td>2</td>\n",
       "        <td>31.6053332927446</td>\n",
       "        <td>89.724605603242</td>\n",
       "    </tr>\n",
       "    <tr>\n",
       "        <td>1998</td>\n",
       "        <td>3</td>\n",
       "        <td>31.5397978379912</td>\n",
       "        <td>91.2564516232789</td>\n",
       "    </tr>\n",
       "    <tr>\n",
       "        <td>1998</td>\n",
       "        <td>4</td>\n",
       "        <td>31.575876100293</td>\n",
       "        <td>90.0761091021617</td>\n",
       "    </tr>\n",
       "    <tr>\n",
       "        <td>1998</td>\n",
       "        <td>5</td>\n",
       "        <td>31.5878665387248</td>\n",
       "        <td>90.6721990182</td>\n",
       "    </tr>\n",
       "    <tr>\n",
       "        <td>1998</td>\n",
       "        <td>6</td>\n",
       "        <td>31.5645715036848</td>\n",
       "        <td>91.010505809848</td>\n",
       "    </tr>\n",
       "    <tr>\n",
       "        <td>1998</td>\n",
       "        <td>7</td>\n",
       "        <td>31.5568759042957</td>\n",
       "        <td>91.0852595298936</td>\n",
       "    </tr>\n",
       "    <tr>\n",
       "        <td>1998</td>\n",
       "        <td>8</td>\n",
       "        <td>31.5673074618402</td>\n",
       "        <td>90.8930377443477</td>\n",
       "    </tr>\n",
       "    <tr>\n",
       "        <td>1998</td>\n",
       "        <td>9</td>\n",
       "        <td>31.5996512239848</td>\n",
       "        <td>90.5607314714343</td>\n",
       "    </tr>\n",
       "    <tr>\n",
       "        <td>1998</td>\n",
       "        <td>10</td>\n",
       "        <td>31.5867189089437</td>\n",
       "        <td>92.2273851777414</td>\n",
       "    </tr>\n",
       "</table>"
      ],
      "text/plain": [
       "[(1997, 3, 31.5857867033122, 89.6407995010372),\n",
       " (1997, 4, 31.5333406560482, 89.6954069445576),\n",
       " (1997, 5, 31.5315084500734, 88.9290781034526),\n",
       " (1997, 6, 31.5087124676383, 89.8276532672497),\n",
       " (1997, 7, 31.4963020069132, 89.946082918828),\n",
       " (1997, 8, 31.5052959282945, 89.8274028619428),\n",
       " (1997, 9, 31.515806039429, 89.6975457387193),\n",
       " (1997, 10, 31.5212258387757, 90.5202452816575),\n",
       " (1997, 11, 31.5863566049458, 90.7640554348525),\n",
       " (1997, 12, 31.5260226914037, 89.2248603940916),\n",
       " (1998, 1, 31.4920465629579, 90.8573994947249),\n",
       " (1998, 2, 31.6053332927446, 89.724605603242),\n",
       " (1998, 3, 31.5397978379912, 91.2564516232789),\n",
       " (1998, 4, 31.575876100293, 90.0761091021617),\n",
       " (1998, 5, 31.5878665387248, 90.6721990182),\n",
       " (1998, 6, 31.5645715036848, 91.010505809848),\n",
       " (1998, 7, 31.5568759042957, 91.0852595298936),\n",
       " (1998, 8, 31.5673074618402, 90.8930377443477),\n",
       " (1998, 9, 31.5996512239848, 90.5607314714343),\n",
       " (1998, 10, 31.5867189089437, 92.2273851777414)]"
      ]
     },
     "execution_count": 12,
     "metadata": {},
     "output_type": "execute_result"
    }
   ],
   "source": [
    "%%sql\n",
    "\n",
    "DROP TABLE IF EXISTS temp_sensors_timeseries;\n",
    "\n",
    "CREATE TABLE temp_sensors_timeseries(\n",
    "    year INTEGER,\n",
    "    month INTEGER,\n",
    "    average_month_temperature FLOAT,\n",
    "    average_pm25 FLOAT\n",
    ");\n",
    "\n",
    "INSERT INTO temp_sensors_timeseries \n",
    "    SELECT  date_part('year', timestamp) AS year,\n",
    "            date_part('month', timestamp) AS month,\n",
    "            avg(temperature) AS average_month_temperature, \n",
    "            avg(pm25) AS average_pm25\n",
    "    FROM sensors\n",
    "    GROUP BY year, month;\n",
    "    \n",
    "    \n",
    "SELECT * FROM temp_sensors_timeseries ORDER BY year,month LIMIT 20;"
   ]
  },
  {
   "cell_type": "code",
   "execution_count": 13,
   "id": "ed4ab9c9-4093-4722-8bc3-f99b6657fa34",
   "metadata": {
    "execution": {
     "iopub.execute_input": "2021-10-12T08:39:00.529230Z",
     "iopub.status.busy": "2021-10-12T08:39:00.528959Z",
     "iopub.status.idle": "2021-10-12T08:39:00.540538Z",
     "shell.execute_reply": "2021-10-12T08:39:00.539816Z",
     "shell.execute_reply.started": "2021-10-12T08:39:00.529196Z"
    },
    "tags": []
   },
   "outputs": [
    {
     "name": "stdout",
     "output_type": "stream",
     "text": [
      " * postgresql://gpadmin@192.168.133.128:32000/db\n",
      "275 rows affected.\n"
     ]
    }
   ],
   "source": [
    "timeseries= %sql SELECT * FROM temp_sensors_timeseries ORDER BY year,month;\n",
    "timeseries=timeseries.DataFrame()"
   ]
  },
  {
   "cell_type": "code",
   "execution_count": 14,
   "id": "f2506009-392a-46c2-931d-e96574d810a4",
   "metadata": {
    "execution": {
     "iopub.execute_input": "2021-10-12T08:39:00.542457Z",
     "iopub.status.busy": "2021-10-12T08:39:00.542226Z",
     "iopub.status.idle": "2021-10-12T08:39:00.555658Z",
     "shell.execute_reply": "2021-10-12T08:39:00.554919Z",
     "shell.execute_reply.started": "2021-10-12T08:39:00.542427Z"
    },
    "tags": []
   },
   "outputs": [
    {
     "data": {
      "text/html": [
       "<div>\n",
       "<style scoped>\n",
       "    .dataframe tbody tr th:only-of-type {\n",
       "        vertical-align: middle;\n",
       "    }\n",
       "\n",
       "    .dataframe tbody tr th {\n",
       "        vertical-align: top;\n",
       "    }\n",
       "\n",
       "    .dataframe thead th {\n",
       "        text-align: right;\n",
       "    }\n",
       "</style>\n",
       "<table border=\"1\" class=\"dataframe\">\n",
       "  <thead>\n",
       "    <tr style=\"text-align: right;\">\n",
       "      <th></th>\n",
       "      <th>year</th>\n",
       "      <th>month</th>\n",
       "      <th>average_month_temperature</th>\n",
       "      <th>average_pm25</th>\n",
       "      <th>date</th>\n",
       "    </tr>\n",
       "  </thead>\n",
       "  <tbody>\n",
       "    <tr>\n",
       "      <th>0</th>\n",
       "      <td>1997</td>\n",
       "      <td>3</td>\n",
       "      <td>31.585787</td>\n",
       "      <td>89.640800</td>\n",
       "      <td>1997-03-01</td>\n",
       "    </tr>\n",
       "    <tr>\n",
       "      <th>1</th>\n",
       "      <td>1997</td>\n",
       "      <td>4</td>\n",
       "      <td>31.533341</td>\n",
       "      <td>89.695407</td>\n",
       "      <td>1997-04-01</td>\n",
       "    </tr>\n",
       "    <tr>\n",
       "      <th>2</th>\n",
       "      <td>1997</td>\n",
       "      <td>5</td>\n",
       "      <td>31.531508</td>\n",
       "      <td>88.929078</td>\n",
       "      <td>1997-05-01</td>\n",
       "    </tr>\n",
       "    <tr>\n",
       "      <th>3</th>\n",
       "      <td>1997</td>\n",
       "      <td>6</td>\n",
       "      <td>31.508712</td>\n",
       "      <td>89.827653</td>\n",
       "      <td>1997-06-01</td>\n",
       "    </tr>\n",
       "    <tr>\n",
       "      <th>4</th>\n",
       "      <td>1997</td>\n",
       "      <td>7</td>\n",
       "      <td>31.496302</td>\n",
       "      <td>89.946083</td>\n",
       "      <td>1997-07-01</td>\n",
       "    </tr>\n",
       "  </tbody>\n",
       "</table>\n",
       "</div>"
      ],
      "text/plain": [
       "   year  month  average_month_temperature  average_pm25       date\n",
       "0  1997      3                  31.585787     89.640800 1997-03-01\n",
       "1  1997      4                  31.533341     89.695407 1997-04-01\n",
       "2  1997      5                  31.531508     88.929078 1997-05-01\n",
       "3  1997      6                  31.508712     89.827653 1997-06-01\n",
       "4  1997      7                  31.496302     89.946083 1997-07-01"
      ]
     },
     "execution_count": 14,
     "metadata": {},
     "output_type": "execute_result"
    }
   ],
   "source": [
    "timeseries['date']=pd.DatetimeIndex(timeseries['year'].map(\"{:04}\".format)+'-'+ timeseries['month'].map(\"{:02}\".format))\n",
    "timeseries.head()"
   ]
  },
  {
   "cell_type": "code",
   "execution_count": 15,
   "id": "77c8341d-e58a-44b4-a04b-16a1f3bbb6e3",
   "metadata": {
    "execution": {
     "iopub.execute_input": "2021-10-12T08:40:14.520034Z",
     "iopub.status.busy": "2021-10-12T08:40:14.519811Z",
     "iopub.status.idle": "2021-10-12T08:40:14.692971Z",
     "shell.execute_reply": "2021-10-12T08:40:14.692302Z",
     "shell.execute_reply.started": "2021-10-12T08:40:14.520005Z"
    },
    "presto": {
     "id": "7780ae59-cdf2-4762-a68a-4b373266253f"
    },
    "tags": []
   },
   "outputs": [
    {
     "data": {
      "application/vnd.jupyter.widget-view+json": {
       "model_id": "ee1af402754946af988e497685d39bd1",
       "version_major": 2,
       "version_minor": 0
      },
      "text/plain": [
       "IntSlider(value=10, continuous_update=False, description='timeframe', max=200, min=10)"
      ]
     },
     "metadata": {},
     "output_type": "display_data"
    },
    {
     "data": {
      "application/vnd.jupyter.widget-view+json": {
       "model_id": "ba6e4979db0f44e7b24814b7aa822c4f",
       "version_major": 2,
       "version_minor": 0
      },
      "image/png": "[encoded data removed]",
      "text/plain": [
       "Canvas(toolbar=Toolbar(toolitems=[('Home', 'Reset original view', 'home', 'home'), ('Back', 'Back to previous …"
      ]
     },
     "metadata": {},
     "output_type": "display_data"
    }
   ],
   "source": [
    "%matplotlib widget\n",
    "f, (ax1,ax2) = plt.subplots(2,1,figsize=(8,4))\n",
    "\n",
    "ax1.grid()\n",
    "ax2.grid()\n",
    "\n",
    "def update(change):\n",
    "    ax1.plot(timeseries['date'][:change.new],timeseries['average_pm25'][:change.new],color='blue')\n",
    "    ax2.plot(timeseries['date'][:change.new],timeseries['average_month_temperature'][:change.new],color='orange')\n",
    "    f.canvas.draw()\n",
    "\n",
    "slider = widgets.IntSlider(value=1,min=10,max=200,step=1,continuous_update=False,description='timeframe')\n",
    "\n",
    "ax1.yaxis.set_label_text(\"PM 2.5\")\n",
    "ax1.title.set_text('Average PM 2.5')\n",
    "\n",
    "ax2.title.set_text('Average Temperature')\n",
    "ax2.yaxis.set_label_text('Temperature')\n",
    "plt.tight_layout()\n",
    "\n",
    "slider.observe(update,'value')\n",
    "slider"
   ]
  },
  {
   "cell_type": "code",
   "execution_count": 16,
   "id": "f0227373-127a-4bf3-81a8-2ae66c239719",
   "metadata": {
    "execution": {
     "iopub.execute_input": "2021-10-12T08:40:39.288351Z",
     "iopub.status.busy": "2021-10-12T08:40:39.288115Z",
     "iopub.status.idle": "2021-10-12T08:40:39.517478Z",
     "shell.execute_reply": "2021-10-12T08:40:39.516961Z",
     "shell.execute_reply.started": "2021-10-12T08:40:39.288324Z"
    },
    "tags": []
   },
   "outputs": [
    {
     "data": {
      "application/vnd.jupyter.widget-view+json": {
       "model_id": "b4c2491824c8483384d61e027f350501",
       "version_major": 2,
       "version_minor": 0
      },
      "image/png": "[encoded data removed]",
      "text/plain": [
       "Canvas(toolbar=Toolbar(toolitems=[('Home', 'Reset original view', 'home', 'home'), ('Back', 'Back to previous …"
      ]
     },
     "metadata": {},
     "output_type": "display_data"
    }
   ],
   "source": [
    "timeframe = 20\n",
    "\n",
    "f, (ax1, ax2) = plt.subplots(2, 1,figsize=(11,6))\n",
    "ax1.plot(timeseries['date'][:timeframe],timeseries['average_pm25'][:timeframe])\n",
    "ax2.plot(timeseries['date'][:timeframe],timeseries['average_month_temperature'][:timeframe],color='orange')\n",
    "\n",
    "ax1.yaxis.set_label_text(\"PM 2.5\")\n",
    "ax1.title.set_text('Average PM 2.5')\n",
    "\n",
    "ax2.title.set_text('Average Temperature')\n",
    "ax2.yaxis.set_label_text('Temperature')\n",
    "plt.tight_layout()"
   ]
  },
  {
   "cell_type": "markdown",
   "id": "18a4d782-75a9-4cdf-8fa2-33b7c366753d",
   "metadata": {},
   "source": [
    "### Preprocess Data"
   ]
  },
  {
   "cell_type": "markdown",
   "id": "68a945a0-370a-446e-b6cc-47aead7ab4da",
   "metadata": {},
   "source": [
    "Encode Month\n",
    "\n",
    "```sql\n",
    "CREATE FUNCTION parse_month(time_stamp timestamp)\n",
    "  RETURNS char\n",
    "AS $$\n",
    "  from datetime import datetime\n",
    "  date_obj=datetime.strptime(time_stamp,\"%Y-%m-%d %H:%M:%S\")\n",
    "  return date_obj.strftime(\"%B\")\n",
    "$$ LANGUAGE plpythonu;\n",
    "```"
   ]
  },
  {
   "cell_type": "code",
   "execution_count": 17,
   "id": "3dff644a-ffc2-40ef-acc9-62043de55fa6",
   "metadata": {
    "execution": {
     "iopub.execute_input": "2021-10-12T08:40:43.674816Z",
     "iopub.status.busy": "2021-10-12T08:40:43.674577Z",
     "iopub.status.idle": "2021-10-12T08:40:43.785647Z",
     "shell.execute_reply": "2021-10-12T08:40:43.785115Z",
     "shell.execute_reply.started": "2021-10-12T08:40:43.674788Z"
    },
    "tags": []
   },
   "outputs": [
    {
     "name": "stdout",
     "output_type": "stream",
     "text": [
      " * postgresql://gpadmin@192.168.133.128:32000/db\n",
      "2 rows affected.\n"
     ]
    },
    {
     "data": {
      "text/html": [
       "<table>\n",
       "    <tr>\n",
       "        <th>timestamp</th>\n",
       "        <th>temperature</th>\n",
       "        <th>temperature_2</th>\n",
       "        <th>humidity</th>\n",
       "        <th>pm25</th>\n",
       "        <th>parse_month</th>\n",
       "    </tr>\n",
       "    <tr>\n",
       "        <td>2014-11-23 21:00:00</td>\n",
       "        <td>30.8058720843154</td>\n",
       "        <td>42.7842327160495</td>\n",
       "        <td>44.8122950799332</td>\n",
       "        <td>161.947176404423</td>\n",
       "        <td>November</td>\n",
       "    </tr>\n",
       "    <tr>\n",
       "        <td>2015-04-16 22:00:00</td>\n",
       "        <td>33.0799518195087</td>\n",
       "        <td>50.5450234515165</td>\n",
       "        <td>40.0489227220552</td>\n",
       "        <td>161.772615888742</td>\n",
       "        <td>April</td>\n",
       "    </tr>\n",
       "</table>"
      ],
      "text/plain": [
       "[(datetime.datetime(2014, 11, 23, 21, 0), 30.8058720843154, 42.7842327160495, 44.8122950799332, 161.947176404423, 'November'),\n",
       " (datetime.datetime(2015, 4, 16, 22, 0), 33.0799518195087, 50.5450234515165, 40.0489227220552, 161.772615888742, 'April')]"
      ]
     },
     "execution_count": 17,
     "metadata": {},
     "output_type": "execute_result"
    }
   ],
   "source": [
    "%%sql\n",
    "SELECT *,parse_month(timestamp) FROM sensors WHERE pm25 > 160;"
   ]
  },
  {
   "cell_type": "markdown",
   "id": "99ef43f9-8e4d-4fa6-a2d9-1fed601d8258",
   "metadata": {},
   "source": [
    "Create Month and rain Data"
   ]
  },
  {
   "cell_type": "code",
   "execution_count": 18,
   "id": "a7ca60fc-a48e-4248-93fc-d45ca18256fb",
   "metadata": {
    "execution": {
     "iopub.execute_input": "2021-10-12T08:40:44.628833Z",
     "iopub.status.busy": "2021-10-12T08:40:44.628593Z",
     "iopub.status.idle": "2021-10-12T08:40:56.689071Z",
     "shell.execute_reply": "2021-10-12T08:40:56.688274Z",
     "shell.execute_reply.started": "2021-10-12T08:40:44.628805Z"
    },
    "tags": []
   },
   "outputs": [
    {
     "name": "stdout",
     "output_type": "stream",
     "text": [
      " * postgresql://gpadmin@192.168.133.128:32000/db\n",
      "Done.\n",
      "200000 rows affected.\n",
      "10 rows affected.\n"
     ]
    },
    {
     "data": {
      "text/html": [
       "<table>\n",
       "    <tr>\n",
       "        <th>timestamp</th>\n",
       "        <th>temperature</th>\n",
       "        <th>temperature_2</th>\n",
       "        <th>humidity</th>\n",
       "        <th>pm25</th>\n",
       "        <th>month</th>\n",
       "        <th>rain</th>\n",
       "    </tr>\n",
       "    <tr>\n",
       "        <td>1997-03-22 02:00:00</td>\n",
       "        <td>30.4533424689492</td>\n",
       "        <td>51.2516337638043</td>\n",
       "        <td>54.3077105793251</td>\n",
       "        <td>81.7230080720579</td>\n",
       "        <td>March</td>\n",
       "        <td>0</td>\n",
       "    </tr>\n",
       "    <tr>\n",
       "        <td>1997-03-22 06:00:00</td>\n",
       "        <td>31.0589159812612</td>\n",
       "        <td>48.4483672090038</td>\n",
       "        <td>69.1224817874239</td>\n",
       "        <td>84.0017698370338</td>\n",
       "        <td>March</td>\n",
       "        <td>1</td>\n",
       "    </tr>\n",
       "    <tr>\n",
       "        <td>1997-03-22 09:00:00</td>\n",
       "        <td>30.610843351938</td>\n",
       "        <td>47.9068538130067</td>\n",
       "        <td>49.1196591878833</td>\n",
       "        <td>86.6867943800261</td>\n",
       "        <td>March</td>\n",
       "        <td>0</td>\n",
       "    </tr>\n",
       "    <tr>\n",
       "        <td>1997-03-22 16:00:00</td>\n",
       "        <td>31.7723650198281</td>\n",
       "        <td>51.4440185456342</td>\n",
       "        <td>31.7819252443621</td>\n",
       "        <td>87.6262312888401</td>\n",
       "        <td>March</td>\n",
       "        <td>0</td>\n",
       "    </tr>\n",
       "    <tr>\n",
       "        <td>1997-03-22 18:00:00</td>\n",
       "        <td>32.1746436430727</td>\n",
       "        <td>38.9322676378785</td>\n",
       "        <td>47.5760370578506</td>\n",
       "        <td>98.8517111680278</td>\n",
       "        <td>March</td>\n",
       "        <td>0</td>\n",
       "    </tr>\n",
       "    <tr>\n",
       "        <td>1997-03-23 15:00:00</td>\n",
       "        <td>31.1740583596868</td>\n",
       "        <td>48.1492161466837</td>\n",
       "        <td>27.7011496088919</td>\n",
       "        <td>85.1860621068209</td>\n",
       "        <td>March</td>\n",
       "        <td>0</td>\n",
       "    </tr>\n",
       "    <tr>\n",
       "        <td>1997-03-24 06:00:00</td>\n",
       "        <td>31.8857807222548</td>\n",
       "        <td>40.9424335381066</td>\n",
       "        <td>43.0283526868108</td>\n",
       "        <td>94.5809235952502</td>\n",
       "        <td>March</td>\n",
       "        <td>0</td>\n",
       "    </tr>\n",
       "    <tr>\n",
       "        <td>1997-03-24 18:00:00</td>\n",
       "        <td>30.0944274235999</td>\n",
       "        <td>45.3679702823693</td>\n",
       "        <td>7.12721825870101</td>\n",
       "        <td>93.5019659943016</td>\n",
       "        <td>March</td>\n",
       "        <td>0</td>\n",
       "    </tr>\n",
       "    <tr>\n",
       "        <td>1997-03-25 07:00:00</td>\n",
       "        <td>31.7067156114622</td>\n",
       "        <td>49.4560849057285</td>\n",
       "        <td>22.1327113887204</td>\n",
       "        <td>76.6808380403661</td>\n",
       "        <td>March</td>\n",
       "        <td>0</td>\n",
       "    </tr>\n",
       "    <tr>\n",
       "        <td>1997-03-25 11:00:00</td>\n",
       "        <td>30.3790320922482</td>\n",
       "        <td>43.4645502623148</td>\n",
       "        <td>40.1004912837385</td>\n",
       "        <td>87.7374230771197</td>\n",
       "        <td>March</td>\n",
       "        <td>0</td>\n",
       "    </tr>\n",
       "</table>"
      ],
      "text/plain": [
       "[(datetime.datetime(1997, 3, 22, 2, 0), 30.4533424689492, 51.2516337638043, 54.3077105793251, 81.7230080720579, 'March', 0),\n",
       " (datetime.datetime(1997, 3, 22, 6, 0), 31.0589159812612, 48.4483672090038, 69.1224817874239, 84.0017698370338, 'March', 1),\n",
       " (datetime.datetime(1997, 3, 22, 9, 0), 30.610843351938, 47.9068538130067, 49.1196591878833, 86.6867943800261, 'March', 0),\n",
       " (datetime.datetime(1997, 3, 22, 16, 0), 31.7723650198281, 51.4440185456342, 31.7819252443621, 87.6262312888401, 'March', 0),\n",
       " (datetime.datetime(1997, 3, 22, 18, 0), 32.1746436430727, 38.9322676378785, 47.5760370578506, 98.8517111680278, 'March', 0),\n",
       " (datetime.datetime(1997, 3, 23, 15, 0), 31.1740583596868, 48.1492161466837, 27.7011496088919, 85.1860621068209, 'March', 0),\n",
       " (datetime.datetime(1997, 3, 24, 6, 0), 31.8857807222548, 40.9424335381066, 43.0283526868108, 94.5809235952502, 'March', 0),\n",
       " (datetime.datetime(1997, 3, 24, 18, 0), 30.0944274235999, 45.3679702823693, 7.12721825870101, 93.5019659943016, 'March', 0),\n",
       " (datetime.datetime(1997, 3, 25, 7, 0), 31.7067156114622, 49.4560849057285, 22.1327113887204, 76.6808380403661, 'March', 0),\n",
       " (datetime.datetime(1997, 3, 25, 11, 0), 30.3790320922482, 43.4645502623148, 40.1004912837385, 87.7374230771197, 'March', 0)]"
      ]
     },
     "execution_count": 18,
     "metadata": {},
     "output_type": "execute_result"
    }
   ],
   "source": [
    "%%sql\n",
    "DROP TABLE IF EXISTS sensors_pre;\n",
    "CREATE TABLE sensors_pre\n",
    "AS \n",
    "SELECT\n",
    "    timestamp,\n",
    "    temperature,\n",
    "    temperature_2,\n",
    "    humidity,\n",
    "    pm25,\n",
    "    parse_month(timestamp) AS month,           --- Month data\n",
    "    CASE WHEN\n",
    "            (humidity )>= 60\n",
    "        THEN 1\n",
    "        ELSE 0\n",
    "    END as rain\n",
    "FROM sensors;\n",
    "\n",
    "SELECT * FROM sensors_pre LIMIT 10; "
   ]
  },
  {
   "cell_type": "code",
   "execution_count": 19,
   "id": "22cf1b72-22a2-4e30-a810-882c41eec482",
   "metadata": {
    "execution": {
     "iopub.execute_input": "2021-10-12T08:40:56.690630Z",
     "iopub.status.busy": "2021-10-12T08:40:56.690358Z",
     "iopub.status.idle": "2021-10-12T08:41:05.595655Z",
     "shell.execute_reply": "2021-10-12T08:41:05.594818Z",
     "shell.execute_reply.started": "2021-10-12T08:40:56.690602Z"
    },
    "tags": []
   },
   "outputs": [
    {
     "name": "stdout",
     "output_type": "stream",
     "text": [
      " * postgresql://gpadmin@192.168.133.128:32000/db\n",
      "12 rows affected.\n"
     ]
    },
    {
     "data": {
      "text/html": [
       "<table>\n",
       "    <tr>\n",
       "        <th>month</th>\n",
       "        <th>count</th>\n",
       "    </tr>\n",
       "    <tr>\n",
       "        <td>December</td>\n",
       "        <td>17112</td>\n",
       "    </tr>\n",
       "    <tr>\n",
       "        <td>May</td>\n",
       "        <td>17112</td>\n",
       "    </tr>\n",
       "    <tr>\n",
       "        <td>August</td>\n",
       "        <td>17112</td>\n",
       "    </tr>\n",
       "    <tr>\n",
       "        <td>July</td>\n",
       "        <td>17112</td>\n",
       "    </tr>\n",
       "    <tr>\n",
       "        <td>October</td>\n",
       "        <td>17112</td>\n",
       "    </tr>\n",
       "    <tr>\n",
       "        <td>January</td>\n",
       "        <td>16688</td>\n",
       "    </tr>\n",
       "    <tr>\n",
       "        <td>March</td>\n",
       "        <td>16608</td>\n",
       "    </tr>\n",
       "    <tr>\n",
       "        <td>November</td>\n",
       "        <td>16560</td>\n",
       "    </tr>\n",
       "    <tr>\n",
       "        <td>June</td>\n",
       "        <td>16560</td>\n",
       "    </tr>\n",
       "    <tr>\n",
       "        <td>April</td>\n",
       "        <td>16560</td>\n",
       "    </tr>\n",
       "    <tr>\n",
       "        <td>September</td>\n",
       "        <td>16560</td>\n",
       "    </tr>\n",
       "    <tr>\n",
       "        <td>February</td>\n",
       "        <td>14904</td>\n",
       "    </tr>\n",
       "</table>"
      ],
      "text/plain": [
       "[('December', 17112),\n",
       " ('May', 17112),\n",
       " ('August', 17112),\n",
       " ('July', 17112),\n",
       " ('October', 17112),\n",
       " ('January', 16688),\n",
       " ('March', 16608),\n",
       " ('November', 16560),\n",
       " ('June', 16560),\n",
       " ('April', 16560),\n",
       " ('September', 16560),\n",
       " ('February', 14904)]"
      ]
     },
     "execution_count": 19,
     "metadata": {},
     "output_type": "execute_result"
    }
   ],
   "source": [
    "%%sql\n",
    "SELECT parse_month(timestamp) as month ,COUNT(*) as count  \n",
    "    FROM sensors  \n",
    "GROUP BY month ORDER BY count DESC;"
   ]
  },
  {
   "cell_type": "markdown",
   "id": "48ede8be-903e-4373-a544-ef6b8ada8adb",
   "metadata": {},
   "source": [
    "### Encode categorical values"
   ]
  },
  {
   "cell_type": "code",
   "execution_count": 20,
   "id": "58956098-2c3d-4c0a-9961-fd80c17adb58",
   "metadata": {
    "execution": {
     "iopub.execute_input": "2021-10-12T08:41:05.598709Z",
     "iopub.status.busy": "2021-10-12T08:41:05.598474Z",
     "iopub.status.idle": "2021-10-12T08:41:11.488648Z",
     "shell.execute_reply": "2021-10-12T08:41:11.487962Z",
     "shell.execute_reply.started": "2021-10-12T08:41:05.598682Z"
    },
    "tags": []
   },
   "outputs": [
    {
     "name": "stdout",
     "output_type": "stream",
     "text": [
      " * postgresql://gpadmin@192.168.133.128:32000/db\n",
      "Done.\n",
      "1 rows affected.\n",
      "5 rows affected.\n"
     ]
    },
    {
     "data": {
      "text/html": [
       "<table>\n",
       "    <tr>\n",
       "        <th>timestamp</th>\n",
       "        <th>temperature</th>\n",
       "        <th>temperature_2</th>\n",
       "        <th>humidity</th>\n",
       "        <th>pm25</th>\n",
       "        <th>rain</th>\n",
       "        <th>month_April</th>\n",
       "        <th>month_August</th>\n",
       "        <th>month_December</th>\n",
       "        <th>month_February</th>\n",
       "        <th>month_January</th>\n",
       "        <th>month_July</th>\n",
       "        <th>month_June</th>\n",
       "        <th>month_March</th>\n",
       "        <th>month_May</th>\n",
       "        <th>month_November</th>\n",
       "        <th>month_October</th>\n",
       "        <th>month_September</th>\n",
       "    </tr>\n",
       "    <tr>\n",
       "        <td>1997-03-22 18:00:00</td>\n",
       "        <td>32.1746436430727</td>\n",
       "        <td>38.9322676378785</td>\n",
       "        <td>47.5760370578506</td>\n",
       "        <td>98.8517111680278</td>\n",
       "        <td>0</td>\n",
       "        <td>0</td>\n",
       "        <td>0</td>\n",
       "        <td>0</td>\n",
       "        <td>0</td>\n",
       "        <td>0</td>\n",
       "        <td>0</td>\n",
       "        <td>0</td>\n",
       "        <td>1</td>\n",
       "        <td>0</td>\n",
       "        <td>0</td>\n",
       "        <td>0</td>\n",
       "        <td>0</td>\n",
       "    </tr>\n",
       "    <tr>\n",
       "        <td>1997-03-23 15:00:00</td>\n",
       "        <td>31.1740583596868</td>\n",
       "        <td>48.1492161466837</td>\n",
       "        <td>27.7011496088919</td>\n",
       "        <td>85.1860621068209</td>\n",
       "        <td>0</td>\n",
       "        <td>0</td>\n",
       "        <td>0</td>\n",
       "        <td>0</td>\n",
       "        <td>0</td>\n",
       "        <td>0</td>\n",
       "        <td>0</td>\n",
       "        <td>0</td>\n",
       "        <td>1</td>\n",
       "        <td>0</td>\n",
       "        <td>0</td>\n",
       "        <td>0</td>\n",
       "        <td>0</td>\n",
       "    </tr>\n",
       "    <tr>\n",
       "        <td>1997-03-24 06:00:00</td>\n",
       "        <td>31.8857807222548</td>\n",
       "        <td>40.9424335381066</td>\n",
       "        <td>43.0283526868108</td>\n",
       "        <td>94.5809235952502</td>\n",
       "        <td>0</td>\n",
       "        <td>0</td>\n",
       "        <td>0</td>\n",
       "        <td>0</td>\n",
       "        <td>0</td>\n",
       "        <td>0</td>\n",
       "        <td>0</td>\n",
       "        <td>0</td>\n",
       "        <td>1</td>\n",
       "        <td>0</td>\n",
       "        <td>0</td>\n",
       "        <td>0</td>\n",
       "        <td>0</td>\n",
       "    </tr>\n",
       "    <tr>\n",
       "        <td>1997-03-24 18:00:00</td>\n",
       "        <td>30.0944274235999</td>\n",
       "        <td>45.3679702823693</td>\n",
       "        <td>7.12721825870101</td>\n",
       "        <td>93.5019659943016</td>\n",
       "        <td>0</td>\n",
       "        <td>0</td>\n",
       "        <td>0</td>\n",
       "        <td>0</td>\n",
       "        <td>0</td>\n",
       "        <td>0</td>\n",
       "        <td>0</td>\n",
       "        <td>0</td>\n",
       "        <td>1</td>\n",
       "        <td>0</td>\n",
       "        <td>0</td>\n",
       "        <td>0</td>\n",
       "        <td>0</td>\n",
       "    </tr>\n",
       "    <tr>\n",
       "        <td>1997-03-25 07:00:00</td>\n",
       "        <td>31.7067156114622</td>\n",
       "        <td>49.4560849057285</td>\n",
       "        <td>22.1327113887204</td>\n",
       "        <td>76.6808380403661</td>\n",
       "        <td>0</td>\n",
       "        <td>0</td>\n",
       "        <td>0</td>\n",
       "        <td>0</td>\n",
       "        <td>0</td>\n",
       "        <td>0</td>\n",
       "        <td>0</td>\n",
       "        <td>0</td>\n",
       "        <td>1</td>\n",
       "        <td>0</td>\n",
       "        <td>0</td>\n",
       "        <td>0</td>\n",
       "        <td>0</td>\n",
       "    </tr>\n",
       "</table>"
      ],
      "text/plain": [
       "[(datetime.datetime(1997, 3, 22, 18, 0), 32.1746436430727, 38.9322676378785, 47.5760370578506, 98.8517111680278, 0, 0, 0, 0, 0, 0, 0, 0, 1, 0, 0, 0, 0),\n",
       " (datetime.datetime(1997, 3, 23, 15, 0), 31.1740583596868, 48.1492161466837, 27.7011496088919, 85.1860621068209, 0, 0, 0, 0, 0, 0, 0, 0, 1, 0, 0, 0, 0),\n",
       " (datetime.datetime(1997, 3, 24, 6, 0), 31.8857807222548, 40.9424335381066, 43.0283526868108, 94.5809235952502, 0, 0, 0, 0, 0, 0, 0, 0, 1, 0, 0, 0, 0),\n",
       " (datetime.datetime(1997, 3, 24, 18, 0), 30.0944274235999, 45.3679702823693, 7.12721825870101, 93.5019659943016, 0, 0, 0, 0, 0, 0, 0, 0, 1, 0, 0, 0, 0),\n",
       " (datetime.datetime(1997, 3, 25, 7, 0), 31.7067156114622, 49.4560849057285, 22.1327113887204, 76.6808380403661, 0, 0, 0, 0, 0, 0, 0, 0, 1, 0, 0, 0, 0)]"
      ]
     },
     "execution_count": 20,
     "metadata": {},
     "output_type": "execute_result"
    }
   ],
   "source": [
    "%%sql\n",
    "DROP TABLE IF EXISTS sensors_encoded;\n",
    "\n",
    "\n",
    "SELECT\n",
    "madlib.encode_categorical_variables (\n",
    "    'sensors_pre',\n",
    "    'sensors_encoded',\n",
    "    'month',\n",
    "    NULL,  --categorical_cols_to_exclude     -- Optional\n",
    "    NULL,  --row_id,                         -- Optional\n",
    "    NULL,  --top,                            -- Optional\n",
    "    NULL,  --value_to_drop,                  -- Optional\n",
    "    NULL,  --encode_null,                    -- Optional\n",
    "    NULL,  --output_type,                    -- Optional\n",
    "    NULL,  --output_dictionary,              -- Optional\n",
    "    NULL   --distributed_by                  -- Optional\n",
    ");\n",
    "\n",
    "\n",
    "SELECT * FROM sensors_encoded LIMIT 5;"
   ]
  },
  {
   "cell_type": "markdown",
   "id": "7bd5abdf-738a-4dbc-9b4e-9287f979d6e3",
   "metadata": {},
   "source": [
    "### Correlation"
   ]
  },
  {
   "cell_type": "code",
   "execution_count": 21,
   "id": "8c52a0c0-1f31-41f2-91eb-4ebab8590a06",
   "metadata": {
    "execution": {
     "iopub.execute_input": "2021-10-12T08:41:11.490398Z",
     "iopub.status.busy": "2021-10-12T08:41:11.490187Z",
     "iopub.status.idle": "2021-10-12T08:41:16.195644Z",
     "shell.execute_reply": "2021-10-12T08:41:16.194988Z",
     "shell.execute_reply.started": "2021-10-12T08:41:11.490371Z"
    },
    "tags": []
   },
   "outputs": [
    {
     "name": "stdout",
     "output_type": "stream",
     "text": [
      " * postgresql://gpadmin@192.168.133.128:32000/db\n",
      "Done.\n",
      "Done.\n",
      "1 rows affected.\n"
     ]
    },
    {
     "data": {
      "text/html": [
       "<table>\n",
       "    <tr>\n",
       "        <th>correlation</th>\n",
       "    </tr>\n",
       "    <tr>\n",
       "        <td>Summary for &#x27;Correlation&#x27; function<br>Output table = sensors_correlations<br>Producing correlation for columns: temperature,temperature_2,humidity,pm25,rain<br>Total run time = (&#x27;sensors_correlations&#x27;, 5, 4.308641195297241)</td>\n",
       "    </tr>\n",
       "</table>"
      ],
      "text/plain": [
       "[(\"Summary for 'Correlation' function\\nOutput table = sensors_correlations\\nProducing correlation for columns: temperature,temperature_2,humidity,pm25,rain\\nTotal run time = ('sensors_correlations', 5, 4.308641195297241)\",)]"
      ]
     },
     "execution_count": 21,
     "metadata": {},
     "output_type": "execute_result"
    }
   ],
   "source": [
    "%%sql\n",
    "DROP TABLE IF EXISTS sensors_correlations;\n",
    "DROP TABLE IF EXISTS sensors_correlations_summary;\n",
    "\n",
    "SELECT \n",
    "madlib.correlation(\n",
    "    'sensors_encoded', -- source_table\n",
    "    'sensors_correlations',  -- target_table\n",
    "    'temperature,temperature_2,humidity,pm25,rain',\n",
    "    TRUE -- verbose\n",
    ")"
   ]
  },
  {
   "cell_type": "code",
   "execution_count": 22,
   "id": "c8a78b79-a4e0-4e66-a3c0-51b2ae7d6f7d",
   "metadata": {
    "execution": {
     "iopub.execute_input": "2021-10-12T08:41:16.197154Z",
     "iopub.status.busy": "2021-10-12T08:41:16.196893Z",
     "iopub.status.idle": "2021-10-12T08:41:16.279057Z",
     "shell.execute_reply": "2021-10-12T08:41:16.278362Z",
     "shell.execute_reply.started": "2021-10-12T08:41:16.197127Z"
    },
    "tags": []
   },
   "outputs": [
    {
     "name": "stdout",
     "output_type": "stream",
     "text": [
      " * postgresql://gpadmin@192.168.133.128:32000/db\n",
      "5 rows affected.\n",
      "temperature,temperature_2,humidity,pm25,rain\n"
     ]
    }
   ],
   "source": [
    "Index = %sql SELECT variable FROM sensors_correlations ORDER BY column_position;\n",
    "Index = Index.DataFrame();\n",
    "\n",
    "columns =  ','.join(','.join('%s' %x for x in y) for y in Index.values)\n",
    "print(columns)"
   ]
  },
  {
   "cell_type": "code",
   "execution_count": 23,
   "id": "b32a1a33-56d2-4936-b6f8-5e102609570e",
   "metadata": {
    "execution": {
     "iopub.execute_input": "2021-10-12T08:41:16.280337Z",
     "iopub.status.busy": "2021-10-12T08:41:16.280025Z",
     "iopub.status.idle": "2021-10-12T08:41:16.290980Z",
     "shell.execute_reply": "2021-10-12T08:41:16.290248Z",
     "shell.execute_reply.started": "2021-10-12T08:41:16.280305Z"
    },
    "tags": []
   },
   "outputs": [
    {
     "name": "stdout",
     "output_type": "stream",
     "text": [
      " * postgresql://gpadmin@192.168.133.128:32000/db\n",
      "5 rows affected.\n"
     ]
    }
   ],
   "source": [
    "corr = %sql select variable,{columns} from sensors_correlations ORDER BY column_position;\n",
    "corr = corr.DataFrame()"
   ]
  },
  {
   "cell_type": "code",
   "execution_count": 24,
   "id": "f41fdac5-84c3-4334-af94-bea626fe8f9c",
   "metadata": {
    "execution": {
     "iopub.execute_input": "2021-10-12T08:41:53.638872Z",
     "iopub.status.busy": "2021-10-12T08:41:53.638632Z",
     "iopub.status.idle": "2021-10-12T08:41:53.894225Z",
     "shell.execute_reply": "2021-10-12T08:41:53.893703Z",
     "shell.execute_reply.started": "2021-10-12T08:41:53.638843Z"
    },
    "presto": {
     "id": "7936d6b3-3419-4a8d-bb74-84238e516694"
    },
    "tags": []
   },
   "outputs": [
    {
     "data": {
      "image/png": "[encoded data removed]",
      "text/plain": [
       "<Figure size 432x288 with 2 Axes>"
      ]
     },
     "metadata": {
      "needs_background": "light"
     },
     "output_type": "display_data"
    }
   ],
   "source": [
    "%matplotlib inline\n",
    "corr_df=corr.set_index('variable')\n",
    "plt.title('Sensors Value Correlation')\n",
    "plt.tight_layout()\n",
    "sns.heatmap(corr_df,annot=True);"
   ]
  },
  {
   "cell_type": "markdown",
   "id": "cb2758d4-4918-45cc-a964-d70482665e55",
   "metadata": {},
   "source": [
    "### Split Data for training and testing"
   ]
  },
  {
   "cell_type": "code",
   "execution_count": 25,
   "id": "cf84fb1c-0f22-43ea-899a-030d14067570",
   "metadata": {
    "execution": {
     "iopub.execute_input": "2021-10-12T08:42:04.839477Z",
     "iopub.status.busy": "2021-10-12T08:42:04.839239Z",
     "iopub.status.idle": "2021-10-12T08:42:17.193412Z",
     "shell.execute_reply": "2021-10-12T08:42:17.192767Z",
     "shell.execute_reply.started": "2021-10-12T08:42:04.839448Z"
    },
    "tags": []
   },
   "outputs": [
    {
     "name": "stdout",
     "output_type": "stream",
     "text": [
      " * postgresql://gpadmin@192.168.133.128:32000/db\n",
      "Done.\n",
      "Done.\n",
      "Done.\n",
      "1 rows affected.\n",
      "1 rows affected.\n"
     ]
    },
    {
     "data": {
      "text/html": [
       "<table>\n",
       "    <tr>\n",
       "        <th># In training set</th>\n",
       "    </tr>\n",
       "    <tr>\n",
       "        <td>140000</td>\n",
       "    </tr>\n",
       "</table>"
      ],
      "text/plain": [
       "[(140000,)]"
      ]
     },
     "execution_count": 25,
     "metadata": {},
     "output_type": "execute_result"
    }
   ],
   "source": [
    "%%sql\n",
    "DROP TABLE IF EXISTS sensors_split CASCADE;\n",
    "DROP TABLE IF EXISTS sensors_split_train CASCADE;\n",
    "DROP TABLE IF EXISTS sensors_split_test CASCADE;\n",
    "\n",
    "SELECT madlib.train_test_split(\n",
    "    'sensors_encoded', -- source_table,\n",
    "    'sensors_split', -- output_table,\n",
    "    0.7, -- train_proportion,\n",
    "    NULL, -- test_proportion,\n",
    "    NULL, -- grouping_cols,\n",
    "    'temperature,temperature_2,rain,humidity,pm25,\n",
    "    \"month_January\",\"month_February\",\"month_March\",\n",
    "    \"month_April\",\"month_May\",\"month_June\",\"month_July\",\n",
    "    \"month_August\",\"month_September\",\"month_October\",\n",
    "    \"month_November\",\"month_December\"', -- target_cols\n",
    "    FALSE, -- with_replacement,\n",
    "    TRUE -- separate_output_tables\n",
    ");\n",
    "\n",
    "SELECT COUNT(*) as \"# In training set\" FROM sensors_split_train;"
   ]
  },
  {
   "cell_type": "code",
   "execution_count": 26,
   "id": "814ef9bd-7352-4c4c-9323-5de28c4c6108",
   "metadata": {
    "execution": {
     "iopub.execute_input": "2021-10-12T08:42:17.194747Z",
     "iopub.status.busy": "2021-10-12T08:42:17.194506Z",
     "iopub.status.idle": "2021-10-12T08:42:17.203520Z",
     "shell.execute_reply": "2021-10-12T08:42:17.203039Z",
     "shell.execute_reply.started": "2021-10-12T08:42:17.194719Z"
    },
    "tags": []
   },
   "outputs": [
    {
     "name": "stdout",
     "output_type": "stream",
     "text": [
      " * postgresql://gpadmin@192.168.133.128:32000/db\n",
      "5 rows affected.\n"
     ]
    },
    {
     "data": {
      "text/html": [
       "<table>\n",
       "    <tr>\n",
       "        <th>temperature</th>\n",
       "        <th>temperature_2</th>\n",
       "        <th>rain</th>\n",
       "        <th>humidity</th>\n",
       "        <th>pm25</th>\n",
       "        <th>month_January</th>\n",
       "        <th>month_February</th>\n",
       "        <th>month_March</th>\n",
       "        <th>month_April</th>\n",
       "        <th>month_May</th>\n",
       "        <th>month_June</th>\n",
       "        <th>month_July</th>\n",
       "        <th>month_August</th>\n",
       "        <th>month_September</th>\n",
       "        <th>month_October</th>\n",
       "        <th>month_November</th>\n",
       "        <th>month_December</th>\n",
       "    </tr>\n",
       "    <tr>\n",
       "        <td>30.0020976922364</td>\n",
       "        <td>46.2490759066801</td>\n",
       "        <td>0</td>\n",
       "        <td>49.2857299756857</td>\n",
       "        <td>66.884884616028</td>\n",
       "        <td>0</td>\n",
       "        <td>0</td>\n",
       "        <td>0</td>\n",
       "        <td>1</td>\n",
       "        <td>0</td>\n",
       "        <td>0</td>\n",
       "        <td>0</td>\n",
       "        <td>0</td>\n",
       "        <td>0</td>\n",
       "        <td>0</td>\n",
       "        <td>0</td>\n",
       "        <td>0</td>\n",
       "    </tr>\n",
       "    <tr>\n",
       "        <td>30.0121881215459</td>\n",
       "        <td>43.9185448838402</td>\n",
       "        <td>1</td>\n",
       "        <td>61.3855425905919</td>\n",
       "        <td>110.631678818726</td>\n",
       "        <td>0</td>\n",
       "        <td>0</td>\n",
       "        <td>0</td>\n",
       "        <td>0</td>\n",
       "        <td>0</td>\n",
       "        <td>1</td>\n",
       "        <td>0</td>\n",
       "        <td>0</td>\n",
       "        <td>0</td>\n",
       "        <td>0</td>\n",
       "        <td>0</td>\n",
       "        <td>0</td>\n",
       "    </tr>\n",
       "    <tr>\n",
       "        <td>30.0232051453701</td>\n",
       "        <td>43.9816597839706</td>\n",
       "        <td>0</td>\n",
       "        <td>40.0229029416251</td>\n",
       "        <td>79.4034362899984</td>\n",
       "        <td>0</td>\n",
       "        <td>0</td>\n",
       "        <td>0</td>\n",
       "        <td>0</td>\n",
       "        <td>0</td>\n",
       "        <td>0</td>\n",
       "        <td>0</td>\n",
       "        <td>0</td>\n",
       "        <td>1</td>\n",
       "        <td>0</td>\n",
       "        <td>0</td>\n",
       "        <td>0</td>\n",
       "    </tr>\n",
       "    <tr>\n",
       "        <td>30.0333834802469</td>\n",
       "        <td>45.1599830306848</td>\n",
       "        <td>0</td>\n",
       "        <td>55.236497558661</td>\n",
       "        <td>69.5186903575826</td>\n",
       "        <td>0</td>\n",
       "        <td>0</td>\n",
       "        <td>1</td>\n",
       "        <td>0</td>\n",
       "        <td>0</td>\n",
       "        <td>0</td>\n",
       "        <td>0</td>\n",
       "        <td>0</td>\n",
       "        <td>0</td>\n",
       "        <td>0</td>\n",
       "        <td>0</td>\n",
       "        <td>0</td>\n",
       "    </tr>\n",
       "    <tr>\n",
       "        <td>30.0444010748808</td>\n",
       "        <td>46.7088725241075</td>\n",
       "        <td>0</td>\n",
       "        <td>55.8598711803509</td>\n",
       "        <td>121.988238189472</td>\n",
       "        <td>0</td>\n",
       "        <td>0</td>\n",
       "        <td>0</td>\n",
       "        <td>1</td>\n",
       "        <td>0</td>\n",
       "        <td>0</td>\n",
       "        <td>0</td>\n",
       "        <td>0</td>\n",
       "        <td>0</td>\n",
       "        <td>0</td>\n",
       "        <td>0</td>\n",
       "        <td>0</td>\n",
       "    </tr>\n",
       "</table>"
      ],
      "text/plain": [
       "[(30.0020976922364, 46.2490759066801, 0, 49.2857299756857, 66.884884616028, 0, 0, 0, 1, 0, 0, 0, 0, 0, 0, 0, 0),\n",
       " (30.0121881215459, 43.9185448838402, 1, 61.3855425905919, 110.631678818726, 0, 0, 0, 0, 0, 1, 0, 0, 0, 0, 0, 0),\n",
       " (30.0232051453701, 43.9816597839706, 0, 40.0229029416251, 79.4034362899984, 0, 0, 0, 0, 0, 0, 0, 0, 1, 0, 0, 0),\n",
       " (30.0333834802469, 45.1599830306848, 0, 55.236497558661, 69.5186903575826, 0, 0, 1, 0, 0, 0, 0, 0, 0, 0, 0, 0),\n",
       " (30.0444010748808, 46.7088725241075, 0, 55.8598711803509, 121.988238189472, 0, 0, 0, 1, 0, 0, 0, 0, 0, 0, 0, 0)]"
      ]
     },
     "execution_count": 26,
     "metadata": {},
     "output_type": "execute_result"
    }
   ],
   "source": [
    "%%sql\n",
    "SELECT * FROM sensors_split_train LIMIT 5;"
   ]
  },
  {
   "cell_type": "code",
   "execution_count": 27,
   "id": "5182b728-3fce-45d6-8b20-44e5626422be",
   "metadata": {
    "execution": {
     "iopub.execute_input": "2021-10-12T08:42:17.205215Z",
     "iopub.status.busy": "2021-10-12T08:42:17.205036Z",
     "iopub.status.idle": "2021-10-12T08:42:17.282448Z",
     "shell.execute_reply": "2021-10-12T08:42:17.281628Z",
     "shell.execute_reply.started": "2021-10-12T08:42:17.205192Z"
    },
    "tags": []
   },
   "outputs": [
    {
     "name": "stdout",
     "output_type": "stream",
     "text": [
      " * postgresql://gpadmin@192.168.133.128:32000/db\n",
      "1 rows affected.\n",
      " * postgresql://gpadmin@192.168.133.128:32000/db\n",
      "1 rows affected.\n",
      "\n",
      "Total rain in training set 35516\n",
      "Total rain in testing set 15099\n"
     ]
    }
   ],
   "source": [
    "train_rain = %sql SELECT COUNT(*) FROM sensors_split_train WHERE rain = 1;\n",
    "test_rain = %sql SELECT COUNT(*) FROM sensors_split_test WHERE rain = 1;\n",
    "\n",
    "print(\"\\nTotal rain in training set {}\".format(train_rain[0][0]))\n",
    "print(\"Total rain in testing set {}\".format(test_rain[0][0]))"
   ]
  },
  {
   "cell_type": "code",
   "execution_count": 28,
   "id": "47cef1f8-6dda-45a5-aa1e-916744a8075e",
   "metadata": {
    "execution": {
     "iopub.execute_input": "2021-10-12T08:42:17.284123Z",
     "iopub.status.busy": "2021-10-12T08:42:17.283805Z",
     "iopub.status.idle": "2021-10-12T08:42:17.454268Z",
     "shell.execute_reply": "2021-10-12T08:42:17.453717Z",
     "shell.execute_reply.started": "2021-10-12T08:42:17.284090Z"
    },
    "tags": []
   },
   "outputs": [
    {
     "data": {
      "image/png": "[encoded data removed]",
      "text/plain": [
       "<Figure size 792x432 with 2 Axes>"
      ]
     },
     "metadata": {},
     "output_type": "display_data"
    }
   ],
   "source": [
    "train_data=[train_rain[0][0],int((200000*0.7)-train_rain[0][0])]\n",
    "test_data=[test_rain[0][0],int((200000*0.3)-test_rain[0][0])]\n",
    "\n",
    "labels = ['rain','not_rain']\n",
    "\n",
    "f, (ax1, ax2) = plt.subplots(1, 2,figsize=(11,6))\n",
    "f.patch.set_facecolor('white')\n",
    "ax1.title.set_text('Training Set')\n",
    "ax2.title.set_text('Testing Set')\n",
    "f.suptitle(\"Rain Train/Test Distribution\",fontsize=15)\n",
    "ax1.pie(train_data,labels=labels,autopct=\"%.1f%%\",radius=1.2,textprops={'fontsize': 15,},explode = [0.1, 0],startangle = -30);\n",
    "ax2.pie(test_data,labels=labels,autopct=\"%.1f%%\",radius=1.2,textprops={'fontsize': 15},explode = [0.1, 0], startangle = -30);\n",
    "plt.tight_layout()"
   ]
  },
  {
   "cell_type": "markdown",
   "id": "0b672e9d-0cf5-4e27-9fb9-c1a8371f2b0a",
   "metadata": {},
   "source": [
    "## Logistic Regresion ( Classification model )"
   ]
  },
  {
   "cell_type": "code",
   "execution_count": 5,
   "id": "a6312323-db88-4451-b4a4-d4554fecfd54",
   "metadata": {
    "execution": {
     "iopub.execute_input": "2021-10-12T08:44:30.665031Z",
     "iopub.status.busy": "2021-10-12T08:44:30.664792Z",
     "iopub.status.idle": "2021-10-12T08:44:48.387816Z",
     "shell.execute_reply": "2021-10-12T08:44:48.387301Z",
     "shell.execute_reply.started": "2021-10-12T08:44:30.665003Z"
    },
    "tags": []
   },
   "outputs": [
    {
     "name": "stdout",
     "output_type": "stream",
     "text": [
      " * postgresql://gpadmin@192.168.133.128:32000/db\n",
      "Done.\n",
      "Done.\n",
      "1 rows affected.\n",
      "1 rows affected.\n"
     ]
    },
    {
     "data": {
      "text/html": [
       "<table>\n",
       "    <tr>\n",
       "        <th>method</th>\n",
       "        <th>source_table</th>\n",
       "        <th>out_table</th>\n",
       "        <th>dependent_varname</th>\n",
       "        <th>independent_varname</th>\n",
       "        <th>optimizer_params</th>\n",
       "        <th>num_all_groups</th>\n",
       "        <th>num_failed_groups</th>\n",
       "        <th>num_rows_processed</th>\n",
       "        <th>num_missing_rows_skipped</th>\n",
       "        <th>grouping_col</th>\n",
       "    </tr>\n",
       "    <tr>\n",
       "        <td>logregr</td>\n",
       "        <td>sensors_split_train</td>\n",
       "        <td>sensors_logreg_model</td>\n",
       "        <td>rain</td>\n",
       "        <td>ARRAY[<br>            1,<br>            temperature,<br>            temperature_2,<br>            humidity,pm25,<br>            &quot;month_January&quot;,&quot;month_February&quot;,&quot;month_March&quot;,<br>            &quot;month_April&quot;,&quot;month_May&quot;,&quot;month_June&quot;,<br>            &quot;month_July&quot;,&quot;month_August&quot;,&quot;month_September&quot;,<br>            &quot;month_October&quot;,&quot;month_November&quot;,&quot;month_December&quot;]</td>\n",
       "        <td>optimizer=irls, max_iter=20, tolerance=0.0001</td>\n",
       "        <td>1</td>\n",
       "        <td>0</td>\n",
       "        <td>140000</td>\n",
       "        <td>0</td>\n",
       "        <td>None</td>\n",
       "    </tr>\n",
       "</table>"
      ],
      "text/plain": [
       "[('logregr', 'sensors_split_train', 'sensors_logreg_model', 'rain', 'ARRAY[\\n            1,\\n            temperature,\\n            temperature_2,\\n            humidity,pm25,\\n            \"month_January\",\"month_February ... (44 characters truncated) ... \"month_May\",\"month_June\",\\n            \"month_July\",\"month_August\",\"month_September\",\\n            \"month_October\",\"month_November\",\"month_December\"]', 'optimizer=irls, max_iter=20, tolerance=0.0001', 1, 0, 140000, 0, None)]"
      ]
     },
     "execution_count": 5,
     "metadata": {},
     "output_type": "execute_result"
    }
   ],
   "source": [
    "%%sql\n",
    "DROP TABLE IF EXISTS sensors_logreg_model;\n",
    "DROP TABLE IF EXISTS sensors_logreg_model_summary;\n",
    "\n",
    "SELECT\n",
    "    madlib.logregr_train(        -- Train the Logistic Regression Model\n",
    "        'sensors_split_train',   -- source_table,\n",
    "        'sensors_logreg_model',  -- out_table,\n",
    "        'rain',                  -- labels,\n",
    "        'ARRAY[\n",
    "            1,\n",
    "            temperature,\n",
    "            temperature_2,\n",
    "            humidity,pm25,\n",
    "            \"month_January\",\"month_February\",\"month_March\",\n",
    "            \"month_April\",\"month_May\",\"month_June\",\n",
    "            \"month_July\",\"month_August\",\"month_September\",\n",
    "            \"month_October\",\"month_November\",\"month_December\"]'       -- feature\n",
    "        --, -- grouping_cols,\n",
    "        --, -- max_iter,\n",
    "        --, -- optimizer,\n",
    "        --, -- tolerance,\n",
    "        -- verbose\n",
    "    )\n",
    ";\n",
    "SELECT * FROM sensors_logreg_model_summary ;           --- Get the summary table"
   ]
  },
  {
   "cell_type": "code",
   "execution_count": 6,
   "id": "1ec1bd8c-503a-441d-b57b-5214db53c726",
   "metadata": {
    "execution": {
     "iopub.execute_input": "2021-10-12T08:44:48.389590Z",
     "iopub.status.busy": "2021-10-12T08:44:48.389283Z",
     "iopub.status.idle": "2021-10-12T08:44:48.402234Z",
     "shell.execute_reply": "2021-10-12T08:44:48.401310Z",
     "shell.execute_reply.started": "2021-10-12T08:44:48.389561Z"
    },
    "tags": []
   },
   "outputs": [
    {
     "name": "stdout",
     "output_type": "stream",
     "text": [
      " * postgresql://gpadmin@192.168.133.128:32000/db\n",
      "1 rows affected.\n"
     ]
    }
   ],
   "source": [
    "logreg_coefs = %sql SELECT coef FROM sensors_logreg_model ;\n",
    "logreg_coefs = logreg_coefs.DataFrame();"
   ]
  },
  {
   "cell_type": "code",
   "execution_count": 7,
   "id": "06d96b9e-456a-4c1d-8b53-f734989e797d",
   "metadata": {
    "execution": {
     "iopub.execute_input": "2021-10-12T08:44:48.404610Z",
     "iopub.status.busy": "2021-10-12T08:44:48.404273Z",
     "iopub.status.idle": "2021-10-12T08:44:48.411889Z",
     "shell.execute_reply": "2021-10-12T08:44:48.410922Z",
     "shell.execute_reply.started": "2021-10-12T08:44:48.404584Z"
    },
    "tags": []
   },
   "outputs": [
    {
     "data": {
      "text/plain": [
       "(('intercept', -15399.0232824452),\n",
       " ('temperature', -0.140348591652333),\n",
       " ('temperature_2', 0.0923544416781965),\n",
       " ('humidity', 278.046918605543),\n",
       " ('pm25', -0.00384833504839924),\n",
       " ('month_January', -1283.33182347819),\n",
       " ('month_February', -1283.72913191919),\n",
       " ('month_March', -1282.58715628208),\n",
       " ('month_April', -1282.44072911141),\n",
       " ('month_May', -1283.19483677562),\n",
       " ('month_June', -1281.88598703679),\n",
       " ('month_July', -1284.68270221434),\n",
       " ('month_August', -1283.1469651603),\n",
       " ('month_September', -1283.6763766743),\n",
       " ('month_October', -1282.40457968664),\n",
       " ('month_November', -1283.30100521207),\n",
       " ('month_December', -1284.64195711491))"
      ]
     },
     "execution_count": 7,
     "metadata": {},
     "output_type": "execute_result"
    }
   ],
   "source": [
    "logreg_coef_names = (\n",
    "    'intercept',\n",
    "    'temperature',\n",
    "    'temperature_2',\n",
    "    'humidity',\n",
    "    'pm25',\n",
    "    \"month_January\",\"month_February\",\"month_March\",\n",
    "    \"month_April\",\"month_May\",\"month_June\",\"month_July\",\n",
    "    \"month_August\",\"month_September\",\"month_October\",\n",
    "    \"month_November\",\"month_December\"\n",
    ")\n",
    "tuple(zip(logreg_coef_names, logreg_coefs.iloc[0, 0]))"
   ]
  },
  {
   "cell_type": "code",
   "execution_count": 8,
   "id": "6bbcab2d-5ba8-4240-ae5d-1658c30f30ae",
   "metadata": {
    "execution": {
     "iopub.execute_input": "2021-10-12T08:45:52.235834Z",
     "iopub.status.busy": "2021-10-12T08:45:52.235638Z",
     "iopub.status.idle": "2021-10-12T08:45:52.891748Z",
     "shell.execute_reply": "2021-10-12T08:45:52.891031Z",
     "shell.execute_reply.started": "2021-10-12T08:45:52.235810Z"
    },
    "tags": []
   },
   "outputs": [
    {
     "name": "stdout",
     "output_type": "stream",
     "text": [
      " * postgresql://gpadmin@192.168.133.128:32000/db\n",
      "Done.\n",
      "60000 rows affected.\n",
      "10 rows affected.\n"
     ]
    },
    {
     "data": {
      "text/html": [
       "<table>\n",
       "    <tr>\n",
       "        <th>pred</th>\n",
       "        <th>y_test</th>\n",
       "    </tr>\n",
       "    <tr>\n",
       "        <td>1.0</td>\n",
       "        <td>1</td>\n",
       "    </tr>\n",
       "    <tr>\n",
       "        <td>1.0</td>\n",
       "        <td>1</td>\n",
       "    </tr>\n",
       "    <tr>\n",
       "        <td>0.0</td>\n",
       "        <td>0</td>\n",
       "    </tr>\n",
       "    <tr>\n",
       "        <td>1.0</td>\n",
       "        <td>1</td>\n",
       "    </tr>\n",
       "    <tr>\n",
       "        <td>0.0</td>\n",
       "        <td>0</td>\n",
       "    </tr>\n",
       "    <tr>\n",
       "        <td>0.0</td>\n",
       "        <td>0</td>\n",
       "    </tr>\n",
       "    <tr>\n",
       "        <td>0.0</td>\n",
       "        <td>0</td>\n",
       "    </tr>\n",
       "    <tr>\n",
       "        <td>0.0</td>\n",
       "        <td>0</td>\n",
       "    </tr>\n",
       "    <tr>\n",
       "        <td>0.0</td>\n",
       "        <td>0</td>\n",
       "    </tr>\n",
       "    <tr>\n",
       "        <td>1.0</td>\n",
       "        <td>1</td>\n",
       "    </tr>\n",
       "</table>"
      ],
      "text/plain": [
       "[(1.0, 1),\n",
       " (1.0, 1),\n",
       " (0.0, 0),\n",
       " (1.0, 1),\n",
       " (0.0, 0),\n",
       " (0.0, 0),\n",
       " (0.0, 0),\n",
       " (0.0, 0),\n",
       " (0.0, 0),\n",
       " (1.0, 1)]"
      ]
     },
     "execution_count": 8,
     "metadata": {},
     "output_type": "execute_result"
    }
   ],
   "source": [
    "%%sql\n",
    "DROP TABLE IF EXISTS sensors_logreg_test_prob;\n",
    "CREATE TABLE sensors_logreg_test_prob\n",
    "AS\n",
    "SELECT madlib.logregr_predict_prob(   --- Use the logistic regression model to estimate probability of mature\n",
    "        coef, \n",
    "        ARRAY[\n",
    "            1,\n",
    "            temperature,\n",
    "            temperature_2,\n",
    "            humidity,\n",
    "            pm25,\n",
    "            \"month_January\",\"month_February\",\"month_March\",\n",
    "            \"month_April\",\"month_May\",\"month_June\",\"month_July\",\n",
    "            \"month_August\",\"month_September\",\"month_October\",\n",
    "            \"month_November\",\"month_December\"]                   \n",
    "    ) as pred,\n",
    "    test.rain as y_test\n",
    "FROM sensors_split_test test, sensors_logreg_model model;\n",
    "\n",
    "SELECT * FROM sensors_logreg_test_prob LIMIT 10;"
   ]
  },
  {
   "cell_type": "markdown",
   "id": "45298048-c0fb-428e-a3cc-8141472c943e",
   "metadata": {},
   "source": [
    "### Confusion Matrix"
   ]
  },
  {
   "cell_type": "code",
   "execution_count": 9,
   "id": "ee07e4d4-fefc-4127-93cf-304ad1e596f5",
   "metadata": {
    "execution": {
     "iopub.execute_input": "2021-10-12T08:45:57.952655Z",
     "iopub.status.busy": "2021-10-12T08:45:57.952456Z",
     "iopub.status.idle": "2021-10-12T08:45:58.185260Z",
     "shell.execute_reply": "2021-10-12T08:45:58.184783Z",
     "shell.execute_reply.started": "2021-10-12T08:45:57.952619Z"
    },
    "tags": []
   },
   "outputs": [
    {
     "name": "stdout",
     "output_type": "stream",
     "text": [
      " * postgresql://gpadmin@192.168.133.128:32000/db\n",
      "Done.\n",
      "60000 rows affected.\n",
      "10 rows affected.\n"
     ]
    },
    {
     "data": {
      "text/html": [
       "<table>\n",
       "    <tr>\n",
       "        <th>pred</th>\n",
       "        <th>y_test</th>\n",
       "    </tr>\n",
       "    <tr>\n",
       "        <td>0</td>\n",
       "        <td>0</td>\n",
       "    </tr>\n",
       "    <tr>\n",
       "        <td>0</td>\n",
       "        <td>0</td>\n",
       "    </tr>\n",
       "    <tr>\n",
       "        <td>0</td>\n",
       "        <td>0</td>\n",
       "    </tr>\n",
       "    <tr>\n",
       "        <td>1</td>\n",
       "        <td>1</td>\n",
       "    </tr>\n",
       "    <tr>\n",
       "        <td>0</td>\n",
       "        <td>0</td>\n",
       "    </tr>\n",
       "    <tr>\n",
       "        <td>0</td>\n",
       "        <td>0</td>\n",
       "    </tr>\n",
       "    <tr>\n",
       "        <td>0</td>\n",
       "        <td>0</td>\n",
       "    </tr>\n",
       "    <tr>\n",
       "        <td>0</td>\n",
       "        <td>0</td>\n",
       "    </tr>\n",
       "    <tr>\n",
       "        <td>0</td>\n",
       "        <td>0</td>\n",
       "    </tr>\n",
       "    <tr>\n",
       "        <td>0</td>\n",
       "        <td>0</td>\n",
       "    </tr>\n",
       "</table>"
      ],
      "text/plain": [
       "[(0, 0),\n",
       " (0, 0),\n",
       " (0, 0),\n",
       " (1, 1),\n",
       " (0, 0),\n",
       " (0, 0),\n",
       " (0, 0),\n",
       " (0, 0),\n",
       " (0, 0),\n",
       " (0, 0)]"
      ]
     },
     "execution_count": 9,
     "metadata": {},
     "output_type": "execute_result"
    }
   ],
   "source": [
    "%%sql\n",
    "DROP TABLE IF EXISTS sensors_logreg_test_predict ;\n",
    "CREATE TABLE sensors_logreg_test_predict\n",
    "AS\n",
    "SELECT\n",
    "    (pred >= 0.5)::integer as pred,\n",
    "    y_test\n",
    "FROM sensors_logreg_test_prob;\n",
    "\n",
    "\n",
    "SELECT * FROM sensors_logreg_test_predict LIMIT 10;"
   ]
  },
  {
   "cell_type": "code",
   "execution_count": 10,
   "id": "3470ce5a-ed26-4f7f-b5db-b0ac8ed83fd0",
   "metadata": {
    "execution": {
     "iopub.execute_input": "2021-10-12T08:45:59.348638Z",
     "iopub.status.busy": "2021-10-12T08:45:59.348426Z",
     "iopub.status.idle": "2021-10-12T08:45:59.891306Z",
     "shell.execute_reply": "2021-10-12T08:45:59.890560Z",
     "shell.execute_reply.started": "2021-10-12T08:45:59.348612Z"
    },
    "tags": []
   },
   "outputs": [
    {
     "name": "stdout",
     "output_type": "stream",
     "text": [
      " * postgresql://gpadmin@192.168.133.128:32000/db\n",
      "Done.\n",
      "1 rows affected.\n"
     ]
    },
    {
     "data": {
      "text/html": [
       "<table>\n",
       "    <tr>\n",
       "        <th>confusion_matrix</th>\n",
       "    </tr>\n",
       "    <tr>\n",
       "        <td></td>\n",
       "    </tr>\n",
       "</table>"
      ],
      "text/plain": [
       "[('',)]"
      ]
     },
     "execution_count": 10,
     "metadata": {},
     "output_type": "execute_result"
    }
   ],
   "source": [
    "%%sql\n",
    "DROP TABLE IF EXISTS sensors_logreg_test_conf_matrix;\n",
    "SELECT\n",
    "madlib.confusion_matrix(\n",
    "    'sensors_logreg_test_predict',\n",
    "    'sensors_logreg_test_conf_matrix',\n",
    "    'pred',  -- prediction_col\n",
    "    'y_test' -- observation_col\n",
    ");"
   ]
  },
  {
   "cell_type": "code",
   "execution_count": 11,
   "id": "9cb21152-97a5-4f38-81f8-685d4870a6c4",
   "metadata": {
    "execution": {
     "iopub.execute_input": "2021-10-12T08:46:07.392447Z",
     "iopub.status.busy": "2021-10-12T08:46:07.392219Z",
     "iopub.status.idle": "2021-10-12T08:46:07.411929Z",
     "shell.execute_reply": "2021-10-12T08:46:07.411179Z",
     "shell.execute_reply.started": "2021-10-12T08:46:07.392419Z"
    },
    "tags": []
   },
   "outputs": [
    {
     "name": "stdout",
     "output_type": "stream",
     "text": [
      " * postgresql://gpadmin@192.168.133.128:32000/db\n",
      "2 rows affected.\n"
     ]
    }
   ],
   "source": [
    "confusion = %sql SELECT \\\n",
    "                        confusion_arr[1] as \"Predicted 0\",\\\n",
    "                        confusion_arr[2] as \"Predicted 1\" \\\n",
    "                        FROM sensors_logreg_test_conf_matrix ORDER BY row_id;\n",
    "\n",
    "confusion=confusion.DataFrame()"
   ]
  },
  {
   "cell_type": "code",
   "execution_count": 12,
   "id": "ef083c54-5cdd-45f1-8398-cceac2f540e9",
   "metadata": {
    "execution": {
     "iopub.execute_input": "2021-10-12T08:46:08.264463Z",
     "iopub.status.busy": "2021-10-12T08:46:08.264157Z",
     "iopub.status.idle": "2021-10-12T08:46:08.433963Z",
     "shell.execute_reply": "2021-10-12T08:46:08.433358Z",
     "shell.execute_reply.started": "2021-10-12T08:46:08.264425Z"
    },
    "tags": []
   },
   "outputs": [
    {
     "data": {
      "application/vnd.jupyter.widget-view+json": {
       "model_id": "8d7f308e3bd54914ab1804e25be11ec2",
       "version_major": 2,
       "version_minor": 0
      },
      "image/png": "[encoded data removed]",
      "text/plain": [
       "Canvas(toolbar=Toolbar(toolitems=[('Home', 'Reset original view', 'home', 'home'), ('Back', 'Back to previous …"
      ]
     },
     "metadata": {},
     "output_type": "display_data"
    }
   ],
   "source": [
    "plt.title('Confusion Matrix')\n",
    "sns.heatmap(confusion.astype(int),annot=True,cmap=\"YlGnBu\",fmt='d',yticklabels=['True 0','True 1'],annot_kws={\"fontsize\":13});\n",
    "plt.yticks(rotation=0);"
   ]
  },
  {
   "cell_type": "code",
   "execution_count": 27,
   "id": "72ace31e-792c-417f-8f8c-35082cba5138",
   "metadata": {
    "execution": {
     "iopub.execute_input": "2021-10-12T08:49:45.701767Z",
     "iopub.status.busy": "2021-10-12T08:49:45.701526Z",
     "iopub.status.idle": "2021-10-12T08:49:46.032465Z",
     "shell.execute_reply": "2021-10-12T08:49:46.031774Z",
     "shell.execute_reply.started": "2021-10-12T08:49:45.701737Z"
    },
    "tags": []
   },
   "outputs": [
    {
     "name": "stdout",
     "output_type": "stream",
     "text": [
      " * postgresql://gpadmin@192.168.133.128:32000/db\n",
      "60000 rows affected.\n",
      "              precision    recall  f1-score   support\n",
      "\n",
      "           0       1.00      1.00      1.00     44901\n",
      "           1       1.00      1.00      1.00     15099\n",
      "\n",
      "    accuracy                           1.00     60000\n",
      "   macro avg       1.00      1.00      1.00     60000\n",
      "weighted avg       1.00      1.00      1.00     60000\n",
      "\n"
     ]
    }
   ],
   "source": [
    "classification= %sql SELECT y_test,pred FROM sensors_logreg_test_predict;\n",
    "classification=classification.DataFrame()\n",
    "\n",
    "print(classification_report(classification['y_test'],classification['pred']))"
   ]
  },
  {
   "cell_type": "markdown",
   "id": "cef05c60-7e1f-4ca9-b165-133ebdc58272",
   "metadata": {},
   "source": [
    "### ROC"
   ]
  },
  {
   "cell_type": "code",
   "execution_count": 28,
   "id": "4271e0ac-5b93-461d-a4be-323143b9f9fb",
   "metadata": {
    "execution": {
     "iopub.execute_input": "2021-10-12T08:49:50.790837Z",
     "iopub.status.busy": "2021-10-12T08:49:50.790608Z",
     "iopub.status.idle": "2021-10-12T08:49:51.209752Z",
     "shell.execute_reply": "2021-10-12T08:49:51.209192Z",
     "shell.execute_reply.started": "2021-10-12T08:49:50.790809Z"
    },
    "tags": []
   },
   "outputs": [
    {
     "name": "stdout",
     "output_type": "stream",
     "text": [
      " * postgresql://gpadmin@192.168.133.128:32000/db\n",
      "Done.\n",
      "1 rows affected.\n",
      "1 rows affected.\n"
     ]
    },
    {
     "data": {
      "text/html": [
       "<table>\n",
       "    <tr>\n",
       "        <th>area_under_roc</th>\n",
       "    </tr>\n",
       "    <tr>\n",
       "        <td>0.999999997049974315675130175333038982720577080</td>\n",
       "    </tr>\n",
       "</table>"
      ],
      "text/plain": [
       "[(Decimal('0.999999997049974315675130175333038982720577080'),)]"
      ]
     },
     "execution_count": 28,
     "metadata": {},
     "output_type": "execute_result"
    }
   ],
   "source": [
    "%%sql\n",
    "DROP TABLE IF EXISTS sensors_logreg_test_auc;\n",
    "SELECT\n",
    "madlib.area_under_roc(\n",
    "    'sensors_logreg_test_prob', \n",
    "    'sensors_logreg_test_auc', \n",
    "    'pred',  -- predictions, \n",
    "    'y_test'\n",
    ");\n",
    "\n",
    "SELECT * FROM sensors_logreg_test_auc;"
   ]
  },
  {
   "cell_type": "markdown",
   "id": "1decb2ff-ec40-45a3-8b7c-39194807db41",
   "metadata": {},
   "source": [
    "## Linear Regression  ( Regression Model )"
   ]
  },
  {
   "cell_type": "code",
   "execution_count": 29,
   "id": "57934b39-a57f-416b-a567-fe42e73bac15",
   "metadata": {
    "execution": {
     "iopub.execute_input": "2021-10-12T08:49:53.638089Z",
     "iopub.status.busy": "2021-10-12T08:49:53.637839Z",
     "iopub.status.idle": "2021-10-12T08:49:54.904175Z",
     "shell.execute_reply": "2021-10-12T08:49:54.903477Z",
     "shell.execute_reply.started": "2021-10-12T08:49:53.638059Z"
    },
    "tags": []
   },
   "outputs": [
    {
     "name": "stdout",
     "output_type": "stream",
     "text": [
      " * postgresql://gpadmin@192.168.133.128:32000/db\n",
      "Done.\n",
      "Done.\n",
      "1 rows affected.\n",
      "1 rows affected.\n"
     ]
    },
    {
     "data": {
      "text/html": [
       "<table>\n",
       "    <tr>\n",
       "        <th>coef</th>\n",
       "        <th>r2</th>\n",
       "        <th>std_err</th>\n",
       "        <th>t_stats</th>\n",
       "        <th>p_values</th>\n",
       "        <th>condition_no</th>\n",
       "        <th>bp_stats</th>\n",
       "        <th>bp_p_value</th>\n",
       "        <th>num_rows_processed</th>\n",
       "        <th>num_missing_rows_skipped</th>\n",
       "        <th>variance_covariance</th>\n",
       "    </tr>\n",
       "    <tr>\n",
       "        <td>[13.9985584582425, 0.994181400876533, 0.000856707134511503, -0.00033709457999598, 1.13204353330593, 1.143045279436, 1.20741618336763, 1.16202824574812, 1.17478519254577, 1.20451259620586, 1.1540796746355, 1.21264244712017, 1.12588400956014, 1.19260399930142, 1.1272550017663, 1.16226229521819]</td>\n",
       "        <td>0.0841797515985558</td>\n",
       "        <td>[0.262033614301953, 0.00878336219057707, 0.000533931671840845, 0.000524372773897401, 0.0343432916794607, 0.0353916660412463, 0.0343970566427196, 0.0342766593092124, 0.0340600587762311, 0.0343411962352174, 0.0341717452171949, 0.034110586020659, 0.0344057893294665, 0.0342058904454044, 0.0344594330114698, 0.0342446964196322]</td>\n",
       "        <td>[53.4227583569158, 113.189161428764, 1.60452578427839, -0.642852941220659, 32.9625809858804, 32.2970181201378, 35.1023111049586, 33.901443990366, 34.4915785455309, 35.0748584282167, 33.7729216725747, 35.5503258251189, 32.7236791104771, 34.8654569073395, 32.7125231976712, 33.9399211187597]</td>\n",
       "        <td>[0.0, 0.0, 0.108600461534552, 0.52032058002156, 2.28438905905991e-237, 5.34559587560188e-228, 9.24831881540126e-269, 6.65307190434822e-251, 1.33020298500065e-259, 2.40489940264518e-268, 4.98892785144208e-249, 1.40571298099721e-275, 5.53911259076834e-234, 3.4385993206144e-265, 7.95978762399337e-234, 1.82107255757856e-251]</td>\n",
       "        <td>inf</td>\n",
       "        <td>10.0407118176474</td>\n",
       "        <td>0.81717124394972</td>\n",
       "        <td>140000</td>\n",
       "        <td>0</td>\n",
       "        <td>[[0.0686616150241446, -0.00225434860136279, -1.35349890243418e-05, -1.58932886945193e-05, 0.00573653621781636, 0.00570927567087823, 0.00572410416144738, 0.00566875976608048, 0.00569398166966811, 0.00569610644481592, 0.00574438374273417, 0.00570237358855691, 0.00574201662053014, 0.0057562760189547, 0.00573360753536209, 0.00575419358714381], [-0.00225434860136279, 7.71474513708588e-05, 5.97641234155558e-09, -2.81501323864907e-07, -0.000188357412059333, -0.000187227045499685, -0.000187627022856085, -0.000186061691684193, -0.000187110833378083, -0.000187099644324018, -0.000188779177729155, -0.000187475251122292, -0.000188661817190861, -0.000188886647096526, -0.000187977299044992, -0.000189084759372439], [-1.35349890243418e-05, 5.97641234155561e-09, 2.85083030194759e-07, 2.13618202989564e-09, -1.09553519360979e-06, -1.1395267791091e-06, -1.17090914329143e-06, -1.15509389393448e-06, -1.10775268892376e-06, -1.16833933194652e-06, -1.13858871874192e-06, -1.10255354144714e-06, -1.1088872678141e-06, -1.07804701611966e-06, -1.17811470154709e-06, -1.09164074782584e-06], [-1.58932886945193e-05, -2.81501323864907e-07, 2.13618202989565e-09, 2.74966806004855e-07, -1.34721548002412e-06, -1.31217128450503e-06, -1.40571290549077e-06, -1.30917844229737e-06, -1.28832233402443e-06, -1.2645425260105e-06, -1.28570564890287e-06, -1.2618592787944e-06, -1.29657825999187e-06, -1.41670425495703e-06, -1.38944154840045e-06, -1.31585673108408e-06], [0.00573653621781636, -0.000188357412059333, -1.09553519360979e-06, -1.34721548002412e-06, 0.00117946168338051, 0.000406034446573702, 0.00041446855034859, 0.000409744988221152, 0.0004137547483802, 0.000412036404662651, 0.000418040573042821, 0.000414250635783182, 0.000416202027037083, 0.000419019886581194, 0.00041498883620147, 0.000418533437590809], [0.00570927567087823, -0.000187227045499685, -1.1395267791091e-06, -1.31217128450503e-06, 0.000406034446573702, 0.0012525700251751, 0.000404429949183351, 0.000399741623510567, 0.000403731083031244, 0.000402025772537959, 0.000407996743900061, 0.00040422444149187, 0.000406153787869767, 0.0004089461066838, 0.000404948382708487, 0.0004084733081986], [0.00572410416144738, -0.000187627022856085, -1.17090914329143e-06, -1.40571290549077e-06, 0.00041446855034859, 0.000404429949183351, 0.00118315750568246, 0.00040815418103915, 0.000412138098107956, 0.000410430993181438, 0.000416416905905671, 0.000412624089862241, 0.000414573767041525, 0.000417405780199904, 0.000413403512458669, 0.000416900828423467], [0.00566875976608048, -0.000186061691684193, -1.15509389393448e-06, -1.30917844229737e-06, 0.000409744988221152, 0.000399741623510567, 0.00040815418103915, 0.00117488937339982, 0.000407462839182014, 0.000405761677985118, 0.000411704898242251, 0.000407951080386202, 0.000409861797426007, 0.00041264576773526, 0.000408668122217865, 0.000412173416722247], [0.00569398166966812, -0.000187110833378083, -1.10775268892376e-06, -1.28832233402443e-06, 0.000413754748380201, 0.000403731083031244, 0.000412138098107956, 0.000407462839182014, 0.00116008760384032, 0.000409747550346259, 0.00041571690690036, 0.000411953058329748, 0.000413876500051411, 0.00041666128680929, 0.00041265652433313, 0.000416195470343281], [0.00569610644481592, -0.000187099644324018, -1.16833933194652e-06, -1.2645425260105e-06, 0.000412036404662651, 0.000402025772537959, 0.000410430993181438, 0.000405761677985118, 0.000409747550346259, 0.00117931775886571, 0.000414012989466843, 0.000410244204293637, 0.000412165343573911, 0.000414932798844144, 0.000410952227953727, 0.000414478723091628], [0.00574438374273417, -0.000188779177729155, -1.13858871874192e-06, -1.28570564890287e-06, 0.000418040573042821, 0.000407996743900061, 0.000416416905905671, 0.000411704898242251, 0.00041571690690036, 0.000414012989466843, 0.00116770817118888, 0.000416219521419174, 0.00041816975651508, 0.000420957514218188, 0.000416943502294871, 0.000420496259626949], [0.00570237358855691, -0.000187475251122292, -1.10255354144714e-06, -1.2618592787944e-06, 0.000414250635783182, 0.00040422444149187, 0.000412624089862241, 0.000407951080386202, 0.000411953058329748, 0.000410244204293637, 0.000416219521419174, 0.00116353207867278, 0.000414378127264121, 0.0004171534407141, 0.000413145417534311, 0.000416697492792623], [0.00574201662053014, -0.000188661817190861, -1.1088872678141e-06, -1.29657825999187e-06, 0.000416202027037083, 0.000406153787869767, 0.000414573767041525, 0.000409861797426007, 0.000413876500051411, 0.000412165343573911, 0.00041816975651508, 0.000414378127264121, 0.00118375833938363, 0.000419122775767252, 0.000415098496821178, 0.000418655901766175], [0.0057562760189547, -0.000188886647096526, -1.07804701611966e-06, -1.41670425495703e-06, 0.000419019886581194, 0.0004089461066838, 0.000417405780199904, 0.00041264576773526, 0.00041666128680929, 0.000414932798844144, 0.000420957514218188, 0.0004171534407141, 0.000419122775767252, 0.00117004294116301, 0.000417924096938357, 0.000421463623287155], [0.00573360753536209, -0.000187977299044992, -1.17811470154709e-06, -1.38944154840045e-06, 0.00041498883620147, 0.000404948382708487, 0.000413403512458669, 0.000408668122217865, 0.00041265652433313, 0.000410952227953727, 0.000416943502294871, 0.000413145417534311, 0.000415098496821178, 0.000417924096938357, 0.00118745252347198, 0.000417425892415072], [0.00575419358714381, -0.000189084759372439, -1.09164074782584e-06, -1.31585673108408e-06, 0.000418533437590809, 0.0004084733081986, 0.000416900828423467, 0.000412173416722247, 0.000416195470343281, 0.000414478723091628, 0.000420496259626949, 0.000416697492792623, 0.000418655901766175, 0.000421463623287155, 0.000417425892415072, 0.00117269923287277]]</td>\n",
       "    </tr>\n",
       "</table>"
      ],
      "text/plain": [
       "[([13.9985584582425, 0.994181400876533, 0.000856707134511503, -0.00033709457999598, 1.13204353330593, 1.143045279436, 1.20741618336763, 1.16202824574812, 1.17478519254577, 1.20451259620586, 1.1540796746355, 1.21264244712017, 1.12588400956014, 1.19260399930142, 1.1272550017663, 1.16226229521819], 0.0841797515985558, [0.262033614301953, 0.00878336219057707, 0.000533931671840845, 0.000524372773897401, 0.0343432916794607, 0.0353916660412463, 0.0343970566427196, 0.034 ... (23 characters truncated) ... 0587762311, 0.0343411962352174, 0.0341717452171949, 0.034110586020659, 0.0344057893294665, 0.0342058904454044, 0.0344594330114698, 0.0342446964196322], [53.4227583569158, 113.189161428764, 1.60452578427839, -0.642852941220659, 32.9625809858804, 32.2970181201378, 35.1023111049586, 33.901443990366, 34.4915785455309, 35.0748584282167, 33.7729216725747, 35.5503258251189, 32.7236791104771, 34.8654569073395, 32.7125231976712, 33.9399211187597], [0.0, 0.0, 0.108600461534552, 0.52032058002156, 2.28438905905991e-237, 5.34559587560188e-228, 9.24831881540126e-269, 6.65307190434822e-251, 1.33020298 ... (22 characters truncated) ... 0264518e-268, 4.98892785144208e-249, 1.40571298099721e-275, 5.53911259076834e-234, 3.4385993206144e-265, 7.95978762399337e-234, 1.82107255757856e-251], inf, 10.0407118176474, 0.81717124394972, 140000, 0, [[0.0686616150241446, -0.00225434860136279, -1.35349890243418e-05, -1.58932886945193e-05, 0.00573653621781636, 0.00570927567087823, 0.0057241041614473 ... (5361 characters truncated) ... 00414478723091628, 0.000420496259626949, 0.000416697492792623, 0.000418655901766175, 0.000421463623287155, 0.000417425892415072, 0.00117269923287277]])]"
      ]
     },
     "execution_count": 29,
     "metadata": {},
     "output_type": "execute_result"
    }
   ],
   "source": [
    "%%sql\n",
    "DROP TABLE IF EXISTS sensors_linreg_model;\n",
    "DROP TABLE IF EXISTS sensors_linreg_model_summary;\n",
    "\n",
    "SELECT madlib.linregr_train(\n",
    "    'sensors_split_train',   -- source_table\n",
    "    'sensors_linreg_model',  -- out_table\n",
    "    'temperature_2',         -- labels\n",
    "    'ARRAY[\n",
    "        1,\n",
    "        temperature,\n",
    "        humidity,pm25,\n",
    "        \"month_January\",\"month_February\",\"month_March\",\n",
    "        \"month_April\",\"month_May\",\"month_June\",\n",
    "        \"month_July\",\"month_August\",\"month_September\",\n",
    "        \"month_October\",\"month_November\",\"month_December\"]',       -- feature\n",
    "    NULL,  -- grouping_cols\n",
    "    TRUE  -- heteroskedasticity_option\n",
    ");\n",
    "\n",
    "SELECT * FROM sensors_linreg_model LIMIT 10;"
   ]
  },
  {
   "cell_type": "code",
   "execution_count": 30,
   "id": "f5c0bed4-5c3e-4928-b6b8-b5dcb38e994a",
   "metadata": {
    "execution": {
     "iopub.execute_input": "2021-10-12T08:49:59.340439Z",
     "iopub.status.busy": "2021-10-12T08:49:59.340208Z",
     "iopub.status.idle": "2021-10-12T08:50:00.191147Z",
     "shell.execute_reply": "2021-10-12T08:50:00.190439Z",
     "shell.execute_reply.started": "2021-10-12T08:49:59.340412Z"
    },
    "tags": []
   },
   "outputs": [
    {
     "name": "stdout",
     "output_type": "stream",
     "text": [
      " * postgresql://gpadmin@192.168.133.128:32000/db\n",
      "Done.\n",
      "60000 rows affected.\n",
      "5 rows affected.\n"
     ]
    },
    {
     "data": {
      "text/html": [
       "<table>\n",
       "    <tr>\n",
       "        <th>prediction</th>\n",
       "        <th>y_test</th>\n",
       "    </tr>\n",
       "    <tr>\n",
       "        <td>48.1327274765373</td>\n",
       "        <td>43.8821681298194</td>\n",
       "    </tr>\n",
       "    <tr>\n",
       "        <td>45.8301627751667</td>\n",
       "        <td>51.2642994942956</td>\n",
       "    </tr>\n",
       "    <tr>\n",
       "        <td>47.3269375235452</td>\n",
       "        <td>54.9473644193009</td>\n",
       "    </tr>\n",
       "    <tr>\n",
       "        <td>46.0825207552893</td>\n",
       "        <td>49.1253201300976</td>\n",
       "    </tr>\n",
       "    <tr>\n",
       "        <td>46.0340482765889</td>\n",
       "        <td>45.7392663315482</td>\n",
       "    </tr>\n",
       "</table>"
      ],
      "text/plain": [
       "[(48.1327274765373, 43.8821681298194),\n",
       " (45.8301627751667, 51.2642994942956),\n",
       " (47.3269375235452, 54.9473644193009),\n",
       " (46.0825207552893, 49.1253201300976),\n",
       " (46.0340482765889, 45.7392663315482)]"
      ]
     },
     "execution_count": 30,
     "metadata": {},
     "output_type": "execute_result"
    }
   ],
   "source": [
    "%%sql\n",
    "DROP TABLE IF EXISTS sensors_linreg_test_predict;\n",
    "\n",
    "CREATE TABLE sensors_linreg_test_predict\n",
    "AS\n",
    "SELECT \n",
    "    madlib.linregr_predict(\n",
    "        coef, \n",
    "        ARRAY[\n",
    "            1,\n",
    "            temperature,\n",
    "            humidity,pm25,\n",
    "            \"month_January\",\"month_February\",\"month_March\",\n",
    "            \"month_April\",\"month_May\",\"month_June\",\n",
    "            \"month_July\",\"month_August\",\"month_September\",\n",
    "            \"month_October\",\"month_November\",\"month_December\"\n",
    "            ] \n",
    "    ) as prediction,\n",
    "    test.temperature_2 as y_test\n",
    "FROM sensors_split_test test, sensors_linreg_model model;\n",
    "\n",
    "SELECT * FROM sensors_linreg_test_predict LIMIT 5;"
   ]
  },
  {
   "cell_type": "code",
   "execution_count": 31,
   "id": "781f0732-1068-4748-9e8b-945509786b20",
   "metadata": {
    "execution": {
     "iopub.execute_input": "2021-10-12T08:50:11.468558Z",
     "iopub.status.busy": "2021-10-12T08:50:11.468356Z",
     "iopub.status.idle": "2021-10-12T08:50:11.707617Z",
     "shell.execute_reply": "2021-10-12T08:50:11.707074Z",
     "shell.execute_reply.started": "2021-10-12T08:50:11.468534Z"
    },
    "tags": []
   },
   "outputs": [
    {
     "name": "stdout",
     "output_type": "stream",
     "text": [
      " * postgresql://gpadmin@192.168.133.128:32000/db\n",
      "Done.\n",
      "1 rows affected.\n",
      "1 rows affected.\n"
     ]
    },
    {
     "data": {
      "text/html": [
       "<table>\n",
       "    <tr>\n",
       "        <th>mean_squared_error</th>\n",
       "    </tr>\n",
       "    <tr>\n",
       "        <td>9.04314927030701</td>\n",
       "    </tr>\n",
       "</table>"
      ],
      "text/plain": [
       "[(9.04314927030701,)]"
      ]
     },
     "execution_count": 31,
     "metadata": {},
     "output_type": "execute_result"
    }
   ],
   "source": [
    "%%sql\n",
    "DROP TABLE IF EXISTS sensors_linreg_test_predict_mse;\n",
    "\n",
    "SELECT madlib.mean_squared_error(\n",
    "    'sensors_linreg_test_predict',      -- table_in\n",
    "    'sensors_linreg_test_predict_mse',  -- table_out\n",
    "    'prediction',  -- prediction\n",
    "    'y_test'  -- y_test\n",
    ");\n",
    "\n",
    "SELECT * FROM sensors_linreg_test_predict_mse;"
   ]
  },
  {
   "cell_type": "code",
   "execution_count": 32,
   "id": "840d486f-95f3-4e58-88e5-61502b2bbe5f",
   "metadata": {
    "execution": {
     "iopub.execute_input": "2021-10-12T08:50:12.708172Z",
     "iopub.status.busy": "2021-10-12T08:50:12.707969Z",
     "iopub.status.idle": "2021-10-12T08:50:12.718334Z",
     "shell.execute_reply": "2021-10-12T08:50:12.717602Z",
     "shell.execute_reply.started": "2021-10-12T08:50:12.708147Z"
    },
    "tags": []
   },
   "outputs": [
    {
     "name": "stdout",
     "output_type": "stream",
     "text": [
      " * postgresql://gpadmin@192.168.133.128:32000/db\n",
      "200 rows affected.\n"
     ]
    }
   ],
   "source": [
    "pred = %sql SELECT * FROM sensors_linreg_test_predict LIMIT 200;\n",
    "pred=pred.DataFrame()"
   ]
  },
  {
   "cell_type": "code",
   "execution_count": 33,
   "id": "5a3fcc18-5c07-4e4d-a3bd-fc65e01149b0",
   "metadata": {
    "execution": {
     "iopub.execute_input": "2021-10-12T08:50:13.663203Z",
     "iopub.status.busy": "2021-10-12T08:50:13.662943Z",
     "iopub.status.idle": "2021-10-12T08:50:13.674645Z",
     "shell.execute_reply": "2021-10-12T08:50:13.673966Z",
     "shell.execute_reply.started": "2021-10-12T08:50:13.663169Z"
    },
    "tags": []
   },
   "outputs": [
    {
     "data": {
      "text/html": [
       "<div>\n",
       "<style scoped>\n",
       "    .dataframe tbody tr th:only-of-type {\n",
       "        vertical-align: middle;\n",
       "    }\n",
       "\n",
       "    .dataframe tbody tr th {\n",
       "        vertical-align: top;\n",
       "    }\n",
       "\n",
       "    .dataframe thead th {\n",
       "        text-align: right;\n",
       "    }\n",
       "</style>\n",
       "<table border=\"1\" class=\"dataframe\">\n",
       "  <thead>\n",
       "    <tr style=\"text-align: right;\">\n",
       "      <th></th>\n",
       "      <th>prediction</th>\n",
       "      <th>y_test</th>\n",
       "    </tr>\n",
       "  </thead>\n",
       "  <tbody>\n",
       "    <tr>\n",
       "      <th>0</th>\n",
       "      <td>48.684182</td>\n",
       "      <td>50.258483</td>\n",
       "    </tr>\n",
       "    <tr>\n",
       "      <th>1</th>\n",
       "      <td>45.642878</td>\n",
       "      <td>49.642492</td>\n",
       "    </tr>\n",
       "    <tr>\n",
       "      <th>2</th>\n",
       "      <td>47.667135</td>\n",
       "      <td>47.024718</td>\n",
       "    </tr>\n",
       "    <tr>\n",
       "      <th>3</th>\n",
       "      <td>45.515449</td>\n",
       "      <td>46.042749</td>\n",
       "    </tr>\n",
       "    <tr>\n",
       "      <th>4</th>\n",
       "      <td>45.876071</td>\n",
       "      <td>45.219510</td>\n",
       "    </tr>\n",
       "    <tr>\n",
       "      <th>...</th>\n",
       "      <td>...</td>\n",
       "      <td>...</td>\n",
       "    </tr>\n",
       "    <tr>\n",
       "      <th>195</th>\n",
       "      <td>48.177231</td>\n",
       "      <td>49.459466</td>\n",
       "    </tr>\n",
       "    <tr>\n",
       "      <th>196</th>\n",
       "      <td>45.144934</td>\n",
       "      <td>46.927641</td>\n",
       "    </tr>\n",
       "    <tr>\n",
       "      <th>197</th>\n",
       "      <td>45.955277</td>\n",
       "      <td>39.083324</td>\n",
       "    </tr>\n",
       "    <tr>\n",
       "      <th>198</th>\n",
       "      <td>47.412924</td>\n",
       "      <td>44.795713</td>\n",
       "    </tr>\n",
       "    <tr>\n",
       "      <th>199</th>\n",
       "      <td>45.830876</td>\n",
       "      <td>49.347561</td>\n",
       "    </tr>\n",
       "  </tbody>\n",
       "</table>\n",
       "<p>200 rows × 2 columns</p>\n",
       "</div>"
      ],
      "text/plain": [
       "     prediction     y_test\n",
       "0     48.684182  50.258483\n",
       "1     45.642878  49.642492\n",
       "2     47.667135  47.024718\n",
       "3     45.515449  46.042749\n",
       "4     45.876071  45.219510\n",
       "..          ...        ...\n",
       "195   48.177231  49.459466\n",
       "196   45.144934  46.927641\n",
       "197   45.955277  39.083324\n",
       "198   47.412924  44.795713\n",
       "199   45.830876  49.347561\n",
       "\n",
       "[200 rows x 2 columns]"
      ]
     },
     "execution_count": 33,
     "metadata": {},
     "output_type": "execute_result"
    }
   ],
   "source": [
    "pred"
   ]
  },
  {
   "cell_type": "code",
   "execution_count": 34,
   "id": "b9679c2a-dac2-407d-a881-91b83d111a0b",
   "metadata": {
    "execution": {
     "iopub.execute_input": "2021-10-12T08:50:15.995254Z",
     "iopub.status.busy": "2021-10-12T08:50:15.995058Z",
     "iopub.status.idle": "2021-10-12T08:50:16.347160Z",
     "shell.execute_reply": "2021-10-12T08:50:16.346463Z",
     "shell.execute_reply.started": "2021-10-12T08:50:15.995230Z"
    },
    "presto": {
     "id": "59300cfb-ba19-46a1-a9bc-0c2d019e8b78"
    },
    "tags": []
   },
   "outputs": [
    {
     "data": {
      "image/png": "[encoded data removed]",
      "text/plain": [
       "<Figure size 720x360 with 1 Axes>"
      ]
     },
     "metadata": {
      "needs_background": "light"
     },
     "output_type": "display_data"
    }
   ],
   "source": [
    "%matplotlib inline\n",
    "sns.lmplot(x='prediction',y='y_test',data=pred,height=5,aspect=2)\n",
    "plt.title(\"LR prediction , y_test scatterplot\") \n",
    "plt.ylim(30,70);"
   ]
  },
  {
   "cell_type": "markdown",
   "id": "df828697-81f5-453f-8405-986b2216642e",
   "metadata": {},
   "source": [
    "## Multilayer Perceptron ( ANN )"
   ]
  },
  {
   "cell_type": "code",
   "execution_count": 44,
   "id": "f7fd2dbc-eb22-4f1c-8bc9-13d50fa54b4c",
   "metadata": {
    "execution": {
     "iopub.execute_input": "2021-10-08T03:41:23.706588Z",
     "iopub.status.busy": "2021-10-08T03:41:23.706430Z",
     "iopub.status.idle": "2021-10-08T03:43:35.947959Z",
     "shell.execute_reply": "2021-10-08T03:43:35.947272Z",
     "shell.execute_reply.started": "2021-10-08T03:41:23.706570Z"
    },
    "tags": []
   },
   "outputs": [
    {
     "name": "stdout",
     "output_type": "stream",
     "text": [
      " * postgresql://gpadmin@192.168.133.128:32000/db\n",
      "Done.\n",
      "Done.\n",
      "1 rows affected.\n",
      "1 rows affected.\n"
     ]
    },
    {
     "data": {
      "text/html": [
       "<table>\n",
       "    <tr>\n",
       "        <th>coeff</th>\n",
       "        <th>loss</th>\n",
       "        <th>num_iterations</th>\n",
       "    </tr>\n",
       "    <tr>\n",
       "        <td>[5.25670584140862, 0.0018554548633512, 0.555347086831187, -0.106807655206207, -0.0424818047371426, -0.00841389621115055, -0.0284668640402652, -0.0173400368253576, -0.0205505040664786, -0.0456685145736653, 0.00659473675409469, 0.0138846319908715, 0.041172991873062, -0.0810832441498937, 0.0485989667263108, 0.00857614675629368, 0.0575251885142829, -4.08625118088112, 0.00583776371143724, 0.849060162597831, 0.363783621456659, -0.163378734809073, -0.0590957352479027, -0.0899418313800322, 0.163559478495432, -0.233390589776409, 0.0143136656236015, 0.119996010424356, -0.0644108230319712, 0.118987467974524, -0.159900291783802, -0.000147690721396246, -0.0245887175397426, 0.0270757238862405, -2.9306385192232, -0.0469147036331727, 0.437054384310109, 0.154576448877015, 0.0984932811768907, 0.113071281137765, -0.120845731245448, -0.154348408945457, -0.21385223874987, 0.187563972585618, -0.149029033990829, -0.187393128239038, 0.00293591830026232, 0.0511774699730144, 0.0767383080631419, 0.0892353943686344, 0.189165179495315, -5.54703925165866, 0.0616203386122864, 2.54957775707541, 0.242029966375427, 0.408460709265059, -0.100545351604146, -0.467641161951248, -0.166764307545682, 0.296938497056965, 0.237215204420498, -0.243283027749784, 0.141687504534141, -0.114634063686923, 0.188406845548277, 0.0445810342259304, 0.165228010922533, -0.17585057579428, 5.3389554935505, -0.153133026098753, 0.544895285673065, -0.13373771262981, 0.177909489857114, -0.113340704276614, 0.00284639374791657, 0.0685446943233156, 0.00127137141329655, -0.106023016640917, 0.0557555178433985, -0.0179072341105107, -0.00232552293760285, -0.0784893952624211, 0.13016164773188, -0.0840114050464857, -0.00826984906825268, 5.68116748713059, -0.10620390960544, 0.541881956666655, -0.08623861358931, 0.174041064020625, -0.0995168765498124, 0.0038014433600686, 0.0974603393060724, 0.0302913943881772, -0.111334740034634, 0.0420325413789321, -0.0540407091074351, -0.0141483513378679, -0.0660522281214039, 0.12261221002967, -0.0793977490372578, -0.0174754533731286, 5.79106491930024, -0.00516167035342254, 0.558020874889769, -0.137613111938722, 0.117674054998515, -0.0876556562104989, 0.00420116861486583, 0.0687683521619926, 0.0288246052670619, -0.0777518924025109, 0.0637424751491854, 0.00638417064091578, 0.0418051877971506, -0.0601964775762482, 0.13080721658121, -0.043964894698242, 0.0216610366266831, 6.23389279891197, 0.0565134419033825, 0.300481401834401, 0.408455864013349, -0.0508870008582935, 0.221859763991623, 0.111505339482115, -0.00538529366558486, -0.0573918533348857, -0.048144530079581, 0.120898424079498, -0.229684095178684, 0.125293349590412, -0.0623698539507015, -0.137321087216645, -0.145252621552562, -0.156468827585264, -3.92376845833686, -0.00132850493663976, 0.657270474620499, 0.151843474166171, -0.0894320092754303, 0.0412084326439945, 0.0304116011833345, 0.0290719754839368, -0.147371892034785, 0.0444807116066247, 0.190792674022075, -0.0326946813306596, 0.156931148038986, -0.0486050864981354, 0.0524571130721361, -0.0858511072098753, 0.14809141389101, -5.08219040207816, 0.0628218801024756, 1.52596136590445, 0.45996145325279, -0.512721479668772, -0.323911297059265, -0.0894778706707834, 0.581223258513876, -0.0266642263624298, 0.177509819757704, 0.156552675590723, -0.151399089487505, 0.141017244366611, -0.122770668157201, -0.142087622669499, 0.236535794797364, -0.166141963871846, -4.36559796532336, 0.0487969851025288, 1.15272813136375, -0.264930432976857, -0.124725981057195, -0.0800248900359162, 0.0345987066512636, -0.181804804037113, -0.191306176651629, 0.0841121190792332, 0.0452935506018942, -0.0822141744633745, 0.0953656332707194, 0.140959307474664, 0.0475437718714824, -0.0967659942027831, -0.0311238015840659, -4.88937252315098, -0.0213835346613118, 1.33199104276949, -0.577190606683592, 0.0586544499832331, -0.113088074826844, 0.171909594868169, -0.418998656619814, -0.279101763393202, -0.071516850169519, 0.00447267466079775, -0.00213270387314304, 0.161443234922097, 0.310596290253535, 0.174816057026392, -0.139484837788237, -0.0585891530387411, 4.78487001276975, 0.13225895515329, 0.520021139360844, 0.0833568873009291, -0.188310139794967, 0.245752501502707, 0.0168968720819952, -0.0744160114264094, -0.0352390644091898, 0.0436110864963823, 0.0358028350529464, -0.0100067500093976, 0.0491810506736191, -0.0674316769337136, -0.0290862813288152, 0.0700885478631649, 0.0382288431594646, 5.83316428220572, 0.122027284680666, 0.52816721159643, 0.00731603307283631, 0.0688368554541466, -0.000308488197666658, 0.0165784993872728, 0.0796365067795541, 0.0420108680791564, -0.0727364879892027, 0.0350400413907189, -0.0700162662504707, 0.00216357573482337, -0.063859275209752, 0.0569619512822255, -0.0412685918230713, -0.00428024657422955, 5.04787583988915, 0.0201578643432359, 0.537455539146042, -0.320856187797488, -0.24068334200711, 0.108142322070792, -0.123705148933454, -0.0715342355409094, -0.14092845240792, -0.00774322075264698, -0.107642713804089, 0.0615542684901669, 0.12584802464257, -0.0840699064619171, 0.0389467676297073, 0.158086874204694, 0.228897512615799, 6.15829482722915, -0.0115143510184211, 0.456837111185199, 0.163429648078222, 0.00246537304116541, 0.090458162729722, 0.0168079541245308, 0.0308969420134972, -0.0134093450465856, -0.082943380274922, 0.0226319295069158, -0.156385359369055, -0.00622542639911311, -0.106892831868964, -0.0612966285482818, -0.0906876368674912, -0.0768641186156236, 10.568823419999, 3.42670994443729, 0.399936993790564, 0.116276078633171, 0.465023754703205, 3.26110109479872, 4.11952273358476, 4.46653657091114, 6.25028701514501, 0.371823607782054, 0.46760664465364, 0.433511080183296, 0.519758595384752, 2.5485000366175, 4.8150875020772, 2.88419774050372, 6.00816085472489]</td>\n",
       "        <td>5.56679360449262</td>\n",
       "        <td>66</td>\n",
       "    </tr>\n",
       "</table>"
      ],
      "text/plain": [
       "[([5.25670584140862, 0.0018554548633512, 0.555347086831187, -0.106807655206207, -0.0424818047371426, -0.00841389621115055, -0.0284668640402652, -0.01734 ... (5427 characters truncated) ... 4501, 0.371823607782054, 0.46760664465364, 0.433511080183296, 0.519758595384752, 2.5485000366175, 4.8150875020772, 2.88419774050372, 6.00816085472489], 5.56679360449262, 66)]"
      ]
     },
     "execution_count": 44,
     "metadata": {},
     "output_type": "execute_result"
    }
   ],
   "source": [
    "%%sql\n",
    "DROP TABLE IF EXISTS sensors_mlp_model;\n",
    "DROP TABLE IF EXISTS sensors_mlp_model_standardization;\n",
    "\n",
    "SELECT madlib.mlp_regression(\n",
    "    'sensors_split_train',           -- source_table\n",
    "    'sensors_mlp_model',             -- out_table\n",
    "    'ARRAY[\n",
    "        1,\n",
    "        temperature,\n",
    "        humidity,pm25,\n",
    "        \"month_January\",\"month_February\",\"month_March\",\n",
    "        \"month_April\",\"month_May\",\"month_June\",\n",
    "        \"month_July\",\"month_August\",\"month_September\",\n",
    "        \"month_October\",\"month_November\",\"month_December\"]',       -- feature\n",
    "    'temperature_2',                 -- labels\n",
    "    ARRAY[16],                       -- hidden_layer_sizes\n",
    "    NULL,                            -- optimizer_params,\n",
    "    NULL,                            -- activation,\n",
    "    NULL,                            -- weights,\n",
    "    NULL,                            -- warm_start,\n",
    "    NULL,                            -- verbose,\n",
    "    NULL                             -- grouping_col\n",
    ");\n",
    "\n",
    "SELECT * FROM sensors_mlp_model;"
   ]
  },
  {
   "cell_type": "markdown",
   "id": "9b5699a8-6ed4-4e97-92d3-c3b4c9eb1706",
   "metadata": {},
   "source": [
    "Mean and Standard Deviation for normalizing inputs"
   ]
  },
  {
   "cell_type": "code",
   "execution_count": 45,
   "id": "abc0fcf0-0906-4ec8-9641-4d470c37e3ce",
   "metadata": {
    "execution": {
     "iopub.execute_input": "2021-10-08T03:43:35.949068Z",
     "iopub.status.busy": "2021-10-08T03:43:35.948891Z",
     "iopub.status.idle": "2021-10-08T03:43:35.957773Z",
     "shell.execute_reply": "2021-10-08T03:43:35.957230Z",
     "shell.execute_reply.started": "2021-10-08T03:43:35.949048Z"
    }
   },
   "outputs": [
    {
     "name": "stdout",
     "output_type": "stream",
     "text": [
      " * postgresql://gpadmin@192.168.133.128:32000/db\n",
      "1 rows affected.\n"
     ]
    },
    {
     "data": {
      "text/html": [
       "<table>\n",
       "    <tr>\n",
       "        <th>mean</th>\n",
       "        <th>std</th>\n",
       "    </tr>\n",
       "    <tr>\n",
       "        <td>[1.0, 31.9998097553222, 50.0239741963145, 94.9075849979093, 0.0834571428571429, 0.0749357142857143, 0.0828642857142857, 0.0829571428571429, 0.0856642857142857, 0.08265, 0.0859071428571429, 0.0862714285714286, 0.0828857142857143, 0.0848928571428571, 0.08215, 0.0853642857142857]</td>\n",
       "        <td>[1.0, 0.914811902321368, 14.998929047432, 15.2207529108662, 0.276571958382019, 0.26328758613008, 0.27567697739809, 0.275817431113631, 0.27986767563859, 0.275352460493819, 0.280226882477869, 0.280764437177634, 0.275709398920424, 0.278722191346472, 0.274593112623023, 0.279423020595611]</td>\n",
       "    </tr>\n",
       "</table>"
      ],
      "text/plain": [
       "[([1.0, 31.9998097553222, 50.0239741963145, 94.9075849979093, 0.0834571428571429, 0.0749357142857143, 0.0828642857142857, 0.0829571428571429, 0.0856642857142857, 0.08265, 0.0859071428571429, 0.0862714285714286, 0.0828857142857143, 0.0848928571428571, 0.08215, 0.0853642857142857], [1.0, 0.914811902321368, 14.998929047432, 15.2207529108662, 0.276571958382019, 0.26328758613008, 0.27567697739809, 0.275817431113631, 0.27986767563859, 0.275352460493819, 0.280226882477869, 0.280764437177634, 0.275709398920424, 0.278722191346472, 0.274593112623023, 0.279423020595611])]"
      ]
     },
     "execution_count": 45,
     "metadata": {},
     "output_type": "execute_result"
    }
   ],
   "source": [
    "%%sql\n",
    "\n",
    "SELECT * FROM sensors_mlp_model_standardization;"
   ]
  },
  {
   "cell_type": "code",
   "execution_count": 46,
   "id": "520a33ed-97fb-4448-8d64-6b841696a264",
   "metadata": {
    "execution": {
     "iopub.execute_input": "2021-10-08T03:43:35.958927Z",
     "iopub.status.busy": "2021-10-08T03:43:35.958644Z",
     "iopub.status.idle": "2021-10-08T03:43:39.928750Z",
     "shell.execute_reply": "2021-10-08T03:43:39.928107Z",
     "shell.execute_reply.started": "2021-10-08T03:43:35.958904Z"
    },
    "tags": []
   },
   "outputs": [
    {
     "name": "stdout",
     "output_type": "stream",
     "text": [
      " * postgresql://gpadmin@192.168.133.128:32000/db\n",
      "1 rows affected.\n"
     ]
    },
    {
     "data": {
      "text/html": [
       "<table>\n",
       "    <tr>\n",
       "        <th>mlp_predict</th>\n",
       "    </tr>\n",
       "    <tr>\n",
       "        <td></td>\n",
       "    </tr>\n",
       "</table>"
      ],
      "text/plain": [
       "[('',)]"
      ]
     },
     "execution_count": 46,
     "metadata": {},
     "output_type": "execute_result"
    }
   ],
   "source": [
    "%%sql\n",
    "SELECT \n",
    "    madlib.mlp_predict(\n",
    "        'sensors_mlp_model',\n",
    "        'sensors_split_test',\n",
    "        'ARRAY[\n",
    "            1,\n",
    "            temperature,\n",
    "            humidity,pm25,\n",
    "            \"month_January\",\"month_February\",\"month_March\",\n",
    "            \"month_April\",\"month_May\",\"month_June\",\n",
    "            \"month_July\",\"month_August\",\"month_September\",\n",
    "            \"month_October\",\"month_November\",\"month_December\"]',\n",
    "        'sensors_mlp_test_predict',\n",
    "        'response'\n",
    "    );"
   ]
  },
  {
   "cell_type": "code",
   "execution_count": 47,
   "id": "23af25da-7ce4-4082-9086-61fe05af56f8",
   "metadata": {
    "execution": {
     "iopub.execute_input": "2021-10-08T03:43:39.930282Z",
     "iopub.status.busy": "2021-10-08T03:43:39.930004Z",
     "iopub.status.idle": "2021-10-08T03:43:42.033821Z",
     "shell.execute_reply": "2021-10-08T03:43:42.033338Z",
     "shell.execute_reply.started": "2021-10-08T03:43:39.930253Z"
    },
    "tags": []
   },
   "outputs": [
    {
     "name": "stdout",
     "output_type": "stream",
     "text": [
      " * postgresql://gpadmin@192.168.133.128:32000/db\n",
      "Done.\n",
      "1 rows affected.\n",
      "5 rows affected.\n"
     ]
    },
    {
     "data": {
      "text/html": [
       "<table>\n",
       "    <tr>\n",
       "        <th>temperature_2</th>\n",
       "        <th>estimated_temperature_2</th>\n",
       "    </tr>\n",
       "    <tr>\n",
       "        <td>43.3934340393275</td>\n",
       "        <td>48.3204241580749</td>\n",
       "    </tr>\n",
       "    <tr>\n",
       "        <td>49.7321663797957</td>\n",
       "        <td>48.4934621436375</td>\n",
       "    </tr>\n",
       "    <tr>\n",
       "        <td>50.5813168067215</td>\n",
       "        <td>48.143796833076</td>\n",
       "    </tr>\n",
       "    <tr>\n",
       "        <td>41.163094159682</td>\n",
       "        <td>48.1279781773618</td>\n",
       "    </tr>\n",
       "    <tr>\n",
       "        <td>48.7028745951505</td>\n",
       "        <td>48.0704278050094</td>\n",
       "    </tr>\n",
       "</table>"
      ],
      "text/plain": [
       "[(43.3934340393275, 48.3204241580749),\n",
       " (49.7321663797957, 48.4934621436375),\n",
       " (50.5813168067215, 48.143796833076),\n",
       " (41.163094159682, 48.1279781773618),\n",
       " (48.7028745951505, 48.0704278050094)]"
      ]
     },
     "execution_count": 47,
     "metadata": {},
     "output_type": "execute_result"
    }
   ],
   "source": [
    "%%sql\n",
    "DROP TABLE IF EXISTS sensors_mlp_test_predict;\n",
    "\n",
    "SELECT \n",
    "    madlib.mlp_predict(\n",
    "        'sensors_mlp_model',\n",
    "        'sensors_split_test',\n",
    "        'temperature_2',\n",
    "        'sensors_mlp_test_predict',\n",
    "        'response'\n",
    "    );\n",
    "    \n",
    "SELECT * FROM sensors_mlp_test_predict LIMIT 5;"
   ]
  },
  {
   "cell_type": "code",
   "execution_count": 48,
   "id": "93e8f351-8201-4d56-b13e-0366f6990df5",
   "metadata": {
    "execution": {
     "iopub.execute_input": "2021-10-08T03:43:42.035042Z",
     "iopub.status.busy": "2021-10-08T03:43:42.034863Z",
     "iopub.status.idle": "2021-10-08T03:43:42.337024Z",
     "shell.execute_reply": "2021-10-08T03:43:42.336537Z",
     "shell.execute_reply.started": "2021-10-08T03:43:42.035021Z"
    },
    "tags": []
   },
   "outputs": [
    {
     "name": "stdout",
     "output_type": "stream",
     "text": [
      " * postgresql://gpadmin@192.168.133.128:32000/db\n",
      "Done.\n",
      "1 rows affected.\n",
      "1 rows affected.\n"
     ]
    },
    {
     "data": {
      "text/html": [
       "<table>\n",
       "    <tr>\n",
       "        <th>mean_squared_error</th>\n",
       "    </tr>\n",
       "    <tr>\n",
       "        <td>11.183961249727</td>\n",
       "    </tr>\n",
       "</table>"
      ],
      "text/plain": [
       "[(11.183961249727,)]"
      ]
     },
     "execution_count": 48,
     "metadata": {},
     "output_type": "execute_result"
    }
   ],
   "source": [
    "%%sql \n",
    "DROP TABLE IF EXISTS sensors_mlp_test_predict_mse;\n",
    "\n",
    "SELECT madlib.mean_squared_error(\n",
    "    'sensors_mlp_test_predict',      -- table_in\n",
    "    'sensors_mlp_test_predict_mse',  -- table_out\n",
    "    'estimated_temperature_2',  -- prediction\n",
    "    'temperature_2'  -- y_test\n",
    ");\n",
    "\n",
    "SELECT * FROM sensors_mlp_test_predict_mse;"
   ]
  },
  {
   "cell_type": "code",
   "execution_count": 49,
   "id": "44debf37-f0b1-43ef-b4a5-94e771ddcc8a",
   "metadata": {
    "execution": {
     "iopub.execute_input": "2021-10-08T03:43:42.338201Z",
     "iopub.status.busy": "2021-10-08T03:43:42.337952Z",
     "iopub.status.idle": "2021-10-08T03:43:42.349412Z",
     "shell.execute_reply": "2021-10-08T03:43:42.348846Z",
     "shell.execute_reply.started": "2021-10-08T03:43:42.338180Z"
    },
    "tags": []
   },
   "outputs": [
    {
     "name": "stdout",
     "output_type": "stream",
     "text": [
      " * postgresql://gpadmin@192.168.133.128:32000/db\n",
      "200 rows affected.\n"
     ]
    }
   ],
   "source": [
    "pred = %sql SELECT temperature_2 as y_test, estimated_temperature_2 as prediction FROM sensors_mlp_test_predict LIMIT 200;\n",
    "pred=pred.DataFrame()"
   ]
  },
  {
   "cell_type": "code",
   "execution_count": 50,
   "id": "58f2fc8b-240d-41d6-97f3-df15459a4c63",
   "metadata": {
    "execution": {
     "iopub.execute_input": "2021-10-08T03:43:42.350635Z",
     "iopub.status.busy": "2021-10-08T03:43:42.350395Z",
     "iopub.status.idle": "2021-10-08T03:43:42.703375Z",
     "shell.execute_reply": "2021-10-08T03:43:42.702551Z",
     "shell.execute_reply.started": "2021-10-08T03:43:42.350614Z"
    },
    "tags": []
   },
   "outputs": [
    {
     "data": {
      "image/png": "[encoded data removed]",
      "text/plain": [
       "<Figure size 720x360 with 1 Axes>"
      ]
     },
     "metadata": {
      "needs_background": "light"
     },
     "output_type": "display_data"
    }
   ],
   "source": [
    "sns.lmplot(x='prediction',y='y_test',data=pred,height=5,aspect=2)\n",
    "plt.title(\"MLP prediction , y_test scatterplot \") \n",
    "plt.ylim(30,70);"
   ]
  }
 ],
 "metadata": {
  "kernelspec": {
   "display_name": "Python 3",
   "language": "python",
   "name": "python3"
  },
  "language_info": {
   "codemirror_mode": {
    "name": "ipython",
    "version": 3
   },
   "file_extension": ".py",
   "mimetype": "text/x-python",
   "name": "python",
   "nbconvert_exporter": "python",
   "pygments_lexer": "ipython3",
   "version": "3.7.11"
  },
  "presto": {
   "id": "fae15e3e-a2ca-498d-a658-60e154fe1d65"
  }
 },
 "nbformat": 4,
 "nbformat_minor": 5
}
