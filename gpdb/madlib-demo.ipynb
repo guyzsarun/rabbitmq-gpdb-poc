{
 "cells": [
  {
   "cell_type": "markdown",
   "id": "81dce510-c17f-4e05-9d70-40b049404558",
   "metadata": {},
   "source": [
    "## MADlib Greenplum Demo\n",
    "---"
   ]
  },
  {
   "cell_type": "markdown",
   "id": "222f598c-5da6-4931-bd9e-9af36d1dc84d",
   "metadata": {},
   "source": [
    "### Import neccessary Data Science libraries"
   ]
  },
  {
   "cell_type": "code",
   "execution_count": 1,
   "id": "1fff5feb-54f5-4025-9dae-0ed5925c9fbe",
   "metadata": {
    "execution": {
     "iopub.execute_input": "2021-10-21T04:57:25.266401Z",
     "iopub.status.busy": "2021-10-21T04:57:25.266010Z",
     "iopub.status.idle": "2021-10-21T04:57:28.222454Z",
     "shell.execute_reply": "2021-10-21T04:57:28.221409Z",
     "shell.execute_reply.started": "2021-10-21T04:57:25.266297Z"
    },
    "tags": []
   },
   "outputs": [],
   "source": [
    "%matplotlib widget\n",
    "import warnings\n",
    "warnings.filterwarnings(\"ignore\")\n",
    "\n",
    "import ipywidgets as widgets\n",
    "import pandas as pd\n",
    "import numpy as np\n",
    "import seaborn as sns\n",
    "import matplotlib.pyplot as plt\n",
    "from sklearn.metrics import classification_report\n",
    "pd.set_option('display.max_columns', 200)"
   ]
  },
  {
   "cell_type": "markdown",
   "id": "09157fb2-2108-4d53-9353-aa3068b76918",
   "metadata": {},
   "source": [
    "Connect to Greenplum Database"
   ]
  },
  {
   "cell_type": "code",
   "execution_count": 2,
   "id": "45035b3a-0cc9-486f-aa0c-62908680f7e2",
   "metadata": {
    "execution": {
     "iopub.execute_input": "2021-10-21T04:57:28.225126Z",
     "iopub.status.busy": "2021-10-21T04:57:28.224831Z",
     "iopub.status.idle": "2021-10-21T04:57:28.538697Z",
     "shell.execute_reply": "2021-10-21T04:57:28.537692Z",
     "shell.execute_reply.started": "2021-10-21T04:57:28.225087Z"
    },
    "tags": []
   },
   "outputs": [],
   "source": [
    "%load_ext sql"
   ]
  },
  {
   "cell_type": "code",
   "execution_count": 3,
   "id": "a57ee55c-91f9-4427-b7f7-180b2c5d4aae",
   "metadata": {
    "execution": {
     "iopub.execute_input": "2021-10-21T04:57:28.541652Z",
     "iopub.status.busy": "2021-10-21T04:57:28.541350Z",
     "iopub.status.idle": "2021-10-21T04:57:32.176867Z",
     "shell.execute_reply": "2021-10-21T04:57:32.175713Z",
     "shell.execute_reply.started": "2021-10-21T04:57:28.541615Z"
    },
    "tags": []
   },
   "outputs": [
    {
     "name": "stdout",
     "output_type": "stream",
     "text": [
      "|----------------------|------------------------------------------------------|--------------|------------------------------|\n",
      "|      NAMESPACE       |                         NAME                         | TARGET PORT  |             URL              |\n",
      "|----------------------|------------------------------------------------------|--------------|------------------------------|\n",
      "| default              | agent                                                | No node port |\n",
      "| default              | greenplum                                            | psql/5432    | http://192.168.133.128:31763 |\n",
      "| default              | greenplum-validating-webhook-service-9d44d9fcf-g5blg | No node port |\n",
      "| default              | kubernetes                                           | No node port |\n",
      "| default              | my-greenplum-pl                                      | No node port |\n",
      "| default              | my-greenplum-pxf                                     | No node port |\n",
      "| kube-system          | kube-dns                                             | No node port |\n",
      "| kube-system          | metrics-server                                       | No node port |\n",
      "| kubernetes-dashboard | dashboard-metrics-scraper                            | No node port |\n",
      "| kubernetes-dashboard | kubernetes-dashboard                                 | No node port |\n",
      "|----------------------|------------------------------------------------------|--------------|------------------------------|\n"
     ]
    }
   ],
   "source": [
    "!minikube service list"
   ]
  },
  {
   "cell_type": "code",
   "execution_count": 4,
   "id": "f898f542-6fb9-4220-8ca2-a9ba6b452563",
   "metadata": {
    "execution": {
     "iopub.execute_input": "2021-10-21T04:57:32.179700Z",
     "iopub.status.busy": "2021-10-21T04:57:32.179361Z",
     "iopub.status.idle": "2021-10-21T04:57:32.455054Z",
     "shell.execute_reply": "2021-10-21T04:57:32.453809Z",
     "shell.execute_reply.started": "2021-10-21T04:57:32.179660Z"
    },
    "tags": []
   },
   "outputs": [
    {
     "name": "stdout",
     "output_type": "stream",
     "text": [
      " * postgresql://gpadmin@192.168.133.128:31763/db\n",
      "1 rows affected.\n"
     ]
    },
    {
     "data": {
      "text/html": [
       "<table>\n",
       "    <tr>\n",
       "        <th>version</th>\n",
       "    </tr>\n",
       "    <tr>\n",
       "        <td>PostgreSQL 9.4.24 (Greenplum Database 6.11.2 build commit:d611e78af2c5a6561ccbbaf2b4652138410f9aeb) on x86_64-unknown-linux-gnu, compiled by gcc (Ubuntu 7.5.0-3ubuntu1~18.04) 7.5.0, 64-bit compiled on Sep 30 2020 05:25:08</td>\n",
       "    </tr>\n",
       "</table>"
      ],
      "text/plain": [
       "[('PostgreSQL 9.4.24 (Greenplum Database 6.11.2 build commit:d611e78af2c5a6561ccbbaf2b4652138410f9aeb) on x86_64-unknown-linux-gnu, compiled by gcc (Ubuntu 7.5.0-3ubuntu1~18.04) 7.5.0, 64-bit compiled on Sep 30 2020 05:25:08',)]"
      ]
     },
     "execution_count": 4,
     "metadata": {},
     "output_type": "execute_result"
    }
   ],
   "source": [
    "%sql postgresql://gpadmin@192.168.133.128:31763/db\n",
    "\n",
    "        \n",
    "%sql SELECT version();"
   ]
  },
  {
   "cell_type": "markdown",
   "id": "dbde5ef6-811b-471d-9021-416f311d50ae",
   "metadata": {},
   "source": [
    "### Check Database Data"
   ]
  },
  {
   "cell_type": "code",
   "execution_count": 5,
   "id": "6cdd0301-7bb6-47dc-a688-56ba3df9920d",
   "metadata": {
    "execution": {
     "iopub.execute_input": "2021-10-21T04:51:56.222851Z",
     "iopub.status.busy": "2021-10-21T04:51:56.222545Z",
     "iopub.status.idle": "2021-10-21T04:51:56.453179Z",
     "shell.execute_reply": "2021-10-21T04:51:56.451858Z",
     "shell.execute_reply.started": "2021-10-21T04:51:56.222813Z"
    },
    "tags": []
   },
   "outputs": [
    {
     "name": "stdout",
     "output_type": "stream",
     "text": [
      " * postgresql://gpadmin@192.168.133.128:31763/db\n",
      "1 rows affected.\n"
     ]
    },
    {
     "data": {
      "text/html": [
       "<table>\n",
       "    <tr>\n",
       "        <th>num_sample</th>\n",
       "    </tr>\n",
       "    <tr>\n",
       "        <td>200000</td>\n",
       "    </tr>\n",
       "</table>"
      ],
      "text/plain": [
       "[(200000,)]"
      ]
     },
     "execution_count": 5,
     "metadata": {},
     "output_type": "execute_result"
    }
   ],
   "source": [
    "%%sql\n",
    "\n",
    "\n",
    "SELECT COUNT(*) AS num_sample FROM sensors;"
   ]
  },
  {
   "cell_type": "code",
   "execution_count": 6,
   "id": "f4efe7c1-ee80-4e96-85be-0deb6cf1d3e0",
   "metadata": {
    "execution": {
     "iopub.execute_input": "2021-10-21T04:51:56.891069Z",
     "iopub.status.busy": "2021-10-21T04:51:56.890771Z",
     "iopub.status.idle": "2021-10-21T04:51:56.907015Z",
     "shell.execute_reply": "2021-10-21T04:51:56.906060Z",
     "shell.execute_reply.started": "2021-10-21T04:51:56.891032Z"
    },
    "tags": []
   },
   "outputs": [
    {
     "name": "stdout",
     "output_type": "stream",
     "text": [
      " * postgresql://gpadmin@192.168.133.128:31763/db\n",
      "10 rows affected.\n"
     ]
    },
    {
     "data": {
      "text/html": [
       "<table>\n",
       "    <tr>\n",
       "        <th>timestamp</th>\n",
       "        <th>temperature</th>\n",
       "        <th>temperature_2</th>\n",
       "        <th>humidity</th>\n",
       "        <th>pm25</th>\n",
       "        <th>power</th>\n",
       "    </tr>\n",
       "    <tr>\n",
       "        <td>1997-03-22 00:00:00</td>\n",
       "        <td>30.3733285100443</td>\n",
       "        <td>20.1327062735142</td>\n",
       "        <td>40.9939663916248</td>\n",
       "        <td>75.6570296541207</td>\n",
       "        <td>79.2376084600628</td>\n",
       "    </tr>\n",
       "    <tr>\n",
       "        <td>1997-03-22 04:00:00</td>\n",
       "        <td>31.1390358048566</td>\n",
       "        <td>19.3834427364218</td>\n",
       "        <td>72.0293369088366</td>\n",
       "        <td>99.2363478747728</td>\n",
       "        <td>81.9934738749788</td>\n",
       "    </tr>\n",
       "    <tr>\n",
       "        <td>1997-03-22 12:00:00</td>\n",
       "        <td>31.0539896532603</td>\n",
       "        <td>20.1146776773216</td>\n",
       "        <td>38.7371123931123</td>\n",
       "        <td>100.09556336919</td>\n",
       "        <td>81.2337775166942</td>\n",
       "    </tr>\n",
       "    <tr>\n",
       "        <td>1997-03-22 20:00:00</td>\n",
       "        <td>30.4806520086319</td>\n",
       "        <td>17.8042273659114</td>\n",
       "        <td>66.9106117804592</td>\n",
       "        <td>82.7545822592374</td>\n",
       "        <td>80.7865522998237</td>\n",
       "    </tr>\n",
       "    <tr>\n",
       "        <td>1997-03-22 21:00:00</td>\n",
       "        <td>32.0421887360757</td>\n",
       "        <td>22.9590346938833</td>\n",
       "        <td>37.8401751293914</td>\n",
       "        <td>64.3506645116534</td>\n",
       "        <td>82.721375987236</td>\n",
       "    </tr>\n",
       "    <tr>\n",
       "        <td>1997-03-22 22:00:00</td>\n",
       "        <td>30.2217121396967</td>\n",
       "        <td>18.2104861893553</td>\n",
       "        <td>66.1393030829025</td>\n",
       "        <td>74.0452119921898</td>\n",
       "        <td>80.4542534492917</td>\n",
       "    </tr>\n",
       "    <tr>\n",
       "        <td>1997-03-23 04:00:00</td>\n",
       "        <td>30.3267772205816</td>\n",
       "        <td>21.4198136930423</td>\n",
       "        <td>83.2131758997803</td>\n",
       "        <td>94.4194997941689</td>\n",
       "        <td>81.571985570723</td>\n",
       "    </tr>\n",
       "    <tr>\n",
       "        <td>1997-03-23 06:00:00</td>\n",
       "        <td>30.5542410381993</td>\n",
       "        <td>18.1767606171194</td>\n",
       "        <td>84.428734430421</td>\n",
       "        <td>79.8991177640318</td>\n",
       "        <td>80.5701024214691</td>\n",
       "    </tr>\n",
       "    <tr>\n",
       "        <td>1997-03-23 08:00:00</td>\n",
       "        <td>32.3473553409974</td>\n",
       "        <td>24.7006231518318</td>\n",
       "        <td>35.4073119063599</td>\n",
       "        <td>99.2409396719308</td>\n",
       "        <td>83.6959576709462</td>\n",
       "    </tr>\n",
       "    <tr>\n",
       "        <td>1997-03-23 12:00:00</td>\n",
       "        <td>30.1223741275479</td>\n",
       "        <td>15.0417207552859</td>\n",
       "        <td>52.3561308878624</td>\n",
       "        <td>104.561361971205</td>\n",
       "        <td>80.3069776049207</td>\n",
       "    </tr>\n",
       "</table>"
      ],
      "text/plain": [
       "[(datetime.datetime(1997, 3, 22, 0, 0), 30.3733285100443, 20.1327062735142, 40.9939663916248, 75.6570296541207, 79.2376084600628),\n",
       " (datetime.datetime(1997, 3, 22, 4, 0), 31.1390358048566, 19.3834427364218, 72.0293369088366, 99.2363478747728, 81.9934738749788),\n",
       " (datetime.datetime(1997, 3, 22, 12, 0), 31.0539896532603, 20.1146776773216, 38.7371123931123, 100.09556336919, 81.2337775166942),\n",
       " (datetime.datetime(1997, 3, 22, 20, 0), 30.4806520086319, 17.8042273659114, 66.9106117804592, 82.7545822592374, 80.7865522998237),\n",
       " (datetime.datetime(1997, 3, 22, 21, 0), 32.0421887360757, 22.9590346938833, 37.8401751293914, 64.3506645116534, 82.721375987236),\n",
       " (datetime.datetime(1997, 3, 22, 22, 0), 30.2217121396967, 18.2104861893553, 66.1393030829025, 74.0452119921898, 80.4542534492917),\n",
       " (datetime.datetime(1997, 3, 23, 4, 0), 30.3267772205816, 21.4198136930423, 83.2131758997803, 94.4194997941689, 81.571985570723),\n",
       " (datetime.datetime(1997, 3, 23, 6, 0), 30.5542410381993, 18.1767606171194, 84.428734430421, 79.8991177640318, 80.5701024214691),\n",
       " (datetime.datetime(1997, 3, 23, 8, 0), 32.3473553409974, 24.7006231518318, 35.4073119063599, 99.2409396719308, 83.6959576709462),\n",
       " (datetime.datetime(1997, 3, 23, 12, 0), 30.1223741275479, 15.0417207552859, 52.3561308878624, 104.561361971205, 80.3069776049207)]"
      ]
     },
     "execution_count": 6,
     "metadata": {},
     "output_type": "execute_result"
    }
   ],
   "source": [
    "%%sql\n",
    "\n",
    "SELECT * FROM sensors LIMIT 10;"
   ]
  },
  {
   "cell_type": "code",
   "execution_count": 7,
   "id": "9bb8da4d-fecb-42a7-a95d-d940f34ac9e6",
   "metadata": {
    "execution": {
     "iopub.execute_input": "2021-10-21T04:51:57.432264Z",
     "iopub.status.busy": "2021-10-21T04:51:57.431963Z",
     "iopub.status.idle": "2021-10-21T04:51:57.464897Z",
     "shell.execute_reply": "2021-10-21T04:51:57.463944Z",
     "shell.execute_reply.started": "2021-10-21T04:51:57.432227Z"
    },
    "tags": []
   },
   "outputs": [
    {
     "name": "stdout",
     "output_type": "stream",
     "text": [
      " * postgresql://gpadmin@192.168.133.128:31763/db\n",
      "1000 rows affected.\n"
     ]
    }
   ],
   "source": [
    "sensors = %sql SELECT * FROM sensors LIMIT 1000;\n",
    "sensors = sensors.DataFrame()"
   ]
  },
  {
   "cell_type": "code",
   "execution_count": 8,
   "id": "254f263a-64c7-4966-8896-109281f26540",
   "metadata": {
    "execution": {
     "iopub.execute_input": "2021-10-21T04:51:58.506440Z",
     "iopub.status.busy": "2021-10-21T04:51:58.506137Z",
     "iopub.status.idle": "2021-10-21T04:51:58.535502Z",
     "shell.execute_reply": "2021-10-21T04:51:58.534537Z",
     "shell.execute_reply.started": "2021-10-21T04:51:58.506404Z"
    },
    "tags": []
   },
   "outputs": [
    {
     "name": "stdout",
     "output_type": "stream",
     "text": [
      "<class 'pandas.core.frame.DataFrame'>\n",
      "RangeIndex: 1000 entries, 0 to 999\n",
      "Data columns (total 6 columns):\n",
      " #   Column         Non-Null Count  Dtype         \n",
      "---  ------         --------------  -----         \n",
      " 0   timestamp      1000 non-null   datetime64[ns]\n",
      " 1   temperature    1000 non-null   float64       \n",
      " 2   temperature_2  1000 non-null   float64       \n",
      " 3   humidity       1000 non-null   float64       \n",
      " 4   pm25           1000 non-null   float64       \n",
      " 5   power          1000 non-null   float64       \n",
      "dtypes: datetime64[ns](1), float64(5)\n",
      "memory usage: 47.0 KB\n"
     ]
    }
   ],
   "source": [
    "sensors.info()"
   ]
  },
  {
   "cell_type": "code",
   "execution_count": 9,
   "id": "142926cb-b255-4e76-a28b-5d38b8b6e9c1",
   "metadata": {
    "execution": {
     "iopub.execute_input": "2021-10-21T04:51:59.278816Z",
     "iopub.status.busy": "2021-10-21T04:51:59.278495Z",
     "iopub.status.idle": "2021-10-21T04:51:59.320650Z",
     "shell.execute_reply": "2021-10-21T04:51:59.319531Z",
     "shell.execute_reply.started": "2021-10-21T04:51:59.278778Z"
    },
    "tags": []
   },
   "outputs": [
    {
     "data": {
      "text/html": [
       "<div>\n",
       "<style scoped>\n",
       "    .dataframe tbody tr th:only-of-type {\n",
       "        vertical-align: middle;\n",
       "    }\n",
       "\n",
       "    .dataframe tbody tr th {\n",
       "        vertical-align: top;\n",
       "    }\n",
       "\n",
       "    .dataframe thead th {\n",
       "        text-align: right;\n",
       "    }\n",
       "</style>\n",
       "<table border=\"1\" class=\"dataframe\">\n",
       "  <thead>\n",
       "    <tr style=\"text-align: right;\">\n",
       "      <th></th>\n",
       "      <th>temperature</th>\n",
       "      <th>temperature_2</th>\n",
       "      <th>humidity</th>\n",
       "      <th>pm25</th>\n",
       "      <th>power</th>\n",
       "    </tr>\n",
       "  </thead>\n",
       "  <tbody>\n",
       "    <tr>\n",
       "      <th>count</th>\n",
       "      <td>1000.000000</td>\n",
       "      <td>1000.000000</td>\n",
       "      <td>1000.000000</td>\n",
       "      <td>1000.000000</td>\n",
       "      <td>1000.000000</td>\n",
       "    </tr>\n",
       "    <tr>\n",
       "      <th>mean</th>\n",
       "      <td>31.490434</td>\n",
       "      <td>21.533413</td>\n",
       "      <td>49.106033</td>\n",
       "      <td>90.382340</td>\n",
       "      <td>81.490517</td>\n",
       "    </tr>\n",
       "    <tr>\n",
       "      <th>std</th>\n",
       "      <td>0.844865</td>\n",
       "      <td>3.061381</td>\n",
       "      <td>15.053298</td>\n",
       "      <td>14.701890</td>\n",
       "      <td>1.303399</td>\n",
       "    </tr>\n",
       "    <tr>\n",
       "      <th>min</th>\n",
       "      <td>30.011550</td>\n",
       "      <td>11.675146</td>\n",
       "      <td>-1.973616</td>\n",
       "      <td>19.317970</td>\n",
       "      <td>77.898125</td>\n",
       "    </tr>\n",
       "    <tr>\n",
       "      <th>25%</th>\n",
       "      <td>30.812049</td>\n",
       "      <td>19.373953</td>\n",
       "      <td>39.355009</td>\n",
       "      <td>80.773079</td>\n",
       "      <td>80.618084</td>\n",
       "    </tr>\n",
       "    <tr>\n",
       "      <th>50%</th>\n",
       "      <td>31.496767</td>\n",
       "      <td>21.463760</td>\n",
       "      <td>49.177646</td>\n",
       "      <td>90.243719</td>\n",
       "      <td>81.483882</td>\n",
       "    </tr>\n",
       "    <tr>\n",
       "      <th>75%</th>\n",
       "      <td>32.198091</td>\n",
       "      <td>23.625158</td>\n",
       "      <td>58.668813</td>\n",
       "      <td>100.238206</td>\n",
       "      <td>82.404600</td>\n",
       "    </tr>\n",
       "    <tr>\n",
       "      <th>max</th>\n",
       "      <td>33.000002</td>\n",
       "      <td>30.671453</td>\n",
       "      <td>97.663671</td>\n",
       "      <td>145.494112</td>\n",
       "      <td>85.318537</td>\n",
       "    </tr>\n",
       "  </tbody>\n",
       "</table>\n",
       "</div>"
      ],
      "text/plain": [
       "       temperature  temperature_2     humidity         pm25        power\n",
       "count  1000.000000    1000.000000  1000.000000  1000.000000  1000.000000\n",
       "mean     31.490434      21.533413    49.106033    90.382340    81.490517\n",
       "std       0.844865       3.061381    15.053298    14.701890     1.303399\n",
       "min      30.011550      11.675146    -1.973616    19.317970    77.898125\n",
       "25%      30.812049      19.373953    39.355009    80.773079    80.618084\n",
       "50%      31.496767      21.463760    49.177646    90.243719    81.483882\n",
       "75%      32.198091      23.625158    58.668813   100.238206    82.404600\n",
       "max      33.000002      30.671453    97.663671   145.494112    85.318537"
      ]
     },
     "execution_count": 9,
     "metadata": {},
     "output_type": "execute_result"
    }
   ],
   "source": [
    "sensors.describe()"
   ]
  },
  {
   "cell_type": "code",
   "execution_count": 10,
   "id": "5045f55d-2674-4817-8ae5-1693ce942455",
   "metadata": {
    "execution": {
     "iopub.execute_input": "2021-10-21T04:51:59.891565Z",
     "iopub.status.busy": "2021-10-21T04:51:59.891276Z",
     "iopub.status.idle": "2021-10-21T04:52:00.219099Z",
     "shell.execute_reply": "2021-10-21T04:52:00.218255Z",
     "shell.execute_reply.started": "2021-10-21T04:51:59.891530Z"
    },
    "presto": {
     "id": "70614908-a37d-4742-aeaa-1d42c5d2a99b"
    },
    "tags": []
   },
   "outputs": [
    {
     "data": {
      "application/vnd.jupyter.widget-view+json": {
       "model_id": "aaf98a9ed93c4358b4126c55feaecb4c",
       "version_major": 2,
       "version_minor": 0
      },
      "image/png": "[encoded data removed]",
      "text/plain": [
       "Canvas(toolbar=Toolbar(toolitems=[('Home', 'Reset original view', 'home', 'home'), ('Back', 'Back to previous …"
      ]
     },
     "metadata": {},
     "output_type": "display_data"
    }
   ],
   "source": [
    "plt.figure(figsize=(7,4))\n",
    "sns.distplot(sensors['humidity'],bins=60);\n",
    "plt.title(\"Humidity Distribution\")\n",
    "plt.axvline(x=sensors['humidity'].mean(),color='red',ls='--',lw=2)\n",
    "plt.text(sensors['humidity'].mean()+3,0.03, \"mean\", fontsize=10,c='red');"
   ]
  },
  {
   "cell_type": "markdown",
   "id": "ad732e2e-9c8a-4c57-8a14-61809dd08a66",
   "metadata": {
    "execution": {
     "iopub.execute_input": "2021-10-04T10:27:18.637092Z",
     "iopub.status.busy": "2021-10-04T10:27:18.636846Z",
     "iopub.status.idle": "2021-10-04T10:27:18.639478Z",
     "shell.execute_reply": "2021-10-04T10:27:18.638867Z",
     "shell.execute_reply.started": "2021-10-04T10:27:18.637067Z"
    }
   },
   "source": [
    "### EDA"
   ]
  },
  {
   "cell_type": "code",
   "execution_count": 11,
   "id": "931aaab8-f2ee-469e-893b-a0ab766d2993",
   "metadata": {
    "execution": {
     "iopub.execute_input": "2021-10-21T04:52:03.230567Z",
     "iopub.status.busy": "2021-10-21T04:52:03.230285Z",
     "iopub.status.idle": "2021-10-21T04:52:33.849425Z",
     "shell.execute_reply": "2021-10-21T04:52:33.848631Z",
     "shell.execute_reply.started": "2021-10-21T04:52:03.230533Z"
    },
    "tags": []
   },
   "outputs": [
    {
     "name": "stdout",
     "output_type": "stream",
     "text": [
      " * postgresql://gpadmin@192.168.133.128:31763/db\n",
      "Done.\n",
      "1 rows affected.\n",
      "5 rows affected.\n"
     ]
    },
    {
     "data": {
      "text/html": [
       "<table>\n",
       "    <tr>\n",
       "        <th>group_by</th>\n",
       "        <th>group_by_value</th>\n",
       "        <th>target_column</th>\n",
       "        <th>column_number</th>\n",
       "        <th>data_type</th>\n",
       "        <th>row_count</th>\n",
       "        <th>distinct_values</th>\n",
       "        <th>missing_values</th>\n",
       "        <th>blank_values</th>\n",
       "        <th>fraction_missing</th>\n",
       "        <th>fraction_blank</th>\n",
       "        <th>positive_values</th>\n",
       "        <th>negative_values</th>\n",
       "        <th>zero_values</th>\n",
       "        <th>mean</th>\n",
       "        <th>variance</th>\n",
       "        <th>confidence_interval</th>\n",
       "        <th>min</th>\n",
       "        <th>max</th>\n",
       "        <th>first_quartile</th>\n",
       "        <th>median</th>\n",
       "        <th>third_quartile</th>\n",
       "        <th>most_frequent_values</th>\n",
       "        <th>mfv_frequencies</th>\n",
       "    </tr>\n",
       "    <tr>\n",
       "        <td>None</td>\n",
       "        <td>None</td>\n",
       "        <td>&quot;timestamp&quot;</td>\n",
       "        <td>1</td>\n",
       "        <td>timestamp</td>\n",
       "        <td>200000</td>\n",
       "        <td>200000</td>\n",
       "        <td>0</td>\n",
       "        <td>None</td>\n",
       "        <td>0.0</td>\n",
       "        <td>None</td>\n",
       "        <td>None</td>\n",
       "        <td>None</td>\n",
       "        <td>None</td>\n",
       "        <td>None</td>\n",
       "        <td>None</td>\n",
       "        <td>None</td>\n",
       "        <td>None</td>\n",
       "        <td>None</td>\n",
       "        <td>None</td>\n",
       "        <td>None</td>\n",
       "        <td>None</td>\n",
       "        <td>[&#x27;2019-07-25 11:00:00&#x27;, &#x27;2019-12-01 19:00:00&#x27;, &#x27;2019-11-03 16:00:00&#x27;, &#x27;2019-11-23 21:00:00&#x27;, &#x27;2019-11-26 21:00:00&#x27;, &#x27;2019-12-21 14:00:00&#x27;, &#x27;2020-01-03 09:00:00&#x27;, &#x27;2019-11-30 16:00:00&#x27;, &#x27;2019-12-15 03:00:00&#x27;, &#x27;2019-11-05 15:00:00&#x27;]</td>\n",
       "        <td>[202, 201, 197, 196, 196, 196, 196, 195, 194, 193]</td>\n",
       "    </tr>\n",
       "    <tr>\n",
       "        <td>None</td>\n",
       "        <td>None</td>\n",
       "        <td>temperature</td>\n",
       "        <td>2</td>\n",
       "        <td>float8</td>\n",
       "        <td>200000</td>\n",
       "        <td>200000</td>\n",
       "        <td>0</td>\n",
       "        <td>None</td>\n",
       "        <td>0.0</td>\n",
       "        <td>None</td>\n",
       "        <td>200000</td>\n",
       "        <td>0</td>\n",
       "        <td>0</td>\n",
       "        <td>31.9994438435051</td>\n",
       "        <td>0.835176191508497</td>\n",
       "        <td>[31.9954385889206, 32.0034490980896]</td>\n",
       "        <td>30.0085192011215</td>\n",
       "        <td>33.9926017682613</td>\n",
       "        <td>31.248024547442</td>\n",
       "        <td>31.9996683150071</td>\n",
       "        <td>32.7513196733315</td>\n",
       "        <td>[&#x27;31.0683580020357&#x27;, &#x27;33.4404620759702&#x27;, &#x27;31.8518097624841&#x27;, &#x27;31.2395736874273&#x27;, &#x27;31.9234761480272&#x27;, &#x27;32.0675598337636&#x27;, &#x27;31.97603187997&#x27;, &#x27;32.3415347390407&#x27;, &#x27;32.3491637421575&#x27;, &#x27;32.0691435925339&#x27;]</td>\n",
       "        <td>[199, 199, 197, 197, 196, 196, 196, 194, 194, 194]</td>\n",
       "    </tr>\n",
       "    <tr>\n",
       "        <td>None</td>\n",
       "        <td>None</td>\n",
       "        <td>temperature_2</td>\n",
       "        <td>3</td>\n",
       "        <td>float8</td>\n",
       "        <td>200000</td>\n",
       "        <td>200000</td>\n",
       "        <td>0</td>\n",
       "        <td>None</td>\n",
       "        <td>0.0</td>\n",
       "        <td>None</td>\n",
       "        <td>200000</td>\n",
       "        <td>0</td>\n",
       "        <td>0</td>\n",
       "        <td>22.0030086462794</td>\n",
       "        <td>9.79313103261346</td>\n",
       "        <td>[21.9892934553994, 22.0167238371594]</td>\n",
       "        <td>8.32724560294716</td>\n",
       "        <td>34.9790124846522</td>\n",
       "        <td>19.8896251104618</td>\n",
       "        <td>22.0010609443494</td>\n",
       "        <td>24.1215342578232</td>\n",
       "        <td>[&#x27;22.1431605091335&#x27;, &#x27;21.9380489045486&#x27;, &#x27;29.1471550234506&#x27;, &#x27;25.3930850020541&#x27;, &#x27;23.2334402542426&#x27;, &#x27;23.3876663610782&#x27;, &#x27;22.976330578986&#x27;, &#x27;24.0853496925504&#x27;, &#x27;20.1191750370896&#x27;, &#x27;28.3660277203641&#x27;]</td>\n",
       "        <td>[199, 198, 197, 196, 196, 196, 196, 196, 196, 194]</td>\n",
       "    </tr>\n",
       "    <tr>\n",
       "        <td>None</td>\n",
       "        <td>None</td>\n",
       "        <td>humidity</td>\n",
       "        <td>4</td>\n",
       "        <td>float8</td>\n",
       "        <td>200000</td>\n",
       "        <td>200000</td>\n",
       "        <td>0</td>\n",
       "        <td>None</td>\n",
       "        <td>0.0</td>\n",
       "        <td>None</td>\n",
       "        <td>199909</td>\n",
       "        <td>91</td>\n",
       "        <td>0</td>\n",
       "        <td>50.0588710595491</td>\n",
       "        <td>225.421211109302</td>\n",
       "        <td>[49.9930691551467, 50.1246729639516]</td>\n",
       "        <td>-17.5453267914932</td>\n",
       "        <td>111.003068656498</td>\n",
       "        <td>39.9191118821827</td>\n",
       "        <td>50.0933664649507</td>\n",
       "        <td>60.146228924528</td>\n",
       "        <td>[&#x27;40.375832605838&#x27;, &#x27;54.705504582343&#x27;, &#x27;22.9490141454464&#x27;, &#x27;6.38816610085583&#x27;, &#x27;85.8922776570054&#x27;, &#x27;42.8604065548924&#x27;, &#x27;69.4715691749291&#x27;, &#x27;28.3485889328397&#x27;, &#x27;48.8907605673007&#x27;, &#x27;50.2516734047911&#x27;]</td>\n",
       "        <td>[202, 199, 197, 196, 195, 195, 195, 194, 193, 193]</td>\n",
       "    </tr>\n",
       "    <tr>\n",
       "        <td>None</td>\n",
       "        <td>None</td>\n",
       "        <td>pm25</td>\n",
       "        <td>5</td>\n",
       "        <td>float8</td>\n",
       "        <td>200000</td>\n",
       "        <td>200000</td>\n",
       "        <td>0</td>\n",
       "        <td>None</td>\n",
       "        <td>0.0</td>\n",
       "        <td>None</td>\n",
       "        <td>200000</td>\n",
       "        <td>0</td>\n",
       "        <td>0</td>\n",
       "        <td>95.0044919965079</td>\n",
       "        <td>233.936386396054</td>\n",
       "        <td>[94.937458794959, 95.0715251980568]</td>\n",
       "        <td>19.3179702262465</td>\n",
       "        <td>168.412207316374</td>\n",
       "        <td>84.675736948759</td>\n",
       "        <td>95.0613261494482</td>\n",
       "        <td>105.313532682962</td>\n",
       "        <td>[&#x27;112.829199358041&#x27;, &#x27;115.366822392534&#x27;, &#x27;88.8385931658365&#x27;, &#x27;104.74571223451&#x27;, &#x27;107.951432952585&#x27;, &#x27;73.3502768986271&#x27;, &#x27;83.3066521223068&#x27;, &#x27;108.927436418334&#x27;, &#x27;104.339885274386&#x27;, &#x27;79.4074759618029&#x27;]</td>\n",
       "        <td>[199, 199, 198, 197, 197, 196, 195, 195, 195, 195]</td>\n",
       "    </tr>\n",
       "</table>"
      ],
      "text/plain": [
       "[(None, None, '\"timestamp\"', 1, 'timestamp', 200000, 200000, 0, None, 0.0, None, None, None, None, None, None, None, None, None, None, None, None, ['2019-07-25 11:00:00', '2019-12-01 19:00:00', '2019-11-03 16:00:00', '2019-11-23 21:00:00', '2019-11-26 21:00:00', '2019-12-21 14:00:00', '2020-01-03 09:00:00', '2019-11-30 16:00:00', '2019-12-15 03:00:00', '2019-11-05 15:00:00'], [202, 201, 197, 196, 196, 196, 196, 195, 194, 193]),\n",
       " (None, None, 'temperature', 2, 'float8', 200000, 200000, 0, None, 0.0, None, 200000, 0, 0, 31.9994438435051, 0.835176191508497, [31.9954385889206, 32.0034490980896], 30.0085192011215, 33.9926017682613, 31.248024547442, 31.9996683150071, 32.7513196733315, ['31.0683580020357', '33.4404620759702', '31.8518097624841', '31.2395736874273', '31.9234761480272', '32.0675598337636', '31.97603187997', '32.3415347390407', '32.3491637421575', '32.0691435925339'], [199, 199, 197, 197, 196, 196, 196, 194, 194, 194]),\n",
       " (None, None, 'temperature_2', 3, 'float8', 200000, 200000, 0, None, 0.0, None, 200000, 0, 0, 22.0030086462794, 9.79313103261346, [21.9892934553994, 22.0167238371594], 8.32724560294716, 34.9790124846522, 19.8896251104618, 22.0010609443494, 24.1215342578232, ['22.1431605091335', '21.9380489045486', '29.1471550234506', '25.3930850020541', '23.2334402542426', '23.3876663610782', '22.976330578986', '24.0853496925504', '20.1191750370896', '28.3660277203641'], [199, 198, 197, 196, 196, 196, 196, 196, 196, 194]),\n",
       " (None, None, 'humidity', 4, 'float8', 200000, 200000, 0, None, 0.0, None, 199909, 91, 0, 50.0588710595491, 225.421211109302, [49.9930691551467, 50.1246729639516], -17.5453267914932, 111.003068656498, 39.9191118821827, 50.0933664649507, 60.146228924528, ['40.375832605838', '54.705504582343', '22.9490141454464', '6.38816610085583', '85.8922776570054', '42.8604065548924', '69.4715691749291', '28.3485889328397', '48.8907605673007', '50.2516734047911'], [202, 199, 197, 196, 195, 195, 195, 194, 193, 193]),\n",
       " (None, None, 'pm25', 5, 'float8', 200000, 200000, 0, None, 0.0, None, 200000, 0, 0, 95.0044919965079, 233.936386396054, [94.937458794959, 95.0715251980568], 19.3179702262465, 168.412207316374, 84.675736948759, 95.0613261494482, 105.313532682962, ['112.829199358041', '115.366822392534', '88.8385931658365', '104.74571223451', '107.951432952585', '73.3502768986271', '83.3066521223068', '108.927436418334', '104.339885274386', '79.4074759618029'], [199, 199, 198, 197, 197, 196, 195, 195, 195, 195])]"
      ]
     },
     "execution_count": 11,
     "metadata": {},
     "output_type": "execute_result"
    }
   ],
   "source": [
    "%%sql\n",
    "DROP TABLE IF EXISTS sensors_summary ;\n",
    "SELECT madlib.summary (\n",
    "    'sensors',  -- source_table\n",
    "    'sensors_summary',  -- output_table\n",
    "    NULL,  -- target_cols\n",
    "    NULL,  -- grouping_cols\n",
    "    TRUE,  -- get_distinct\n",
    "    TRUE,  -- get_quartiles\n",
    "    NULL,  -- quantile_array\n",
    "    10,    -- how_many_mfv\n",
    "    FALSE  -- get_estimate\n",
    ");\n",
    "\n",
    "SELECT * FROM sensors_summary LIMIT 5;"
   ]
  },
  {
   "cell_type": "code",
   "execution_count": 12,
   "id": "bbccdb9b-e93a-4ed8-b8b3-dbf2b037b113",
   "metadata": {
    "execution": {
     "iopub.execute_input": "2021-10-21T04:53:37.092250Z",
     "iopub.status.busy": "2021-10-21T04:53:37.091810Z",
     "iopub.status.idle": "2021-10-21T04:53:37.873745Z",
     "shell.execute_reply": "2021-10-21T04:53:37.872719Z",
     "shell.execute_reply.started": "2021-10-21T04:53:37.092192Z"
    },
    "tags": []
   },
   "outputs": [
    {
     "name": "stdout",
     "output_type": "stream",
     "text": [
      " * postgresql://gpadmin@192.168.133.128:31763/db\n",
      "Done.\n",
      "Done.\n",
      "275 rows affected.\n",
      "20 rows affected.\n"
     ]
    },
    {
     "data": {
      "text/html": [
       "<table>\n",
       "    <tr>\n",
       "        <th>year</th>\n",
       "        <th>month</th>\n",
       "        <th>average_month_temperature</th>\n",
       "        <th>average_pm25</th>\n",
       "    </tr>\n",
       "    <tr>\n",
       "        <td>1997</td>\n",
       "        <td>3</td>\n",
       "        <td>31.4559509850083</td>\n",
       "        <td>91.1023284355867</td>\n",
       "    </tr>\n",
       "    <tr>\n",
       "        <td>1997</td>\n",
       "        <td>4</td>\n",
       "        <td>31.5075033968338</td>\n",
       "        <td>90.6496098287342</td>\n",
       "    </tr>\n",
       "    <tr>\n",
       "        <td>1997</td>\n",
       "        <td>5</td>\n",
       "        <td>31.5207432060795</td>\n",
       "        <td>88.7473181913066</td>\n",
       "    </tr>\n",
       "    <tr>\n",
       "        <td>1997</td>\n",
       "        <td>6</td>\n",
       "        <td>31.5498940661343</td>\n",
       "        <td>90.9763516211691</td>\n",
       "    </tr>\n",
       "    <tr>\n",
       "        <td>1997</td>\n",
       "        <td>7</td>\n",
       "        <td>31.5291402561777</td>\n",
       "        <td>90.2565569549733</td>\n",
       "    </tr>\n",
       "    <tr>\n",
       "        <td>1997</td>\n",
       "        <td>8</td>\n",
       "        <td>31.5099525488341</td>\n",
       "        <td>90.4449744791927</td>\n",
       "    </tr>\n",
       "    <tr>\n",
       "        <td>1997</td>\n",
       "        <td>9</td>\n",
       "        <td>31.5185634723824</td>\n",
       "        <td>89.7623233162467</td>\n",
       "    </tr>\n",
       "    <tr>\n",
       "        <td>1997</td>\n",
       "        <td>10</td>\n",
       "        <td>31.5014701004176</td>\n",
       "        <td>89.9192611233986</td>\n",
       "    </tr>\n",
       "    <tr>\n",
       "        <td>1997</td>\n",
       "        <td>11</td>\n",
       "        <td>31.5122468845025</td>\n",
       "        <td>90.3006817897654</td>\n",
       "    </tr>\n",
       "    <tr>\n",
       "        <td>1997</td>\n",
       "        <td>12</td>\n",
       "        <td>31.5671164373427</td>\n",
       "        <td>89.8338242354544</td>\n",
       "    </tr>\n",
       "    <tr>\n",
       "        <td>1998</td>\n",
       "        <td>1</td>\n",
       "        <td>31.5007588524557</td>\n",
       "        <td>89.754878842436</td>\n",
       "    </tr>\n",
       "    <tr>\n",
       "        <td>1998</td>\n",
       "        <td>2</td>\n",
       "        <td>31.5517930142802</td>\n",
       "        <td>90.8588176375825</td>\n",
       "    </tr>\n",
       "    <tr>\n",
       "        <td>1998</td>\n",
       "        <td>3</td>\n",
       "        <td>31.5551900520588</td>\n",
       "        <td>89.7889055991515</td>\n",
       "    </tr>\n",
       "    <tr>\n",
       "        <td>1998</td>\n",
       "        <td>4</td>\n",
       "        <td>31.5222388620431</td>\n",
       "        <td>90.3089198676879</td>\n",
       "    </tr>\n",
       "    <tr>\n",
       "        <td>1998</td>\n",
       "        <td>5</td>\n",
       "        <td>31.5951078547304</td>\n",
       "        <td>91.4520725044638</td>\n",
       "    </tr>\n",
       "    <tr>\n",
       "        <td>1998</td>\n",
       "        <td>6</td>\n",
       "        <td>31.57878269493</td>\n",
       "        <td>90.8154722087685</td>\n",
       "    </tr>\n",
       "    <tr>\n",
       "        <td>1998</td>\n",
       "        <td>7</td>\n",
       "        <td>31.5502463193561</td>\n",
       "        <td>90.9002053128349</td>\n",
       "    </tr>\n",
       "    <tr>\n",
       "        <td>1998</td>\n",
       "        <td>8</td>\n",
       "        <td>31.5365476092776</td>\n",
       "        <td>90.4780085398638</td>\n",
       "    </tr>\n",
       "    <tr>\n",
       "        <td>1998</td>\n",
       "        <td>9</td>\n",
       "        <td>31.5554364951152</td>\n",
       "        <td>90.8709119263208</td>\n",
       "    </tr>\n",
       "    <tr>\n",
       "        <td>1998</td>\n",
       "        <td>10</td>\n",
       "        <td>31.601591346061</td>\n",
       "        <td>91.605453659351</td>\n",
       "    </tr>\n",
       "</table>"
      ],
      "text/plain": [
       "[(1997, 3, 31.4559509850083, 91.1023284355867),\n",
       " (1997, 4, 31.5075033968338, 90.6496098287342),\n",
       " (1997, 5, 31.5207432060795, 88.7473181913066),\n",
       " (1997, 6, 31.5498940661343, 90.9763516211691),\n",
       " (1997, 7, 31.5291402561777, 90.2565569549733),\n",
       " (1997, 8, 31.5099525488341, 90.4449744791927),\n",
       " (1997, 9, 31.5185634723824, 89.7623233162467),\n",
       " (1997, 10, 31.5014701004176, 89.9192611233986),\n",
       " (1997, 11, 31.5122468845025, 90.3006817897654),\n",
       " (1997, 12, 31.5671164373427, 89.8338242354544),\n",
       " (1998, 1, 31.5007588524557, 89.754878842436),\n",
       " (1998, 2, 31.5517930142802, 90.8588176375825),\n",
       " (1998, 3, 31.5551900520588, 89.7889055991515),\n",
       " (1998, 4, 31.5222388620431, 90.3089198676879),\n",
       " (1998, 5, 31.5951078547304, 91.4520725044638),\n",
       " (1998, 6, 31.57878269493, 90.8154722087685),\n",
       " (1998, 7, 31.5502463193561, 90.9002053128349),\n",
       " (1998, 8, 31.5365476092776, 90.4780085398638),\n",
       " (1998, 9, 31.5554364951152, 90.8709119263208),\n",
       " (1998, 10, 31.601591346061, 91.605453659351)]"
      ]
     },
     "execution_count": 12,
     "metadata": {},
     "output_type": "execute_result"
    }
   ],
   "source": [
    "%%sql\n",
    "\n",
    "DROP TABLE IF EXISTS temp_sensors_timeseries;\n",
    "\n",
    "CREATE TABLE temp_sensors_timeseries(\n",
    "    year INTEGER,\n",
    "    month INTEGER,\n",
    "    average_month_temperature FLOAT,\n",
    "    average_pm25 FLOAT\n",
    ");\n",
    "\n",
    "INSERT INTO temp_sensors_timeseries \n",
    "    SELECT  date_part('year', timestamp) AS year,\n",
    "            date_part('month', timestamp) AS month,\n",
    "            avg(temperature) AS average_month_temperature, \n",
    "            avg(pm25) AS average_pm25\n",
    "    FROM sensors\n",
    "    GROUP BY year, month;\n",
    "    \n",
    "    \n",
    "SELECT * FROM temp_sensors_timeseries ORDER BY year,month LIMIT 20;"
   ]
  },
  {
   "cell_type": "code",
   "execution_count": 13,
   "id": "ed4ab9c9-4093-4722-8bc3-f99b6657fa34",
   "metadata": {
    "execution": {
     "iopub.execute_input": "2021-10-21T04:53:39.177968Z",
     "iopub.status.busy": "2021-10-21T04:53:39.177663Z",
     "iopub.status.idle": "2021-10-21T04:53:39.192589Z",
     "shell.execute_reply": "2021-10-21T04:53:39.191665Z",
     "shell.execute_reply.started": "2021-10-21T04:53:39.177931Z"
    },
    "tags": []
   },
   "outputs": [
    {
     "name": "stdout",
     "output_type": "stream",
     "text": [
      " * postgresql://gpadmin@192.168.133.128:31763/db\n",
      "275 rows affected.\n"
     ]
    }
   ],
   "source": [
    "timeseries= %sql SELECT * FROM temp_sensors_timeseries ORDER BY year,month;\n",
    "timeseries=timeseries.DataFrame()"
   ]
  },
  {
   "cell_type": "code",
   "execution_count": 14,
   "id": "f2506009-392a-46c2-931d-e96574d810a4",
   "metadata": {
    "execution": {
     "iopub.execute_input": "2021-10-21T04:53:40.531760Z",
     "iopub.status.busy": "2021-10-21T04:53:40.531455Z",
     "iopub.status.idle": "2021-10-21T04:53:40.551703Z",
     "shell.execute_reply": "2021-10-21T04:53:40.550598Z",
     "shell.execute_reply.started": "2021-10-21T04:53:40.531724Z"
    },
    "tags": []
   },
   "outputs": [
    {
     "data": {
      "text/html": [
       "<div>\n",
       "<style scoped>\n",
       "    .dataframe tbody tr th:only-of-type {\n",
       "        vertical-align: middle;\n",
       "    }\n",
       "\n",
       "    .dataframe tbody tr th {\n",
       "        vertical-align: top;\n",
       "    }\n",
       "\n",
       "    .dataframe thead th {\n",
       "        text-align: right;\n",
       "    }\n",
       "</style>\n",
       "<table border=\"1\" class=\"dataframe\">\n",
       "  <thead>\n",
       "    <tr style=\"text-align: right;\">\n",
       "      <th></th>\n",
       "      <th>year</th>\n",
       "      <th>month</th>\n",
       "      <th>average_month_temperature</th>\n",
       "      <th>average_pm25</th>\n",
       "      <th>date</th>\n",
       "    </tr>\n",
       "  </thead>\n",
       "  <tbody>\n",
       "    <tr>\n",
       "      <th>0</th>\n",
       "      <td>1997</td>\n",
       "      <td>3</td>\n",
       "      <td>31.455951</td>\n",
       "      <td>91.102328</td>\n",
       "      <td>1997-03-01</td>\n",
       "    </tr>\n",
       "    <tr>\n",
       "      <th>1</th>\n",
       "      <td>1997</td>\n",
       "      <td>4</td>\n",
       "      <td>31.507503</td>\n",
       "      <td>90.649610</td>\n",
       "      <td>1997-04-01</td>\n",
       "    </tr>\n",
       "    <tr>\n",
       "      <th>2</th>\n",
       "      <td>1997</td>\n",
       "      <td>5</td>\n",
       "      <td>31.520743</td>\n",
       "      <td>88.747318</td>\n",
       "      <td>1997-05-01</td>\n",
       "    </tr>\n",
       "    <tr>\n",
       "      <th>3</th>\n",
       "      <td>1997</td>\n",
       "      <td>6</td>\n",
       "      <td>31.549894</td>\n",
       "      <td>90.976352</td>\n",
       "      <td>1997-06-01</td>\n",
       "    </tr>\n",
       "    <tr>\n",
       "      <th>4</th>\n",
       "      <td>1997</td>\n",
       "      <td>7</td>\n",
       "      <td>31.529140</td>\n",
       "      <td>90.256557</td>\n",
       "      <td>1997-07-01</td>\n",
       "    </tr>\n",
       "  </tbody>\n",
       "</table>\n",
       "</div>"
      ],
      "text/plain": [
       "   year  month  average_month_temperature  average_pm25       date\n",
       "0  1997      3                  31.455951     91.102328 1997-03-01\n",
       "1  1997      4                  31.507503     90.649610 1997-04-01\n",
       "2  1997      5                  31.520743     88.747318 1997-05-01\n",
       "3  1997      6                  31.549894     90.976352 1997-06-01\n",
       "4  1997      7                  31.529140     90.256557 1997-07-01"
      ]
     },
     "execution_count": 14,
     "metadata": {},
     "output_type": "execute_result"
    }
   ],
   "source": [
    "timeseries['date']=pd.DatetimeIndex(timeseries['year'].map(\"{:04}\".format)+'-'+ timeseries['month'].map(\"{:02}\".format))\n",
    "timeseries.head()"
   ]
  },
  {
   "cell_type": "code",
   "execution_count": 15,
   "id": "77c8341d-e58a-44b4-a04b-16a1f3bbb6e3",
   "metadata": {
    "execution": {
     "iopub.execute_input": "2021-10-21T04:53:41.463529Z",
     "iopub.status.busy": "2021-10-21T04:53:41.463230Z",
     "iopub.status.idle": "2021-10-21T04:53:41.739476Z",
     "shell.execute_reply": "2021-10-21T04:53:41.738621Z",
     "shell.execute_reply.started": "2021-10-21T04:53:41.463493Z"
    },
    "presto": {
     "id": "7780ae59-cdf2-4762-a68a-4b373266253f"
    },
    "tags": []
   },
   "outputs": [
    {
     "data": {
      "application/vnd.jupyter.widget-view+json": {
       "model_id": "2c28c287f25046f79634b8d84d153aa6",
       "version_major": 2,
       "version_minor": 0
      },
      "text/plain": [
       "IntSlider(value=10, continuous_update=False, description='timeframe', max=200, min=10)"
      ]
     },
     "metadata": {},
     "output_type": "display_data"
    },
    {
     "data": {
      "application/vnd.jupyter.widget-view+json": {
       "model_id": "6b6272baa27343aab01d45d38c3690fb",
       "version_major": 2,
       "version_minor": 0
      },
      "image/png": "[encoded data removed]",
      "text/plain": [
       "Canvas(toolbar=Toolbar(toolitems=[('Home', 'Reset original view', 'home', 'home'), ('Back', 'Back to previous …"
      ]
     },
     "metadata": {},
     "output_type": "display_data"
    }
   ],
   "source": [
    "%matplotlib widget\n",
    "f, (ax1,ax2) = plt.subplots(2,1,figsize=(8,4))\n",
    "\n",
    "ax1.grid()\n",
    "ax2.grid()\n",
    "\n",
    "def update(change):\n",
    "    ax1.plot(timeseries['date'][:change.new],timeseries['average_pm25'][:change.new],color='blue')\n",
    "    ax2.plot(timeseries['date'][:change.new],timeseries['average_month_temperature'][:change.new],color='orange')\n",
    "    f.canvas.draw()\n",
    "\n",
    "slider = widgets.IntSlider(value=1,min=10,max=200,step=1,continuous_update=False,description='timeframe')\n",
    "\n",
    "ax1.yaxis.set_label_text(\"PM 2.5\")\n",
    "ax1.title.set_text('Average PM 2.5')\n",
    "\n",
    "ax2.title.set_text('Average Temperature')\n",
    "ax2.yaxis.set_label_text('Temperature')\n",
    "plt.tight_layout()\n",
    "\n",
    "slider.observe(update,'value')\n",
    "slider"
   ]
  },
  {
   "cell_type": "code",
   "execution_count": 16,
   "id": "f0227373-127a-4bf3-81a8-2ae66c239719",
   "metadata": {
    "execution": {
     "iopub.execute_input": "2021-10-21T04:54:07.883963Z",
     "iopub.status.busy": "2021-10-21T04:54:07.883530Z",
     "iopub.status.idle": "2021-10-21T04:54:08.343711Z",
     "shell.execute_reply": "2021-10-21T04:54:08.342624Z",
     "shell.execute_reply.started": "2021-10-21T04:54:07.883915Z"
    },
    "tags": []
   },
   "outputs": [
    {
     "data": {
      "application/vnd.jupyter.widget-view+json": {
       "model_id": "de8617ddfc694efe91a0e89125c12056",
       "version_major": 2,
       "version_minor": 0
      },
      "image/png": "[encoded data removed]",
      "text/plain": [
       "Canvas(toolbar=Toolbar(toolitems=[('Home', 'Reset original view', 'home', 'home'), ('Back', 'Back to previous …"
      ]
     },
     "metadata": {},
     "output_type": "display_data"
    }
   ],
   "source": [
    "timeframe = 20\n",
    "\n",
    "f, (ax1, ax2) = plt.subplots(2, 1,figsize=(11,6))\n",
    "ax1.plot(timeseries['date'][:timeframe],timeseries['average_pm25'][:timeframe])\n",
    "ax2.plot(timeseries['date'][:timeframe],timeseries['average_month_temperature'][:timeframe],color='orange')\n",
    "\n",
    "ax1.yaxis.set_label_text(\"PM 2.5\")\n",
    "ax1.title.set_text('Average PM 2.5')\n",
    "\n",
    "ax2.title.set_text('Average Temperature')\n",
    "ax2.yaxis.set_label_text('Temperature')\n",
    "plt.tight_layout()"
   ]
  },
  {
   "cell_type": "markdown",
   "id": "18a4d782-75a9-4cdf-8fa2-33b7c366753d",
   "metadata": {},
   "source": [
    "### Preprocess Data"
   ]
  },
  {
   "cell_type": "markdown",
   "id": "68a945a0-370a-446e-b6cc-47aead7ab4da",
   "metadata": {},
   "source": [
    "Encode Month\n",
    "\n",
    "```sql\n",
    "CREATE FUNCTION parse_month(time_stamp timestamp)\n",
    "  RETURNS char\n",
    "AS $$\n",
    "  from datetime import datetime\n",
    "  date_obj=datetime.strptime(time_stamp,\"%Y-%m-%d %H:%M:%S\")\n",
    "  return date_obj.strftime(\"%B\")\n",
    "$$ LANGUAGE plpythonu;\n",
    "```"
   ]
  },
  {
   "cell_type": "code",
   "execution_count": 17,
   "id": "3dff644a-ffc2-40ef-acc9-62043de55fa6",
   "metadata": {
    "execution": {
     "iopub.execute_input": "2021-10-21T04:54:19.902737Z",
     "iopub.status.busy": "2021-10-21T04:54:19.902432Z",
     "iopub.status.idle": "2021-10-21T04:54:20.092454Z",
     "shell.execute_reply": "2021-10-21T04:54:20.089457Z",
     "shell.execute_reply.started": "2021-10-21T04:54:19.902700Z"
    },
    "tags": []
   },
   "outputs": [
    {
     "name": "stdout",
     "output_type": "stream",
     "text": [
      " * postgresql://gpadmin@192.168.133.128:31763/db\n",
      "3 rows affected.\n"
     ]
    },
    {
     "data": {
      "text/html": [
       "<table>\n",
       "    <tr>\n",
       "        <th>timestamp</th>\n",
       "        <th>temperature</th>\n",
       "        <th>temperature_2</th>\n",
       "        <th>humidity</th>\n",
       "        <th>pm25</th>\n",
       "        <th>power</th>\n",
       "        <th>parse_month</th>\n",
       "    </tr>\n",
       "    <tr>\n",
       "        <td>2011-12-29 11:00:00</td>\n",
       "        <td>31.2442173089597</td>\n",
       "        <td>21.3114458078302</td>\n",
       "        <td>53.2443392511602</td>\n",
       "        <td>164.317432408163</td>\n",
       "        <td>81.8119491461205</td>\n",
       "        <td>December</td>\n",
       "    </tr>\n",
       "    <tr>\n",
       "        <td>2008-04-04 01:00:00</td>\n",
       "        <td>31.8158015123391</td>\n",
       "        <td>17.7931769572608</td>\n",
       "        <td>63.9649499130179</td>\n",
       "        <td>161.321242417883</td>\n",
       "        <td>82.0967066962878</td>\n",
       "        <td>April</td>\n",
       "    </tr>\n",
       "    <tr>\n",
       "        <td>2011-10-21 04:00:00</td>\n",
       "        <td>31.2724902369141</td>\n",
       "        <td>19.5216729895433</td>\n",
       "        <td>41.704738671421</td>\n",
       "        <td>168.412207316374</td>\n",
       "        <td>81.4544223880553</td>\n",
       "        <td>October</td>\n",
       "    </tr>\n",
       "</table>"
      ],
      "text/plain": [
       "[(datetime.datetime(2011, 12, 29, 11, 0), 31.2442173089597, 21.3114458078302, 53.2443392511602, 164.317432408163, 81.8119491461205, 'December'),\n",
       " (datetime.datetime(2008, 4, 4, 1, 0), 31.8158015123391, 17.7931769572608, 63.9649499130179, 161.321242417883, 82.0967066962878, 'April'),\n",
       " (datetime.datetime(2011, 10, 21, 4, 0), 31.2724902369141, 19.5216729895433, 41.704738671421, 168.412207316374, 81.4544223880553, 'October')]"
      ]
     },
     "execution_count": 17,
     "metadata": {},
     "output_type": "execute_result"
    }
   ],
   "source": [
    "%%sql\n",
    "SELECT *,parse_month(timestamp) FROM sensors WHERE pm25 > 160;"
   ]
  },
  {
   "cell_type": "markdown",
   "id": "99ef43f9-8e4d-4fa6-a2d9-1fed601d8258",
   "metadata": {},
   "source": [
    "Create Month and rain Data"
   ]
  },
  {
   "cell_type": "code",
   "execution_count": 18,
   "id": "a7ca60fc-a48e-4248-93fc-d45ca18256fb",
   "metadata": {
    "execution": {
     "iopub.execute_input": "2021-10-21T04:54:21.278899Z",
     "iopub.status.busy": "2021-10-21T04:54:21.278431Z",
     "iopub.status.idle": "2021-10-21T04:54:41.971566Z",
     "shell.execute_reply": "2021-10-21T04:54:41.970294Z",
     "shell.execute_reply.started": "2021-10-21T04:54:21.278846Z"
    },
    "tags": []
   },
   "outputs": [
    {
     "name": "stdout",
     "output_type": "stream",
     "text": [
      " * postgresql://gpadmin@192.168.133.128:31763/db\n",
      "Done.\n",
      "200000 rows affected.\n",
      "10 rows affected.\n"
     ]
    },
    {
     "data": {
      "text/html": [
       "<table>\n",
       "    <tr>\n",
       "        <th>timestamp</th>\n",
       "        <th>temperature</th>\n",
       "        <th>temperature_2</th>\n",
       "        <th>humidity</th>\n",
       "        <th>pm25</th>\n",
       "        <th>month</th>\n",
       "        <th>rain</th>\n",
       "    </tr>\n",
       "    <tr>\n",
       "        <td>1997-03-22 01:00:00</td>\n",
       "        <td>32.9213826233029</td>\n",
       "        <td>17.4826265348514</td>\n",
       "        <td>27.94636008953</td>\n",
       "        <td>98.7218237308808</td>\n",
       "        <td>March</td>\n",
       "        <td>0</td>\n",
       "    </tr>\n",
       "    <tr>\n",
       "        <td>1997-03-22 09:00:00</td>\n",
       "        <td>31.4649580939263</td>\n",
       "        <td>19.9532713965772</td>\n",
       "        <td>50.837115293311</td>\n",
       "        <td>91.2224507689739</td>\n",
       "        <td>March</td>\n",
       "        <td>0</td>\n",
       "    </tr>\n",
       "    <tr>\n",
       "        <td>1997-03-22 15:00:00</td>\n",
       "        <td>31.507048930815</td>\n",
       "        <td>25.3607691561948</td>\n",
       "        <td>47.6749079846652</td>\n",
       "        <td>86.7819015018054</td>\n",
       "        <td>March</td>\n",
       "        <td>0</td>\n",
       "    </tr>\n",
       "    <tr>\n",
       "        <td>1997-03-22 16:00:00</td>\n",
       "        <td>30.4884870878674</td>\n",
       "        <td>25.6856990011665</td>\n",
       "        <td>50.0666202536992</td>\n",
       "        <td>94.2610977261585</td>\n",
       "        <td>March</td>\n",
       "        <td>0</td>\n",
       "    </tr>\n",
       "    <tr>\n",
       "        <td>1997-03-22 18:00:00</td>\n",
       "        <td>32.0487564354404</td>\n",
       "        <td>21.4366298669406</td>\n",
       "        <td>39.3329266242551</td>\n",
       "        <td>99.7046310655581</td>\n",
       "        <td>March</td>\n",
       "        <td>0</td>\n",
       "    </tr>\n",
       "    <tr>\n",
       "        <td>1997-03-22 19:00:00</td>\n",
       "        <td>31.5786465584318</td>\n",
       "        <td>25.0848932771033</td>\n",
       "        <td>47.9579316951402</td>\n",
       "        <td>105.237201523011</td>\n",
       "        <td>March</td>\n",
       "        <td>0</td>\n",
       "    </tr>\n",
       "    <tr>\n",
       "        <td>1997-03-23 03:00:00</td>\n",
       "        <td>32.8667400873765</td>\n",
       "        <td>22.2964866341744</td>\n",
       "        <td>42.4368355289834</td>\n",
       "        <td>77.022908641646</td>\n",
       "        <td>March</td>\n",
       "        <td>0</td>\n",
       "    </tr>\n",
       "    <tr>\n",
       "        <td>1997-03-24 05:00:00</td>\n",
       "        <td>31.1649558178267</td>\n",
       "        <td>20.3564065988846</td>\n",
       "        <td>34.5042220287931</td>\n",
       "        <td>114.313694691625</td>\n",
       "        <td>March</td>\n",
       "        <td>0</td>\n",
       "    </tr>\n",
       "    <tr>\n",
       "        <td>1997-03-24 10:00:00</td>\n",
       "        <td>31.7998609150443</td>\n",
       "        <td>18.6352565135397</td>\n",
       "        <td>64.0707027124545</td>\n",
       "        <td>61.1112704124178</td>\n",
       "        <td>March</td>\n",
       "        <td>1</td>\n",
       "    </tr>\n",
       "    <tr>\n",
       "        <td>1997-03-24 20:00:00</td>\n",
       "        <td>30.9789716166604</td>\n",
       "        <td>18.1194939038757</td>\n",
       "        <td>37.5763779834305</td>\n",
       "        <td>90.1461292529732</td>\n",
       "        <td>March</td>\n",
       "        <td>0</td>\n",
       "    </tr>\n",
       "</table>"
      ],
      "text/plain": [
       "[(datetime.datetime(1997, 3, 22, 1, 0), 32.9213826233029, 17.4826265348514, 27.94636008953, 98.7218237308808, 'March', 0),\n",
       " (datetime.datetime(1997, 3, 22, 9, 0), 31.4649580939263, 19.9532713965772, 50.837115293311, 91.2224507689739, 'March', 0),\n",
       " (datetime.datetime(1997, 3, 22, 15, 0), 31.507048930815, 25.3607691561948, 47.6749079846652, 86.7819015018054, 'March', 0),\n",
       " (datetime.datetime(1997, 3, 22, 16, 0), 30.4884870878674, 25.6856990011665, 50.0666202536992, 94.2610977261585, 'March', 0),\n",
       " (datetime.datetime(1997, 3, 22, 18, 0), 32.0487564354404, 21.4366298669406, 39.3329266242551, 99.7046310655581, 'March', 0),\n",
       " (datetime.datetime(1997, 3, 22, 19, 0), 31.5786465584318, 25.0848932771033, 47.9579316951402, 105.237201523011, 'March', 0),\n",
       " (datetime.datetime(1997, 3, 23, 3, 0), 32.8667400873765, 22.2964866341744, 42.4368355289834, 77.022908641646, 'March', 0),\n",
       " (datetime.datetime(1997, 3, 24, 5, 0), 31.1649558178267, 20.3564065988846, 34.5042220287931, 114.313694691625, 'March', 0),\n",
       " (datetime.datetime(1997, 3, 24, 10, 0), 31.7998609150443, 18.6352565135397, 64.0707027124545, 61.1112704124178, 'March', 1),\n",
       " (datetime.datetime(1997, 3, 24, 20, 0), 30.9789716166604, 18.1194939038757, 37.5763779834305, 90.1461292529732, 'March', 0)]"
      ]
     },
     "execution_count": 18,
     "metadata": {},
     "output_type": "execute_result"
    }
   ],
   "source": [
    "%%sql\n",
    "DROP TABLE IF EXISTS sensors_pre;\n",
    "CREATE TABLE sensors_pre\n",
    "AS \n",
    "SELECT\n",
    "    timestamp,\n",
    "    temperature,\n",
    "    temperature_2,\n",
    "    humidity,\n",
    "    pm25,\n",
    "    parse_month(timestamp) AS month,           --- Month data\n",
    "    CASE WHEN\n",
    "            (humidity )>= 60\n",
    "        THEN 1\n",
    "        ELSE 0\n",
    "    END as rain\n",
    "FROM sensors;\n",
    "\n",
    "SELECT * FROM sensors_pre LIMIT 10; "
   ]
  },
  {
   "cell_type": "code",
   "execution_count": 19,
   "id": "22cf1b72-22a2-4e30-a810-882c41eec482",
   "metadata": {
    "execution": {
     "iopub.execute_input": "2021-10-21T04:54:41.974346Z",
     "iopub.status.busy": "2021-10-21T04:54:41.974028Z",
     "iopub.status.idle": "2021-10-21T04:54:57.165590Z",
     "shell.execute_reply": "2021-10-21T04:54:57.163974Z",
     "shell.execute_reply.started": "2021-10-21T04:54:41.974307Z"
    },
    "tags": []
   },
   "outputs": [
    {
     "name": "stdout",
     "output_type": "stream",
     "text": [
      " * postgresql://gpadmin@192.168.133.128:31763/db\n",
      "12 rows affected.\n"
     ]
    },
    {
     "data": {
      "text/html": [
       "<table>\n",
       "    <tr>\n",
       "        <th>month</th>\n",
       "        <th>count</th>\n",
       "    </tr>\n",
       "    <tr>\n",
       "        <td>December</td>\n",
       "        <td>17112</td>\n",
       "    </tr>\n",
       "    <tr>\n",
       "        <td>May</td>\n",
       "        <td>17112</td>\n",
       "    </tr>\n",
       "    <tr>\n",
       "        <td>August</td>\n",
       "        <td>17112</td>\n",
       "    </tr>\n",
       "    <tr>\n",
       "        <td>July</td>\n",
       "        <td>17112</td>\n",
       "    </tr>\n",
       "    <tr>\n",
       "        <td>October</td>\n",
       "        <td>17112</td>\n",
       "    </tr>\n",
       "    <tr>\n",
       "        <td>January</td>\n",
       "        <td>16688</td>\n",
       "    </tr>\n",
       "    <tr>\n",
       "        <td>March</td>\n",
       "        <td>16608</td>\n",
       "    </tr>\n",
       "    <tr>\n",
       "        <td>November</td>\n",
       "        <td>16560</td>\n",
       "    </tr>\n",
       "    <tr>\n",
       "        <td>June</td>\n",
       "        <td>16560</td>\n",
       "    </tr>\n",
       "    <tr>\n",
       "        <td>April</td>\n",
       "        <td>16560</td>\n",
       "    </tr>\n",
       "    <tr>\n",
       "        <td>September</td>\n",
       "        <td>16560</td>\n",
       "    </tr>\n",
       "    <tr>\n",
       "        <td>February</td>\n",
       "        <td>14904</td>\n",
       "    </tr>\n",
       "</table>"
      ],
      "text/plain": [
       "[('December', 17112),\n",
       " ('May', 17112),\n",
       " ('August', 17112),\n",
       " ('July', 17112),\n",
       " ('October', 17112),\n",
       " ('January', 16688),\n",
       " ('March', 16608),\n",
       " ('November', 16560),\n",
       " ('June', 16560),\n",
       " ('April', 16560),\n",
       " ('September', 16560),\n",
       " ('February', 14904)]"
      ]
     },
     "execution_count": 19,
     "metadata": {},
     "output_type": "execute_result"
    }
   ],
   "source": [
    "%%sql\n",
    "SELECT parse_month(timestamp) as month ,COUNT(*) as count  \n",
    "    FROM sensors  \n",
    "GROUP BY month ORDER BY count DESC;"
   ]
  },
  {
   "cell_type": "markdown",
   "id": "48ede8be-903e-4373-a544-ef6b8ada8adb",
   "metadata": {},
   "source": [
    "### Encode categorical values"
   ]
  },
  {
   "cell_type": "code",
   "execution_count": 20,
   "id": "58956098-2c3d-4c0a-9961-fd80c17adb58",
   "metadata": {
    "execution": {
     "iopub.execute_input": "2021-10-21T04:55:28.865567Z",
     "iopub.status.busy": "2021-10-21T04:55:28.865263Z",
     "iopub.status.idle": "2021-10-21T04:55:36.555628Z",
     "shell.execute_reply": "2021-10-21T04:55:36.554457Z",
     "shell.execute_reply.started": "2021-10-21T04:55:28.865529Z"
    },
    "tags": []
   },
   "outputs": [
    {
     "name": "stdout",
     "output_type": "stream",
     "text": [
      " * postgresql://gpadmin@192.168.133.128:31763/db\n",
      "Done.\n",
      "1 rows affected.\n",
      "5 rows affected.\n"
     ]
    },
    {
     "data": {
      "text/html": [
       "<table>\n",
       "    <tr>\n",
       "        <th>timestamp</th>\n",
       "        <th>temperature</th>\n",
       "        <th>temperature_2</th>\n",
       "        <th>humidity</th>\n",
       "        <th>pm25</th>\n",
       "        <th>rain</th>\n",
       "        <th>month_April</th>\n",
       "        <th>month_August</th>\n",
       "        <th>month_December</th>\n",
       "        <th>month_February</th>\n",
       "        <th>month_January</th>\n",
       "        <th>month_July</th>\n",
       "        <th>month_June</th>\n",
       "        <th>month_March</th>\n",
       "        <th>month_May</th>\n",
       "        <th>month_November</th>\n",
       "        <th>month_October</th>\n",
       "        <th>month_September</th>\n",
       "    </tr>\n",
       "    <tr>\n",
       "        <td>1997-03-22 06:00:00</td>\n",
       "        <td>31.3210691595019</td>\n",
       "        <td>18.0378154713855</td>\n",
       "        <td>69.1515112930262</td>\n",
       "        <td>101.454551704756</td>\n",
       "        <td>1</td>\n",
       "        <td>0</td>\n",
       "        <td>0</td>\n",
       "        <td>0</td>\n",
       "        <td>0</td>\n",
       "        <td>0</td>\n",
       "        <td>0</td>\n",
       "        <td>0</td>\n",
       "        <td>1</td>\n",
       "        <td>0</td>\n",
       "        <td>0</td>\n",
       "        <td>0</td>\n",
       "        <td>0</td>\n",
       "    </tr>\n",
       "    <tr>\n",
       "        <td>1997-03-24 08:00:00</td>\n",
       "        <td>31.1746067733491</td>\n",
       "        <td>20.0659870783217</td>\n",
       "        <td>56.2763301155743</td>\n",
       "        <td>91.5364158256892</td>\n",
       "        <td>0</td>\n",
       "        <td>0</td>\n",
       "        <td>0</td>\n",
       "        <td>0</td>\n",
       "        <td>0</td>\n",
       "        <td>0</td>\n",
       "        <td>0</td>\n",
       "        <td>0</td>\n",
       "        <td>1</td>\n",
       "        <td>0</td>\n",
       "        <td>0</td>\n",
       "        <td>0</td>\n",
       "        <td>0</td>\n",
       "    </tr>\n",
       "    <tr>\n",
       "        <td>1997-03-25 07:00:00</td>\n",
       "        <td>31.9373035574975</td>\n",
       "        <td>25.8062235988484</td>\n",
       "        <td>71.8780035677694</td>\n",
       "        <td>67.4303163133791</td>\n",
       "        <td>1</td>\n",
       "        <td>0</td>\n",
       "        <td>0</td>\n",
       "        <td>0</td>\n",
       "        <td>0</td>\n",
       "        <td>0</td>\n",
       "        <td>0</td>\n",
       "        <td>0</td>\n",
       "        <td>1</td>\n",
       "        <td>0</td>\n",
       "        <td>0</td>\n",
       "        <td>0</td>\n",
       "        <td>0</td>\n",
       "    </tr>\n",
       "    <tr>\n",
       "        <td>1997-03-29 10:00:00</td>\n",
       "        <td>31.633976446782</td>\n",
       "        <td>25.4243524758717</td>\n",
       "        <td>54.0597027712871</td>\n",
       "        <td>68.7832288656276</td>\n",
       "        <td>0</td>\n",
       "        <td>0</td>\n",
       "        <td>0</td>\n",
       "        <td>0</td>\n",
       "        <td>0</td>\n",
       "        <td>0</td>\n",
       "        <td>0</td>\n",
       "        <td>0</td>\n",
       "        <td>1</td>\n",
       "        <td>0</td>\n",
       "        <td>0</td>\n",
       "        <td>0</td>\n",
       "        <td>0</td>\n",
       "    </tr>\n",
       "    <tr>\n",
       "        <td>1997-03-31 15:00:00</td>\n",
       "        <td>31.4546254950283</td>\n",
       "        <td>25.4530856992918</td>\n",
       "        <td>52.2239441211713</td>\n",
       "        <td>64.8614323853202</td>\n",
       "        <td>0</td>\n",
       "        <td>0</td>\n",
       "        <td>0</td>\n",
       "        <td>0</td>\n",
       "        <td>0</td>\n",
       "        <td>0</td>\n",
       "        <td>0</td>\n",
       "        <td>0</td>\n",
       "        <td>1</td>\n",
       "        <td>0</td>\n",
       "        <td>0</td>\n",
       "        <td>0</td>\n",
       "        <td>0</td>\n",
       "    </tr>\n",
       "</table>"
      ],
      "text/plain": [
       "[(datetime.datetime(1997, 3, 22, 6, 0), 31.3210691595019, 18.0378154713855, 69.1515112930262, 101.454551704756, 1, 0, 0, 0, 0, 0, 0, 0, 1, 0, 0, 0, 0),\n",
       " (datetime.datetime(1997, 3, 24, 8, 0), 31.1746067733491, 20.0659870783217, 56.2763301155743, 91.5364158256892, 0, 0, 0, 0, 0, 0, 0, 0, 1, 0, 0, 0, 0),\n",
       " (datetime.datetime(1997, 3, 25, 7, 0), 31.9373035574975, 25.8062235988484, 71.8780035677694, 67.4303163133791, 1, 0, 0, 0, 0, 0, 0, 0, 1, 0, 0, 0, 0),\n",
       " (datetime.datetime(1997, 3, 29, 10, 0), 31.633976446782, 25.4243524758717, 54.0597027712871, 68.7832288656276, 0, 0, 0, 0, 0, 0, 0, 0, 1, 0, 0, 0, 0),\n",
       " (datetime.datetime(1997, 3, 31, 15, 0), 31.4546254950283, 25.4530856992918, 52.2239441211713, 64.8614323853202, 0, 0, 0, 0, 0, 0, 0, 0, 1, 0, 0, 0, 0)]"
      ]
     },
     "execution_count": 20,
     "metadata": {},
     "output_type": "execute_result"
    }
   ],
   "source": [
    "%%sql\n",
    "DROP TABLE IF EXISTS sensors_encoded;\n",
    "\n",
    "\n",
    "SELECT\n",
    "madlib.encode_categorical_variables (\n",
    "    'sensors_pre',\n",
    "    'sensors_encoded',\n",
    "    'month',\n",
    "    NULL,  --categorical_cols_to_exclude     -- Optional\n",
    "    NULL,  --row_id,                         -- Optional\n",
    "    NULL,  --top,                            -- Optional\n",
    "    NULL,  --value_to_drop,                  -- Optional\n",
    "    NULL,  --encode_null,                    -- Optional\n",
    "    NULL,  --output_type,                    -- Optional\n",
    "    NULL,  --output_dictionary,              -- Optional\n",
    "    NULL   --distributed_by                  -- Optional\n",
    ");\n",
    "\n",
    "\n",
    "SELECT * FROM sensors_encoded LIMIT 5;"
   ]
  },
  {
   "cell_type": "markdown",
   "id": "7bd5abdf-738a-4dbc-9b4e-9287f979d6e3",
   "metadata": {},
   "source": [
    "### Correlation"
   ]
  },
  {
   "cell_type": "code",
   "execution_count": 21,
   "id": "8c52a0c0-1f31-41f2-91eb-4ebab8590a06",
   "metadata": {
    "execution": {
     "iopub.execute_input": "2021-10-21T04:55:49.485411Z",
     "iopub.status.busy": "2021-10-21T04:55:49.485094Z",
     "iopub.status.idle": "2021-10-21T04:55:55.966040Z",
     "shell.execute_reply": "2021-10-21T04:55:55.964954Z",
     "shell.execute_reply.started": "2021-10-21T04:55:49.485371Z"
    },
    "tags": []
   },
   "outputs": [
    {
     "name": "stdout",
     "output_type": "stream",
     "text": [
      " * postgresql://gpadmin@192.168.133.128:31763/db\n",
      "Done.\n",
      "Done.\n",
      "1 rows affected.\n"
     ]
    },
    {
     "data": {
      "text/html": [
       "<table>\n",
       "    <tr>\n",
       "        <th>correlation</th>\n",
       "    </tr>\n",
       "    <tr>\n",
       "        <td>Summary for &#x27;Correlation&#x27; function<br>Output table = sensors_correlations<br>Producing correlation for columns: temperature,temperature_2,humidity,pm25,rain<br>Total run time = (&#x27;sensors_correlations&#x27;, 5, 6.099499225616455)</td>\n",
       "    </tr>\n",
       "</table>"
      ],
      "text/plain": [
       "[(\"Summary for 'Correlation' function\\nOutput table = sensors_correlations\\nProducing correlation for columns: temperature,temperature_2,humidity,pm25,rain\\nTotal run time = ('sensors_correlations', 5, 6.099499225616455)\",)]"
      ]
     },
     "execution_count": 21,
     "metadata": {},
     "output_type": "execute_result"
    }
   ],
   "source": [
    "%%sql\n",
    "DROP TABLE IF EXISTS sensors_correlations;\n",
    "DROP TABLE IF EXISTS sensors_correlations_summary;\n",
    "\n",
    "SELECT \n",
    "madlib.correlation(\n",
    "    'sensors_encoded', -- source_table\n",
    "    'sensors_correlations',  -- target_table\n",
    "    'temperature,temperature_2,humidity,pm25,rain',\n",
    "    TRUE -- verbose\n",
    ")"
   ]
  },
  {
   "cell_type": "code",
   "execution_count": 22,
   "id": "c8a78b79-a4e0-4e66-a3c0-51b2ae7d6f7d",
   "metadata": {
    "execution": {
     "iopub.execute_input": "2021-10-21T04:56:03.831924Z",
     "iopub.status.busy": "2021-10-21T04:56:03.831638Z",
     "iopub.status.idle": "2021-10-21T04:56:03.862865Z",
     "shell.execute_reply": "2021-10-21T04:56:03.861486Z",
     "shell.execute_reply.started": "2021-10-21T04:56:03.831889Z"
    },
    "tags": []
   },
   "outputs": [
    {
     "name": "stdout",
     "output_type": "stream",
     "text": [
      " * postgresql://gpadmin@192.168.133.128:31763/db\n",
      "5 rows affected.\n",
      "temperature,temperature_2,humidity,pm25,rain\n"
     ]
    }
   ],
   "source": [
    "Index = %sql SELECT variable FROM sensors_correlations ORDER BY column_position;\n",
    "Index = Index.DataFrame();\n",
    "\n",
    "columns =  ','.join(','.join('%s' %x for x in y) for y in Index.values)\n",
    "print(columns)"
   ]
  },
  {
   "cell_type": "code",
   "execution_count": 23,
   "id": "b32a1a33-56d2-4936-b6f8-5e102609570e",
   "metadata": {
    "execution": {
     "iopub.execute_input": "2021-10-21T04:56:03.866066Z",
     "iopub.status.busy": "2021-10-21T04:56:03.865529Z",
     "iopub.status.idle": "2021-10-21T04:56:03.883623Z",
     "shell.execute_reply": "2021-10-21T04:56:03.882237Z",
     "shell.execute_reply.started": "2021-10-21T04:56:03.866011Z"
    },
    "tags": []
   },
   "outputs": [
    {
     "name": "stdout",
     "output_type": "stream",
     "text": [
      " * postgresql://gpadmin@192.168.133.128:31763/db\n",
      "5 rows affected.\n"
     ]
    }
   ],
   "source": [
    "corr = %sql select variable,{columns} from sensors_correlations ORDER BY column_position;\n",
    "corr = corr.DataFrame()"
   ]
  },
  {
   "cell_type": "code",
   "execution_count": 24,
   "id": "f41fdac5-84c3-4334-af94-bea626fe8f9c",
   "metadata": {
    "execution": {
     "iopub.execute_input": "2021-10-21T04:56:03.887438Z",
     "iopub.status.busy": "2021-10-21T04:56:03.886922Z",
     "iopub.status.idle": "2021-10-21T04:56:04.392080Z",
     "shell.execute_reply": "2021-10-21T04:56:04.390668Z",
     "shell.execute_reply.started": "2021-10-21T04:56:03.887394Z"
    },
    "presto": {
     "id": "7936d6b3-3419-4a8d-bb74-84238e516694"
    },
    "tags": []
   },
   "outputs": [
    {
     "data": {
      "image/png": "[encoded data removed]",
      "text/plain": [
       "<Figure size 432x288 with 2 Axes>"
      ]
     },
     "metadata": {
      "needs_background": "light"
     },
     "output_type": "display_data"
    }
   ],
   "source": [
    "%matplotlib inline\n",
    "corr_df=corr.set_index('variable')\n",
    "plt.title('Sensors Value Correlation')\n",
    "plt.tight_layout()\n",
    "sns.heatmap(corr_df,annot=True);"
   ]
  },
  {
   "cell_type": "markdown",
   "id": "cb2758d4-4918-45cc-a964-d70482665e55",
   "metadata": {},
   "source": [
    "### Split Data for training and testing"
   ]
  },
  {
   "cell_type": "code",
   "execution_count": 25,
   "id": "cf84fb1c-0f22-43ea-899a-030d14067570",
   "metadata": {
    "execution": {
     "iopub.execute_input": "2021-10-21T04:56:04.395643Z",
     "iopub.status.busy": "2021-10-21T04:56:04.395167Z",
     "iopub.status.idle": "2021-10-21T04:56:22.962991Z",
     "shell.execute_reply": "2021-10-21T04:56:22.961903Z",
     "shell.execute_reply.started": "2021-10-21T04:56:04.395584Z"
    },
    "tags": []
   },
   "outputs": [
    {
     "name": "stdout",
     "output_type": "stream",
     "text": [
      " * postgresql://gpadmin@192.168.133.128:31763/db\n",
      "Done.\n",
      "Done.\n",
      "Done.\n",
      "1 rows affected.\n",
      "1 rows affected.\n"
     ]
    },
    {
     "data": {
      "text/html": [
       "<table>\n",
       "    <tr>\n",
       "        <th># In training set</th>\n",
       "    </tr>\n",
       "    <tr>\n",
       "        <td>140000</td>\n",
       "    </tr>\n",
       "</table>"
      ],
      "text/plain": [
       "[(140000,)]"
      ]
     },
     "execution_count": 25,
     "metadata": {},
     "output_type": "execute_result"
    }
   ],
   "source": [
    "%%sql\n",
    "DROP TABLE IF EXISTS sensors_split CASCADE;\n",
    "DROP TABLE IF EXISTS sensors_split_train CASCADE;\n",
    "DROP TABLE IF EXISTS sensors_split_test CASCADE;\n",
    "\n",
    "SELECT madlib.train_test_split(\n",
    "    'sensors_encoded', -- source_table,\n",
    "    'sensors_split', -- output_table,\n",
    "    0.7, -- train_proportion,\n",
    "    NULL, -- test_proportion,\n",
    "    NULL, -- grouping_cols,\n",
    "    'temperature,temperature_2,rain,humidity,pm25,\n",
    "    \"month_January\",\"month_February\",\"month_March\",\n",
    "    \"month_April\",\"month_May\",\"month_June\",\"month_July\",\n",
    "    \"month_August\",\"month_September\",\"month_October\",\n",
    "    \"month_November\",\"month_December\"', -- target_cols\n",
    "    FALSE, -- with_replacement,\n",
    "    TRUE -- separate_output_tables\n",
    ");\n",
    "\n",
    "SELECT COUNT(*) as \"# In training set\" FROM sensors_split_train;"
   ]
  },
  {
   "cell_type": "code",
   "execution_count": 26,
   "id": "814ef9bd-7352-4c4c-9323-5de28c4c6108",
   "metadata": {
    "execution": {
     "iopub.execute_input": "2021-10-21T04:56:22.964863Z",
     "iopub.status.busy": "2021-10-21T04:56:22.964486Z",
     "iopub.status.idle": "2021-10-21T04:56:22.980687Z",
     "shell.execute_reply": "2021-10-21T04:56:22.979836Z",
     "shell.execute_reply.started": "2021-10-21T04:56:22.964825Z"
    },
    "tags": []
   },
   "outputs": [
    {
     "name": "stdout",
     "output_type": "stream",
     "text": [
      " * postgresql://gpadmin@192.168.133.128:31763/db\n",
      "5 rows affected.\n"
     ]
    },
    {
     "data": {
      "text/html": [
       "<table>\n",
       "    <tr>\n",
       "        <th>temperature</th>\n",
       "        <th>temperature_2</th>\n",
       "        <th>rain</th>\n",
       "        <th>humidity</th>\n",
       "        <th>pm25</th>\n",
       "        <th>month_January</th>\n",
       "        <th>month_February</th>\n",
       "        <th>month_March</th>\n",
       "        <th>month_April</th>\n",
       "        <th>month_May</th>\n",
       "        <th>month_June</th>\n",
       "        <th>month_July</th>\n",
       "        <th>month_August</th>\n",
       "        <th>month_September</th>\n",
       "        <th>month_October</th>\n",
       "        <th>month_November</th>\n",
       "        <th>month_December</th>\n",
       "    </tr>\n",
       "    <tr>\n",
       "        <td>30.0173311750415</td>\n",
       "        <td>19.3343147495518</td>\n",
       "        <td>0</td>\n",
       "        <td>19.4901626106699</td>\n",
       "        <td>90.3479644929762</td>\n",
       "        <td>0</td>\n",
       "        <td>0</td>\n",
       "        <td>0</td>\n",
       "        <td>0</td>\n",
       "        <td>1</td>\n",
       "        <td>0</td>\n",
       "        <td>0</td>\n",
       "        <td>0</td>\n",
       "        <td>0</td>\n",
       "        <td>0</td>\n",
       "        <td>0</td>\n",
       "        <td>0</td>\n",
       "    </tr>\n",
       "    <tr>\n",
       "        <td>30.0216768343846</td>\n",
       "        <td>22.0544695006666</td>\n",
       "        <td>1</td>\n",
       "        <td>77.3278564318079</td>\n",
       "        <td>141.447740363317</td>\n",
       "        <td>0</td>\n",
       "        <td>0</td>\n",
       "        <td>0</td>\n",
       "        <td>0</td>\n",
       "        <td>0</td>\n",
       "        <td>0</td>\n",
       "        <td>1</td>\n",
       "        <td>0</td>\n",
       "        <td>0</td>\n",
       "        <td>0</td>\n",
       "        <td>0</td>\n",
       "        <td>0</td>\n",
       "    </tr>\n",
       "    <tr>\n",
       "        <td>30.0277581559261</td>\n",
       "        <td>20.6442756349843</td>\n",
       "        <td>1</td>\n",
       "        <td>61.9923692043511</td>\n",
       "        <td>70.7391050841909</td>\n",
       "        <td>0</td>\n",
       "        <td>0</td>\n",
       "        <td>0</td>\n",
       "        <td>0</td>\n",
       "        <td>1</td>\n",
       "        <td>0</td>\n",
       "        <td>0</td>\n",
       "        <td>0</td>\n",
       "        <td>0</td>\n",
       "        <td>0</td>\n",
       "        <td>0</td>\n",
       "        <td>0</td>\n",
       "    </tr>\n",
       "    <tr>\n",
       "        <td>30.0339224466218</td>\n",
       "        <td>23.0906157044053</td>\n",
       "        <td>0</td>\n",
       "        <td>51.1453332061173</td>\n",
       "        <td>84.9332092198396</td>\n",
       "        <td>0</td>\n",
       "        <td>0</td>\n",
       "        <td>0</td>\n",
       "        <td>0</td>\n",
       "        <td>0</td>\n",
       "        <td>0</td>\n",
       "        <td>0</td>\n",
       "        <td>0</td>\n",
       "        <td>0</td>\n",
       "        <td>0</td>\n",
       "        <td>1</td>\n",
       "        <td>0</td>\n",
       "    </tr>\n",
       "    <tr>\n",
       "        <td>30.0343467821854</td>\n",
       "        <td>20.1613122757229</td>\n",
       "        <td>0</td>\n",
       "        <td>35.5910792405514</td>\n",
       "        <td>80.0190722405748</td>\n",
       "        <td>0</td>\n",
       "        <td>0</td>\n",
       "        <td>0</td>\n",
       "        <td>1</td>\n",
       "        <td>0</td>\n",
       "        <td>0</td>\n",
       "        <td>0</td>\n",
       "        <td>0</td>\n",
       "        <td>0</td>\n",
       "        <td>0</td>\n",
       "        <td>0</td>\n",
       "        <td>0</td>\n",
       "    </tr>\n",
       "</table>"
      ],
      "text/plain": [
       "[(30.0173311750415, 19.3343147495518, 0, 19.4901626106699, 90.3479644929762, 0, 0, 0, 0, 1, 0, 0, 0, 0, 0, 0, 0),\n",
       " (30.0216768343846, 22.0544695006666, 1, 77.3278564318079, 141.447740363317, 0, 0, 0, 0, 0, 0, 1, 0, 0, 0, 0, 0),\n",
       " (30.0277581559261, 20.6442756349843, 1, 61.9923692043511, 70.7391050841909, 0, 0, 0, 0, 1, 0, 0, 0, 0, 0, 0, 0),\n",
       " (30.0339224466218, 23.0906157044053, 0, 51.1453332061173, 84.9332092198396, 0, 0, 0, 0, 0, 0, 0, 0, 0, 0, 1, 0),\n",
       " (30.0343467821854, 20.1613122757229, 0, 35.5910792405514, 80.0190722405748, 0, 0, 0, 1, 0, 0, 0, 0, 0, 0, 0, 0)]"
      ]
     },
     "execution_count": 26,
     "metadata": {},
     "output_type": "execute_result"
    }
   ],
   "source": [
    "%%sql\n",
    "SELECT * FROM sensors_split_train LIMIT 5;"
   ]
  },
  {
   "cell_type": "code",
   "execution_count": 27,
   "id": "5182b728-3fce-45d6-8b20-44e5626422be",
   "metadata": {
    "execution": {
     "iopub.execute_input": "2021-10-21T04:56:22.982563Z",
     "iopub.status.busy": "2021-10-21T04:56:22.982213Z",
     "iopub.status.idle": "2021-10-21T04:56:23.080986Z",
     "shell.execute_reply": "2021-10-21T04:56:23.079496Z",
     "shell.execute_reply.started": "2021-10-21T04:56:22.982526Z"
    },
    "tags": []
   },
   "outputs": [
    {
     "name": "stdout",
     "output_type": "stream",
     "text": [
      " * postgresql://gpadmin@192.168.133.128:31763/db\n",
      "1 rows affected.\n",
      " * postgresql://gpadmin@192.168.133.128:31763/db\n",
      "1 rows affected.\n",
      "\n",
      "Total rain in training set 35417\n",
      "Total rain in testing set 15187\n"
     ]
    }
   ],
   "source": [
    "train_rain = %sql SELECT COUNT(*) FROM sensors_split_train WHERE rain = 1;\n",
    "test_rain = %sql SELECT COUNT(*) FROM sensors_split_test WHERE rain = 1;\n",
    "\n",
    "print(\"\\nTotal rain in training set {}\".format(train_rain[0][0]))\n",
    "print(\"Total rain in testing set {}\".format(test_rain[0][0]))"
   ]
  },
  {
   "cell_type": "code",
   "execution_count": 28,
   "id": "47cef1f8-6dda-45a5-aa1e-916744a8075e",
   "metadata": {
    "execution": {
     "iopub.execute_input": "2021-10-21T04:56:23.084008Z",
     "iopub.status.busy": "2021-10-21T04:56:23.083598Z",
     "iopub.status.idle": "2021-10-21T04:56:23.406489Z",
     "shell.execute_reply": "2021-10-21T04:56:23.405599Z",
     "shell.execute_reply.started": "2021-10-21T04:56:23.083963Z"
    },
    "tags": []
   },
   "outputs": [
    {
     "data": {
      "image/png": "[encoded data removed]",
      "text/plain": [
       "<Figure size 792x432 with 2 Axes>"
      ]
     },
     "metadata": {},
     "output_type": "display_data"
    }
   ],
   "source": [
    "train_data=[train_rain[0][0],int((200000*0.7)-train_rain[0][0])]\n",
    "test_data=[test_rain[0][0],int((200000*0.3)-test_rain[0][0])]\n",
    "\n",
    "labels = ['rain','not_rain']\n",
    "\n",
    "f, (ax1, ax2) = plt.subplots(1, 2,figsize=(11,6))\n",
    "f.patch.set_facecolor('white')\n",
    "ax1.title.set_text('Training Set')\n",
    "ax2.title.set_text('Testing Set')\n",
    "f.suptitle(\"Rain Train/Test Distribution\",fontsize=15)\n",
    "ax1.pie(train_data,labels=labels,autopct=\"%.1f%%\",radius=1.2,textprops={'fontsize': 15,},explode = [0.1, 0],startangle = -30);\n",
    "ax2.pie(test_data,labels=labels,autopct=\"%.1f%%\",radius=1.2,textprops={'fontsize': 15},explode = [0.1, 0], startangle = -30);\n",
    "plt.tight_layout()"
   ]
  },
  {
   "cell_type": "markdown",
   "id": "0b672e9d-0cf5-4e27-9fb9-c1a8371f2b0a",
   "metadata": {},
   "source": [
    "## Logistic Regresion ( Classification model )"
   ]
  },
  {
   "cell_type": "code",
   "execution_count": 5,
   "id": "a6312323-db88-4451-b4a4-d4554fecfd54",
   "metadata": {
    "execution": {
     "iopub.execute_input": "2021-10-21T04:57:38.331456Z",
     "iopub.status.busy": "2021-10-21T04:57:38.331127Z",
     "iopub.status.idle": "2021-10-21T04:58:01.952195Z",
     "shell.execute_reply": "2021-10-21T04:58:01.951308Z",
     "shell.execute_reply.started": "2021-10-21T04:57:38.331415Z"
    },
    "tags": []
   },
   "outputs": [
    {
     "name": "stdout",
     "output_type": "stream",
     "text": [
      " * postgresql://gpadmin@192.168.133.128:31763/db\n",
      "Done.\n",
      "Done.\n",
      "1 rows affected.\n",
      "1 rows affected.\n"
     ]
    },
    {
     "data": {
      "text/html": [
       "<table>\n",
       "    <tr>\n",
       "        <th>method</th>\n",
       "        <th>source_table</th>\n",
       "        <th>out_table</th>\n",
       "        <th>dependent_varname</th>\n",
       "        <th>independent_varname</th>\n",
       "        <th>optimizer_params</th>\n",
       "        <th>num_all_groups</th>\n",
       "        <th>num_failed_groups</th>\n",
       "        <th>num_rows_processed</th>\n",
       "        <th>num_missing_rows_skipped</th>\n",
       "        <th>grouping_col</th>\n",
       "    </tr>\n",
       "    <tr>\n",
       "        <td>logregr</td>\n",
       "        <td>sensors_split_train</td>\n",
       "        <td>sensors_logreg_model</td>\n",
       "        <td>rain</td>\n",
       "        <td>ARRAY[<br>            1,<br>            temperature,<br>            temperature_2,<br>            humidity,pm25,<br>            &quot;month_January&quot;,&quot;month_February&quot;,&quot;month_March&quot;,<br>            &quot;month_April&quot;,&quot;month_May&quot;,&quot;month_June&quot;,<br>            &quot;month_July&quot;,&quot;month_August&quot;,&quot;month_September&quot;,<br>            &quot;month_October&quot;,&quot;month_November&quot;,&quot;month_December&quot;]</td>\n",
       "        <td>optimizer=irls, max_iter=20, tolerance=0.0001</td>\n",
       "        <td>1</td>\n",
       "        <td>0</td>\n",
       "        <td>140000</td>\n",
       "        <td>0</td>\n",
       "        <td>None</td>\n",
       "    </tr>\n",
       "</table>"
      ],
      "text/plain": [
       "[('logregr', 'sensors_split_train', 'sensors_logreg_model', 'rain', 'ARRAY[\\n            1,\\n            temperature,\\n            temperature_2,\\n            humidity,pm25,\\n            \"month_January\",\"month_February ... (44 characters truncated) ... \"month_May\",\"month_June\",\\n            \"month_July\",\"month_August\",\"month_September\",\\n            \"month_October\",\"month_November\",\"month_December\"]', 'optimizer=irls, max_iter=20, tolerance=0.0001', 1, 0, 140000, 0, None)]"
      ]
     },
     "execution_count": 5,
     "metadata": {},
     "output_type": "execute_result"
    }
   ],
   "source": [
    "%%sql\n",
    "DROP TABLE IF EXISTS sensors_logreg_model;\n",
    "DROP TABLE IF EXISTS sensors_logreg_model_summary;\n",
    "\n",
    "SELECT\n",
    "    madlib.logregr_train(        -- Train the Logistic Regression Model\n",
    "        'sensors_split_train',   -- source_table,\n",
    "        'sensors_logreg_model',  -- out_table,\n",
    "        'rain',                  -- labels,\n",
    "        'ARRAY[\n",
    "            1,\n",
    "            temperature,\n",
    "            temperature_2,\n",
    "            humidity,pm25,\n",
    "            \"month_January\",\"month_February\",\"month_March\",\n",
    "            \"month_April\",\"month_May\",\"month_June\",\n",
    "            \"month_July\",\"month_August\",\"month_September\",\n",
    "            \"month_October\",\"month_November\",\"month_December\"]'       -- feature\n",
    "        --, -- grouping_cols,\n",
    "        --, -- max_iter,\n",
    "        --, -- optimizer,\n",
    "        --, -- tolerance,\n",
    "        -- verbose\n",
    "    )\n",
    ";\n",
    "SELECT * FROM sensors_logreg_model_summary ;           --- Get the summary table"
   ]
  },
  {
   "cell_type": "code",
   "execution_count": 6,
   "id": "1ec1bd8c-503a-441d-b57b-5214db53c726",
   "metadata": {
    "execution": {
     "iopub.execute_input": "2021-10-21T04:58:25.342244Z",
     "iopub.status.busy": "2021-10-21T04:58:25.341980Z",
     "iopub.status.idle": "2021-10-21T04:58:25.360312Z",
     "shell.execute_reply": "2021-10-21T04:58:25.359593Z",
     "shell.execute_reply.started": "2021-10-21T04:58:25.342212Z"
    },
    "tags": []
   },
   "outputs": [
    {
     "name": "stdout",
     "output_type": "stream",
     "text": [
      " * postgresql://gpadmin@192.168.133.128:31763/db\n",
      "1 rows affected.\n"
     ]
    }
   ],
   "source": [
    "logreg_coefs = %sql SELECT coef FROM sensors_logreg_model ;\n",
    "logreg_coefs = logreg_coefs.DataFrame();"
   ]
  },
  {
   "cell_type": "code",
   "execution_count": 7,
   "id": "06d96b9e-456a-4c1d-8b53-f734989e797d",
   "metadata": {
    "execution": {
     "iopub.execute_input": "2021-10-21T04:58:25.754965Z",
     "iopub.status.busy": "2021-10-21T04:58:25.754697Z",
     "iopub.status.idle": "2021-10-21T04:58:25.763278Z",
     "shell.execute_reply": "2021-10-21T04:58:25.762478Z",
     "shell.execute_reply.started": "2021-10-21T04:58:25.754933Z"
    },
    "tags": []
   },
   "outputs": [
    {
     "data": {
      "text/plain": [
       "(('intercept', -15622.33267209),\n",
       " ('temperature', -0.147995271657574),\n",
       " ('temperature_2', -0.0672050385620664),\n",
       " ('humidity', 282.139733028604),\n",
       " ('pm25', 0.0239353480707959),\n",
       " ('month_January', -1302.15461576234),\n",
       " ('month_February', -1300.53485238174),\n",
       " ('month_March', -1301.70803989944),\n",
       " ('month_April', -1302.0547815848),\n",
       " ('month_May', -1302.58304509918),\n",
       " ('month_June', -1302.53856265989),\n",
       " ('month_July', -1301.34793683343),\n",
       " ('month_August', -1301.6961616867),\n",
       " ('month_September', -1301.43866379778),\n",
       " ('month_October', -1302.25021011806),\n",
       " ('month_November', -1301.99277043333),\n",
       " ('month_December', -1302.03386101354))"
      ]
     },
     "execution_count": 7,
     "metadata": {},
     "output_type": "execute_result"
    }
   ],
   "source": [
    "logreg_coef_names = (\n",
    "    'intercept',\n",
    "    'temperature',\n",
    "    'temperature_2',\n",
    "    'humidity',\n",
    "    'pm25',\n",
    "    \"month_January\",\"month_February\",\"month_March\",\n",
    "    \"month_April\",\"month_May\",\"month_June\",\"month_July\",\n",
    "    \"month_August\",\"month_September\",\"month_October\",\n",
    "    \"month_November\",\"month_December\"\n",
    ")\n",
    "tuple(zip(logreg_coef_names, logreg_coefs.iloc[0, 0]))"
   ]
  },
  {
   "cell_type": "code",
   "execution_count": 8,
   "id": "6bbcab2d-5ba8-4240-ae5d-1658c30f30ae",
   "metadata": {
    "execution": {
     "iopub.execute_input": "2021-10-21T04:58:26.499108Z",
     "iopub.status.busy": "2021-10-21T04:58:26.498847Z",
     "iopub.status.idle": "2021-10-21T04:58:27.366660Z",
     "shell.execute_reply": "2021-10-21T04:58:27.365851Z",
     "shell.execute_reply.started": "2021-10-21T04:58:26.499077Z"
    },
    "tags": []
   },
   "outputs": [
    {
     "name": "stdout",
     "output_type": "stream",
     "text": [
      " * postgresql://gpadmin@192.168.133.128:31763/db\n",
      "Done.\n",
      "60000 rows affected.\n",
      "10 rows affected.\n"
     ]
    },
    {
     "data": {
      "text/html": [
       "<table>\n",
       "    <tr>\n",
       "        <th>pred</th>\n",
       "        <th>y_test</th>\n",
       "    </tr>\n",
       "    <tr>\n",
       "        <td>0.0</td>\n",
       "        <td>0</td>\n",
       "    </tr>\n",
       "    <tr>\n",
       "        <td>8.84745515865183e-124</td>\n",
       "        <td>0</td>\n",
       "    </tr>\n",
       "    <tr>\n",
       "        <td>0.0</td>\n",
       "        <td>0</td>\n",
       "    </tr>\n",
       "    <tr>\n",
       "        <td>0.0</td>\n",
       "        <td>0</td>\n",
       "    </tr>\n",
       "    <tr>\n",
       "        <td>1.0</td>\n",
       "        <td>1</td>\n",
       "    </tr>\n",
       "    <tr>\n",
       "        <td>1.0</td>\n",
       "        <td>1</td>\n",
       "    </tr>\n",
       "    <tr>\n",
       "        <td>1.0</td>\n",
       "        <td>1</td>\n",
       "    </tr>\n",
       "    <tr>\n",
       "        <td>8.02048292729922e-61</td>\n",
       "        <td>0</td>\n",
       "    </tr>\n",
       "    <tr>\n",
       "        <td>0.0</td>\n",
       "        <td>0</td>\n",
       "    </tr>\n",
       "    <tr>\n",
       "        <td>0.0</td>\n",
       "        <td>0</td>\n",
       "    </tr>\n",
       "</table>"
      ],
      "text/plain": [
       "[(0.0, 0),\n",
       " (8.84745515865183e-124, 0),\n",
       " (0.0, 0),\n",
       " (0.0, 0),\n",
       " (1.0, 1),\n",
       " (1.0, 1),\n",
       " (1.0, 1),\n",
       " (8.02048292729922e-61, 0),\n",
       " (0.0, 0),\n",
       " (0.0, 0)]"
      ]
     },
     "execution_count": 8,
     "metadata": {},
     "output_type": "execute_result"
    }
   ],
   "source": [
    "%%sql\n",
    "DROP TABLE IF EXISTS sensors_logreg_test_prob;\n",
    "CREATE TABLE sensors_logreg_test_prob\n",
    "AS\n",
    "SELECT madlib.logregr_predict_prob(   --- Use the logistic regression model to estimate probability of mature\n",
    "        coef, \n",
    "        ARRAY[\n",
    "            1,\n",
    "            temperature,\n",
    "            temperature_2,\n",
    "            humidity,\n",
    "            pm25,\n",
    "            \"month_January\",\"month_February\",\"month_March\",\n",
    "            \"month_April\",\"month_May\",\"month_June\",\"month_July\",\n",
    "            \"month_August\",\"month_September\",\"month_October\",\n",
    "            \"month_November\",\"month_December\"]                   \n",
    "    ) as pred,\n",
    "    test.rain as y_test\n",
    "FROM sensors_split_test test, sensors_logreg_model model;\n",
    "\n",
    "SELECT * FROM sensors_logreg_test_prob LIMIT 10;"
   ]
  },
  {
   "cell_type": "markdown",
   "id": "45298048-c0fb-428e-a3cc-8141472c943e",
   "metadata": {},
   "source": [
    "### Confusion Matrix"
   ]
  },
  {
   "cell_type": "code",
   "execution_count": 28,
   "id": "ee07e4d4-fefc-4127-93cf-304ad1e596f5",
   "metadata": {
    "execution": {
     "iopub.execute_input": "2021-10-21T05:30:50.513998Z",
     "iopub.status.busy": "2021-10-21T05:30:50.513762Z",
     "iopub.status.idle": "2021-10-21T05:30:50.943993Z",
     "shell.execute_reply": "2021-10-21T05:30:50.943379Z",
     "shell.execute_reply.started": "2021-10-21T05:30:50.513969Z"
    },
    "tags": []
   },
   "outputs": [
    {
     "name": "stdout",
     "output_type": "stream",
     "text": [
      " * postgresql://gpadmin@192.168.133.128:31763/db\n",
      "Done.\n",
      "60000 rows affected.\n",
      "10 rows affected.\n"
     ]
    },
    {
     "data": {
      "text/html": [
       "<table>\n",
       "    <tr>\n",
       "        <th>pred</th>\n",
       "        <th>y_test</th>\n",
       "    </tr>\n",
       "    <tr>\n",
       "        <td>1</td>\n",
       "        <td>1</td>\n",
       "    </tr>\n",
       "    <tr>\n",
       "        <td>0</td>\n",
       "        <td>0</td>\n",
       "    </tr>\n",
       "    <tr>\n",
       "        <td>0</td>\n",
       "        <td>0</td>\n",
       "    </tr>\n",
       "    <tr>\n",
       "        <td>1</td>\n",
       "        <td>1</td>\n",
       "    </tr>\n",
       "    <tr>\n",
       "        <td>0</td>\n",
       "        <td>0</td>\n",
       "    </tr>\n",
       "    <tr>\n",
       "        <td>0</td>\n",
       "        <td>0</td>\n",
       "    </tr>\n",
       "    <tr>\n",
       "        <td>0</td>\n",
       "        <td>0</td>\n",
       "    </tr>\n",
       "    <tr>\n",
       "        <td>0</td>\n",
       "        <td>0</td>\n",
       "    </tr>\n",
       "    <tr>\n",
       "        <td>1</td>\n",
       "        <td>1</td>\n",
       "    </tr>\n",
       "    <tr>\n",
       "        <td>0</td>\n",
       "        <td>0</td>\n",
       "    </tr>\n",
       "</table>"
      ],
      "text/plain": [
       "[(1, 1),\n",
       " (0, 0),\n",
       " (0, 0),\n",
       " (1, 1),\n",
       " (0, 0),\n",
       " (0, 0),\n",
       " (0, 0),\n",
       " (0, 0),\n",
       " (1, 1),\n",
       " (0, 0)]"
      ]
     },
     "execution_count": 28,
     "metadata": {},
     "output_type": "execute_result"
    }
   ],
   "source": [
    "%%sql\n",
    "DROP TABLE IF EXISTS sensors_logreg_test_predict ;\n",
    "CREATE TABLE sensors_logreg_test_predict\n",
    "AS\n",
    "SELECT\n",
    "    (pred >= 0.5)::integer as pred,\n",
    "    y_test\n",
    "FROM sensors_logreg_test_prob;\n",
    "\n",
    "\n",
    "SELECT * FROM sensors_logreg_test_predict LIMIT 10;"
   ]
  },
  {
   "cell_type": "code",
   "execution_count": 29,
   "id": "3470ce5a-ed26-4f7f-b5db-b0ac8ed83fd0",
   "metadata": {
    "execution": {
     "iopub.execute_input": "2021-10-21T05:30:50.945435Z",
     "iopub.status.busy": "2021-10-21T05:30:50.945221Z",
     "iopub.status.idle": "2021-10-21T05:30:51.648381Z",
     "shell.execute_reply": "2021-10-21T05:30:51.647529Z",
     "shell.execute_reply.started": "2021-10-21T05:30:50.945412Z"
    },
    "tags": []
   },
   "outputs": [
    {
     "name": "stdout",
     "output_type": "stream",
     "text": [
      " * postgresql://gpadmin@192.168.133.128:31763/db\n",
      "Done.\n",
      "1 rows affected.\n"
     ]
    },
    {
     "data": {
      "text/html": [
       "<table>\n",
       "    <tr>\n",
       "        <th>confusion_matrix</th>\n",
       "    </tr>\n",
       "    <tr>\n",
       "        <td></td>\n",
       "    </tr>\n",
       "</table>"
      ],
      "text/plain": [
       "[('',)]"
      ]
     },
     "execution_count": 29,
     "metadata": {},
     "output_type": "execute_result"
    }
   ],
   "source": [
    "%%sql\n",
    "DROP TABLE IF EXISTS sensors_logreg_test_conf_matrix;\n",
    "SELECT\n",
    "madlib.confusion_matrix(\n",
    "    'sensors_logreg_test_predict',\n",
    "    'sensors_logreg_test_conf_matrix',\n",
    "    'pred',  -- prediction_col\n",
    "    'y_test' -- observation_col\n",
    ");"
   ]
  },
  {
   "cell_type": "code",
   "execution_count": 30,
   "id": "9cb21152-97a5-4f38-81f8-685d4870a6c4",
   "metadata": {
    "execution": {
     "iopub.execute_input": "2021-10-21T05:30:51.650852Z",
     "iopub.status.busy": "2021-10-21T05:30:51.650586Z",
     "iopub.status.idle": "2021-10-21T05:30:51.668874Z",
     "shell.execute_reply": "2021-10-21T05:30:51.668282Z",
     "shell.execute_reply.started": "2021-10-21T05:30:51.650823Z"
    },
    "tags": []
   },
   "outputs": [
    {
     "name": "stdout",
     "output_type": "stream",
     "text": [
      " * postgresql://gpadmin@192.168.133.128:31763/db\n",
      "2 rows affected.\n"
     ]
    }
   ],
   "source": [
    "confusion = %sql SELECT \\\n",
    "                        confusion_arr[1] as \"Predicted 0\",\\\n",
    "                        confusion_arr[2] as \"Predicted 1\" \\\n",
    "                        FROM sensors_logreg_test_conf_matrix ORDER BY row_id;\n",
    "\n",
    "confusion=confusion.DataFrame()"
   ]
  },
  {
   "cell_type": "code",
   "execution_count": 31,
   "id": "ef083c54-5cdd-45f1-8398-cceac2f540e9",
   "metadata": {
    "execution": {
     "iopub.execute_input": "2021-10-21T05:30:53.327689Z",
     "iopub.status.busy": "2021-10-21T05:30:53.327452Z",
     "iopub.status.idle": "2021-10-21T05:30:53.505954Z",
     "shell.execute_reply": "2021-10-21T05:30:53.505383Z",
     "shell.execute_reply.started": "2021-10-21T05:30:53.327661Z"
    },
    "tags": []
   },
   "outputs": [
    {
     "data": {
      "image/png": "[encoded data removed]",
      "text/plain": [
       "<Figure size 432x288 with 2 Axes>"
      ]
     },
     "metadata": {
      "needs_background": "light"
     },
     "output_type": "display_data"
    }
   ],
   "source": [
    "%matplotlib inline\n",
    "plt.title('Confusion Matrix')\n",
    "sns.heatmap(confusion.astype(int),annot=True,cmap=\"YlGnBu\",fmt='d',yticklabels=['True 0','True 1'],annot_kws={\"fontsize\":13});\n",
    "plt.yticks(rotation=0);"
   ]
  },
  {
   "cell_type": "code",
   "execution_count": 32,
   "id": "72ace31e-792c-417f-8f8c-35082cba5138",
   "metadata": {
    "execution": {
     "iopub.execute_input": "2021-10-21T05:30:54.959855Z",
     "iopub.status.busy": "2021-10-21T05:30:54.959622Z",
     "iopub.status.idle": "2021-10-21T05:30:55.411298Z",
     "shell.execute_reply": "2021-10-21T05:30:55.410741Z",
     "shell.execute_reply.started": "2021-10-21T05:30:54.959827Z"
    },
    "tags": []
   },
   "outputs": [
    {
     "name": "stdout",
     "output_type": "stream",
     "text": [
      " * postgresql://gpadmin@192.168.133.128:31763/db\n",
      "60000 rows affected.\n",
      "              precision    recall  f1-score   support\n",
      "\n",
      "           0       1.00      1.00      1.00     44813\n",
      "           1       1.00      1.00      1.00     15187\n",
      "\n",
      "    accuracy                           1.00     60000\n",
      "   macro avg       1.00      1.00      1.00     60000\n",
      "weighted avg       1.00      1.00      1.00     60000\n",
      "\n"
     ]
    }
   ],
   "source": [
    "classification= %sql SELECT y_test,pred FROM sensors_logreg_test_predict;\n",
    "classification=classification.DataFrame()\n",
    "\n",
    "print(classification_report(classification['y_test'],classification['pred']))"
   ]
  },
  {
   "cell_type": "markdown",
   "id": "cef05c60-7e1f-4ca9-b165-133ebdc58272",
   "metadata": {},
   "source": [
    "### ROC"
   ]
  },
  {
   "cell_type": "code",
   "execution_count": 33,
   "id": "4271e0ac-5b93-461d-a4be-323143b9f9fb",
   "metadata": {
    "execution": {
     "iopub.execute_input": "2021-10-21T05:30:56.002261Z",
     "iopub.status.busy": "2021-10-21T05:30:56.002034Z",
     "iopub.status.idle": "2021-10-21T05:30:56.255192Z",
     "shell.execute_reply": "2021-10-21T05:30:56.254395Z",
     "shell.execute_reply.started": "2021-10-21T05:30:56.002234Z"
    },
    "tags": []
   },
   "outputs": [
    {
     "name": "stdout",
     "output_type": "stream",
     "text": [
      " * postgresql://gpadmin@192.168.133.128:31763/db\n",
      "Done.\n",
      "1 rows affected.\n",
      "1 rows affected.\n"
     ]
    },
    {
     "data": {
      "text/html": [
       "<table>\n",
       "    <tr>\n",
       "        <th>area_under_roc</th>\n",
       "    </tr>\n",
       "    <tr>\n",
       "        <td>1.000000000000000000000000000000000000000000000</td>\n",
       "    </tr>\n",
       "</table>"
      ],
      "text/plain": [
       "[(Decimal('1.000000000000000000000000000000000000000000000'),)]"
      ]
     },
     "execution_count": 33,
     "metadata": {},
     "output_type": "execute_result"
    }
   ],
   "source": [
    "%%sql\n",
    "DROP TABLE IF EXISTS sensors_logreg_test_auc;\n",
    "SELECT\n",
    "madlib.area_under_roc(\n",
    "    'sensors_logreg_test_prob', \n",
    "    'sensors_logreg_test_auc', \n",
    "    'pred',  -- predictions, \n",
    "    'y_test'\n",
    ");\n",
    "\n",
    "SELECT * FROM sensors_logreg_test_auc;"
   ]
  },
  {
   "cell_type": "markdown",
   "id": "1decb2ff-ec40-45a3-8b7c-39194807db41",
   "metadata": {},
   "source": [
    "## Linear Regression  ( Regression Model )"
   ]
  },
  {
   "cell_type": "code",
   "execution_count": 15,
   "id": "57934b39-a57f-416b-a567-fe42e73bac15",
   "metadata": {
    "execution": {
     "iopub.execute_input": "2021-10-21T04:58:36.770940Z",
     "iopub.status.busy": "2021-10-21T04:58:36.770554Z",
     "iopub.status.idle": "2021-10-21T04:58:39.162364Z",
     "shell.execute_reply": "2021-10-21T04:58:39.161123Z",
     "shell.execute_reply.started": "2021-10-21T04:58:36.770903Z"
    },
    "tags": []
   },
   "outputs": [
    {
     "name": "stdout",
     "output_type": "stream",
     "text": [
      " * postgresql://gpadmin@192.168.133.128:31763/db\n",
      "Done.\n",
      "Done.\n",
      "1 rows affected.\n",
      "1 rows affected.\n"
     ]
    },
    {
     "data": {
      "text/html": [
       "<table>\n",
       "    <tr>\n",
       "        <th>coef</th>\n",
       "        <th>r2</th>\n",
       "        <th>std_err</th>\n",
       "        <th>t_stats</th>\n",
       "        <th>p_values</th>\n",
       "        <th>condition_no</th>\n",
       "        <th>bp_stats</th>\n",
       "        <th>bp_p_value</th>\n",
       "        <th>num_rows_processed</th>\n",
       "        <th>num_missing_rows_skipped</th>\n",
       "        <th>variance_covariance</th>\n",
       "    </tr>\n",
       "    <tr>\n",
       "        <td>[-8.9731595865966, 0.990882444864148, 0.000453847505403511, -7.32942755975254e-05, -0.759627003239913, -0.738929103605451, -0.794231495036283, -0.750473989912414, -0.703614031572572, -0.736991771496423, -0.723477173321947, -0.795086956234191, -0.745368179717828, -0.746887911155423, -0.725656100942916, -0.752815870422998]</td>\n",
       "        <td>0.0835364467887887</td>\n",
       "        <td>[0.262315375413009, 0.00879189183228088, 0.000534369745194247, 0.000525458009488665, 0.0343376415776303, 0.0356834511934803, 0.0344252562725332, 0.0343966638154023, 0.034069914616035, 0.0344235496450635, 0.0342061893203681, 0.034215780500528, 0.0344314427361866, 0.0342673853286117, 0.0345644881273968, 0.0341854518994623]</td>\n",
       "        <td>[-34.2075243300878, 112.704121452673, 0.849313625041653, -0.1394864561468, -22.1222823798936, -20.7078934041128, -23.0711861299918, -21.8182203349722, -20.6520632500034, -21.4095228149173, -21.1504756214148, -23.2374344411615, -21.6478927539816, -21.7958827028395, -20.9942672452812, -22.0215275385855]</td>\n",
       "        <td>[2.13562206274176e-255, 0.0, 0.39570825372092, 0.889065958397084, 2.96116296082895e-108, 4.086932178092e-95, 1.49630951222675e-117, 2.33713306398685e-105, 1.29555394651655e-94, 1.58645628053424e-101, 3.90853201367553e-99, 3.21030966655712e-119, 9.42540371222718e-104, 3.80155529719642e-105, 1.0477242266257e-97, 2.72826573572697e-107]</td>\n",
       "        <td>inf</td>\n",
       "        <td>12.0819888491996</td>\n",
       "        <td>0.67281280895703</td>\n",
       "        <td>140000</td>\n",
       "        <td>0</td>\n",
       "        <td>[[0.0688093561780678, -0.00225910569058429, -1.36688485675414e-05, -1.5861909776393e-05, 0.00572181948963528, 0.00576356517167428, 0.0057262835587797, 0.00569763290882509, 0.00568788297158649, 0.00572863777730453, 0.00573577613548356, 0.00572928809741482, 0.0057443655081936, 0.00575706461330345, 0.00576353638136581, 0.00575350356498777], [-0.00225910569058429, 7.72973619905273e-05, 1.46848122440697e-08, -2.83455595431741e-07, -0.00018786446665183, -0.000188736102950924, -0.000188153794584188, -0.000186831262721084, -0.000186838042385087, -0.000188070795079805, -0.000188459886625762, -0.000188158149091473, -0.000188736009737091, -0.000189093776850612, -0.00018931480135955, -0.00018884860256286], [-1.36688485675414e-05, 1.46848122440696e-08, 2.85551024578965e-07, 4.37247760999929e-10, -1.1344888987131e-06, -1.1536519656972e-06, -1.08505911443401e-06, -1.12748287916974e-06, -1.18017778933279e-06, -1.13121859056815e-06, -1.12264069333555e-06, -1.15913421173649e-06, -1.16575699638587e-06, -1.10414616065626e-06, -1.12688664774187e-06, -1.17820461986684e-06], [-1.5861909776393e-05, -2.83455595431741e-07, 4.37247760999922e-10, 2.7610611973579e-07, -1.32185102753769e-06, -1.40233888001375e-06, -1.29580289126246e-06, -1.38928503625114e-06, -1.26989994463028e-06, -1.32680182240295e-06, -1.2986202792657e-06, -1.30521065991582e-06, -1.26608369558945e-06, -1.3369378460827e-06, -1.30391576997441e-06, -1.34516192357843e-06], [0.00572181948963528, -0.00018786446665183, -1.1344888987131e-06, -1.32185102753769e-06, 0.00117907362911381, 0.000407124833796779, 0.000412220783639582, 0.000409560918817797, 0.000410823123470987, 0.000412466279720541, 0.000414670399206201, 0.000413956834558315, 0.000413982597903129, 0.000416378190538228, 0.000414979146887252, 0.000416582752023073], [0.00576356517167428, -0.000188736102950924, -1.1536519656972e-06, -1.40233888001375e-06, 0.000407124833796779, 0.00127330868907749, 0.000406961684779103, 0.000404316677778204, 0.000405546137827143, 0.000407218627470478, 0.000409418426931355, 0.000408705540102779, 0.000408726994895608, 0.000411144497406922, 0.000409739648365697, 0.000411353413284084], [0.0057262835587797, -0.000188153794584188, -1.08505911443401e-06, -1.29580289126246e-06, 0.000412220783639582, 0.000406961684779103, 0.00118509826942959, 0.000409396922348341, 0.00041066083474391, 0.000412311562022845, 0.00041452105802407, 0.000413799539021762, 0.000413829688026275, 0.000416230765685803, 0.000414831535437279, 0.000416420915661575], [0.00569763290882509, -0.000186831262721084, -1.12748287916974e-06, -1.38928503625114e-06, 0.000409560918817798, 0.000404316677778204, 0.000409396922348341, 0.0011831304816298, 0.000408007425845835, 0.000409649511753656, 0.000411842448487254, 0.000411133299942268, 0.000411142616810251, 0.000413551623753637, 0.000412141620873282, 0.000413759360824987], [0.00568788297158649, -0.000186838042385087, -1.18017778933279e-06, -1.26989994463028e-06, 0.000410823123470987, 0.000405546137827143, 0.000410660834743909, 0.000408007425845835, 0.00116075908194392, 0.000410908642793269, 0.00041311162920655, 0.000412406844954597, 0.000412433490402915, 0.000414799761708768, 0.000413407972115481, 0.000415018026613287], [0.00572863777730453, -0.000188070795079805, -1.13121859056815e-06, -1.32680182240295e-06, 0.000412466279720541, 0.000407218627470478, 0.000412311562022845, 0.000409649511753656, 0.000410908642793269, 0.00118498077016615, 0.00041476164022877, 0.000414046959128418, 0.000414073420574496, 0.000416472184139913, 0.000415072797545795, 0.000416675381800656], [0.00573577613548356, -0.000188459886625762, -1.12264069333555e-06, -1.2986202792657e-06, 0.000414670399206201, 0.000409418426931355, 0.000414521058024069, 0.000411842448487254, 0.00041311162920655, 0.00041476164022877, 0.00117006338782087, 0.000416253328954691, 0.000416286100558622, 0.000418681508059947, 0.000417285681456484, 0.000418880526589261], [0.00572928809741482, -0.000188158149091473, -1.15913421173649e-06, -1.30521065991582e-06, 0.000413956834558315, 0.000408705540102779, 0.000413799539021762, 0.000411133299942268, 0.000412406844954597, 0.000414046959128418, 0.000416253328954691, 0.00117071963526031, 0.000415572077821295, 0.000417959618061019, 0.000416565198530423, 0.000418169221119412], [0.0057443655081936, -0.000188736009737091, -1.16575699638587e-06, -1.26608369558945e-06, 0.000413982597903129, 0.000408726994895608, 0.000413829688026275, 0.000411142616810251, 0.000412433490402915, 0.000414073420574496, 0.000416286100558622, 0.000415572077821295, 0.0011855242488953, 0.000417991229893833, 0.000416603320799175, 0.000418199721653263], [0.00575706461330345, -0.000189093776850612, -1.10414616065626e-06, -1.3369378460827e-06, 0.000416378190538228, 0.000411144497406922, 0.000416230765685803, 0.000413551623753636, 0.000414799761708768, 0.000416472184139913, 0.000418681508059947, 0.000417959618061019, 0.000417991229893833, 0.00117425369725955, 0.000419004016417412, 0.000420597520419082], [0.00576353638136581, -0.00018931480135955, -1.12688664774187e-06, -1.30391576997441e-06, 0.000414979146887252, 0.000409739648365697, 0.000414831535437279, 0.000412141620873282, 0.000413407972115481, 0.000415072797545795, 0.000417285681456484, 0.000416565198530423, 0.000416603320799175, 0.000419004016417412, 0.00119470383950895, 0.000419201603469278], [0.00575350356498777, -0.00018884860256286, -1.17820461986684e-06, -1.34516192357843e-06, 0.000416582752023073, 0.000411353413284084, 0.000416420915661575, 0.000413759360824987, 0.000415018026613287, 0.000416675381800656, 0.000418880526589261, 0.000418169221119412, 0.000418199721653263, 0.000420597520419082, 0.000419201603469278, 0.00116864512157045]]</td>\n",
       "    </tr>\n",
       "</table>"
      ],
      "text/plain": [
       "[([-8.9731595865966, 0.990882444864148, 0.000453847505403511, -7.32942755975254e-05, -0.759627003239913, -0.738929103605451, -0.794231495036283, -0.7504 ... (22 characters truncated) ... 031572572, -0.736991771496423, -0.723477173321947, -0.795086956234191, -0.745368179717828, -0.746887911155423, -0.725656100942916, -0.752815870422998], 0.0835364467887887, [0.262315375413009, 0.00879189183228088, 0.000534369745194247, 0.000525458009488665, 0.0343376415776303, 0.0356834511934803, 0.0344252562725332, 0.034 ... (22 characters truncated) ... 9914616035, 0.0344235496450635, 0.0342061893203681, 0.034215780500528, 0.0344314427361866, 0.0342673853286117, 0.0345644881273968, 0.0341854518994623], [-34.2075243300878, 112.704121452673, 0.849313625041653, -0.1394864561468, -22.1222823798936, -20.7078934041128, -23.0711861299918, -21.8182203349722, ... (2 characters truncated) ... 20.6520632500034, -21.4095228149173, -21.1504756214148, -23.2374344411615, -21.6478927539816, -21.7958827028395, -20.9942672452812, -22.0215275385855], [2.13562206274176e-255, 0.0, 0.39570825372092, 0.889065958397084, 2.96116296082895e-108, 4.086932178092e-95, 1.49630951222675e-117, 2.33713306398685e- ... (34 characters truncated) ... 628053424e-101, 3.90853201367553e-99, 3.21030966655712e-119, 9.42540371222718e-104, 3.80155529719642e-105, 1.0477242266257e-97, 2.72826573572697e-107], inf, 12.0819888491996, 0.67281280895703, 140000, 0, [[0.0688093561780678, -0.00225910569058429, -1.36688485675414e-05, -1.5861909776393e-05, 0.00572181948963528, 0.00576356517167428, 0.0057262835587797, ... (5375 characters truncated) ... 00416675381800656, 0.000418880526589261, 0.000418169221119412, 0.000418199721653263, 0.000420597520419082, 0.000419201603469278, 0.00116864512157045]])]"
      ]
     },
     "execution_count": 15,
     "metadata": {},
     "output_type": "execute_result"
    }
   ],
   "source": [
    "%%sql\n",
    "DROP TABLE IF EXISTS sensors_linreg_model;\n",
    "DROP TABLE IF EXISTS sensors_linreg_model_summary;\n",
    "\n",
    "SELECT madlib.linregr_train(\n",
    "    'sensors_split_train',   -- source_table\n",
    "    'sensors_linreg_model',  -- out_table\n",
    "    'temperature_2',         -- labels\n",
    "    'ARRAY[\n",
    "        1,\n",
    "        temperature,\n",
    "        humidity,pm25,\n",
    "        \"month_January\",\"month_February\",\"month_March\",\n",
    "        \"month_April\",\"month_May\",\"month_June\",\n",
    "        \"month_July\",\"month_August\",\"month_September\",\n",
    "        \"month_October\",\"month_November\",\"month_December\"]',       -- feature\n",
    "    NULL,  -- grouping_cols\n",
    "    TRUE  -- heteroskedasticity_option\n",
    ");\n",
    "\n",
    "SELECT * FROM sensors_linreg_model LIMIT 10;"
   ]
  },
  {
   "cell_type": "code",
   "execution_count": 16,
   "id": "f5c0bed4-5c3e-4928-b6b8-b5dcb38e994a",
   "metadata": {
    "execution": {
     "iopub.execute_input": "2021-10-21T04:58:39.164045Z",
     "iopub.status.busy": "2021-10-21T04:58:39.163657Z",
     "iopub.status.idle": "2021-10-21T04:58:40.462817Z",
     "shell.execute_reply": "2021-10-21T04:58:40.461842Z",
     "shell.execute_reply.started": "2021-10-21T04:58:39.164000Z"
    },
    "tags": []
   },
   "outputs": [
    {
     "name": "stdout",
     "output_type": "stream",
     "text": [
      " * postgresql://gpadmin@192.168.133.128:31763/db\n",
      "Done.\n",
      "60000 rows affected.\n",
      "5 rows affected.\n"
     ]
    },
    {
     "data": {
      "text/html": [
       "<table>\n",
       "    <tr>\n",
       "        <th>prediction</th>\n",
       "        <th>y_test</th>\n",
       "    </tr>\n",
       "    <tr>\n",
       "        <td>22.0249418915196</td>\n",
       "        <td>24.2827845870469</td>\n",
       "    </tr>\n",
       "    <tr>\n",
       "        <td>22.1676333218757</td>\n",
       "        <td>22.878881957075</td>\n",
       "    </tr>\n",
       "    <tr>\n",
       "        <td>23.8660188749663</td>\n",
       "        <td>22.463237285746</td>\n",
       "    </tr>\n",
       "    <tr>\n",
       "        <td>22.4982772095861</td>\n",
       "        <td>23.9494611866169</td>\n",
       "    </tr>\n",
       "    <tr>\n",
       "        <td>20.3719095166408</td>\n",
       "        <td>20.9218431932262</td>\n",
       "    </tr>\n",
       "</table>"
      ],
      "text/plain": [
       "[(22.0249418915196, 24.2827845870469),\n",
       " (22.1676333218757, 22.878881957075),\n",
       " (23.8660188749663, 22.463237285746),\n",
       " (22.4982772095861, 23.9494611866169),\n",
       " (20.3719095166408, 20.9218431932262)]"
      ]
     },
     "execution_count": 16,
     "metadata": {},
     "output_type": "execute_result"
    }
   ],
   "source": [
    "%%sql\n",
    "DROP TABLE IF EXISTS sensors_linreg_test_predict;\n",
    "\n",
    "CREATE TABLE sensors_linreg_test_predict\n",
    "AS\n",
    "SELECT \n",
    "    madlib.linregr_predict(\n",
    "        coef, \n",
    "        ARRAY[\n",
    "            1,\n",
    "            temperature,\n",
    "            humidity,pm25,\n",
    "            \"month_January\",\"month_February\",\"month_March\",\n",
    "            \"month_April\",\"month_May\",\"month_June\",\n",
    "            \"month_July\",\"month_August\",\"month_September\",\n",
    "            \"month_October\",\"month_November\",\"month_December\"\n",
    "            ] \n",
    "    ) as prediction,\n",
    "    test.temperature_2 as y_test\n",
    "FROM sensors_split_test test, sensors_linreg_model model;\n",
    "\n",
    "SELECT * FROM sensors_linreg_test_predict LIMIT 5;"
   ]
  },
  {
   "cell_type": "code",
   "execution_count": 17,
   "id": "781f0732-1068-4748-9e8b-945509786b20",
   "metadata": {
    "execution": {
     "iopub.execute_input": "2021-10-21T04:58:40.468008Z",
     "iopub.status.busy": "2021-10-21T04:58:40.467716Z",
     "iopub.status.idle": "2021-10-21T04:58:40.956189Z",
     "shell.execute_reply": "2021-10-21T04:58:40.955244Z",
     "shell.execute_reply.started": "2021-10-21T04:58:40.467972Z"
    },
    "tags": []
   },
   "outputs": [
    {
     "name": "stdout",
     "output_type": "stream",
     "text": [
      " * postgresql://gpadmin@192.168.133.128:31763/db\n",
      "Done.\n",
      "1 rows affected.\n",
      "1 rows affected.\n"
     ]
    },
    {
     "data": {
      "text/html": [
       "<table>\n",
       "    <tr>\n",
       "        <th>mean_squared_error</th>\n",
       "    </tr>\n",
       "    <tr>\n",
       "        <td>8.92046307131852</td>\n",
       "    </tr>\n",
       "</table>"
      ],
      "text/plain": [
       "[(8.92046307131852,)]"
      ]
     },
     "execution_count": 17,
     "metadata": {},
     "output_type": "execute_result"
    }
   ],
   "source": [
    "%%sql\n",
    "DROP TABLE IF EXISTS sensors_linreg_test_predict_mse;\n",
    "\n",
    "SELECT madlib.mean_squared_error(\n",
    "    'sensors_linreg_test_predict',      -- table_in\n",
    "    'sensors_linreg_test_predict_mse',  -- table_out\n",
    "    'prediction',  -- prediction\n",
    "    'y_test'  -- y_test\n",
    ");\n",
    "\n",
    "SELECT * FROM sensors_linreg_test_predict_mse;"
   ]
  },
  {
   "cell_type": "code",
   "execution_count": 34,
   "id": "840d486f-95f3-4e58-88e5-61502b2bbe5f",
   "metadata": {
    "execution": {
     "iopub.execute_input": "2021-10-21T05:31:03.759154Z",
     "iopub.status.busy": "2021-10-21T05:31:03.758925Z",
     "iopub.status.idle": "2021-10-21T05:31:03.771366Z",
     "shell.execute_reply": "2021-10-21T05:31:03.770699Z",
     "shell.execute_reply.started": "2021-10-21T05:31:03.759126Z"
    },
    "tags": []
   },
   "outputs": [
    {
     "name": "stdout",
     "output_type": "stream",
     "text": [
      " * postgresql://gpadmin@192.168.133.128:31763/db\n",
      "200 rows affected.\n"
     ]
    }
   ],
   "source": [
    "pred = %sql SELECT * FROM sensors_linreg_test_predict LIMIT 200;\n",
    "pred=pred.DataFrame()"
   ]
  },
  {
   "cell_type": "code",
   "execution_count": 35,
   "id": "5a3fcc18-5c07-4e4d-a3bd-fc65e01149b0",
   "metadata": {
    "execution": {
     "iopub.execute_input": "2021-10-21T05:31:04.210946Z",
     "iopub.status.busy": "2021-10-21T05:31:04.210752Z",
     "iopub.status.idle": "2021-10-21T05:31:04.219222Z",
     "shell.execute_reply": "2021-10-21T05:31:04.218388Z",
     "shell.execute_reply.started": "2021-10-21T05:31:04.210924Z"
    },
    "tags": []
   },
   "outputs": [
    {
     "data": {
      "text/html": [
       "<div>\n",
       "<style scoped>\n",
       "    .dataframe tbody tr th:only-of-type {\n",
       "        vertical-align: middle;\n",
       "    }\n",
       "\n",
       "    .dataframe tbody tr th {\n",
       "        vertical-align: top;\n",
       "    }\n",
       "\n",
       "    .dataframe thead th {\n",
       "        text-align: right;\n",
       "    }\n",
       "</style>\n",
       "<table border=\"1\" class=\"dataframe\">\n",
       "  <thead>\n",
       "    <tr style=\"text-align: right;\">\n",
       "      <th></th>\n",
       "      <th>prediction</th>\n",
       "      <th>y_test</th>\n",
       "    </tr>\n",
       "  </thead>\n",
       "  <tbody>\n",
       "    <tr>\n",
       "      <th>0</th>\n",
       "      <td>22.024942</td>\n",
       "      <td>24.282785</td>\n",
       "    </tr>\n",
       "    <tr>\n",
       "      <th>1</th>\n",
       "      <td>22.167633</td>\n",
       "      <td>22.878882</td>\n",
       "    </tr>\n",
       "    <tr>\n",
       "      <th>2</th>\n",
       "      <td>23.866019</td>\n",
       "      <td>22.463237</td>\n",
       "    </tr>\n",
       "    <tr>\n",
       "      <th>3</th>\n",
       "      <td>22.498277</td>\n",
       "      <td>23.949461</td>\n",
       "    </tr>\n",
       "    <tr>\n",
       "      <th>4</th>\n",
       "      <td>20.371910</td>\n",
       "      <td>20.921843</td>\n",
       "    </tr>\n",
       "    <tr>\n",
       "      <th>...</th>\n",
       "      <td>...</td>\n",
       "      <td>...</td>\n",
       "    </tr>\n",
       "    <tr>\n",
       "      <th>195</th>\n",
       "      <td>22.876307</td>\n",
       "      <td>18.805454</td>\n",
       "    </tr>\n",
       "    <tr>\n",
       "      <th>196</th>\n",
       "      <td>22.638780</td>\n",
       "      <td>25.295263</td>\n",
       "    </tr>\n",
       "    <tr>\n",
       "      <th>197</th>\n",
       "      <td>23.554960</td>\n",
       "      <td>28.720290</td>\n",
       "    </tr>\n",
       "    <tr>\n",
       "      <th>198</th>\n",
       "      <td>21.883388</td>\n",
       "      <td>20.719570</td>\n",
       "    </tr>\n",
       "    <tr>\n",
       "      <th>199</th>\n",
       "      <td>21.021991</td>\n",
       "      <td>23.003518</td>\n",
       "    </tr>\n",
       "  </tbody>\n",
       "</table>\n",
       "<p>200 rows × 2 columns</p>\n",
       "</div>"
      ],
      "text/plain": [
       "     prediction     y_test\n",
       "0     22.024942  24.282785\n",
       "1     22.167633  22.878882\n",
       "2     23.866019  22.463237\n",
       "3     22.498277  23.949461\n",
       "4     20.371910  20.921843\n",
       "..          ...        ...\n",
       "195   22.876307  18.805454\n",
       "196   22.638780  25.295263\n",
       "197   23.554960  28.720290\n",
       "198   21.883388  20.719570\n",
       "199   21.021991  23.003518\n",
       "\n",
       "[200 rows x 2 columns]"
      ]
     },
     "execution_count": 35,
     "metadata": {},
     "output_type": "execute_result"
    }
   ],
   "source": [
    "pred"
   ]
  },
  {
   "cell_type": "code",
   "execution_count": 39,
   "id": "b9679c2a-dac2-407d-a881-91b83d111a0b",
   "metadata": {
    "execution": {
     "iopub.execute_input": "2021-10-21T05:31:46.539589Z",
     "iopub.status.busy": "2021-10-21T05:31:46.539361Z",
     "iopub.status.idle": "2021-10-21T05:31:46.877887Z",
     "shell.execute_reply": "2021-10-21T05:31:46.877135Z",
     "shell.execute_reply.started": "2021-10-21T05:31:46.539561Z"
    },
    "presto": {
     "id": "59300cfb-ba19-46a1-a9bc-0c2d019e8b78"
    },
    "tags": []
   },
   "outputs": [
    {
     "data": {
      "image/png": "[encoded data removed]",
      "text/plain": [
       "<Figure size 720x360 with 1 Axes>"
      ]
     },
     "metadata": {
      "needs_background": "light"
     },
     "output_type": "display_data"
    }
   ],
   "source": [
    "%matplotlib inline\n",
    "sns.lmplot(x='prediction',y='y_test',data=pred,height=5,aspect=2)\n",
    "plt.title(\"LR prediction , y_test scatterplot\") \n",
    "plt.ylim(10,50);"
   ]
  },
  {
   "cell_type": "markdown",
   "id": "df828697-81f5-453f-8405-986b2216642e",
   "metadata": {},
   "source": [
    "## Multilayer Perceptron ( ANN )"
   ]
  },
  {
   "cell_type": "code",
   "execution_count": 21,
   "id": "f7fd2dbc-eb22-4f1c-8bc9-13d50fa54b4c",
   "metadata": {
    "execution": {
     "iopub.execute_input": "2021-10-21T04:58:41.630333Z",
     "iopub.status.busy": "2021-10-21T04:58:41.629971Z",
     "iopub.status.idle": "2021-10-21T05:01:12.778791Z",
     "shell.execute_reply": "2021-10-21T05:01:12.778169Z",
     "shell.execute_reply.started": "2021-10-21T04:58:41.630292Z"
    },
    "tags": []
   },
   "outputs": [
    {
     "name": "stdout",
     "output_type": "stream",
     "text": [
      " * postgresql://gpadmin@192.168.133.128:31763/db\n",
      "Done.\n",
      "Done.\n",
      "1 rows affected.\n",
      "1 rows affected.\n"
     ]
    },
    {
     "data": {
      "text/html": [
       "<table>\n",
       "    <tr>\n",
       "        <th>coeff</th>\n",
       "        <th>loss</th>\n",
       "        <th>num_iterations</th>\n",
       "    </tr>\n",
       "    <tr>\n",
       "        <td>[-4.58768589174495, 0.144408205385255, 1.296777219013, -0.250531755296532, 0.016938042861642, -0.105379548023169, -0.0120771494931798, -0.03126668928356, -0.182743255814529, -0.117090775768554, -0.0106215091981405, 0.00605945630734775, -0.100379161473904, 0.00733537651470364, 0.106377936662614, -0.0776588365161545, 0.0741180323055, -4.31624881197378, -0.0048994744125322, -1.4275584311199, 0.291656316063752, 0.237390520067489, -0.0939671246266833, 0.0987869835558913, 0.0789061150343114, 0.0767674253899046, -0.0644997360992308, 0.040225337347905, 0.0107262435608503, 0.277616019871669, -0.017196015437297, -0.0846226029705058, -0.225881327086503, -0.128786084722535, -4.35452130844591, 0.034988509365074, 1.17560833841942, -0.0245471668791691, -0.119721283056685, 0.00950191591553491, 0.0446922289036323, -0.118180118820109, 0.0603648003115713, 0.09417543954708, -0.0159812849197166, -0.0701900269565118, -0.00988106526969779, 0.0416164578777723, 0.0497219552471914, 0.0655478220585105, 0.07852816305286, -4.23757798971447, -0.0441990572213711, -1.38018610612444, 0.0534526577071543, 0.0634774040276741, -0.057479811217837, 0.0513406088839778, 0.0997419395418059, 0.033482570796045, -0.0469243134448913, 0.0168763390326734, 0.0416934046443892, 0.189008377227795, -0.0666996128652412, 0.0508655080128133, -0.120754196242615, -0.0238487829353156, -4.9867365600034, 0.0411410296759761, 1.71755004294093, 0.409078244984694, 0.351806387328963, 0.16937227073555, 0.0892468175126353, -0.0768129099741532, 0.149312434054198, 0.0499308764063717, -0.0527772466412331, 0.277694224338688, -0.0507839496667241, -0.155802138920701, -0.395831286420979, 0.176068338380521, -0.30300756748167, 6.34228283267667, -0.000209439938756997, 1.29331483893539, 0.215205108941652, 0.0791759042974716, -0.0611928652879093, 0.136268221565361, 0.0523688457712501, -0.0143738697561302, 0.0743606840402802, 0.093610401910567, 0.144172685543498, 0.00681994938367515, -0.0123353781478683, -0.0406552693441246, 0.00378805092970361, -0.0208140613448896, -4.74202147346102, -0.0195173763471493, 1.40976470936627, -0.141161815742804, 0.263638715288234, 0.0816596389417987, 0.0216647419730206, 0.159358074975472, -0.0531181370756763, -0.139999221605174, 0.0946476509476504, 0.130079631479916, 0.0110078362694807, 0.00296734508220534, 0.0526894632283336, -0.100210410777041, 0.0138717986252595, -4.29844053552001, 0.0289201665280969, 1.13397579254614, -0.00204156510793823, -0.143484814014545, -0.00148934554349358, 0.0407057462632643, -0.144295863701537, 0.0606088113601006, 0.107403857574009, -0.0343438224462518, -0.0979411151788198, -0.0201978589277987, 0.031117745984928, 0.0324757205979982, 0.0668030231554533, 0.0736447151435419, -4.6852780103904, -0.0317448946031777, 1.37929060004589, -0.171458536783003, 0.220393753495875, 0.0265221899575661, -0.00502544833208287, 0.1177549594734, -0.112383744118883, -0.162995495812608, 0.0594841711650389, 0.0789850222833825, -0.0281174380106924, -0.0150748180151516, 0.0654205614574329, -0.11732358176996, 0.0115290950001703, 6.31497666023739, -0.0443639958236187, 1.29654335582613, 0.22471483570864, 0.0687139113413373, -0.0996562167852627, 0.111934847780102, 0.0227598505888329, -0.0498406538999782, 0.0367782425291378, 0.0588395384385731, 0.111748118593518, -0.0270175369523149, -0.0371459617548386, -0.0724358632824025, -0.0317745185676773, -0.056069544962677, -4.40689909931894, -0.0939467752605787, 1.21575065980664, -0.023803199857662, -0.0838973521295077, 0.0455114038706072, 0.0752512965430045, -0.0651166205182536, 0.0890705966109103, 0.1050334767636, 0.0279051596913378, -0.013001390479472, 0.024145260147881, 0.0713149568347132, 0.0742614452388917, 0.0839690525150067, 0.0934160102624876, -4.34924845639821, 0.0246790442926212, 1.17161924443353, -0.0231262877256055, -0.122622812002786, -0.00798079069482461, 0.02864870935, -0.137293795767171, 0.0440810617086327, 0.0790396170116763, -0.0343239248834133, -0.0897347177732877, -0.0273572018362308, 0.0244568520809969, 0.0320823215715438, 0.0496192818919346, 0.0620285749404577, -4.90709501214444, 0.153423518276596, 1.59590992921358, 0.340616122723288, 0.264249099508506, 0.169133466065852, 0.128244235575466, -0.0181843150141429, 0.184208976790478, 0.0854714162042833, 0.00557764788073223, 0.217902608586479, -0.0121385520005625, -0.0658168427170412, -0.32071413891854, 0.0945626246427425, -0.238004775018931, -4.80819712091073, -0.139280923566631, 1.48249033788495, 0.30456788715111, 0.16139751952559, 0.127516651636831, 0.15147500006573, -0.0106969138258415, 0.200476047326709, 0.113485562289543, 0.0319789505986209, 0.156684203804805, 0.013909121711427, 0.00854614437988301, -0.255098752011948, 0.0895977054121053, -0.176708088908914, -4.55790073949074, -0.123464162850104, 1.55738124189604, -0.119754306272593, -0.0867200261747365, -0.157245426221919, -0.073985976693736, 0.0385132496757427, 0.00182969220453514, 0.0744207280717284, -0.0999218912934131, -0.020430048093547, -0.0329170473989527, 0.0839057935917923, 0.133166639763422, -0.0415992709908185, 0.185037803004745, -4.47227524461662, -0.0321519331767856, 1.26505188954456, -0.0503425359027221, -0.0325785800014992, 0.0225445432854274, 0.0433692450380354, -0.0540623312058984, 0.0401153588217516, 0.0393772626787634, 0.019485901144327, -0.00569362542863032, -0.00316489041627828, 0.0377181631626421, 0.0527481718540243, 0.0297794737759077, 0.0526641541703999, 12.7673604417825, 0.504201781036248, -0.499014290725368, 0.491221540036218, -0.492633720562628, 0.385802436753657, 5.29032737046871, 0.544382694457987, 0.48440552696138, 0.529684390774751, 5.17003351008293, 0.500742825374973, 0.490411554057279, 0.426736310833832, 0.469863799953791, 0.273483367661748, 0.511077063898507]</td>\n",
       "        <td>5.56379025206824</td>\n",
       "        <td>52</td>\n",
       "    </tr>\n",
       "</table>"
      ],
      "text/plain": [
       "[([-4.58768589174495, 0.144408205385255, 1.296777219013, -0.250531755296532, 0.016938042861642, -0.105379548023169, -0.0120771494931798, -0.031266689283 ... (5415 characters truncated) ... 0.529684390774751, 5.17003351008293, 0.500742825374973, 0.490411554057279, 0.426736310833832, 0.469863799953791, 0.273483367661748, 0.511077063898507], 5.56379025206824, 52)]"
      ]
     },
     "execution_count": 21,
     "metadata": {},
     "output_type": "execute_result"
    }
   ],
   "source": [
    "%%sql\n",
    "DROP TABLE IF EXISTS sensors_mlp_model;\n",
    "DROP TABLE IF EXISTS sensors_mlp_model_standardization;\n",
    "\n",
    "SELECT madlib.mlp_regression(\n",
    "    'sensors_split_train',           -- source_table\n",
    "    'sensors_mlp_model',             -- out_table\n",
    "    'ARRAY[\n",
    "        1,\n",
    "        temperature,\n",
    "        humidity,pm25,\n",
    "        \"month_January\",\"month_February\",\"month_March\",\n",
    "        \"month_April\",\"month_May\",\"month_June\",\n",
    "        \"month_July\",\"month_August\",\"month_September\",\n",
    "        \"month_October\",\"month_November\",\"month_December\"]',       -- feature\n",
    "    'temperature_2',                 -- labels\n",
    "    ARRAY[16],                       -- hidden_layer_sizes\n",
    "    NULL,                            -- optimizer_params,\n",
    "    NULL,                            -- activation,\n",
    "    NULL,                            -- weights,\n",
    "    NULL,                            -- warm_start,\n",
    "    NULL,                            -- verbose,\n",
    "    NULL                             -- grouping_col\n",
    ");\n",
    "\n",
    "SELECT * FROM sensors_mlp_model;"
   ]
  },
  {
   "cell_type": "markdown",
   "id": "9b5699a8-6ed4-4e97-92d3-c3b4c9eb1706",
   "metadata": {},
   "source": [
    "Mean and Standard Deviation for normalizing inputs"
   ]
  },
  {
   "cell_type": "code",
   "execution_count": 22,
   "id": "abc0fcf0-0906-4ec8-9641-4d470c37e3ce",
   "metadata": {
    "execution": {
     "iopub.execute_input": "2021-10-21T05:01:12.780181Z",
     "iopub.status.busy": "2021-10-21T05:01:12.779772Z",
     "iopub.status.idle": "2021-10-21T05:01:12.789023Z",
     "shell.execute_reply": "2021-10-21T05:01:12.788318Z",
     "shell.execute_reply.started": "2021-10-21T05:01:12.780153Z"
    }
   },
   "outputs": [
    {
     "name": "stdout",
     "output_type": "stream",
     "text": [
      " * postgresql://gpadmin@192.168.133.128:31763/db\n",
      "1 rows affected.\n"
     ]
    },
    {
     "data": {
      "text/html": [
       "<table>\n",
       "    <tr>\n",
       "        <th>mean</th>\n",
       "        <th>std</th>\n",
       "    </tr>\n",
       "    <tr>\n",
       "        <td>[1.0, 32.000508810203, 50.0662596592155, 95.0057424307633, 0.0838214285714286, 0.07375, 0.0831357142857143, 0.0827785714285714, 0.0855214285714286, 0.0832, 0.0853357142857143, 0.0851, 0.0834714285714286, 0.08525, 0.0827, 0.0859357142857143]</td>\n",
       "        <td>[1.0, 0.913595486106037, 15.002365296593, 15.2858804331399, 0.277119823693061, 0.261363611660078, 0.276087245804507, 0.275547236496424, 0.279656063453898, 0.276184286301737, 0.279380618785665, 0.279030446367417, 0.276593472778505, 0.279253357186624, 0.275428230216149, 0.280269098003898]</td>\n",
       "    </tr>\n",
       "</table>"
      ],
      "text/plain": [
       "[([1.0, 32.000508810203, 50.0662596592155, 95.0057424307633, 0.0838214285714286, 0.07375, 0.0831357142857143, 0.0827785714285714, 0.0855214285714286, 0.0832, 0.0853357142857143, 0.0851, 0.0834714285714286, 0.08525, 0.0827, 0.0859357142857143], [1.0, 0.913595486106037, 15.002365296593, 15.2858804331399, 0.277119823693061, 0.261363611660078, 0.276087245804507, 0.275547236496424, 0.279656063453898, 0.276184286301737, 0.279380618785665, 0.279030446367417, 0.276593472778505, 0.279253357186624, 0.275428230216149, 0.280269098003898])]"
      ]
     },
     "execution_count": 22,
     "metadata": {},
     "output_type": "execute_result"
    }
   ],
   "source": [
    "%%sql\n",
    "\n",
    "SELECT * FROM sensors_mlp_model_standardization;"
   ]
  },
  {
   "cell_type": "code",
   "execution_count": 23,
   "id": "520a33ed-97fb-4448-8d64-6b841696a264",
   "metadata": {
    "execution": {
     "iopub.execute_input": "2021-10-21T05:01:12.790450Z",
     "iopub.status.busy": "2021-10-21T05:01:12.790158Z",
     "iopub.status.idle": "2021-10-21T05:01:16.558837Z",
     "shell.execute_reply": "2021-10-21T05:01:16.558049Z",
     "shell.execute_reply.started": "2021-10-21T05:01:12.790424Z"
    },
    "tags": []
   },
   "outputs": [
    {
     "name": "stdout",
     "output_type": "stream",
     "text": [
      " * postgresql://gpadmin@192.168.133.128:31763/db\n",
      "1 rows affected.\n"
     ]
    },
    {
     "data": {
      "text/html": [
       "<table>\n",
       "    <tr>\n",
       "        <th>mlp_predict</th>\n",
       "    </tr>\n",
       "    <tr>\n",
       "        <td></td>\n",
       "    </tr>\n",
       "</table>"
      ],
      "text/plain": [
       "[('',)]"
      ]
     },
     "execution_count": 23,
     "metadata": {},
     "output_type": "execute_result"
    }
   ],
   "source": [
    "%%sql\n",
    "SELECT \n",
    "    madlib.mlp_predict(\n",
    "        'sensors_mlp_model',\n",
    "        'sensors_split_test',\n",
    "        'ARRAY[\n",
    "            1,\n",
    "            temperature,\n",
    "            humidity,pm25,\n",
    "            \"month_January\",\"month_February\",\"month_March\",\n",
    "            \"month_April\",\"month_May\",\"month_June\",\n",
    "            \"month_July\",\"month_August\",\"month_September\",\n",
    "            \"month_October\",\"month_November\",\"month_December\"]',\n",
    "        'sensors_mlp_test_predict',\n",
    "        'response'\n",
    "    );"
   ]
  },
  {
   "cell_type": "code",
   "execution_count": 24,
   "id": "23af25da-7ce4-4082-9086-61fe05af56f8",
   "metadata": {
    "execution": {
     "iopub.execute_input": "2021-10-21T05:01:16.560406Z",
     "iopub.status.busy": "2021-10-21T05:01:16.560198Z",
     "iopub.status.idle": "2021-10-21T05:01:18.566734Z",
     "shell.execute_reply": "2021-10-21T05:01:18.565972Z",
     "shell.execute_reply.started": "2021-10-21T05:01:16.560379Z"
    },
    "tags": []
   },
   "outputs": [
    {
     "name": "stdout",
     "output_type": "stream",
     "text": [
      " * postgresql://gpadmin@192.168.133.128:31763/db\n",
      "Done.\n",
      "1 rows affected.\n",
      "5 rows affected.\n"
     ]
    },
    {
     "data": {
      "text/html": [
       "<table>\n",
       "    <tr>\n",
       "        <th>temperature_2</th>\n",
       "        <th>estimated_temperature_2</th>\n",
       "    </tr>\n",
       "    <tr>\n",
       "        <td>21.7004712521324</td>\n",
       "        <td>23.1298032299375</td>\n",
       "    </tr>\n",
       "    <tr>\n",
       "        <td>21.6717807378192</td>\n",
       "        <td>23.1406121015711</td>\n",
       "    </tr>\n",
       "    <tr>\n",
       "        <td>14.3885708611461</td>\n",
       "        <td>23.0887210542185</td>\n",
       "    </tr>\n",
       "    <tr>\n",
       "        <td>22.5694267492201</td>\n",
       "        <td>23.2186148409888</td>\n",
       "    </tr>\n",
       "    <tr>\n",
       "        <td>24.8544872407643</td>\n",
       "        <td>23.253549463613</td>\n",
       "    </tr>\n",
       "</table>"
      ],
      "text/plain": [
       "[(21.7004712521324, 23.1298032299375),\n",
       " (21.6717807378192, 23.1406121015711),\n",
       " (14.3885708611461, 23.0887210542185),\n",
       " (22.5694267492201, 23.2186148409888),\n",
       " (24.8544872407643, 23.253549463613)]"
      ]
     },
     "execution_count": 24,
     "metadata": {},
     "output_type": "execute_result"
    }
   ],
   "source": [
    "%%sql\n",
    "DROP TABLE IF EXISTS sensors_mlp_test_predict;\n",
    "\n",
    "SELECT \n",
    "    madlib.mlp_predict(\n",
    "        'sensors_mlp_model',\n",
    "        'sensors_split_test',\n",
    "        'temperature_2',\n",
    "        'sensors_mlp_test_predict',\n",
    "        'response'\n",
    "    );\n",
    "    \n",
    "SELECT * FROM sensors_mlp_test_predict LIMIT 5;"
   ]
  },
  {
   "cell_type": "code",
   "execution_count": 25,
   "id": "93e8f351-8201-4d56-b13e-0366f6990df5",
   "metadata": {
    "execution": {
     "iopub.execute_input": "2021-10-21T05:01:18.568045Z",
     "iopub.status.busy": "2021-10-21T05:01:18.567762Z",
     "iopub.status.idle": "2021-10-21T05:01:18.859133Z",
     "shell.execute_reply": "2021-10-21T05:01:18.858361Z",
     "shell.execute_reply.started": "2021-10-21T05:01:18.568013Z"
    },
    "tags": []
   },
   "outputs": [
    {
     "name": "stdout",
     "output_type": "stream",
     "text": [
      " * postgresql://gpadmin@192.168.133.128:31763/db\n",
      "Done.\n",
      "1 rows affected.\n",
      "1 rows affected.\n"
     ]
    },
    {
     "data": {
      "text/html": [
       "<table>\n",
       "    <tr>\n",
       "        <th>mean_squared_error</th>\n",
       "    </tr>\n",
       "    <tr>\n",
       "        <td>11.0476547588557</td>\n",
       "    </tr>\n",
       "</table>"
      ],
      "text/plain": [
       "[(11.0476547588557,)]"
      ]
     },
     "execution_count": 25,
     "metadata": {},
     "output_type": "execute_result"
    }
   ],
   "source": [
    "%%sql \n",
    "DROP TABLE IF EXISTS sensors_mlp_test_predict_mse;\n",
    "\n",
    "SELECT madlib.mean_squared_error(\n",
    "    'sensors_mlp_test_predict',      -- table_in\n",
    "    'sensors_mlp_test_predict_mse',  -- table_out\n",
    "    'estimated_temperature_2',  -- prediction\n",
    "    'temperature_2'  -- y_test\n",
    ");\n",
    "\n",
    "SELECT * FROM sensors_mlp_test_predict_mse;"
   ]
  },
  {
   "cell_type": "code",
   "execution_count": 41,
   "id": "44debf37-f0b1-43ef-b4a5-94e771ddcc8a",
   "metadata": {
    "execution": {
     "iopub.execute_input": "2021-10-21T05:32:02.204476Z",
     "iopub.status.busy": "2021-10-21T05:32:02.204252Z",
     "iopub.status.idle": "2021-10-21T05:32:02.218275Z",
     "shell.execute_reply": "2021-10-21T05:32:02.217608Z",
     "shell.execute_reply.started": "2021-10-21T05:32:02.204449Z"
    },
    "tags": []
   },
   "outputs": [
    {
     "name": "stdout",
     "output_type": "stream",
     "text": [
      " * postgresql://gpadmin@192.168.133.128:31763/db\n",
      "200 rows affected.\n"
     ]
    }
   ],
   "source": [
    "pred = %sql SELECT temperature_2 as y_test, estimated_temperature_2 as prediction FROM sensors_mlp_test_predict LIMIT 200;\n",
    "pred=pred.DataFrame()"
   ]
  },
  {
   "cell_type": "code",
   "execution_count": 42,
   "id": "58f2fc8b-240d-41d6-97f3-df15459a4c63",
   "metadata": {
    "execution": {
     "iopub.execute_input": "2021-10-21T05:32:02.637788Z",
     "iopub.status.busy": "2021-10-21T05:32:02.637557Z",
     "iopub.status.idle": "2021-10-21T05:32:02.975079Z",
     "shell.execute_reply": "2021-10-21T05:32:02.974382Z",
     "shell.execute_reply.started": "2021-10-21T05:32:02.637760Z"
    },
    "tags": []
   },
   "outputs": [
    {
     "data": {
      "image/png": "[encoded data removed]",
      "text/plain": [
       "<Figure size 720x360 with 1 Axes>"
      ]
     },
     "metadata": {
      "needs_background": "light"
     },
     "output_type": "display_data"
    }
   ],
   "source": [
    "sns.lmplot(x='prediction',y='y_test',data=pred,height=5,aspect=2)\n",
    "plt.title(\"MLP prediction , y_test scatterplot \") \n",
    "plt.ylim(10,50);"
   ]
  }
 ],
 "metadata": {
  "kernelspec": {
   "display_name": "Python 3",
   "language": "python",
   "name": "python3"
  },
  "language_info": {
   "codemirror_mode": {
    "name": "ipython",
    "version": 3
   },
   "file_extension": ".py",
   "mimetype": "text/x-python",
   "name": "python",
   "nbconvert_exporter": "python",
   "pygments_lexer": "ipython3",
   "version": "3.7.11"
  },
  "presto": {
   "id": "fae15e3e-a2ca-498d-a658-60e154fe1d65"
  }
 },
 "nbformat": 4,
 "nbformat_minor": 5
}
