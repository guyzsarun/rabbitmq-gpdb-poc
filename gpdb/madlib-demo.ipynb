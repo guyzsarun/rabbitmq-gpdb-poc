{
 "cells": [
  {
   "cell_type": "markdown",
   "id": "81dce510-c17f-4e05-9d70-40b049404558",
   "metadata": {},
   "source": [
    "## MADlib Greenplum Demo\n",
    "---"
   ]
  },
  {
   "cell_type": "markdown",
   "id": "222f598c-5da6-4931-bd9e-9af36d1dc84d",
   "metadata": {},
   "source": [
    "### Import neccessary Data Science libraries"
   ]
  },
  {
   "cell_type": "code",
   "execution_count": 1,
   "id": "1fff5feb-54f5-4025-9dae-0ed5925c9fbe",
   "metadata": {
    "execution": {
     "iopub.execute_input": "2021-10-08T03:39:43.611121Z",
     "iopub.status.busy": "2021-10-08T03:39:43.610937Z",
     "iopub.status.idle": "2021-10-08T03:39:45.024813Z",
     "shell.execute_reply": "2021-10-08T03:39:45.024224Z",
     "shell.execute_reply.started": "2021-10-08T03:39:43.611099Z"
    },
    "tags": []
   },
   "outputs": [],
   "source": [
    "import pandas as pd\n",
    "import numpy as np\n",
    "import seaborn as sns\n",
    "import matplotlib.pyplot as plt\n",
    "from sklearn.metrics import classification_report\n",
    "pd.set_option('display.max_columns', 200)"
   ]
  },
  {
   "cell_type": "markdown",
   "id": "09157fb2-2108-4d53-9353-aa3068b76918",
   "metadata": {},
   "source": [
    "Connect to Greenplum Database"
   ]
  },
  {
   "cell_type": "code",
   "execution_count": 2,
   "id": "45035b3a-0cc9-486f-aa0c-62908680f7e2",
   "metadata": {
    "execution": {
     "iopub.execute_input": "2021-10-08T03:39:45.026736Z",
     "iopub.status.busy": "2021-10-08T03:39:45.026552Z",
     "iopub.status.idle": "2021-10-08T03:39:45.265894Z",
     "shell.execute_reply": "2021-10-08T03:39:45.265199Z",
     "shell.execute_reply.started": "2021-10-08T03:39:45.026716Z"
    },
    "tags": []
   },
   "outputs": [],
   "source": [
    "%load_ext sql"
   ]
  },
  {
   "cell_type": "code",
   "execution_count": 3,
   "id": "a57ee55c-91f9-4427-b7f7-180b2c5d4aae",
   "metadata": {
    "execution": {
     "iopub.execute_input": "2021-10-08T03:39:45.267860Z",
     "iopub.status.busy": "2021-10-08T03:39:45.267644Z",
     "iopub.status.idle": "2021-10-08T03:39:47.320757Z",
     "shell.execute_reply": "2021-10-08T03:39:47.320207Z",
     "shell.execute_reply.started": "2021-10-08T03:39:45.267836Z"
    },
    "tags": []
   },
   "outputs": [
    {
     "name": "stdout",
     "output_type": "stream",
     "text": [
      "|-------------|------------------------------------------------------|--------------|------------------------------|\n",
      "|  NAMESPACE  |                         NAME                         | TARGET PORT  |             URL              |\n",
      "|-------------|------------------------------------------------------|--------------|------------------------------|\n",
      "| default     | agent                                                | No node port |\n",
      "| default     | greenplum                                            | psql/5432    | http://192.168.133.128:32000 |\n",
      "| default     | greenplum-validating-webhook-service-9d44d9fcf-t26tq | No node port |\n",
      "| default     | kubernetes                                           | No node port |\n",
      "| default     | my-greenplum-pl                                      | No node port |\n",
      "| default     | my-greenplum-pxf                                     | No node port |\n",
      "| kube-system | kube-dns                                             | No node port |\n",
      "|-------------|------------------------------------------------------|--------------|------------------------------|\n"
     ]
    }
   ],
   "source": [
    "!minikube service list"
   ]
  },
  {
   "cell_type": "code",
   "execution_count": 4,
   "id": "f898f542-6fb9-4220-8ca2-a9ba6b452563",
   "metadata": {
    "execution": {
     "iopub.execute_input": "2021-10-08T03:39:47.322123Z",
     "iopub.status.busy": "2021-10-08T03:39:47.321934Z",
     "iopub.status.idle": "2021-10-08T03:39:47.422662Z",
     "shell.execute_reply": "2021-10-08T03:39:47.422195Z",
     "shell.execute_reply.started": "2021-10-08T03:39:47.322102Z"
    },
    "tags": []
   },
   "outputs": [
    {
     "name": "stdout",
     "output_type": "stream",
     "text": [
      " * postgresql://gpadmin@192.168.133.128:32000/db\n",
      "1 rows affected.\n"
     ]
    },
    {
     "name": "stderr",
     "output_type": "stream",
     "text": [
      "/usr/local/anaconda3/envs/madlib/lib/python3.6/site-packages/psycopg2/__init__.py:144: UserWarning: The psycopg2 wheel package will be renamed from release 2.8; in order to keep installing from binary please use \"pip install psycopg2-binary\" instead. For details see: <http://initd.org/psycopg/docs/install.html#binary-install-from-pypi>.\n",
      "  \"\"\")\n"
     ]
    },
    {
     "data": {
      "text/html": [
       "<table>\n",
       "    <tr>\n",
       "        <th>version</th>\n",
       "    </tr>\n",
       "    <tr>\n",
       "        <td>PostgreSQL 9.4.24 (Greenplum Database 6.11.2 build commit:d611e78af2c5a6561ccbbaf2b4652138410f9aeb) on x86_64-unknown-linux-gnu, compiled by gcc (Ubuntu 7.5.0-3ubuntu1~18.04) 7.5.0, 64-bit compiled on Sep 30 2020 05:25:08</td>\n",
       "    </tr>\n",
       "</table>"
      ],
      "text/plain": [
       "[('PostgreSQL 9.4.24 (Greenplum Database 6.11.2 build commit:d611e78af2c5a6561ccbbaf2b4652138410f9aeb) on x86_64-unknown-linux-gnu, compiled by gcc (Ubuntu 7.5.0-3ubuntu1~18.04) 7.5.0, 64-bit compiled on Sep 30 2020 05:25:08',)]"
      ]
     },
     "execution_count": 4,
     "metadata": {},
     "output_type": "execute_result"
    }
   ],
   "source": [
    "%sql postgresql://gpadmin@192.168.133.128:32000/db\n",
    "\n",
    "        \n",
    "%sql SELECT version();"
   ]
  },
  {
   "cell_type": "markdown",
   "id": "dbde5ef6-811b-471d-9021-416f311d50ae",
   "metadata": {},
   "source": [
    "### Check Database Data"
   ]
  },
  {
   "cell_type": "code",
   "execution_count": 5,
   "id": "6cdd0301-7bb6-47dc-a688-56ba3df9920d",
   "metadata": {
    "execution": {
     "iopub.execute_input": "2021-10-08T03:39:47.423900Z",
     "iopub.status.busy": "2021-10-08T03:39:47.423743Z",
     "iopub.status.idle": "2021-10-08T03:39:47.623934Z",
     "shell.execute_reply": "2021-10-08T03:39:47.623261Z",
     "shell.execute_reply.started": "2021-10-08T03:39:47.423880Z"
    },
    "tags": []
   },
   "outputs": [
    {
     "name": "stdout",
     "output_type": "stream",
     "text": [
      " * postgresql://gpadmin@192.168.133.128:32000/db\n",
      "1 rows affected.\n"
     ]
    },
    {
     "data": {
      "text/html": [
       "<table>\n",
       "    <tr>\n",
       "        <th>num_sample</th>\n",
       "    </tr>\n",
       "    <tr>\n",
       "        <td>200000</td>\n",
       "    </tr>\n",
       "</table>"
      ],
      "text/plain": [
       "[(200000,)]"
      ]
     },
     "execution_count": 5,
     "metadata": {},
     "output_type": "execute_result"
    }
   ],
   "source": [
    "%%sql\n",
    "\n",
    "\n",
    "SELECT COUNT(*) AS num_sample FROM sensors;"
   ]
  },
  {
   "cell_type": "code",
   "execution_count": 6,
   "id": "f4efe7c1-ee80-4e96-85be-0deb6cf1d3e0",
   "metadata": {
    "execution": {
     "iopub.execute_input": "2021-10-08T03:39:47.625103Z",
     "iopub.status.busy": "2021-10-08T03:39:47.624845Z",
     "iopub.status.idle": "2021-10-08T03:39:47.635763Z",
     "shell.execute_reply": "2021-10-08T03:39:47.635068Z",
     "shell.execute_reply.started": "2021-10-08T03:39:47.625083Z"
    },
    "tags": []
   },
   "outputs": [
    {
     "name": "stdout",
     "output_type": "stream",
     "text": [
      " * postgresql://gpadmin@192.168.133.128:32000/db\n",
      "10 rows affected.\n"
     ]
    },
    {
     "data": {
      "text/html": [
       "<table>\n",
       "    <tr>\n",
       "        <th>timestamp</th>\n",
       "        <th>temperature</th>\n",
       "        <th>temperature_2</th>\n",
       "        <th>humidity</th>\n",
       "        <th>pm25</th>\n",
       "    </tr>\n",
       "    <tr>\n",
       "        <td>1997-03-22 00:00:00</td>\n",
       "        <td>30.6668585650253</td>\n",
       "        <td>42.9052858044298</td>\n",
       "        <td>69.2785492479998</td>\n",
       "        <td>73.1767528823951</td>\n",
       "    </tr>\n",
       "    <tr>\n",
       "        <td>1997-03-22 04:00:00</td>\n",
       "        <td>32.2240553161353</td>\n",
       "        <td>48.4451885030855</td>\n",
       "        <td>61.2088571248697</td>\n",
       "        <td>103.956207334568</td>\n",
       "    </tr>\n",
       "    <tr>\n",
       "        <td>1997-03-22 12:00:00</td>\n",
       "        <td>32.4185793403592</td>\n",
       "        <td>46.2930967363855</td>\n",
       "        <td>69.3046298170464</td>\n",
       "        <td>87.3012012853493</td>\n",
       "    </tr>\n",
       "    <tr>\n",
       "        <td>1997-03-22 20:00:00</td>\n",
       "        <td>31.6889779538602</td>\n",
       "        <td>50.3771697898689</td>\n",
       "        <td>53.2251690054103</td>\n",
       "        <td>76.757504341768</td>\n",
       "    </tr>\n",
       "    <tr>\n",
       "        <td>1997-03-22 21:00:00</td>\n",
       "        <td>31.414135143836</td>\n",
       "        <td>45.8292816079858</td>\n",
       "        <td>53.655786244688</td>\n",
       "        <td>77.837155684718</td>\n",
       "    </tr>\n",
       "    <tr>\n",
       "        <td>1997-03-22 22:00:00</td>\n",
       "        <td>31.5117735558417</td>\n",
       "        <td>49.7762550293786</td>\n",
       "        <td>31.5185341489772</td>\n",
       "        <td>98.0131261241892</td>\n",
       "    </tr>\n",
       "    <tr>\n",
       "        <td>1997-03-23 04:00:00</td>\n",
       "        <td>30.9732062825728</td>\n",
       "        <td>50.7305651158765</td>\n",
       "        <td>51.6463117699311</td>\n",
       "        <td>76.6613962119159</td>\n",
       "    </tr>\n",
       "    <tr>\n",
       "        <td>1997-03-23 06:00:00</td>\n",
       "        <td>31.1456715016839</td>\n",
       "        <td>50.5883567654865</td>\n",
       "        <td>50.6392021695488</td>\n",
       "        <td>77.1011145867884</td>\n",
       "    </tr>\n",
       "    <tr>\n",
       "        <td>1997-03-23 08:00:00</td>\n",
       "        <td>32.9173479628012</td>\n",
       "        <td>48.2255788669841</td>\n",
       "        <td>62.5489084902205</td>\n",
       "        <td>87.1120555127665</td>\n",
       "    </tr>\n",
       "    <tr>\n",
       "        <td>1997-03-23 12:00:00</td>\n",
       "        <td>32.5277304291036</td>\n",
       "        <td>47.7246721062276</td>\n",
       "        <td>15.1710744913787</td>\n",
       "        <td>91.5709933365243</td>\n",
       "    </tr>\n",
       "</table>"
      ],
      "text/plain": [
       "[(datetime.datetime(1997, 3, 22, 0, 0), 30.6668585650253, 42.9052858044298, 69.2785492479998, 73.1767528823951),\n",
       " (datetime.datetime(1997, 3, 22, 4, 0), 32.2240553161353, 48.4451885030855, 61.2088571248697, 103.956207334568),\n",
       " (datetime.datetime(1997, 3, 22, 12, 0), 32.4185793403592, 46.2930967363855, 69.3046298170464, 87.3012012853493),\n",
       " (datetime.datetime(1997, 3, 22, 20, 0), 31.6889779538602, 50.3771697898689, 53.2251690054103, 76.757504341768),\n",
       " (datetime.datetime(1997, 3, 22, 21, 0), 31.414135143836, 45.8292816079858, 53.655786244688, 77.837155684718),\n",
       " (datetime.datetime(1997, 3, 22, 22, 0), 31.5117735558417, 49.7762550293786, 31.5185341489772, 98.0131261241892),\n",
       " (datetime.datetime(1997, 3, 23, 4, 0), 30.9732062825728, 50.7305651158765, 51.6463117699311, 76.6613962119159),\n",
       " (datetime.datetime(1997, 3, 23, 6, 0), 31.1456715016839, 50.5883567654865, 50.6392021695488, 77.1011145867884),\n",
       " (datetime.datetime(1997, 3, 23, 8, 0), 32.9173479628012, 48.2255788669841, 62.5489084902205, 87.1120555127665),\n",
       " (datetime.datetime(1997, 3, 23, 12, 0), 32.5277304291036, 47.7246721062276, 15.1710744913787, 91.5709933365243)]"
      ]
     },
     "execution_count": 6,
     "metadata": {},
     "output_type": "execute_result"
    }
   ],
   "source": [
    "%%sql\n",
    "\n",
    "SELECT * FROM sensors LIMIT 10;"
   ]
  },
  {
   "cell_type": "code",
   "execution_count": 7,
   "id": "9bb8da4d-fecb-42a7-a95d-d940f34ac9e6",
   "metadata": {
    "execution": {
     "iopub.execute_input": "2021-10-08T03:39:47.637024Z",
     "iopub.status.busy": "2021-10-08T03:39:47.636834Z",
     "iopub.status.idle": "2021-10-08T03:39:47.725592Z",
     "shell.execute_reply": "2021-10-08T03:39:47.725101Z",
     "shell.execute_reply.started": "2021-10-08T03:39:47.637002Z"
    },
    "tags": []
   },
   "outputs": [
    {
     "name": "stdout",
     "output_type": "stream",
     "text": [
      " * postgresql://gpadmin@192.168.133.128:32000/db\n",
      "1000 rows affected.\n"
     ]
    }
   ],
   "source": [
    "sensors = %sql SELECT * FROM sensors LIMIT 1000;\n",
    "sensors = sensors.DataFrame()"
   ]
  },
  {
   "cell_type": "code",
   "execution_count": 8,
   "id": "254f263a-64c7-4966-8896-109281f26540",
   "metadata": {
    "execution": {
     "iopub.execute_input": "2021-10-08T03:39:47.728669Z",
     "iopub.status.busy": "2021-10-08T03:39:47.728482Z",
     "iopub.status.idle": "2021-10-08T03:39:47.741192Z",
     "shell.execute_reply": "2021-10-08T03:39:47.740603Z",
     "shell.execute_reply.started": "2021-10-08T03:39:47.728649Z"
    },
    "tags": []
   },
   "outputs": [
    {
     "name": "stdout",
     "output_type": "stream",
     "text": [
      "<class 'pandas.core.frame.DataFrame'>\n",
      "RangeIndex: 1000 entries, 0 to 999\n",
      "Data columns (total 5 columns):\n",
      " #   Column         Non-Null Count  Dtype         \n",
      "---  ------         --------------  -----         \n",
      " 0   timestamp      1000 non-null   datetime64[ns]\n",
      " 1   temperature    1000 non-null   float64       \n",
      " 2   temperature_2  1000 non-null   float64       \n",
      " 3   humidity       1000 non-null   float64       \n",
      " 4   pm25           1000 non-null   float64       \n",
      "dtypes: datetime64[ns](1), float64(4)\n",
      "memory usage: 39.2 KB\n"
     ]
    }
   ],
   "source": [
    "sensors.info()"
   ]
  },
  {
   "cell_type": "code",
   "execution_count": 9,
   "id": "142926cb-b255-4e76-a28b-5d38b8b6e9c1",
   "metadata": {
    "execution": {
     "iopub.execute_input": "2021-10-08T03:39:47.743398Z",
     "iopub.status.busy": "2021-10-08T03:39:47.743179Z",
     "iopub.status.idle": "2021-10-08T03:39:47.768558Z",
     "shell.execute_reply": "2021-10-08T03:39:47.768047Z",
     "shell.execute_reply.started": "2021-10-08T03:39:47.743373Z"
    },
    "tags": []
   },
   "outputs": [
    {
     "data": {
      "text/html": [
       "<div>\n",
       "<style scoped>\n",
       "    .dataframe tbody tr th:only-of-type {\n",
       "        vertical-align: middle;\n",
       "    }\n",
       "\n",
       "    .dataframe tbody tr th {\n",
       "        vertical-align: top;\n",
       "    }\n",
       "\n",
       "    .dataframe thead th {\n",
       "        text-align: right;\n",
       "    }\n",
       "</style>\n",
       "<table border=\"1\" class=\"dataframe\">\n",
       "  <thead>\n",
       "    <tr style=\"text-align: right;\">\n",
       "      <th></th>\n",
       "      <th>temperature</th>\n",
       "      <th>temperature_2</th>\n",
       "      <th>humidity</th>\n",
       "      <th>pm25</th>\n",
       "    </tr>\n",
       "  </thead>\n",
       "  <tbody>\n",
       "    <tr>\n",
       "      <th>count</th>\n",
       "      <td>1000.000000</td>\n",
       "      <td>1000.000000</td>\n",
       "      <td>1000.000000</td>\n",
       "      <td>1000.000000</td>\n",
       "    </tr>\n",
       "    <tr>\n",
       "      <th>mean</th>\n",
       "      <td>31.544820</td>\n",
       "      <td>46.594941</td>\n",
       "      <td>49.825028</td>\n",
       "      <td>89.652520</td>\n",
       "    </tr>\n",
       "    <tr>\n",
       "      <th>std</th>\n",
       "      <td>0.873392</td>\n",
       "      <td>3.145308</td>\n",
       "      <td>15.000050</td>\n",
       "      <td>14.299866</td>\n",
       "    </tr>\n",
       "    <tr>\n",
       "      <th>min</th>\n",
       "      <td>30.002098</td>\n",
       "      <td>34.493309</td>\n",
       "      <td>1.160944</td>\n",
       "      <td>38.564782</td>\n",
       "    </tr>\n",
       "    <tr>\n",
       "      <th>25%</th>\n",
       "      <td>30.826927</td>\n",
       "      <td>44.394214</td>\n",
       "      <td>39.490404</td>\n",
       "      <td>79.777687</td>\n",
       "    </tr>\n",
       "    <tr>\n",
       "      <th>50%</th>\n",
       "      <td>31.571728</td>\n",
       "      <td>46.469999</td>\n",
       "      <td>49.839717</td>\n",
       "      <td>89.727459</td>\n",
       "    </tr>\n",
       "    <tr>\n",
       "      <th>75%</th>\n",
       "      <td>32.317502</td>\n",
       "      <td>48.718686</td>\n",
       "      <td>60.158495</td>\n",
       "      <td>99.193445</td>\n",
       "    </tr>\n",
       "    <tr>\n",
       "      <th>max</th>\n",
       "      <td>32.998612</td>\n",
       "      <td>55.152494</td>\n",
       "      <td>93.333323</td>\n",
       "      <td>132.791284</td>\n",
       "    </tr>\n",
       "  </tbody>\n",
       "</table>\n",
       "</div>"
      ],
      "text/plain": [
       "       temperature  temperature_2     humidity         pm25\n",
       "count  1000.000000    1000.000000  1000.000000  1000.000000\n",
       "mean     31.544820      46.594941    49.825028    89.652520\n",
       "std       0.873392       3.145308    15.000050    14.299866\n",
       "min      30.002098      34.493309     1.160944    38.564782\n",
       "25%      30.826927      44.394214    39.490404    79.777687\n",
       "50%      31.571728      46.469999    49.839717    89.727459\n",
       "75%      32.317502      48.718686    60.158495    99.193445\n",
       "max      32.998612      55.152494    93.333323   132.791284"
      ]
     },
     "execution_count": 9,
     "metadata": {},
     "output_type": "execute_result"
    }
   ],
   "source": [
    "sensors.describe()"
   ]
  },
  {
   "cell_type": "code",
   "execution_count": 10,
   "id": "5045f55d-2674-4817-8ae5-1693ce942455",
   "metadata": {
    "execution": {
     "iopub.execute_input": "2021-10-08T03:39:47.769523Z",
     "iopub.status.busy": "2021-10-08T03:39:47.769369Z",
     "iopub.status.idle": "2021-10-08T03:39:48.056304Z",
     "shell.execute_reply": "2021-10-08T03:39:48.055723Z",
     "shell.execute_reply.started": "2021-10-08T03:39:47.769504Z"
    },
    "tags": []
   },
   "outputs": [
    {
     "name": "stderr",
     "output_type": "stream",
     "text": [
      "/usr/local/anaconda3/envs/madlib/lib/python3.6/site-packages/seaborn/distributions.py:2619: FutureWarning: `distplot` is a deprecated function and will be removed in a future version. Please adapt your code to use either `displot` (a figure-level function with similar flexibility) or `histplot` (an axes-level function for histograms).\n",
      "  warnings.warn(msg, FutureWarning)\n"
     ]
    },
    {
     "data": {
      "image/png": "[encoded data removed]",
      "text/plain": [
       "<Figure size 720x360 with 1 Axes>"
      ]
     },
     "metadata": {
      "needs_background": "light"
     },
     "output_type": "display_data"
    }
   ],
   "source": [
    "plt.figure(figsize=(10,5))\n",
    "sns.distplot(sensors['humidity'],bins=60);\n",
    "plt.title(\"Humidity Distribution\")\n",
    "plt.axvline(x=sensors['humidity'].mean(),color='red',ls='--',lw=2)\n",
    "plt.text(sensors['humidity'].mean()+3,0.03, \"mean\", fontsize=10,c='red');"
   ]
  },
  {
   "cell_type": "markdown",
   "id": "ad732e2e-9c8a-4c57-8a14-61809dd08a66",
   "metadata": {
    "execution": {
     "iopub.execute_input": "2021-10-04T10:27:18.637092Z",
     "iopub.status.busy": "2021-10-04T10:27:18.636846Z",
     "iopub.status.idle": "2021-10-04T10:27:18.639478Z",
     "shell.execute_reply": "2021-10-04T10:27:18.638867Z",
     "shell.execute_reply.started": "2021-10-04T10:27:18.637067Z"
    }
   },
   "source": [
    "### EDA"
   ]
  },
  {
   "cell_type": "code",
   "execution_count": 11,
   "id": "931aaab8-f2ee-469e-893b-a0ab766d2993",
   "metadata": {
    "execution": {
     "iopub.execute_input": "2021-10-08T03:39:48.057427Z",
     "iopub.status.busy": "2021-10-08T03:39:48.057255Z",
     "iopub.status.idle": "2021-10-08T03:40:04.721439Z",
     "shell.execute_reply": "2021-10-08T03:40:04.720914Z",
     "shell.execute_reply.started": "2021-10-08T03:39:48.057407Z"
    },
    "tags": []
   },
   "outputs": [
    {
     "name": "stdout",
     "output_type": "stream",
     "text": [
      " * postgresql://gpadmin@192.168.133.128:32000/db\n",
      "Done.\n",
      "1 rows affected.\n",
      "5 rows affected.\n"
     ]
    },
    {
     "data": {
      "text/html": [
       "<table>\n",
       "    <tr>\n",
       "        <th>group_by</th>\n",
       "        <th>group_by_value</th>\n",
       "        <th>target_column</th>\n",
       "        <th>column_number</th>\n",
       "        <th>data_type</th>\n",
       "        <th>row_count</th>\n",
       "        <th>distinct_values</th>\n",
       "        <th>missing_values</th>\n",
       "        <th>blank_values</th>\n",
       "        <th>fraction_missing</th>\n",
       "        <th>fraction_blank</th>\n",
       "        <th>positive_values</th>\n",
       "        <th>negative_values</th>\n",
       "        <th>zero_values</th>\n",
       "        <th>mean</th>\n",
       "        <th>variance</th>\n",
       "        <th>confidence_interval</th>\n",
       "        <th>min</th>\n",
       "        <th>max</th>\n",
       "        <th>first_quartile</th>\n",
       "        <th>median</th>\n",
       "        <th>third_quartile</th>\n",
       "        <th>most_frequent_values</th>\n",
       "        <th>mfv_frequencies</th>\n",
       "    </tr>\n",
       "    <tr>\n",
       "        <td>None</td>\n",
       "        <td>None</td>\n",
       "        <td>&quot;timestamp&quot;</td>\n",
       "        <td>1</td>\n",
       "        <td>timestamp</td>\n",
       "        <td>200000</td>\n",
       "        <td>200000</td>\n",
       "        <td>0</td>\n",
       "        <td>None</td>\n",
       "        <td>0.0</td>\n",
       "        <td>None</td>\n",
       "        <td>None</td>\n",
       "        <td>None</td>\n",
       "        <td>None</td>\n",
       "        <td>None</td>\n",
       "        <td>None</td>\n",
       "        <td>None</td>\n",
       "        <td>None</td>\n",
       "        <td>None</td>\n",
       "        <td>None</td>\n",
       "        <td>None</td>\n",
       "        <td>None</td>\n",
       "        <td>[&#x27;2019-07-25 11:00:00&#x27;, &#x27;2019-12-01 19:00:00&#x27;, &#x27;2019-11-03 16:00:00&#x27;, &#x27;2019-11-23 21:00:00&#x27;, &#x27;2019-11-26 21:00:00&#x27;, &#x27;2019-12-21 14:00:00&#x27;, &#x27;2020-01-03 09:00:00&#x27;, &#x27;2019-11-30 16:00:00&#x27;, &#x27;2019-12-15 03:00:00&#x27;, &#x27;2019-11-05 15:00:00&#x27;]</td>\n",
       "        <td>[202, 201, 197, 196, 196, 196, 196, 195, 194, 193]</td>\n",
       "    </tr>\n",
       "    <tr>\n",
       "        <td>None</td>\n",
       "        <td>None</td>\n",
       "        <td>temperature</td>\n",
       "        <td>2</td>\n",
       "        <td>float8</td>\n",
       "        <td>200000</td>\n",
       "        <td>200000</td>\n",
       "        <td>0</td>\n",
       "        <td>None</td>\n",
       "        <td>0.0</td>\n",
       "        <td>None</td>\n",
       "        <td>200000</td>\n",
       "        <td>0</td>\n",
       "        <td>0</td>\n",
       "        <td>32.0007889310936</td>\n",
       "        <td>0.833918535707913</td>\n",
       "        <td>[31.9967866933153, 32.0047911688719]</td>\n",
       "        <td>30.0020976922364</td>\n",
       "        <td>33.9932399275613</td>\n",
       "        <td>31.2506718159847</td>\n",
       "        <td>32.0007082471155</td>\n",
       "        <td>32.7509473341128</td>\n",
       "        <td>[&#x27;31.3932971558727&#x27;, &#x27;31.1270586631445&#x27;, &#x27;31.5795452103724&#x27;, &#x27;31.3809975772738&#x27;, &#x27;33.8450611683449&#x27;, &#x27;31.0611840491863&#x27;, &#x27;32.9212582895504&#x27;, &#x27;33.8943804292179&#x27;, &#x27;32.1098964308206&#x27;, &#x27;31.1571707561875&#x27;]</td>\n",
       "        <td>[204, 197, 196, 196, 195, 195, 195, 195, 195, 195]</td>\n",
       "    </tr>\n",
       "    <tr>\n",
       "        <td>None</td>\n",
       "        <td>None</td>\n",
       "        <td>temperature_2</td>\n",
       "        <td>3</td>\n",
       "        <td>float8</td>\n",
       "        <td>200000</td>\n",
       "        <td>200000</td>\n",
       "        <td>0</td>\n",
       "        <td>None</td>\n",
       "        <td>0.0</td>\n",
       "        <td>None</td>\n",
       "        <td>200000</td>\n",
       "        <td>0</td>\n",
       "        <td>0</td>\n",
       "        <td>46.99570081252</td>\n",
       "        <td>9.80804681580791</td>\n",
       "        <td>[46.9819751809047, 47.0094264441353]</td>\n",
       "        <td>32.2943907804811</td>\n",
       "        <td>61.6835823795163</td>\n",
       "        <td>44.8807517740374</td>\n",
       "        <td>46.9961843733011</td>\n",
       "        <td>49.112212070946</td>\n",
       "        <td>[&#x27;45.610033372541&#x27;, &#x27;41.8933542334198&#x27;, &#x27;48.7487345239526&#x27;, &#x27;42.8628249997972&#x27;, &#x27;51.7284036547247&#x27;, &#x27;53.0636555990058&#x27;, &#x27;49.144793481834&#x27;, &#x27;42.5560303222563&#x27;, &#x27;49.2545157623079&#x27;, &#x27;53.5363445515196&#x27;]</td>\n",
       "        <td>[200, 198, 198, 198, 198, 196, 196, 196, 196, 196]</td>\n",
       "    </tr>\n",
       "    <tr>\n",
       "        <td>None</td>\n",
       "        <td>None</td>\n",
       "        <td>humidity</td>\n",
       "        <td>4</td>\n",
       "        <td>float8</td>\n",
       "        <td>200000</td>\n",
       "        <td>200000</td>\n",
       "        <td>0</td>\n",
       "        <td>None</td>\n",
       "        <td>0.0</td>\n",
       "        <td>None</td>\n",
       "        <td>199916</td>\n",
       "        <td>84</td>\n",
       "        <td>0</td>\n",
       "        <td>50.0315077284909</td>\n",
       "        <td>224.568211224632</td>\n",
       "        <td>[49.9658304401699, 50.0971850168119]</td>\n",
       "        <td>-20.3266268501857</td>\n",
       "        <td>118.488627743178</td>\n",
       "        <td>39.9160404829</td>\n",
       "        <td>50.0412446801503</td>\n",
       "        <td>60.1484803615784</td>\n",
       "        <td>[&#x27;80.0789399962446&#x27;, &#x27;58.9158137497979&#x27;, &#x27;49.5808709283595&#x27;, &#x27;40.8370079457451&#x27;, &#x27;44.2457888796278&#x27;, &#x27;81.0299847843547&#x27;, &#x27;61.0819306716374&#x27;, &#x27;71.5458767971577&#x27;, &#x27;68.9138189296112&#x27;, &#x27;57.5480243504294&#x27;]</td>\n",
       "        <td>[200, 198, 198, 198, 197, 196, 194, 193, 193, 193]</td>\n",
       "    </tr>\n",
       "    <tr>\n",
       "        <td>None</td>\n",
       "        <td>None</td>\n",
       "        <td>pm25</td>\n",
       "        <td>5</td>\n",
       "        <td>float8</td>\n",
       "        <td>200000</td>\n",
       "        <td>200000</td>\n",
       "        <td>0</td>\n",
       "        <td>None</td>\n",
       "        <td>0.0</td>\n",
       "        <td>None</td>\n",
       "        <td>200000</td>\n",
       "        <td>0</td>\n",
       "        <td>0</td>\n",
       "        <td>94.9567258520912</td>\n",
       "        <td>232.817325310956</td>\n",
       "        <td>[94.8898531731814, 95.023598531001]</td>\n",
       "        <td>24.4732311088685</td>\n",
       "        <td>161.947176404423</td>\n",
       "        <td>84.6258824447947</td>\n",
       "        <td>94.9361338249605</td>\n",
       "        <td>105.200500570932</td>\n",
       "        <td>[&#x27;81.0193782019894&#x27;, &#x27;113.419361265646&#x27;, &#x27;111.01717457287&#x27;, &#x27;86.2007469815971&#x27;, &#x27;114.26224363525&#x27;, &#x27;106.088352504439&#x27;, &#x27;75.1810545024631&#x27;, &#x27;115.516321815534&#x27;, &#x27;68.4794225328913&#x27;, &#x27;86.1884482285641&#x27;]</td>\n",
       "        <td>[199, 198, 198, 198, 197, 196, 195, 195, 194, 194]</td>\n",
       "    </tr>\n",
       "</table>"
      ],
      "text/plain": [
       "[(None, None, '\"timestamp\"', 1, 'timestamp', 200000, 200000, 0, None, 0.0, None, None, None, None, None, None, None, None, None, None, None, None, ['2019-07-25 11:00:00', '2019-12-01 19:00:00', '2019-11-03 16:00:00', '2019-11-23 21:00:00', '2019-11-26 21:00:00', '2019-12-21 14:00:00', '2020-01-03 09:00:00', '2019-11-30 16:00:00', '2019-12-15 03:00:00', '2019-11-05 15:00:00'], [202, 201, 197, 196, 196, 196, 196, 195, 194, 193]),\n",
       " (None, None, 'temperature', 2, 'float8', 200000, 200000, 0, None, 0.0, None, 200000, 0, 0, 32.0007889310936, 0.833918535707913, [31.9967866933153, 32.0047911688719], 30.0020976922364, 33.9932399275613, 31.2506718159847, 32.0007082471155, 32.7509473341128, ['31.3932971558727', '31.1270586631445', '31.5795452103724', '31.3809975772738', '33.8450611683449', '31.0611840491863', '32.9212582895504', '33.8943804292179', '32.1098964308206', '31.1571707561875'], [204, 197, 196, 196, 195, 195, 195, 195, 195, 195]),\n",
       " (None, None, 'temperature_2', 3, 'float8', 200000, 200000, 0, None, 0.0, None, 200000, 0, 0, 46.99570081252, 9.80804681580791, [46.9819751809047, 47.0094264441353], 32.2943907804811, 61.6835823795163, 44.8807517740374, 46.9961843733011, 49.112212070946, ['45.610033372541', '41.8933542334198', '48.7487345239526', '42.8628249997972', '51.7284036547247', '53.0636555990058', '49.144793481834', '42.5560303222563', '49.2545157623079', '53.5363445515196'], [200, 198, 198, 198, 198, 196, 196, 196, 196, 196]),\n",
       " (None, None, 'humidity', 4, 'float8', 200000, 200000, 0, None, 0.0, None, 199916, 84, 0, 50.0315077284909, 224.568211224632, [49.9658304401699, 50.0971850168119], -20.3266268501857, 118.488627743178, 39.9160404829, 50.0412446801503, 60.1484803615784, ['80.0789399962446', '58.9158137497979', '49.5808709283595', '40.8370079457451', '44.2457888796278', '81.0299847843547', '61.0819306716374', '71.5458767971577', '68.9138189296112', '57.5480243504294'], [200, 198, 198, 198, 197, 196, 194, 193, 193, 193]),\n",
       " (None, None, 'pm25', 5, 'float8', 200000, 200000, 0, None, 0.0, None, 200000, 0, 0, 94.9567258520912, 232.817325310956, [94.8898531731814, 95.023598531001], 24.4732311088685, 161.947176404423, 84.6258824447947, 94.9361338249605, 105.200500570932, ['81.0193782019894', '113.419361265646', '111.01717457287', '86.2007469815971', '114.26224363525', '106.088352504439', '75.1810545024631', '115.516321815534', '68.4794225328913', '86.1884482285641'], [199, 198, 198, 198, 197, 196, 195, 195, 194, 194])]"
      ]
     },
     "execution_count": 11,
     "metadata": {},
     "output_type": "execute_result"
    }
   ],
   "source": [
    "%%sql\n",
    "DROP TABLE IF EXISTS sensors_summary ;\n",
    "SELECT madlib.summary (\n",
    "    'sensors',  -- source_table\n",
    "    'sensors_summary',  -- output_table\n",
    "    NULL,  -- target_cols\n",
    "    NULL,  -- grouping_cols\n",
    "    TRUE,  -- get_distinct\n",
    "    TRUE,  -- get_quartiles\n",
    "    NULL,  -- quantile_array\n",
    "    10,    -- how_many_mfv\n",
    "    FALSE  -- get_estimate\n",
    ");\n",
    "\n",
    "SELECT * FROM sensors_summary LIMIT 5;"
   ]
  },
  {
   "cell_type": "code",
   "execution_count": 12,
   "id": "bbccdb9b-e93a-4ed8-b8b3-dbf2b037b113",
   "metadata": {
    "execution": {
     "iopub.execute_input": "2021-10-08T03:40:04.722748Z",
     "iopub.status.busy": "2021-10-08T03:40:04.722542Z",
     "iopub.status.idle": "2021-10-08T03:40:05.134567Z",
     "shell.execute_reply": "2021-10-08T03:40:05.133920Z",
     "shell.execute_reply.started": "2021-10-08T03:40:04.722725Z"
    },
    "tags": []
   },
   "outputs": [
    {
     "name": "stdout",
     "output_type": "stream",
     "text": [
      " * postgresql://gpadmin@192.168.133.128:32000/db\n",
      "Done.\n",
      "Done.\n",
      "275 rows affected.\n",
      "20 rows affected.\n"
     ]
    },
    {
     "data": {
      "text/html": [
       "<table>\n",
       "    <tr>\n",
       "        <th>year</th>\n",
       "        <th>month</th>\n",
       "        <th>average_month_temperature</th>\n",
       "        <th>average_pm25</th>\n",
       "    </tr>\n",
       "    <tr>\n",
       "        <td>1997</td>\n",
       "        <td>3</td>\n",
       "        <td>31.5857867033122</td>\n",
       "        <td>89.6407995010372</td>\n",
       "    </tr>\n",
       "    <tr>\n",
       "        <td>1997</td>\n",
       "        <td>4</td>\n",
       "        <td>31.5333406560482</td>\n",
       "        <td>89.6954069445576</td>\n",
       "    </tr>\n",
       "    <tr>\n",
       "        <td>1997</td>\n",
       "        <td>5</td>\n",
       "        <td>31.5315084500734</td>\n",
       "        <td>88.9290781034526</td>\n",
       "    </tr>\n",
       "    <tr>\n",
       "        <td>1997</td>\n",
       "        <td>6</td>\n",
       "        <td>31.5087124676383</td>\n",
       "        <td>89.8276532672497</td>\n",
       "    </tr>\n",
       "    <tr>\n",
       "        <td>1997</td>\n",
       "        <td>7</td>\n",
       "        <td>31.4963020069132</td>\n",
       "        <td>89.946082918828</td>\n",
       "    </tr>\n",
       "    <tr>\n",
       "        <td>1997</td>\n",
       "        <td>8</td>\n",
       "        <td>31.5052959282945</td>\n",
       "        <td>89.8274028619428</td>\n",
       "    </tr>\n",
       "    <tr>\n",
       "        <td>1997</td>\n",
       "        <td>9</td>\n",
       "        <td>31.515806039429</td>\n",
       "        <td>89.6975457387193</td>\n",
       "    </tr>\n",
       "    <tr>\n",
       "        <td>1997</td>\n",
       "        <td>10</td>\n",
       "        <td>31.5212258387757</td>\n",
       "        <td>90.5202452816575</td>\n",
       "    </tr>\n",
       "    <tr>\n",
       "        <td>1997</td>\n",
       "        <td>11</td>\n",
       "        <td>31.5863566049458</td>\n",
       "        <td>90.7640554348525</td>\n",
       "    </tr>\n",
       "    <tr>\n",
       "        <td>1997</td>\n",
       "        <td>12</td>\n",
       "        <td>31.5260226914037</td>\n",
       "        <td>89.2248603940915</td>\n",
       "    </tr>\n",
       "    <tr>\n",
       "        <td>1998</td>\n",
       "        <td>1</td>\n",
       "        <td>31.4920465629579</td>\n",
       "        <td>90.857399494725</td>\n",
       "    </tr>\n",
       "    <tr>\n",
       "        <td>1998</td>\n",
       "        <td>2</td>\n",
       "        <td>31.6053332927446</td>\n",
       "        <td>89.724605603242</td>\n",
       "    </tr>\n",
       "    <tr>\n",
       "        <td>1998</td>\n",
       "        <td>3</td>\n",
       "        <td>31.5397978379912</td>\n",
       "        <td>91.2564516232789</td>\n",
       "    </tr>\n",
       "    <tr>\n",
       "        <td>1998</td>\n",
       "        <td>4</td>\n",
       "        <td>31.575876100293</td>\n",
       "        <td>90.0761091021617</td>\n",
       "    </tr>\n",
       "    <tr>\n",
       "        <td>1998</td>\n",
       "        <td>5</td>\n",
       "        <td>31.5878665387248</td>\n",
       "        <td>90.6721990182</td>\n",
       "    </tr>\n",
       "    <tr>\n",
       "        <td>1998</td>\n",
       "        <td>6</td>\n",
       "        <td>31.5645715036848</td>\n",
       "        <td>91.010505809848</td>\n",
       "    </tr>\n",
       "    <tr>\n",
       "        <td>1998</td>\n",
       "        <td>7</td>\n",
       "        <td>31.5568759042957</td>\n",
       "        <td>91.0852595298936</td>\n",
       "    </tr>\n",
       "    <tr>\n",
       "        <td>1998</td>\n",
       "        <td>8</td>\n",
       "        <td>31.5673074618402</td>\n",
       "        <td>90.8930377443477</td>\n",
       "    </tr>\n",
       "    <tr>\n",
       "        <td>1998</td>\n",
       "        <td>9</td>\n",
       "        <td>31.5996512239848</td>\n",
       "        <td>90.5607314714343</td>\n",
       "    </tr>\n",
       "    <tr>\n",
       "        <td>1998</td>\n",
       "        <td>10</td>\n",
       "        <td>31.5867189089437</td>\n",
       "        <td>92.2273851777414</td>\n",
       "    </tr>\n",
       "</table>"
      ],
      "text/plain": [
       "[(1997, 3, 31.5857867033122, 89.6407995010372),\n",
       " (1997, 4, 31.5333406560482, 89.6954069445576),\n",
       " (1997, 5, 31.5315084500734, 88.9290781034526),\n",
       " (1997, 6, 31.5087124676383, 89.8276532672497),\n",
       " (1997, 7, 31.4963020069132, 89.946082918828),\n",
       " (1997, 8, 31.5052959282945, 89.8274028619428),\n",
       " (1997, 9, 31.515806039429, 89.6975457387193),\n",
       " (1997, 10, 31.5212258387757, 90.5202452816575),\n",
       " (1997, 11, 31.5863566049458, 90.7640554348525),\n",
       " (1997, 12, 31.5260226914037, 89.2248603940915),\n",
       " (1998, 1, 31.4920465629579, 90.857399494725),\n",
       " (1998, 2, 31.6053332927446, 89.724605603242),\n",
       " (1998, 3, 31.5397978379912, 91.2564516232789),\n",
       " (1998, 4, 31.575876100293, 90.0761091021617),\n",
       " (1998, 5, 31.5878665387248, 90.6721990182),\n",
       " (1998, 6, 31.5645715036848, 91.010505809848),\n",
       " (1998, 7, 31.5568759042957, 91.0852595298936),\n",
       " (1998, 8, 31.5673074618402, 90.8930377443477),\n",
       " (1998, 9, 31.5996512239848, 90.5607314714343),\n",
       " (1998, 10, 31.5867189089437, 92.2273851777414)]"
      ]
     },
     "execution_count": 12,
     "metadata": {},
     "output_type": "execute_result"
    }
   ],
   "source": [
    "%%sql\n",
    "\n",
    "DROP TABLE IF EXISTS temp_sensors_timeseries;\n",
    "\n",
    "CREATE TABLE temp_sensors_timeseries(\n",
    "    year INTEGER,\n",
    "    month INTEGER,\n",
    "    average_month_temperature FLOAT,\n",
    "    average_pm25 FLOAT\n",
    ");\n",
    "\n",
    "INSERT INTO temp_sensors_timeseries \n",
    "    SELECT  date_part('year', timestamp) AS year,\n",
    "            date_part('month', timestamp) AS month,\n",
    "            avg(temperature) AS average_month_temperature, \n",
    "            avg(pm25) AS average_pm25\n",
    "    FROM sensors\n",
    "    GROUP BY year, month;\n",
    "    \n",
    "    \n",
    "SELECT * FROM temp_sensors_timeseries ORDER BY year,month LIMIT 20;"
   ]
  },
  {
   "cell_type": "code",
   "execution_count": 13,
   "id": "ed4ab9c9-4093-4722-8bc3-f99b6657fa34",
   "metadata": {
    "execution": {
     "iopub.execute_input": "2021-10-08T03:40:05.135789Z",
     "iopub.status.busy": "2021-10-08T03:40:05.135604Z",
     "iopub.status.idle": "2021-10-08T03:40:05.145909Z",
     "shell.execute_reply": "2021-10-08T03:40:05.145391Z",
     "shell.execute_reply.started": "2021-10-08T03:40:05.135768Z"
    },
    "tags": []
   },
   "outputs": [
    {
     "name": "stdout",
     "output_type": "stream",
     "text": [
      " * postgresql://gpadmin@192.168.133.128:32000/db\n",
      "275 rows affected.\n"
     ]
    }
   ],
   "source": [
    "timeseries= %sql SELECT * FROM temp_sensors_timeseries ORDER BY year,month;\n",
    "timeseries=timeseries.DataFrame()"
   ]
  },
  {
   "cell_type": "code",
   "execution_count": 14,
   "id": "f2506009-392a-46c2-931d-e96574d810a4",
   "metadata": {
    "execution": {
     "iopub.execute_input": "2021-10-08T03:40:05.147077Z",
     "iopub.status.busy": "2021-10-08T03:40:05.146897Z",
     "iopub.status.idle": "2021-10-08T03:40:05.158659Z",
     "shell.execute_reply": "2021-10-08T03:40:05.157820Z",
     "shell.execute_reply.started": "2021-10-08T03:40:05.147056Z"
    },
    "tags": []
   },
   "outputs": [
    {
     "data": {
      "text/html": [
       "<div>\n",
       "<style scoped>\n",
       "    .dataframe tbody tr th:only-of-type {\n",
       "        vertical-align: middle;\n",
       "    }\n",
       "\n",
       "    .dataframe tbody tr th {\n",
       "        vertical-align: top;\n",
       "    }\n",
       "\n",
       "    .dataframe thead th {\n",
       "        text-align: right;\n",
       "    }\n",
       "</style>\n",
       "<table border=\"1\" class=\"dataframe\">\n",
       "  <thead>\n",
       "    <tr style=\"text-align: right;\">\n",
       "      <th></th>\n",
       "      <th>year</th>\n",
       "      <th>month</th>\n",
       "      <th>average_month_temperature</th>\n",
       "      <th>average_pm25</th>\n",
       "      <th>date</th>\n",
       "    </tr>\n",
       "  </thead>\n",
       "  <tbody>\n",
       "    <tr>\n",
       "      <th>0</th>\n",
       "      <td>1997</td>\n",
       "      <td>3</td>\n",
       "      <td>31.585787</td>\n",
       "      <td>89.640800</td>\n",
       "      <td>1997-03-01</td>\n",
       "    </tr>\n",
       "    <tr>\n",
       "      <th>1</th>\n",
       "      <td>1997</td>\n",
       "      <td>4</td>\n",
       "      <td>31.533341</td>\n",
       "      <td>89.695407</td>\n",
       "      <td>1997-04-01</td>\n",
       "    </tr>\n",
       "    <tr>\n",
       "      <th>2</th>\n",
       "      <td>1997</td>\n",
       "      <td>5</td>\n",
       "      <td>31.531508</td>\n",
       "      <td>88.929078</td>\n",
       "      <td>1997-05-01</td>\n",
       "    </tr>\n",
       "    <tr>\n",
       "      <th>3</th>\n",
       "      <td>1997</td>\n",
       "      <td>6</td>\n",
       "      <td>31.508712</td>\n",
       "      <td>89.827653</td>\n",
       "      <td>1997-06-01</td>\n",
       "    </tr>\n",
       "    <tr>\n",
       "      <th>4</th>\n",
       "      <td>1997</td>\n",
       "      <td>7</td>\n",
       "      <td>31.496302</td>\n",
       "      <td>89.946083</td>\n",
       "      <td>1997-07-01</td>\n",
       "    </tr>\n",
       "  </tbody>\n",
       "</table>\n",
       "</div>"
      ],
      "text/plain": [
       "   year  month  average_month_temperature  average_pm25       date\n",
       "0  1997      3                  31.585787     89.640800 1997-03-01\n",
       "1  1997      4                  31.533341     89.695407 1997-04-01\n",
       "2  1997      5                  31.531508     88.929078 1997-05-01\n",
       "3  1997      6                  31.508712     89.827653 1997-06-01\n",
       "4  1997      7                  31.496302     89.946083 1997-07-01"
      ]
     },
     "execution_count": 14,
     "metadata": {},
     "output_type": "execute_result"
    }
   ],
   "source": [
    "timeseries['date']=pd.DatetimeIndex(timeseries['year'].map(\"{:04}\".format)+'-'+ timeseries['month'].map(\"{:02}\".format))\n",
    "timeseries.head()"
   ]
  },
  {
   "cell_type": "code",
   "execution_count": 15,
   "id": "f0227373-127a-4bf3-81a8-2ae66c239719",
   "metadata": {
    "execution": {
     "iopub.execute_input": "2021-10-08T03:40:05.160135Z",
     "iopub.status.busy": "2021-10-08T03:40:05.159855Z",
     "iopub.status.idle": "2021-10-08T03:40:05.555435Z",
     "shell.execute_reply": "2021-10-08T03:40:05.554675Z",
     "shell.execute_reply.started": "2021-10-08T03:40:05.160108Z"
    },
    "tags": []
   },
   "outputs": [
    {
     "data": {
      "image/png": "[encoded data removed]",
      "text/plain": [
       "<Figure size 792x432 with 2 Axes>"
      ]
     },
     "metadata": {
      "needs_background": "light"
     },
     "output_type": "display_data"
    }
   ],
   "source": [
    "timeframe = 50\n",
    "\n",
    "f, (ax1, ax2) = plt.subplots(2, 1,figsize=(11,6))\n",
    "ax1.plot(timeseries['date'][:timeframe],timeseries['average_pm25'][:timeframe])\n",
    "ax2.plot(timeseries['date'][:timeframe],timeseries['average_month_temperature'][:timeframe],color='orange')\n",
    "\n",
    "ax1.yaxis.set_label_text(\"PM 2.5\")\n",
    "ax1.title.set_text('Average PM 2.5')\n",
    "\n",
    "ax2.title.set_text('Average Temperature')\n",
    "ax2.yaxis.set_label_text('Temperature')\n",
    "plt.tight_layout()"
   ]
  },
  {
   "cell_type": "markdown",
   "id": "18a4d782-75a9-4cdf-8fa2-33b7c366753d",
   "metadata": {},
   "source": [
    "### Preprocess Data"
   ]
  },
  {
   "cell_type": "markdown",
   "id": "68a945a0-370a-446e-b6cc-47aead7ab4da",
   "metadata": {},
   "source": [
    "Encode Month\n",
    "\n",
    "```sql\n",
    "CREATE FUNCTION parse_month(time_stamp timestamp)\n",
    "  RETURNS char\n",
    "AS $$\n",
    "  from datetime import datetime\n",
    "  date_obj=datetime.strptime(time_stamp,\"%Y-%m-%d %H:%M:%S\")\n",
    "  return date_obj.strftime(\"%B\")\n",
    "$$ LANGUAGE plpythonu;\n",
    "```"
   ]
  },
  {
   "cell_type": "code",
   "execution_count": 16,
   "id": "3dff644a-ffc2-40ef-acc9-62043de55fa6",
   "metadata": {
    "execution": {
     "iopub.execute_input": "2021-10-08T03:40:05.557073Z",
     "iopub.status.busy": "2021-10-08T03:40:05.556625Z",
     "iopub.status.idle": "2021-10-08T03:40:05.629255Z",
     "shell.execute_reply": "2021-10-08T03:40:05.628724Z",
     "shell.execute_reply.started": "2021-10-08T03:40:05.557009Z"
    },
    "tags": []
   },
   "outputs": [
    {
     "name": "stdout",
     "output_type": "stream",
     "text": [
      " * postgresql://gpadmin@192.168.133.128:32000/db\n",
      "2 rows affected.\n"
     ]
    },
    {
     "data": {
      "text/html": [
       "<table>\n",
       "    <tr>\n",
       "        <th>timestamp</th>\n",
       "        <th>temperature</th>\n",
       "        <th>temperature_2</th>\n",
       "        <th>humidity</th>\n",
       "        <th>pm25</th>\n",
       "        <th>parse_month</th>\n",
       "    </tr>\n",
       "    <tr>\n",
       "        <td>2014-11-23 21:00:00</td>\n",
       "        <td>30.8058720843154</td>\n",
       "        <td>42.7842327160495</td>\n",
       "        <td>44.8122950799332</td>\n",
       "        <td>161.947176404423</td>\n",
       "        <td>November</td>\n",
       "    </tr>\n",
       "    <tr>\n",
       "        <td>2015-04-16 22:00:00</td>\n",
       "        <td>33.0799518195087</td>\n",
       "        <td>50.5450234515165</td>\n",
       "        <td>40.0489227220552</td>\n",
       "        <td>161.772615888742</td>\n",
       "        <td>April</td>\n",
       "    </tr>\n",
       "</table>"
      ],
      "text/plain": [
       "[(datetime.datetime(2014, 11, 23, 21, 0), 30.8058720843154, 42.7842327160495, 44.8122950799332, 161.947176404423, 'November'),\n",
       " (datetime.datetime(2015, 4, 16, 22, 0), 33.0799518195087, 50.5450234515165, 40.0489227220552, 161.772615888742, 'April')]"
      ]
     },
     "execution_count": 16,
     "metadata": {},
     "output_type": "execute_result"
    }
   ],
   "source": [
    "%%sql\n",
    "SELECT *,parse_month(timestamp) FROM sensors WHERE pm25 > 160;"
   ]
  },
  {
   "cell_type": "markdown",
   "id": "99ef43f9-8e4d-4fa6-a2d9-1fed601d8258",
   "metadata": {},
   "source": [
    "Create Month and rain Data"
   ]
  },
  {
   "cell_type": "code",
   "execution_count": 17,
   "id": "a7ca60fc-a48e-4248-93fc-d45ca18256fb",
   "metadata": {
    "execution": {
     "iopub.execute_input": "2021-10-08T03:40:05.630496Z",
     "iopub.status.busy": "2021-10-08T03:40:05.630314Z",
     "iopub.status.idle": "2021-10-08T03:40:17.230874Z",
     "shell.execute_reply": "2021-10-08T03:40:17.230050Z",
     "shell.execute_reply.started": "2021-10-08T03:40:05.630476Z"
    },
    "tags": []
   },
   "outputs": [
    {
     "name": "stdout",
     "output_type": "stream",
     "text": [
      " * postgresql://gpadmin@192.168.133.128:32000/db\n",
      "Done.\n",
      "200000 rows affected.\n",
      "10 rows affected.\n"
     ]
    },
    {
     "data": {
      "text/html": [
       "<table>\n",
       "    <tr>\n",
       "        <th>timestamp</th>\n",
       "        <th>temperature</th>\n",
       "        <th>temperature_2</th>\n",
       "        <th>humidity</th>\n",
       "        <th>pm25</th>\n",
       "        <th>month</th>\n",
       "        <th>rain</th>\n",
       "    </tr>\n",
       "    <tr>\n",
       "        <td>1997-03-22 03:00:00</td>\n",
       "        <td>32.1011416309273</td>\n",
       "        <td>51.4144653929354</td>\n",
       "        <td>34.2725065145343</td>\n",
       "        <td>106.310825991151</td>\n",
       "        <td>March</td>\n",
       "        <td>0</td>\n",
       "    </tr>\n",
       "    <tr>\n",
       "        <td>1997-03-22 07:00:00</td>\n",
       "        <td>31.7222838010098</td>\n",
       "        <td>46.9562079315314</td>\n",
       "        <td>26.9962110043135</td>\n",
       "        <td>99.1593047202872</td>\n",
       "        <td>March</td>\n",
       "        <td>0</td>\n",
       "    </tr>\n",
       "    <tr>\n",
       "        <td>1997-03-22 10:00:00</td>\n",
       "        <td>32.8599615887099</td>\n",
       "        <td>50.8020723216023</td>\n",
       "        <td>42.4358444439193</td>\n",
       "        <td>79.5919848889432</td>\n",
       "        <td>March</td>\n",
       "        <td>0</td>\n",
       "    </tr>\n",
       "    <tr>\n",
       "        <td>1997-03-23 01:00:00</td>\n",
       "        <td>31.8799395928579</td>\n",
       "        <td>48.3838700326276</td>\n",
       "        <td>35.7868269112633</td>\n",
       "        <td>102.496837829397</td>\n",
       "        <td>March</td>\n",
       "        <td>0</td>\n",
       "    </tr>\n",
       "    <tr>\n",
       "        <td>1997-03-23 07:00:00</td>\n",
       "        <td>31.2215907980622</td>\n",
       "        <td>51.5581067009994</td>\n",
       "        <td>38.2136872440639</td>\n",
       "        <td>93.8665274880732</td>\n",
       "        <td>March</td>\n",
       "        <td>0</td>\n",
       "    </tr>\n",
       "    <tr>\n",
       "        <td>1997-03-23 13:00:00</td>\n",
       "        <td>32.0052114415293</td>\n",
       "        <td>44.4403435820022</td>\n",
       "        <td>36.5748920321032</td>\n",
       "        <td>114.375067434746</td>\n",
       "        <td>March</td>\n",
       "        <td>0</td>\n",
       "    </tr>\n",
       "    <tr>\n",
       "        <td>1997-03-24 17:00:00</td>\n",
       "        <td>31.4437472872984</td>\n",
       "        <td>44.2399177438492</td>\n",
       "        <td>66.8541951826226</td>\n",
       "        <td>92.3446562474946</td>\n",
       "        <td>March</td>\n",
       "        <td>1</td>\n",
       "    </tr>\n",
       "    <tr>\n",
       "        <td>1997-03-25 01:00:00</td>\n",
       "        <td>32.5077202354011</td>\n",
       "        <td>46.1308552930227</td>\n",
       "        <td>35.2966109814805</td>\n",
       "        <td>80.3973944810957</td>\n",
       "        <td>March</td>\n",
       "        <td>0</td>\n",
       "    </tr>\n",
       "    <tr>\n",
       "        <td>1997-03-25 03:00:00</td>\n",
       "        <td>32.6661574862389</td>\n",
       "        <td>49.6761521556807</td>\n",
       "        <td>26.9180370504443</td>\n",
       "        <td>76.8068300174981</td>\n",
       "        <td>March</td>\n",
       "        <td>0</td>\n",
       "    </tr>\n",
       "    <tr>\n",
       "        <td>1997-03-25 04:00:00</td>\n",
       "        <td>32.5561756957598</td>\n",
       "        <td>42.3400026333322</td>\n",
       "        <td>15.6706600932778</td>\n",
       "        <td>57.2378125792031</td>\n",
       "        <td>March</td>\n",
       "        <td>0</td>\n",
       "    </tr>\n",
       "</table>"
      ],
      "text/plain": [
       "[(datetime.datetime(1997, 3, 22, 3, 0), 32.1011416309273, 51.4144653929354, 34.2725065145343, 106.310825991151, 'March', 0),\n",
       " (datetime.datetime(1997, 3, 22, 7, 0), 31.7222838010098, 46.9562079315314, 26.9962110043135, 99.1593047202872, 'March', 0),\n",
       " (datetime.datetime(1997, 3, 22, 10, 0), 32.8599615887099, 50.8020723216023, 42.4358444439193, 79.5919848889432, 'March', 0),\n",
       " (datetime.datetime(1997, 3, 23, 1, 0), 31.8799395928579, 48.3838700326276, 35.7868269112633, 102.496837829397, 'March', 0),\n",
       " (datetime.datetime(1997, 3, 23, 7, 0), 31.2215907980622, 51.5581067009994, 38.2136872440639, 93.8665274880732, 'March', 0),\n",
       " (datetime.datetime(1997, 3, 23, 13, 0), 32.0052114415293, 44.4403435820022, 36.5748920321032, 114.375067434746, 'March', 0),\n",
       " (datetime.datetime(1997, 3, 24, 17, 0), 31.4437472872984, 44.2399177438492, 66.8541951826226, 92.3446562474946, 'March', 1),\n",
       " (datetime.datetime(1997, 3, 25, 1, 0), 32.5077202354011, 46.1308552930227, 35.2966109814805, 80.3973944810957, 'March', 0),\n",
       " (datetime.datetime(1997, 3, 25, 3, 0), 32.6661574862389, 49.6761521556807, 26.9180370504443, 76.8068300174981, 'March', 0),\n",
       " (datetime.datetime(1997, 3, 25, 4, 0), 32.5561756957598, 42.3400026333322, 15.6706600932778, 57.2378125792031, 'March', 0)]"
      ]
     },
     "execution_count": 17,
     "metadata": {},
     "output_type": "execute_result"
    }
   ],
   "source": [
    "%%sql\n",
    "DROP TABLE IF EXISTS sensors_pre;\n",
    "CREATE TABLE sensors_pre\n",
    "AS \n",
    "SELECT\n",
    "    timestamp,\n",
    "    temperature,\n",
    "    temperature_2,\n",
    "    humidity,\n",
    "    pm25,\n",
    "    parse_month(timestamp) AS month,           --- Month data\n",
    "    CASE WHEN\n",
    "            (humidity )>= 60\n",
    "        THEN 1\n",
    "        ELSE 0\n",
    "    END as rain\n",
    "FROM sensors;\n",
    "\n",
    "SELECT * FROM sensors_pre LIMIT 10; "
   ]
  },
  {
   "cell_type": "code",
   "execution_count": 18,
   "id": "22cf1b72-22a2-4e30-a810-882c41eec482",
   "metadata": {
    "execution": {
     "iopub.execute_input": "2021-10-08T03:40:17.232540Z",
     "iopub.status.busy": "2021-10-08T03:40:17.232330Z",
     "iopub.status.idle": "2021-10-08T03:40:26.237492Z",
     "shell.execute_reply": "2021-10-08T03:40:26.236764Z",
     "shell.execute_reply.started": "2021-10-08T03:40:17.232516Z"
    },
    "tags": []
   },
   "outputs": [
    {
     "name": "stdout",
     "output_type": "stream",
     "text": [
      " * postgresql://gpadmin@192.168.133.128:32000/db\n",
      "12 rows affected.\n"
     ]
    },
    {
     "data": {
      "text/html": [
       "<table>\n",
       "    <tr>\n",
       "        <th>month</th>\n",
       "        <th>count</th>\n",
       "    </tr>\n",
       "    <tr>\n",
       "        <td>December</td>\n",
       "        <td>17112</td>\n",
       "    </tr>\n",
       "    <tr>\n",
       "        <td>May</td>\n",
       "        <td>17112</td>\n",
       "    </tr>\n",
       "    <tr>\n",
       "        <td>August</td>\n",
       "        <td>17112</td>\n",
       "    </tr>\n",
       "    <tr>\n",
       "        <td>July</td>\n",
       "        <td>17112</td>\n",
       "    </tr>\n",
       "    <tr>\n",
       "        <td>October</td>\n",
       "        <td>17112</td>\n",
       "    </tr>\n",
       "    <tr>\n",
       "        <td>January</td>\n",
       "        <td>16688</td>\n",
       "    </tr>\n",
       "    <tr>\n",
       "        <td>March</td>\n",
       "        <td>16608</td>\n",
       "    </tr>\n",
       "    <tr>\n",
       "        <td>November</td>\n",
       "        <td>16560</td>\n",
       "    </tr>\n",
       "    <tr>\n",
       "        <td>June</td>\n",
       "        <td>16560</td>\n",
       "    </tr>\n",
       "    <tr>\n",
       "        <td>April</td>\n",
       "        <td>16560</td>\n",
       "    </tr>\n",
       "    <tr>\n",
       "        <td>September</td>\n",
       "        <td>16560</td>\n",
       "    </tr>\n",
       "    <tr>\n",
       "        <td>February</td>\n",
       "        <td>14904</td>\n",
       "    </tr>\n",
       "</table>"
      ],
      "text/plain": [
       "[('December', 17112),\n",
       " ('May', 17112),\n",
       " ('August', 17112),\n",
       " ('July', 17112),\n",
       " ('October', 17112),\n",
       " ('January', 16688),\n",
       " ('March', 16608),\n",
       " ('November', 16560),\n",
       " ('June', 16560),\n",
       " ('April', 16560),\n",
       " ('September', 16560),\n",
       " ('February', 14904)]"
      ]
     },
     "execution_count": 18,
     "metadata": {},
     "output_type": "execute_result"
    }
   ],
   "source": [
    "%%sql\n",
    "SELECT parse_month(timestamp) as month ,COUNT(*) as count  \n",
    "    FROM sensors  \n",
    "GROUP BY month ORDER BY count DESC;"
   ]
  },
  {
   "cell_type": "markdown",
   "id": "48ede8be-903e-4373-a544-ef6b8ada8adb",
   "metadata": {},
   "source": [
    "### Encode categorical values"
   ]
  },
  {
   "cell_type": "code",
   "execution_count": 19,
   "id": "58956098-2c3d-4c0a-9961-fd80c17adb58",
   "metadata": {
    "execution": {
     "iopub.execute_input": "2021-10-08T03:40:26.238842Z",
     "iopub.status.busy": "2021-10-08T03:40:26.238554Z",
     "iopub.status.idle": "2021-10-08T03:40:33.337191Z",
     "shell.execute_reply": "2021-10-08T03:40:33.336572Z",
     "shell.execute_reply.started": "2021-10-08T03:40:26.238821Z"
    },
    "tags": []
   },
   "outputs": [
    {
     "name": "stdout",
     "output_type": "stream",
     "text": [
      " * postgresql://gpadmin@192.168.133.128:32000/db\n",
      "Done.\n",
      "1 rows affected.\n",
      "5 rows affected.\n"
     ]
    },
    {
     "data": {
      "text/html": [
       "<table>\n",
       "    <tr>\n",
       "        <th>timestamp</th>\n",
       "        <th>temperature</th>\n",
       "        <th>temperature_2</th>\n",
       "        <th>humidity</th>\n",
       "        <th>pm25</th>\n",
       "        <th>rain</th>\n",
       "        <th>month_April</th>\n",
       "        <th>month_August</th>\n",
       "        <th>month_December</th>\n",
       "        <th>month_February</th>\n",
       "        <th>month_January</th>\n",
       "        <th>month_July</th>\n",
       "        <th>month_June</th>\n",
       "        <th>month_March</th>\n",
       "        <th>month_May</th>\n",
       "        <th>month_November</th>\n",
       "        <th>month_October</th>\n",
       "        <th>month_September</th>\n",
       "    </tr>\n",
       "    <tr>\n",
       "        <td>1997-03-22 07:00:00</td>\n",
       "        <td>31.7222838010098</td>\n",
       "        <td>46.9562079315314</td>\n",
       "        <td>26.9962110043135</td>\n",
       "        <td>99.1593047202872</td>\n",
       "        <td>0</td>\n",
       "        <td>0</td>\n",
       "        <td>0</td>\n",
       "        <td>0</td>\n",
       "        <td>0</td>\n",
       "        <td>0</td>\n",
       "        <td>0</td>\n",
       "        <td>0</td>\n",
       "        <td>1</td>\n",
       "        <td>0</td>\n",
       "        <td>0</td>\n",
       "        <td>0</td>\n",
       "        <td>0</td>\n",
       "    </tr>\n",
       "    <tr>\n",
       "        <td>1997-03-25 03:00:00</td>\n",
       "        <td>32.6661574862389</td>\n",
       "        <td>49.6761521556807</td>\n",
       "        <td>26.9180370504443</td>\n",
       "        <td>76.8068300174981</td>\n",
       "        <td>0</td>\n",
       "        <td>0</td>\n",
       "        <td>0</td>\n",
       "        <td>0</td>\n",
       "        <td>0</td>\n",
       "        <td>0</td>\n",
       "        <td>0</td>\n",
       "        <td>0</td>\n",
       "        <td>1</td>\n",
       "        <td>0</td>\n",
       "        <td>0</td>\n",
       "        <td>0</td>\n",
       "        <td>0</td>\n",
       "    </tr>\n",
       "    <tr>\n",
       "        <td>1997-03-25 08:00:00</td>\n",
       "        <td>31.8015426790243</td>\n",
       "        <td>49.5700869385185</td>\n",
       "        <td>75.8331757419004</td>\n",
       "        <td>87.6318937917314</td>\n",
       "        <td>1</td>\n",
       "        <td>0</td>\n",
       "        <td>0</td>\n",
       "        <td>0</td>\n",
       "        <td>0</td>\n",
       "        <td>0</td>\n",
       "        <td>0</td>\n",
       "        <td>0</td>\n",
       "        <td>1</td>\n",
       "        <td>0</td>\n",
       "        <td>0</td>\n",
       "        <td>0</td>\n",
       "        <td>0</td>\n",
       "    </tr>\n",
       "    <tr>\n",
       "        <td>1997-03-25 09:00:00</td>\n",
       "        <td>31.0132301560729</td>\n",
       "        <td>48.858210122924</td>\n",
       "        <td>75.8466747403206</td>\n",
       "        <td>109.851735683215</td>\n",
       "        <td>1</td>\n",
       "        <td>0</td>\n",
       "        <td>0</td>\n",
       "        <td>0</td>\n",
       "        <td>0</td>\n",
       "        <td>0</td>\n",
       "        <td>0</td>\n",
       "        <td>0</td>\n",
       "        <td>1</td>\n",
       "        <td>0</td>\n",
       "        <td>0</td>\n",
       "        <td>0</td>\n",
       "        <td>0</td>\n",
       "    </tr>\n",
       "    <tr>\n",
       "        <td>1997-03-26 21:00:00</td>\n",
       "        <td>30.911013048392</td>\n",
       "        <td>43.9817832103964</td>\n",
       "        <td>37.0895723331893</td>\n",
       "        <td>90.5486094273765</td>\n",
       "        <td>0</td>\n",
       "        <td>0</td>\n",
       "        <td>0</td>\n",
       "        <td>0</td>\n",
       "        <td>0</td>\n",
       "        <td>0</td>\n",
       "        <td>0</td>\n",
       "        <td>0</td>\n",
       "        <td>1</td>\n",
       "        <td>0</td>\n",
       "        <td>0</td>\n",
       "        <td>0</td>\n",
       "        <td>0</td>\n",
       "    </tr>\n",
       "</table>"
      ],
      "text/plain": [
       "[(datetime.datetime(1997, 3, 22, 7, 0), 31.7222838010098, 46.9562079315314, 26.9962110043135, 99.1593047202872, 0, 0, 0, 0, 0, 0, 0, 0, 1, 0, 0, 0, 0),\n",
       " (datetime.datetime(1997, 3, 25, 3, 0), 32.6661574862389, 49.6761521556807, 26.9180370504443, 76.8068300174981, 0, 0, 0, 0, 0, 0, 0, 0, 1, 0, 0, 0, 0),\n",
       " (datetime.datetime(1997, 3, 25, 8, 0), 31.8015426790243, 49.5700869385185, 75.8331757419004, 87.6318937917314, 1, 0, 0, 0, 0, 0, 0, 0, 1, 0, 0, 0, 0),\n",
       " (datetime.datetime(1997, 3, 25, 9, 0), 31.0132301560729, 48.858210122924, 75.8466747403206, 109.851735683215, 1, 0, 0, 0, 0, 0, 0, 0, 1, 0, 0, 0, 0),\n",
       " (datetime.datetime(1997, 3, 26, 21, 0), 30.911013048392, 43.9817832103964, 37.0895723331893, 90.5486094273765, 0, 0, 0, 0, 0, 0, 0, 0, 1, 0, 0, 0, 0)]"
      ]
     },
     "execution_count": 19,
     "metadata": {},
     "output_type": "execute_result"
    }
   ],
   "source": [
    "%%sql\n",
    "DROP TABLE IF EXISTS sensors_encoded;\n",
    "\n",
    "\n",
    "SELECT\n",
    "madlib.encode_categorical_variables (\n",
    "    'sensors_pre',\n",
    "    'sensors_encoded',\n",
    "    'month',\n",
    "    NULL,  --categorical_cols_to_exclude     -- Optional\n",
    "    NULL,  --row_id,                         -- Optional\n",
    "    NULL,  --top,                            -- Optional\n",
    "    NULL,  --value_to_drop,                  -- Optional\n",
    "    NULL,  --encode_null,                    -- Optional\n",
    "    NULL,  --output_type,                    -- Optional\n",
    "    NULL,  --output_dictionary,              -- Optional\n",
    "    NULL   --distributed_by                  -- Optional\n",
    ");\n",
    "\n",
    "\n",
    "SELECT * FROM sensors_encoded LIMIT 5;"
   ]
  },
  {
   "cell_type": "markdown",
   "id": "7bd5abdf-738a-4dbc-9b4e-9287f979d6e3",
   "metadata": {},
   "source": [
    "### Correlation"
   ]
  },
  {
   "cell_type": "code",
   "execution_count": 20,
   "id": "8c52a0c0-1f31-41f2-91eb-4ebab8590a06",
   "metadata": {
    "execution": {
     "iopub.execute_input": "2021-10-08T03:40:33.338617Z",
     "iopub.status.busy": "2021-10-08T03:40:33.338343Z",
     "iopub.status.idle": "2021-10-08T03:40:37.535171Z",
     "shell.execute_reply": "2021-10-08T03:40:37.534574Z",
     "shell.execute_reply.started": "2021-10-08T03:40:33.338591Z"
    },
    "tags": []
   },
   "outputs": [
    {
     "name": "stdout",
     "output_type": "stream",
     "text": [
      " * postgresql://gpadmin@192.168.133.128:32000/db\n",
      "Done.\n",
      "Done.\n",
      "1 rows affected.\n"
     ]
    },
    {
     "data": {
      "text/html": [
       "<table>\n",
       "    <tr>\n",
       "        <th>correlation</th>\n",
       "    </tr>\n",
       "    <tr>\n",
       "        <td>Summary for &#x27;Correlation&#x27; function<br>Output table = sensors_correlations<br>Producing correlation for columns: temperature,temperature_2,humidity,pm25,rain<br>Total run time = (&#x27;sensors_correlations&#x27;, 5, 3.8935680389404297)</td>\n",
       "    </tr>\n",
       "</table>"
      ],
      "text/plain": [
       "[(\"Summary for 'Correlation' function\\nOutput table = sensors_correlations\\nProducing correlation for columns: temperature,temperature_2,humidity,pm25,rain\\nTotal run time = ('sensors_correlations', 5, 3.8935680389404297)\",)]"
      ]
     },
     "execution_count": 20,
     "metadata": {},
     "output_type": "execute_result"
    }
   ],
   "source": [
    "%%sql\n",
    "DROP TABLE IF EXISTS sensors_correlations;\n",
    "DROP TABLE IF EXISTS sensors_correlations_summary;\n",
    "\n",
    "SELECT \n",
    "madlib.correlation(\n",
    "    'sensors_encoded', -- source_table\n",
    "    'sensors_correlations',  -- target_table\n",
    "    'temperature,temperature_2,humidity,pm25,rain',\n",
    "    TRUE -- verbose\n",
    ")"
   ]
  },
  {
   "cell_type": "code",
   "execution_count": 21,
   "id": "c8a78b79-a4e0-4e66-a3c0-51b2ae7d6f7d",
   "metadata": {
    "execution": {
     "iopub.execute_input": "2021-10-08T03:40:37.536425Z",
     "iopub.status.busy": "2021-10-08T03:40:37.536182Z",
     "iopub.status.idle": "2021-10-08T03:40:37.552079Z",
     "shell.execute_reply": "2021-10-08T03:40:37.551547Z",
     "shell.execute_reply.started": "2021-10-08T03:40:37.536405Z"
    },
    "tags": []
   },
   "outputs": [
    {
     "name": "stdout",
     "output_type": "stream",
     "text": [
      " * postgresql://gpadmin@192.168.133.128:32000/db\n",
      "5 rows affected.\n",
      "temperature,temperature_2,humidity,pm25,rain\n"
     ]
    }
   ],
   "source": [
    "Index = %sql SELECT variable FROM sensors_correlations ORDER BY column_position;\n",
    "Index = Index.DataFrame();\n",
    "\n",
    "columns =  ','.join(','.join('%s' %x for x in y) for y in Index.values)\n",
    "print(columns)"
   ]
  },
  {
   "cell_type": "code",
   "execution_count": 22,
   "id": "b32a1a33-56d2-4936-b6f8-5e102609570e",
   "metadata": {
    "execution": {
     "iopub.execute_input": "2021-10-08T03:40:37.553092Z",
     "iopub.status.busy": "2021-10-08T03:40:37.552937Z",
     "iopub.status.idle": "2021-10-08T03:40:37.562545Z",
     "shell.execute_reply": "2021-10-08T03:40:37.561985Z",
     "shell.execute_reply.started": "2021-10-08T03:40:37.553072Z"
    },
    "tags": []
   },
   "outputs": [
    {
     "name": "stdout",
     "output_type": "stream",
     "text": [
      " * postgresql://gpadmin@192.168.133.128:32000/db\n",
      "5 rows affected.\n"
     ]
    }
   ],
   "source": [
    "corr = %sql select variable,{columns} from sensors_correlations ORDER BY column_position;\n",
    "corr = corr.DataFrame()"
   ]
  },
  {
   "cell_type": "code",
   "execution_count": 23,
   "id": "f41fdac5-84c3-4334-af94-bea626fe8f9c",
   "metadata": {
    "execution": {
     "iopub.execute_input": "2021-10-08T03:40:37.563956Z",
     "iopub.status.busy": "2021-10-08T03:40:37.563746Z",
     "iopub.status.idle": "2021-10-08T03:40:37.826843Z",
     "shell.execute_reply": "2021-10-08T03:40:37.826354Z",
     "shell.execute_reply.started": "2021-10-08T03:40:37.563934Z"
    },
    "tags": []
   },
   "outputs": [
    {
     "data": {
      "image/png": "[encoded data removed]",
      "text/plain": [
       "<Figure size 432x288 with 2 Axes>"
      ]
     },
     "metadata": {
      "needs_background": "light"
     },
     "output_type": "display_data"
    }
   ],
   "source": [
    "corr_df=corr.set_index('variable')\n",
    "plt.title('Sensors Value Correlation')\n",
    "sns.heatmap(corr_df,annot=True);"
   ]
  },
  {
   "cell_type": "markdown",
   "id": "cb2758d4-4918-45cc-a964-d70482665e55",
   "metadata": {},
   "source": [
    "### Split Data for training and testing"
   ]
  },
  {
   "cell_type": "code",
   "execution_count": 24,
   "id": "cf84fb1c-0f22-43ea-899a-030d14067570",
   "metadata": {
    "execution": {
     "iopub.execute_input": "2021-10-08T03:40:37.827949Z",
     "iopub.status.busy": "2021-10-08T03:40:37.827776Z",
     "iopub.status.idle": "2021-10-08T03:40:54.030959Z",
     "shell.execute_reply": "2021-10-08T03:40:54.030396Z",
     "shell.execute_reply.started": "2021-10-08T03:40:37.827930Z"
    },
    "tags": []
   },
   "outputs": [
    {
     "name": "stdout",
     "output_type": "stream",
     "text": [
      " * postgresql://gpadmin@192.168.133.128:32000/db\n",
      "Done.\n",
      "Done.\n",
      "Done.\n",
      "1 rows affected.\n",
      "1 rows affected.\n"
     ]
    },
    {
     "data": {
      "text/html": [
       "<table>\n",
       "    <tr>\n",
       "        <th># In training set</th>\n",
       "    </tr>\n",
       "    <tr>\n",
       "        <td>140000</td>\n",
       "    </tr>\n",
       "</table>"
      ],
      "text/plain": [
       "[(140000,)]"
      ]
     },
     "execution_count": 24,
     "metadata": {},
     "output_type": "execute_result"
    }
   ],
   "source": [
    "%%sql\n",
    "DROP TABLE IF EXISTS sensors_split CASCADE;\n",
    "DROP TABLE IF EXISTS sensors_split_train CASCADE;\n",
    "DROP TABLE IF EXISTS sensors_split_test CASCADE;\n",
    "\n",
    "SELECT madlib.train_test_split(\n",
    "    'sensors_encoded', -- source_table,\n",
    "    'sensors_split', -- output_table,\n",
    "    0.7, -- train_proportion,\n",
    "    NULL, -- test_proportion,\n",
    "    NULL, -- grouping_cols,\n",
    "    'temperature,temperature_2,rain,humidity,pm25,\n",
    "    \"month_January\",\"month_February\",\"month_March\",\n",
    "    \"month_April\",\"month_May\",\"month_June\",\"month_July\",\n",
    "    \"month_August\",\"month_September\",\"month_October\",\n",
    "    \"month_November\",\"month_December\"', -- target_cols\n",
    "    FALSE, -- with_replacement,\n",
    "    TRUE -- separate_output_tables\n",
    ");\n",
    "\n",
    "SELECT COUNT(*) as \"# In training set\" FROM sensors_split_train;"
   ]
  },
  {
   "cell_type": "code",
   "execution_count": 25,
   "id": "814ef9bd-7352-4c4c-9323-5de28c4c6108",
   "metadata": {
    "execution": {
     "iopub.execute_input": "2021-10-08T03:40:54.032123Z",
     "iopub.status.busy": "2021-10-08T03:40:54.031863Z",
     "iopub.status.idle": "2021-10-08T03:40:54.042471Z",
     "shell.execute_reply": "2021-10-08T03:40:54.041858Z",
     "shell.execute_reply.started": "2021-10-08T03:40:54.032097Z"
    },
    "tags": []
   },
   "outputs": [
    {
     "name": "stdout",
     "output_type": "stream",
     "text": [
      " * postgresql://gpadmin@192.168.133.128:32000/db\n",
      "5 rows affected.\n"
     ]
    },
    {
     "data": {
      "text/html": [
       "<table>\n",
       "    <tr>\n",
       "        <th>temperature</th>\n",
       "        <th>temperature_2</th>\n",
       "        <th>rain</th>\n",
       "        <th>humidity</th>\n",
       "        <th>pm25</th>\n",
       "        <th>month_January</th>\n",
       "        <th>month_February</th>\n",
       "        <th>month_March</th>\n",
       "        <th>month_April</th>\n",
       "        <th>month_May</th>\n",
       "        <th>month_June</th>\n",
       "        <th>month_July</th>\n",
       "        <th>month_August</th>\n",
       "        <th>month_September</th>\n",
       "        <th>month_October</th>\n",
       "        <th>month_November</th>\n",
       "        <th>month_December</th>\n",
       "    </tr>\n",
       "    <tr>\n",
       "        <td>30.033164552194</td>\n",
       "        <td>45.6160350393891</td>\n",
       "        <td>1</td>\n",
       "        <td>62.7237592031563</td>\n",
       "        <td>76.4056063056542</td>\n",
       "        <td>0</td>\n",
       "        <td>0</td>\n",
       "        <td>0</td>\n",
       "        <td>0</td>\n",
       "        <td>0</td>\n",
       "        <td>0</td>\n",
       "        <td>0</td>\n",
       "        <td>0</td>\n",
       "        <td>1</td>\n",
       "        <td>0</td>\n",
       "        <td>0</td>\n",
       "        <td>0</td>\n",
       "    </tr>\n",
       "    <tr>\n",
       "        <td>30.0333834802469</td>\n",
       "        <td>45.1599830306848</td>\n",
       "        <td>0</td>\n",
       "        <td>55.236497558661</td>\n",
       "        <td>69.5186903575826</td>\n",
       "        <td>0</td>\n",
       "        <td>0</td>\n",
       "        <td>1</td>\n",
       "        <td>0</td>\n",
       "        <td>0</td>\n",
       "        <td>0</td>\n",
       "        <td>0</td>\n",
       "        <td>0</td>\n",
       "        <td>0</td>\n",
       "        <td>0</td>\n",
       "        <td>0</td>\n",
       "        <td>0</td>\n",
       "    </tr>\n",
       "    <tr>\n",
       "        <td>30.0388041633031</td>\n",
       "        <td>48.5560429158007</td>\n",
       "        <td>0</td>\n",
       "        <td>52.5095497492418</td>\n",
       "        <td>110.652823406246</td>\n",
       "        <td>0</td>\n",
       "        <td>0</td>\n",
       "        <td>0</td>\n",
       "        <td>0</td>\n",
       "        <td>0</td>\n",
       "        <td>1</td>\n",
       "        <td>0</td>\n",
       "        <td>0</td>\n",
       "        <td>0</td>\n",
       "        <td>0</td>\n",
       "        <td>0</td>\n",
       "        <td>0</td>\n",
       "    </tr>\n",
       "    <tr>\n",
       "        <td>30.0459403418386</td>\n",
       "        <td>44.3392456449925</td>\n",
       "        <td>1</td>\n",
       "        <td>72.7624441802775</td>\n",
       "        <td>79.6867103164111</td>\n",
       "        <td>0</td>\n",
       "        <td>0</td>\n",
       "        <td>0</td>\n",
       "        <td>1</td>\n",
       "        <td>0</td>\n",
       "        <td>0</td>\n",
       "        <td>0</td>\n",
       "        <td>0</td>\n",
       "        <td>0</td>\n",
       "        <td>0</td>\n",
       "        <td>0</td>\n",
       "        <td>0</td>\n",
       "    </tr>\n",
       "    <tr>\n",
       "        <td>30.0530231305945</td>\n",
       "        <td>46.6456913297319</td>\n",
       "        <td>0</td>\n",
       "        <td>59.4902580008936</td>\n",
       "        <td>137.475802029637</td>\n",
       "        <td>0</td>\n",
       "        <td>0</td>\n",
       "        <td>1</td>\n",
       "        <td>0</td>\n",
       "        <td>0</td>\n",
       "        <td>0</td>\n",
       "        <td>0</td>\n",
       "        <td>0</td>\n",
       "        <td>0</td>\n",
       "        <td>0</td>\n",
       "        <td>0</td>\n",
       "        <td>0</td>\n",
       "    </tr>\n",
       "</table>"
      ],
      "text/plain": [
       "[(30.033164552194, 45.6160350393891, 1, 62.7237592031563, 76.4056063056542, 0, 0, 0, 0, 0, 0, 0, 0, 1, 0, 0, 0),\n",
       " (30.0333834802469, 45.1599830306848, 0, 55.236497558661, 69.5186903575826, 0, 0, 1, 0, 0, 0, 0, 0, 0, 0, 0, 0),\n",
       " (30.0388041633031, 48.5560429158007, 0, 52.5095497492418, 110.652823406246, 0, 0, 0, 0, 0, 1, 0, 0, 0, 0, 0, 0),\n",
       " (30.0459403418386, 44.3392456449925, 1, 72.7624441802775, 79.6867103164111, 0, 0, 0, 1, 0, 0, 0, 0, 0, 0, 0, 0),\n",
       " (30.0530231305945, 46.6456913297319, 0, 59.4902580008936, 137.475802029637, 0, 0, 1, 0, 0, 0, 0, 0, 0, 0, 0, 0)]"
      ]
     },
     "execution_count": 25,
     "metadata": {},
     "output_type": "execute_result"
    }
   ],
   "source": [
    "%%sql\n",
    "SELECT * FROM sensors_split_train LIMIT 5;"
   ]
  },
  {
   "cell_type": "code",
   "execution_count": 26,
   "id": "5182b728-3fce-45d6-8b20-44e5626422be",
   "metadata": {
    "execution": {
     "iopub.execute_input": "2021-10-08T03:40:54.048862Z",
     "iopub.status.busy": "2021-10-08T03:40:54.048619Z",
     "iopub.status.idle": "2021-10-08T03:40:54.123209Z",
     "shell.execute_reply": "2021-10-08T03:40:54.122467Z",
     "shell.execute_reply.started": "2021-10-08T03:40:54.048839Z"
    },
    "tags": []
   },
   "outputs": [
    {
     "name": "stdout",
     "output_type": "stream",
     "text": [
      " * postgresql://gpadmin@192.168.133.128:32000/db\n",
      "1 rows affected.\n",
      " * postgresql://gpadmin@192.168.133.128:32000/db\n",
      "1 rows affected.\n",
      "\n",
      "Total rain in training set 35427\n",
      "Total rain in testing set 15188\n"
     ]
    }
   ],
   "source": [
    "train_rain = %sql SELECT COUNT(*) FROM sensors_split_train WHERE rain = 1;\n",
    "test_rain = %sql SELECT COUNT(*) FROM sensors_split_test WHERE rain = 1;\n",
    "\n",
    "print(\"\\nTotal rain in training set {}\".format(train_rain[0][0]))\n",
    "print(\"Total rain in testing set {}\".format(test_rain[0][0]))"
   ]
  },
  {
   "cell_type": "code",
   "execution_count": 27,
   "id": "47cef1f8-6dda-45a5-aa1e-916744a8075e",
   "metadata": {
    "execution": {
     "iopub.execute_input": "2021-10-08T03:40:54.126502Z",
     "iopub.status.busy": "2021-10-08T03:40:54.126218Z",
     "iopub.status.idle": "2021-10-08T03:40:54.322899Z",
     "shell.execute_reply": "2021-10-08T03:40:54.322382Z",
     "shell.execute_reply.started": "2021-10-08T03:40:54.126477Z"
    },
    "tags": []
   },
   "outputs": [
    {
     "data": {
      "image/png": "[encoded data removed]",
      "text/plain": [
       "<Figure size 792x432 with 2 Axes>"
      ]
     },
     "metadata": {},
     "output_type": "display_data"
    }
   ],
   "source": [
    "train_data=[train_rain[0][0],int((200000*0.7)-train_rain[0][0])]\n",
    "test_data=[test_rain[0][0],int((200000*0.3)-test_rain[0][0])]\n",
    "\n",
    "labels = ['rain','not_rain']\n",
    "\n",
    "f, (ax1, ax2) = plt.subplots(1, 2,figsize=(11,6))\n",
    "f.patch.set_facecolor('white')\n",
    "ax1.title.set_text('Training Set')\n",
    "ax2.title.set_text('Testing Set')\n",
    "f.suptitle(\"Rain Train/Test Distribution\",fontsize=15)\n",
    "ax1.pie(train_data,labels=labels,autopct=\"%.1f%%\",radius=1.2,textprops={'fontsize': 15,},explode = [0.1, 0],startangle = -30);\n",
    "ax2.pie(test_data,labels=labels,autopct=\"%.1f%%\",radius=1.2,textprops={'fontsize': 15},explode = [0.1, 0], startangle = -30);\n",
    "plt.tight_layout()"
   ]
  },
  {
   "cell_type": "markdown",
   "id": "0b672e9d-0cf5-4e27-9fb9-c1a8371f2b0a",
   "metadata": {},
   "source": [
    "## Logistic Regresion ( Classification model )"
   ]
  },
  {
   "cell_type": "code",
   "execution_count": 28,
   "id": "a6312323-db88-4451-b4a4-d4554fecfd54",
   "metadata": {
    "execution": {
     "iopub.execute_input": "2021-10-08T03:40:54.324405Z",
     "iopub.status.busy": "2021-10-08T03:40:54.324117Z",
     "iopub.status.idle": "2021-10-08T03:41:10.831417Z",
     "shell.execute_reply": "2021-10-08T03:41:10.830787Z",
     "shell.execute_reply.started": "2021-10-08T03:40:54.324385Z"
    },
    "tags": []
   },
   "outputs": [
    {
     "name": "stdout",
     "output_type": "stream",
     "text": [
      " * postgresql://gpadmin@192.168.133.128:32000/db\n",
      "Done.\n",
      "Done.\n",
      "1 rows affected.\n",
      "1 rows affected.\n"
     ]
    },
    {
     "data": {
      "text/html": [
       "<table>\n",
       "    <tr>\n",
       "        <th>method</th>\n",
       "        <th>source_table</th>\n",
       "        <th>out_table</th>\n",
       "        <th>dependent_varname</th>\n",
       "        <th>independent_varname</th>\n",
       "        <th>optimizer_params</th>\n",
       "        <th>num_all_groups</th>\n",
       "        <th>num_failed_groups</th>\n",
       "        <th>num_rows_processed</th>\n",
       "        <th>num_missing_rows_skipped</th>\n",
       "        <th>grouping_col</th>\n",
       "    </tr>\n",
       "    <tr>\n",
       "        <td>logregr</td>\n",
       "        <td>sensors_split_train</td>\n",
       "        <td>sensors_logreg_model</td>\n",
       "        <td>rain</td>\n",
       "        <td>ARRAY[<br>            1,<br>            temperature,<br>            temperature_2,<br>            humidity,pm25,<br>            &quot;month_January&quot;,&quot;month_February&quot;,&quot;month_March&quot;,<br>            &quot;month_April&quot;,&quot;month_May&quot;,&quot;month_June&quot;,<br>            &quot;month_July&quot;,&quot;month_August&quot;,&quot;month_September&quot;,<br>            &quot;month_October&quot;,&quot;month_November&quot;,&quot;month_December&quot;]</td>\n",
       "        <td>optimizer=irls, max_iter=20, tolerance=0.0001</td>\n",
       "        <td>1</td>\n",
       "        <td>0</td>\n",
       "        <td>140000</td>\n",
       "        <td>0</td>\n",
       "        <td>None</td>\n",
       "    </tr>\n",
       "</table>"
      ],
      "text/plain": [
       "[('logregr', 'sensors_split_train', 'sensors_logreg_model', 'rain', 'ARRAY[\\n            1,\\n            temperature,\\n            temperature_2,\\n            humidity,pm25,\\n            \"month_January\",\"month_February ... (44 characters truncated) ... \"month_May\",\"month_June\",\\n            \"month_July\",\"month_August\",\"month_September\",\\n            \"month_October\",\"month_November\",\"month_December\"]', 'optimizer=irls, max_iter=20, tolerance=0.0001', 1, 0, 140000, 0, None)]"
      ]
     },
     "execution_count": 28,
     "metadata": {},
     "output_type": "execute_result"
    }
   ],
   "source": [
    "%%sql\n",
    "DROP TABLE IF EXISTS sensors_logreg_model;\n",
    "DROP TABLE IF EXISTS sensors_logreg_model_summary;\n",
    "\n",
    "SELECT\n",
    "    madlib.logregr_train(        -- Train the Logistic Regression Model\n",
    "        'sensors_split_train',   -- source_table,\n",
    "        'sensors_logreg_model',  -- out_table,\n",
    "        'rain',                  -- labels,\n",
    "        'ARRAY[\n",
    "            1,\n",
    "            temperature,\n",
    "            temperature_2,\n",
    "            humidity,pm25,\n",
    "            \"month_January\",\"month_February\",\"month_March\",\n",
    "            \"month_April\",\"month_May\",\"month_June\",\n",
    "            \"month_July\",\"month_August\",\"month_September\",\n",
    "            \"month_October\",\"month_November\",\"month_December\"]'       -- feature\n",
    "        --, -- grouping_cols,\n",
    "        --, -- max_iter,\n",
    "        --, -- optimizer,\n",
    "        --, -- tolerance,\n",
    "        -- verbose\n",
    "    )\n",
    ";\n",
    "SELECT * FROM sensors_logreg_model_summary ;           --- Get the summary table"
   ]
  },
  {
   "cell_type": "code",
   "execution_count": 29,
   "id": "1ec1bd8c-503a-441d-b57b-5214db53c726",
   "metadata": {
    "execution": {
     "iopub.execute_input": "2021-10-08T03:41:10.832661Z",
     "iopub.status.busy": "2021-10-08T03:41:10.832475Z",
     "iopub.status.idle": "2021-10-08T03:41:10.846057Z",
     "shell.execute_reply": "2021-10-08T03:41:10.845365Z",
     "shell.execute_reply.started": "2021-10-08T03:41:10.832640Z"
    },
    "tags": []
   },
   "outputs": [
    {
     "name": "stdout",
     "output_type": "stream",
     "text": [
      " * postgresql://gpadmin@192.168.133.128:32000/db\n",
      "1 rows affected.\n"
     ]
    }
   ],
   "source": [
    "logreg_coefs = %sql SELECT coef FROM sensors_logreg_model ;\n",
    "logreg_coefs = logreg_coefs.DataFrame();"
   ]
  },
  {
   "cell_type": "code",
   "execution_count": 30,
   "id": "06d96b9e-456a-4c1d-8b53-f734989e797d",
   "metadata": {
    "execution": {
     "iopub.execute_input": "2021-10-08T03:41:10.847308Z",
     "iopub.status.busy": "2021-10-08T03:41:10.847117Z",
     "iopub.status.idle": "2021-10-08T03:41:10.853007Z",
     "shell.execute_reply": "2021-10-08T03:41:10.852468Z",
     "shell.execute_reply.started": "2021-10-08T03:41:10.847287Z"
    },
    "tags": []
   },
   "outputs": [
    {
     "data": {
      "text/plain": [
       "(('intercept', -16075.9105295986),\n",
       " ('temperature', -0.10930465179934),\n",
       " ('temperature_2', 0.00127919201710817),\n",
       " ('humidity', 290.32275563977),\n",
       " ('pm25', -0.00590936236879369),\n",
       " ('month_January', -1340.35839222718),\n",
       " ('month_February', -1340.63163154938),\n",
       " ('month_March', -1339.57082807307),\n",
       " ('month_April', -1339.60439462239),\n",
       " ('month_May', -1338.9969751553),\n",
       " ('month_June', -1337.38636296079),\n",
       " ('month_July', -1340.9269373098),\n",
       " ('month_August', -1338.75435578225),\n",
       " ('month_September', -1340.19312739337),\n",
       " ('month_October', -1339.47423881602),\n",
       " ('month_November', -1338.95108869648),\n",
       " ('month_December', -1341.0621218705))"
      ]
     },
     "execution_count": 30,
     "metadata": {},
     "output_type": "execute_result"
    }
   ],
   "source": [
    "logreg_coef_names = (\n",
    "    'intercept',\n",
    "    'temperature',\n",
    "    'temperature_2',\n",
    "    'humidity',\n",
    "    'pm25',\n",
    "    \"month_January\",\"month_February\",\"month_March\",\n",
    "    \"month_April\",\"month_May\",\"month_June\",\"month_July\",\n",
    "    \"month_August\",\"month_September\",\"month_October\",\n",
    "    \"month_November\",\"month_December\"\n",
    ")\n",
    "tuple(zip(logreg_coef_names, logreg_coefs.iloc[0, 0]))"
   ]
  },
  {
   "cell_type": "code",
   "execution_count": 31,
   "id": "6bbcab2d-5ba8-4240-ae5d-1658c30f30ae",
   "metadata": {
    "execution": {
     "iopub.execute_input": "2021-10-08T03:41:10.854242Z",
     "iopub.status.busy": "2021-10-08T03:41:10.854059Z",
     "iopub.status.idle": "2021-10-08T03:41:11.529958Z",
     "shell.execute_reply": "2021-10-08T03:41:11.529325Z",
     "shell.execute_reply.started": "2021-10-08T03:41:10.854221Z"
    },
    "tags": []
   },
   "outputs": [
    {
     "name": "stdout",
     "output_type": "stream",
     "text": [
      " * postgresql://gpadmin@192.168.133.128:32000/db\n",
      "Done.\n",
      "60000 rows affected.\n",
      "10 rows affected.\n"
     ]
    },
    {
     "data": {
      "text/html": [
       "<table>\n",
       "    <tr>\n",
       "        <th>pred</th>\n",
       "        <th>y_test</th>\n",
       "    </tr>\n",
       "    <tr>\n",
       "        <td>0.0</td>\n",
       "        <td>0</td>\n",
       "    </tr>\n",
       "    <tr>\n",
       "        <td>1.0</td>\n",
       "        <td>1</td>\n",
       "    </tr>\n",
       "    <tr>\n",
       "        <td>1.0</td>\n",
       "        <td>1</td>\n",
       "    </tr>\n",
       "    <tr>\n",
       "        <td>1.0</td>\n",
       "        <td>1</td>\n",
       "    </tr>\n",
       "    <tr>\n",
       "        <td>0.0</td>\n",
       "        <td>0</td>\n",
       "    </tr>\n",
       "    <tr>\n",
       "        <td>0.0</td>\n",
       "        <td>0</td>\n",
       "    </tr>\n",
       "    <tr>\n",
       "        <td>6.32688001041926e-142</td>\n",
       "        <td>0</td>\n",
       "    </tr>\n",
       "    <tr>\n",
       "        <td>0.921474248867159</td>\n",
       "        <td>1</td>\n",
       "    </tr>\n",
       "    <tr>\n",
       "        <td>0.0</td>\n",
       "        <td>0</td>\n",
       "    </tr>\n",
       "    <tr>\n",
       "        <td>0.0</td>\n",
       "        <td>0</td>\n",
       "    </tr>\n",
       "</table>"
      ],
      "text/plain": [
       "[(0.0, 0),\n",
       " (1.0, 1),\n",
       " (1.0, 1),\n",
       " (1.0, 1),\n",
       " (0.0, 0),\n",
       " (0.0, 0),\n",
       " (6.32688001041926e-142, 0),\n",
       " (0.921474248867159, 1),\n",
       " (0.0, 0),\n",
       " (0.0, 0)]"
      ]
     },
     "execution_count": 31,
     "metadata": {},
     "output_type": "execute_result"
    }
   ],
   "source": [
    "%%sql\n",
    "DROP TABLE IF EXISTS sensors_logreg_test_prob;\n",
    "CREATE TABLE sensors_logreg_test_prob\n",
    "AS\n",
    "SELECT madlib.logregr_predict_prob(   --- Use the logistic regression model to estimate probability of mature\n",
    "        coef, \n",
    "        ARRAY[\n",
    "            1,\n",
    "            temperature,\n",
    "            temperature_2,\n",
    "            humidity,\n",
    "            pm25,\n",
    "            \"month_January\",\"month_February\",\"month_March\",\n",
    "            \"month_April\",\"month_May\",\"month_June\",\"month_July\",\n",
    "            \"month_August\",\"month_September\",\"month_October\",\n",
    "            \"month_November\",\"month_December\"]                   \n",
    "    ) as pred,\n",
    "    test.rain as y_test\n",
    "FROM sensors_split_test test, sensors_logreg_model model;\n",
    "\n",
    "SELECT * FROM sensors_logreg_test_prob LIMIT 10;"
   ]
  },
  {
   "cell_type": "markdown",
   "id": "45298048-c0fb-428e-a3cc-8141472c943e",
   "metadata": {},
   "source": [
    "### Confusion Matrix"
   ]
  },
  {
   "cell_type": "code",
   "execution_count": 32,
   "id": "ee07e4d4-fefc-4127-93cf-304ad1e596f5",
   "metadata": {
    "execution": {
     "iopub.execute_input": "2021-10-08T03:41:11.531330Z",
     "iopub.status.busy": "2021-10-08T03:41:11.531114Z",
     "iopub.status.idle": "2021-10-08T03:41:11.820832Z",
     "shell.execute_reply": "2021-10-08T03:41:11.820123Z",
     "shell.execute_reply.started": "2021-10-08T03:41:11.531306Z"
    },
    "tags": []
   },
   "outputs": [
    {
     "name": "stdout",
     "output_type": "stream",
     "text": [
      " * postgresql://gpadmin@192.168.133.128:32000/db\n",
      "Done.\n",
      "60000 rows affected.\n",
      "10 rows affected.\n"
     ]
    },
    {
     "data": {
      "text/html": [
       "<table>\n",
       "    <tr>\n",
       "        <th>pred</th>\n",
       "        <th>y_test</th>\n",
       "    </tr>\n",
       "    <tr>\n",
       "        <td>0</td>\n",
       "        <td>0</td>\n",
       "    </tr>\n",
       "    <tr>\n",
       "        <td>0</td>\n",
       "        <td>0</td>\n",
       "    </tr>\n",
       "    <tr>\n",
       "        <td>0</td>\n",
       "        <td>0</td>\n",
       "    </tr>\n",
       "    <tr>\n",
       "        <td>0</td>\n",
       "        <td>0</td>\n",
       "    </tr>\n",
       "    <tr>\n",
       "        <td>0</td>\n",
       "        <td>0</td>\n",
       "    </tr>\n",
       "    <tr>\n",
       "        <td>1</td>\n",
       "        <td>1</td>\n",
       "    </tr>\n",
       "    <tr>\n",
       "        <td>0</td>\n",
       "        <td>0</td>\n",
       "    </tr>\n",
       "    <tr>\n",
       "        <td>0</td>\n",
       "        <td>0</td>\n",
       "    </tr>\n",
       "    <tr>\n",
       "        <td>0</td>\n",
       "        <td>0</td>\n",
       "    </tr>\n",
       "    <tr>\n",
       "        <td>0</td>\n",
       "        <td>0</td>\n",
       "    </tr>\n",
       "</table>"
      ],
      "text/plain": [
       "[(0, 0),\n",
       " (0, 0),\n",
       " (0, 0),\n",
       " (0, 0),\n",
       " (0, 0),\n",
       " (1, 1),\n",
       " (0, 0),\n",
       " (0, 0),\n",
       " (0, 0),\n",
       " (0, 0)]"
      ]
     },
     "execution_count": 32,
     "metadata": {},
     "output_type": "execute_result"
    }
   ],
   "source": [
    "%%sql\n",
    "DROP TABLE IF EXISTS sensors_logreg_test_predict ;\n",
    "CREATE TABLE sensors_logreg_test_predict\n",
    "AS\n",
    "SELECT\n",
    "    (pred >= 0.5)::integer as pred,\n",
    "    y_test\n",
    "FROM sensors_logreg_test_prob;\n",
    "\n",
    "\n",
    "SELECT * FROM sensors_logreg_test_predict LIMIT 10;"
   ]
  },
  {
   "cell_type": "code",
   "execution_count": 33,
   "id": "3470ce5a-ed26-4f7f-b5db-b0ac8ed83fd0",
   "metadata": {
    "execution": {
     "iopub.execute_input": "2021-10-08T03:41:11.822170Z",
     "iopub.status.busy": "2021-10-08T03:41:11.821787Z",
     "iopub.status.idle": "2021-10-08T03:41:12.730182Z",
     "shell.execute_reply": "2021-10-08T03:41:12.729402Z",
     "shell.execute_reply.started": "2021-10-08T03:41:11.822140Z"
    },
    "tags": []
   },
   "outputs": [
    {
     "name": "stdout",
     "output_type": "stream",
     "text": [
      " * postgresql://gpadmin@192.168.133.128:32000/db\n",
      "Done.\n",
      "1 rows affected.\n"
     ]
    },
    {
     "data": {
      "text/html": [
       "<table>\n",
       "    <tr>\n",
       "        <th>confusion_matrix</th>\n",
       "    </tr>\n",
       "    <tr>\n",
       "        <td></td>\n",
       "    </tr>\n",
       "</table>"
      ],
      "text/plain": [
       "[('',)]"
      ]
     },
     "execution_count": 33,
     "metadata": {},
     "output_type": "execute_result"
    }
   ],
   "source": [
    "%%sql\n",
    "DROP TABLE IF EXISTS sensors_logreg_test_conf_matrix;\n",
    "SELECT\n",
    "madlib.confusion_matrix(\n",
    "    'sensors_logreg_test_predict',\n",
    "    'sensors_logreg_test_conf_matrix',\n",
    "    'pred',  -- prediction_col\n",
    "    'y_test' -- observation_col\n",
    ");"
   ]
  },
  {
   "cell_type": "code",
   "execution_count": 34,
   "id": "9cb21152-97a5-4f38-81f8-685d4870a6c4",
   "metadata": {
    "execution": {
     "iopub.execute_input": "2021-10-08T03:41:12.731730Z",
     "iopub.status.busy": "2021-10-08T03:41:12.731441Z",
     "iopub.status.idle": "2021-10-08T03:41:12.750562Z",
     "shell.execute_reply": "2021-10-08T03:41:12.749900Z",
     "shell.execute_reply.started": "2021-10-08T03:41:12.731701Z"
    },
    "tags": []
   },
   "outputs": [
    {
     "name": "stdout",
     "output_type": "stream",
     "text": [
      " * postgresql://gpadmin@192.168.133.128:32000/db\n",
      "2 rows affected.\n"
     ]
    }
   ],
   "source": [
    "confusion = %sql SELECT \\\n",
    "                        confusion_arr[1] as \"Predicted 0\",\\\n",
    "                        confusion_arr[2] as \"Predicted 1\" \\\n",
    "                        FROM sensors_logreg_test_conf_matrix ORDER BY row_id;\n",
    "\n",
    "confusion=confusion.DataFrame()"
   ]
  },
  {
   "cell_type": "code",
   "execution_count": 35,
   "id": "ef083c54-5cdd-45f1-8398-cceac2f540e9",
   "metadata": {
    "execution": {
     "iopub.execute_input": "2021-10-08T03:41:12.751857Z",
     "iopub.status.busy": "2021-10-08T03:41:12.751640Z",
     "iopub.status.idle": "2021-10-08T03:41:12.939530Z",
     "shell.execute_reply": "2021-10-08T03:41:12.939059Z",
     "shell.execute_reply.started": "2021-10-08T03:41:12.751833Z"
    },
    "tags": []
   },
   "outputs": [
    {
     "data": {
      "image/png": "[encoded data removed]",
      "text/plain": [
       "<Figure size 432x288 with 2 Axes>"
      ]
     },
     "metadata": {
      "needs_background": "light"
     },
     "output_type": "display_data"
    }
   ],
   "source": [
    "plt.title('Confusion Matrix')\n",
    "sns.heatmap(confusion.astype(int),annot=True,cmap=\"YlGnBu\",fmt='d',yticklabels=['True 0','True 1'],annot_kws={\"fontsize\":13});\n",
    "plt.yticks(rotation=0);"
   ]
  },
  {
   "cell_type": "code",
   "execution_count": 36,
   "id": "72ace31e-792c-417f-8f8c-35082cba5138",
   "metadata": {
    "execution": {
     "iopub.execute_input": "2021-10-08T03:41:12.940997Z",
     "iopub.status.busy": "2021-10-08T03:41:12.940840Z",
     "iopub.status.idle": "2021-10-08T03:41:20.273484Z",
     "shell.execute_reply": "2021-10-08T03:41:20.272546Z",
     "shell.execute_reply.started": "2021-10-08T03:41:12.940980Z"
    },
    "tags": []
   },
   "outputs": [
    {
     "name": "stdout",
     "output_type": "stream",
     "text": [
      " * postgresql://gpadmin@192.168.133.128:32000/db\n",
      "60000 rows affected.\n",
      " * postgresql://gpadmin@192.168.133.128:32000/db\n",
      "60000 rows affected.\n",
      "              precision    recall  f1-score   support\n",
      "\n",
      "           0       0.75      0.75      0.75     44812\n",
      "           1       0.25      0.25      0.25     15188\n",
      "\n",
      "    accuracy                           0.62     60000\n",
      "   macro avg       0.50      0.50      0.50     60000\n",
      "weighted avg       0.62      0.62      0.62     60000\n",
      "\n"
     ]
    }
   ],
   "source": [
    "y_test= %sql SELECT y_test FROM sensors_logreg_test_predict;\n",
    "pred = %sql SELECT pred FROM sensors_logreg_test_predict;\n",
    "\n",
    "\n",
    "print(classification_report(y_test,pred))"
   ]
  },
  {
   "cell_type": "markdown",
   "id": "cef05c60-7e1f-4ca9-b165-133ebdc58272",
   "metadata": {},
   "source": [
    "### ROC"
   ]
  },
  {
   "cell_type": "code",
   "execution_count": 37,
   "id": "4271e0ac-5b93-461d-a4be-323143b9f9fb",
   "metadata": {
    "execution": {
     "iopub.execute_input": "2021-10-08T03:41:20.275205Z",
     "iopub.status.busy": "2021-10-08T03:41:20.274818Z",
     "iopub.status.idle": "2021-10-08T03:41:20.532716Z",
     "shell.execute_reply": "2021-10-08T03:41:20.532200Z",
     "shell.execute_reply.started": "2021-10-08T03:41:20.275184Z"
    },
    "tags": []
   },
   "outputs": [
    {
     "name": "stdout",
     "output_type": "stream",
     "text": [
      " * postgresql://gpadmin@192.168.133.128:32000/db\n",
      "Done.\n",
      "1 rows affected.\n",
      "1 rows affected.\n"
     ]
    },
    {
     "data": {
      "text/html": [
       "<table>\n",
       "    <tr>\n",
       "        <th>area_under_roc</th>\n",
       "    </tr>\n",
       "    <tr>\n",
       "        <td>0.999999992653591250189742875987612990999000000</td>\n",
       "    </tr>\n",
       "</table>"
      ],
      "text/plain": [
       "[(Decimal('0.999999992653591250189742875987612990999000000'),)]"
      ]
     },
     "execution_count": 37,
     "metadata": {},
     "output_type": "execute_result"
    }
   ],
   "source": [
    "%%sql\n",
    "DROP TABLE IF EXISTS sensors_logreg_test_auc;\n",
    "SELECT\n",
    "madlib.area_under_roc(\n",
    "    'sensors_logreg_test_prob', \n",
    "    'sensors_logreg_test_auc', \n",
    "    'pred',  -- predictions, \n",
    "    'y_test'\n",
    ");\n",
    "\n",
    "SELECT * FROM sensors_logreg_test_auc;"
   ]
  },
  {
   "cell_type": "markdown",
   "id": "1decb2ff-ec40-45a3-8b7c-39194807db41",
   "metadata": {},
   "source": [
    "## Linear Regression  ( Regression Model )"
   ]
  },
  {
   "cell_type": "code",
   "execution_count": 38,
   "id": "57934b39-a57f-416b-a567-fe42e73bac15",
   "metadata": {
    "execution": {
     "iopub.execute_input": "2021-10-08T03:41:20.533989Z",
     "iopub.status.busy": "2021-10-08T03:41:20.533809Z",
     "iopub.status.idle": "2021-10-08T03:41:22.045718Z",
     "shell.execute_reply": "2021-10-08T03:41:22.045007Z",
     "shell.execute_reply.started": "2021-10-08T03:41:20.533968Z"
    },
    "tags": []
   },
   "outputs": [
    {
     "name": "stdout",
     "output_type": "stream",
     "text": [
      " * postgresql://gpadmin@192.168.133.128:32000/db\n",
      "Done.\n",
      "Done.\n",
      "1 rows affected.\n",
      "1 rows affected.\n"
     ]
    },
    {
     "data": {
      "text/html": [
       "<table>\n",
       "    <tr>\n",
       "        <th>coef</th>\n",
       "        <th>r2</th>\n",
       "        <th>std_err</th>\n",
       "        <th>t_stats</th>\n",
       "        <th>p_values</th>\n",
       "        <th>condition_no</th>\n",
       "        <th>bp_stats</th>\n",
       "        <th>bp_p_value</th>\n",
       "        <th>num_rows_processed</th>\n",
       "        <th>num_missing_rows_skipped</th>\n",
       "        <th>variance_covariance</th>\n",
       "    </tr>\n",
       "    <tr>\n",
       "        <td>[13.6878108464033, 1.00609041565059, 0.000355459125349474, -0.000485271485671133, 1.13384152632123, 1.11460867982328, 1.16951727018666, 1.11277904472915, 1.14138357852357, 1.17291278678044, 1.11172487019051, 1.1901651993578, 1.100209326472, 1.16777717720876, 1.12959289211904, 1.14329849459223]</td>\n",
       "        <td>0.0865106722021287</td>\n",
       "        <td>[0.261223504465541, 0.00875521868386623, 0.000533002782119966, 0.00052620202559627, 0.0343117533855779, 0.0352646992257675, 0.034437474976706, 0.0342449548842115, 0.0339555494852056, 0.0343109561072517, 0.0340252455208672, 0.0339424384544088, 0.0344181880892064, 0.0342259260195594, 0.0345190254306795, 0.0341466549807793]</td>\n",
       "        <td>[52.3988485431596, 114.913225126469, 0.666899193163065, -0.922215160842918, 33.0452808278172, 31.6069243264338, 33.9605987656684, 32.4946856695144, 33.61405118833, 34.1847887629265, 32.67352970337, 35.0642220639635, 31.9659281197614, 34.1196663763429, 32.7237770483257, 33.4820056382032]</td>\n",
       "        <td>[0.0, 0.0, 0.504837625564324, 0.356417945973233, 1.51870278800314e-238, 1.75419788642891e-218, 9.07142478219922e-252, 9.22601729429901e-231, 1.01407098486764e-246, 4.62022912119568e-255, 2.82399922665221e-233, 3.48187855894624e-268, 2.08355662371858e-223, 4.20150694170277e-254, 5.52150672328901e-234, 8.24676628783893e-245]</td>\n",
       "        <td>inf</td>\n",
       "        <td>14.3157047658714</td>\n",
       "        <td>0.501732674313559</td>\n",
       "        <td>140000</td>\n",
       "        <td>0</td>\n",
       "        <td>[[0.0682377192852586, -0.0022398192062228, -1.319230724241e-05, -1.61385547897892e-05, 0.00569439111852515, 0.00565669652860902, 0.00571873970660628, 0.00564366884215525, 0.00564702327533291, 0.00565660193432321, 0.00568608848751147, 0.00566800244506226, 0.00571184167684268, 0.00572375592173263, 0.00571893887750436, 0.00571197047052635], [-0.0022398192062228, 7.66538542023203e-05, -2.16499795736223e-09, -2.77313000906139e-07, -0.000186791338217502, -0.000185383833577644, -0.000187518836485601, -0.000185212352049222, -0.000185534903555489, -0.000185751707126706, -0.000186868307906885, -0.000186290741794061, -0.000187604987473062, -0.000187861273080609, -0.00018748527963882, -0.000187515645299902], [-1.319230724241e-05, -2.16499795736221e-09, 2.84091965747624e-07, 1.56745585381982e-09, -1.10120732960814e-06, -1.14442564471833e-06, -1.14796446221232e-06, -1.13765692349524e-06, -1.07417465183015e-06, -1.10547128251824e-06, -1.05955203142597e-06, -1.07438767994354e-06, -1.07580540317263e-06, -1.10969255973712e-06, -1.12144128670461e-06, -1.04052798694177e-06], [-1.61385547897892e-05, -2.77313000906139e-07, 1.56745585381983e-09, 2.76888571741618e-07, -1.38899763620451e-06, -1.33405457972145e-06, -1.39218268379862e-06, -1.31913900408326e-06, -1.30351255770594e-06, -1.29936450988257e-06, -1.30940676134382e-06, -1.29263575166159e-06, -1.32260821473943e-06, -1.3703373547849e-06, -1.4138630950506e-06, -1.39245264068782e-06], [0.00569439111852515, -0.000186791338217502, -1.10120732960814e-06, -1.38899763620451e-06, 0.00117729642039272, 0.000401156274593537, 0.000413140913544733, 0.000406939520453005, 0.000409245639379964, 0.00040777663546472, 0.000412680899428957, 0.000411431470284244, 0.000412571242680585, 0.000415091720629371, 0.000412601988451652, 0.000414458393177762], [0.00565669652860902, -0.000185383833577644, -1.14442564471833e-06, -1.33405457972145e-06, 0.000401156274593537, 0.00124359901148385, 0.000402723852183886, 0.000396581002586193, 0.0003988746346332, 0.000397407179881915, 0.00040228083507962, 0.000401048401777839, 0.000402156678108463, 0.000404667012210346, 0.000402176769997292, 0.000404024876028314], [0.00571873970660628, -0.000187518836485601, -1.14796446221232e-06, -1.39218268379862e-06, 0.000413140913544734, 0.000402723852183886, 0.00118593968277125, 0.00040850404288213, 0.000410802487354681, 0.0004093406240117, 0.000414248218453516, 0.000412995366148862, 0.000414148550941257, 0.000416678019052617, 0.000414187499718711, 0.000416030449498856], [0.00564366884215525, -0.000185212352049222, -1.13765692349524e-06, -1.31913900408326e-06, 0.000406939520453005, 0.000396581002586193, 0.00040850404288213, 0.00117271693502168, 0.000404666386200706, 0.000403197898720719, 0.000408069344808231, 0.000406838914389878, 0.00040794226543102, 0.00041044849500054, 0.000407956448809852, 0.000409807587807797], [0.00564702327533291, -0.000185534903555489, -1.07417465183015e-06, -1.30351255770594e-06, 0.000409245639379964, 0.0003988746346332, 0.000410802487354681, 0.000404666386200706, 0.00115297934084225, 0.000405503475174811, 0.000410389139084404, 0.000409153936195592, 0.000410260716520626, 0.000412757972416617, 0.000410259568033616, 0.000412129979452901], [0.00565660193432321, -0.000185751707126706, -1.10547128251824e-06, -1.29936450988257e-06, 0.00040777663546472, 0.000397407179881915, 0.0004093406240117, 0.000403197898720719, 0.000405503475174811, 0.00117724170899376, 0.000408916776818641, 0.000407681815999762, 0.000408792028818054, 0.000411293123061786, 0.000408794409051255, 0.000410656258282497], [0.00568608848751147, -0.000186868307906885, -1.05955203142597e-06, -1.30940676134382e-06, 0.000412680899428957, 0.00040228083507962, 0.000414248218453516, 0.000408069344808231, 0.000410389139084405, 0.000408916776818641, 0.00115771733275529, 0.00041257802906987, 0.000413708955138226, 0.000416210826244711, 0.000413706926672139, 0.000415581203914011], [0.00566800244506226, -0.000186290741794061, -1.07438767994354e-06, -1.29263575166159e-06, 0.000411431470284244, 0.00040104840177784, 0.000412995366148862, 0.000406838914389878, 0.000409153936195592, 0.000407681815999762, 0.00041257802906987, 0.00115208912823133, 0.000412456418161406, 0.000414954798296079, 0.000412451453357068, 0.000414322713106622], [0.00571184167684268, -0.000187604987473062, -1.07580540317263e-06, -1.32260821473943e-06, 0.000412571242680585, 0.000402156678108463, 0.000414148550941257, 0.00040794226543102, 0.000410260716520626, 0.000408792028818054, 0.000413708955138226, 0.000412456418161406, 0.00118461167134399, 0.000416111091401644, 0.000413606658504735, 0.000415475399748645], [0.00572375592173263, -0.000187861273080609, -1.10969255973712e-06, -1.3703373547849e-06, 0.000415091720629371, 0.000404667012210346, 0.000416678019052617, 0.00041044849500054, 0.000412757972416617, 0.000411293123061786, 0.000416210826244711, 0.000414954798296079, 0.000416111091401644, 0.00117141401189635, 0.000416136663284988, 0.000417992188193438], [0.00571893887750436, -0.00018748527963882, -1.12144128670461e-06, -1.4138630950506e-06, 0.000412601988451652, 0.000402176769997292, 0.000414187499718711, 0.000407956448809852, 0.000410259568033616, 0.000408794409051255, 0.000413706926672139, 0.000412451453357068, 0.000413606658504735, 0.000416136663284988, 0.0011915631166839, 0.000415497374895078], [0.00571197047052635, -0.000187515645299902, -1.04052798694177e-06, -1.39245264068782e-06, 0.000414458393177762, 0.000404024876028314, 0.000416030449498856, 0.000409807587807797, 0.000412129979452901, 0.000410656258282497, 0.000415581203914011, 0.000414322713106622, 0.000415475399748645, 0.000417992188193438, 0.000415497374895078, 0.00116599404637638]]</td>\n",
       "    </tr>\n",
       "</table>"
      ],
      "text/plain": [
       "[([13.6878108464033, 1.00609041565059, 0.000355459125349474, -0.000485271485671133, 1.13384152632123, 1.11460867982328, 1.16951727018666, 1.11277904472915, 1.14138357852357, 1.17291278678044, 1.11172487019051, 1.1901651993578, 1.100209326472, 1.16777717720876, 1.12959289211904, 1.14329849459223], 0.0865106722021287, [0.261223504465541, 0.00875521868386623, 0.000533002782119966, 0.00052620202559627, 0.0343117533855779, 0.0352646992257675, 0.034437474976706, 0.03424 ... (22 characters truncated) ... 494852056, 0.0343109561072517, 0.0340252455208672, 0.0339424384544088, 0.0344181880892064, 0.0342259260195594, 0.0345190254306795, 0.0341466549807793], [52.3988485431596, 114.913225126469, 0.666899193163065, -0.922215160842918, 33.0452808278172, 31.6069243264338, 33.9605987656684, 32.4946856695144, 33.61405118833, 34.1847887629265, 32.67352970337, 35.0642220639635, 31.9659281197614, 34.1196663763429, 32.7237770483257, 33.4820056382032], [0.0, 0.0, 0.504837625564324, 0.356417945973233, 1.51870278800314e-238, 1.75419788642891e-218, 9.07142478219922e-252, 9.22601729429901e-231, 1.0140709 ... (24 characters truncated) ... 119568e-255, 2.82399922665221e-233, 3.48187855894624e-268, 2.08355662371858e-223, 4.20150694170277e-254, 5.52150672328901e-234, 8.24676628783893e-245], inf, 14.3157047658714, 0.501732674313559, 140000, 0, [[0.0682377192852586, -0.0022398192062228, -1.319230724241e-05, -1.61385547897892e-05, 0.00569439111852515, 0.00565669652860902, 0.00571873970660628,  ... (5372 characters truncated) ... 00410656258282497, 0.000415581203914011, 0.000414322713106622, 0.000415475399748645, 0.000417992188193438, 0.000415497374895078, 0.00116599404637638]])]"
      ]
     },
     "execution_count": 38,
     "metadata": {},
     "output_type": "execute_result"
    }
   ],
   "source": [
    "%%sql\n",
    "DROP TABLE IF EXISTS sensors_linreg_model;\n",
    "DROP TABLE IF EXISTS sensors_linreg_model_summary;\n",
    "\n",
    "SELECT madlib.linregr_train(\n",
    "    'sensors_split_train',   -- source_table\n",
    "    'sensors_linreg_model',  -- out_table\n",
    "    'temperature_2',         -- labels\n",
    "    'ARRAY[\n",
    "        1,\n",
    "        temperature,\n",
    "        humidity,pm25,\n",
    "        \"month_January\",\"month_February\",\"month_March\",\n",
    "        \"month_April\",\"month_May\",\"month_June\",\n",
    "        \"month_July\",\"month_August\",\"month_September\",\n",
    "        \"month_October\",\"month_November\",\"month_December\"]',       -- feature\n",
    "    NULL,  -- grouping_cols\n",
    "    TRUE  -- heteroskedasticity_option\n",
    ");\n",
    "\n",
    "SELECT * FROM sensors_linreg_model LIMIT 10;"
   ]
  },
  {
   "cell_type": "code",
   "execution_count": 39,
   "id": "f5c0bed4-5c3e-4928-b6b8-b5dcb38e994a",
   "metadata": {
    "execution": {
     "iopub.execute_input": "2021-10-08T03:41:22.046976Z",
     "iopub.status.busy": "2021-10-08T03:41:22.046776Z",
     "iopub.status.idle": "2021-10-08T03:41:23.033570Z",
     "shell.execute_reply": "2021-10-08T03:41:23.033031Z",
     "shell.execute_reply.started": "2021-10-08T03:41:22.046952Z"
    },
    "tags": []
   },
   "outputs": [
    {
     "name": "stdout",
     "output_type": "stream",
     "text": [
      " * postgresql://gpadmin@192.168.133.128:32000/db\n",
      "Done.\n",
      "60000 rows affected.\n",
      "5 rows affected.\n"
     ]
    },
    {
     "data": {
      "text/html": [
       "<table>\n",
       "    <tr>\n",
       "        <th>prediction</th>\n",
       "        <th>y_test</th>\n",
       "    </tr>\n",
       "    <tr>\n",
       "        <td>47.6262341142532</td>\n",
       "        <td>43.3934340393275</td>\n",
       "    </tr>\n",
       "    <tr>\n",
       "        <td>48.0876077674665</td>\n",
       "        <td>49.5107341068455</td>\n",
       "    </tr>\n",
       "    <tr>\n",
       "        <td>48.3278060151517</td>\n",
       "        <td>48.1359369043842</td>\n",
       "    </tr>\n",
       "    <tr>\n",
       "        <td>45.958583796959</td>\n",
       "        <td>48.3124962572101</td>\n",
       "    </tr>\n",
       "    <tr>\n",
       "        <td>46.3920105135889</td>\n",
       "        <td>50.5813168067215</td>\n",
       "    </tr>\n",
       "</table>"
      ],
      "text/plain": [
       "[(47.6262341142532, 43.3934340393275),\n",
       " (48.0876077674665, 49.5107341068455),\n",
       " (48.3278060151517, 48.1359369043842),\n",
       " (45.958583796959, 48.3124962572101),\n",
       " (46.3920105135889, 50.5813168067215)]"
      ]
     },
     "execution_count": 39,
     "metadata": {},
     "output_type": "execute_result"
    }
   ],
   "source": [
    "%%sql\n",
    "DROP TABLE IF EXISTS sensors_linreg_test_predict;\n",
    "\n",
    "CREATE TABLE sensors_linreg_test_predict\n",
    "AS\n",
    "SELECT \n",
    "    madlib.linregr_predict(\n",
    "        coef, \n",
    "        ARRAY[\n",
    "            1,\n",
    "            temperature,\n",
    "            humidity,pm25,\n",
    "            \"month_January\",\"month_February\",\"month_March\",\n",
    "            \"month_April\",\"month_May\",\"month_June\",\n",
    "            \"month_July\",\"month_August\",\"month_September\",\n",
    "            \"month_October\",\"month_November\",\"month_December\"\n",
    "            ] \n",
    "    ) as prediction,\n",
    "    test.temperature_2 as y_test\n",
    "FROM sensors_split_test test, sensors_linreg_model model;\n",
    "\n",
    "SELECT * FROM sensors_linreg_test_predict LIMIT 5;"
   ]
  },
  {
   "cell_type": "code",
   "execution_count": 40,
   "id": "781f0732-1068-4748-9e8b-945509786b20",
   "metadata": {
    "execution": {
     "iopub.execute_input": "2021-10-08T03:41:23.034709Z",
     "iopub.status.busy": "2021-10-08T03:41:23.034532Z",
     "iopub.status.idle": "2021-10-08T03:41:23.329220Z",
     "shell.execute_reply": "2021-10-08T03:41:23.328521Z",
     "shell.execute_reply.started": "2021-10-08T03:41:23.034688Z"
    },
    "tags": []
   },
   "outputs": [
    {
     "name": "stdout",
     "output_type": "stream",
     "text": [
      " * postgresql://gpadmin@192.168.133.128:32000/db\n",
      "Done.\n",
      "1 rows affected.\n",
      "1 rows affected.\n"
     ]
    },
    {
     "data": {
      "text/html": [
       "<table>\n",
       "    <tr>\n",
       "        <th>mean_squared_error</th>\n",
       "    </tr>\n",
       "    <tr>\n",
       "        <td>9.05912372048728</td>\n",
       "    </tr>\n",
       "</table>"
      ],
      "text/plain": [
       "[(9.05912372048728,)]"
      ]
     },
     "execution_count": 40,
     "metadata": {},
     "output_type": "execute_result"
    }
   ],
   "source": [
    "%%sql\n",
    "DROP TABLE IF EXISTS sensors_linreg_test_predict_mse;\n",
    "\n",
    "SELECT madlib.mean_squared_error(\n",
    "    'sensors_linreg_test_predict',      -- table_in\n",
    "    'sensors_linreg_test_predict_mse',  -- table_out\n",
    "    'prediction',  -- prediction\n",
    "    'y_test'  -- y_test\n",
    ");\n",
    "\n",
    "SELECT * FROM sensors_linreg_test_predict_mse;"
   ]
  },
  {
   "cell_type": "code",
   "execution_count": 41,
   "id": "840d486f-95f3-4e58-88e5-61502b2bbe5f",
   "metadata": {
    "execution": {
     "iopub.execute_input": "2021-10-08T03:41:23.330634Z",
     "iopub.status.busy": "2021-10-08T03:41:23.330385Z",
     "iopub.status.idle": "2021-10-08T03:41:23.344673Z",
     "shell.execute_reply": "2021-10-08T03:41:23.343900Z",
     "shell.execute_reply.started": "2021-10-08T03:41:23.330574Z"
    },
    "tags": []
   },
   "outputs": [
    {
     "name": "stdout",
     "output_type": "stream",
     "text": [
      " * postgresql://gpadmin@192.168.133.128:32000/db\n",
      "200 rows affected.\n"
     ]
    }
   ],
   "source": [
    "pred = %sql SELECT * FROM sensors_linreg_test_predict LIMIT 200;\n",
    "pred=pred.DataFrame()"
   ]
  },
  {
   "cell_type": "code",
   "execution_count": 42,
   "id": "5a3fcc18-5c07-4e4d-a3bd-fc65e01149b0",
   "metadata": {
    "execution": {
     "iopub.execute_input": "2021-10-08T03:41:23.346226Z",
     "iopub.status.busy": "2021-10-08T03:41:23.345996Z",
     "iopub.status.idle": "2021-10-08T03:41:23.356226Z",
     "shell.execute_reply": "2021-10-08T03:41:23.355637Z",
     "shell.execute_reply.started": "2021-10-08T03:41:23.346199Z"
    },
    "tags": []
   },
   "outputs": [
    {
     "data": {
      "text/html": [
       "<div>\n",
       "<style scoped>\n",
       "    .dataframe tbody tr th:only-of-type {\n",
       "        vertical-align: middle;\n",
       "    }\n",
       "\n",
       "    .dataframe tbody tr th {\n",
       "        vertical-align: top;\n",
       "    }\n",
       "\n",
       "    .dataframe thead th {\n",
       "        text-align: right;\n",
       "    }\n",
       "</style>\n",
       "<table border=\"1\" class=\"dataframe\">\n",
       "  <thead>\n",
       "    <tr style=\"text-align: right;\">\n",
       "      <th></th>\n",
       "      <th>prediction</th>\n",
       "      <th>y_test</th>\n",
       "    </tr>\n",
       "  </thead>\n",
       "  <tbody>\n",
       "    <tr>\n",
       "      <th>0</th>\n",
       "      <td>47.626234</td>\n",
       "      <td>43.393434</td>\n",
       "    </tr>\n",
       "    <tr>\n",
       "      <th>1</th>\n",
       "      <td>48.087608</td>\n",
       "      <td>49.510734</td>\n",
       "    </tr>\n",
       "    <tr>\n",
       "      <th>2</th>\n",
       "      <td>48.327806</td>\n",
       "      <td>48.135937</td>\n",
       "    </tr>\n",
       "    <tr>\n",
       "      <th>3</th>\n",
       "      <td>45.958584</td>\n",
       "      <td>48.312496</td>\n",
       "    </tr>\n",
       "    <tr>\n",
       "      <th>4</th>\n",
       "      <td>46.392011</td>\n",
       "      <td>50.581317</td>\n",
       "    </tr>\n",
       "    <tr>\n",
       "      <th>...</th>\n",
       "      <td>...</td>\n",
       "      <td>...</td>\n",
       "    </tr>\n",
       "    <tr>\n",
       "      <th>195</th>\n",
       "      <td>47.627120</td>\n",
       "      <td>49.858419</td>\n",
       "    </tr>\n",
       "    <tr>\n",
       "      <th>196</th>\n",
       "      <td>46.869470</td>\n",
       "      <td>46.130127</td>\n",
       "    </tr>\n",
       "    <tr>\n",
       "      <th>197</th>\n",
       "      <td>46.356902</td>\n",
       "      <td>50.773642</td>\n",
       "    </tr>\n",
       "    <tr>\n",
       "      <th>198</th>\n",
       "      <td>48.589192</td>\n",
       "      <td>49.078152</td>\n",
       "    </tr>\n",
       "    <tr>\n",
       "      <th>199</th>\n",
       "      <td>47.872698</td>\n",
       "      <td>46.279245</td>\n",
       "    </tr>\n",
       "  </tbody>\n",
       "</table>\n",
       "<p>200 rows × 2 columns</p>\n",
       "</div>"
      ],
      "text/plain": [
       "     prediction     y_test\n",
       "0     47.626234  43.393434\n",
       "1     48.087608  49.510734\n",
       "2     48.327806  48.135937\n",
       "3     45.958584  48.312496\n",
       "4     46.392011  50.581317\n",
       "..          ...        ...\n",
       "195   47.627120  49.858419\n",
       "196   46.869470  46.130127\n",
       "197   46.356902  50.773642\n",
       "198   48.589192  49.078152\n",
       "199   47.872698  46.279245\n",
       "\n",
       "[200 rows x 2 columns]"
      ]
     },
     "execution_count": 42,
     "metadata": {},
     "output_type": "execute_result"
    }
   ],
   "source": [
    "pred"
   ]
  },
  {
   "cell_type": "code",
   "execution_count": 43,
   "id": "b9679c2a-dac2-407d-a881-91b83d111a0b",
   "metadata": {
    "execution": {
     "iopub.execute_input": "2021-10-08T03:41:23.357574Z",
     "iopub.status.busy": "2021-10-08T03:41:23.357360Z",
     "iopub.status.idle": "2021-10-08T03:41:23.705323Z",
     "shell.execute_reply": "2021-10-08T03:41:23.704813Z",
     "shell.execute_reply.started": "2021-10-08T03:41:23.357551Z"
    },
    "tags": []
   },
   "outputs": [
    {
     "data": {
      "image/png": "[encoded data removed]",
      "text/plain": [
       "<Figure size 720x360 with 1 Axes>"
      ]
     },
     "metadata": {
      "needs_background": "light"
     },
     "output_type": "display_data"
    }
   ],
   "source": [
    "sns.lmplot(x='prediction',y='y_test',data=pred,height=5,aspect=2)\n",
    "plt.title(\"LR prediction , y_test scatterplot\") \n",
    "plt.ylim(30,70);"
   ]
  },
  {
   "cell_type": "markdown",
   "id": "df828697-81f5-453f-8405-986b2216642e",
   "metadata": {},
   "source": [
    "## Multilayer Perceptron ( ANN )"
   ]
  },
  {
   "cell_type": "code",
   "execution_count": 44,
   "id": "f7fd2dbc-eb22-4f1c-8bc9-13d50fa54b4c",
   "metadata": {
    "execution": {
     "iopub.execute_input": "2021-10-08T03:41:23.706588Z",
     "iopub.status.busy": "2021-10-08T03:41:23.706430Z",
     "iopub.status.idle": "2021-10-08T03:43:35.947959Z",
     "shell.execute_reply": "2021-10-08T03:43:35.947272Z",
     "shell.execute_reply.started": "2021-10-08T03:41:23.706570Z"
    },
    "tags": []
   },
   "outputs": [
    {
     "name": "stdout",
     "output_type": "stream",
     "text": [
      " * postgresql://gpadmin@192.168.133.128:32000/db\n",
      "Done.\n",
      "Done.\n",
      "1 rows affected.\n",
      "1 rows affected.\n"
     ]
    },
    {
     "data": {
      "text/html": [
       "<table>\n",
       "    <tr>\n",
       "        <th>coeff</th>\n",
       "        <th>loss</th>\n",
       "        <th>num_iterations</th>\n",
       "    </tr>\n",
       "    <tr>\n",
       "        <td>[5.25670584140862, 0.0018554548633512, 0.555347086831187, -0.106807655206207, -0.0424818047371426, -0.00841389621115055, -0.0284668640402652, -0.0173400368253576, -0.0205505040664786, -0.0456685145736653, 0.00659473675409469, 0.0138846319908715, 0.041172991873062, -0.0810832441498937, 0.0485989667263108, 0.00857614675629368, 0.0575251885142829, -4.08625118088112, 0.00583776371143724, 0.849060162597831, 0.363783621456659, -0.163378734809073, -0.0590957352479027, -0.0899418313800322, 0.163559478495432, -0.233390589776409, 0.0143136656236015, 0.119996010424356, -0.0644108230319712, 0.118987467974524, -0.159900291783802, -0.000147690721396246, -0.0245887175397426, 0.0270757238862405, -2.9306385192232, -0.0469147036331727, 0.437054384310109, 0.154576448877015, 0.0984932811768907, 0.113071281137765, -0.120845731245448, -0.154348408945457, -0.21385223874987, 0.187563972585618, -0.149029033990829, -0.187393128239038, 0.00293591830026232, 0.0511774699730144, 0.0767383080631419, 0.0892353943686344, 0.189165179495315, -5.54703925165866, 0.0616203386122864, 2.54957775707541, 0.242029966375427, 0.408460709265059, -0.100545351604146, -0.467641161951248, -0.166764307545682, 0.296938497056965, 0.237215204420498, -0.243283027749784, 0.141687504534141, -0.114634063686923, 0.188406845548277, 0.0445810342259304, 0.165228010922533, -0.17585057579428, 5.3389554935505, -0.153133026098753, 0.544895285673065, -0.13373771262981, 0.177909489857114, -0.113340704276614, 0.00284639374791657, 0.0685446943233156, 0.00127137141329655, -0.106023016640917, 0.0557555178433985, -0.0179072341105107, -0.00232552293760285, -0.0784893952624211, 0.13016164773188, -0.0840114050464857, -0.00826984906825268, 5.68116748713059, -0.10620390960544, 0.541881956666655, -0.08623861358931, 0.174041064020625, -0.0995168765498124, 0.0038014433600686, 0.0974603393060724, 0.0302913943881772, -0.111334740034634, 0.0420325413789321, -0.0540407091074351, -0.0141483513378679, -0.0660522281214039, 0.12261221002967, -0.0793977490372578, -0.0174754533731286, 5.79106491930024, -0.00516167035342254, 0.558020874889769, -0.137613111938722, 0.117674054998515, -0.0876556562104989, 0.00420116861486583, 0.0687683521619926, 0.0288246052670619, -0.0777518924025109, 0.0637424751491854, 0.00638417064091578, 0.0418051877971506, -0.0601964775762482, 0.13080721658121, -0.043964894698242, 0.0216610366266831, 6.23389279891197, 0.0565134419033825, 0.300481401834401, 0.408455864013349, -0.0508870008582935, 0.221859763991623, 0.111505339482115, -0.00538529366558486, -0.0573918533348857, -0.048144530079581, 0.120898424079498, -0.229684095178684, 0.125293349590412, -0.0623698539507015, -0.137321087216645, -0.145252621552562, -0.156468827585264, -3.92376845833686, -0.00132850493663976, 0.657270474620499, 0.151843474166171, -0.0894320092754303, 0.0412084326439945, 0.0304116011833345, 0.0290719754839368, -0.147371892034785, 0.0444807116066247, 0.190792674022075, -0.0326946813306596, 0.156931148038986, -0.0486050864981354, 0.0524571130721361, -0.0858511072098753, 0.14809141389101, -5.08219040207816, 0.0628218801024756, 1.52596136590445, 0.45996145325279, -0.512721479668772, -0.323911297059265, -0.0894778706707834, 0.581223258513876, -0.0266642263624298, 0.177509819757704, 0.156552675590723, -0.151399089487505, 0.141017244366611, -0.122770668157201, -0.142087622669499, 0.236535794797364, -0.166141963871846, -4.36559796532336, 0.0487969851025288, 1.15272813136375, -0.264930432976857, -0.124725981057195, -0.0800248900359162, 0.0345987066512636, -0.181804804037113, -0.191306176651629, 0.0841121190792332, 0.0452935506018942, -0.0822141744633745, 0.0953656332707194, 0.140959307474664, 0.0475437718714824, -0.0967659942027831, -0.0311238015840659, -4.88937252315098, -0.0213835346613118, 1.33199104276949, -0.577190606683592, 0.0586544499832331, -0.113088074826844, 0.171909594868169, -0.418998656619814, -0.279101763393202, -0.071516850169519, 0.00447267466079775, -0.00213270387314304, 0.161443234922097, 0.310596290253535, 0.174816057026392, -0.139484837788237, -0.0585891530387411, 4.78487001276975, 0.13225895515329, 0.520021139360844, 0.0833568873009291, -0.188310139794967, 0.245752501502707, 0.0168968720819952, -0.0744160114264094, -0.0352390644091898, 0.0436110864963823, 0.0358028350529464, -0.0100067500093976, 0.0491810506736191, -0.0674316769337136, -0.0290862813288152, 0.0700885478631649, 0.0382288431594646, 5.83316428220572, 0.122027284680666, 0.52816721159643, 0.00731603307283631, 0.0688368554541466, -0.000308488197666658, 0.0165784993872728, 0.0796365067795541, 0.0420108680791564, -0.0727364879892027, 0.0350400413907189, -0.0700162662504707, 0.00216357573482337, -0.063859275209752, 0.0569619512822255, -0.0412685918230713, -0.00428024657422955, 5.04787583988915, 0.0201578643432359, 0.537455539146042, -0.320856187797488, -0.24068334200711, 0.108142322070792, -0.123705148933454, -0.0715342355409094, -0.14092845240792, -0.00774322075264698, -0.107642713804089, 0.0615542684901669, 0.12584802464257, -0.0840699064619171, 0.0389467676297073, 0.158086874204694, 0.228897512615799, 6.15829482722915, -0.0115143510184211, 0.456837111185199, 0.163429648078222, 0.00246537304116541, 0.090458162729722, 0.0168079541245308, 0.0308969420134972, -0.0134093450465856, -0.082943380274922, 0.0226319295069158, -0.156385359369055, -0.00622542639911311, -0.106892831868964, -0.0612966285482818, -0.0906876368674912, -0.0768641186156236, 10.568823419999, 3.42670994443729, 0.399936993790564, 0.116276078633171, 0.465023754703205, 3.26110109479872, 4.11952273358476, 4.46653657091114, 6.25028701514501, 0.371823607782054, 0.46760664465364, 0.433511080183296, 0.519758595384752, 2.5485000366175, 4.8150875020772, 2.88419774050372, 6.00816085472489]</td>\n",
       "        <td>5.56679360449262</td>\n",
       "        <td>66</td>\n",
       "    </tr>\n",
       "</table>"
      ],
      "text/plain": [
       "[([5.25670584140862, 0.0018554548633512, 0.555347086831187, -0.106807655206207, -0.0424818047371426, -0.00841389621115055, -0.0284668640402652, -0.01734 ... (5427 characters truncated) ... 4501, 0.371823607782054, 0.46760664465364, 0.433511080183296, 0.519758595384752, 2.5485000366175, 4.8150875020772, 2.88419774050372, 6.00816085472489], 5.56679360449262, 66)]"
      ]
     },
     "execution_count": 44,
     "metadata": {},
     "output_type": "execute_result"
    }
   ],
   "source": [
    "%%sql\n",
    "DROP TABLE IF EXISTS sensors_mlp_model;\n",
    "DROP TABLE IF EXISTS sensors_mlp_model_standardization;\n",
    "\n",
    "SELECT madlib.mlp_regression(\n",
    "    'sensors_split_train',           -- source_table\n",
    "    'sensors_mlp_model',             -- out_table\n",
    "    'ARRAY[\n",
    "        1,\n",
    "        temperature,\n",
    "        humidity,pm25,\n",
    "        \"month_January\",\"month_February\",\"month_March\",\n",
    "        \"month_April\",\"month_May\",\"month_June\",\n",
    "        \"month_July\",\"month_August\",\"month_September\",\n",
    "        \"month_October\",\"month_November\",\"month_December\"]',       -- feature\n",
    "    'temperature_2',                 -- labels\n",
    "    ARRAY[16],                       -- hidden_layer_sizes\n",
    "    NULL,                            -- optimizer_params,\n",
    "    NULL,                            -- activation,\n",
    "    NULL,                            -- weights,\n",
    "    NULL,                            -- warm_start,\n",
    "    NULL,                            -- verbose,\n",
    "    NULL                             -- grouping_col\n",
    ");\n",
    "\n",
    "SELECT * FROM sensors_mlp_model;"
   ]
  },
  {
   "cell_type": "markdown",
   "id": "9b5699a8-6ed4-4e97-92d3-c3b4c9eb1706",
   "metadata": {},
   "source": [
    "Mean and Standard Deviation for normalizing inputs"
   ]
  },
  {
   "cell_type": "code",
   "execution_count": 45,
   "id": "abc0fcf0-0906-4ec8-9641-4d470c37e3ce",
   "metadata": {
    "execution": {
     "iopub.execute_input": "2021-10-08T03:43:35.949068Z",
     "iopub.status.busy": "2021-10-08T03:43:35.948891Z",
     "iopub.status.idle": "2021-10-08T03:43:35.957773Z",
     "shell.execute_reply": "2021-10-08T03:43:35.957230Z",
     "shell.execute_reply.started": "2021-10-08T03:43:35.949048Z"
    }
   },
   "outputs": [
    {
     "name": "stdout",
     "output_type": "stream",
     "text": [
      " * postgresql://gpadmin@192.168.133.128:32000/db\n",
      "1 rows affected.\n"
     ]
    },
    {
     "data": {
      "text/html": [
       "<table>\n",
       "    <tr>\n",
       "        <th>mean</th>\n",
       "        <th>std</th>\n",
       "    </tr>\n",
       "    <tr>\n",
       "        <td>[1.0, 31.9998097553222, 50.0239741963145, 94.9075849979093, 0.0834571428571429, 0.0749357142857143, 0.0828642857142857, 0.0829571428571429, 0.0856642857142857, 0.08265, 0.0859071428571429, 0.0862714285714286, 0.0828857142857143, 0.0848928571428571, 0.08215, 0.0853642857142857]</td>\n",
       "        <td>[1.0, 0.914811902321368, 14.998929047432, 15.2207529108662, 0.276571958382019, 0.26328758613008, 0.27567697739809, 0.275817431113631, 0.27986767563859, 0.275352460493819, 0.280226882477869, 0.280764437177634, 0.275709398920424, 0.278722191346472, 0.274593112623023, 0.279423020595611]</td>\n",
       "    </tr>\n",
       "</table>"
      ],
      "text/plain": [
       "[([1.0, 31.9998097553222, 50.0239741963145, 94.9075849979093, 0.0834571428571429, 0.0749357142857143, 0.0828642857142857, 0.0829571428571429, 0.0856642857142857, 0.08265, 0.0859071428571429, 0.0862714285714286, 0.0828857142857143, 0.0848928571428571, 0.08215, 0.0853642857142857], [1.0, 0.914811902321368, 14.998929047432, 15.2207529108662, 0.276571958382019, 0.26328758613008, 0.27567697739809, 0.275817431113631, 0.27986767563859, 0.275352460493819, 0.280226882477869, 0.280764437177634, 0.275709398920424, 0.278722191346472, 0.274593112623023, 0.279423020595611])]"
      ]
     },
     "execution_count": 45,
     "metadata": {},
     "output_type": "execute_result"
    }
   ],
   "source": [
    "%%sql\n",
    "\n",
    "SELECT * FROM sensors_mlp_model_standardization;"
   ]
  },
  {
   "cell_type": "code",
   "execution_count": 46,
   "id": "520a33ed-97fb-4448-8d64-6b841696a264",
   "metadata": {
    "execution": {
     "iopub.execute_input": "2021-10-08T03:43:35.958927Z",
     "iopub.status.busy": "2021-10-08T03:43:35.958644Z",
     "iopub.status.idle": "2021-10-08T03:43:39.928750Z",
     "shell.execute_reply": "2021-10-08T03:43:39.928107Z",
     "shell.execute_reply.started": "2021-10-08T03:43:35.958904Z"
    },
    "tags": []
   },
   "outputs": [
    {
     "name": "stdout",
     "output_type": "stream",
     "text": [
      " * postgresql://gpadmin@192.168.133.128:32000/db\n",
      "1 rows affected.\n"
     ]
    },
    {
     "data": {
      "text/html": [
       "<table>\n",
       "    <tr>\n",
       "        <th>mlp_predict</th>\n",
       "    </tr>\n",
       "    <tr>\n",
       "        <td></td>\n",
       "    </tr>\n",
       "</table>"
      ],
      "text/plain": [
       "[('',)]"
      ]
     },
     "execution_count": 46,
     "metadata": {},
     "output_type": "execute_result"
    }
   ],
   "source": [
    "%%sql\n",
    "SELECT \n",
    "    madlib.mlp_predict(\n",
    "        'sensors_mlp_model',\n",
    "        'sensors_split_test',\n",
    "        'ARRAY[\n",
    "            1,\n",
    "            temperature,\n",
    "            humidity,pm25,\n",
    "            \"month_January\",\"month_February\",\"month_March\",\n",
    "            \"month_April\",\"month_May\",\"month_June\",\n",
    "            \"month_July\",\"month_August\",\"month_September\",\n",
    "            \"month_October\",\"month_November\",\"month_December\"]',\n",
    "        'sensors_mlp_test_predict',\n",
    "        'response'\n",
    "    );"
   ]
  },
  {
   "cell_type": "code",
   "execution_count": 47,
   "id": "23af25da-7ce4-4082-9086-61fe05af56f8",
   "metadata": {
    "execution": {
     "iopub.execute_input": "2021-10-08T03:43:39.930282Z",
     "iopub.status.busy": "2021-10-08T03:43:39.930004Z",
     "iopub.status.idle": "2021-10-08T03:43:42.033821Z",
     "shell.execute_reply": "2021-10-08T03:43:42.033338Z",
     "shell.execute_reply.started": "2021-10-08T03:43:39.930253Z"
    },
    "tags": []
   },
   "outputs": [
    {
     "name": "stdout",
     "output_type": "stream",
     "text": [
      " * postgresql://gpadmin@192.168.133.128:32000/db\n",
      "Done.\n",
      "1 rows affected.\n",
      "5 rows affected.\n"
     ]
    },
    {
     "data": {
      "text/html": [
       "<table>\n",
       "    <tr>\n",
       "        <th>temperature_2</th>\n",
       "        <th>estimated_temperature_2</th>\n",
       "    </tr>\n",
       "    <tr>\n",
       "        <td>43.3934340393275</td>\n",
       "        <td>48.3204241580749</td>\n",
       "    </tr>\n",
       "    <tr>\n",
       "        <td>49.7321663797957</td>\n",
       "        <td>48.4934621436375</td>\n",
       "    </tr>\n",
       "    <tr>\n",
       "        <td>50.5813168067215</td>\n",
       "        <td>48.143796833076</td>\n",
       "    </tr>\n",
       "    <tr>\n",
       "        <td>41.163094159682</td>\n",
       "        <td>48.1279781773618</td>\n",
       "    </tr>\n",
       "    <tr>\n",
       "        <td>48.7028745951505</td>\n",
       "        <td>48.0704278050094</td>\n",
       "    </tr>\n",
       "</table>"
      ],
      "text/plain": [
       "[(43.3934340393275, 48.3204241580749),\n",
       " (49.7321663797957, 48.4934621436375),\n",
       " (50.5813168067215, 48.143796833076),\n",
       " (41.163094159682, 48.1279781773618),\n",
       " (48.7028745951505, 48.0704278050094)]"
      ]
     },
     "execution_count": 47,
     "metadata": {},
     "output_type": "execute_result"
    }
   ],
   "source": [
    "%%sql\n",
    "DROP TABLE IF EXISTS sensors_mlp_test_predict;\n",
    "\n",
    "SELECT \n",
    "    madlib.mlp_predict(\n",
    "        'sensors_mlp_model',\n",
    "        'sensors_split_test',\n",
    "        'temperature_2',\n",
    "        'sensors_mlp_test_predict',\n",
    "        'response'\n",
    "    );\n",
    "    \n",
    "SELECT * FROM sensors_mlp_test_predict LIMIT 5;"
   ]
  },
  {
   "cell_type": "code",
   "execution_count": 48,
   "id": "93e8f351-8201-4d56-b13e-0366f6990df5",
   "metadata": {
    "execution": {
     "iopub.execute_input": "2021-10-08T03:43:42.035042Z",
     "iopub.status.busy": "2021-10-08T03:43:42.034863Z",
     "iopub.status.idle": "2021-10-08T03:43:42.337024Z",
     "shell.execute_reply": "2021-10-08T03:43:42.336537Z",
     "shell.execute_reply.started": "2021-10-08T03:43:42.035021Z"
    },
    "tags": []
   },
   "outputs": [
    {
     "name": "stdout",
     "output_type": "stream",
     "text": [
      " * postgresql://gpadmin@192.168.133.128:32000/db\n",
      "Done.\n",
      "1 rows affected.\n",
      "1 rows affected.\n"
     ]
    },
    {
     "data": {
      "text/html": [
       "<table>\n",
       "    <tr>\n",
       "        <th>mean_squared_error</th>\n",
       "    </tr>\n",
       "    <tr>\n",
       "        <td>11.183961249727</td>\n",
       "    </tr>\n",
       "</table>"
      ],
      "text/plain": [
       "[(11.183961249727,)]"
      ]
     },
     "execution_count": 48,
     "metadata": {},
     "output_type": "execute_result"
    }
   ],
   "source": [
    "%%sql \n",
    "DROP TABLE IF EXISTS sensors_mlp_test_predict_mse;\n",
    "\n",
    "SELECT madlib.mean_squared_error(\n",
    "    'sensors_mlp_test_predict',      -- table_in\n",
    "    'sensors_mlp_test_predict_mse',  -- table_out\n",
    "    'estimated_temperature_2',  -- prediction\n",
    "    'temperature_2'  -- y_test\n",
    ");\n",
    "\n",
    "SELECT * FROM sensors_mlp_test_predict_mse;"
   ]
  },
  {
   "cell_type": "code",
   "execution_count": 49,
   "id": "44debf37-f0b1-43ef-b4a5-94e771ddcc8a",
   "metadata": {
    "execution": {
     "iopub.execute_input": "2021-10-08T03:43:42.338201Z",
     "iopub.status.busy": "2021-10-08T03:43:42.337952Z",
     "iopub.status.idle": "2021-10-08T03:43:42.349412Z",
     "shell.execute_reply": "2021-10-08T03:43:42.348846Z",
     "shell.execute_reply.started": "2021-10-08T03:43:42.338180Z"
    },
    "tags": []
   },
   "outputs": [
    {
     "name": "stdout",
     "output_type": "stream",
     "text": [
      " * postgresql://gpadmin@192.168.133.128:32000/db\n",
      "200 rows affected.\n"
     ]
    }
   ],
   "source": [
    "pred = %sql SELECT temperature_2 as y_test, estimated_temperature_2 as prediction FROM sensors_mlp_test_predict LIMIT 200;\n",
    "pred=pred.DataFrame()"
   ]
  },
  {
   "cell_type": "code",
   "execution_count": 50,
   "id": "58f2fc8b-240d-41d6-97f3-df15459a4c63",
   "metadata": {
    "execution": {
     "iopub.execute_input": "2021-10-08T03:43:42.350635Z",
     "iopub.status.busy": "2021-10-08T03:43:42.350395Z",
     "iopub.status.idle": "2021-10-08T03:43:42.703375Z",
     "shell.execute_reply": "2021-10-08T03:43:42.702551Z",
     "shell.execute_reply.started": "2021-10-08T03:43:42.350614Z"
    },
    "tags": []
   },
   "outputs": [
    {
     "data": {
      "image/png": "[encoded data removed]",
      "text/plain": [
       "<Figure size 720x360 with 1 Axes>"
      ]
     },
     "metadata": {
      "needs_background": "light"
     },
     "output_type": "display_data"
    }
   ],
   "source": [
    "sns.lmplot(x='prediction',y='y_test',data=pred,height=5,aspect=2)\n",
    "plt.title(\"MLP prediction , y_test scatterplot \") \n",
    "plt.ylim(30,70);"
   ]
  }
 ],
 "metadata": {
  "kernelspec": {
   "display_name": "Python 3",
   "language": "python",
   "name": "python3"
  },
  "language_info": {
   "codemirror_mode": {
    "name": "ipython",
    "version": 3
   },
   "file_extension": ".py",
   "mimetype": "text/x-python",
   "name": "python",
   "nbconvert_exporter": "python",
   "pygments_lexer": "ipython3",
   "version": "3.6.13"
  }
 },
 "nbformat": 4,
 "nbformat_minor": 5
}
