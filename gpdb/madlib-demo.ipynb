{
 "cells": [
  {
   "cell_type": "markdown",
   "id": "81dce510-c17f-4e05-9d70-40b049404558",
   "metadata": {},
   "source": [
    "## MADlib Greenplum Demo\n",
    "---"
   ]
  },
  {
   "cell_type": "markdown",
   "id": "222f598c-5da6-4931-bd9e-9af36d1dc84d",
   "metadata": {},
   "source": [
    "### Import neccessary Data Science libraries"
   ]
  },
  {
   "cell_type": "code",
   "execution_count": 1,
   "id": "1fff5feb-54f5-4025-9dae-0ed5925c9fbe",
   "metadata": {},
   "outputs": [],
   "source": [
    "import pandas as pd\n",
    "import numpy as np\n",
    "import seaborn as sns\n",
    "import matplotlib.pyplot as plt\n",
    "pd.set_option('display.max_columns', 200)"
   ]
  },
  {
   "cell_type": "markdown",
   "id": "09157fb2-2108-4d53-9353-aa3068b76918",
   "metadata": {},
   "source": [
    "Connect to Greenplum Database"
   ]
  },
  {
   "cell_type": "code",
   "execution_count": 2,
   "id": "45035b3a-0cc9-486f-aa0c-62908680f7e2",
   "metadata": {},
   "outputs": [],
   "source": [
    "%load_ext sql"
   ]
  },
  {
   "cell_type": "code",
   "execution_count": 3,
   "id": "a57ee55c-91f9-4427-b7f7-180b2c5d4aae",
   "metadata": {},
   "outputs": [
    {
     "name": "stdout",
     "output_type": "stream",
     "text": [
      "|-------------|------------------------------------------------------|--------------|------------------------------|\n",
      "|  NAMESPACE  |                         NAME                         | TARGET PORT  |             URL              |\n",
      "|-------------|------------------------------------------------------|--------------|------------------------------|\n",
      "| default     | agent                                                | No node port |\n",
      "| default     | greenplum                                            | psql/5432    | http://192.168.133.128:32000 |\n",
      "| default     | greenplum-validating-webhook-service-9d44d9fcf-t26tq | No node port |\n",
      "| default     | kubernetes                                           | No node port |\n",
      "| default     | my-greenplum-pl                                      | No node port |\n",
      "| default     | my-greenplum-pxf                                     | No node port |\n",
      "| kube-system | kube-dns                                             | No node port |\n",
      "|-------------|------------------------------------------------------|--------------|------------------------------|\n"
     ]
    }
   ],
   "source": [
    "!minikube service list"
   ]
  },
  {
   "cell_type": "code",
   "execution_count": 4,
   "id": "f898f542-6fb9-4220-8ca2-a9ba6b452563",
   "metadata": {},
   "outputs": [
    {
     "name": "stderr",
     "output_type": "stream",
     "text": [
      "/usr/local/anaconda3/envs/madlib/lib/python3.6/site-packages/psycopg2/__init__.py:144: UserWarning: The psycopg2 wheel package will be renamed from release 2.8; in order to keep installing from binary please use \"pip install psycopg2-binary\" instead. For details see: <http://initd.org/psycopg/docs/install.html#binary-install-from-pypi>.\n",
      "  \"\"\")\n"
     ]
    }
   ],
   "source": [
    "%sql postgresql://gpadmin@192.168.133.128:32000/db"
   ]
  },
  {
   "cell_type": "markdown",
   "id": "dbde5ef6-811b-471d-9021-416f311d50ae",
   "metadata": {},
   "source": [
    "### Check Database Data"
   ]
  },
  {
   "cell_type": "code",
   "execution_count": 5,
   "id": "6cdd0301-7bb6-47dc-a688-56ba3df9920d",
   "metadata": {},
   "outputs": [
    {
     "name": "stdout",
     "output_type": "stream",
     "text": [
      " * postgresql://gpadmin@192.168.133.128:32000/db\n",
      "1 rows affected.\n"
     ]
    },
    {
     "data": {
      "text/html": [
       "<table>\n",
       "    <tr>\n",
       "        <th>num_sample</th>\n",
       "    </tr>\n",
       "    <tr>\n",
       "        <td>200000</td>\n",
       "    </tr>\n",
       "</table>"
      ],
      "text/plain": [
       "[(200000,)]"
      ]
     },
     "execution_count": 5,
     "metadata": {},
     "output_type": "execute_result"
    }
   ],
   "source": [
    "%%sql\n",
    "\n",
    "\n",
    "SELECT COUNT(*) AS num_sample FROM sensors;"
   ]
  },
  {
   "cell_type": "code",
   "execution_count": 6,
   "id": "f4efe7c1-ee80-4e96-85be-0deb6cf1d3e0",
   "metadata": {},
   "outputs": [
    {
     "name": "stdout",
     "output_type": "stream",
     "text": [
      " * postgresql://gpadmin@192.168.133.128:32000/db\n",
      "10 rows affected.\n"
     ]
    },
    {
     "data": {
      "text/html": [
       "<table>\n",
       "    <tr>\n",
       "        <th>timestamp</th>\n",
       "        <th>temperature</th>\n",
       "        <th>humidity</th>\n",
       "        <th>pm25</th>\n",
       "    </tr>\n",
       "    <tr>\n",
       "        <td>1997-03-22 00:00:00</td>\n",
       "        <td>30.8047161203313</td>\n",
       "        <td>58.8073039521183</td>\n",
       "        <td>70.1593314073412</td>\n",
       "    </tr>\n",
       "    <tr>\n",
       "        <td>1997-03-22 04:00:00</td>\n",
       "        <td>31.9898757143406</td>\n",
       "        <td>35.4666174690476</td>\n",
       "        <td>101.108855061167</td>\n",
       "    </tr>\n",
       "    <tr>\n",
       "        <td>1997-03-22 12:00:00</td>\n",
       "        <td>32.8135066778584</td>\n",
       "        <td>43.3584196607147</td>\n",
       "        <td>86.0795101340134</td>\n",
       "    </tr>\n",
       "    <tr>\n",
       "        <td>1997-03-22 20:00:00</td>\n",
       "        <td>31.6154274170955</td>\n",
       "        <td>65.4569391835045</td>\n",
       "        <td>81.4311121598402</td>\n",
       "    </tr>\n",
       "    <tr>\n",
       "        <td>1997-03-22 21:00:00</td>\n",
       "        <td>31.8669137997911</td>\n",
       "        <td>42.8483166734665</td>\n",
       "        <td>97.4303197662544</td>\n",
       "    </tr>\n",
       "    <tr>\n",
       "        <td>1997-03-22 22:00:00</td>\n",
       "        <td>30.8409907202386</td>\n",
       "        <td>33.8736024988599</td>\n",
       "        <td>83.804730037737</td>\n",
       "    </tr>\n",
       "    <tr>\n",
       "        <td>1997-03-23 04:00:00</td>\n",
       "        <td>31.1052825228949</td>\n",
       "        <td>42.9876265040152</td>\n",
       "        <td>41.2230321573515</td>\n",
       "    </tr>\n",
       "    <tr>\n",
       "        <td>1997-03-23 06:00:00</td>\n",
       "        <td>32.0551770239945</td>\n",
       "        <td>48.8782973688565</td>\n",
       "        <td>99.5943731700299</td>\n",
       "    </tr>\n",
       "    <tr>\n",
       "        <td>1997-03-23 08:00:00</td>\n",
       "        <td>31.826260439098</td>\n",
       "        <td>22.2934670289758</td>\n",
       "        <td>77.4061032457977</td>\n",
       "    </tr>\n",
       "    <tr>\n",
       "        <td>1997-03-23 12:00:00</td>\n",
       "        <td>30.2588101202541</td>\n",
       "        <td>82.7464562436005</td>\n",
       "        <td>100.19636916908</td>\n",
       "    </tr>\n",
       "</table>"
      ],
      "text/plain": [
       "[(datetime.datetime(1997, 3, 22, 0, 0), 30.8047161203313, 58.8073039521183, 70.1593314073412),\n",
       " (datetime.datetime(1997, 3, 22, 4, 0), 31.9898757143406, 35.4666174690476, 101.108855061167),\n",
       " (datetime.datetime(1997, 3, 22, 12, 0), 32.8135066778584, 43.3584196607147, 86.0795101340134),\n",
       " (datetime.datetime(1997, 3, 22, 20, 0), 31.6154274170955, 65.4569391835045, 81.4311121598402),\n",
       " (datetime.datetime(1997, 3, 22, 21, 0), 31.8669137997911, 42.8483166734665, 97.4303197662544),\n",
       " (datetime.datetime(1997, 3, 22, 22, 0), 30.8409907202386, 33.8736024988599, 83.804730037737),\n",
       " (datetime.datetime(1997, 3, 23, 4, 0), 31.1052825228949, 42.9876265040152, 41.2230321573515),\n",
       " (datetime.datetime(1997, 3, 23, 6, 0), 32.0551770239945, 48.8782973688565, 99.5943731700299),\n",
       " (datetime.datetime(1997, 3, 23, 8, 0), 31.826260439098, 22.2934670289758, 77.4061032457977),\n",
       " (datetime.datetime(1997, 3, 23, 12, 0), 30.2588101202541, 82.7464562436005, 100.19636916908)]"
      ]
     },
     "execution_count": 6,
     "metadata": {},
     "output_type": "execute_result"
    }
   ],
   "source": [
    "%%sql\n",
    "\n",
    "SELECT * FROM sensors LIMIT 10;"
   ]
  },
  {
   "cell_type": "code",
   "execution_count": 7,
   "id": "9bb8da4d-fecb-42a7-a95d-d940f34ac9e6",
   "metadata": {},
   "outputs": [
    {
     "name": "stdout",
     "output_type": "stream",
     "text": [
      " * postgresql://gpadmin@192.168.133.128:32000/db\n",
      "1000 rows affected.\n"
     ]
    }
   ],
   "source": [
    "sensors = %sql SELECT * FROM sensors LIMIT 1000;\n",
    "sensors = sensors.DataFrame()"
   ]
  },
  {
   "cell_type": "code",
   "execution_count": 8,
   "id": "254f263a-64c7-4966-8896-109281f26540",
   "metadata": {},
   "outputs": [
    {
     "name": "stdout",
     "output_type": "stream",
     "text": [
      "<class 'pandas.core.frame.DataFrame'>\n",
      "RangeIndex: 1000 entries, 0 to 999\n",
      "Data columns (total 4 columns):\n",
      " #   Column       Non-Null Count  Dtype         \n",
      "---  ------       --------------  -----         \n",
      " 0   timestamp    1000 non-null   datetime64[ns]\n",
      " 1   temperature  1000 non-null   float64       \n",
      " 2   humidity     1000 non-null   float64       \n",
      " 3   pm25         1000 non-null   float64       \n",
      "dtypes: datetime64[ns](1), float64(3)\n",
      "memory usage: 31.4 KB\n"
     ]
    }
   ],
   "source": [
    "sensors.info()"
   ]
  },
  {
   "cell_type": "code",
   "execution_count": 9,
   "id": "142926cb-b255-4e76-a28b-5d38b8b6e9c1",
   "metadata": {},
   "outputs": [
    {
     "data": {
      "text/html": [
       "<div>\n",
       "<style scoped>\n",
       "    .dataframe tbody tr th:only-of-type {\n",
       "        vertical-align: middle;\n",
       "    }\n",
       "\n",
       "    .dataframe tbody tr th {\n",
       "        vertical-align: top;\n",
       "    }\n",
       "\n",
       "    .dataframe thead th {\n",
       "        text-align: right;\n",
       "    }\n",
       "</style>\n",
       "<table border=\"1\" class=\"dataframe\">\n",
       "  <thead>\n",
       "    <tr style=\"text-align: right;\">\n",
       "      <th></th>\n",
       "      <th>temperature</th>\n",
       "      <th>humidity</th>\n",
       "      <th>pm25</th>\n",
       "    </tr>\n",
       "  </thead>\n",
       "  <tbody>\n",
       "    <tr>\n",
       "      <th>count</th>\n",
       "      <td>1000.000000</td>\n",
       "      <td>1000.000000</td>\n",
       "      <td>1000.000000</td>\n",
       "    </tr>\n",
       "    <tr>\n",
       "      <th>mean</th>\n",
       "      <td>31.497759</td>\n",
       "      <td>50.327933</td>\n",
       "      <td>89.945350</td>\n",
       "    </tr>\n",
       "    <tr>\n",
       "      <th>std</th>\n",
       "      <td>0.858299</td>\n",
       "      <td>15.297907</td>\n",
       "      <td>15.023649</td>\n",
       "    </tr>\n",
       "    <tr>\n",
       "      <th>min</th>\n",
       "      <td>30.008730</td>\n",
       "      <td>2.858267</td>\n",
       "      <td>38.065512</td>\n",
       "    </tr>\n",
       "    <tr>\n",
       "      <th>25%</th>\n",
       "      <td>30.781889</td>\n",
       "      <td>40.166314</td>\n",
       "      <td>80.297481</td>\n",
       "    </tr>\n",
       "    <tr>\n",
       "      <th>50%</th>\n",
       "      <td>31.498861</td>\n",
       "      <td>50.170887</td>\n",
       "      <td>90.070164</td>\n",
       "    </tr>\n",
       "    <tr>\n",
       "      <th>75%</th>\n",
       "      <td>32.215164</td>\n",
       "      <td>60.082615</td>\n",
       "      <td>100.166234</td>\n",
       "    </tr>\n",
       "    <tr>\n",
       "      <th>max</th>\n",
       "      <td>32.999716</td>\n",
       "      <td>102.371562</td>\n",
       "      <td>138.014441</td>\n",
       "    </tr>\n",
       "  </tbody>\n",
       "</table>\n",
       "</div>"
      ],
      "text/plain": [
       "       temperature     humidity         pm25\n",
       "count  1000.000000  1000.000000  1000.000000\n",
       "mean     31.497759    50.327933    89.945350\n",
       "std       0.858299    15.297907    15.023649\n",
       "min      30.008730     2.858267    38.065512\n",
       "25%      30.781889    40.166314    80.297481\n",
       "50%      31.498861    50.170887    90.070164\n",
       "75%      32.215164    60.082615   100.166234\n",
       "max      32.999716   102.371562   138.014441"
      ]
     },
     "execution_count": 9,
     "metadata": {},
     "output_type": "execute_result"
    }
   ],
   "source": [
    "sensors.describe()"
   ]
  },
  {
   "cell_type": "code",
   "execution_count": 10,
   "id": "5045f55d-2674-4817-8ae5-1693ce942455",
   "metadata": {},
   "outputs": [
    {
     "name": "stderr",
     "output_type": "stream",
     "text": [
      "/usr/local/anaconda3/envs/madlib/lib/python3.6/site-packages/seaborn/distributions.py:2619: FutureWarning: `distplot` is a deprecated function and will be removed in a future version. Please adapt your code to use either `displot` (a figure-level function with similar flexibility) or `histplot` (an axes-level function for histograms).\n",
      "  warnings.warn(msg, FutureWarning)\n"
     ]
    },
    {
     "data": {
      "image/png": "[encoded data removed]",
      "text/plain": [
       "<Figure size 720x360 with 1 Axes>"
      ]
     },
     "metadata": {
      "needs_background": "light"
     },
     "output_type": "display_data"
    }
   ],
   "source": [
    "plt.figure(figsize=(10,5))\n",
    "sns.distplot(sensors['humidity'],bins=60);\n",
    "plt.title(\"Humidity Distribution\")\n",
    "plt.axvline(x=sensors['humidity'].mean(),color='red',ls='--',lw=2)\n",
    "plt.text(sensors['humidity'].mean()+5,0.034, \"mean\", fontsize=10,c='red');"
   ]
  },
  {
   "cell_type": "markdown",
   "id": "18a4d782-75a9-4cdf-8fa2-33b7c366753d",
   "metadata": {},
   "source": [
    "### Preprocess Data"
   ]
  },
  {
   "cell_type": "markdown",
   "id": "68a945a0-370a-446e-b6cc-47aead7ab4da",
   "metadata": {},
   "source": [
    "Encode Month\n",
    "\n",
    "```sql\n",
    "CREATE FUNCTION parse_month(time_stamp timestamp)\n",
    "  RETURNS char\n",
    "AS $$\n",
    "  from datetime import datetime\n",
    "  date_obj=datetime.strptime(time_stamp,\"%Y-%m-%d %H:%M:%S\")\n",
    "  return date_obj.strftime(\"%B\")\n",
    "$$ LANGUAGE plpythonu;\n",
    "```"
   ]
  },
  {
   "cell_type": "code",
   "execution_count": 15,
   "id": "3dff644a-ffc2-40ef-acc9-62043de55fa6",
   "metadata": {},
   "outputs": [
    {
     "name": "stdout",
     "output_type": "stream",
     "text": [
      " * postgresql://gpadmin@192.168.133.128:32000/db\n",
      "3 rows affected.\n"
     ]
    },
    {
     "data": {
      "text/html": [
       "<table>\n",
       "    <tr>\n",
       "        <th>timestamp</th>\n",
       "        <th>temperature</th>\n",
       "        <th>humidity</th>\n",
       "        <th>pm25</th>\n",
       "        <th>parse_month</th>\n",
       "    </tr>\n",
       "    <tr>\n",
       "        <td>2013-07-17 01:00:00</td>\n",
       "        <td>31.1730905372319</td>\n",
       "        <td>71.9060682541406</td>\n",
       "        <td>163.339759121527</td>\n",
       "        <td>July</td>\n",
       "    </tr>\n",
       "    <tr>\n",
       "        <td>2017-01-08 01:00:00</td>\n",
       "        <td>31.4313348104384</td>\n",
       "        <td>42.9120495893807</td>\n",
       "        <td>160.503965867301</td>\n",
       "        <td>January</td>\n",
       "    </tr>\n",
       "    <tr>\n",
       "        <td>1999-05-21 05:00:00</td>\n",
       "        <td>32.5355865309857</td>\n",
       "        <td>88.4879964462528</td>\n",
       "        <td>168.967536334876</td>\n",
       "        <td>May</td>\n",
       "    </tr>\n",
       "</table>"
      ],
      "text/plain": [
       "[(datetime.datetime(2013, 7, 17, 1, 0), 31.1730905372319, 71.9060682541406, 163.339759121527, 'July'),\n",
       " (datetime.datetime(2017, 1, 8, 1, 0), 31.4313348104384, 42.9120495893807, 160.503965867301, 'January'),\n",
       " (datetime.datetime(1999, 5, 21, 5, 0), 32.5355865309857, 88.4879964462528, 168.967536334876, 'May')]"
      ]
     },
     "execution_count": 15,
     "metadata": {},
     "output_type": "execute_result"
    }
   ],
   "source": [
    "%%sql\n",
    "SELECT *,parse_month(timestamp) FROM sensors WHERE pm25 > 160;"
   ]
  },
  {
   "cell_type": "markdown",
   "id": "99ef43f9-8e4d-4fa6-a2d9-1fed601d8258",
   "metadata": {},
   "source": [
    "Create Month Data"
   ]
  },
  {
   "cell_type": "code",
   "execution_count": 18,
   "id": "a7ca60fc-a48e-4248-93fc-d45ca18256fb",
   "metadata": {},
   "outputs": [
    {
     "name": "stdout",
     "output_type": "stream",
     "text": [
      " * postgresql://gpadmin@192.168.133.128:32000/db\n",
      "Done.\n",
      "200000 rows affected.\n",
      "10 rows affected.\n"
     ]
    },
    {
     "data": {
      "text/html": [
       "<table>\n",
       "    <tr>\n",
       "        <th>timestamp</th>\n",
       "        <th>temperature</th>\n",
       "        <th>humidity</th>\n",
       "        <th>pm25</th>\n",
       "        <th>month</th>\n",
       "    </tr>\n",
       "    <tr>\n",
       "        <td>1997-03-22 09:00:00</td>\n",
       "        <td>32.7567370123648</td>\n",
       "        <td>53.7069179335359</td>\n",
       "        <td>89.6222118646893</td>\n",
       "        <td>March</td>\n",
       "    </tr>\n",
       "    <tr>\n",
       "        <td>1997-03-22 11:00:00</td>\n",
       "        <td>30.7539767961126</td>\n",
       "        <td>47.1209740779875</td>\n",
       "        <td>75.7699431517518</td>\n",
       "        <td>March</td>\n",
       "    </tr>\n",
       "    <tr>\n",
       "        <td>1997-03-22 14:00:00</td>\n",
       "        <td>30.0627184404573</td>\n",
       "        <td>41.2363584988118</td>\n",
       "        <td>98.6599475653585</td>\n",
       "        <td>March</td>\n",
       "    </tr>\n",
       "    <tr>\n",
       "        <td>1997-03-22 19:00:00</td>\n",
       "        <td>32.4413786387966</td>\n",
       "        <td>44.6972335389847</td>\n",
       "        <td>92.7247378285515</td>\n",
       "        <td>March</td>\n",
       "    </tr>\n",
       "    <tr>\n",
       "        <td>1997-03-23 03:00:00</td>\n",
       "        <td>31.7391745565525</td>\n",
       "        <td>35.107108544389</td>\n",
       "        <td>84.6966582369664</td>\n",
       "        <td>March</td>\n",
       "    </tr>\n",
       "    <tr>\n",
       "        <td>1997-03-23 11:00:00</td>\n",
       "        <td>32.3902589709109</td>\n",
       "        <td>60.765280156387</td>\n",
       "        <td>109.233098624753</td>\n",
       "        <td>March</td>\n",
       "    </tr>\n",
       "    <tr>\n",
       "        <td>1997-03-23 15:00:00</td>\n",
       "        <td>31.6892189141597</td>\n",
       "        <td>41.098272445536</td>\n",
       "        <td>105.142356538178</td>\n",
       "        <td>March</td>\n",
       "    </tr>\n",
       "    <tr>\n",
       "        <td>1997-03-24 08:00:00</td>\n",
       "        <td>30.8341072499016</td>\n",
       "        <td>65.4908844002081</td>\n",
       "        <td>89.9127076823443</td>\n",
       "        <td>March</td>\n",
       "    </tr>\n",
       "    <tr>\n",
       "        <td>1997-03-24 10:00:00</td>\n",
       "        <td>31.6266345401123</td>\n",
       "        <td>42.6576511328954</td>\n",
       "        <td>85.1074155187184</td>\n",
       "        <td>March</td>\n",
       "    </tr>\n",
       "    <tr>\n",
       "        <td>1997-03-24 18:00:00</td>\n",
       "        <td>32.4385127874761</td>\n",
       "        <td>41.6122454978864</td>\n",
       "        <td>77.110638288745</td>\n",
       "        <td>March</td>\n",
       "    </tr>\n",
       "</table>"
      ],
      "text/plain": [
       "[(datetime.datetime(1997, 3, 22, 9, 0), 32.7567370123648, 53.7069179335359, 89.6222118646893, 'March'),\n",
       " (datetime.datetime(1997, 3, 22, 11, 0), 30.7539767961126, 47.1209740779875, 75.7699431517518, 'March'),\n",
       " (datetime.datetime(1997, 3, 22, 14, 0), 30.0627184404573, 41.2363584988118, 98.6599475653585, 'March'),\n",
       " (datetime.datetime(1997, 3, 22, 19, 0), 32.4413786387966, 44.6972335389847, 92.7247378285515, 'March'),\n",
       " (datetime.datetime(1997, 3, 23, 3, 0), 31.7391745565525, 35.107108544389, 84.6966582369664, 'March'),\n",
       " (datetime.datetime(1997, 3, 23, 11, 0), 32.3902589709109, 60.765280156387, 109.233098624753, 'March'),\n",
       " (datetime.datetime(1997, 3, 23, 15, 0), 31.6892189141597, 41.098272445536, 105.142356538178, 'March'),\n",
       " (datetime.datetime(1997, 3, 24, 8, 0), 30.8341072499016, 65.4908844002081, 89.9127076823443, 'March'),\n",
       " (datetime.datetime(1997, 3, 24, 10, 0), 31.6266345401123, 42.6576511328954, 85.1074155187184, 'March'),\n",
       " (datetime.datetime(1997, 3, 24, 18, 0), 32.4385127874761, 41.6122454978864, 77.110638288745, 'March')]"
      ]
     },
     "execution_count": 18,
     "metadata": {},
     "output_type": "execute_result"
    }
   ],
   "source": [
    "%%sql\n",
    "DROP TABLE IF EXISTS sensors_pre;\n",
    "CREATE TABLE sensors_pre\n",
    "AS \n",
    "SELECT\n",
    "    timestamp,\n",
    "    temperature,\n",
    "    humidity,\n",
    "    pm25,\n",
    "    parse_month(timestamp) AS month           --- Month data\n",
    "FROM sensors;\n",
    "\n",
    "SELECT * FROM sensors_pre LIMIT 10; "
   ]
  },
  {
   "cell_type": "code",
   "execution_count": 24,
   "id": "22cf1b72-22a2-4e30-a810-882c41eec482",
   "metadata": {},
   "outputs": [
    {
     "name": "stdout",
     "output_type": "stream",
     "text": [
      " * postgresql://gpadmin@192.168.133.128:32000/db\n",
      "12 rows affected.\n"
     ]
    },
    {
     "data": {
      "text/html": [
       "<table>\n",
       "    <tr>\n",
       "        <th>month</th>\n",
       "        <th>count</th>\n",
       "    </tr>\n",
       "    <tr>\n",
       "        <td>February</td>\n",
       "        <td>14904</td>\n",
       "    </tr>\n",
       "    <tr>\n",
       "        <td>April</td>\n",
       "        <td>16560</td>\n",
       "    </tr>\n",
       "    <tr>\n",
       "        <td>September</td>\n",
       "        <td>16560</td>\n",
       "    </tr>\n",
       "    <tr>\n",
       "        <td>November</td>\n",
       "        <td>16560</td>\n",
       "    </tr>\n",
       "    <tr>\n",
       "        <td>June</td>\n",
       "        <td>16560</td>\n",
       "    </tr>\n",
       "    <tr>\n",
       "        <td>March</td>\n",
       "        <td>16608</td>\n",
       "    </tr>\n",
       "    <tr>\n",
       "        <td>January</td>\n",
       "        <td>16688</td>\n",
       "    </tr>\n",
       "    <tr>\n",
       "        <td>May</td>\n",
       "        <td>17112</td>\n",
       "    </tr>\n",
       "    <tr>\n",
       "        <td>August</td>\n",
       "        <td>17112</td>\n",
       "    </tr>\n",
       "    <tr>\n",
       "        <td>December</td>\n",
       "        <td>17112</td>\n",
       "    </tr>\n",
       "    <tr>\n",
       "        <td>October</td>\n",
       "        <td>17112</td>\n",
       "    </tr>\n",
       "    <tr>\n",
       "        <td>July</td>\n",
       "        <td>17112</td>\n",
       "    </tr>\n",
       "</table>"
      ],
      "text/plain": [
       "[('February', 14904),\n",
       " ('April', 16560),\n",
       " ('September', 16560),\n",
       " ('November', 16560),\n",
       " ('June', 16560),\n",
       " ('March', 16608),\n",
       " ('January', 16688),\n",
       " ('May', 17112),\n",
       " ('August', 17112),\n",
       " ('December', 17112),\n",
       " ('October', 17112),\n",
       " ('July', 17112)]"
      ]
     },
     "execution_count": 24,
     "metadata": {},
     "output_type": "execute_result"
    }
   ],
   "source": [
    "%%sql\n",
    "SELECT parse_month(timestamp) as month ,COUNT(*) as count  \n",
    "    FROM sensors  \n",
    "GROUP BY month ORDER BY count;"
   ]
  },
  {
   "cell_type": "markdown",
   "id": "48ede8be-903e-4373-a544-ef6b8ada8adb",
   "metadata": {},
   "source": [
    "### Encode categorical values"
   ]
  },
  {
   "cell_type": "code",
   "execution_count": 26,
   "id": "58956098-2c3d-4c0a-9961-fd80c17adb58",
   "metadata": {},
   "outputs": [
    {
     "name": "stdout",
     "output_type": "stream",
     "text": [
      " * postgresql://gpadmin@192.168.133.128:32000/db\n",
      "Done.\n",
      "1 rows affected.\n"
     ]
    },
    {
     "data": {
      "text/html": [
       "<table>\n",
       "    <tr>\n",
       "        <th>encode_categorical_variables</th>\n",
       "    </tr>\n",
       "    <tr>\n",
       "        <td></td>\n",
       "    </tr>\n",
       "</table>"
      ],
      "text/plain": [
       "[('',)]"
      ]
     },
     "execution_count": 26,
     "metadata": {},
     "output_type": "execute_result"
    }
   ],
   "source": [
    "%%sql\n",
    "DROP TABLE IF EXISTS sensors_encoded;\n",
    "SELECT\n",
    "madlib.encode_categorical_variables (\n",
    "    'sensors_pre',\n",
    "    'sensors_encoded',\n",
    "    'month'\n",
    ");"
   ]
  },
  {
   "cell_type": "code",
   "execution_count": null,
   "id": "e7f63fb9-9fd2-400b-83e9-a5abb642fb82",
   "metadata": {},
   "outputs": [],
   "source": [
    "\n"
   ]
  }
 ],
 "metadata": {
  "kernelspec": {
   "display_name": "Python 3",
   "language": "python",
   "name": "python3"
  },
  "language_info": {
   "codemirror_mode": {
    "name": "ipython",
    "version": 3
   },
   "file_extension": ".py",
   "mimetype": "text/x-python",
   "name": "python",
   "nbconvert_exporter": "python",
   "pygments_lexer": "ipython3",
   "version": "3.6.13"
  }
 },
 "nbformat": 4,
 "nbformat_minor": 5
}
