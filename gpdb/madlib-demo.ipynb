{
 "cells": [
  {
   "cell_type": "markdown",
   "id": "81dce510-c17f-4e05-9d70-40b049404558",
   "metadata": {},
   "source": [
    "## MADlib Greenplum Demo\n",
    "---"
   ]
  },
  {
   "cell_type": "markdown",
   "id": "222f598c-5da6-4931-bd9e-9af36d1dc84d",
   "metadata": {},
   "source": [
    "### Import neccessary Data Science libraries"
   ]
  },
  {
   "cell_type": "code",
   "execution_count": 1,
   "id": "1fff5feb-54f5-4025-9dae-0ed5925c9fbe",
   "metadata": {
    "execution": {
     "iopub.execute_input": "2021-10-05T13:54:30.755999Z",
     "iopub.status.busy": "2021-10-05T13:54:30.755744Z",
     "iopub.status.idle": "2021-10-05T13:54:31.637570Z",
     "shell.execute_reply": "2021-10-05T13:54:31.637043Z",
     "shell.execute_reply.started": "2021-10-05T13:54:30.755971Z"
    },
    "tags": []
   },
   "outputs": [],
   "source": [
    "import pandas as pd\n",
    "import numpy as np\n",
    "import seaborn as sns\n",
    "import matplotlib.pyplot as plt\n",
    "pd.set_option('display.max_columns', 200)"
   ]
  },
  {
   "cell_type": "markdown",
   "id": "09157fb2-2108-4d53-9353-aa3068b76918",
   "metadata": {},
   "source": [
    "Connect to Greenplum Database"
   ]
  },
  {
   "cell_type": "code",
   "execution_count": 2,
   "id": "45035b3a-0cc9-486f-aa0c-62908680f7e2",
   "metadata": {
    "execution": {
     "iopub.execute_input": "2021-10-05T13:54:31.638880Z",
     "iopub.status.busy": "2021-10-05T13:54:31.638606Z",
     "iopub.status.idle": "2021-10-05T13:54:31.805959Z",
     "shell.execute_reply": "2021-10-05T13:54:31.805266Z",
     "shell.execute_reply.started": "2021-10-05T13:54:31.638858Z"
    },
    "tags": []
   },
   "outputs": [],
   "source": [
    "%load_ext sql"
   ]
  },
  {
   "cell_type": "code",
   "execution_count": 3,
   "id": "a57ee55c-91f9-4427-b7f7-180b2c5d4aae",
   "metadata": {
    "execution": {
     "iopub.execute_input": "2021-10-05T13:54:31.807667Z",
     "iopub.status.busy": "2021-10-05T13:54:31.807504Z",
     "iopub.status.idle": "2021-10-05T13:54:33.638372Z",
     "shell.execute_reply": "2021-10-05T13:54:33.637718Z",
     "shell.execute_reply.started": "2021-10-05T13:54:31.807649Z"
    },
    "tags": []
   },
   "outputs": [
    {
     "name": "stdout",
     "output_type": "stream",
     "text": [
      "|-------------|------------------------------------------------------|--------------|------------------------------|\n",
      "|  NAMESPACE  |                         NAME                         | TARGET PORT  |             URL              |\n",
      "|-------------|------------------------------------------------------|--------------|------------------------------|\n",
      "| default     | agent                                                | No node port |\n",
      "| default     | greenplum                                            | psql/5432    | http://192.168.133.128:32000 |\n",
      "| default     | greenplum-validating-webhook-service-9d44d9fcf-t26tq | No node port |\n",
      "| default     | kubernetes                                           | No node port |\n",
      "| default     | my-greenplum-pl                                      | No node port |\n",
      "| default     | my-greenplum-pxf                                     | No node port |\n",
      "| kube-system | kube-dns                                             | No node port |\n",
      "|-------------|------------------------------------------------------|--------------|------------------------------|\n"
     ]
    }
   ],
   "source": [
    "!minikube service list"
   ]
  },
  {
   "cell_type": "code",
   "execution_count": 4,
   "id": "f898f542-6fb9-4220-8ca2-a9ba6b452563",
   "metadata": {
    "execution": {
     "iopub.execute_input": "2021-10-05T13:54:33.640008Z",
     "iopub.status.busy": "2021-10-05T13:54:33.639809Z",
     "iopub.status.idle": "2021-10-05T13:54:33.784426Z",
     "shell.execute_reply": "2021-10-05T13:54:33.783780Z",
     "shell.execute_reply.started": "2021-10-05T13:54:33.639987Z"
    },
    "tags": []
   },
   "outputs": [
    {
     "name": "stderr",
     "output_type": "stream",
     "text": [
      "/usr/local/anaconda3/envs/madlib/lib/python3.6/site-packages/psycopg2/__init__.py:144: UserWarning: The psycopg2 wheel package will be renamed from release 2.8; in order to keep installing from binary please use \"pip install psycopg2-binary\" instead. For details see: <http://initd.org/psycopg/docs/install.html#binary-install-from-pypi>.\n",
      "  \"\"\")\n"
     ]
    }
   ],
   "source": [
    "%sql postgresql://gpadmin@192.168.133.128:32000/db"
   ]
  },
  {
   "cell_type": "markdown",
   "id": "dbde5ef6-811b-471d-9021-416f311d50ae",
   "metadata": {},
   "source": [
    "### Check Database Data"
   ]
  },
  {
   "cell_type": "code",
   "execution_count": 6,
   "id": "6cdd0301-7bb6-47dc-a688-56ba3df9920d",
   "metadata": {
    "execution": {
     "iopub.execute_input": "2021-10-05T06:24:39.733956Z",
     "iopub.status.busy": "2021-10-05T06:24:39.733716Z",
     "iopub.status.idle": "2021-10-05T06:24:39.937034Z",
     "shell.execute_reply": "2021-10-05T06:24:39.936353Z",
     "shell.execute_reply.started": "2021-10-05T06:24:39.733931Z"
    },
    "tags": []
   },
   "outputs": [
    {
     "name": "stdout",
     "output_type": "stream",
     "text": [
      " * postgresql://gpadmin@192.168.133.128:32000/db\n",
      "1 rows affected.\n"
     ]
    },
    {
     "data": {
      "text/html": [
       "<table>\n",
       "    <tr>\n",
       "        <th>num_sample</th>\n",
       "    </tr>\n",
       "    <tr>\n",
       "        <td>200000</td>\n",
       "    </tr>\n",
       "</table>"
      ],
      "text/plain": [
       "[(200000,)]"
      ]
     },
     "execution_count": 6,
     "metadata": {},
     "output_type": "execute_result"
    }
   ],
   "source": [
    "%%sql\n",
    "\n",
    "\n",
    "SELECT COUNT(*) AS num_sample FROM sensors;"
   ]
  },
  {
   "cell_type": "code",
   "execution_count": 7,
   "id": "f4efe7c1-ee80-4e96-85be-0deb6cf1d3e0",
   "metadata": {
    "execution": {
     "iopub.execute_input": "2021-10-05T06:24:40.745759Z",
     "iopub.status.busy": "2021-10-05T06:24:40.745516Z",
     "iopub.status.idle": "2021-10-05T06:24:40.757354Z",
     "shell.execute_reply": "2021-10-05T06:24:40.756595Z",
     "shell.execute_reply.started": "2021-10-05T06:24:40.745734Z"
    },
    "tags": []
   },
   "outputs": [
    {
     "name": "stdout",
     "output_type": "stream",
     "text": [
      " * postgresql://gpadmin@192.168.133.128:32000/db\n",
      "10 rows affected.\n"
     ]
    },
    {
     "data": {
      "text/html": [
       "<table>\n",
       "    <tr>\n",
       "        <th>timestamp</th>\n",
       "        <th>temperature</th>\n",
       "        <th>temperature_2</th>\n",
       "        <th>humidity</th>\n",
       "        <th>pm25</th>\n",
       "    </tr>\n",
       "    <tr>\n",
       "        <td>1997-03-22 00:00:00</td>\n",
       "        <td>30.6668585650253</td>\n",
       "        <td>42.9052858044298</td>\n",
       "        <td>69.2785492479998</td>\n",
       "        <td>73.1767528823951</td>\n",
       "    </tr>\n",
       "    <tr>\n",
       "        <td>1997-03-22 04:00:00</td>\n",
       "        <td>32.2240553161353</td>\n",
       "        <td>48.4451885030855</td>\n",
       "        <td>61.2088571248697</td>\n",
       "        <td>103.956207334568</td>\n",
       "    </tr>\n",
       "    <tr>\n",
       "        <td>1997-03-22 12:00:00</td>\n",
       "        <td>32.4185793403592</td>\n",
       "        <td>46.2930967363855</td>\n",
       "        <td>69.3046298170464</td>\n",
       "        <td>87.3012012853493</td>\n",
       "    </tr>\n",
       "    <tr>\n",
       "        <td>1997-03-22 20:00:00</td>\n",
       "        <td>31.6889779538602</td>\n",
       "        <td>50.3771697898689</td>\n",
       "        <td>53.2251690054103</td>\n",
       "        <td>76.757504341768</td>\n",
       "    </tr>\n",
       "    <tr>\n",
       "        <td>1997-03-22 21:00:00</td>\n",
       "        <td>31.414135143836</td>\n",
       "        <td>45.8292816079858</td>\n",
       "        <td>53.655786244688</td>\n",
       "        <td>77.837155684718</td>\n",
       "    </tr>\n",
       "    <tr>\n",
       "        <td>1997-03-22 22:00:00</td>\n",
       "        <td>31.5117735558417</td>\n",
       "        <td>49.7762550293786</td>\n",
       "        <td>31.5185341489772</td>\n",
       "        <td>98.0131261241892</td>\n",
       "    </tr>\n",
       "    <tr>\n",
       "        <td>1997-03-23 04:00:00</td>\n",
       "        <td>30.9732062825728</td>\n",
       "        <td>50.7305651158765</td>\n",
       "        <td>51.6463117699311</td>\n",
       "        <td>76.6613962119159</td>\n",
       "    </tr>\n",
       "    <tr>\n",
       "        <td>1997-03-23 06:00:00</td>\n",
       "        <td>31.1456715016839</td>\n",
       "        <td>50.5883567654865</td>\n",
       "        <td>50.6392021695488</td>\n",
       "        <td>77.1011145867884</td>\n",
       "    </tr>\n",
       "    <tr>\n",
       "        <td>1997-03-23 08:00:00</td>\n",
       "        <td>32.9173479628012</td>\n",
       "        <td>48.2255788669841</td>\n",
       "        <td>62.5489084902205</td>\n",
       "        <td>87.1120555127665</td>\n",
       "    </tr>\n",
       "    <tr>\n",
       "        <td>1997-03-23 12:00:00</td>\n",
       "        <td>32.5277304291036</td>\n",
       "        <td>47.7246721062276</td>\n",
       "        <td>15.1710744913787</td>\n",
       "        <td>91.5709933365243</td>\n",
       "    </tr>\n",
       "</table>"
      ],
      "text/plain": [
       "[(datetime.datetime(1997, 3, 22, 0, 0), 30.6668585650253, 42.9052858044298, 69.2785492479998, 73.1767528823951),\n",
       " (datetime.datetime(1997, 3, 22, 4, 0), 32.2240553161353, 48.4451885030855, 61.2088571248697, 103.956207334568),\n",
       " (datetime.datetime(1997, 3, 22, 12, 0), 32.4185793403592, 46.2930967363855, 69.3046298170464, 87.3012012853493),\n",
       " (datetime.datetime(1997, 3, 22, 20, 0), 31.6889779538602, 50.3771697898689, 53.2251690054103, 76.757504341768),\n",
       " (datetime.datetime(1997, 3, 22, 21, 0), 31.414135143836, 45.8292816079858, 53.655786244688, 77.837155684718),\n",
       " (datetime.datetime(1997, 3, 22, 22, 0), 31.5117735558417, 49.7762550293786, 31.5185341489772, 98.0131261241892),\n",
       " (datetime.datetime(1997, 3, 23, 4, 0), 30.9732062825728, 50.7305651158765, 51.6463117699311, 76.6613962119159),\n",
       " (datetime.datetime(1997, 3, 23, 6, 0), 31.1456715016839, 50.5883567654865, 50.6392021695488, 77.1011145867884),\n",
       " (datetime.datetime(1997, 3, 23, 8, 0), 32.9173479628012, 48.2255788669841, 62.5489084902205, 87.1120555127665),\n",
       " (datetime.datetime(1997, 3, 23, 12, 0), 32.5277304291036, 47.7246721062276, 15.1710744913787, 91.5709933365243)]"
      ]
     },
     "execution_count": 7,
     "metadata": {},
     "output_type": "execute_result"
    }
   ],
   "source": [
    "%%sql\n",
    "\n",
    "SELECT * FROM sensors LIMIT 10;"
   ]
  },
  {
   "cell_type": "code",
   "execution_count": 8,
   "id": "9bb8da4d-fecb-42a7-a95d-d940f34ac9e6",
   "metadata": {
    "execution": {
     "iopub.execute_input": "2021-10-05T06:24:46.016331Z",
     "iopub.status.busy": "2021-10-05T06:24:46.016085Z",
     "iopub.status.idle": "2021-10-05T06:24:46.036778Z",
     "shell.execute_reply": "2021-10-05T06:24:46.036184Z",
     "shell.execute_reply.started": "2021-10-05T06:24:46.016307Z"
    },
    "tags": []
   },
   "outputs": [
    {
     "name": "stdout",
     "output_type": "stream",
     "text": [
      " * postgresql://gpadmin@192.168.133.128:32000/db\n",
      "1000 rows affected.\n"
     ]
    }
   ],
   "source": [
    "sensors = %sql SELECT * FROM sensors LIMIT 1000;\n",
    "sensors = sensors.DataFrame()"
   ]
  },
  {
   "cell_type": "code",
   "execution_count": 9,
   "id": "254f263a-64c7-4966-8896-109281f26540",
   "metadata": {
    "execution": {
     "iopub.execute_input": "2021-10-05T06:24:46.674810Z",
     "iopub.status.busy": "2021-10-05T06:24:46.674538Z",
     "iopub.status.idle": "2021-10-05T06:24:46.694406Z",
     "shell.execute_reply": "2021-10-05T06:24:46.693376Z",
     "shell.execute_reply.started": "2021-10-05T06:24:46.674782Z"
    },
    "tags": []
   },
   "outputs": [
    {
     "name": "stdout",
     "output_type": "stream",
     "text": [
      "<class 'pandas.core.frame.DataFrame'>\n",
      "RangeIndex: 1000 entries, 0 to 999\n",
      "Data columns (total 5 columns):\n",
      " #   Column         Non-Null Count  Dtype         \n",
      "---  ------         --------------  -----         \n",
      " 0   timestamp      1000 non-null   datetime64[ns]\n",
      " 1   temperature    1000 non-null   float64       \n",
      " 2   temperature_2  1000 non-null   float64       \n",
      " 3   humidity       1000 non-null   float64       \n",
      " 4   pm25           1000 non-null   float64       \n",
      "dtypes: datetime64[ns](1), float64(4)\n",
      "memory usage: 39.2 KB\n"
     ]
    }
   ],
   "source": [
    "sensors.info()"
   ]
  },
  {
   "cell_type": "code",
   "execution_count": 10,
   "id": "142926cb-b255-4e76-a28b-5d38b8b6e9c1",
   "metadata": {
    "execution": {
     "iopub.execute_input": "2021-10-05T06:24:47.767234Z",
     "iopub.status.busy": "2021-10-05T06:24:47.767029Z",
     "iopub.status.idle": "2021-10-05T06:24:47.791980Z",
     "shell.execute_reply": "2021-10-05T06:24:47.791424Z",
     "shell.execute_reply.started": "2021-10-05T06:24:47.767214Z"
    },
    "tags": []
   },
   "outputs": [
    {
     "data": {
      "text/html": [
       "<div>\n",
       "<style scoped>\n",
       "    .dataframe tbody tr th:only-of-type {\n",
       "        vertical-align: middle;\n",
       "    }\n",
       "\n",
       "    .dataframe tbody tr th {\n",
       "        vertical-align: top;\n",
       "    }\n",
       "\n",
       "    .dataframe thead th {\n",
       "        text-align: right;\n",
       "    }\n",
       "</style>\n",
       "<table border=\"1\" class=\"dataframe\">\n",
       "  <thead>\n",
       "    <tr style=\"text-align: right;\">\n",
       "      <th></th>\n",
       "      <th>temperature</th>\n",
       "      <th>temperature_2</th>\n",
       "      <th>humidity</th>\n",
       "      <th>pm25</th>\n",
       "    </tr>\n",
       "  </thead>\n",
       "  <tbody>\n",
       "    <tr>\n",
       "      <th>count</th>\n",
       "      <td>1000.000000</td>\n",
       "      <td>1000.000000</td>\n",
       "      <td>1000.000000</td>\n",
       "      <td>1000.000000</td>\n",
       "    </tr>\n",
       "    <tr>\n",
       "      <th>mean</th>\n",
       "      <td>31.544820</td>\n",
       "      <td>46.594941</td>\n",
       "      <td>49.825028</td>\n",
       "      <td>89.652520</td>\n",
       "    </tr>\n",
       "    <tr>\n",
       "      <th>std</th>\n",
       "      <td>0.873392</td>\n",
       "      <td>3.145308</td>\n",
       "      <td>15.000050</td>\n",
       "      <td>14.299866</td>\n",
       "    </tr>\n",
       "    <tr>\n",
       "      <th>min</th>\n",
       "      <td>30.002098</td>\n",
       "      <td>34.493309</td>\n",
       "      <td>1.160944</td>\n",
       "      <td>38.564782</td>\n",
       "    </tr>\n",
       "    <tr>\n",
       "      <th>25%</th>\n",
       "      <td>30.826927</td>\n",
       "      <td>44.394214</td>\n",
       "      <td>39.490404</td>\n",
       "      <td>79.777687</td>\n",
       "    </tr>\n",
       "    <tr>\n",
       "      <th>50%</th>\n",
       "      <td>31.571728</td>\n",
       "      <td>46.469999</td>\n",
       "      <td>49.839717</td>\n",
       "      <td>89.727459</td>\n",
       "    </tr>\n",
       "    <tr>\n",
       "      <th>75%</th>\n",
       "      <td>32.317502</td>\n",
       "      <td>48.718686</td>\n",
       "      <td>60.158495</td>\n",
       "      <td>99.193445</td>\n",
       "    </tr>\n",
       "    <tr>\n",
       "      <th>max</th>\n",
       "      <td>32.998612</td>\n",
       "      <td>55.152494</td>\n",
       "      <td>93.333323</td>\n",
       "      <td>132.791284</td>\n",
       "    </tr>\n",
       "  </tbody>\n",
       "</table>\n",
       "</div>"
      ],
      "text/plain": [
       "       temperature  temperature_2     humidity         pm25\n",
       "count  1000.000000    1000.000000  1000.000000  1000.000000\n",
       "mean     31.544820      46.594941    49.825028    89.652520\n",
       "std       0.873392       3.145308    15.000050    14.299866\n",
       "min      30.002098      34.493309     1.160944    38.564782\n",
       "25%      30.826927      44.394214    39.490404    79.777687\n",
       "50%      31.571728      46.469999    49.839717    89.727459\n",
       "75%      32.317502      48.718686    60.158495    99.193445\n",
       "max      32.998612      55.152494    93.333323   132.791284"
      ]
     },
     "execution_count": 10,
     "metadata": {},
     "output_type": "execute_result"
    }
   ],
   "source": [
    "sensors.describe()"
   ]
  },
  {
   "cell_type": "code",
   "execution_count": 12,
   "id": "5045f55d-2674-4817-8ae5-1693ce942455",
   "metadata": {
    "execution": {
     "iopub.execute_input": "2021-10-05T06:24:59.095567Z",
     "iopub.status.busy": "2021-10-05T06:24:59.095324Z",
     "iopub.status.idle": "2021-10-05T06:24:59.353458Z",
     "shell.execute_reply": "2021-10-05T06:24:59.352964Z",
     "shell.execute_reply.started": "2021-10-05T06:24:59.095542Z"
    },
    "tags": []
   },
   "outputs": [
    {
     "name": "stderr",
     "output_type": "stream",
     "text": [
      "/usr/local/anaconda3/envs/madlib/lib/python3.6/site-packages/seaborn/distributions.py:2619: FutureWarning: `distplot` is a deprecated function and will be removed in a future version. Please adapt your code to use either `displot` (a figure-level function with similar flexibility) or `histplot` (an axes-level function for histograms).\n",
      "  warnings.warn(msg, FutureWarning)\n"
     ]
    },
    {
     "data": {
      "image/png": "[encoded data removed]",
      "text/plain": [
       "<Figure size 720x360 with 1 Axes>"
      ]
     },
     "metadata": {
      "needs_background": "light"
     },
     "output_type": "display_data"
    }
   ],
   "source": [
    "plt.figure(figsize=(10,5))\n",
    "sns.distplot(sensors['humidity'],bins=60);\n",
    "plt.title(\"Humidity Distribution\")\n",
    "plt.axvline(x=sensors['humidity'].mean(),color='red',ls='--',lw=2)\n",
    "plt.text(sensors['humidity'].mean()+3,0.03, \"mean\", fontsize=10,c='red');"
   ]
  },
  {
   "cell_type": "markdown",
   "id": "18a4d782-75a9-4cdf-8fa2-33b7c366753d",
   "metadata": {},
   "source": [
    "### Preprocess Data"
   ]
  },
  {
   "cell_type": "markdown",
   "id": "68a945a0-370a-446e-b6cc-47aead7ab4da",
   "metadata": {},
   "source": [
    "Encode Month\n",
    "\n",
    "```sql\n",
    "CREATE FUNCTION parse_month(time_stamp timestamp)\n",
    "  RETURNS char\n",
    "AS $$\n",
    "  from datetime import datetime\n",
    "  date_obj=datetime.strptime(time_stamp,\"%Y-%m-%d %H:%M:%S\")\n",
    "  return date_obj.strftime(\"%B\")\n",
    "$$ LANGUAGE plpythonu;\n",
    "```"
   ]
  },
  {
   "cell_type": "code",
   "execution_count": 13,
   "id": "3dff644a-ffc2-40ef-acc9-62043de55fa6",
   "metadata": {
    "execution": {
     "iopub.execute_input": "2021-10-05T06:25:02.130401Z",
     "iopub.status.busy": "2021-10-05T06:25:02.130135Z",
     "iopub.status.idle": "2021-10-05T06:25:02.229478Z",
     "shell.execute_reply": "2021-10-05T06:25:02.228915Z",
     "shell.execute_reply.started": "2021-10-05T06:25:02.130374Z"
    },
    "tags": []
   },
   "outputs": [
    {
     "name": "stdout",
     "output_type": "stream",
     "text": [
      " * postgresql://gpadmin@192.168.133.128:32000/db\n",
      "2 rows affected.\n"
     ]
    },
    {
     "data": {
      "text/html": [
       "<table>\n",
       "    <tr>\n",
       "        <th>timestamp</th>\n",
       "        <th>temperature</th>\n",
       "        <th>temperature_2</th>\n",
       "        <th>humidity</th>\n",
       "        <th>pm25</th>\n",
       "        <th>parse_month</th>\n",
       "    </tr>\n",
       "    <tr>\n",
       "        <td>2014-11-23 21:00:00</td>\n",
       "        <td>30.8058720843154</td>\n",
       "        <td>42.7842327160495</td>\n",
       "        <td>44.8122950799332</td>\n",
       "        <td>161.947176404423</td>\n",
       "        <td>November</td>\n",
       "    </tr>\n",
       "    <tr>\n",
       "        <td>2015-04-16 22:00:00</td>\n",
       "        <td>33.0799518195087</td>\n",
       "        <td>50.5450234515165</td>\n",
       "        <td>40.0489227220552</td>\n",
       "        <td>161.772615888742</td>\n",
       "        <td>April</td>\n",
       "    </tr>\n",
       "</table>"
      ],
      "text/plain": [
       "[(datetime.datetime(2014, 11, 23, 21, 0), 30.8058720843154, 42.7842327160495, 44.8122950799332, 161.947176404423, 'November'),\n",
       " (datetime.datetime(2015, 4, 16, 22, 0), 33.0799518195087, 50.5450234515165, 40.0489227220552, 161.772615888742, 'April')]"
      ]
     },
     "execution_count": 13,
     "metadata": {},
     "output_type": "execute_result"
    }
   ],
   "source": [
    "%%sql\n",
    "SELECT *,parse_month(timestamp) FROM sensors WHERE pm25 > 160;"
   ]
  },
  {
   "cell_type": "markdown",
   "id": "99ef43f9-8e4d-4fa6-a2d9-1fed601d8258",
   "metadata": {},
   "source": [
    "Create Month and rain Data"
   ]
  },
  {
   "cell_type": "code",
   "execution_count": 28,
   "id": "a7ca60fc-a48e-4248-93fc-d45ca18256fb",
   "metadata": {
    "execution": {
     "iopub.execute_input": "2021-10-05T06:45:25.979072Z",
     "iopub.status.busy": "2021-10-05T06:45:25.978824Z",
     "iopub.status.idle": "2021-10-05T06:45:38.290561Z",
     "shell.execute_reply": "2021-10-05T06:45:38.289981Z",
     "shell.execute_reply.started": "2021-10-05T06:45:25.979047Z"
    },
    "tags": []
   },
   "outputs": [
    {
     "name": "stdout",
     "output_type": "stream",
     "text": [
      " * postgresql://gpadmin@192.168.133.128:32000/db\n",
      "Done.\n",
      "200000 rows affected.\n",
      "10 rows affected.\n"
     ]
    },
    {
     "data": {
      "text/html": [
       "<table>\n",
       "    <tr>\n",
       "        <th>timestamp</th>\n",
       "        <th>temperature</th>\n",
       "        <th>temperature_2</th>\n",
       "        <th>humidity</th>\n",
       "        <th>pm25</th>\n",
       "        <th>month</th>\n",
       "        <th>rain</th>\n",
       "    </tr>\n",
       "    <tr>\n",
       "        <td>1997-03-22 00:00:00</td>\n",
       "        <td>30.6668585650253</td>\n",
       "        <td>42.9052858044298</td>\n",
       "        <td>69.2785492479998</td>\n",
       "        <td>73.1767528823951</td>\n",
       "        <td>March</td>\n",
       "        <td>1</td>\n",
       "    </tr>\n",
       "    <tr>\n",
       "        <td>1997-03-23 04:00:00</td>\n",
       "        <td>30.9732062825728</td>\n",
       "        <td>50.7305651158765</td>\n",
       "        <td>51.6463117699311</td>\n",
       "        <td>76.6613962119159</td>\n",
       "        <td>March</td>\n",
       "        <td>0</td>\n",
       "    </tr>\n",
       "    <tr>\n",
       "        <td>1997-03-23 06:00:00</td>\n",
       "        <td>31.1456715016839</td>\n",
       "        <td>50.5883567654865</td>\n",
       "        <td>50.6392021695488</td>\n",
       "        <td>77.1011145867884</td>\n",
       "        <td>March</td>\n",
       "        <td>0</td>\n",
       "    </tr>\n",
       "    <tr>\n",
       "        <td>1997-03-23 17:00:00</td>\n",
       "        <td>30.7293087213374</td>\n",
       "        <td>51.0992881844999</td>\n",
       "        <td>72.2276164814201</td>\n",
       "        <td>94.9085858990948</td>\n",
       "        <td>March</td>\n",
       "        <td>1</td>\n",
       "    </tr>\n",
       "    <tr>\n",
       "        <td>1997-03-24 19:00:00</td>\n",
       "        <td>30.954906770923</td>\n",
       "        <td>42.2946620832769</td>\n",
       "        <td>46.7073889033827</td>\n",
       "        <td>113.05207735578</td>\n",
       "        <td>March</td>\n",
       "        <td>0</td>\n",
       "    </tr>\n",
       "    <tr>\n",
       "        <td>1997-03-24 21:00:00</td>\n",
       "        <td>30.9957465357837</td>\n",
       "        <td>47.910602539389</td>\n",
       "        <td>45.1186145433521</td>\n",
       "        <td>77.4539783405741</td>\n",
       "        <td>March</td>\n",
       "        <td>0</td>\n",
       "    </tr>\n",
       "    <tr>\n",
       "        <td>1997-03-25 05:00:00</td>\n",
       "        <td>32.5626992437538</td>\n",
       "        <td>48.4174353253761</td>\n",
       "        <td>67.5519141589639</td>\n",
       "        <td>85.3148379298482</td>\n",
       "        <td>March</td>\n",
       "        <td>1</td>\n",
       "    </tr>\n",
       "    <tr>\n",
       "        <td>1997-03-25 17:00:00</td>\n",
       "        <td>32.7606167973364</td>\n",
       "        <td>43.5075620950977</td>\n",
       "        <td>27.108187864319</td>\n",
       "        <td>97.8867153820081</td>\n",
       "        <td>March</td>\n",
       "        <td>0</td>\n",
       "    </tr>\n",
       "    <tr>\n",
       "        <td>1997-03-25 20:00:00</td>\n",
       "        <td>30.9770378729866</td>\n",
       "        <td>49.1407151795</td>\n",
       "        <td>39.657734886977</td>\n",
       "        <td>76.1397638622327</td>\n",
       "        <td>March</td>\n",
       "        <td>0</td>\n",
       "    </tr>\n",
       "    <tr>\n",
       "        <td>1997-03-26 02:00:00</td>\n",
       "        <td>31.0098896785448</td>\n",
       "        <td>42.6752469286538</td>\n",
       "        <td>53.3649786920401</td>\n",
       "        <td>111.140679844686</td>\n",
       "        <td>March</td>\n",
       "        <td>0</td>\n",
       "    </tr>\n",
       "</table>"
      ],
      "text/plain": [
       "[(datetime.datetime(1997, 3, 22, 0, 0), 30.6668585650253, 42.9052858044298, 69.2785492479998, 73.1767528823951, 'March', 1),\n",
       " (datetime.datetime(1997, 3, 23, 4, 0), 30.9732062825728, 50.7305651158765, 51.6463117699311, 76.6613962119159, 'March', 0),\n",
       " (datetime.datetime(1997, 3, 23, 6, 0), 31.1456715016839, 50.5883567654865, 50.6392021695488, 77.1011145867884, 'March', 0),\n",
       " (datetime.datetime(1997, 3, 23, 17, 0), 30.7293087213374, 51.0992881844999, 72.2276164814201, 94.9085858990948, 'March', 1),\n",
       " (datetime.datetime(1997, 3, 24, 19, 0), 30.954906770923, 42.2946620832769, 46.7073889033827, 113.05207735578, 'March', 0),\n",
       " (datetime.datetime(1997, 3, 24, 21, 0), 30.9957465357837, 47.910602539389, 45.1186145433521, 77.4539783405741, 'March', 0),\n",
       " (datetime.datetime(1997, 3, 25, 5, 0), 32.5626992437538, 48.4174353253761, 67.5519141589639, 85.3148379298482, 'March', 1),\n",
       " (datetime.datetime(1997, 3, 25, 17, 0), 32.7606167973364, 43.5075620950977, 27.108187864319, 97.8867153820081, 'March', 0),\n",
       " (datetime.datetime(1997, 3, 25, 20, 0), 30.9770378729866, 49.1407151795, 39.657734886977, 76.1397638622327, 'March', 0),\n",
       " (datetime.datetime(1997, 3, 26, 2, 0), 31.0098896785448, 42.6752469286538, 53.3649786920401, 111.140679844686, 'March', 0)]"
      ]
     },
     "execution_count": 28,
     "metadata": {},
     "output_type": "execute_result"
    }
   ],
   "source": [
    "%%sql\n",
    "DROP TABLE IF EXISTS sensors_pre;\n",
    "CREATE TABLE sensors_pre\n",
    "AS \n",
    "SELECT\n",
    "    timestamp,\n",
    "    temperature,\n",
    "    temperature_2,\n",
    "    humidity,\n",
    "    pm25,\n",
    "    parse_month(timestamp) AS month,           --- Month data\n",
    "    CASE WHEN\n",
    "            (humidity )>= 60\n",
    "        THEN 1\n",
    "        ELSE 0\n",
    "    END as rain\n",
    "FROM sensors;\n",
    "\n",
    "SELECT * FROM sensors_pre LIMIT 10; "
   ]
  },
  {
   "cell_type": "code",
   "execution_count": 29,
   "id": "22cf1b72-22a2-4e30-a810-882c41eec482",
   "metadata": {
    "execution": {
     "iopub.execute_input": "2021-10-05T06:45:53.874251Z",
     "iopub.status.busy": "2021-10-05T06:45:53.873907Z",
     "iopub.status.idle": "2021-10-05T06:46:03.289516Z",
     "shell.execute_reply": "2021-10-05T06:46:03.288752Z",
     "shell.execute_reply.started": "2021-10-05T06:45:53.874212Z"
    },
    "tags": []
   },
   "outputs": [
    {
     "name": "stdout",
     "output_type": "stream",
     "text": [
      " * postgresql://gpadmin@192.168.133.128:32000/db\n",
      "12 rows affected.\n"
     ]
    },
    {
     "data": {
      "text/html": [
       "<table>\n",
       "    <tr>\n",
       "        <th>month</th>\n",
       "        <th>count</th>\n",
       "    </tr>\n",
       "    <tr>\n",
       "        <td>December</td>\n",
       "        <td>17112</td>\n",
       "    </tr>\n",
       "    <tr>\n",
       "        <td>May</td>\n",
       "        <td>17112</td>\n",
       "    </tr>\n",
       "    <tr>\n",
       "        <td>August</td>\n",
       "        <td>17112</td>\n",
       "    </tr>\n",
       "    <tr>\n",
       "        <td>July</td>\n",
       "        <td>17112</td>\n",
       "    </tr>\n",
       "    <tr>\n",
       "        <td>October</td>\n",
       "        <td>17112</td>\n",
       "    </tr>\n",
       "    <tr>\n",
       "        <td>January</td>\n",
       "        <td>16688</td>\n",
       "    </tr>\n",
       "    <tr>\n",
       "        <td>March</td>\n",
       "        <td>16608</td>\n",
       "    </tr>\n",
       "    <tr>\n",
       "        <td>November</td>\n",
       "        <td>16560</td>\n",
       "    </tr>\n",
       "    <tr>\n",
       "        <td>June</td>\n",
       "        <td>16560</td>\n",
       "    </tr>\n",
       "    <tr>\n",
       "        <td>April</td>\n",
       "        <td>16560</td>\n",
       "    </tr>\n",
       "    <tr>\n",
       "        <td>September</td>\n",
       "        <td>16560</td>\n",
       "    </tr>\n",
       "    <tr>\n",
       "        <td>February</td>\n",
       "        <td>14904</td>\n",
       "    </tr>\n",
       "</table>"
      ],
      "text/plain": [
       "[('December', 17112),\n",
       " ('May', 17112),\n",
       " ('August', 17112),\n",
       " ('July', 17112),\n",
       " ('October', 17112),\n",
       " ('January', 16688),\n",
       " ('March', 16608),\n",
       " ('November', 16560),\n",
       " ('June', 16560),\n",
       " ('April', 16560),\n",
       " ('September', 16560),\n",
       " ('February', 14904)]"
      ]
     },
     "execution_count": 29,
     "metadata": {},
     "output_type": "execute_result"
    }
   ],
   "source": [
    "%%sql\n",
    "SELECT parse_month(timestamp) as month ,COUNT(*) as count  \n",
    "    FROM sensors  \n",
    "GROUP BY month ORDER BY count DESC;"
   ]
  },
  {
   "cell_type": "markdown",
   "id": "48ede8be-903e-4373-a544-ef6b8ada8adb",
   "metadata": {},
   "source": [
    "### Encode categorical values"
   ]
  },
  {
   "cell_type": "code",
   "execution_count": 30,
   "id": "58956098-2c3d-4c0a-9961-fd80c17adb58",
   "metadata": {
    "execution": {
     "iopub.execute_input": "2021-10-05T06:46:32.769461Z",
     "iopub.status.busy": "2021-10-05T06:46:32.769208Z",
     "iopub.status.idle": "2021-10-05T06:46:38.384490Z",
     "shell.execute_reply": "2021-10-05T06:46:38.383742Z",
     "shell.execute_reply.started": "2021-10-05T06:46:32.769436Z"
    },
    "tags": []
   },
   "outputs": [
    {
     "name": "stdout",
     "output_type": "stream",
     "text": [
      " * postgresql://gpadmin@192.168.133.128:32000/db\n",
      "Done.\n",
      "1 rows affected.\n",
      "5 rows affected.\n"
     ]
    },
    {
     "data": {
      "text/html": [
       "<table>\n",
       "    <tr>\n",
       "        <th>timestamp</th>\n",
       "        <th>temperature</th>\n",
       "        <th>temperature_2</th>\n",
       "        <th>humidity</th>\n",
       "        <th>pm25</th>\n",
       "        <th>rain</th>\n",
       "        <th>month_April</th>\n",
       "        <th>month_August</th>\n",
       "        <th>month_December</th>\n",
       "        <th>month_February</th>\n",
       "        <th>month_January</th>\n",
       "        <th>month_July</th>\n",
       "        <th>month_June</th>\n",
       "        <th>month_March</th>\n",
       "        <th>month_May</th>\n",
       "        <th>month_November</th>\n",
       "        <th>month_October</th>\n",
       "        <th>month_September</th>\n",
       "    </tr>\n",
       "    <tr>\n",
       "        <td>1997-03-23 04:00:00</td>\n",
       "        <td>30.9732062825728</td>\n",
       "        <td>50.7305651158765</td>\n",
       "        <td>51.6463117699311</td>\n",
       "        <td>76.6613962119159</td>\n",
       "        <td>0</td>\n",
       "        <td>0</td>\n",
       "        <td>0</td>\n",
       "        <td>0</td>\n",
       "        <td>0</td>\n",
       "        <td>0</td>\n",
       "        <td>0</td>\n",
       "        <td>0</td>\n",
       "        <td>1</td>\n",
       "        <td>0</td>\n",
       "        <td>0</td>\n",
       "        <td>0</td>\n",
       "        <td>0</td>\n",
       "    </tr>\n",
       "    <tr>\n",
       "        <td>1997-03-23 06:00:00</td>\n",
       "        <td>31.1456715016839</td>\n",
       "        <td>50.5883567654865</td>\n",
       "        <td>50.6392021695488</td>\n",
       "        <td>77.1011145867884</td>\n",
       "        <td>0</td>\n",
       "        <td>0</td>\n",
       "        <td>0</td>\n",
       "        <td>0</td>\n",
       "        <td>0</td>\n",
       "        <td>0</td>\n",
       "        <td>0</td>\n",
       "        <td>0</td>\n",
       "        <td>1</td>\n",
       "        <td>0</td>\n",
       "        <td>0</td>\n",
       "        <td>0</td>\n",
       "        <td>0</td>\n",
       "    </tr>\n",
       "    <tr>\n",
       "        <td>1997-03-24 21:00:00</td>\n",
       "        <td>30.9957465357837</td>\n",
       "        <td>47.910602539389</td>\n",
       "        <td>45.1186145433521</td>\n",
       "        <td>77.4539783405741</td>\n",
       "        <td>0</td>\n",
       "        <td>0</td>\n",
       "        <td>0</td>\n",
       "        <td>0</td>\n",
       "        <td>0</td>\n",
       "        <td>0</td>\n",
       "        <td>0</td>\n",
       "        <td>0</td>\n",
       "        <td>1</td>\n",
       "        <td>0</td>\n",
       "        <td>0</td>\n",
       "        <td>0</td>\n",
       "        <td>0</td>\n",
       "    </tr>\n",
       "    <tr>\n",
       "        <td>1997-03-27 02:00:00</td>\n",
       "        <td>32.1457076844318</td>\n",
       "        <td>45.6383118257931</td>\n",
       "        <td>49.3663153748771</td>\n",
       "        <td>98.7573827950472</td>\n",
       "        <td>0</td>\n",
       "        <td>0</td>\n",
       "        <td>0</td>\n",
       "        <td>0</td>\n",
       "        <td>0</td>\n",
       "        <td>0</td>\n",
       "        <td>0</td>\n",
       "        <td>0</td>\n",
       "        <td>1</td>\n",
       "        <td>0</td>\n",
       "        <td>0</td>\n",
       "        <td>0</td>\n",
       "        <td>0</td>\n",
       "    </tr>\n",
       "    <tr>\n",
       "        <td>1997-03-27 15:00:00</td>\n",
       "        <td>32.8470702255056</td>\n",
       "        <td>48.2737054126523</td>\n",
       "        <td>49.3894748062248</td>\n",
       "        <td>76.8431079775244</td>\n",
       "        <td>0</td>\n",
       "        <td>0</td>\n",
       "        <td>0</td>\n",
       "        <td>0</td>\n",
       "        <td>0</td>\n",
       "        <td>0</td>\n",
       "        <td>0</td>\n",
       "        <td>0</td>\n",
       "        <td>1</td>\n",
       "        <td>0</td>\n",
       "        <td>0</td>\n",
       "        <td>0</td>\n",
       "        <td>0</td>\n",
       "    </tr>\n",
       "</table>"
      ],
      "text/plain": [
       "[(datetime.datetime(1997, 3, 23, 4, 0), 30.9732062825728, 50.7305651158765, 51.6463117699311, 76.6613962119159, 0, 0, 0, 0, 0, 0, 0, 0, 1, 0, 0, 0, 0),\n",
       " (datetime.datetime(1997, 3, 23, 6, 0), 31.1456715016839, 50.5883567654865, 50.6392021695488, 77.1011145867884, 0, 0, 0, 0, 0, 0, 0, 0, 1, 0, 0, 0, 0),\n",
       " (datetime.datetime(1997, 3, 24, 21, 0), 30.9957465357837, 47.910602539389, 45.1186145433521, 77.4539783405741, 0, 0, 0, 0, 0, 0, 0, 0, 1, 0, 0, 0, 0),\n",
       " (datetime.datetime(1997, 3, 27, 2, 0), 32.1457076844318, 45.6383118257931, 49.3663153748771, 98.7573827950472, 0, 0, 0, 0, 0, 0, 0, 0, 1, 0, 0, 0, 0),\n",
       " (datetime.datetime(1997, 3, 27, 15, 0), 32.8470702255056, 48.2737054126523, 49.3894748062248, 76.8431079775244, 0, 0, 0, 0, 0, 0, 0, 0, 1, 0, 0, 0, 0)]"
      ]
     },
     "execution_count": 30,
     "metadata": {},
     "output_type": "execute_result"
    }
   ],
   "source": [
    "%%sql\n",
    "DROP TABLE IF EXISTS sensors_encoded;\n",
    "\n",
    "\n",
    "SELECT\n",
    "madlib.encode_categorical_variables (\n",
    "    'sensors_pre',\n",
    "    'sensors_encoded',\n",
    "    'month',\n",
    "    NULL,  --categorical_cols_to_exclude     -- Optional\n",
    "    NULL,  --row_id,                         -- Optional\n",
    "    NULL,  --top,                            -- Optional\n",
    "    NULL,  --value_to_drop,                  -- Optional\n",
    "    NULL,  --encode_null,                    -- Optional\n",
    "    NULL,  --output_type,                    -- Optional\n",
    "    NULL,  --output_dictionary,              -- Optional\n",
    "    NULL   --distributed_by                  -- Optional\n",
    ");\n",
    "\n",
    "\n",
    "SELECT * FROM sensors_encoded LIMIT 5;"
   ]
  },
  {
   "cell_type": "markdown",
   "id": "ad732e2e-9c8a-4c57-8a14-61809dd08a66",
   "metadata": {
    "execution": {
     "iopub.execute_input": "2021-10-04T10:27:18.637092Z",
     "iopub.status.busy": "2021-10-04T10:27:18.636846Z",
     "iopub.status.idle": "2021-10-04T10:27:18.639478Z",
     "shell.execute_reply": "2021-10-04T10:27:18.638867Z",
     "shell.execute_reply.started": "2021-10-04T10:27:18.637067Z"
    }
   },
   "source": [
    "### EDA"
   ]
  },
  {
   "cell_type": "code",
   "execution_count": 31,
   "id": "931aaab8-f2ee-469e-893b-a0ab766d2993",
   "metadata": {
    "execution": {
     "iopub.execute_input": "2021-10-05T06:46:44.437929Z",
     "iopub.status.busy": "2021-10-05T06:46:44.437684Z",
     "iopub.status.idle": "2021-10-05T06:47:40.388002Z",
     "shell.execute_reply": "2021-10-05T06:47:40.387360Z",
     "shell.execute_reply.started": "2021-10-05T06:46:44.437904Z"
    },
    "tags": []
   },
   "outputs": [
    {
     "name": "stdout",
     "output_type": "stream",
     "text": [
      " * postgresql://gpadmin@192.168.133.128:32000/db\n",
      "Done.\n",
      "1 rows affected.\n",
      "5 rows affected.\n"
     ]
    },
    {
     "data": {
      "text/html": [
       "<table>\n",
       "    <tr>\n",
       "        <th>group_by</th>\n",
       "        <th>group_by_value</th>\n",
       "        <th>target_column</th>\n",
       "        <th>column_number</th>\n",
       "        <th>data_type</th>\n",
       "        <th>row_count</th>\n",
       "        <th>distinct_values</th>\n",
       "        <th>missing_values</th>\n",
       "        <th>blank_values</th>\n",
       "        <th>fraction_missing</th>\n",
       "        <th>fraction_blank</th>\n",
       "        <th>positive_values</th>\n",
       "        <th>negative_values</th>\n",
       "        <th>zero_values</th>\n",
       "        <th>mean</th>\n",
       "        <th>variance</th>\n",
       "        <th>confidence_interval</th>\n",
       "        <th>min</th>\n",
       "        <th>max</th>\n",
       "        <th>first_quartile</th>\n",
       "        <th>median</th>\n",
       "        <th>third_quartile</th>\n",
       "        <th>most_frequent_values</th>\n",
       "        <th>mfv_frequencies</th>\n",
       "    </tr>\n",
       "    <tr>\n",
       "        <td>None</td>\n",
       "        <td>None</td>\n",
       "        <td>&quot;timestamp&quot;</td>\n",
       "        <td>1</td>\n",
       "        <td>timestamp</td>\n",
       "        <td>200000</td>\n",
       "        <td>200000</td>\n",
       "        <td>0</td>\n",
       "        <td>None</td>\n",
       "        <td>0.0</td>\n",
       "        <td>None</td>\n",
       "        <td>None</td>\n",
       "        <td>None</td>\n",
       "        <td>None</td>\n",
       "        <td>None</td>\n",
       "        <td>None</td>\n",
       "        <td>None</td>\n",
       "        <td>None</td>\n",
       "        <td>None</td>\n",
       "        <td>None</td>\n",
       "        <td>None</td>\n",
       "        <td>None</td>\n",
       "        <td>[&#x27;2019-07-25 11:00:00&#x27;, &#x27;2019-12-01 19:00:00&#x27;, &#x27;2018-11-27 14:00:00&#x27;, &#x27;2019-11-26 21:00:00&#x27;, &#x27;2019-01-25 21:00:00&#x27;, &#x27;2019-04-19 15:00:00&#x27;, &#x27;2019-06-20 09:00:00&#x27;, &#x27;2019-07-25 22:00:00&#x27;, &#x27;2019-08-31 14:00:00&#x27;, &#x27;2019-11-30 16:00:00&#x27;]</td>\n",
       "        <td>[204, 203, 196, 196, 196, 196, 196, 195, 195, 195]</td>\n",
       "    </tr>\n",
       "    <tr>\n",
       "        <td>None</td>\n",
       "        <td>None</td>\n",
       "        <td>temperature</td>\n",
       "        <td>2</td>\n",
       "        <td>float8</td>\n",
       "        <td>200000</td>\n",
       "        <td>200000</td>\n",
       "        <td>0</td>\n",
       "        <td>None</td>\n",
       "        <td>0.0</td>\n",
       "        <td>None</td>\n",
       "        <td>200000</td>\n",
       "        <td>0</td>\n",
       "        <td>0</td>\n",
       "        <td>32.0007889310936</td>\n",
       "        <td>0.833918535700296</td>\n",
       "        <td>[31.9967866933154, 32.0047911688719]</td>\n",
       "        <td>30.0020976922364</td>\n",
       "        <td>33.9932399275613</td>\n",
       "        <td>31.2506718159847</td>\n",
       "        <td>32.0007082471155</td>\n",
       "        <td>32.7509473341128</td>\n",
       "        <td>[&#x27;31.3932971558727&#x27;, &#x27;33.8444383302385&#x27;, &#x27;31.5795452103724&#x27;, &#x27;33.8818330236875&#x27;, &#x27;31.0313808295486&#x27;, &#x27;33.8943804292179&#x27;, &#x27;32.6327097344443&#x27;, &#x27;33.3490872942522&#x27;, &#x27;33.9432526161229&#x27;, &#x27;31.4823716656718&#x27;]</td>\n",
       "        <td>[203, 200, 198, 197, 197, 196, 196, 195, 195, 195]</td>\n",
       "    </tr>\n",
       "    <tr>\n",
       "        <td>None</td>\n",
       "        <td>None</td>\n",
       "        <td>temperature_2</td>\n",
       "        <td>3</td>\n",
       "        <td>float8</td>\n",
       "        <td>200000</td>\n",
       "        <td>200000</td>\n",
       "        <td>0</td>\n",
       "        <td>None</td>\n",
       "        <td>0.0</td>\n",
       "        <td>None</td>\n",
       "        <td>200000</td>\n",
       "        <td>0</td>\n",
       "        <td>0</td>\n",
       "        <td>46.99570081252</td>\n",
       "        <td>9.80804681581064</td>\n",
       "        <td>[46.9819751809048, 47.0094264441353]</td>\n",
       "        <td>32.2943907804811</td>\n",
       "        <td>61.6835823795163</td>\n",
       "        <td>44.8807517740374</td>\n",
       "        <td>46.9961843733011</td>\n",
       "        <td>49.112212070946</td>\n",
       "        <td>[&#x27;42.8628249997972&#x27;, &#x27;46.2961020468257&#x27;, &#x27;42.9294297680159&#x27;, &#x27;46.4703125482933&#x27;, &#x27;48.7487345239526&#x27;, &#x27;48.7806386222297&#x27;, &#x27;49.144793481834&#x27;, &#x27;46.975547806341&#x27;, &#x27;42.8821627879667&#x27;, &#x27;49.229923440211&#x27;]</td>\n",
       "        <td>[200, 199, 197, 197, 197, 197, 197, 195, 195, 195]</td>\n",
       "    </tr>\n",
       "    <tr>\n",
       "        <td>None</td>\n",
       "        <td>None</td>\n",
       "        <td>humidity</td>\n",
       "        <td>4</td>\n",
       "        <td>float8</td>\n",
       "        <td>200000</td>\n",
       "        <td>200000</td>\n",
       "        <td>0</td>\n",
       "        <td>None</td>\n",
       "        <td>0.0</td>\n",
       "        <td>None</td>\n",
       "        <td>199916</td>\n",
       "        <td>84</td>\n",
       "        <td>0</td>\n",
       "        <td>50.0315077284911</td>\n",
       "        <td>224.568211224609</td>\n",
       "        <td>[49.96583044017, 50.0971850168121]</td>\n",
       "        <td>-20.3266268501857</td>\n",
       "        <td>118.488627743178</td>\n",
       "        <td>39.9160404829</td>\n",
       "        <td>50.0412446801503</td>\n",
       "        <td>60.1484803615784</td>\n",
       "        <td>[&#x27;58.9158137497979&#x27;, &#x27;80.0789399962446&#x27;, &#x27;44.2457888796278&#x27;, &#x27;55.8862087263258&#x27;, &#x27;52.8395028802385&#x27;, &#x27;48.1874356164745&#x27;, &#x27;34.626048851087&#x27;, &#x27;70.7856436542663&#x27;, &#x27;81.0299847843547&#x27;, &#x27;71.5458767971577&#x27;]</td>\n",
       "        <td>[201, 200, 197, 197, 195, 195, 195, 194, 194, 194]</td>\n",
       "    </tr>\n",
       "    <tr>\n",
       "        <td>None</td>\n",
       "        <td>None</td>\n",
       "        <td>pm25</td>\n",
       "        <td>5</td>\n",
       "        <td>float8</td>\n",
       "        <td>200000</td>\n",
       "        <td>200000</td>\n",
       "        <td>0</td>\n",
       "        <td>None</td>\n",
       "        <td>0.0</td>\n",
       "        <td>None</td>\n",
       "        <td>200000</td>\n",
       "        <td>0</td>\n",
       "        <td>0</td>\n",
       "        <td>94.9567258520899</td>\n",
       "        <td>232.817325311203</td>\n",
       "        <td>[94.8898531731801, 95.0235985309998]</td>\n",
       "        <td>24.4732311088685</td>\n",
       "        <td>161.947176404423</td>\n",
       "        <td>84.6258824447947</td>\n",
       "        <td>94.9361338249605</td>\n",
       "        <td>105.200500570932</td>\n",
       "        <td>[&#x27;110.093321462668&#x27;, &#x27;111.01717457287&#x27;, &#x27;81.7457248393064&#x27;, &#x27;106.088352504439&#x27;, &#x27;112.151830742776&#x27;, &#x27;121.621991021437&#x27;, &#x27;115.516321815534&#x27;, &#x27;102.934273187021&#x27;, &#x27;99.3499201947927&#x27;, &#x27;109.355399317529&#x27;]</td>\n",
       "        <td>[200, 197, 196, 196, 195, 195, 195, 195, 195, 194]</td>\n",
       "    </tr>\n",
       "</table>"
      ],
      "text/plain": [
       "[(None, None, '\"timestamp\"', 1, 'timestamp', 200000, 200000, 0, None, 0.0, None, None, None, None, None, None, None, None, None, None, None, None, ['2019-07-25 11:00:00', '2019-12-01 19:00:00', '2018-11-27 14:00:00', '2019-11-26 21:00:00', '2019-01-25 21:00:00', '2019-04-19 15:00:00', '2019-06-20 09:00:00', '2019-07-25 22:00:00', '2019-08-31 14:00:00', '2019-11-30 16:00:00'], [204, 203, 196, 196, 196, 196, 196, 195, 195, 195]),\n",
       " (None, None, 'temperature', 2, 'float8', 200000, 200000, 0, None, 0.0, None, 200000, 0, 0, 32.0007889310936, 0.833918535700296, [31.9967866933154, 32.0047911688719], 30.0020976922364, 33.9932399275613, 31.2506718159847, 32.0007082471155, 32.7509473341128, ['31.3932971558727', '33.8444383302385', '31.5795452103724', '33.8818330236875', '31.0313808295486', '33.8943804292179', '32.6327097344443', '33.3490872942522', '33.9432526161229', '31.4823716656718'], [203, 200, 198, 197, 197, 196, 196, 195, 195, 195]),\n",
       " (None, None, 'temperature_2', 3, 'float8', 200000, 200000, 0, None, 0.0, None, 200000, 0, 0, 46.99570081252, 9.80804681581064, [46.9819751809048, 47.0094264441353], 32.2943907804811, 61.6835823795163, 44.8807517740374, 46.9961843733011, 49.112212070946, ['42.8628249997972', '46.2961020468257', '42.9294297680159', '46.4703125482933', '48.7487345239526', '48.7806386222297', '49.144793481834', '46.975547806341', '42.8821627879667', '49.229923440211'], [200, 199, 197, 197, 197, 197, 197, 195, 195, 195]),\n",
       " (None, None, 'humidity', 4, 'float8', 200000, 200000, 0, None, 0.0, None, 199916, 84, 0, 50.0315077284911, 224.568211224609, [49.96583044017, 50.0971850168121], -20.3266268501857, 118.488627743178, 39.9160404829, 50.0412446801503, 60.1484803615784, ['58.9158137497979', '80.0789399962446', '44.2457888796278', '55.8862087263258', '52.8395028802385', '48.1874356164745', '34.626048851087', '70.7856436542663', '81.0299847843547', '71.5458767971577'], [201, 200, 197, 197, 195, 195, 195, 194, 194, 194]),\n",
       " (None, None, 'pm25', 5, 'float8', 200000, 200000, 0, None, 0.0, None, 200000, 0, 0, 94.9567258520899, 232.817325311203, [94.8898531731801, 95.0235985309998], 24.4732311088685, 161.947176404423, 84.6258824447947, 94.9361338249605, 105.200500570932, ['110.093321462668', '111.01717457287', '81.7457248393064', '106.088352504439', '112.151830742776', '121.621991021437', '115.516321815534', '102.934273187021', '99.3499201947927', '109.355399317529'], [200, 197, 196, 196, 195, 195, 195, 195, 195, 194])]"
      ]
     },
     "execution_count": 31,
     "metadata": {},
     "output_type": "execute_result"
    }
   ],
   "source": [
    "%%sql\n",
    "DROP TABLE IF EXISTS sensors_summary ;\n",
    "SELECT madlib.summary (\n",
    "    'sensors_encoded',  -- source_table\n",
    "    'sensors_summary',  -- output_table\n",
    "    NULL,  -- target_cols\n",
    "    NULL,  -- grouping_cols\n",
    "    TRUE,  -- get_distinct\n",
    "    TRUE,  -- get_quartiles\n",
    "    NULL,  -- quantile_array\n",
    "    10,    -- how_many_mfv\n",
    "    FALSE  -- get_estimate\n",
    ");\n",
    "\n",
    "SELECT * FROM sensors_summary LIMIT 5;"
   ]
  },
  {
   "cell_type": "markdown",
   "id": "7bd5abdf-738a-4dbc-9b4e-9287f979d6e3",
   "metadata": {},
   "source": [
    "### Correlation"
   ]
  },
  {
   "cell_type": "code",
   "execution_count": 33,
   "id": "8c52a0c0-1f31-41f2-91eb-4ebab8590a06",
   "metadata": {
    "execution": {
     "iopub.execute_input": "2021-10-05T06:48:59.807014Z",
     "iopub.status.busy": "2021-10-05T06:48:59.806777Z",
     "iopub.status.idle": "2021-10-05T06:49:04.293093Z",
     "shell.execute_reply": "2021-10-05T06:49:04.292308Z",
     "shell.execute_reply.started": "2021-10-05T06:48:59.806989Z"
    },
    "tags": []
   },
   "outputs": [
    {
     "name": "stdout",
     "output_type": "stream",
     "text": [
      " * postgresql://gpadmin@192.168.133.128:32000/db\n",
      "Done.\n",
      "Done.\n",
      "1 rows affected.\n"
     ]
    },
    {
     "data": {
      "text/html": [
       "<table>\n",
       "    <tr>\n",
       "        <th>correlation</th>\n",
       "    </tr>\n",
       "    <tr>\n",
       "        <td>Summary for &#x27;Correlation&#x27; function<br>Output table = sensors_correlations<br>Producing correlation for columns: temperature,temperature_2,humidity,pm25,rain<br>Total run time = (&#x27;sensors_correlations&#x27;, 5, 4.205750942230225)</td>\n",
       "    </tr>\n",
       "</table>"
      ],
      "text/plain": [
       "[(\"Summary for 'Correlation' function\\nOutput table = sensors_correlations\\nProducing correlation for columns: temperature,temperature_2,humidity,pm25,rain\\nTotal run time = ('sensors_correlations', 5, 4.205750942230225)\",)]"
      ]
     },
     "execution_count": 33,
     "metadata": {},
     "output_type": "execute_result"
    }
   ],
   "source": [
    "%%sql\n",
    "DROP TABLE IF EXISTS sensors_correlations;\n",
    "DROP TABLE IF EXISTS sensors_correlations_summary;\n",
    "\n",
    "SELECT \n",
    "madlib.correlation(\n",
    "    'sensors_encoded', -- source_table\n",
    "    'sensors_correlations',  -- target_table\n",
    "    'temperature,temperature_2,humidity,pm25,rain',\n",
    "    TRUE -- verbose\n",
    ")"
   ]
  },
  {
   "cell_type": "code",
   "execution_count": 34,
   "id": "c8a78b79-a4e0-4e66-a3c0-51b2ae7d6f7d",
   "metadata": {
    "execution": {
     "iopub.execute_input": "2021-10-05T06:49:14.182924Z",
     "iopub.status.busy": "2021-10-05T06:49:14.182659Z",
     "iopub.status.idle": "2021-10-05T06:49:14.201476Z",
     "shell.execute_reply": "2021-10-05T06:49:14.200855Z",
     "shell.execute_reply.started": "2021-10-05T06:49:14.182897Z"
    },
    "tags": []
   },
   "outputs": [
    {
     "name": "stdout",
     "output_type": "stream",
     "text": [
      " * postgresql://gpadmin@192.168.133.128:32000/db\n",
      "5 rows affected.\n",
      "temperature,temperature_2,humidity,pm25,rain\n"
     ]
    }
   ],
   "source": [
    "Index = %sql SELECT variable FROM sensors_correlations ORDER BY column_position;\n",
    "Index = Index.DataFrame();\n",
    "\n",
    "columns =  ','.join(','.join('%s' %x for x in y) for y in Index.values)\n",
    "print(columns)"
   ]
  },
  {
   "cell_type": "code",
   "execution_count": 35,
   "id": "b32a1a33-56d2-4936-b6f8-5e102609570e",
   "metadata": {
    "execution": {
     "iopub.execute_input": "2021-10-05T06:49:14.582913Z",
     "iopub.status.busy": "2021-10-05T06:49:14.582712Z",
     "iopub.status.idle": "2021-10-05T06:49:14.591979Z",
     "shell.execute_reply": "2021-10-05T06:49:14.591371Z",
     "shell.execute_reply.started": "2021-10-05T06:49:14.582893Z"
    },
    "tags": []
   },
   "outputs": [
    {
     "name": "stdout",
     "output_type": "stream",
     "text": [
      " * postgresql://gpadmin@192.168.133.128:32000/db\n",
      "5 rows affected.\n"
     ]
    }
   ],
   "source": [
    "corr = %sql select variable,{columns} from sensors_correlations ORDER BY column_position;\n",
    "corr = corr.DataFrame()"
   ]
  },
  {
   "cell_type": "code",
   "execution_count": 36,
   "id": "f41fdac5-84c3-4334-af94-bea626fe8f9c",
   "metadata": {
    "execution": {
     "iopub.execute_input": "2021-10-05T06:49:15.152147Z",
     "iopub.status.busy": "2021-10-05T06:49:15.151821Z",
     "iopub.status.idle": "2021-10-05T06:49:15.414095Z",
     "shell.execute_reply": "2021-10-05T06:49:15.413240Z",
     "shell.execute_reply.started": "2021-10-05T06:49:15.152115Z"
    },
    "tags": []
   },
   "outputs": [
    {
     "data": {
      "image/png": "[encoded data removed]",
      "text/plain": [
       "<Figure size 432x288 with 2 Axes>"
      ]
     },
     "metadata": {
      "needs_background": "light"
     },
     "output_type": "display_data"
    }
   ],
   "source": [
    "corr_df=corr.set_index('variable')\n",
    "plt.title('Sensors Value Correlation')\n",
    "sns.heatmap(corr_df,annot=True);"
   ]
  },
  {
   "cell_type": "markdown",
   "id": "cb2758d4-4918-45cc-a964-d70482665e55",
   "metadata": {},
   "source": [
    "### Split Data for training and testing"
   ]
  },
  {
   "cell_type": "code",
   "execution_count": 8,
   "id": "cf84fb1c-0f22-43ea-899a-030d14067570",
   "metadata": {
    "execution": {
     "iopub.execute_input": "2021-10-05T11:10:11.245855Z",
     "iopub.status.busy": "2021-10-05T11:10:11.245616Z",
     "iopub.status.idle": "2021-10-05T11:10:24.750295Z",
     "shell.execute_reply": "2021-10-05T11:10:24.749668Z",
     "shell.execute_reply.started": "2021-10-05T11:10:11.245829Z"
    },
    "tags": []
   },
   "outputs": [
    {
     "name": "stdout",
     "output_type": "stream",
     "text": [
      " * postgresql://gpadmin@192.168.133.128:32000/db\n",
      "Done.\n",
      "Done.\n",
      "Done.\n",
      "1 rows affected.\n",
      "1 rows affected.\n"
     ]
    },
    {
     "data": {
      "text/html": [
       "<table>\n",
       "    <tr>\n",
       "        <th># In training set</th>\n",
       "    </tr>\n",
       "    <tr>\n",
       "        <td>140000</td>\n",
       "    </tr>\n",
       "</table>"
      ],
      "text/plain": [
       "[(140000,)]"
      ]
     },
     "execution_count": 8,
     "metadata": {},
     "output_type": "execute_result"
    }
   ],
   "source": [
    "%%sql\n",
    "DROP TABLE IF EXISTS sensors_split CASCADE;\n",
    "DROP TABLE IF EXISTS sensors_split_train CASCADE;\n",
    "DROP TABLE IF EXISTS sensors_split_test CASCADE;\n",
    "\n",
    "SELECT madlib.train_test_split(\n",
    "    'sensors_encoded', -- source_table,\n",
    "    'sensors_split', -- output_table,\n",
    "    0.7, -- train_proportion,\n",
    "    NULL, -- test_proportion,\n",
    "    NULL, -- grouping_cols,\n",
    "    'temperature,temperature_2,rain,humidity,pm25,\n",
    "    \"month_January\",\"month_February\",\"month_March\",\n",
    "    \"month_April\",\"month_May\",\"month_June\",\"month_July\",\n",
    "    \"month_August\",\"month_September\",\"month_October\",\n",
    "    \"month_November\",\"month_December\"', -- target_cols\n",
    "    FALSE, -- with_replacement,\n",
    "    TRUE -- separate_output_tables\n",
    ");\n",
    "\n",
    "SELECT COUNT(*) as \"# In training set\" FROM sensors_split_train;"
   ]
  },
  {
   "cell_type": "code",
   "execution_count": 88,
   "id": "814ef9bd-7352-4c4c-9323-5de28c4c6108",
   "metadata": {
    "execution": {
     "iopub.execute_input": "2021-10-05T09:51:01.728241Z",
     "iopub.status.busy": "2021-10-05T09:51:01.727979Z",
     "iopub.status.idle": "2021-10-05T09:51:01.740182Z",
     "shell.execute_reply": "2021-10-05T09:51:01.739341Z",
     "shell.execute_reply.started": "2021-10-05T09:51:01.728215Z"
    },
    "tags": []
   },
   "outputs": [
    {
     "name": "stdout",
     "output_type": "stream",
     "text": [
      " * postgresql://gpadmin@192.168.133.128:32000/db\n",
      "5 rows affected.\n"
     ]
    },
    {
     "data": {
      "text/html": [
       "<table>\n",
       "    <tr>\n",
       "        <th>temperature</th>\n",
       "        <th>temperature_2</th>\n",
       "        <th>rain</th>\n",
       "        <th>humidity</th>\n",
       "        <th>pm25</th>\n",
       "        <th>month_January</th>\n",
       "        <th>month_February</th>\n",
       "        <th>month_March</th>\n",
       "        <th>month_April</th>\n",
       "        <th>month_May</th>\n",
       "        <th>month_June</th>\n",
       "        <th>month_July</th>\n",
       "        <th>month_August</th>\n",
       "        <th>month_September</th>\n",
       "        <th>month_October</th>\n",
       "        <th>month_November</th>\n",
       "        <th>month_December</th>\n",
       "    </tr>\n",
       "    <tr>\n",
       "        <td>30.0079147791454</td>\n",
       "        <td>43.7874161394457</td>\n",
       "        <td>0</td>\n",
       "        <td>50.8769455862996</td>\n",
       "        <td>72.2157756577628</td>\n",
       "        <td>0</td>\n",
       "        <td>0</td>\n",
       "        <td>0</td>\n",
       "        <td>0</td>\n",
       "        <td>1</td>\n",
       "        <td>0</td>\n",
       "        <td>0</td>\n",
       "        <td>0</td>\n",
       "        <td>0</td>\n",
       "        <td>0</td>\n",
       "        <td>0</td>\n",
       "        <td>0</td>\n",
       "    </tr>\n",
       "    <tr>\n",
       "        <td>30.0354904628973</td>\n",
       "        <td>43.4561260855285</td>\n",
       "        <td>0</td>\n",
       "        <td>58.6699979493381</td>\n",
       "        <td>97.7916176662636</td>\n",
       "        <td>0</td>\n",
       "        <td>0</td>\n",
       "        <td>0</td>\n",
       "        <td>0</td>\n",
       "        <td>0</td>\n",
       "        <td>0</td>\n",
       "        <td>0</td>\n",
       "        <td>1</td>\n",
       "        <td>0</td>\n",
       "        <td>0</td>\n",
       "        <td>0</td>\n",
       "        <td>0</td>\n",
       "    </tr>\n",
       "    <tr>\n",
       "        <td>30.0388041633031</td>\n",
       "        <td>48.5560429158007</td>\n",
       "        <td>0</td>\n",
       "        <td>52.5095497492418</td>\n",
       "        <td>110.652823406246</td>\n",
       "        <td>0</td>\n",
       "        <td>0</td>\n",
       "        <td>0</td>\n",
       "        <td>0</td>\n",
       "        <td>0</td>\n",
       "        <td>1</td>\n",
       "        <td>0</td>\n",
       "        <td>0</td>\n",
       "        <td>0</td>\n",
       "        <td>0</td>\n",
       "        <td>0</td>\n",
       "        <td>0</td>\n",
       "    </tr>\n",
       "    <tr>\n",
       "        <td>30.0388661948235</td>\n",
       "        <td>42.8682580129951</td>\n",
       "        <td>0</td>\n",
       "        <td>56.8999425635809</td>\n",
       "        <td>82.489848383648</td>\n",
       "        <td>0</td>\n",
       "        <td>0</td>\n",
       "        <td>0</td>\n",
       "        <td>0</td>\n",
       "        <td>0</td>\n",
       "        <td>0</td>\n",
       "        <td>0</td>\n",
       "        <td>0</td>\n",
       "        <td>0</td>\n",
       "        <td>0</td>\n",
       "        <td>1</td>\n",
       "        <td>0</td>\n",
       "    </tr>\n",
       "    <tr>\n",
       "        <td>30.041992680022</td>\n",
       "        <td>48.6491852514098</td>\n",
       "        <td>1</td>\n",
       "        <td>64.7066467059164</td>\n",
       "        <td>97.9150725439845</td>\n",
       "        <td>0</td>\n",
       "        <td>1</td>\n",
       "        <td>0</td>\n",
       "        <td>0</td>\n",
       "        <td>0</td>\n",
       "        <td>0</td>\n",
       "        <td>0</td>\n",
       "        <td>0</td>\n",
       "        <td>0</td>\n",
       "        <td>0</td>\n",
       "        <td>0</td>\n",
       "        <td>0</td>\n",
       "    </tr>\n",
       "</table>"
      ],
      "text/plain": [
       "[(30.0079147791454, 43.7874161394457, 0, 50.8769455862996, 72.2157756577628, 0, 0, 0, 0, 1, 0, 0, 0, 0, 0, 0, 0),\n",
       " (30.0354904628973, 43.4561260855285, 0, 58.6699979493381, 97.7916176662636, 0, 0, 0, 0, 0, 0, 0, 1, 0, 0, 0, 0),\n",
       " (30.0388041633031, 48.5560429158007, 0, 52.5095497492418, 110.652823406246, 0, 0, 0, 0, 0, 1, 0, 0, 0, 0, 0, 0),\n",
       " (30.0388661948235, 42.8682580129951, 0, 56.8999425635809, 82.489848383648, 0, 0, 0, 0, 0, 0, 0, 0, 0, 0, 1, 0),\n",
       " (30.041992680022, 48.6491852514098, 1, 64.7066467059164, 97.9150725439845, 0, 1, 0, 0, 0, 0, 0, 0, 0, 0, 0, 0)]"
      ]
     },
     "execution_count": 88,
     "metadata": {},
     "output_type": "execute_result"
    }
   ],
   "source": [
    "%%sql\n",
    "SELECT * FROM sensors_split_train LIMIT 5;"
   ]
  },
  {
   "cell_type": "code",
   "execution_count": 9,
   "id": "5182b728-3fce-45d6-8b20-44e5626422be",
   "metadata": {
    "execution": {
     "iopub.execute_input": "2021-10-05T11:10:27.782227Z",
     "iopub.status.busy": "2021-10-05T11:10:27.781988Z",
     "iopub.status.idle": "2021-10-05T11:10:27.807731Z",
     "shell.execute_reply": "2021-10-05T11:10:27.807046Z",
     "shell.execute_reply.started": "2021-10-05T11:10:27.782201Z"
    },
    "tags": []
   },
   "outputs": [
    {
     "name": "stdout",
     "output_type": "stream",
     "text": [
      " * postgresql://gpadmin@192.168.133.128:32000/db\n",
      "1 rows affected.\n",
      " * postgresql://gpadmin@192.168.133.128:32000/db\n",
      "1 rows affected.\n",
      "\n",
      "Total rain in training set 35329\n",
      "Total rain in testing set 15286\n"
     ]
    }
   ],
   "source": [
    "train_rain = %sql SELECT COUNT(*) FROM sensors_split_train WHERE rain = 1;\n",
    "test_rain = %sql SELECT COUNT(*) FROM sensors_split_test WHERE rain = 1;\n",
    "\n",
    "print(\"\\nTotal rain in training set {}\".format(train_rain[0][0]))\n",
    "print(\"Total rain in testing set {}\".format(test_rain[0][0]))"
   ]
  },
  {
   "cell_type": "code",
   "execution_count": 11,
   "id": "47cef1f8-6dda-45a5-aa1e-916744a8075e",
   "metadata": {
    "execution": {
     "iopub.execute_input": "2021-10-05T11:10:32.281520Z",
     "iopub.status.busy": "2021-10-05T11:10:32.281255Z",
     "iopub.status.idle": "2021-10-05T11:10:32.489847Z",
     "shell.execute_reply": "2021-10-05T11:10:32.489403Z",
     "shell.execute_reply.started": "2021-10-05T11:10:32.281492Z"
    },
    "tags": []
   },
   "outputs": [
    {
     "data": {
      "image/png": "[encoded data removed]",
      "text/plain": [
       "<Figure size 792x432 with 2 Axes>"
      ]
     },
     "metadata": {},
     "output_type": "display_data"
    }
   ],
   "source": [
    "train_data=[train_rain[0][0],int((200000*0.7)-train_rain[0][0])]\n",
    "test_data=[test_rain[0][0],int((200000*0.3)-test_rain[0][0])]\n",
    "\n",
    "labels = ['rain','not_rain']\n",
    "\n",
    "f, (ax1, ax2) = plt.subplots(1, 2,figsize=(11,6))\n",
    "f.patch.set_facecolor('white')\n",
    "ax1.title.set_text('Training Set')\n",
    "ax2.title.set_text('Testing Set')\n",
    "f.suptitle(\"Rain Train/Test Distribution\",fontsize=15)\n",
    "ax1.pie(train_data,labels=labels,autopct=\"%.1f%%\",radius=1.2,textprops={'fontsize': 15,},explode = [0.1, 0],startangle = -30);\n",
    "ax2.pie(test_data,labels=labels,autopct=\"%.1f%%\",radius=1.2,textprops={'fontsize': 15},explode = [0.1, 0], startangle = -30);\n",
    "plt.tight_layout()"
   ]
  },
  {
   "cell_type": "markdown",
   "id": "0b672e9d-0cf5-4e27-9fb9-c1a8371f2b0a",
   "metadata": {},
   "source": [
    "### Classification Model Training ( Logistic Regresion )"
   ]
  },
  {
   "cell_type": "code",
   "execution_count": 17,
   "id": "a6312323-db88-4451-b4a4-d4554fecfd54",
   "metadata": {
    "execution": {
     "iopub.execute_input": "2021-10-05T12:55:04.153200Z",
     "iopub.status.busy": "2021-10-05T12:55:04.152918Z",
     "iopub.status.idle": "2021-10-05T12:55:20.146897Z",
     "shell.execute_reply": "2021-10-05T12:55:20.146280Z",
     "shell.execute_reply.started": "2021-10-05T12:55:04.153169Z"
    },
    "tags": []
   },
   "outputs": [
    {
     "name": "stdout",
     "output_type": "stream",
     "text": [
      " * postgresql://gpadmin@192.168.133.128:32000/db\n",
      "Done.\n",
      "Done.\n",
      "1 rows affected.\n",
      "1 rows affected.\n"
     ]
    },
    {
     "data": {
      "text/html": [
       "<table>\n",
       "    <tr>\n",
       "        <th>method</th>\n",
       "        <th>source_table</th>\n",
       "        <th>out_table</th>\n",
       "        <th>dependent_varname</th>\n",
       "        <th>independent_varname</th>\n",
       "        <th>optimizer_params</th>\n",
       "        <th>num_all_groups</th>\n",
       "        <th>num_failed_groups</th>\n",
       "        <th>num_rows_processed</th>\n",
       "        <th>num_missing_rows_skipped</th>\n",
       "        <th>grouping_col</th>\n",
       "    </tr>\n",
       "    <tr>\n",
       "        <td>logregr</td>\n",
       "        <td>sensors_split_train</td>\n",
       "        <td>sensors_logreg_model</td>\n",
       "        <td>rain</td>\n",
       "        <td>ARRAY[<br>            1,<br>            temperature,<br>            temperature_2,<br>            humidity,pm25,<br>            &quot;month_January&quot;,&quot;month_February&quot;,&quot;month_March&quot;,<br>            &quot;month_April&quot;,&quot;month_May&quot;,&quot;month_June&quot;,<br>            &quot;month_July&quot;,&quot;month_August&quot;,&quot;month_September&quot;,<br>            &quot;month_October&quot;,&quot;month_November&quot;,&quot;month_December&quot;]</td>\n",
       "        <td>optimizer=irls, max_iter=20, tolerance=0.0001</td>\n",
       "        <td>1</td>\n",
       "        <td>0</td>\n",
       "        <td>140000</td>\n",
       "        <td>0</td>\n",
       "        <td>None</td>\n",
       "    </tr>\n",
       "</table>"
      ],
      "text/plain": [
       "[('logregr', 'sensors_split_train', 'sensors_logreg_model', 'rain', 'ARRAY[\\n            1,\\n            temperature,\\n            temperature_2,\\n            humidity,pm25,\\n            \"month_January\",\"month_February ... (44 characters truncated) ... \"month_May\",\"month_June\",\\n            \"month_July\",\"month_August\",\"month_September\",\\n            \"month_October\",\"month_November\",\"month_December\"]', 'optimizer=irls, max_iter=20, tolerance=0.0001', 1, 0, 140000, 0, None)]"
      ]
     },
     "execution_count": 17,
     "metadata": {},
     "output_type": "execute_result"
    }
   ],
   "source": [
    "%%sql\n",
    "DROP TABLE IF EXISTS sensors_logreg_model;\n",
    "DROP TABLE IF EXISTS sensors_logreg_model_summary;\n",
    "\n",
    "SELECT\n",
    "    madlib.logregr_train(        -- Train the Logistic Regression Model\n",
    "        'sensors_split_train',   -- source_table,\n",
    "        'sensors_logreg_model',  -- out_table,\n",
    "        'rain',                  -- labels,\n",
    "        'ARRAY[\n",
    "            1,\n",
    "            temperature,\n",
    "            temperature_2,\n",
    "            humidity,pm25,\n",
    "            \"month_January\",\"month_February\",\"month_March\",\n",
    "            \"month_April\",\"month_May\",\"month_June\",\n",
    "            \"month_July\",\"month_August\",\"month_September\",\n",
    "            \"month_October\",\"month_November\",\"month_December\"]'       -- feature\n",
    "        --, -- grouping_cols,\n",
    "        --, -- max_iter,\n",
    "        --, -- optimizer,\n",
    "        --, -- tolerance,\n",
    "        -- verbose\n",
    "    )\n",
    ";\n",
    "SELECT * FROM sensors_logreg_model_summary ;           --- Get the summary table"
   ]
  },
  {
   "cell_type": "code",
   "execution_count": 19,
   "id": "1ec1bd8c-503a-441d-b57b-5214db53c726",
   "metadata": {
    "execution": {
     "iopub.execute_input": "2021-10-05T12:55:30.989836Z",
     "iopub.status.busy": "2021-10-05T12:55:30.989597Z",
     "iopub.status.idle": "2021-10-05T12:55:30.999485Z",
     "shell.execute_reply": "2021-10-05T12:55:30.998876Z",
     "shell.execute_reply.started": "2021-10-05T12:55:30.989812Z"
    },
    "tags": []
   },
   "outputs": [
    {
     "name": "stdout",
     "output_type": "stream",
     "text": [
      " * postgresql://gpadmin@192.168.133.128:32000/db\n",
      "1 rows affected.\n"
     ]
    }
   ],
   "source": [
    "logreg_coefs = %sql SELECT coef FROM sensors_logreg_model ;\n",
    "logreg_coefs = logreg_coefs.DataFrame();"
   ]
  },
  {
   "cell_type": "code",
   "execution_count": 22,
   "id": "06d96b9e-456a-4c1d-8b53-f734989e797d",
   "metadata": {
    "execution": {
     "iopub.execute_input": "2021-10-05T12:55:39.306744Z",
     "iopub.status.busy": "2021-10-05T12:55:39.306505Z",
     "iopub.status.idle": "2021-10-05T12:55:39.313369Z",
     "shell.execute_reply": "2021-10-05T12:55:39.312668Z",
     "shell.execute_reply.started": "2021-10-05T12:55:39.306720Z"
    },
    "tags": []
   },
   "outputs": [
    {
     "data": {
      "text/plain": [
       "(('intercept', -15357.3971366926),\n",
       " ('temperature', -0.330659400026431),\n",
       " ('temperature_2', -0.0352642101099704),\n",
       " ('humidity', 277.473562503896),\n",
       " ('pm25', 0.00836221440637912),\n",
       " ('month_January', -1280.07936263549),\n",
       " ('month_February', -1279.62007576849),\n",
       " ('month_March', -1279.36019451503),\n",
       " ('month_April', -1280.01651823909),\n",
       " ('month_May', -1279.81121856745),\n",
       " ('month_June', -1278.40584862808),\n",
       " ('month_July', -1280.20878496331),\n",
       " ('month_August', -1278.83340008441),\n",
       " ('month_September', -1279.95227289708),\n",
       " ('month_October', -1279.2771211395),\n",
       " ('month_November', -1279.80808973521),\n",
       " ('month_December', -1282.02414832183))"
      ]
     },
     "execution_count": 22,
     "metadata": {},
     "output_type": "execute_result"
    }
   ],
   "source": [
    "logreg_coef_names = (\n",
    "    'intercept',\n",
    "    'temperature',\n",
    "    'temperature_2',\n",
    "    'humidity',\n",
    "    'pm25',\n",
    "    \"month_January\",\"month_February\",\"month_March\",\n",
    "    \"month_April\",\"month_May\",\"month_June\",\"month_July\",\n",
    "    \"month_August\",\"month_September\",\"month_October\",\n",
    "    \"month_November\",\"month_December\"\n",
    ")\n",
    "tuple(zip(logreg_coef_names, logreg_coefs.iloc[0, 0]))"
   ]
  },
  {
   "cell_type": "code",
   "execution_count": 29,
   "id": "6bbcab2d-5ba8-4240-ae5d-1658c30f30ae",
   "metadata": {
    "execution": {
     "iopub.execute_input": "2021-10-05T13:06:56.953511Z",
     "iopub.status.busy": "2021-10-05T13:06:56.953251Z",
     "iopub.status.idle": "2021-10-05T13:06:57.821284Z",
     "shell.execute_reply": "2021-10-05T13:06:57.820651Z",
     "shell.execute_reply.started": "2021-10-05T13:06:56.953484Z"
    },
    "tags": []
   },
   "outputs": [
    {
     "name": "stdout",
     "output_type": "stream",
     "text": [
      " * postgresql://gpadmin@192.168.133.128:32000/db\n",
      "Done.\n",
      "60000 rows affected.\n",
      "10 rows affected.\n"
     ]
    },
    {
     "data": {
      "text/html": [
       "<table>\n",
       "    <tr>\n",
       "        <th>pred</th>\n",
       "        <th>y_test</th>\n",
       "    </tr>\n",
       "    <tr>\n",
       "        <td>1.0</td>\n",
       "        <td>1</td>\n",
       "    </tr>\n",
       "    <tr>\n",
       "        <td>0.0</td>\n",
       "        <td>0</td>\n",
       "    </tr>\n",
       "    <tr>\n",
       "        <td>1.0</td>\n",
       "        <td>1</td>\n",
       "    </tr>\n",
       "    <tr>\n",
       "        <td>9.48405269040216e-263</td>\n",
       "        <td>0</td>\n",
       "    </tr>\n",
       "    <tr>\n",
       "        <td>2.53903929974864e-47</td>\n",
       "        <td>0</td>\n",
       "    </tr>\n",
       "    <tr>\n",
       "        <td>0.0</td>\n",
       "        <td>0</td>\n",
       "    </tr>\n",
       "    <tr>\n",
       "        <td>0.0</td>\n",
       "        <td>0</td>\n",
       "    </tr>\n",
       "    <tr>\n",
       "        <td>0.0</td>\n",
       "        <td>0</td>\n",
       "    </tr>\n",
       "    <tr>\n",
       "        <td>0.0</td>\n",
       "        <td>0</td>\n",
       "    </tr>\n",
       "    <tr>\n",
       "        <td>1.11541087094126e-268</td>\n",
       "        <td>0</td>\n",
       "    </tr>\n",
       "</table>"
      ],
      "text/plain": [
       "[(1.0, 1),\n",
       " (0.0, 0),\n",
       " (1.0, 1),\n",
       " (9.48405269040216e-263, 0),\n",
       " (2.53903929974864e-47, 0),\n",
       " (0.0, 0),\n",
       " (0.0, 0),\n",
       " (0.0, 0),\n",
       " (0.0, 0),\n",
       " (1.11541087094126e-268, 0)]"
      ]
     },
     "execution_count": 29,
     "metadata": {},
     "output_type": "execute_result"
    }
   ],
   "source": [
    "%%sql\n",
    "DROP TABLE IF EXISTS sensors_logreg_test_prob;\n",
    "CREATE TABLE sensors_logreg_test_prob\n",
    "AS\n",
    "SELECT madlib.logregr_predict_prob(   --- Use the logistic regression model to estimate probability of mature\n",
    "        coef, \n",
    "        ARRAY[\n",
    "            1,\n",
    "            temperature,\n",
    "            temperature_2,\n",
    "            humidity,\n",
    "            pm25,\n",
    "            \"month_January\",\"month_February\",\"month_March\",\n",
    "            \"month_April\",\"month_May\",\"month_June\",\"month_July\",\n",
    "            \"month_August\",\"month_September\",\"month_October\",\n",
    "            \"month_November\",\"month_December\"]                   \n",
    "    ) as pred,\n",
    "    test.rain as y_test\n",
    "FROM sensors_split_test test, sensors_logreg_model model;\n",
    "\n",
    "SELECT * FROM sensors_logreg_test_prob LIMIT 10;"
   ]
  },
  {
   "cell_type": "markdown",
   "id": "45298048-c0fb-428e-a3cc-8141472c943e",
   "metadata": {},
   "source": [
    "### Confusion Matrix"
   ]
  },
  {
   "cell_type": "code",
   "execution_count": 36,
   "id": "ee07e4d4-fefc-4127-93cf-304ad1e596f5",
   "metadata": {
    "execution": {
     "iopub.execute_input": "2021-10-05T13:14:12.891337Z",
     "iopub.status.busy": "2021-10-05T13:14:12.891095Z",
     "iopub.status.idle": "2021-10-05T13:14:13.227011Z",
     "shell.execute_reply": "2021-10-05T13:14:13.226438Z",
     "shell.execute_reply.started": "2021-10-05T13:14:12.891312Z"
    },
    "tags": []
   },
   "outputs": [
    {
     "name": "stdout",
     "output_type": "stream",
     "text": [
      " * postgresql://gpadmin@192.168.133.128:32000/db\n",
      "Done.\n",
      "60000 rows affected.\n",
      "10 rows affected.\n"
     ]
    },
    {
     "data": {
      "text/html": [
       "<table>\n",
       "    <tr>\n",
       "        <th>pred</th>\n",
       "        <th>y_test</th>\n",
       "    </tr>\n",
       "    <tr>\n",
       "        <td>1</td>\n",
       "        <td>1</td>\n",
       "    </tr>\n",
       "    <tr>\n",
       "        <td>1</td>\n",
       "        <td>1</td>\n",
       "    </tr>\n",
       "    <tr>\n",
       "        <td>0</td>\n",
       "        <td>0</td>\n",
       "    </tr>\n",
       "    <tr>\n",
       "        <td>0</td>\n",
       "        <td>0</td>\n",
       "    </tr>\n",
       "    <tr>\n",
       "        <td>1</td>\n",
       "        <td>1</td>\n",
       "    </tr>\n",
       "    <tr>\n",
       "        <td>0</td>\n",
       "        <td>0</td>\n",
       "    </tr>\n",
       "    <tr>\n",
       "        <td>0</td>\n",
       "        <td>0</td>\n",
       "    </tr>\n",
       "    <tr>\n",
       "        <td>0</td>\n",
       "        <td>0</td>\n",
       "    </tr>\n",
       "    <tr>\n",
       "        <td>0</td>\n",
       "        <td>0</td>\n",
       "    </tr>\n",
       "    <tr>\n",
       "        <td>0</td>\n",
       "        <td>0</td>\n",
       "    </tr>\n",
       "</table>"
      ],
      "text/plain": [
       "[(1, 1),\n",
       " (1, 1),\n",
       " (0, 0),\n",
       " (0, 0),\n",
       " (1, 1),\n",
       " (0, 0),\n",
       " (0, 0),\n",
       " (0, 0),\n",
       " (0, 0),\n",
       " (0, 0)]"
      ]
     },
     "execution_count": 36,
     "metadata": {},
     "output_type": "execute_result"
    }
   ],
   "source": [
    "%%sql\n",
    "DROP TABLE IF EXISTS sensors_logreg_test_predict ;\n",
    "CREATE TABLE sensors_logreg_test_predict\n",
    "AS\n",
    "SELECT\n",
    "    (pred >= 0.5)::integer as pred,\n",
    "    y_test\n",
    "FROM sensors_logreg_test_prob;\n",
    "\n",
    "\n",
    "SELECT * FROM sensors_logreg_test_predict LIMIT 10;"
   ]
  },
  {
   "cell_type": "code",
   "execution_count": 81,
   "id": "3470ce5a-ed26-4f7f-b5db-b0ac8ed83fd0",
   "metadata": {
    "execution": {
     "iopub.execute_input": "2021-10-05T15:21:10.743017Z",
     "iopub.status.busy": "2021-10-05T15:21:10.742764Z",
     "iopub.status.idle": "2021-10-05T15:21:11.822488Z",
     "shell.execute_reply": "2021-10-05T15:21:11.821772Z",
     "shell.execute_reply.started": "2021-10-05T15:21:10.742989Z"
    },
    "tags": []
   },
   "outputs": [
    {
     "name": "stdout",
     "output_type": "stream",
     "text": [
      " * postgresql://gpadmin@192.168.133.128:32000/db\n",
      "Done.\n",
      "1 rows affected.\n"
     ]
    },
    {
     "data": {
      "text/html": [
       "<table>\n",
       "    <tr>\n",
       "        <th>confusion_matrix</th>\n",
       "    </tr>\n",
       "    <tr>\n",
       "        <td></td>\n",
       "    </tr>\n",
       "</table>"
      ],
      "text/plain": [
       "[('',)]"
      ]
     },
     "execution_count": 81,
     "metadata": {},
     "output_type": "execute_result"
    }
   ],
   "source": [
    "%%sql\n",
    "DROP TABLE IF EXISTS sensors_logreg_test_conf_matrix;\n",
    "SELECT\n",
    "madlib.confusion_matrix(\n",
    "    'sensors_logreg_test_predict',\n",
    "    'sensors_logreg_test_conf_matrix',\n",
    "    'pred',  -- prediction_col\n",
    "    'y_test' -- observation_col\n",
    ");"
   ]
  },
  {
   "cell_type": "code",
   "execution_count": 82,
   "id": "9cb21152-97a5-4f38-81f8-685d4870a6c4",
   "metadata": {
    "execution": {
     "iopub.execute_input": "2021-10-05T15:21:11.824109Z",
     "iopub.status.busy": "2021-10-05T15:21:11.823734Z",
     "iopub.status.idle": "2021-10-05T15:21:11.842006Z",
     "shell.execute_reply": "2021-10-05T15:21:11.841393Z",
     "shell.execute_reply.started": "2021-10-05T15:21:11.824081Z"
    },
    "tags": []
   },
   "outputs": [
    {
     "name": "stdout",
     "output_type": "stream",
     "text": [
      " * postgresql://gpadmin@192.168.133.128:32000/db\n",
      "2 rows affected.\n"
     ]
    }
   ],
   "source": [
    "confusion = %sql SELECT \\\n",
    "                        confusion_arr[1] as \"Predicted 0\",\\\n",
    "                        confusion_arr[2] as \"Predicted 1\" \\\n",
    "                        FROM sensors_logreg_test_conf_matrix ORDER BY row_id;\n",
    "\n",
    "confusion=confusion.DataFrame()"
   ]
  },
  {
   "cell_type": "code",
   "execution_count": 83,
   "id": "ef083c54-5cdd-45f1-8398-cceac2f540e9",
   "metadata": {
    "execution": {
     "iopub.execute_input": "2021-10-05T15:21:13.410520Z",
     "iopub.status.busy": "2021-10-05T15:21:13.410271Z",
     "iopub.status.idle": "2021-10-05T15:21:13.591448Z",
     "shell.execute_reply": "2021-10-05T15:21:13.590952Z",
     "shell.execute_reply.started": "2021-10-05T15:21:13.410492Z"
    },
    "tags": []
   },
   "outputs": [
    {
     "data": {
      "image/png": "[encoded data removed]",
      "text/plain": [
       "<Figure size 432x288 with 2 Axes>"
      ]
     },
     "metadata": {
      "needs_background": "light"
     },
     "output_type": "display_data"
    }
   ],
   "source": [
    "plt.title('Confusion Matrix')\n",
    "sns.heatmap(confusion.astype(int),annot=True,cmap=\"YlGnBu\",fmt='d',yticklabels=['True 0','True 1'],annot_kws={\"fontsize\":13});\n",
    "plt.yticks(rotation=0);"
   ]
  },
  {
   "cell_type": "markdown",
   "id": "cef05c60-7e1f-4ca9-b165-133ebdc58272",
   "metadata": {},
   "source": [
    "### ROC"
   ]
  },
  {
   "cell_type": "code",
   "execution_count": 84,
   "id": "4271e0ac-5b93-461d-a4be-323143b9f9fb",
   "metadata": {
    "execution": {
     "iopub.execute_input": "2021-10-05T15:26:10.551685Z",
     "iopub.status.busy": "2021-10-05T15:26:10.551447Z",
     "iopub.status.idle": "2021-10-05T15:26:11.039540Z",
     "shell.execute_reply": "2021-10-05T15:26:11.038883Z",
     "shell.execute_reply.started": "2021-10-05T15:26:10.551659Z"
    },
    "tags": []
   },
   "outputs": [
    {
     "name": "stdout",
     "output_type": "stream",
     "text": [
      " * postgresql://gpadmin@192.168.133.128:32000/db\n",
      "Done.\n",
      "1 rows affected.\n",
      "1 rows affected.\n"
     ]
    },
    {
     "data": {
      "text/html": [
       "<table>\n",
       "    <tr>\n",
       "        <th>area_under_roc</th>\n",
       "    </tr>\n",
       "    <tr>\n",
       "        <td>0.999999970738767296014724484081160804337672330</td>\n",
       "    </tr>\n",
       "</table>"
      ],
      "text/plain": [
       "[(Decimal('0.999999970738767296014724484081160804337672330'),)]"
      ]
     },
     "execution_count": 84,
     "metadata": {},
     "output_type": "execute_result"
    }
   ],
   "source": [
    "%%sql\n",
    "DROP TABLE IF EXISTS sensors_logreg_test_auc;\n",
    "SELECT\n",
    "madlib.area_under_roc(\n",
    "    'sensors_logreg_test_prob', \n",
    "    'sensors_logreg_test_auc', \n",
    "    'pred',  -- predictions, \n",
    "    'y_test'\n",
    ");\n",
    "\n",
    "SELECT * FROM sensors_logreg_test_auc;"
   ]
  },
  {
   "cell_type": "markdown",
   "id": "1decb2ff-ec40-45a3-8b7c-39194807db41",
   "metadata": {},
   "source": [
    "### Linear Regression"
   ]
  },
  {
   "cell_type": "code",
   "execution_count": 86,
   "id": "57934b39-a57f-416b-a567-fe42e73bac15",
   "metadata": {
    "collapsed": true,
    "execution": {
     "iopub.execute_input": "2021-10-05T15:29:35.921190Z",
     "iopub.status.busy": "2021-10-05T15:29:35.920911Z",
     "iopub.status.idle": "2021-10-05T15:29:37.845865Z",
     "shell.execute_reply": "2021-10-05T15:29:37.845244Z",
     "shell.execute_reply.started": "2021-10-05T15:29:35.921160Z"
    },
    "jupyter": {
     "outputs_hidden": true
    },
    "tags": []
   },
   "outputs": [
    {
     "name": "stdout",
     "output_type": "stream",
     "text": [
      " * postgresql://gpadmin@192.168.133.128:32000/db\n",
      "Done.\n",
      "Done.\n",
      "1 rows affected.\n",
      "1 rows affected.\n"
     ]
    },
    {
     "data": {
      "text/html": [
       "<table>\n",
       "    <tr>\n",
       "        <th>coef</th>\n",
       "        <th>r2</th>\n",
       "        <th>std_err</th>\n",
       "        <th>t_stats</th>\n",
       "        <th>p_values</th>\n",
       "        <th>condition_no</th>\n",
       "        <th>bp_stats</th>\n",
       "        <th>bp_p_value</th>\n",
       "        <th>num_rows_processed</th>\n",
       "        <th>num_missing_rows_skipped</th>\n",
       "        <th>variance_covariance</th>\n",
       "    </tr>\n",
       "    <tr>\n",
       "        <td>[13.8290569608607, 1.00132120330787, 0.000620070224672656, -0.000687837245387593, 1.14242185777278, 1.15870975767609, 1.14047218639094, 1.13590546107977, 1.16595450670519, 1.20515870590621, 1.12360198366909, 1.19741490116385, 1.10379848248854, 1.16458210315074, 1.11064610831375, 1.18039090647682]</td>\n",
       "        <td>0.0852803991462855</td>\n",
       "        <td>[0.262153408175241, 0.0087782631885164, 0.000534151110961869, 0.000524850433127062, 0.0343288570600741, 0.0354442981680279, 0.0344342756822038, 0.0343897113168115, 0.0340617220765735, 0.0343348401210223, 0.0341770344654323, 0.0340348775472282, 0.034569934656514, 0.0342216442640082, 0.0344364018464563, 0.0341855106823175]</td>\n",
       "        <td>[52.7517725484478, 114.068259495544, 1.16085169898097, -1.31053954035906, 33.2787618234299, 32.6910058194152, 33.1202606645899, 33.0303866355656, 34.230638840985, 35.1001694389227, 32.8759355878445, 35.1819952782926, 31.9294350265874, 34.0305712421762, 32.2520951307823, 34.5289826864393]</td>\n",
       "        <td>[0.0, 0.0, 0.245704193881602, 0.190015527233267, 6.95093191252978e-242, 1.60125935920798e-233, 1.29291573557814e-239, 2.47581032811364e-238, 9.74036269887435e-256, 9.96442655516859e-269, 3.88262479743245e-236, 5.74884009365129e-270, 6.63685866749574e-223, 8.55400304233653e-253, 2.25743086171718e-227, 3.69472395532367e-260]</td>\n",
       "        <td>20799188760.8535</td>\n",
       "        <td>18.9536419697099</td>\n",
       "        <td>0.215842295899762</td>\n",
       "        <td>140000</td>\n",
       "        <td>0</td>\n",
       "        <td>[[0.0687244094178944, -0.00225412214306021, -1.36303799947794e-05, -1.66011200034094e-05, 0.00572267351493218, 0.00572486249149746, 0.00574940791756679, 0.00568555896878587, 0.00569357941164927, 0.00567832686582094, 0.00572772574562499, 0.00572148984180596, 0.00577321409895551, 0.00575782308839032, 0.00573637908143917, 0.00575336839107966], [-0.00225412214306021, 7.70579046068622e-05, 1.07294135743132e-08, -2.57917029454287e-07, -0.000187750667452256, -0.000187727545545775, -0.000188444024861017, -0.000186507468458043, -0.00018698285360524, -0.000186237460337091, -0.000187903050704282, -0.00018775093509588, -0.000189367890355324, -0.000188713876974076, -0.000187943365947683, -0.000188793003712182], [-1.36303799947794e-05, 1.07294135743132e-08, 2.85317409341798e-07, 1.57708867982754e-09, -1.0830770926591e-06, -1.15208825158932e-06, -1.15132639156582e-06, -1.13184453255406e-06, -1.0909542015695e-06, -1.15320682649508e-06, -1.16874474177537e-06, -1.16243598525434e-06, -1.12155288276915e-06, -1.14056778949329e-06, -1.18105953346974e-06, -1.09352176551581e-06], [-1.66011200034094e-05, -2.57917029454287e-07, 1.57708867982753e-09, 2.75467977153665e-07, -1.39618939224693e-06, -1.31103709580701e-06, -1.4286337598922e-06, -1.35513484859315e-06, -1.33302522069414e-06, -1.35507996757136e-06, -1.36917858988368e-06, -1.36173987813309e-06, -1.39891157736561e-06, -1.45623341353846e-06, -1.43061280868125e-06, -1.40534345091878e-06], [0.00572267351493218, -0.000187750667452256, -1.0830770926591e-06, -1.39618939224693e-06, 0.001178470427051, 0.000405498361038845, 0.000415014980955872, 0.000408940326317573, 0.000411993541436631, 0.000408591692760767, 0.000414605393414262, 0.000414952441783093, 0.000416464569571356, 0.000417321053952589, 0.000413692733310514, 0.000417127993310931], [0.00572486249149746, -0.000187727545545775, -1.15208825158932e-06, -1.31103709580701e-06, 0.000405498361038845, 0.00125629827262407, 0.000407440935282487, 0.000401387118910969, 0.000404436610051092, 0.000401044079361349, 0.000407054875304329, 0.000407402915514076, 0.00040889126432735, 0.000409735409524971, 0.000406126004764282, 0.000409546644763797], [0.00574940791756679, -0.000188444024861017, -1.15132639156582e-06, -1.4286337598922e-06, 0.000415014980955872, 0.000407440935282487, 0.00118571934175801, 0.000410872151500551, 0.000413917320929537, 0.000410526065019893, 0.000416560860867879, 0.000416904047988166, 0.000418426266150614, 0.000419288318788054, 0.000415659203618588, 0.000419078424678266], [0.00568555896878587, -0.000186507468458043, -1.13184453255406e-06, -1.35513484859315e-06, 0.000408940326317573, 0.000401387118910969, 0.00041087215150055, 0.00118265224445363, 0.000407880558052854, 0.000404498249014849, 0.000410484458672822, 0.0004108341934875, 0.000412306089742413, 0.000413167286826479, 0.000409563070917936, 0.000412973220859748], [0.00569357941164927, -0.00018698285360524, -1.0909542015695e-06, -1.33302522069414e-06, 0.000411993541436631, 0.000404436610051092, 0.000413917320929537, 0.000407880558052854, 0.00116020091082174, 0.000407535472339248, 0.000413528313132935, 0.000413878596641761, 0.000415363205983911, 0.000416213560512349, 0.00041260086358472, 0.000416030458133884], [0.00567832686582094, -0.000186237460337091, -1.15320682649508e-06, -1.35507996757136e-06, 0.000408591692760767, 0.000401044079361349, 0.000410526065019893, 0.000404498249014849, 0.000407535472339248, 0.00117888124613617, 0.000410141821105452, 0.00041049164844104, 0.00041195462731725, 0.000412819332734022, 0.000409220973536832, 0.000412621658025562], [0.00572772574562499, -0.000187903050704282, -1.16874474177537e-06, -1.36917858988368e-06, 0.000414605393414262, 0.000407054875304329, 0.000416560860867879, 0.000410484458672822, 0.000413528313132935, 0.000410141821105452, 0.00116806968485135, 0.000416507122925943, 0.00041800590074119, 0.000418861419672962, 0.000415246556163258, 0.000418659338743826], [0.00572148984180596, -0.00018775093509588, -1.16243598525434e-06, -1.36173987813309e-06, 0.000414952441783093, 0.000407402915514076, 0.000416904047988166, 0.0004108341934875, 0.000413878596641761, 0.00041049164844104, 0.000416507122925944, 0.00115837288965482, 0.00041834868552713, 0.000419203488960212, 0.000415590070947983, 0.000419003739905476], [0.0057732140989555, -0.000189367890355324, -1.12155288276915e-06, -1.39891157736561e-06, 0.000416464569571356, 0.00040889126432735, 0.000418426266150614, 0.000412306089742413, 0.000415363205983911, 0.00041195462731725, 0.00041800590074119, 0.00041834868552713, 0.00119508038215565, 0.000420737378919353, 0.000417097510500129, 0.000420538217990173], [0.00575782308839032, -0.000188713876974076, -1.14056778949329e-06, -1.45623341353846e-06, 0.000417321053952589, 0.000409735409524971, 0.000419288318788054, 0.000413167286826479, 0.000416213560512349, 0.000412819332734022, 0.000418861419672962, 0.000419203488960212, 0.000420737378919353, 0.00117112093613233, 0.000417965835122665, 0.000421389067215399], [0.00573637908143917, -0.000187943365947683, -1.18105953346974e-06, -1.43061280868125e-06, 0.000413692733310514, 0.000406126004764282, 0.000415659203618587, 0.000409563070917936, 0.00041260086358472, 0.000409220973536832, 0.000415246556163258, 0.000415590070947983, 0.000417097510500129, 0.000417965835122665, 0.00118586577213062, 0.00041775048681284], [0.00575336839107966, -0.000188793003712182, -1.09352176551581e-06, -1.40534345091878e-06, 0.000417127993310931, 0.000409546644763797, 0.000419078424678266, 0.000412973220859748, 0.000416030458133884, 0.000412621658025562, 0.000418659338743826, 0.000419003739905476, 0.000420538217990173, 0.000421389067215399, 0.00041775048681284, 0.00116864914061084]]</td>\n",
       "    </tr>\n",
       "</table>"
      ],
      "text/plain": [
       "[([13.8290569608607, 1.00132120330787, 0.000620070224672656, -0.000687837245387593, 1.14242185777278, 1.15870975767609, 1.14047218639094, 1.13590546107977, 1.16595450670519, 1.20515870590621, 1.12360198366909, 1.19741490116385, 1.10379848248854, 1.16458210315074, 1.11064610831375, 1.18039090647682], 0.0852803991462855, [0.262153408175241, 0.0087782631885164, 0.000534151110961869, 0.000524850433127062, 0.0343288570600741, 0.0354442981680279, 0.0344342756822038, 0.0343 ... (22 characters truncated) ... 7220765735, 0.0343348401210223, 0.0341770344654323, 0.0340348775472282, 0.034569934656514, 0.0342216442640082, 0.0344364018464563, 0.0341855106823175], [52.7517725484478, 114.068259495544, 1.16085169898097, -1.31053954035906, 33.2787618234299, 32.6910058194152, 33.1202606645899, 33.0303866355656, 34.230638840985, 35.1001694389227, 32.8759355878445, 35.1819952782926, 31.9294350265874, 34.0305712421762, 32.2520951307823, 34.5289826864393], [0.0, 0.0, 0.245704193881602, 0.190015527233267, 6.95093191252978e-242, 1.60125935920798e-233, 1.29291573557814e-239, 2.47581032811364e-238, 9.7403626 ... (24 characters truncated) ... 516859e-269, 3.88262479743245e-236, 5.74884009365129e-270, 6.63685866749574e-223, 8.55400304233653e-253, 2.25743086171718e-227, 3.69472395532367e-260], 20799188760.8535, 18.9536419697099, 0.215842295899762, 140000, 0, [[0.0687244094178944, -0.00225412214306021, -1.36303799947794e-05, -1.66011200034094e-05, 0.00572267351493218, 0.00572486249149746, 0.0057494079175667 ... (5372 characters truncated) ... 000412621658025562, 0.000418659338743826, 0.000419003739905476, 0.000420538217990173, 0.000421389067215399, 0.00041775048681284, 0.00116864914061084]])]"
      ]
     },
     "execution_count": 86,
     "metadata": {},
     "output_type": "execute_result"
    }
   ],
   "source": [
    "%%sql\n",
    "DROP TABLE IF EXISTS sensors_linreg_model;\n",
    "DROP TABLE IF EXISTS sensors_linreg_model_summary;\n",
    "\n",
    "SELECT madlib.linregr_train(\n",
    "    'sensors_split_train',   -- source_table\n",
    "    'sensors_linreg_model',  -- out_table\n",
    "    'temperature_2',         -- labels\n",
    "    'ARRAY[\n",
    "        1,\n",
    "        temperature,\n",
    "        humidity,pm25,\n",
    "        \"month_January\",\"month_February\",\"month_March\",\n",
    "        \"month_April\",\"month_May\",\"month_June\",\n",
    "        \"month_July\",\"month_August\",\"month_September\",\n",
    "        \"month_October\",\"month_November\",\"month_December\"]',       -- feature\n",
    "    NULL,  -- grouping_cols\n",
    "    TRUE  -- heteroskedasticity_option\n",
    ");\n",
    "\n",
    "SELECT * FROM sensors_linreg_model LIMIT 10;"
   ]
  },
  {
   "cell_type": "code",
   "execution_count": 92,
   "id": "f5c0bed4-5c3e-4928-b6b8-b5dcb38e994a",
   "metadata": {
    "execution": {
     "iopub.execute_input": "2021-10-05T15:40:58.112872Z",
     "iopub.status.busy": "2021-10-05T15:40:58.112664Z",
     "iopub.status.idle": "2021-10-05T15:40:59.024341Z",
     "shell.execute_reply": "2021-10-05T15:40:59.023648Z",
     "shell.execute_reply.started": "2021-10-05T15:40:58.112850Z"
    },
    "tags": []
   },
   "outputs": [
    {
     "name": "stdout",
     "output_type": "stream",
     "text": [
      " * postgresql://gpadmin@192.168.133.128:32000/db\n",
      "Done.\n",
      "60000 rows affected.\n",
      "5 rows affected.\n"
     ]
    },
    {
     "data": {
      "text/html": [
       "<table>\n",
       "    <tr>\n",
       "        <th>prediction</th>\n",
       "        <th>y_test</th>\n",
       "    </tr>\n",
       "    <tr>\n",
       "        <td>47.9130473211639</td>\n",
       "        <td>50.998211798989</td>\n",
       "    </tr>\n",
       "    <tr>\n",
       "        <td>47.246891685789</td>\n",
       "        <td>45.46335266306</td>\n",
       "    </tr>\n",
       "    <tr>\n",
       "        <td>48.3954603823764</td>\n",
       "        <td>43.5931287800048</td>\n",
       "    </tr>\n",
       "    <tr>\n",
       "        <td>45.813928129998</td>\n",
       "        <td>51.0824590280718</td>\n",
       "    </tr>\n",
       "    <tr>\n",
       "        <td>48.3401670475287</td>\n",
       "        <td>53.152989600203</td>\n",
       "    </tr>\n",
       "</table>"
      ],
      "text/plain": [
       "[(47.9130473211639, 50.998211798989),\n",
       " (47.246891685789, 45.46335266306),\n",
       " (48.3954603823764, 43.5931287800048),\n",
       " (45.813928129998, 51.0824590280718),\n",
       " (48.3401670475287, 53.152989600203)]"
      ]
     },
     "execution_count": 92,
     "metadata": {},
     "output_type": "execute_result"
    }
   ],
   "source": [
    "%%sql\n",
    "DROP TABLE IF EXISTS sensors_linreg_test_predict;\n",
    "\n",
    "CREATE TABLE sensors_linreg_test_predict\n",
    "AS\n",
    "SELECT \n",
    "    madlib.linregr_predict(\n",
    "        coef, \n",
    "        ARRAY[\n",
    "            1,\n",
    "            temperature,\n",
    "            humidity,pm25,\n",
    "            \"month_January\",\"month_February\",\"month_March\",\n",
    "            \"month_April\",\"month_May\",\"month_June\",\n",
    "            \"month_July\",\"month_August\",\"month_September\",\n",
    "            \"month_October\",\"month_November\",\"month_December\"\n",
    "            ] \n",
    "    ) as prediction,\n",
    "    test.temperature_2 as y_test\n",
    "FROM sensors_split_test test, sensors_linreg_model model;\n",
    "\n",
    "SELECT * FROM sensors_linreg_test_predict LIMIT 5;"
   ]
  },
  {
   "cell_type": "code",
   "execution_count": 94,
   "id": "781f0732-1068-4748-9e8b-945509786b20",
   "metadata": {
    "execution": {
     "iopub.execute_input": "2021-10-05T15:41:19.926917Z",
     "iopub.status.busy": "2021-10-05T15:41:19.926653Z",
     "iopub.status.idle": "2021-10-05T15:41:20.204076Z",
     "shell.execute_reply": "2021-10-05T15:41:20.203355Z",
     "shell.execute_reply.started": "2021-10-05T15:41:19.926885Z"
    },
    "tags": []
   },
   "outputs": [
    {
     "name": "stdout",
     "output_type": "stream",
     "text": [
      " * postgresql://gpadmin@192.168.133.128:32000/db\n",
      "Done.\n",
      "1 rows affected.\n",
      "1 rows affected.\n"
     ]
    },
    {
     "data": {
      "text/html": [
       "<table>\n",
       "    <tr>\n",
       "        <th>mean_squared_error</th>\n",
       "    </tr>\n",
       "    <tr>\n",
       "        <td>9.02218796790964</td>\n",
       "    </tr>\n",
       "</table>"
      ],
      "text/plain": [
       "[(9.02218796790964,)]"
      ]
     },
     "execution_count": 94,
     "metadata": {},
     "output_type": "execute_result"
    }
   ],
   "source": [
    "%%sql\n",
    "DROP TABLE IF EXISTS sensors_linreg_test_predict_mse;\n",
    "\n",
    "SELECT madlib.mean_squared_error(\n",
    "    'sensors_linreg_test_predict',      -- table_in\n",
    "    'sensors_linreg_test_predict_mse',  -- table_out\n",
    "    'prediction',  -- prediction\n",
    "    'y_test'  -- y_test\n",
    ");\n",
    "\n",
    "SELECT * FROM sensors_linreg_test_predict_mse;"
   ]
  },
  {
   "cell_type": "code",
   "execution_count": 145,
   "id": "840d486f-95f3-4e58-88e5-61502b2bbe5f",
   "metadata": {
    "execution": {
     "iopub.execute_input": "2021-10-05T16:10:21.905430Z",
     "iopub.status.busy": "2021-10-05T16:10:21.905222Z",
     "iopub.status.idle": "2021-10-05T16:10:21.914726Z",
     "shell.execute_reply": "2021-10-05T16:10:21.914116Z",
     "shell.execute_reply.started": "2021-10-05T16:10:21.905409Z"
    },
    "tags": []
   },
   "outputs": [
    {
     "name": "stdout",
     "output_type": "stream",
     "text": [
      " * postgresql://gpadmin@192.168.133.128:32000/db\n",
      "200 rows affected.\n"
     ]
    }
   ],
   "source": [
    "pred = %sql SELECT * FROM sensors_linreg_test_predict LIMIT 200;\n",
    "pred=pred.DataFrame()"
   ]
  },
  {
   "cell_type": "code",
   "execution_count": 146,
   "id": "5a3fcc18-5c07-4e4d-a3bd-fc65e01149b0",
   "metadata": {
    "execution": {
     "iopub.execute_input": "2021-10-05T16:10:22.053640Z",
     "iopub.status.busy": "2021-10-05T16:10:22.053379Z",
     "iopub.status.idle": "2021-10-05T16:10:22.063578Z",
     "shell.execute_reply": "2021-10-05T16:10:22.062895Z",
     "shell.execute_reply.started": "2021-10-05T16:10:22.053612Z"
    },
    "tags": []
   },
   "outputs": [
    {
     "data": {
      "text/html": [
       "<div>\n",
       "<style scoped>\n",
       "    .dataframe tbody tr th:only-of-type {\n",
       "        vertical-align: middle;\n",
       "    }\n",
       "\n",
       "    .dataframe tbody tr th {\n",
       "        vertical-align: top;\n",
       "    }\n",
       "\n",
       "    .dataframe thead th {\n",
       "        text-align: right;\n",
       "    }\n",
       "</style>\n",
       "<table border=\"1\" class=\"dataframe\">\n",
       "  <thead>\n",
       "    <tr style=\"text-align: right;\">\n",
       "      <th></th>\n",
       "      <th>prediction</th>\n",
       "      <th>y_test</th>\n",
       "    </tr>\n",
       "  </thead>\n",
       "  <tbody>\n",
       "    <tr>\n",
       "      <th>0</th>\n",
       "      <td>48.011237</td>\n",
       "      <td>50.484969</td>\n",
       "    </tr>\n",
       "    <tr>\n",
       "      <th>1</th>\n",
       "      <td>46.782641</td>\n",
       "      <td>43.559589</td>\n",
       "    </tr>\n",
       "    <tr>\n",
       "      <th>2</th>\n",
       "      <td>47.255168</td>\n",
       "      <td>52.312498</td>\n",
       "    </tr>\n",
       "    <tr>\n",
       "      <th>3</th>\n",
       "      <td>48.008168</td>\n",
       "      <td>45.144718</td>\n",
       "    </tr>\n",
       "    <tr>\n",
       "      <th>4</th>\n",
       "      <td>45.975739</td>\n",
       "      <td>42.139974</td>\n",
       "    </tr>\n",
       "    <tr>\n",
       "      <th>...</th>\n",
       "      <td>...</td>\n",
       "      <td>...</td>\n",
       "    </tr>\n",
       "    <tr>\n",
       "      <th>195</th>\n",
       "      <td>46.620444</td>\n",
       "      <td>49.780645</td>\n",
       "    </tr>\n",
       "    <tr>\n",
       "      <th>196</th>\n",
       "      <td>46.088552</td>\n",
       "      <td>43.951122</td>\n",
       "    </tr>\n",
       "    <tr>\n",
       "      <th>197</th>\n",
       "      <td>47.363575</td>\n",
       "      <td>42.385181</td>\n",
       "    </tr>\n",
       "    <tr>\n",
       "      <th>198</th>\n",
       "      <td>47.593380</td>\n",
       "      <td>45.062676</td>\n",
       "    </tr>\n",
       "    <tr>\n",
       "      <th>199</th>\n",
       "      <td>47.639798</td>\n",
       "      <td>46.333464</td>\n",
       "    </tr>\n",
       "  </tbody>\n",
       "</table>\n",
       "<p>200 rows × 2 columns</p>\n",
       "</div>"
      ],
      "text/plain": [
       "     prediction     y_test\n",
       "0     48.011237  50.484969\n",
       "1     46.782641  43.559589\n",
       "2     47.255168  52.312498\n",
       "3     48.008168  45.144718\n",
       "4     45.975739  42.139974\n",
       "..          ...        ...\n",
       "195   46.620444  49.780645\n",
       "196   46.088552  43.951122\n",
       "197   47.363575  42.385181\n",
       "198   47.593380  45.062676\n",
       "199   47.639798  46.333464\n",
       "\n",
       "[200 rows x 2 columns]"
      ]
     },
     "execution_count": 146,
     "metadata": {},
     "output_type": "execute_result"
    }
   ],
   "source": [
    "pred"
   ]
  },
  {
   "cell_type": "code",
   "execution_count": 152,
   "id": "b9679c2a-dac2-407d-a881-91b83d111a0b",
   "metadata": {
    "execution": {
     "iopub.execute_input": "2021-10-05T16:11:20.459676Z",
     "iopub.status.busy": "2021-10-05T16:11:20.459429Z",
     "iopub.status.idle": "2021-10-05T16:11:20.801902Z",
     "shell.execute_reply": "2021-10-05T16:11:20.801300Z",
     "shell.execute_reply.started": "2021-10-05T16:11:20.459649Z"
    },
    "tags": []
   },
   "outputs": [
    {
     "data": {
      "image/png": "[encoded data removed]",
      "text/plain": [
       "<Figure size 720x360 with 1 Axes>"
      ]
     },
     "metadata": {
      "needs_background": "light"
     },
     "output_type": "display_data"
    }
   ],
   "source": [
    "sns.lmplot(x='prediction',y='y_test',data=pred,height=5,aspect=2)\n",
    "plt.title(\"Prediction , y_test scatterplot\") \n",
    "plt.ylim(30,70);\n"
   ]
  }
 ],
 "metadata": {
  "kernelspec": {
   "display_name": "Python 3",
   "language": "python",
   "name": "python3"
  },
  "language_info": {
   "codemirror_mode": {
    "name": "ipython",
    "version": 3
   },
   "file_extension": ".py",
   "mimetype": "text/x-python",
   "name": "python",
   "nbconvert_exporter": "python",
   "pygments_lexer": "ipython3",
   "version": "3.6.13"
  }
 },
 "nbformat": 4,
 "nbformat_minor": 5
}
